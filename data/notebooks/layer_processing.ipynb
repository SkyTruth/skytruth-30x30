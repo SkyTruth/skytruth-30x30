{
 "cells": [
  {
   "cell_type": "code",
   "execution_count": 6,
   "id": "4767b153-6a59-4855-9b29-77284caebc45",
   "metadata": {},
   "outputs": [],
   "source": [
    "from pathlib import Path\n",
    "import sys\n",
    "import os\n",
    "import geopandas as gpd\n",
    "import pandas as pd\n",
    "\n",
    "scripts_dir = Path(\"..\").joinpath(\"src\")\n",
    "if scripts_dir not in sys.path:\n",
    "    sys.path.insert(0, scripts_dir.resolve().as_posix())\n",
    "from mapshaper import Mapshaper\n",
    "from tippcanoe import mbtileGeneration\n",
    "from mapbox_uploader import uploadToMapbox\n",
    "from pipelines.utils import load_regions"
   ]
  },
  {
   "cell_type": "code",
   "execution_count": 7,
   "id": "469cb57d",
   "metadata": {},
   "outputs": [],
   "source": [
    "source_dir = Path(\"..\").joinpath(\"data\", \"map_layer_sources\").resolve()\n",
    "file = source_dir.joinpath(\"./merged_mpa_all.json\")\n",
    "tileset = source_dir.joinpath(\"./merged_mpa_all.mbtiles\")"
   ]
  },
  {
   "cell_type": "code",
   "execution_count": 3,
   "id": "e305fd88",
   "metadata": {},
   "outputs": [
    {
     "name": "stdout",
     "output_type": "stream",
     "text": [
      "mapshaper-xl 16gb -i /home/mambauser/data/map_layer_sources/merged_mpa_all.shp  -filter-fields fields=WDPAID,NAME,PA_DEF,REP_M_AREA,PARENT_ISO -clean allow-overlaps rewind -simplify dp 10% keep-shapes planar -clean allow-overlaps -o /home/mambauser/data/map_layer_sources/merged_mpa_all_simp.json force format=geojson\n"
     ]
    }
   ],
   "source": [
    "Mapshaper(16).input([source_dir.joinpath(\"merged_mpa_all.shp\").as_posix()]\n",
    "                   ).filter_fields(fields=\"WDPAID,NAME,PA_DEF,REP_M_AREA,PARENT_ISO\"\n",
    "                                  ).clean(allow_overlaps=True, rewind=True).simplify(\n",
    "                                        \"dp 10% keep-shapes planar\"\n",
    "                                    ).clean(allow_overlaps=True).output(\n",
    "                                        source_dir.joinpath(\"merged_mpa_all_simp.json\").as_posix(), force=True, format=\"geojson\"\n",
    ").debug()"
   ]
  },
  {
   "cell_type": "code",
   "execution_count": 4,
   "id": "dcafaabd-0363-4cf8-a9fe-930e0e67a671",
   "metadata": {},
   "outputs": [
    {
     "ename": "FileNotFoundError",
     "evalue": "Data path does not exist.",
     "output_type": "error",
     "traceback": [
      "\u001b[0;31m---------------------------------------------------------------------------\u001b[0m",
      "\u001b[0;31mFileNotFoundError\u001b[0m                         Traceback (most recent call last)",
      "\u001b[1;32m/home/alicitita/Projects/skytruth-30x30/data/notebooks/layer_processing.ipynb Cell 4\u001b[0m line \u001b[0;36m1\n\u001b[0;32m----> <a href='vscode-notebook-cell:/home/alicitita/Projects/skytruth-30x30/data/notebooks/layer_processing.ipynb#W5sZmlsZQ%3D%3D?line=0'>1</a>\u001b[0m mbtileGeneration(file)\n",
      "File \u001b[0;32m~/src/tippcanoe.py:81\u001b[0m, in \u001b[0;36mmbtileGeneration\u001b[0;34m(data_path, output_path, update, **kwargs)\u001b[0m\n\u001b[1;32m     78\u001b[0m     \u001b[39mreturn\u001b[39;00m output_path\n\u001b[1;32m     80\u001b[0m \u001b[39mexcept\u001b[39;00m \u001b[39mException\u001b[39;00m \u001b[39mas\u001b[39;00m e:\n\u001b[0;32m---> 81\u001b[0m     \u001b[39mraise\u001b[39;00m e\n",
      "File \u001b[0;32m~/src/tippcanoe.py:64\u001b[0m, in \u001b[0;36mmbtileGeneration\u001b[0;34m(data_path, output_path, update, **kwargs)\u001b[0m\n\u001b[1;32m     62\u001b[0m \u001b[39mtry\u001b[39;00m:\n\u001b[1;32m     63\u001b[0m     \u001b[39mif\u001b[39;00m \u001b[39mnot\u001b[39;00m data_path\u001b[39m.\u001b[39mexists():\n\u001b[0;32m---> 64\u001b[0m         \u001b[39mraise\u001b[39;00m \u001b[39mFileNotFoundError\u001b[39;00m(\u001b[39m\"\u001b[39m\u001b[39mData path does not exist.\u001b[39m\u001b[39m\"\u001b[39m)\n\u001b[1;32m     66\u001b[0m     \u001b[39mif\u001b[39;00m \u001b[39mnot\u001b[39;00m output_path:\n\u001b[1;32m     67\u001b[0m         output_path \u001b[39m=\u001b[39m data_path\u001b[39m.\u001b[39mwith_suffix(\u001b[39m\"\u001b[39m\u001b[39m.mbtiles\u001b[39m\u001b[39m\"\u001b[39m)\n",
      "\u001b[0;31mFileNotFoundError\u001b[0m: Data path does not exist."
     ]
    }
   ],
   "source": [
    "mbtileGeneration(file)"
   ]
  },
  {
   "cell_type": "code",
   "execution_count": null,
   "id": "69db2890-24e7-42bd-845e-7a92743d8d27",
   "metadata": {},
   "outputs": [
    {
     "name": "stdout",
     "output_type": "stream",
     "text": [
      "upload: ../data/map_layer_sources/merged_mpa_all.mbtiles to s3://tilestream-tilesets-production/71/_pending/rgtjc2em7tn1bcm24tqf2yolc/skytruth\n"
     ]
    },
    {
     "name": "stderr",
     "output_type": "stream",
     "text": [
      "Linking tileset to Mapbox: 100%|██████████| 100/100 [05:40<00:00,  3.41s/it]\n"
     ]
    },
    {
     "data": {
      "text/plain": [
       "True"
      ]
     },
     "execution_count": 4,
     "metadata": {},
     "output_type": "execute_result"
    }
   ],
   "source": [
    "uploadToMapbox(\n",
    "    tileset,\n",
    "    \"mpas_wdpa\",\n",
    "    os.environ[\"MAPBOX_USER\"],\n",
    "    os.environ[\"MAPBOX_TOKEN\"],\n",
    ")"
   ]
  },
  {
   "cell_type": "code",
   "execution_count": null,
   "id": "b693da71",
   "metadata": {},
   "outputs": [],
   "source": [
    "regions_df = pd.DataFrame(\n",
    "    [\n",
    "        {\"region_id\": data[\"region_iso\"], \"location_id\": iso}\n",
    "        for data in load_regions().get(\"data\", [])\n",
    "        for iso in data[\"country_iso_3s\"]\n",
    "    ]\n",
    ")"
   ]
  },
  {
   "cell_type": "code",
   "execution_count": null,
   "id": "27fb9954",
   "metadata": {},
   "outputs": [],
   "source": [
    "eez_dir = Path(\"..\").joinpath(\"data\", \"eez_intermediate\", \"eez_intermediate\").resolve()\n",
    "eez_data = gpd.read_file(eez_dir.joinpath(\"eez_intermediate.shp\").as_posix())"
   ]
  },
  {
   "cell_type": "code",
   "execution_count": null,
   "id": "6c9a7f49",
   "metadata": {},
   "outputs": [
    {
     "name": "stderr",
     "output_type": "stream",
     "text": [
      "/tmp/ipykernel_431/274243943.py:1: UserWarning: Column names longer than 10 characters will be truncated when saved to ESRI Shapefile.\n",
      "  gpd.GeoDataFrame(\n"
     ]
    }
   ],
   "source": [
    "gpd.GeoDataFrame(\n",
    "    pd.merge(\n",
    "        eez_data,\n",
    "        regions_df,\n",
    "        how=\"left\",\n",
    "        left_on=\"ISO_SOV1\",\n",
    "        right_on=\"location_id\",\n",
    "        sort=True,\n",
    "        copy=True,\n",
    "    ),\n",
    "    crs=eez_data.crs,\n",
    ").to_file(filename=eez_dir.joinpath(\"eez_intermediate_regions.shp\").as_posix(), driver=\"ESRI Shapefile\")"
   ]
  },
  {
   "cell_type": "code",
   "execution_count": null,
   "id": "fb20f8f9",
   "metadata": {},
   "outputs": [
    {
     "name": "stderr",
     "output_type": "stream",
     "text": [
      "Allocating 16 GB of heap memory\n",
      "[dissolve2] Dissolved 282 features into 8 features\n",
      "[o] Wrote /home/mambauser/data/eez_intermediate/eez_intermediate/regions.json\n"
     ]
    },
    {
     "data": {
      "text/plain": [
       "CompletedProcess(args='mapshaper-xl 16gb -i /home/mambauser/data/eez_intermediate/eez_intermediate/eez_intermediate_regions.shp  -dissolve2 fields=region_id -o /home/mambauser/data/eez_intermediate/eez_intermediate/regions.json force format=geojson', returncode=0)"
      ]
     },
     "execution_count": 20,
     "metadata": {},
     "output_type": "execute_result"
    }
   ],
   "source": [
    "Mapshaper(16).input([eez_dir.joinpath(\"eez_intermediate_regions.shp\").as_posix()]).dissolve2(\n",
    "    fields=\"region_id\"\n",
    ").output(eez_dir.joinpath(\"regions.json\").as_posix(), force=True, format=\"geojson\").execute()"
   ]
  },
  {
   "cell_type": "code",
   "execution_count": null,
   "id": "f75657d3",
   "metadata": {},
   "outputs": [
    {
     "name": "stderr",
     "output_type": "stream",
     "text": [
      "For layer 0, using name \"regions\"\n",
      "/home/mambauser/data/eez_intermediate/eez_intermediate/regions.json:2: Found ] at top level\n",
      "/home/mambauser/data/eez_intermediate/eez_intermediate/regions.json:3: Reached EOF without all containers being closed\n",
      "In JSON object {\"type\":\"FeatureCollection\",\"features\":[]}\n",
      "8 features, 60659758 bytes of geometry, 40 bytes of separate metadata, 85 bytes of string pool\n",
      "Choosing a maxzoom of -z0 for features about 26898822 feet (8198761 meters) apart\n",
      "Choosing a maxzoom of -z9 for resolution of about 901 feet (274 meters) within features\n",
      "  99.9%  9/95/295   \n"
     ]
    },
    {
     "data": {
      "text/plain": [
       "PosixPath('/home/mambauser/data/eez_intermediate/eez_intermediate/regions.mbtiles')"
      ]
     },
     "execution_count": 22,
     "metadata": {},
     "output_type": "execute_result"
    }
   ],
   "source": [
    "mbtileGeneration(eez_dir.joinpath(\"regions.json\"))"
   ]
  },
  {
   "cell_type": "code",
   "execution_count": null,
   "id": "2b2e10ad",
   "metadata": {},
   "outputs": [
    {
     "name": "stdout",
     "output_type": "stream",
     "text": [
      "upload: ../data/eez_intermediate/eez_intermediate/regions.mbtiles to s3://tilestream-tilesets-production/57/_pending/bs3219kj1ot1elh00sc95yolc/skytruth\n"
     ]
    },
    {
     "name": "stderr",
     "output_type": "stream",
     "text": [
      "Linking tileset to Mapbox: 100%|██████████| 100/100 [03:05<00:00,  1.86s/it]\n"
     ]
    },
    {
     "data": {
      "text/plain": [
       "True"
      ]
     },
     "execution_count": 23,
     "metadata": {},
     "output_type": "execute_result"
    }
   ],
   "source": [
    "uploadToMapbox(\n",
    "    eez_dir.joinpath(\"regions.mbtiles\"),\n",
    "    \"regions\",\n",
    "    os.environ[\"MAPBOX_USER\"],\n",
    "    os.environ[\"MAPBOX_TOKEN\"],\n",
    ")"
   ]
  },
  {
   "cell_type": "code",
   "execution_count": 12,
   "id": "2b8d41a9",
   "metadata": {},
   "outputs": [
    {
     "data": {
      "text/plain": [
       "PosixPath('/home/mambauser/data/mpaatlas_intermediate/mpaatlas_intermediate')"
      ]
     },
     "execution_count": 12,
     "metadata": {},
     "output_type": "execute_result"
    }
   ],
   "source": [
    "mpa_atlas = source_dir.parent.joinpath(\"mpaatlas_intermediate\", \"mpaatlas_intermediate\")\n",
    "mpa_atlas"
   ]
  },
  {
   "cell_type": "code",
   "execution_count": 13,
   "id": "396c58ad",
   "metadata": {},
   "outputs": [
    {
     "name": "stderr",
     "output_type": "stream",
     "text": [
      "Allocating 50 GB of heap memory\n",
      "[clean] Retained 511 of 524 features\n",
      "[o] Wrote /home/mambauser/data/mpaatlas_intermediate/mpaatlas_intermediate/mpaatlas_intermediate.json\n",
      "For layer 0, using name \"mpaatlas_intermediate\"\n",
      "/home/mambauser/data/mpaatlas_intermediate/mpaatlas_intermediate/mpaatlas_intermediate.json:43: Reached EOF without all containers being closed\n",
      "In JSON object {\"type\":\"FeatureCollection\",\"features\":[]}\n",
      "/home/mambauser/data/mpaatlas_intermediate/mpaatlas_intermediate/mpaatlas_intermediate.json:20: Found ] at top level\n",
      "511 features, 32444137 bytes of geometry, 11240 bytes of separate metadata, 27786 bytes of string pool\n",
      "Choosing a maxzoom of -z0 for features about 521726 feet (159022 meters) apart\n",
      "Choosing a maxzoom of -z12 for resolution of about 97 feet (29 meters) within features\n",
      "  99.9%  12/1378/3481  \n"
     ]
    },
    {
     "data": {
      "text/plain": [
       "PosixPath('/home/mambauser/data/mpaatlas_intermediate/mpaatlas_intermediate/mpaatlas_intermediate.mbtiles')"
      ]
     },
     "execution_count": 13,
     "metadata": {},
     "output_type": "execute_result"
    }
   ],
   "source": [
    "mbtileGeneration(mpa_atlas.joinpath(\"mpaatlas_intermediate.shp\"))"
   ]
  },
  {
   "cell_type": "code",
   "execution_count": 14,
   "id": "1adeaa97",
   "metadata": {},
   "outputs": [
    {
     "name": "stdout",
     "output_type": "stream",
     "text": [
      "upload: ../data/mpaatlas_intermediate/mpaatlas_intermediate/mpaatlas_intermediate.mbtiles to s3://tilestream-tilesets-production/43/_pending/23ii4osj9qn1ppy2c6aehzolc/skytruth\n"
     ]
    },
    {
     "name": "stderr",
     "output_type": "stream",
     "text": [
      "Linking tileset to Mapbox: 100%|██████████| 100/100 [05:51<00:00,  3.51s/it]\n"
     ]
    },
    {
     "data": {
      "text/plain": [
       "True"
      ]
     },
     "execution_count": 14,
     "metadata": {},
     "output_type": "execute_result"
    }
   ],
   "source": [
    "uploadToMapbox(\n",
    "    mpa_atlas.joinpath(\"mpaatlas_intermediate.mbtiles\"),\n",
    "    \"mpa_atlas\",\n",
    "    os.environ[\"MAPBOX_USER\"],\n",
    "    os.environ[\"MAPBOX_TOKEN\"],\n",
    ")"
   ]
  },
  {
   "cell_type": "code",
   "execution_count": 15,
   "id": "a3ece83e",
   "metadata": {},
   "outputs": [],
   "source": [
    "protectedSeas = Path(\"..\").joinpath(\"data\", \"ProtectedSeas\").resolve()"
   ]
  },
  {
   "cell_type": "code",
   "execution_count": 16,
   "id": "dfe6e373",
   "metadata": {},
   "outputs": [
    {
     "name": "stderr",
     "output_type": "stream",
     "text": [
      "Allocating 16 GB of heap memory\n",
      "[clean] Retained 10,879 of 10,879 features\n",
      "[simplify] Repaired 110,498 intersections; 22,095 intersections could not be repaired\n",
      "[clean] Retained 10,879 of 10,879 features\n",
      "[o] Wrote /home/mambauser/data/ProtectedSeas/protectedseas.json\n"
     ]
    },
    {
     "data": {
      "text/plain": [
       "CompletedProcess(args='mapshaper-xl 16gb -i /home/mambauser/data/ProtectedSeas/protectedseas.shp  -clean allow-overlaps rewind -simplify dp 10% keep-shapes planar -clean allow-overlaps -o /home/mambauser/data/ProtectedSeas/protectedseas.json force format=geojson', returncode=0)"
      ]
     },
     "execution_count": 16,
     "metadata": {},
     "output_type": "execute_result"
    }
   ],
   "source": [
    "Mapshaper(16).input([protectedSeas.joinpath(\"protectedseas.shp\").as_posix()]).clean(\n",
    "    allow_overlaps=True, rewind=True\n",
    ").simplify(\"dp 10% keep-shapes planar\").clean(allow_overlaps=True).output(\n",
    "    protectedSeas.joinpath(\"protectedseas.json\").as_posix(), force=True, format=\"geojson\"\n",
    ").execute()"
   ]
  },
  {
   "cell_type": "code",
   "execution_count": 17,
   "id": "8cc10209",
   "metadata": {},
   "outputs": [
    {
     "name": "stderr",
     "output_type": "stream",
     "text": [
      "For layer 0, using name \"protectedseas\"\n",
      "/home/mambauser/data/ProtectedSeas/protectedseas.json:967: Reached EOF without all containers being closed\n",
      "In JSON object {\"type\":\"FeatureCollection\",\"features\":[]}\n",
      "/home/mambauser/data/ProtectedSeas/protectedseas.json:378: Found ] at top level\n",
      "10879 features, 31016278 bytes of geometry, 377536 bytes of separate metadata, 766016 bytes of string pool\n",
      "Choosing a maxzoom of -z3 for features about 58402 feet (17801 meters) apart\n",
      "Choosing a maxzoom of -z11 for resolution of about 245 feet (74 meters) within features\n",
      "  99.9%  11/183/597    \n"
     ]
    },
    {
     "data": {
      "text/plain": [
       "PosixPath('/home/mambauser/data/ProtectedSeas/protectedseas.mbtiles')"
      ]
     },
     "execution_count": 17,
     "metadata": {},
     "output_type": "execute_result"
    }
   ],
   "source": [
    "mbtileGeneration(protectedSeas.joinpath(\"protectedseas.json\"))"
   ]
  },
  {
   "cell_type": "code",
   "execution_count": 18,
   "id": "9cb8a3e6",
   "metadata": {},
   "outputs": [
    {
     "name": "stdout",
     "output_type": "stream",
     "text": [
      "upload: ../data/ProtectedSeas/protectedseas.mbtiles to s3://tilestream-tilesets-production/86/_pending/uga5xrvzspo15013gnpttzolc/skytruth\n"
     ]
    },
    {
     "name": "stderr",
     "output_type": "stream",
     "text": [
      "Linking tileset to Mapbox: 100%|██████████| 100/100 [03:52<00:00,  2.32s/it]\n"
     ]
    },
    {
     "data": {
      "text/plain": [
       "True"
      ]
     },
     "execution_count": 18,
     "metadata": {},
     "output_type": "execute_result"
    }
   ],
   "source": [
    "uploadToMapbox(\n",
    "    protectedSeas.joinpath(\"protectedseas.mbtiles\"),\n",
    "    \"protected_seas\",\n",
    "    os.environ[\"MAPBOX_USER\"],\n",
    "    os.environ[\"MAPBOX_TOKEN\"],\n",
    ")"
   ]
  }
 ],
 "metadata": {
  "kernelspec": {
   "display_name": "Python 3 (ipykernel)",
   "language": "python",
   "name": "python3"
  },
  "language_info": {
   "codemirror_mode": {
    "name": "ipython",
    "version": 3
   },
   "file_extension": ".py",
   "mimetype": "text/x-python",
   "name": "python",
   "nbconvert_exporter": "python",
   "pygments_lexer": "ipython3",
   "version": "3.10.13"
  }
 },
 "nbformat": 4,
 "nbformat_minor": 5
}
