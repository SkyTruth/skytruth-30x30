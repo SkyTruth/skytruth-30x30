{
 "cells": [
  {
   "cell_type": "code",
   "execution_count": 1,
   "id": "4767b153-6a59-4855-9b29-77284caebc45",
   "metadata": {},
   "outputs": [],
   "source": [
    "from pathlib import Path\n",
    "import sys\n",
    "import os\n",
    "import geopandas as gpd\n",
    "import pandas as pd\n",
    "\n",
    "scripts_dir = Path(\"..\").joinpath(\"src\")\n",
    "if scripts_dir not in sys.path:\n",
    "    sys.path.insert(0, scripts_dir.resolve().as_posix())\n",
    "from helpers.mapshaper import Mapshaper\n",
    "from helpers.tippcanoe import mbtileGeneration\n",
    "from helpers.mapbox_uploader import uploadToMapbox\n",
    "from data_commons.loader import load_regions"
   ]
  },
  {
   "cell_type": "code",
   "execution_count": 2,
   "id": "469cb57d",
   "metadata": {
    "metadata": {}
   },
   "outputs": [],
   "source": [
    "source_dir = Path(\"..\").joinpath(\"data\", \"mpa_intermediate\").resolve()\n",
    "file = source_dir.joinpath(\"./merged_mpa_all.json\")\n",
    "tileset = source_dir.joinpath(\"./merged_mpa_all.mbtiles\")"
   ]
  },
  {
   "cell_type": "code",
   "execution_count": 18,
   "id": "e305fd88",
   "metadata": {},
   "outputs": [
    {
     "name": "stderr",
     "output_type": "stream",
     "text": [
      "Allocating 16 GB of heap memory\n",
      "[clean] Retained 18,732 of 18,732 features\n",
      "[simplify] Repaired 135,759 intersections; 167,976 intersections could not be repaired\n",
      "[clean] Retained 18,732 of 18,732 features\n",
      "[o] Wrote /home/mambauser/data/mpa_intermediate/mpa_intermediate_simp.json\n"
     ]
    },
    {
     "data": {
      "text/plain": [
       "CompletedProcess(args='mapshaper-xl 16gb -i /home/mambauser/data/mpa_intermediate/mpa_intermediate/mpa_intermediate.shp  -filter-fields fields=WDPAID,NAME,PA_DEF,REP_M_AREA,PARENT_ISO -clean allow-overlaps rewind -simplify dp 10% keep-shapes planar -clean allow-overlaps -o /home/mambauser/data/mpa_intermediate/mpa_intermediate_simp.json force format=geojson', returncode=0)"
      ]
     },
     "execution_count": 18,
     "metadata": {},
     "output_type": "execute_result"
    }
   ],
   "source": [
    "Mapshaper(16).input(\n",
    "    [source_dir.joinpath(\"mpa_intermediate/mpa_intermediate.shp\").as_posix()]\n",
    ").filter_fields(fields=\"WDPAID,NAME,PA_DEF,REP_M_AREA,PARENT_ISO\").clean(\n",
    "    allow_overlaps=True, rewind=True\n",
    ").simplify(\n",
    "    \"dp 10% keep-shapes planar\"\n",
    ").clean(\n",
    "    allow_overlaps=True\n",
    ").output(\n",
    "    source_dir.joinpath(\"mpa_intermediate_simp.json\").as_posix(), force=True, format=\"geojson\"\n",
    ").execute()"
   ]
  },
  {
   "cell_type": "code",
   "execution_count": 21,
   "id": "dcafaabd-0363-4cf8-a9fe-930e0e67a671",
   "metadata": {},
   "outputs": [
    {
     "name": "stderr",
     "output_type": "stream",
     "text": [
      "For layer 0, using name \"mpa_intermediate_simp\"\n",
      "/home/mambauser/data/mpa_intermediate/mpa_intermediate_simp.json:2037: Found ] at top level\n",
      "/home/mambauser/data/mpa_intermediate/mpa_intermediate_simp.json:449: Reached EOF without all containers being closed\n",
      "In JSON object {\"type\":\"FeatureCollection\",\"features\":[]}\n",
      "18732 features, 65660163 bytes of geometry, 325522 bytes of separate metadata, 675303 bytes of string pool\n",
      "Choosing a maxzoom of -z3 for features about 33084 feet (10084 meters) apart\n",
      "Choosing a maxzoom of -z10 for resolution of about 345 feet (105 meters) within features\n",
      "  99.9%  10/42/292   \n"
     ]
    },
    {
     "data": {
      "text/plain": [
       "PosixPath('/home/mambauser/data/mpa_intermediate/mpa_intermediate_simp.mbtiles')"
      ]
     },
     "execution_count": 21,
     "metadata": {},
     "output_type": "execute_result"
    }
   ],
   "source": [
    "mbtileGeneration(source_dir.joinpath(\"mpa_intermediate_simp.json\"))"
   ]
  },
  {
   "cell_type": "code",
   "execution_count": 22,
   "id": "69db2890-24e7-42bd-845e-7a92743d8d27",
   "metadata": {},
   "outputs": [
    {
     "name": "stdout",
     "output_type": "stream",
     "text": [
      "upload: ../data/mpa_intermediate/mpa_intermediate_simp.mbtiles to s3://tilestream-tilesets-production/5e/_pending/cvat4dd2vqm1aq41tzh4l0slc/skytruth\n"
     ]
    },
    {
     "name": "stderr",
     "output_type": "stream",
     "text": [
      "Linking tileset to Mapbox: 100%|██████████| 100/100 [03:10<00:00,  1.91s/it]\n"
     ]
    },
    {
     "data": {
      "text/plain": [
       "True"
      ]
     },
     "execution_count": 22,
     "metadata": {},
     "output_type": "execute_result"
    }
   ],
   "source": [
    "uploadToMapbox(\n",
    "    source_dir.joinpath(\"mpa_intermediate_simp.mbtiles\"),\n",
    "    \"mpas_wdpa\",\n",
    "    os.environ[\"MAPBOX_USER\"],\n",
    "    os.environ[\"MAPBOX_TOKEN\"],\n",
    ")"
   ]
  },
  {
   "cell_type": "code",
   "execution_count": 11,
   "id": "b693da71",
   "metadata": {},
   "outputs": [],
   "source": [
    "regions_df = pd.DataFrame(\n",
    "    [\n",
    "        {\"region_id\": data[\"region_iso\"], \"location_id\": iso}\n",
    "        for data in load_regions().get(\"data\", [])\n",
    "        for iso in data[\"country_iso_3s\"]\n",
    "    ]\n",
    ")"
   ]
  },
  {
   "cell_type": "code",
   "execution_count": 18,
   "id": "27fb9954",
   "metadata": {},
   "outputs": [],
   "source": [
    "eez_dir = Path(\"..\").joinpath(\"data\", \"eez_intermediate\", \"eez_intermediate\").resolve()\n",
    "eez_data = gpd.read_file(eez_dir.joinpath(\"eez_intermediate.shp\").as_posix())"
   ]
  },
  {
   "cell_type": "code",
   "execution_count": 14,
   "id": "3d76557a",
   "metadata": {},
   "outputs": [
    {
     "name": "stderr",
     "output_type": "stream",
     "text": [
      "Allocating 8 GB of heap memory\n",
      "[o] Wrote /home/mambauser/data/eez_intermediate/eez_intermediate/eez_intermediate.json\n"
     ]
    },
    {
     "data": {
      "text/plain": [
       "CompletedProcess(args='mapshaper-xl 8gb -i /home/mambauser/data/eez_intermediate/eez_intermediate/eez_intermediate.shp  -filter-fields fields=GEONAME,POL_TYPE,ISO_SOV1,ISO_SOV2,ISO_SOV3 -o /home/mambauser/data/eez_intermediate/eez_intermediate/eez_intermediate.json force format=geojson', returncode=0)"
      ]
     },
     "execution_count": 14,
     "metadata": {},
     "output_type": "execute_result"
    }
   ],
   "source": [
    "Mapshaper(8).input([eez_dir.joinpath(\"eez_intermediate.shp\").as_posix()]).filter_fields(\n",
    "    fields=','.join([\"GEONAME\", \"POL_TYPE\", \"ISO_SOV1\", \"ISO_SOV2\", \"ISO_SOV3\"])\n",
    ").output(\n",
    "    eez_dir.joinpath(\"eez_intermediate.json\").as_posix(), force=True, format=\"geojson\"\n",
    ").execute()"
   ]
  },
  {
   "cell_type": "code",
   "execution_count": 15,
   "id": "6c9a7f49",
   "metadata": {},
   "outputs": [
    {
     "name": "stderr",
     "output_type": "stream",
     "text": [
      "/tmp/ipykernel_1179/274243943.py:1: UserWarning: Column names longer than 10 characters will be truncated when saved to ESRI Shapefile.\n",
      "  gpd.GeoDataFrame(\n"
     ]
    }
   ],
   "source": [
    "gpd.GeoDataFrame(\n",
    "    pd.merge(\n",
    "        eez_data,\n",
    "        regions_df,\n",
    "        how=\"left\",\n",
    "        left_on=\"ISO_SOV1\",\n",
    "        right_on=\"location_id\",\n",
    "        sort=True,\n",
    "        copy=True,\n",
    "    ),\n",
    "    crs=eez_data.crs,\n",
    ").to_file(filename=eez_dir.joinpath(\"eez_intermediate_regions.shp\").as_posix(), driver=\"ESRI Shapefile\")"
   ]
  },
  {
   "cell_type": "code",
   "execution_count": 19,
   "id": "fb20f8f9",
   "metadata": {},
   "outputs": [
    {
     "name": "stderr",
     "output_type": "stream",
     "text": [
      "Allocating 16 GB of heap memory\n",
      "[dissolve2] Dissolved 282 features into 8 features\n",
      "[o] Wrote /home/mambauser/data/eez_intermediate/eez_intermediate/regions.json\n"
     ]
    },
    {
     "data": {
      "text/plain": [
       "CompletedProcess(args='mapshaper-xl 16gb -i /home/mambauser/data/eez_intermediate/eez_intermediate/eez_intermediate_regions.shp  -dissolve2 fields=region_id -o /home/mambauser/data/eez_intermediate/eez_intermediate/regions.json force format=geojson', returncode=0)"
      ]
     },
     "execution_count": 19,
     "metadata": {},
     "output_type": "execute_result"
    }
   ],
   "source": [
    "Mapshaper(16).input([eez_dir.joinpath(\"eez_intermediate_regions.shp\").as_posix()]).dissolve2(\n",
    "    fields=\"region_id\"\n",
    ").output(eez_dir.joinpath(\"regions.json\").as_posix(), force=True, format=\"geojson\").execute()"
   ]
  },
  {
   "cell_type": "code",
   "execution_count": 20,
   "id": "5f5283e2",
   "metadata": {},
   "outputs": [
    {
     "name": "stderr",
     "output_type": "stream",
     "text": [
      "For layer 0, using name \"eez_v11\"\n",
      "/home/mambauser/data/eez_intermediate/eez_intermediate/eez_v11.json:3: Found ] at top level\n",
      "/home/mambauser/data/eez_intermediate/eez_intermediate/eez_v11.json:23: Reached EOF without all containers being closed\n",
      "In JSON object {\"type\":\"FeatureCollection\",\"features\":[]}\n",
      "282 features, 62937025 bytes of geometry, 5323 bytes of separate metadata, 13435 bytes of string pool\n",
      "Choosing a maxzoom of -z0 for features about 2511227 feet (765422 meters) apart\n",
      "Choosing a maxzoom of -z9 for resolution of about 825 feet (251 meters) within features\n",
      "  99.9%  9/201/377  \n"
     ]
    },
    {
     "data": {
      "text/plain": [
       "PosixPath('/home/mambauser/data/eez_intermediate/eez_intermediate/eez_v11.mbtiles')"
      ]
     },
     "execution_count": 20,
     "metadata": {},
     "output_type": "execute_result"
    }
   ],
   "source": [
    "mbtileGeneration(eez_dir.joinpath(\"eez_v11.json\"))"
   ]
  },
  {
   "cell_type": "code",
   "execution_count": 21,
   "id": "57b23d2b",
   "metadata": {},
   "outputs": [
    {
     "name": "stdout",
     "output_type": "stream",
     "text": [
      "upload: ../data/eez_intermediate/eez_intermediate/eez_v11.mbtiles to s3://tilestream-tilesets-production/dd/_pending/uvt9z3qcvqp10i417h45j0slc/skytruth\n"
     ]
    },
    {
     "name": "stderr",
     "output_type": "stream",
     "text": [
      "Linking tileset to Mapbox: 100%|██████████| 100/100 [03:10<00:00,  1.91s/it]\n"
     ]
    },
    {
     "data": {
      "text/plain": [
       "True"
      ]
     },
     "execution_count": 21,
     "metadata": {},
     "output_type": "execute_result"
    }
   ],
   "source": [
    "uploadToMapbox(\n",
    "    eez_dir.joinpath(\"eez_v11.mbtiles\"),\n",
    "    \"eez_v11\",\n",
    "    os.environ[\"MAPBOX_USER\"],\n",
    "    os.environ[\"MAPBOX_TOKEN\"],\n",
    ")"
   ]
  },
  {
   "cell_type": "code",
   "execution_count": 22,
   "id": "f75657d3",
   "metadata": {},
   "outputs": [
    {
     "name": "stderr",
     "output_type": "stream",
     "text": [
      "For layer 0, using name \"regions\"\n",
      "/home/mambauser/data/eez_intermediate/eez_intermediate/regions.json:2: Found ] at top level\n",
      "/home/mambauser/data/eez_intermediate/eez_intermediate/regions.json:3: Reached EOF without all containers being closed\n",
      "In JSON object {\"type\":\"FeatureCollection\",\"features\":[]}\n",
      "8 features, 60659758 bytes of geometry, 40 bytes of separate metadata, 85 bytes of string pool\n",
      "Choosing a maxzoom of -z0 for features about 26898822 feet (8198761 meters) apart\n",
      "Choosing a maxzoom of -z9 for resolution of about 901 feet (274 meters) within features\n",
      "  99.9%  9/219/232  \n"
     ]
    },
    {
     "data": {
      "text/plain": [
       "PosixPath('/home/mambauser/data/eez_intermediate/eez_intermediate/regions.mbtiles')"
      ]
     },
     "execution_count": 22,
     "metadata": {},
     "output_type": "execute_result"
    }
   ],
   "source": [
    "mbtileGeneration(eez_dir.joinpath(\"regions.json\"))"
   ]
  },
  {
   "cell_type": "code",
   "execution_count": 23,
   "id": "2b2e10ad",
   "metadata": {},
   "outputs": [
    {
     "name": "stdout",
     "output_type": "stream",
     "text": [
      "upload: ../data/eez_intermediate/eez_intermediate/regions.mbtiles to s3://tilestream-tilesets-production/bb/_pending/4k2k6ua5apt1l490gzjbj0slc/skytruth\n"
     ]
    },
    {
     "name": "stderr",
     "output_type": "stream",
     "text": [
      "Linking tileset to Mapbox: 100%|██████████| 100/100 [03:10<00:00,  1.91s/it]\n"
     ]
    },
    {
     "data": {
      "text/plain": [
       "True"
      ]
     },
     "execution_count": 23,
     "metadata": {},
     "output_type": "execute_result"
    }
   ],
   "source": [
    "uploadToMapbox(\n",
    "    eez_dir.joinpath(\"regions.mbtiles\"),\n",
    "    \"regions\",\n",
    "    os.environ[\"MAPBOX_USER\"],\n",
    "    os.environ[\"MAPBOX_TOKEN\"],\n",
    ")"
   ]
  },
  {
   "cell_type": "code",
   "execution_count": 3,
   "id": "2b8d41a9",
   "metadata": {
    "metadata": {}
   },
   "outputs": [
    {
     "data": {
      "text/plain": [
       "PosixPath('/home/mambauser/data/mpaatlas_intermediate/mpaatlas_intermediate')"
      ]
     },
     "execution_count": 3,
     "metadata": {},
     "output_type": "execute_result"
    }
   ],
   "source": [
    "mpa_atlas = source_dir.parent.joinpath(\"mpaatlas_intermediate\", \"mpaatlas_intermediate\")\n",
    "mpa_atlas"
   ]
  },
  {
   "cell_type": "code",
   "execution_count": 4,
   "id": "396c58ad",
   "metadata": {
    "metadata": {}
   },
   "outputs": [
    {
     "name": "stderr",
     "output_type": "stream",
     "text": [
      "Allocating 50 GB of heap memory\n",
      "[clean] Retained 808 of 810 features\n",
      "[o] Wrote /home/mambauser/data/mpaatlas_intermediate/mpaatlas_intermediate/mpaatlas_intermediate.json\n",
      "For layer 0, using name \"mpaatlas_intermediate\"\n",
      "/home/mambauser/data/mpaatlas_intermediate/mpaatlas_intermediate/mpaatlas_intermediate.json:293: Reached EOF without all containers being closed\n",
      "In JSON object {\"type\":\"FeatureCollection\",\"features\":[]}\n",
      "/home/mambauser/data/mpaatlas_intermediate/mpaatlas_intermediate/mpaatlas_intermediate.json:20: Found ] at top level\n",
      "808 features, 33450840 bytes of geometry, 24231 bytes of separate metadata, 43441 bytes of string pool\n",
      "Choosing a maxzoom of -z0 for features about 314630 feet (95899 meters) apart\n",
      "Choosing a maxzoom of -z12 for resolution of about 98 feet (30 meters) within features\n",
      "  99.9%  12/4079/2746  \n"
     ]
    },
    {
     "data": {
      "text/plain": [
       "PosixPath('/home/mambauser/data/mpaatlas_intermediate/mpaatlas_intermediate/mpaatlas_intermediate.mbtiles')"
      ]
     },
     "execution_count": 4,
     "metadata": {},
     "output_type": "execute_result"
    }
   ],
   "source": [
    "mbtileGeneration(mpa_atlas.joinpath(\"mpaatlas_intermediate.shp\"))"
   ]
  },
  {
   "cell_type": "code",
   "execution_count": 5,
   "id": "1adeaa97",
   "metadata": {
    "metadata": {}
   },
   "outputs": [
    {
     "name": "stdout",
     "output_type": "stream",
     "text": [
      "upload: ../data/mpaatlas_intermediate/mpaatlas_intermediate/mpaatlas_intermediate.mbtiles to s3://tilestream-tilesets-production/e5/_pending/uzkzdbzgbpn14gk02ior8zvlc/skytruth\n"
     ]
    },
    {
     "name": "stderr",
     "output_type": "stream",
     "text": [
      "Linking tileset to Mapbox: 100%|██████████| 100/100 [05:41<00:00,  3.41s/it]\n"
     ]
    },
    {
     "data": {
      "text/plain": [
       "True"
      ]
     },
     "execution_count": 5,
     "metadata": {},
     "output_type": "execute_result"
    }
   ],
   "source": [
    "uploadToMapbox(\n",
    "    mpa_atlas.joinpath(\"mpaatlas_intermediate.mbtiles\"),\n",
    "    \"mpa_atlas\",\n",
    "    os.environ[\"MAPBOX_USER\"],\n",
    "    os.environ[\"MAPBOX_TOKEN\"],\n",
    ")"
   ]
  },
  {
   "cell_type": "code",
   "execution_count": 10,
   "id": "a3ece83e",
   "metadata": {},
   "outputs": [],
   "source": [
    "protectedSeas = Path(\"..\").joinpath(\"data\", \"protectedseas_intermediate\", \"protectedseas_intermediate\").resolve()"
   ]
  },
  {
   "cell_type": "code",
   "execution_count": 14,
   "id": "dfe6e373",
   "metadata": {},
   "outputs": [
    {
     "name": "stderr",
     "output_type": "stream",
     "text": [
      "Allocating 16 GB of heap memory\n",
      "[clean] Retained 10,879 of 10,879 features\n",
      "[simplify] Repaired 110,498 intersections; 22,095 intersections could not be repaired\n",
      "[clean] Retained 10,879 of 10,879 features\n",
      "[o] Wrote /home/mambauser/data/protectedseas_intermediate/protectedseas_intermediate/protectedseas.json\n"
     ]
    },
    {
     "data": {
      "text/plain": [
       "CompletedProcess(args='mapshaper-xl 16gb -i /home/mambauser/data/protectedseas_intermediate/protectedseas_intermediate/protectedseas_intermediate.shp  -clean allow-overlaps rewind -simplify dp 10% keep-shapes planar -clean allow-overlaps -o /home/mambauser/data/protectedseas_intermediate/protectedseas_intermediate/protectedseas.json force format=geojson', returncode=0)"
      ]
     },
     "execution_count": 14,
     "metadata": {},
     "output_type": "execute_result"
    }
   ],
   "source": [
    "Mapshaper(16).input([protectedSeas.joinpath(\"protectedseas_intermediate.shp\").as_posix()]).clean(\n",
    "    allow_overlaps=True, rewind=True\n",
    ").simplify(\"dp 10% keep-shapes planar\").clean(allow_overlaps=True).output(\n",
    "    protectedSeas.joinpath(\"protectedseas.json\").as_posix(), force=True, format=\"geojson\"\n",
    ").execute()"
   ]
  },
  {
   "cell_type": "code",
   "execution_count": 15,
   "id": "8cc10209",
   "metadata": {},
   "outputs": [
    {
     "name": "stderr",
     "output_type": "stream",
     "text": [
      "For layer 0, using name \"protectedseas\"\n",
      "/home/mambauser/data/protectedseas_intermediate/protectedseas_intermediate/protectedseas.json:967: Reached EOF without all containers being closed\n",
      "In JSON object {\"type\":\"FeatureCollection\",\"features\":[]}\n",
      "/home/mambauser/data/protectedseas_intermediate/protectedseas_intermediate/protectedseas.json:378: Found ] at top level\n",
      "10879 features, 31017199 bytes of geometry, 377988 bytes of separate metadata, 766466 bytes of string pool\n",
      "Choosing a maxzoom of -z3 for features about 58402 feet (17801 meters) apart\n",
      "Choosing a maxzoom of -z11 for resolution of about 245 feet (74 meters) within features\n",
      "  99.9%  11/831/344    \n"
     ]
    },
    {
     "data": {
      "text/plain": [
       "PosixPath('/home/mambauser/data/protectedseas_intermediate/protectedseas_intermediate/protectedseas.mbtiles')"
      ]
     },
     "execution_count": 15,
     "metadata": {},
     "output_type": "execute_result"
    }
   ],
   "source": [
    "mbtileGeneration(protectedSeas.joinpath(\"protectedseas.json\"))"
   ]
  },
  {
   "cell_type": "code",
   "execution_count": 16,
   "id": "9cb8a3e6",
   "metadata": {},
   "outputs": [
    {
     "name": "stdout",
     "output_type": "stream",
     "text": [
      "upload: ../data/protectedseas_intermediate/protectedseas_intermediate/protectedseas.mbtiles to s3://tilestream-tilesets-production/19/_pending/fzxiizy7nqm1l830ze3ck0slc/skytruth\n"
     ]
    },
    {
     "name": "stderr",
     "output_type": "stream",
     "text": [
      "Linking tileset to Mapbox: 100%|██████████| 100/100 [04:12<00:00,  2.53s/it]\n"
     ]
    },
    {
     "data": {
      "text/plain": [
       "True"
      ]
     },
     "execution_count": 16,
     "metadata": {},
     "output_type": "execute_result"
    }
   ],
   "source": [
    "uploadToMapbox(\n",
    "    protectedSeas.joinpath(\"protectedseas.mbtiles\"),\n",
    "    \"protected_seas\",\n",
    "    os.environ[\"MAPBOX_USER\"],\n",
    "    os.environ[\"MAPBOX_TOKEN\"],\n",
    ")"
   ]
  },
  {
   "cell_type": "code",
   "execution_count": 2,
   "id": "afdc3e97-6e47-404b-a51f-62b7e7e26893",
   "metadata": {},
   "outputs": [],
   "source": [
    "warmWaterCorals = (\n",
    "    Path(\"..\")\n",
    "    .joinpath(\"data\", \"habitats_intermediate\", \"layer\", \"warm_water_corals.mbtiles\")\n",
    "    .resolve()\n",
    ")"
   ]
  },
  {
   "cell_type": "code",
   "execution_count": 3,
   "id": "34cf7142",
   "metadata": {},
   "outputs": [
    {
     "name": "stdout",
     "output_type": "stream",
     "text": [
      "upload: ../data/habitats_intermediate/layer/warm_water_corals.mbtiles to s3://tilestream-tilesets-production/36/_pending/2mem3w8f6ku161y4r60lfetlc/skytruth\n"
     ]
    },
    {
     "name": "stderr",
     "output_type": "stream",
     "text": [
      "Linking tileset to Mapbox: 100%|██████████| 100/100 [04:44<00:00,  2.84s/it]\n"
     ]
    },
    {
     "data": {
      "text/plain": [
       "True"
      ]
     },
     "execution_count": 3,
     "metadata": {},
     "output_type": "execute_result"
    }
   ],
   "source": [
    "uploadToMapbox(\n",
    "    warmWaterCorals,\n",
    "    \"warm_water_corals\",\n",
    "    os.environ[\"MAPBOX_USER\"],\n",
    "    os.environ[\"MAPBOX_TOKEN\"],\n",
    ")"
   ]
  }
 ],
 "metadata": {
  "kernelspec": {
   "display_name": "Python 3 (ipykernel)",
   "language": "python",
   "name": "python3"
  },
  "language_info": {
   "codemirror_mode": {
    "name": "ipython",
    "version": 3
   },
   "file_extension": ".py",
   "mimetype": "text/x-python",
   "name": "python",
   "nbconvert_exporter": "python",
   "pygments_lexer": "ipython3",
   "version": "3.10.14"
  }
 },
 "nbformat": 4,
 "nbformat_minor": 5
}
