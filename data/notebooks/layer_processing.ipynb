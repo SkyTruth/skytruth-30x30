{
 "cells": [
  {
   "cell_type": "code",
   "execution_count": 10,
   "id": "4767b153-6a59-4855-9b29-77284caebc45",
   "metadata": {},
   "outputs": [],
   "source": [
    "from pathlib import Path\n",
    "import sys\n",
    "import logging\n",
    "\n",
    "scripts_dir = Path(\"..\").joinpath(\"src\")\n",
    "if scripts_dir not in sys.path:\n",
    "    sys.path.insert(0, scripts_dir.resolve().as_posix())\n",
    "from mapshaper import Mapshaper\n",
    "from tippcanoe import mbtileGeneration"
   ]
  },
  {
   "cell_type": "code",
   "execution_count": 11,
   "id": "469cb57d",
   "metadata": {},
   "outputs": [],
   "source": [
    "source_dir = Path(\"..\").joinpath(\"data\", \"map_layer_sources\").resolve()"
   ]
  },
  {
   "cell_type": "code",
   "execution_count": null,
   "id": "3968fed8-6814-4ed9-afcb-27b46f926c90",
   "metadata": {},
   "outputs": [],
   "source": [
    "# mapshaper-xl 16gb -i ./merged_mpa_all.shp -filter-fields fields=WDPAID,NAME,PA_DEF,REP_M_AREA,PARENT_ISO -clean allow-overlaps rewind -simplify dp 50% keep-shapes planar -o format=geojson"
   ]
  },
  {
   "cell_type": "code",
   "execution_count": 15,
   "id": "e305fd88",
   "metadata": {},
   "outputs": [
    {
     "name": "stdout",
     "output_type": "stream",
     "text": [
      "mapshaper-xl 16gb -i /home/mambauser/data/map_layer_sources/merged_mpa_all.shp  -filter-fields fields=WDPAID,NAME,PA_DEF,REP_M_AREA,PARENT_ISO -clean allow-overlaps rewind -simplify dp 10% keep-shapes planar -clean allow-overlaps -o /home/mambauser/data/map_layer_sources/merged_mpa_all_simp.json force format=geojson\n"
     ]
    }
   ],
   "source": [
    "Mapshaper(16).input([source_dir.joinpath(\"merged_mpa_all.shp\").as_posix()]\n",
    "                   ).filter_fields(fields=\"WDPAID,NAME,PA_DEF,REP_M_AREA,PARENT_ISO\"\n",
    "                                  ).clean(allow_overlaps=True, rewind=True).simplify(\n",
    "                                        \"dp 10% keep-shapes planar\"\n",
    "                                    ).clean(allow_overlaps=True).output(\n",
    "                                        source_dir.joinpath(\"merged_mpa_all_simp.json\").as_posix(), force=True, format=\"geojson\"\n",
    ").debug()"
   ]
  },
  {
   "cell_type": "code",
   "execution_count": 18,
   "id": "4ba12af3-11ed-48c9-9f6e-3ac46349ef09",
   "metadata": {},
   "outputs": [],
   "source": [
    "file = source_dir.joinpath(\"./merged_mpa_all.json\")"
   ]
  },
  {
   "cell_type": "code",
   "execution_count": null,
   "id": "dcafaabd-0363-4cf8-a9fe-930e0e67a671",
   "metadata": {},
   "outputs": [
    {
     "name": "stderr",
     "output_type": "stream",
     "text": [
      "For layer 0, using name \"merged_mpa_all\"\n",
      "/home/mambauser/data/map_layer_sources/merged_mpa_all.json:1901: Found ] at top level\n",
      "/home/mambauser/data/map_layer_sources/merged_mpa_all.json:491: Reached EOF without all containers being closed\n",
      "In JSON object {\"type\":\"FeatureCollection\",\"features\":[]}\n",
      "18541 features, 218679392 bytes of geometry, 335964 bytes of separate metadata, 674063 bytes of string pool\n",
      "Choosing a maxzoom of -z4 for features about 30364 feet (9255 meters) apart\n",
      "Choosing a maxzoom of -z12 for resolution of about 96 feet (29 meters) within features\n",
      "  92.5%  12/1842/1720  \r"
     ]
    }
   ],
   "source": [
    "mbtileGeneration(file)"
   ]
  },
  {
   "cell_type": "code",
   "execution_count": null,
   "id": "69db2890-24e7-42bd-845e-7a92743d8d27",
   "metadata": {},
   "outputs": [],
   "source": []
  }
 ],
 "metadata": {
  "kernelspec": {
   "display_name": "Python 3 (ipykernel)",
   "language": "python",
   "name": "python3"
  },
  "language_info": {
   "codemirror_mode": {
    "name": "ipython",
    "version": 3
   },
   "file_extension": ".py",
   "mimetype": "text/x-python",
   "name": "python",
   "nbconvert_exporter": "python",
   "pygments_lexer": "ipython3",
   "version": "3.10.13"
  }
 },
 "nbformat": 4,
 "nbformat_minor": 5
}
