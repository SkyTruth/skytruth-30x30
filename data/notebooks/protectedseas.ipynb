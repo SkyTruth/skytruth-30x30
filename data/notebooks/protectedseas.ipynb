{
 "cells": [
  {
   "cell_type": "markdown",
   "metadata": {},
   "source": [
    "### Set up"
   ]
  },
  {
   "cell_type": "code",
   "execution_count": 11,
   "metadata": {},
   "outputs": [],
   "source": [
    "import os\n",
    "from pathlib import Path\n",
    "import geopandas as gpd\n",
    "import pandas as pd"
   ]
  },
  {
   "cell_type": "code",
   "execution_count": 12,
   "metadata": {},
   "outputs": [],
   "source": [
    "base = Path(os.getcwd()).parent"
   ]
  },
  {
   "cell_type": "code",
   "execution_count": 13,
   "metadata": {},
   "outputs": [
    {
     "data": {
      "text/plain": [
       "PosixPath('/home/mambauser/data/protectedseas')"
      ]
     },
     "execution_count": 13,
     "metadata": {},
     "output_type": "execute_result"
    }
   ],
   "source": [
    "base.joinpath('data','protectedseas')"
   ]
  },
  {
   "cell_type": "code",
   "execution_count": 19,
   "metadata": {},
   "outputs": [],
   "source": [
    "path_in = base.joinpath(\"data\", \"ProtectedSeas\")\n",
    "path_out = base.joinpath(\"data\", \"ProtectedSeas\")"
   ]
  },
  {
   "cell_type": "markdown",
   "metadata": {},
   "source": [
    "### Processing"
   ]
  },
  {
   "cell_type": "code",
   "execution_count": 21,
   "metadata": {
    "notebookRunGroups": {
     "groupValue": "1"
    }
   },
   "outputs": [],
   "source": [
    "# Import shp containing geometries\n",
    "ps = gpd.read_file(\n",
    "    path_in.joinpath(\"ProtectedSeas_ProtectedSeas_06142023_shp_ProtectedSeas_06142023_shp.shp\").as_posix()\n",
    ")"
   ]
  },
  {
   "cell_type": "code",
   "execution_count": 22,
   "metadata": {},
   "outputs": [],
   "source": [
    "# Import csv containing information\n",
    "protectedseas = pd.read_csv(\n",
    "    path_in.joinpath(\"ProtectedSeas_ProtectedSeas_06142023.csv\")\n",
    "    )"
   ]
  },
  {
   "cell_type": "code",
   "execution_count": 23,
   "metadata": {},
   "outputs": [],
   "source": [
    "# Keep only rows in which wdpa_id is not null and it's different than 0\n",
    "protectedseas = protectedseas[protectedseas['wdpa_id'].notna()]\n",
    "protectedseas = protectedseas[protectedseas['wdpa_id']!= '0']"
   ]
  },
  {
   "cell_type": "code",
   "execution_count": 24,
   "metadata": {},
   "outputs": [],
   "source": [
    "# Join csv with shapefile and keep only wdpa geometries\n",
    "ps_gdf = ps.merge(protectedseas, how='inner', left_on='SITE_ID', right_on='site_id')"
   ]
  },
  {
   "cell_type": "code",
   "execution_count": 25,
   "metadata": {},
   "outputs": [],
   "source": [
    "# Keep only columns of interest\n",
    "ps_gdf = ps_gdf[['site_id','site_name', 'country', 'wdpa_id', 'removal_of_marine_life_is_prohibited','total_area','geometry']]\n",
    "ps_gdf = ps_gdf.rename(columns={'removal_of_marine_life_is_prohibited':'FPS'})"
   ]
  },
  {
   "cell_type": "code",
   "execution_count": 26,
   "metadata": {},
   "outputs": [],
   "source": [
    "# ProtectedSeas only provides country names, not country codes. We need to add country codes to the dataframe\n",
    "country_iso_dict = {\n",
    "    'Antigua and Barbuda': 'ATG',\n",
    "    'USA': 'USA',\n",
    "    'Albania': 'ALB',\n",
    "    'Netherlands Antilles': 'NLD',\n",
    "    'United Arab Emirates': 'ARE',\n",
    "    'Argentina': 'ARG',\n",
    "    'France': 'FRA',\n",
    "    'Australia': 'AUS',\n",
    "    'Barbados': 'BRB',\n",
    "    'Belgium': 'BEL',\n",
    "    'Bangladesh': 'BGD',\n",
    "    'Bulgaria': 'BGR',\n",
    "    'Belize': 'BLZ',\n",
    "    'Brazil': 'BRA',\n",
    "    'Bahamas': 'BHS',\n",
    "    'British Virgin Islands': 'GBR',\n",
    "    'Canada': 'CAN',\n",
    "    'Chile': 'CHL',\n",
    "    'Cameroon': 'CMR',\n",
    "    'Colombia': 'COL',\n",
    "    'Comoros': 'COM',\n",
    "    'Costa Rica': 'CRI',\n",
    "    'Cuba': 'CUB',\n",
    "    'Cyprus': 'CYP',\n",
    "    'Germany': 'DEU',\n",
    "    'Djibouti': 'DJI',\n",
    "    'Djbouti': 'DJI',\n",
    "    'Dominica': 'DMA',\n",
    "    'Denmark': 'DNK',\n",
    "    'Dominican Republic': 'DOM',\n",
    "    'Algeria': 'DZA',\n",
    "    'Ecuador': 'ECU',\n",
    "    'Egypt': 'EGY',\n",
    "    'Spain': 'ESP',\n",
    "    'Estonia': 'EST',\n",
    "    'Finland': 'FIN',\n",
    "    'France, Italy, Monaco': 'FRA;ITA;MCO',\n",
    "    'French Antilles': 'FRA',\n",
    "    'Gabon': 'GAB',\n",
    "    'United Kingdom': 'GBR',\n",
    "    'Grenada': 'GRD',\n",
    "    'Ghana': 'GHA',\n",
    "    'Gibraltar': 'GBR',\n",
    "    'Guinea': 'GIN',\n",
    "    'The Gambia': 'GMB',\n",
    "    'Guinea Bissau': 'GNB',\n",
    "    'Greece': 'GRC',\n",
    "    'Guatemala': 'GTM',\n",
    "    'French Guyana': 'FRA',\n",
    "    'Honduras': 'HND',\n",
    "    'Croatia': 'HRV',\n",
    "    'Indonesia': 'IDN',\n",
    "    'Indonesia ': 'IDN',\n",
    "    'India': 'IND',\n",
    "    'Ireland': 'IRL',\n",
    "    'Iceland': 'ISL',\n",
    "    'Israel': 'ISR',\n",
    "    'Italy': 'ITA',\n",
    "    'Jamaica': 'JAM',\n",
    "    'Jordan': 'JOR',\n",
    "    'Japan': 'JPN',\n",
    "    'Kenya': 'KEN',\n",
    "    'Cambodia': 'KHM',\n",
    "    'South Korea': 'KOR',\n",
    "    'Cayman Islands': 'GBR',\n",
    "    'Lebanon': 'LBN',\n",
    "    'Liberia': 'LBR',\n",
    "    'Saint Lucia': 'LCA',\n",
    "    'Sri Lanka': 'LKA',\n",
    "    'Lithuania': 'LTU',\n",
    "    'Latvia': 'LVA',\n",
    "    'Morocco': 'MAR',\n",
    "    'Monaco': 'MCO',\n",
    "    'Madagascar': 'MDG',\n",
    "    'Republic of Maldives': 'MDV',\n",
    "    'Malta': 'MLT',\n",
    "    'Myanmar': 'MMR',\n",
    "    'Mozambique': 'MOZ',\n",
    "    'Mauritania': 'MRT',\n",
    "    'Malaysia': 'MYS',\n",
    "    'Namibia': 'NAM',\n",
    "    'New Caledonia': 'FRA',\n",
    "    'Niue': 'NIU',\n",
    "    'The Netherlands': 'NLD',\n",
    "    'Netherlands': 'NLD',\n",
    "    'Norway': 'NOR',\n",
    "    'New Zealand': 'NZL',\n",
    "    'Panama': 'PAN',\n",
    "    'British Overseas Territory - Pitcairn': 'GBR',\n",
    "    'Peru': 'PER',\n",
    "    'Philippines': 'PHL',\n",
    "    'Republic of Palau': 'PLW',\n",
    "    'Poland': 'POL',\n",
    "    'Portugal': 'PRT',\n",
    "    'Qatar': 'QAT',\n",
    "    'Russia': 'RUS',\n",
    "    'Senegal': 'SEN',\n",
    "    'Saint Helena, Ascension and Tristan da Cunha Overseas Territory of the United Kingdom of Great Britain and Northern Ireland': 'GBR',\n",
    "    'Saint Helena, Ascension and Tristan da Cunha Overseas Teritory of the United Kingdom of Great Britain and Northern Ireland': 'GBR',\n",
    "    'Solomon Islands': 'SLB',\n",
    "    'El Salvador': 'SLV',\n",
    "    'São Tomé and Príncipe': 'STP',\n",
    "    'Suriname': 'SUR',\n",
    "    'Slovenia': 'SVN',\n",
    "    'Sweden': 'SWE',\n",
    "    'Seychelles': 'SYC',\n",
    "    'Turks and Caicos Islands': 'GBR',\n",
    "    'Thailand': 'THA',\n",
    "    'East Timor': 'TLS',\n",
    "    'Tonga': 'TON',\n",
    "    'Trinidad and Tobago': 'TTO',\n",
    "    'Tunisia': 'TUN',\n",
    "    'Tanzania': 'TZA',\n",
    "    'Uruguay': 'URY',\n",
    "    'Saint Vincent and the Grenadines': 'VCT',\n",
    "    'Vietnam': 'VNM',\n",
    "    'Yemen': 'YEM',\n",
    "    'South Africa': 'ZAF',\n",
    "    'USA; Haiti; Jamaica': 'USA;HTI;JAM',\n",
    "}\n"
   ]
  },
  {
   "cell_type": "code",
   "execution_count": 27,
   "metadata": {},
   "outputs": [],
   "source": [
    "# Add country code to the dataframe\n",
    "def get_parent_iso(country):\n",
    "    return country_iso_dict.get(country, None)\n",
    "\n",
    "# Apply the function to create the 'PARENT_ISO' column\n",
    "ps_gdf['parent_iso'] = ps_gdf['country'].apply(get_parent_iso)"
   ]
  },
  {
   "cell_type": "code",
   "execution_count": 28,
   "metadata": {},
   "outputs": [],
   "source": [
    "# There is one row with no parent_iso so let's give it the corresponding country code\n",
    "ps_gdf.loc[ps_gdf['parent_iso'].isna(), 'parent_iso'] = 'FRA'"
   ]
  },
  {
   "cell_type": "code",
   "execution_count": 29,
   "metadata": {},
   "outputs": [
    {
     "data": {
      "text/html": [
       "<div>\n",
       "<style scoped>\n",
       "    .dataframe tbody tr th:only-of-type {\n",
       "        vertical-align: middle;\n",
       "    }\n",
       "\n",
       "    .dataframe tbody tr th {\n",
       "        vertical-align: top;\n",
       "    }\n",
       "\n",
       "    .dataframe thead th {\n",
       "        text-align: right;\n",
       "    }\n",
       "</style>\n",
       "<table border=\"1\" class=\"dataframe\">\n",
       "  <thead>\n",
       "    <tr style=\"text-align: right;\">\n",
       "      <th></th>\n",
       "      <th>site_id</th>\n",
       "      <th>site_name</th>\n",
       "      <th>country</th>\n",
       "      <th>wdpa_id</th>\n",
       "      <th>FPS</th>\n",
       "      <th>total_area</th>\n",
       "      <th>geometry</th>\n",
       "      <th>parent_iso</th>\n",
       "      <th>FPS_cat</th>\n",
       "    </tr>\n",
       "  </thead>\n",
       "  <tbody>\n",
       "    <tr>\n",
       "      <th>0</th>\n",
       "      <td>AIAG10</td>\n",
       "      <td>Low Bay Sanctuary</td>\n",
       "      <td>Antigua and Barbuda</td>\n",
       "      <td>555587197</td>\n",
       "      <td>5.0</td>\n",
       "      <td>48.321285</td>\n",
       "      <td>POLYGON ((-61.91090 17.57960, -61.91096 17.579...</td>\n",
       "      <td>ATG</td>\n",
       "      <td>highly</td>\n",
       "    </tr>\n",
       "    <tr>\n",
       "      <th>1</th>\n",
       "      <td>AIAG11</td>\n",
       "      <td>Nelson's Dockyard National Park</td>\n",
       "      <td>Antigua and Barbuda</td>\n",
       "      <td>555587192</td>\n",
       "      <td>1.0</td>\n",
       "      <td>40.705369</td>\n",
       "      <td>POLYGON ((-61.75807 17.03541, -61.73745 17.021...</td>\n",
       "      <td>ATG</td>\n",
       "      <td>less</td>\n",
       "    </tr>\n",
       "  </tbody>\n",
       "</table>\n",
       "</div>"
      ],
      "text/plain": [
       "  site_id                        site_name              country    wdpa_id  \\\n",
       "0  AIAG10                Low Bay Sanctuary  Antigua and Barbuda  555587197   \n",
       "1  AIAG11  Nelson's Dockyard National Park  Antigua and Barbuda  555587192   \n",
       "\n",
       "   FPS  total_area                                           geometry  \\\n",
       "0  5.0   48.321285  POLYGON ((-61.91090 17.57960, -61.91096 17.579...   \n",
       "1  1.0   40.705369  POLYGON ((-61.75807 17.03541, -61.73745 17.021...   \n",
       "\n",
       "  parent_iso FPS_cat  \n",
       "0        ATG  highly  \n",
       "1        ATG    less  "
      ]
     },
     "execution_count": 29,
     "metadata": {},
     "output_type": "execute_result"
    }
   ],
   "source": [
    "# Reclassify FPS values\n",
    "fps_classes = {\n",
    "    1: 'less',\n",
    "    2: 'less',\n",
    "    3: 'moderately',\n",
    "    4: 'highly',\n",
    "    5: 'highly'\n",
    "}\n",
    "\n",
    "# Create a new column 'FPS_cat' based on the mapping\n",
    "ps_gdf['FPS_cat'] = ps_gdf['FPS'].apply(lambda x: fps_classes.get(x, None))\n",
    "ps_gdf.head(2)\n"
   ]
  },
  {
   "cell_type": "code",
   "execution_count": 33,
   "metadata": {},
   "outputs": [
    {
     "data": {
      "text/plain": [
       "array(['site_id', 'site_name', 'country', 'wdpa_id', 'FPS', 'total_area',\n",
       "       'geometry', 'parent_iso', 'FPS_cat'], dtype=object)"
      ]
     },
     "execution_count": 33,
     "metadata": {},
     "output_type": "execute_result"
    }
   ],
   "source": [
    "ps_gdf.columns.values"
   ]
  },
  {
   "cell_type": "code",
   "execution_count": 31,
   "metadata": {},
   "outputs": [],
   "source": [
    "ps_gdf.to_file(path_out.joinpath(\"protectedseas.shp\").as_posix())"
   ]
  },
  {
   "cell_type": "markdown",
   "metadata": {},
   "source": [
    "### Global stats"
   ]
  },
  {
   "cell_type": "code",
   "execution_count": 16,
   "metadata": {},
   "outputs": [],
   "source": [
    "global_area = ps_gdf.groupby(['FPS_cat'], as_index=False)['total_area'].sum().rename(columns={'FPS_cat':'fishing_protection_level', 'total_area':'area'})\n",
    "global_area['location_id'] = 'GLOB'"
   ]
  },
  {
   "cell_type": "markdown",
   "metadata": {},
   "source": [
    "### Country stats"
   ]
  },
  {
   "cell_type": "code",
   "execution_count": 17,
   "metadata": {},
   "outputs": [],
   "source": [
    "# Create a mask for rows with multiple values in 'iso_code'\n",
    "mask = ps_gdf['parent_iso'].str.contains(';', na=False)\n",
    "\n",
    "# Split the 'iso_code' values and create separate rows only for rows with multiple values\n",
    "split_rows = ps_gdf[mask].copy()\n",
    "split_rows['parent_iso'] = split_rows['parent_iso'].str.split(';')\n",
    "split_rows = split_rows.explode('parent_iso')\n",
    "\n",
    "# Keep rows with single values in 'iso_code'\n",
    "single_value_rows = ps_gdf[~mask]\n",
    "\n",
    "# Concatenate the exploded rows with the single value rows\n",
    "ps_iso = pd.concat([single_value_rows, split_rows], ignore_index=True)"
   ]
  },
  {
   "cell_type": "code",
   "execution_count": 18,
   "metadata": {},
   "outputs": [],
   "source": [
    "# List of dictionaries for data in Region_ISO3_PP.txt (list of regions used in the Protected Planet database)\n",
    "regions_data = [\n",
    "    {\n",
    "        'region_iso': 'AS',\n",
    "        'region_name': 'Asia & Pacific',\n",
    "        'country_iso_3s': [\n",
    "            \"AFG\", \"ASM\", \"AUS\", \"BGD\", \"BRN\", \"BTN\", \"CCK\", \"CHN\", \"COK\", \"CXR\", \"FJI\", \"FSM\", \"GUM\", \"HKG\", \"IDN\",\n",
    "            \"IND\", \"IOT\", \"IRN\", \"JPN\", \"KHM\", \"KIR\", \"KOR\", \"LAO\", \"LKA\", \"MAC\", \"MDV\", \"MHL\", \"MMR\", \"MNG\", \"MNP\",\n",
    "            \"MYS\", \"NCL\", \"NFK\", \"NIU\", \"NPL\", \"NRU\", \"NZL\", \"PAK\", \"PCN\", \"PHL\", \"PLW\", \"PNG\", \"PRK\", \"PYF\", \"SGP\",\n",
    "            \"SLB\", \"THA\", \"TKL\", \"TLS\", \"TON\", \"TUV\", \"TWN\", \"VNM\", \"VUT\", \"WLF\", \"WSM\"\n",
    "        ]\n",
    "    },\n",
    "    {\n",
    "        'region_iso': 'AF',\n",
    "        'region_name': 'Africa',\n",
    "        'country_iso_3s': [\n",
    "            \"AGO\", \"BDI\", \"BEN\", \"BFA\", \"BWA\", \"CAF\", \"CIV\", \"CMR\", \"COD\", \"COG\", \"COM\", \"CPV\", \"DJI\", \"DZA\", \"EGY\",\n",
    "            \"ERI\", \"ESH\", \"ETH\", \"GAB\", \"GHA\", \"GIN\", \"GMB\", \"GNB\", \"GNQ\", \"KEN\", \"LBR\", \"LBY\", \"LSO\", \"MAR\", \"MDG\",\n",
    "            \"MLI\", \"MOZ\", \"MRT\", \"MUS\", \"MWI\", \"MYT\", \"NAM\", \"NER\", \"NGA\", \"REU\", \"RWA\", \"SDN\", \"SEN\", \"SHN\", \"SLE\",\n",
    "            \"SOM\", \"SSD\", \"STP\", \"SWZ\", \"SYC\", \"TCD\", \"TGO\", \"TUN\", \"TZA\", \"UGA\", \"ZAF\", \"ZMB\", \"ZWE\"\n",
    "        ]\n",
    "    },\n",
    "    {\n",
    "        'region_iso': 'EU',\n",
    "        'region_name': 'Europe',\n",
    "        'country_iso_3s': [\n",
    "            \"ALA\", \"ALB\", \"AND\", \"ARM\", \"AUT\", \"AZE\", \"BEL\", \"BGR\", \"BIH\", \"BLR\", \"CHE\", \"CYP\", \"CZE\", \"DEU\", \"DNK\",\n",
    "            \"ESP\", \"EST\", \"FIN\", \"FRA\", \"FRO\", \"GBR\", \"GEO\", \"GGY\", \"GIB\", \"GRC\", \"HRV\", \"HUN\", \"IMN\", \"IRL\", \"ISL\",\n",
    "            \"ISR\", \"ITA\", \"JEY\", \"KAZ\", \"KGZ\", \"LIE\", \"LTU\", \"LUX\", \"LVA\", \"MCO\", \"MDA\", \"MKD\", \"MLT\", \"MNE\", \"NLD\",\n",
    "            \"NOR\", \"POL\", \"PRT\", \"ROU\", \"RUS\", \"SJM\", \"SMR\", \"SRB\", \"SVK\", \"SVN\", \"SWE\", \"TJK\", \"TKM\", \"TUR\", \"UKR\",\n",
    "            \"UZB\", \"VAT\"\n",
    "        ]\n",
    "    },\n",
    "    {\n",
    "        'region_iso': 'SA',\n",
    "        'region_name': 'Latin America & Caribbean',\n",
    "        'country_iso_3s': [\n",
    "            \"ABW\", \"AIA\", \"ARG\", \"ATG\", \"BES\", \"BHS\", \"BLM\", \"BLZ\", \"BMU\", \"BOL\", \"BRA\", \"BRB\", \"CHL\", \"COL\", \"CRI\",\n",
    "            \"CUB\", \"CUW\", \"CYM\", \"DMA\", \"DOM\", \"ECU\", \"FLK\", \"GLP\", \"GRD\", \"GTM\", \"GUF\", \"GUY\", \"HND\", \"HTI\", \"JAM\",\n",
    "            \"KNA\", \"LCA\", \"MAF\", \"MEX\", \"MSR\", \"MTQ\", \"NIC\", \"PAN\", \"PER\", \"PRI\", \"PRY\", \"SLV\", \"SUR\", \"SXM\", \"TCA\",\n",
    "            \"TTO\", \"UMI\", \"URY\", \"VCT\", \"VEN\", \"VGB\", \"VIR\"\n",
    "        ]\n",
    "    },\n",
    "    {\n",
    "        'region_iso': 'PO',\n",
    "        'region_name': 'Polar',\n",
    "        'country_iso_3s': [\n",
    "            \"ATF\", \"BVT\", \"GRL\", \"HMD\", \"SGS\"\n",
    "        ]\n",
    "    },\n",
    "    {\n",
    "        'region_iso': 'NA',\n",
    "        'region_name': 'North America',\n",
    "        'country_iso_3s': [\n",
    "            \"CAN\", \"SPM\", \"USA\"\n",
    "        ]\n",
    "    },\n",
    "        {\n",
    "        'region_iso': 'WA',\n",
    "        'region_name': 'West Asia',\n",
    "        'country_iso_3s': [\n",
    "            \"ARE\", \"BHR\", \"IRQ\", \"JOR\", \"KWT\", \"LBN\", \"OMN\", \"PSE\", \"QAT\", \"SAU\", \"SYR\", \"YEM\"\n",
    "        ]\n",
    "    },\n",
    "    {\n",
    "        'region_iso': 'AT', # this region is not in the Protected Planet database\n",
    "        'region_name': 'Antartica',\n",
    "        'country_iso_3s': [\n",
    "            \"ATA\"\n",
    "        ]\n",
    "    }\n",
    "]\n",
    "\n",
    "# Convert the region data to a dictionary that maps each country to its region name\n",
    "country_to_region = {}\n",
    "for region in regions_data:\n",
    "    for country in region['country_iso_3s']:\n",
    "        country_to_region[country] = region['region_iso']\n",
    "\n",
    "# Create a new column 'region' based on the mapping\n",
    "ps_iso['region'] = ps_iso['parent_iso'].map(country_to_region)"
   ]
  },
  {
   "cell_type": "code",
   "execution_count": 20,
   "metadata": {},
   "outputs": [],
   "source": [
    "country_area = ps_iso.groupby(['parent_iso', 'FPS_cat'], as_index=False)['total_area'].sum()\n",
    "country_area = country_area.rename(columns={'parent_iso':'location_id', 'FPS_cat':'fishing_protection_level', 'total_area':'area'})"
   ]
  },
  {
   "cell_type": "code",
   "execution_count": 21,
   "metadata": {},
   "outputs": [],
   "source": [
    "region_area = ps_iso.groupby(['region', 'FPS_cat'], as_index=False)['total_area'].sum()\n",
    "region_area = region_area.rename(columns={'region':'location_id', 'FPS_cat':'fishing_protection_level', 'total_area':'area'})"
   ]
  },
  {
   "cell_type": "code",
   "execution_count": 22,
   "metadata": {},
   "outputs": [],
   "source": [
    "ps_coverage = pd.concat([country_area, region_area, global_area], ignore_index=True)"
   ]
  },
  {
   "cell_type": "code",
   "execution_count": 23,
   "metadata": {},
   "outputs": [],
   "source": [
    "ps_coverage.to_csv(path_out + '/tables/fishing_protection_level.csv', index=False)"
   ]
  }
 ],
 "metadata": {
  "kernelspec": {
   "display_name": "Python 3 (ipykernel)",
   "language": "python",
   "name": "python3"
  },
  "language_info": {
   "codemirror_mode": {
    "name": "ipython",
    "version": 3
   },
   "file_extension": ".py",
   "mimetype": "text/x-python",
   "name": "python",
   "nbconvert_exporter": "python",
   "pygments_lexer": "ipython3",
   "version": "3.10.13"
  }
 },
 "nbformat": 4,
 "nbformat_minor": 2
}
