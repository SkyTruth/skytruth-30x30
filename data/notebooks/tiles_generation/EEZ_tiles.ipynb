{
 "cells": [
  {
   "cell_type": "markdown",
   "id": "79966c59",
   "metadata": {},
   "source": [
    "This notebook relies on the following cmd line tools, ensure they are installed and in the system\n",
    "- tippecanoe\n",
    "- mapshaper\n",
    "- aws cli"
   ]
  },
  {
   "cell_type": "code",
   "execution_count": 1,
   "id": "5fdbf517",
   "metadata": {},
   "outputs": [],
   "source": [
    "from pathlib import Path\n",
    "import sys\n",
    "\n",
    "scripts_dir = Path('../..').joinpath('src')\n",
    "if scripts_dir not in sys.path:\n",
    "    sys.path.insert(0, scripts_dir.resolve().as_posix())"
   ]
  },
  {
   "cell_type": "code",
   "execution_count": 2,
   "id": "def1ef65-1fd6-4367-a620-2dbe415f7104",
   "metadata": {},
   "outputs": [],
   "source": [
    "from utils import downloadFile, unzipFile, Settings\n",
    "# from mapshaper import Mapshaper # for the future\n",
    "from mapbox_uploader import uploadToMapbox\n",
    "from tippcanoe import mbtileGeneration\n",
    "from pydantic import BaseModel\n",
    "from functools import lru_cache\n",
    "import logging\n",
    "from IPython.lib import backgroundjobs as bg"
   ]
  },
  {
   "cell_type": "code",
   "execution_count": 3,
   "id": "a959a18d",
   "metadata": {},
   "outputs": [],
   "source": [
    "logging.basicConfig(level=logging.INFO)\n",
    "jobs = bg.BackgroundJobManager()"
   ]
  },
  {
   "cell_type": "code",
   "execution_count": 4,
   "id": "84603f9e",
   "metadata": {},
   "outputs": [],
   "source": [
    "@lru_cache()\n",
    "def get_settings():\n",
    "    return Settings(data_directory=Path('/home/mamabauser/data'))\n",
    "\n",
    "class VTPipeConfig(BaseModel):\n",
    "    data_download_url: str\n",
    "    name: str\n",
    "    file_name: str\n",
    "    folder_name: str\n",
    "    settings: Settings = get_settings()\n",
    "\n",
    "\n",
    "    def pipe(self):\n",
    "        '''\n",
    "        Pipeline to download, unzip, convert to mbtiles and upload to Mapbox\n",
    "        '''\n",
    "\n",
    "        folder_path = self.settings.data_directory.joinpath(self.folder_name)\n",
    "        file_path = folder_path.joinpath(self.file_name)\n",
    "        mbtiles_path = folder_path.joinpath(self.file_name).with_suffix(\".mbtiles\")\n",
    "        \n",
    "        folder_path.mkdir(parents=True, exist_ok=True)\n",
    "\n",
    "        downloadFile(self.data_download_url, folder_path)\n",
    "        unzipFile(file_path, folder_path)\n",
    "        mbtileGeneration(folder_path.joinpath(self.file_name), mbtiles_path)\n",
    "        #uploadToMapbox(mbtiles_path, self.name, self.settings.MAPBOX_USER, self.settings.MAPBOX_TOKEN)\n",
    "\n",
    "    def execute(self):\n",
    "        \"\"\"Run the pipeline\n",
    "        \"\"\"\n",
    "        try:\n",
    "            self.settings.validate_config()\n",
    "            return self.pipe()\n",
    "        except ValueError as e:\n",
    "            raise e\n"
   ]
  },
  {
   "cell_type": "code",
   "execution_count": 5,
   "id": "f013bf7a",
   "metadata": {},
   "outputs": [],
   "source": [
    "eez_PipeConfig = VTPipeConfig(\n",
    "    data_download_url=\"https://www.marineregions.org/download_file.php?file=EEZ_land_v3.zip\",\n",
    "    name=\"eez\",\n",
    "    file_name=\"EEZ_land_v3.zip\",\n",
    "    folder_name=\"EEZ_land_v3\",\n",
    ")"
   ]
  },
  {
   "cell_type": "code",
   "execution_count": 6,
   "id": "d57f1290",
   "metadata": {},
   "outputs": [
    {
     "name": "stderr",
     "output_type": "stream",
     "text": [
      "INFO:utils:Downloading file.in /home/mamabauser/data/EEZ_land_v3/EEZ_land_v3.zip...\n",
      "INFO:utils:Download Finish.\n"
     ]
    },
    {
     "ename": "BadZipFile",
     "evalue": "File is not a zip file",
     "output_type": "error",
     "traceback": [
      "\u001b[0;31m---------------------------------------------------------------------------\u001b[0m",
      "\u001b[0;31mBadZipFile\u001b[0m                                Traceback (most recent call last)",
      "\u001b[1;32m/home/alicitita/Projects/skytruth-30x30/data/notebooks/tiles_generation/EEZ_tiles.ipynb Cell 7\u001b[0m line \u001b[0;36m1\n\u001b[0;32m----> <a href='vscode-notebook-cell:/home/alicitita/Projects/skytruth-30x30/data/notebooks/tiles_generation/EEZ_tiles.ipynb#X24sZmlsZQ%3D%3D?line=0'>1</a>\u001b[0m eez_PipeConfig\u001b[39m.\u001b[39;49mexecute()\n",
      "\u001b[1;32m/home/alicitita/Projects/skytruth-30x30/data/notebooks/tiles_generation/EEZ_tiles.ipynb Cell 7\u001b[0m line \u001b[0;36m3\n\u001b[1;32m     <a href='vscode-notebook-cell:/home/alicitita/Projects/skytruth-30x30/data/notebooks/tiles_generation/EEZ_tiles.ipynb#X24sZmlsZQ%3D%3D?line=31'>32</a>\u001b[0m \u001b[39mtry\u001b[39;00m:\n\u001b[1;32m     <a href='vscode-notebook-cell:/home/alicitita/Projects/skytruth-30x30/data/notebooks/tiles_generation/EEZ_tiles.ipynb#X24sZmlsZQ%3D%3D?line=32'>33</a>\u001b[0m     \u001b[39mself\u001b[39m\u001b[39m.\u001b[39msettings\u001b[39m.\u001b[39mvalidate_config()\n\u001b[0;32m---> <a href='vscode-notebook-cell:/home/alicitita/Projects/skytruth-30x30/data/notebooks/tiles_generation/EEZ_tiles.ipynb#X24sZmlsZQ%3D%3D?line=33'>34</a>\u001b[0m     \u001b[39mreturn\u001b[39;00m \u001b[39mself\u001b[39;49m\u001b[39m.\u001b[39;49mpipe()\n\u001b[1;32m     <a href='vscode-notebook-cell:/home/alicitita/Projects/skytruth-30x30/data/notebooks/tiles_generation/EEZ_tiles.ipynb#X24sZmlsZQ%3D%3D?line=34'>35</a>\u001b[0m \u001b[39mexcept\u001b[39;00m \u001b[39mValueError\u001b[39;00m \u001b[39mas\u001b[39;00m e:\n\u001b[1;32m     <a href='vscode-notebook-cell:/home/alicitita/Projects/skytruth-30x30/data/notebooks/tiles_generation/EEZ_tiles.ipynb#X24sZmlsZQ%3D%3D?line=35'>36</a>\u001b[0m     \u001b[39mraise\u001b[39;00m e\n",
      "\u001b[1;32m/home/alicitita/Projects/skytruth-30x30/data/notebooks/tiles_generation/EEZ_tiles.ipynb Cell 7\u001b[0m line \u001b[0;36m2\n\u001b[1;32m     <a href='vscode-notebook-cell:/home/alicitita/Projects/skytruth-30x30/data/notebooks/tiles_generation/EEZ_tiles.ipynb#X24sZmlsZQ%3D%3D?line=21'>22</a>\u001b[0m folder_path\u001b[39m.\u001b[39mmkdir(parents\u001b[39m=\u001b[39m\u001b[39mTrue\u001b[39;00m, exist_ok\u001b[39m=\u001b[39m\u001b[39mTrue\u001b[39;00m)\n\u001b[1;32m     <a href='vscode-notebook-cell:/home/alicitita/Projects/skytruth-30x30/data/notebooks/tiles_generation/EEZ_tiles.ipynb#X24sZmlsZQ%3D%3D?line=23'>24</a>\u001b[0m downloadFile(\u001b[39mself\u001b[39m\u001b[39m.\u001b[39mdata_download_url, folder_path)\n\u001b[0;32m---> <a href='vscode-notebook-cell:/home/alicitita/Projects/skytruth-30x30/data/notebooks/tiles_generation/EEZ_tiles.ipynb#X24sZmlsZQ%3D%3D?line=24'>25</a>\u001b[0m unzipFile(file_path, folder_path)\n\u001b[1;32m     <a href='vscode-notebook-cell:/home/alicitita/Projects/skytruth-30x30/data/notebooks/tiles_generation/EEZ_tiles.ipynb#X24sZmlsZQ%3D%3D?line=25'>26</a>\u001b[0m mbtileGeneration(folder_path\u001b[39m.\u001b[39mjoinpath(\u001b[39mself\u001b[39m\u001b[39m.\u001b[39mfile_name), mbtiles_path)\n",
      "File \u001b[0;32m~/src/utils.py:82\u001b[0m, in \u001b[0;36munzipFile\u001b[0;34m(source_path, output_path)\u001b[0m\n\u001b[1;32m     72\u001b[0m \u001b[39mdef\u001b[39;00m \u001b[39munzipFile\u001b[39m(source_path: Path, output_path: Union[Path, \u001b[39mNone\u001b[39;00m] \u001b[39m=\u001b[39m \u001b[39mNone\u001b[39;00m) \u001b[39m-\u001b[39m\u001b[39m>\u001b[39m Path:\n\u001b[1;32m     73\u001b[0m \u001b[39m    \u001b[39m\u001b[39m\"\"\"unzip a file\u001b[39;00m\n\u001b[1;32m     74\u001b[0m \n\u001b[1;32m     75\u001b[0m \u001b[39m    Args:\u001b[39;00m\n\u001b[0;32m   (...)\u001b[0m\n\u001b[1;32m     80\u001b[0m \u001b[39m        Path: The path to the output file.\u001b[39;00m\n\u001b[1;32m     81\u001b[0m \u001b[39m    \"\"\"\u001b[39;00m\n\u001b[0;32m---> 82\u001b[0m     \u001b[39mwith\u001b[39;00m zipfile\u001b[39m.\u001b[39;49mZipFile(source_path, \u001b[39m\"\u001b[39;49m\u001b[39mr\u001b[39;49m\u001b[39m\"\u001b[39;49m) \u001b[39mas\u001b[39;00m zip_ref:\n\u001b[1;32m     83\u001b[0m         zip_ref\u001b[39m.\u001b[39mextractall(output_path)\n\u001b[1;32m     85\u001b[0m     \u001b[39mreturn\u001b[39;00m output_path\n",
      "File \u001b[0;32m/opt/conda/lib/python3.10/zipfile.py:1269\u001b[0m, in \u001b[0;36mZipFile.__init__\u001b[0;34m(self, file, mode, compression, allowZip64, compresslevel, strict_timestamps)\u001b[0m\n\u001b[1;32m   1267\u001b[0m \u001b[39mtry\u001b[39;00m:\n\u001b[1;32m   1268\u001b[0m     \u001b[39mif\u001b[39;00m mode \u001b[39m==\u001b[39m \u001b[39m'\u001b[39m\u001b[39mr\u001b[39m\u001b[39m'\u001b[39m:\n\u001b[0;32m-> 1269\u001b[0m         \u001b[39mself\u001b[39;49m\u001b[39m.\u001b[39;49m_RealGetContents()\n\u001b[1;32m   1270\u001b[0m     \u001b[39melif\u001b[39;00m mode \u001b[39min\u001b[39;00m (\u001b[39m'\u001b[39m\u001b[39mw\u001b[39m\u001b[39m'\u001b[39m, \u001b[39m'\u001b[39m\u001b[39mx\u001b[39m\u001b[39m'\u001b[39m):\n\u001b[1;32m   1271\u001b[0m         \u001b[39m# set the modified flag so central directory gets written\u001b[39;00m\n\u001b[1;32m   1272\u001b[0m         \u001b[39m# even if no files are added to the archive\u001b[39;00m\n\u001b[1;32m   1273\u001b[0m         \u001b[39mself\u001b[39m\u001b[39m.\u001b[39m_didModify \u001b[39m=\u001b[39m \u001b[39mTrue\u001b[39;00m\n",
      "File \u001b[0;32m/opt/conda/lib/python3.10/zipfile.py:1336\u001b[0m, in \u001b[0;36mZipFile._RealGetContents\u001b[0;34m(self)\u001b[0m\n\u001b[1;32m   1334\u001b[0m     \u001b[39mraise\u001b[39;00m BadZipFile(\u001b[39m\"\u001b[39m\u001b[39mFile is not a zip file\u001b[39m\u001b[39m\"\u001b[39m)\n\u001b[1;32m   1335\u001b[0m \u001b[39mif\u001b[39;00m \u001b[39mnot\u001b[39;00m endrec:\n\u001b[0;32m-> 1336\u001b[0m     \u001b[39mraise\u001b[39;00m BadZipFile(\u001b[39m\"\u001b[39m\u001b[39mFile is not a zip file\u001b[39m\u001b[39m\"\u001b[39m)\n\u001b[1;32m   1337\u001b[0m \u001b[39mif\u001b[39;00m \u001b[39mself\u001b[39m\u001b[39m.\u001b[39mdebug \u001b[39m>\u001b[39m \u001b[39m1\u001b[39m:\n\u001b[1;32m   1338\u001b[0m     \u001b[39mprint\u001b[39m(endrec)\n",
      "\u001b[0;31mBadZipFile\u001b[0m: File is not a zip file"
     ]
    }
   ],
   "source": [
    "eez_PipeConfig.execute()"
   ]
  }
 ],
 "metadata": {
  "kernelspec": {
   "display_name": "Python 3 (ipykernel)",
   "language": "python",
   "name": "python3"
  },
  "language_info": {
   "codemirror_mode": {
    "name": "ipython",
    "version": 3
   },
   "file_extension": ".py",
   "mimetype": "text/x-python",
   "name": "python",
   "nbconvert_exporter": "python",
   "pygments_lexer": "ipython3",
   "version": "3.10.12"
  }
 },
 "nbformat": 4,
 "nbformat_minor": 5
}
