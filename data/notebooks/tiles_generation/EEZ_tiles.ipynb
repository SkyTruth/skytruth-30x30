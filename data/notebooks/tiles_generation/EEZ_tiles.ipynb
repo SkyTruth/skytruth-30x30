{
 "cells": [
  {
   "cell_type": "markdown",
   "id": "79966c59",
   "metadata": {},
   "source": [
    "This notebook relies on the following cmd line tools, ensure they are installed and in the system\n",
    "- tippecanoe\n",
    "- mapshaper\n",
    "- aws cli"
   ]
  },
  {
   "cell_type": "code",
   "execution_count": 1,
   "id": "def1ef65-1fd6-4367-a620-2dbe415f7104",
   "metadata": {},
   "outputs": [],
   "source": [
    "from pathlib import Path\n",
    "import sys\n",
    "import logging\n",
    "\n",
    "from IPython.lib import backgroundjobs as bg\n",
    "\n",
    "scripts_dir = Path('../..').joinpath('src')\n",
    "if scripts_dir not in sys.path:\n",
    "    sys.path.insert(0, scripts_dir.resolve().as_posix())\n",
    "    \n",
    "from pipelines.pipes import get_pipes\n",
    "\n",
    "logging.basicConfig(level=logging.DEBUG)\n",
    "logging.getLogger(\"requests\").setLevel(logging.WARNING)\n",
    "logging.getLogger(\"urllib3\").setLevel(logging.WARNING)\n",
    "jobs = bg.BackgroundJobManager()"
   ]
  },
  {
   "cell_type": "code",
   "execution_count": null,
   "id": "2c4b3fc7",
   "metadata": {},
   "outputs": [
    {
     "name": "stderr",
     "output_type": "stream",
     "text": [
      "DEBUG:pipelines.settings:/home/mambauser/data\n",
      "DEBUG:root:Starting job # 0 in a separate thread.\n",
      "INFO:pipelines.base_pipe:Running eez_tiles pipeline\n",
      "INFO:utils:File /home/mambauser/data/eez_tiles/World_EEZ_v11_20191118.zip already exists.\n"
     ]
    },
    {
     "name": "stderr",
     "output_type": "stream",
     "text": [
      "INFO:utils:Unzip Finish.\n",
      "Allocating 8 GB of heap memory\n",
      "[o] Wrote /home/mambauser/data/eez_tiles/World_EEZ_v11_20191118/eez_v11.shp\n",
      "[o] Wrote /home/mambauser/data/eez_tiles/World_EEZ_v11_20191118/eez_v11.shx\n",
      "[o] Wrote /home/mambauser/data/eez_tiles/World_EEZ_v11_20191118/eez_v11.dbf\n",
      "[o] Wrote /home/mambauser/data/eez_tiles/World_EEZ_v11_20191118/eez_v11.prj\n",
      "INFO:mapbox_uploader:Uploading to Mapbox...\n",
      "INFO:mapbox_uploader:Uploading to S3...\n"
     ]
    },
    {
     "name": "stdout",
     "output_type": "stream",
     "text": [
      "Completed 69.8 MiB/69.8 MiB (7.8 MiB/s) with 1 file(s) remaining   \r"
     ]
    },
    {
     "name": "stderr",
     "output_type": "stream",
     "text": [
      "INFO:mapbox_uploader:CompletedProcess(args='aws s3 cp /home/mambauser/data/eez_tiles/World_EEZ_v11_20191118/eez_v11.mbtiles s3://tilestream-tilesets-production/53/_pending/h75tk8ezapo2qst37s0l04olc/skytruth --region us-east-1', returncode=0)\n"
     ]
    },
    {
     "name": "stdout",
     "output_type": "stream",
     "text": [
      "upload: ../../data/eez_tiles/World_EEZ_v11_20191118/eez_v11.mbtiles to s3://tilestream-tilesets-production/53/_pending/h75tk8ezapo2qst37s0l04olc/skytruth\n"
     ]
    },
    {
     "name": "stderr",
     "output_type": "stream",
     "text": [
      "100%|██████████| 100/100 [01:48<00:00,  1.08s/it]\n",
      "INFO:mapbox_uploader:True\n"
     ]
    }
   ],
   "source": [
    "# this code will execute all pipelines selected in background.\n",
    "mypipes_subset = {k: v for k, v in get_pipes().items() if k in ['eez_tiles']}\n",
    "for name, pipe in mypipes_subset.items():\n",
    "    jobs.new(pipe().execute)"
   ]
  },
  {
   "cell_type": "markdown",
   "id": "0e1a542b",
   "metadata": {},
   "source": []
  }
 ],
 "metadata": {
  "kernelspec": {
   "display_name": "Python 3 (ipykernel)",
   "language": "python",
   "name": "python3"
  },
  "language_info": {
   "codemirror_mode": {
    "name": "ipython",
    "version": 3
   },
   "file_extension": ".py",
   "mimetype": "text/x-python",
   "name": "python",
   "nbconvert_exporter": "python",
   "pygments_lexer": "ipython3",
   "version": "3.10.12"
  }
 },
 "nbformat": 4,
 "nbformat_minor": 5
}
