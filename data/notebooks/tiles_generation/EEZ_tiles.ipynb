{
 "cells": [
  {
   "cell_type": "markdown",
   "id": "79966c59",
   "metadata": {},
   "source": [
    "This notebook relies on the following cmd line tools, ensure they are installed and in the system\n",
    "- tippecanoe\n",
    "- mapshaper\n",
    "- aws cli"
   ]
  },
  {
   "cell_type": "code",
   "execution_count": 1,
   "id": "def1ef65-1fd6-4367-a620-2dbe415f7104",
   "metadata": {},
   "outputs": [],
   "source": [
    "from pathlib import Path\n",
    "import sys\n",
    "import logging\n",
    "\n",
    "from IPython.lib import backgroundjobs as bg\n",
    "\n",
    "scripts_dir = Path('../..').joinpath('src')\n",
    "if scripts_dir not in sys.path:\n",
    "    sys.path.insert(0, scripts_dir.resolve().as_posix())\n",
    "    \n",
    "from pipelines.pipes import get_pipes\n",
    "from strapi import Strapi\n",
    "\n",
    "logging.basicConfig(level=logging.DEBUG)\n",
    "logging.getLogger(\"requests\").setLevel(logging.WARNING)\n",
    "logging.getLogger(\"urllib3\").setLevel(logging.WARNING)\n",
    "jobs = bg.BackgroundJobManager()"
   ]
  },
  {
   "cell_type": "code",
   "execution_count": 26,
   "id": "eb61ff00",
   "metadata": {},
   "outputs": [
    {
     "ename": "HTTPError",
     "evalue": "404 Client Error: Not Found for url: http://192.168.50.116:1337/content-manager/collection-types",
     "output_type": "error",
     "traceback": [
      "\u001b[0;31m---------------------------------------------------------------------------\u001b[0m",
      "\u001b[0;31mHTTPError\u001b[0m                                 Traceback (most recent call last)",
      "\u001b[1;32m/home/alicitita/Projects/skytruth-30x30/data/notebooks/tiles_generation/EEZ_tiles.ipynb Cell 3\u001b[0m line \u001b[0;36m5\n\u001b[1;32m      <a href='vscode-notebook-cell:/home/alicitita/Projects/skytruth-30x30/data/notebooks/tiles_generation/EEZ_tiles.ipynb#X32sZmlsZQ%3D%3D?line=0'>1</a>\u001b[0m strapi \u001b[39m=\u001b[39m Strapi(url\u001b[39m=\u001b[39m\u001b[39m'\u001b[39m\u001b[39mhttp://192.168.50.116:1337\u001b[39m\u001b[39m'\u001b[39m)\n\u001b[1;32m      <a href='vscode-notebook-cell:/home/alicitita/Projects/skytruth-30x30/data/notebooks/tiles_generation/EEZ_tiles.ipynb#X32sZmlsZQ%3D%3D?line=1'>2</a>\u001b[0m strapi\u001b[39m.\u001b[39mlogin(\u001b[39m'\u001b[39m\u001b[39malicia\u001b[39m\u001b[39m'\u001b[39m,\u001b[39m'\u001b[39m\u001b[39mKitiara_90\u001b[39m\u001b[39m'\u001b[39m\n\u001b[1;32m      <a href='vscode-notebook-cell:/home/alicitita/Projects/skytruth-30x30/data/notebooks/tiles_generation/EEZ_tiles.ipynb#X32sZmlsZQ%3D%3D?line=2'>3</a>\u001b[0m )\n\u001b[0;32m----> <a href='vscode-notebook-cell:/home/alicitita/Projects/skytruth-30x30/data/notebooks/tiles_generation/EEZ_tiles.ipynb#X32sZmlsZQ%3D%3D?line=4'>5</a>\u001b[0m strapi\u001b[39m.\u001b[39;49mgetCollections\n",
      "File \u001b[0;32m/opt/conda/lib/python3.10/functools.py:981\u001b[0m, in \u001b[0;36mcached_property.__get__\u001b[0;34m(self, instance, owner)\u001b[0m\n\u001b[1;32m    979\u001b[0m val \u001b[39m=\u001b[39m cache\u001b[39m.\u001b[39mget(\u001b[39mself\u001b[39m\u001b[39m.\u001b[39mattrname, _NOT_FOUND)\n\u001b[1;32m    980\u001b[0m \u001b[39mif\u001b[39;00m val \u001b[39mis\u001b[39;00m _NOT_FOUND:\n\u001b[0;32m--> 981\u001b[0m     val \u001b[39m=\u001b[39m \u001b[39mself\u001b[39;49m\u001b[39m.\u001b[39;49mfunc(instance)\n\u001b[1;32m    982\u001b[0m     \u001b[39mtry\u001b[39;00m:\n\u001b[1;32m    983\u001b[0m         cache[\u001b[39mself\u001b[39m\u001b[39m.\u001b[39mattrname] \u001b[39m=\u001b[39m val\n",
      "File \u001b[0;32m~/src/strapi.py:53\u001b[0m, in \u001b[0;36mStrapi.getCollections\u001b[0;34m(self)\u001b[0m\n\u001b[1;32m     50\u001b[0m \u001b[39m@cached_property\u001b[39m\n\u001b[1;32m     51\u001b[0m \u001b[39mdef\u001b[39;00m \u001b[39mgetCollections\u001b[39m(\u001b[39mself\u001b[39m):\n\u001b[1;32m     52\u001b[0m     response \u001b[39m=\u001b[39m \u001b[39mself\u001b[39m\u001b[39m.\u001b[39msession\u001b[39m.\u001b[39mget(\u001b[39mf\u001b[39m\u001b[39m\"\u001b[39m\u001b[39m{\u001b[39;00m\u001b[39mself\u001b[39m\u001b[39m.\u001b[39murl\u001b[39m}\u001b[39;00m\u001b[39m/content-manager/collection-types\u001b[39m\u001b[39m\"\u001b[39m)\n\u001b[0;32m---> 53\u001b[0m     response\u001b[39m.\u001b[39;49mraise_for_status()\n\u001b[1;32m     54\u001b[0m     data \u001b[39m=\u001b[39m [\n\u001b[1;32m     55\u001b[0m         response\u001b[39m.\u001b[39mjson()\u001b[39m.\u001b[39mget(\u001b[39m\"\u001b[39m\u001b[39mdata\u001b[39m\u001b[39m\"\u001b[39m)\n\u001b[1;32m     56\u001b[0m         \u001b[39mfor\u001b[39;00m collection \u001b[39min\u001b[39;00m response\u001b[39m.\u001b[39mjson()\n\u001b[1;32m     57\u001b[0m         \u001b[39mif\u001b[39;00m collection\u001b[39m.\u001b[39mget(\u001b[39m\"\u001b[39m\u001b[39misDisplayed\u001b[39m\u001b[39m\"\u001b[39m) \u001b[39m==\u001b[39m \u001b[39mTrue\u001b[39;00m\n\u001b[1;32m     58\u001b[0m     ]\n\u001b[1;32m     59\u001b[0m     \u001b[39mreturn\u001b[39;00m data\n",
      "File \u001b[0;32m/opt/conda/lib/python3.10/site-packages/requests/models.py:1021\u001b[0m, in \u001b[0;36mResponse.raise_for_status\u001b[0;34m(self)\u001b[0m\n\u001b[1;32m   1016\u001b[0m     http_error_msg \u001b[39m=\u001b[39m (\n\u001b[1;32m   1017\u001b[0m         \u001b[39mf\u001b[39m\u001b[39m\"\u001b[39m\u001b[39m{\u001b[39;00m\u001b[39mself\u001b[39m\u001b[39m.\u001b[39mstatus_code\u001b[39m}\u001b[39;00m\u001b[39m Server Error: \u001b[39m\u001b[39m{\u001b[39;00mreason\u001b[39m}\u001b[39;00m\u001b[39m for url: \u001b[39m\u001b[39m{\u001b[39;00m\u001b[39mself\u001b[39m\u001b[39m.\u001b[39murl\u001b[39m}\u001b[39;00m\u001b[39m\"\u001b[39m\n\u001b[1;32m   1018\u001b[0m     )\n\u001b[1;32m   1020\u001b[0m \u001b[39mif\u001b[39;00m http_error_msg:\n\u001b[0;32m-> 1021\u001b[0m     \u001b[39mraise\u001b[39;00m HTTPError(http_error_msg, response\u001b[39m=\u001b[39m\u001b[39mself\u001b[39m)\n",
      "\u001b[0;31mHTTPError\u001b[0m: 404 Client Error: Not Found for url: http://192.168.50.116:1337/content-manager/collection-types"
     ]
    }
   ],
   "source": [
    "strapi = Strapi(url='http://192.168.50.116:1337')\n",
    "strapi.login()\n",
    "\n",
    "strapi.getCollections"
   ]
  },
  {
   "cell_type": "code",
   "execution_count": null,
   "id": "2c4b3fc7",
   "metadata": {},
   "outputs": [
    {
     "name": "stderr",
     "output_type": "stream",
     "text": [
      "DEBUG:pipelines.settings:/home/mambauser/data\n",
      "DEBUG:root:Starting job # 0 in a separate thread.\n",
      "INFO:pipelines.base_pipe:Running eez_tiles pipeline\n",
      "INFO:utils:File /home/mambauser/data/eez_tiles/World_EEZ_v11_20191118.zip already exists.\n"
     ]
    },
    {
     "name": "stderr",
     "output_type": "stream",
     "text": [
      "INFO:utils:Unzip Finish.\n",
      "Allocating 8 GB of heap memory\n",
      "[o] Wrote /home/mambauser/data/eez_tiles/World_EEZ_v11_20191118/eez_v11.shp\n",
      "[o] Wrote /home/mambauser/data/eez_tiles/World_EEZ_v11_20191118/eez_v11.shx\n",
      "[o] Wrote /home/mambauser/data/eez_tiles/World_EEZ_v11_20191118/eez_v11.dbf\n",
      "[o] Wrote /home/mambauser/data/eez_tiles/World_EEZ_v11_20191118/eez_v11.prj\n",
      "INFO:mapbox_uploader:Uploading to Mapbox...\n",
      "INFO:mapbox_uploader:Uploading to S3...\n"
     ]
    },
    {
     "name": "stdout",
     "output_type": "stream",
     "text": [
      "Completed 69.8 MiB/69.8 MiB (7.8 MiB/s) with 1 file(s) remaining   \r"
     ]
    },
    {
     "name": "stderr",
     "output_type": "stream",
     "text": [
      "INFO:mapbox_uploader:CompletedProcess(args='aws s3 cp /home/mambauser/data/eez_tiles/World_EEZ_v11_20191118/eez_v11.mbtiles s3://tilestream-tilesets-production/53/_pending/h75tk8ezapo2qst37s0l04olc/skytruth --region us-east-1', returncode=0)\n"
     ]
    },
    {
     "name": "stdout",
     "output_type": "stream",
     "text": [
      "upload: ../../data/eez_tiles/World_EEZ_v11_20191118/eez_v11.mbtiles to s3://tilestream-tilesets-production/53/_pending/h75tk8ezapo2qst37s0l04olc/skytruth\n"
     ]
    },
    {
     "name": "stderr",
     "output_type": "stream",
     "text": [
      "100%|██████████| 100/100 [01:48<00:00,  1.08s/it]\n",
      "INFO:mapbox_uploader:True\n"
     ]
    }
   ],
   "source": [
    "# this code will execute all pipelines selected in background.\n",
    "mypipes_subset = {k: v for k, v in get_pipes().items() if k in ['eez_tiles']}\n",
    "for name, pipe in mypipes_subset.items():\n",
    "    jobs.new(pipe().execute)"
   ]
  }
 ],
 "metadata": {
  "kernelspec": {
   "display_name": "Python 3 (ipykernel)",
   "language": "python",
   "name": "python3"
  },
  "language_info": {
   "codemirror_mode": {
    "name": "ipython",
    "version": 3
   },
   "file_extension": ".py",
   "mimetype": "text/x-python",
   "name": "python",
   "nbconvert_exporter": "python",
   "pygments_lexer": "ipython3",
   "version": "3.10.12"
  }
 },
 "nbformat": 4,
 "nbformat_minor": 5
}
