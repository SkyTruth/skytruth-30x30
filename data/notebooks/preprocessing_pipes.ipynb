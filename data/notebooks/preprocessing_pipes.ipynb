{
 "cells": [
  {
   "cell_type": "markdown",
   "id": "79966c59",
   "metadata": {},
   "source": [
    "This notebook relies on the following cmd line tools, ensure they are installed and in the system\n",
    "- tippecanoe\n",
    "- mapshaper\n",
    "- aws cli"
   ]
  },
  {
   "cell_type": "code",
   "execution_count": 3,
   "id": "def1ef65-1fd6-4367-a620-2dbe415f7104",
   "metadata": {},
   "outputs": [
    {
     "ename": "TypeError",
     "evalue": "ExtractParams.__init__() missing 1 required positional argument: 'source'",
     "output_type": "error",
     "traceback": [
      "\u001b[0;31m---------------------------------------------------------------------------\u001b[0m",
      "\u001b[0;31mTypeError\u001b[0m                                 Traceback (most recent call last)",
      "\u001b[1;32m/home/alicitita/Projects/skytruth-30x30/data/notebooks/preprocessing_pipes.ipynb Cell 2\u001b[0m line \u001b[0;36m1\n\u001b[1;32m      <a href='vscode-notebook-cell:/home/alicitita/Projects/skytruth-30x30/data/notebooks/preprocessing_pipes.ipynb#W1sZmlsZQ%3D%3D?line=7'>8</a>\u001b[0m \u001b[39mif\u001b[39;00m scripts_dir \u001b[39mnot\u001b[39;00m \u001b[39min\u001b[39;00m sys\u001b[39m.\u001b[39mpath:\n\u001b[1;32m      <a href='vscode-notebook-cell:/home/alicitita/Projects/skytruth-30x30/data/notebooks/preprocessing_pipes.ipynb#W1sZmlsZQ%3D%3D?line=8'>9</a>\u001b[0m     sys\u001b[39m.\u001b[39mpath\u001b[39m.\u001b[39minsert(\u001b[39m0\u001b[39m, scripts_dir\u001b[39m.\u001b[39mresolve()\u001b[39m.\u001b[39mas_posix())\n\u001b[0;32m---> <a href='vscode-notebook-cell:/home/alicitita/Projects/skytruth-30x30/data/notebooks/preprocessing_pipes.ipynb#W1sZmlsZQ%3D%3D?line=10'>11</a>\u001b[0m \u001b[39mfrom\u001b[39;00m \u001b[39mpipelines\u001b[39;00m\u001b[39m.\u001b[39;00m\u001b[39mpipes\u001b[39;00m \u001b[39mimport\u001b[39;00m get_pipes, execution_order, filter_pipes\n\u001b[1;32m     <a href='vscode-notebook-cell:/home/alicitita/Projects/skytruth-30x30/data/notebooks/preprocessing_pipes.ipynb#W1sZmlsZQ%3D%3D?line=12'>13</a>\u001b[0m logging\u001b[39m.\u001b[39mbasicConfig(level\u001b[39m=\u001b[39mlogging\u001b[39m.\u001b[39mDEBUG)\n\u001b[1;32m     <a href='vscode-notebook-cell:/home/alicitita/Projects/skytruth-30x30/data/notebooks/preprocessing_pipes.ipynb#W1sZmlsZQ%3D%3D?line=13'>14</a>\u001b[0m logging\u001b[39m.\u001b[39mgetLogger(\u001b[39m\"\u001b[39m\u001b[39mrequests\u001b[39m\u001b[39m\"\u001b[39m)\u001b[39m.\u001b[39msetLevel(logging\u001b[39m.\u001b[39mWARNING)\n",
      "File \u001b[0;32m~/src/pipelines/pipes.py:6\u001b[0m\n\u001b[1;32m      4\u001b[0m \u001b[39mfrom\u001b[39;00m \u001b[39mpipelines\u001b[39;00m\u001b[39m.\u001b[39;00m\u001b[39mbase_pipe\u001b[39;00m \u001b[39mimport\u001b[39;00m PreprocessBasePipe, VTBasePipe, IntermediateBasePipe\n\u001b[1;32m      5\u001b[0m \u001b[39mfrom\u001b[39;00m \u001b[39mpipelines\u001b[39;00m \u001b[39mimport\u001b[39;00m tiles_pipes\n\u001b[0;32m----> 6\u001b[0m \u001b[39mfrom\u001b[39;00m \u001b[39mpipelines\u001b[39;00m \u001b[39mimport\u001b[39;00m precalc_pipes\n\u001b[1;32m      7\u001b[0m \u001b[39mfrom\u001b[39;00m \u001b[39mpipelines\u001b[39;00m \u001b[39mimport\u001b[39;00m intermediate_pipes\n\u001b[1;32m     10\u001b[0m \u001b[39m@lru_cache\u001b[39m\n\u001b[1;32m     11\u001b[0m \u001b[39mdef\u001b[39;00m \u001b[39mget_pipes\u001b[39m() \u001b[39m-\u001b[39m\u001b[39m>\u001b[39m \u001b[39mdict\u001b[39m:\n",
      "File \u001b[0;32m~/src/pipelines/precalc_pipes/__init__.py:10\u001b[0m\n\u001b[1;32m      7\u001b[0m package_dir \u001b[39m=\u001b[39m Path(\u001b[39m__file__\u001b[39m)\u001b[39m.\u001b[39mresolve()\u001b[39m.\u001b[39mparent\u001b[39m.\u001b[39mas_posix()\n\u001b[1;32m      8\u001b[0m \u001b[39mfor\u001b[39;00m _, module_name, _ \u001b[39min\u001b[39;00m iter_modules([package_dir]):\n\u001b[1;32m      9\u001b[0m     \u001b[39m# import the module and iterate through its attributes\u001b[39;00m\n\u001b[0;32m---> 10\u001b[0m     module \u001b[39m=\u001b[39m import_module(\u001b[39mf\u001b[39;49m\u001b[39m\"\u001b[39;49m\u001b[39m{\u001b[39;49;00m\u001b[39m__name__\u001b[39;49m\u001b[39m}\u001b[39;49;00m\u001b[39m.\u001b[39;49m\u001b[39m{\u001b[39;49;00mmodule_name\u001b[39m}\u001b[39;49;00m\u001b[39m\"\u001b[39;49m)\n\u001b[1;32m     11\u001b[0m     \u001b[39mfor\u001b[39;00m attribute_name \u001b[39min\u001b[39;00m \u001b[39mdir\u001b[39m(module):\n\u001b[1;32m     12\u001b[0m         attribute \u001b[39m=\u001b[39m \u001b[39mgetattr\u001b[39m(module, attribute_name)\n",
      "File \u001b[0;32m/opt/conda/lib/python3.10/importlib/__init__.py:126\u001b[0m, in \u001b[0;36mimport_module\u001b[0;34m(name, package)\u001b[0m\n\u001b[1;32m    124\u001b[0m             \u001b[39mbreak\u001b[39;00m\n\u001b[1;32m    125\u001b[0m         level \u001b[39m+\u001b[39m\u001b[39m=\u001b[39m \u001b[39m1\u001b[39m\n\u001b[0;32m--> 126\u001b[0m \u001b[39mreturn\u001b[39;00m _bootstrap\u001b[39m.\u001b[39;49m_gcd_import(name[level:], package, level)\n",
      "File \u001b[0;32m~/src/pipelines/precalc_pipes/LocationsPipe.py:131\u001b[0m\n\u001b[1;32m    127\u001b[0m \u001b[39mdef\u001b[39;00m \u001b[39madd_bbox\u001b[39m(df: pd\u001b[39m.\u001b[39mDataFrame) \u001b[39m-\u001b[39m\u001b[39m>\u001b[39m pd\u001b[39m.\u001b[39mDataFrame:\n\u001b[1;32m    128\u001b[0m     \u001b[39mreturn\u001b[39;00m df\u001b[39m.\u001b[39massign(bounds\u001b[39m=\u001b[39m\u001b[39mlambda\u001b[39;00m row: row[\u001b[39m\"\u001b[39m\u001b[39mgeometry\u001b[39m\u001b[39m\"\u001b[39m]\u001b[39m.\u001b[39mbounds\u001b[39m.\u001b[39mapply(\u001b[39mlist\u001b[39m, axis\u001b[39m=\u001b[39m\u001b[39m1\u001b[39m))\n\u001b[0;32m--> 131\u001b[0m \u001b[39mclass\u001b[39;00m \u001b[39mLocationsPipe\u001b[39;00m(PreprocessBasePipe):\n\u001b[1;32m    132\u001b[0m     pipeline_name \u001b[39m=\u001b[39m \u001b[39m\"\u001b[39m\u001b[39meez_locations_precalc\u001b[39m\u001b[39m\"\u001b[39m\n\u001b[1;32m    133\u001b[0m     depends_on \u001b[39m=\u001b[39m [\u001b[39m\"\u001b[39m\u001b[39meez_intermediate\u001b[39m\u001b[39m\"\u001b[39m]\n",
      "File \u001b[0;32m~/src/pipelines/precalc_pipes/LocationsPipe.py:134\u001b[0m, in \u001b[0;36mLocationsPipe\u001b[0;34m()\u001b[0m\n\u001b[1;32m    132\u001b[0m pipeline_name \u001b[39m=\u001b[39m \u001b[39m\"\u001b[39m\u001b[39meez_locations_precalc\u001b[39m\u001b[39m\"\u001b[39m\n\u001b[1;32m    133\u001b[0m depends_on \u001b[39m=\u001b[39m [\u001b[39m\"\u001b[39m\u001b[39meez_intermediate\u001b[39m\u001b[39m\"\u001b[39m]\n\u001b[0;32m--> 134\u001b[0m extract_params \u001b[39m=\u001b[39m ExtractParams(\n\u001b[1;32m    135\u001b[0m     output_path\u001b[39m=\u001b[39;49m\u001b[39m\"\u001b[39;49m\u001b[39mdata/eez_intermediate\u001b[39;49m\u001b[39m\"\u001b[39;49m,\n\u001b[1;32m    136\u001b[0m )\n\u001b[1;32m    137\u001b[0m transform_params \u001b[39m=\u001b[39m TransformParams(\n\u001b[1;32m    138\u001b[0m     files\u001b[39m=\u001b[39m\u001b[39m\"\u001b[39m\u001b[39meez_intermediate.shp\u001b[39m\u001b[39m\"\u001b[39m,\n\u001b[1;32m    139\u001b[0m     columns\u001b[39m=\u001b[39m[\u001b[39m\"\u001b[39m\u001b[39mcode\u001b[39m\u001b[39m\"\u001b[39m, \u001b[39m\"\u001b[39m\u001b[39mname\u001b[39m\u001b[39m\"\u001b[39m, \u001b[39m\"\u001b[39m\u001b[39mtotalMarineArea\u001b[39m\u001b[39m\"\u001b[39m, \u001b[39m\"\u001b[39m\u001b[39mtype\u001b[39m\u001b[39m\"\u001b[39m, \u001b[39m\"\u001b[39m\u001b[39mgroups\u001b[39m\u001b[39m\"\u001b[39m, \u001b[39m\"\u001b[39m\u001b[39mbounds\u001b[39m\u001b[39m\"\u001b[39m, \u001b[39m\"\u001b[39m\u001b[39mid\u001b[39m\u001b[39m\"\u001b[39m],\n\u001b[0;32m   (...)\u001b[0m\n\u001b[1;32m    144\u001b[0m     },\n\u001b[1;32m    145\u001b[0m )\n\u001b[1;32m    146\u001b[0m load_params \u001b[39m=\u001b[39m LoadParams(destination_name\u001b[39m=\u001b[39m[\u001b[39m\"\u001b[39m\u001b[39mlocations\u001b[39m\u001b[39m\"\u001b[39m, \u001b[39m\"\u001b[39m\u001b[39mregion_locations\u001b[39m\u001b[39m\"\u001b[39m])\n",
      "\u001b[0;31mTypeError\u001b[0m: ExtractParams.__init__() missing 1 required positional argument: 'source'"
     ]
    }
   ],
   "source": [
    "from pathlib import Path\n",
    "import sys\n",
    "import logging\n",
    "\n",
    "from IPython.lib import backgroundjobs as bg\n",
    "\n",
    "scripts_dir = Path('..').joinpath('src')\n",
    "if scripts_dir not in sys.path:\n",
    "    sys.path.insert(0, scripts_dir.resolve().as_posix())\n",
    "\n",
    "from pipelines.pipes import get_pipes, execution_order, filter_pipes\n",
    "\n",
    "logging.basicConfig(level=logging.DEBUG)\n",
    "logging.getLogger(\"requests\").setLevel(logging.WARNING)\n",
    "logging.getLogger(\"urllib3\").setLevel(logging.WARNING)\n",
    "logging.getLogger(\"fiona\").setLevel(logging.WARNING)\n",
    "jobs = bg.BackgroundJobManager()"
   ]
  },
  {
   "cell_type": "code",
   "execution_count": 2,
   "id": "38e82156",
   "metadata": {},
   "outputs": [],
   "source": [
    "# def execute_pipes(pipes):\n",
    "#     ordered_pipes = execution_order(pipes)\n",
    "#     for pipe in ordered_pipes:\n",
    "#         jobs.new(pipe().execute)\n",
    "\n",
    "# # this code will execute all pipelines selected in background.\n",
    "\n",
    "# mypipes_subset = filter_pipes(get_pipes().items(), ['eez_tiles'])\n",
    "# execute_pipes(mypipes_subset)"
   ]
  },
  {
   "cell_type": "code",
   "execution_count": 2,
   "id": "47a451d2",
   "metadata": {},
   "outputs": [
    {
     "data": {
      "text/plain": [
       "{'eez_intermediate': pipelines.intermediate_pipes.EEZIntermediatePipe.EEZIntermediatePipe,\n",
       " 'mpaatlas_intermediate': pipelines.intermediate_pipes.MpaAtlasIntermediatePipe.MpaAtlasIntermediatePipe,\n",
       " 'mpa_intermediate': pipelines.intermediate_pipes.MpasIntermediatePipe.MpasIntermediatePipe,\n",
       " 'protectedseas_intermediate': pipelines.intermediate_pipes.ProtectedSeasIntermediatePipe.ProtectedSeasIntermediatePipe,\n",
       " 'eez_tiles': pipelines.tiles_pipes.EEZTilesPipe.EEZTilesPipe,\n",
       " 'mpaatlas_tiles': pipelines.tiles_pipes.MpaAtlasTilesPipe.MpaAtlasTilesPipe,\n",
       " 'mpa_tiles': pipelines.tiles_pipes.MpasTilesPipe.MpasTilesPipe,\n",
       " 'protectedseas_tiles': pipelines.tiles_pipes.ProtectedSeasTilesPipe.ProtectedSeasTilesPipe,\n",
       " 'regions_tiles': pipelines.tiles_pipes.RegionsTilesPipe.RegionsTilesPipe,\n",
       " 'eez_locations_precalc': pipelines.precalc_pipes.LocationsPipe.LocationsPipe,\n",
       " 'mpa_coverage_precalc': pipelines.precalc_pipes.PACoveragePipe.PACoveragePipe}"
      ]
     },
     "execution_count": 2,
     "metadata": {},
     "output_type": "execute_result"
    }
   ],
   "source": [
    "get_pipes()"
   ]
  },
  {
   "cell_type": "code",
   "execution_count": 3,
   "id": "d85fee01",
   "metadata": {},
   "outputs": [],
   "source": [
    "mypipes_subset = filter_pipes(get_pipes(), [\"eez_locations_precalc\"])"
   ]
  },
  {
   "cell_type": "code",
   "execution_count": 9,
   "id": "4798cd04",
   "metadata": {},
   "outputs": [
    {
     "name": "stderr",
     "output_type": "stream",
     "text": [
      "DEBUG:pipelines.settings:/home/mambauser/data\n",
      "INFO:pipelines.base_pipe:Pipeline mpa_intermediate running at 2023-11-16 17:37:32.700031: starting extract...\n",
      "INFO:utils:File /home/mambauser/data/mpa_intermediate/WDPA_WDOECM_Nov2023_Public_marine_shp.zip already exists.\n",
      "INFO:pipelines.base_pipe:Pipeline mpa_intermediate finish at 2023-11-16 17:37:32.871508: Success executing extract\n",
      "INFO:pipelines.base_pipe:Pipeline mpa_intermediate running at 2023-11-16 17:37:32.871822: starting transform...\n",
      "INFO:pipelines.base_pipe:Pipeline mpa_intermediate finish at 2023-11-16 17:37:32.872314: Success executing transform\n",
      "INFO:pipelines.base_pipe:Pipeline mpa_intermediate running at 2023-11-16 17:37:32.872605: starting load...\n",
      "DEBUG:google.auth.transport.requests:Making request: POST https://oauth2.googleapis.com/token\n",
      "INFO:pipelines.base_pipe:Pipeline mpa_intermediate finish at 2023-11-16 17:38:00.909038: Success executing load\n"
     ]
    }
   ],
   "source": [
    "for n, pipe in mypipes_subset.items():\n",
    "    new_pipe = pipe()\n",
    "    new_pipe.extract().transform()"
   ]
  },
  {
   "cell_type": "code",
   "execution_count": 3,
   "id": "f5393ea0",
   "metadata": {},
   "outputs": [],
   "source": [
    "#!micromamba install pandera pandera-hypotheses pandera-io pandera-geopandas -c conda-forge -y"
   ]
  },
  {
   "cell_type": "code",
   "execution_count": 4,
   "id": "c23231e0",
   "metadata": {},
   "outputs": [],
   "source": [
    "from logging import getLogger\n",
    "from pathlib import Path\n",
    "from typing import Union\n",
    "import pandas as pd\n",
    "import geopandas as gpd\n",
    "import numpy as np\n",
    "import json\n",
    "\n",
    "from pipelines.utils import load_iso_mapping, load_regions\n",
    "\n",
    "from pipelines.output_schemas import LocationSchema"
   ]
  },
  {
   "cell_type": "code",
   "execution_count": 5,
   "id": "ac81b792",
   "metadata": {},
   "outputs": [],
   "source": [
    "input_folder = Path(\"../data/eez_intermediate\").absolute()\n",
    "location_code = pd.read_csv(input_folder.joinpath(\"locations_code.csv\"))\n",
    "columns_to_keep = [\"code\", \"name\", \"totalMarineArea\", \"type\", \"groups\", \"bounds\", \"id\"]\n",
    "rename = {\n",
    "    \"iso\": \"code\",\n",
    "    \"AREA_KM2\": \"totalMarineArea\",\n",
    "    \"location_type\": \"type\",\n",
    "}"
   ]
  },
  {
   "cell_type": "code",
   "execution_count": 12,
   "id": "f3f8ce98",
   "metadata": {},
   "outputs": [],
   "source": [
    "file = gpd.read_file(input_folder.joinpath(\"eez_intermediate\", \"eez_intermediate.shp\").as_posix())"
   ]
  }
 ],
 "metadata": {
  "kernelspec": {
   "display_name": "Python 3 (ipykernel)",
   "language": "python",
   "name": "python3"
  },
  "language_info": {
   "codemirror_mode": {
    "name": "ipython",
    "version": 3
   },
   "file_extension": ".py",
   "mimetype": "text/x-python",
   "name": "python",
   "nbconvert_exporter": "python",
   "pygments_lexer": "ipython3",
   "version": "3.10.13"
  }
 },
 "nbformat": 4,
 "nbformat_minor": 5
}
