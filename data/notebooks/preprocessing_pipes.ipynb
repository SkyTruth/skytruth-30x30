{
 "cells": [
  {
   "cell_type": "markdown",
   "id": "79966c59",
   "metadata": {},
   "source": [
    "This notebook relies on the following cmd line tools, ensure they are installed and in the system\n",
    "- tippecanoe\n",
    "- mapshaper\n",
    "- aws cli"
   ]
  },
  {
   "cell_type": "code",
   "execution_count": 1,
   "id": "def1ef65-1fd6-4367-a620-2dbe415f7104",
   "metadata": {},
   "outputs": [],
   "source": [
    "from pathlib import Path\n",
    "import sys\n",
    "import logging\n",
    "\n",
    "from IPython.lib import backgroundjobs as bg\n",
    "\n",
    "scripts_dir = Path('..').joinpath('src')\n",
    "if scripts_dir not in sys.path:\n",
    "    sys.path.insert(0, scripts_dir.resolve().as_posix())\n",
    "\n",
    "from pipelines.pipes import get_pipes, execution_order, filter_pipes\n",
    "\n",
    "logging.basicConfig(level=logging.DEBUG)\n",
    "logging.getLogger(\"requests\").setLevel(logging.WARNING)\n",
    "logging.getLogger(\"urllib3\").setLevel(logging.WARNING)\n",
    "logging.getLogger(\"fiona\").setLevel(logging.WARNING)\n",
    "jobs = bg.BackgroundJobManager()"
   ]
  },
  {
   "cell_type": "code",
   "execution_count": 2,
   "id": "38e82156",
   "metadata": {},
   "outputs": [],
   "source": [
    "# def execute_pipes(pipes):\n",
    "#     ordered_pipes = execution_order(pipes)\n",
    "#     for pipe in ordered_pipes:\n",
    "#         jobs.new(pipe().execute)\n",
    "\n",
    "# # this code will execute all pipelines selected in background.\n",
    "\n",
    "# mypipes_subset = filter_pipes(get_pipes().items(), ['eez_tiles'])\n",
    "# execute_pipes(mypipes_subset)"
   ]
  },
  {
   "cell_type": "code",
   "execution_count": 3,
   "id": "47a451d2",
   "metadata": {},
   "outputs": [
    {
     "data": {
      "text/plain": [
       "{'mpa_intermediate': pipelines.intermediate_pipes.MpasIntermediatePipe.EEZIntermediatePipe,\n",
       " 'mpaatlas_intermediate': pipelines.intermediate_pipes.MpaAtlasIntermediatePipe.MpaAtlasIntermediatePipe,\n",
       " 'eez_tiles': pipelines.tiles_pipes.EEZTilesPipe.EEZTilesPipe,\n",
       " 'mpa_tiles': pipelines.tiles_pipes.MpasTilesPipe.MpasTilesPipe,\n",
       " 'regions_tiles': pipelines.tiles_pipes.RegionsTilesPipe.RegionsTilesPipe,\n",
       " 'eez_locations_precalc': pipelines.precalc_pipes.LocationsPipe.LocationsPipe,\n",
       " 'mpa_coverage_precalc': pipelines.precalc_pipes.PACoveragePipe.PACoveragePipe}"
      ]
     },
     "execution_count": 3,
     "metadata": {},
     "output_type": "execute_result"
    }
   ],
   "source": [
    "get_pipes()"
   ]
  },
  {
   "cell_type": "code",
   "execution_count": 4,
   "id": "d85fee01",
   "metadata": {},
   "outputs": [],
   "source": [
    "mypipes_subset = filter_pipes(get_pipes(), [\"mpaatlas_intermediate\"])"
   ]
  },
  {
   "cell_type": "code",
   "execution_count": 5,
   "id": "4798cd04",
   "metadata": {},
   "outputs": [
    {
     "name": "stderr",
     "output_type": "stream",
     "text": [
      "DEBUG:pipelines.settings:/home/mambauser/data\n",
      "INFO:pipelines.base_pipe:Pipeline mpaatlas_intermediate running at 2023-11-14 15:08:31.858058: starting extract...\n",
      "INFO:utils:File /home/mambauser/data/mpaatlas_intermediate/mpatlas_assess_zone.geojson already exists.\n",
      "INFO:pipelines.base_pipe:Pipeline mpaatlas_intermediate finish at 2023-11-14 15:08:31.859840: Success executing extract\n",
      "INFO:pipelines.base_pipe:Pipeline mpaatlas_intermediate running at 2023-11-14 15:08:31.860352: starting transform...\n",
      "/home/mambauser/src/pipelines/intermediate_pipes/MpaAtlasIntermediatePipe.py:120: UserWarning: Column names longer than 10 characters will be truncated when saved to ESRI Shapefile.\n",
      "  gpd.GeoDataFrame(\n",
      "WARNING:fiona._env:Normalized/laundered field name: 'designation' to 'designatio'\n",
      "WARNING:fiona._env:Normalized/laundered field name: 'establishment_stage' to 'establishm'\n",
      "WARNING:fiona._env:Normalized/laundered field name: 'protection_level' to 'protection'\n",
      "WARNING:fiona._env:One or several characters couldn't be converted correctly from UTF-8 to ISO-8859-1.  This warning will not be emitted anymore.\n",
      "WARNING:fiona._env:One or several characters couldn't be converted correctly from UTF-8 to ISO-8859-1.  This warning will not be emitted anymore.\n",
      "WARNING:fiona._env:One or several characters couldn't be converted correctly from UTF-8 to ISO-8859-1.  This warning will not be emitted anymore.\n",
      "WARNING:fiona._env:One or several characters couldn't be converted correctly from UTF-8 to ISO-8859-1.  This warning will not be emitted anymore.\n",
      "WARNING:fiona._env:One or several characters couldn't be converted correctly from UTF-8 to ISO-8859-1.  This warning will not be emitted anymore.\n",
      "WARNING:fiona._env:One or several characters couldn't be converted correctly from UTF-8 to ISO-8859-1.  This warning will not be emitted anymore.\n",
      "WARNING:fiona._env:One or several characters couldn't be converted correctly from UTF-8 to ISO-8859-1.  This warning will not be emitted anymore.\n",
      "WARNING:fiona._env:One or several characters couldn't be converted correctly from UTF-8 to ISO-8859-1.  This warning will not be emitted anymore.\n",
      "WARNING:fiona._env:One or several characters couldn't be converted correctly from UTF-8 to ISO-8859-1.  This warning will not be emitted anymore.\n",
      "INFO:pipelines.base_pipe:Pipeline mpaatlas_intermediate finish at 2023-11-14 15:08:53.014880: Success executing transform\n"
     ]
    }
   ],
   "source": [
    "for n, pipe in mypipes_subset.items():\n",
    "    new_pipe = pipe()\n",
    "    new_pipe.extract().transform() #.load()"
   ]
  }
 ],
 "metadata": {
  "kernelspec": {
   "display_name": "Python 3 (ipykernel)",
   "language": "python",
   "name": "python3"
  },
  "language_info": {
   "codemirror_mode": {
    "name": "ipython",
    "version": 3
   },
   "file_extension": ".py",
   "mimetype": "text/x-python",
   "name": "python",
   "nbconvert_exporter": "python",
   "pygments_lexer": "ipython3",
   "version": "3.10.13"
  }
 },
 "nbformat": 4,
 "nbformat_minor": 5
}
