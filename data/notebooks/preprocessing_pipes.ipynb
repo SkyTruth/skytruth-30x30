{
 "cells": [
  {
   "cell_type": "markdown",
   "id": "79966c59",
   "metadata": {},
   "source": [
    "This notebook relies on the following cmd line tools, ensure they are installed and in the system\n",
    "- tippecanoe\n",
    "- mapshaper\n",
    "- aws cli"
   ]
  },
  {
   "cell_type": "code",
   "execution_count": 2,
   "id": "def1ef65-1fd6-4367-a620-2dbe415f7104",
   "metadata": {},
   "outputs": [],
   "source": [
    "from pathlib import Path\n",
    "import sys\n",
    "import logging\n",
    "\n",
    "from IPython.lib import backgroundjobs as bg\n",
    "\n",
    "scripts_dir = Path('..').joinpath('src')\n",
    "if scripts_dir not in sys.path:\n",
    "    sys.path.insert(0, scripts_dir.resolve().as_posix())\n",
    "\n",
    "from pipelines.pipes import get_pipes, execution_order, filter_pipes\n",
    "\n",
    "logging.basicConfig(level=logging.DEBUG)\n",
    "logging.getLogger(\"requests\").setLevel(logging.WARNING)\n",
    "logging.getLogger(\"urllib3\").setLevel(logging.WARNING)\n",
    "logging.getLogger(\"fiona\").setLevel(logging.WARNING)\n",
    "jobs = bg.BackgroundJobManager()"
   ]
  },
  {
   "cell_type": "code",
   "execution_count": 2,
   "id": "38e82156",
   "metadata": {},
   "outputs": [],
   "source": [
    "# def execute_pipes(pipes):\n",
    "#     ordered_pipes = execution_order(pipes)\n",
    "#     for pipe in ordered_pipes:\n",
    "#         jobs.new(pipe().execute)\n",
    "\n",
    "# # this code will execute all pipelines selected in background.\n",
    "\n",
    "# mypipes_subset = filter_pipes(get_pipes().items(), ['eez_tiles'])\n",
    "# execute_pipes(mypipes_subset)"
   ]
  },
  {
   "cell_type": "code",
   "execution_count": 2,
   "id": "47a451d2",
   "metadata": {},
   "outputs": [
    {
     "data": {
      "text/plain": [
       "{'eez_intermediate': pipelines.intermediate_pipes.EEZIntermediatePipe.EEZIntermediatePipe,\n",
       " 'mpaatlas_intermediate': pipelines.intermediate_pipes.MpaAtlasIntermediatePipe.MpaAtlasIntermediatePipe,\n",
       " 'mpa_intermediate': pipelines.intermediate_pipes.MpasIntermediatePipe.MpasIntermediatePipe,\n",
       " 'protectedseas_intermediate': pipelines.intermediate_pipes.ProtectedSeasIntermediatePipe.ProtectedSeasIntermediatePipe,\n",
       " 'eez_tiles': pipelines.tiles_pipes.EEZTilesPipe.EEZTilesPipe,\n",
       " 'mpaatlas_tiles': pipelines.tiles_pipes.MpaAtlasTilesPipe.MpaAtlasTilesPipe,\n",
       " 'mpa_tiles': pipelines.tiles_pipes.MpasTilesPipe.MpasTilesPipe,\n",
       " 'protectedseas_tiles': pipelines.tiles_pipes.ProtectedSeasTilesPipe.ProtectedSeasTilesPipe,\n",
       " 'regions_tiles': pipelines.tiles_pipes.RegionsTilesPipe.RegionsTilesPipe,\n",
       " 'eez_locations_precalc': pipelines.precalc_pipes.LocationsPipe.LocationsPipe,\n",
       " 'mpa_coverage_precalc': pipelines.precalc_pipes.PACoveragePipe.PACoveragePipe}"
      ]
     },
     "execution_count": 2,
     "metadata": {},
     "output_type": "execute_result"
    }
   ],
   "source": [
    "get_pipes()"
   ]
  },
  {
   "cell_type": "code",
   "execution_count": 3,
   "id": "d85fee01",
   "metadata": {},
   "outputs": [],
   "source": [
    "mypipes_subset = filter_pipes(get_pipes(), [\"eez_locations_precalc\"])"
   ]
  },
  {
   "cell_type": "code",
   "execution_count": 9,
   "id": "4798cd04",
   "metadata": {},
   "outputs": [
    {
     "name": "stderr",
     "output_type": "stream",
     "text": [
      "DEBUG:pipelines.settings:/home/mambauser/data\n",
      "INFO:pipelines.base_pipe:Pipeline mpa_intermediate running at 2023-11-16 17:37:32.700031: starting extract...\n",
      "INFO:utils:File /home/mambauser/data/mpa_intermediate/WDPA_WDOECM_Nov2023_Public_marine_shp.zip already exists.\n",
      "INFO:pipelines.base_pipe:Pipeline mpa_intermediate finish at 2023-11-16 17:37:32.871508: Success executing extract\n",
      "INFO:pipelines.base_pipe:Pipeline mpa_intermediate running at 2023-11-16 17:37:32.871822: starting transform...\n",
      "INFO:pipelines.base_pipe:Pipeline mpa_intermediate finish at 2023-11-16 17:37:32.872314: Success executing transform\n",
      "INFO:pipelines.base_pipe:Pipeline mpa_intermediate running at 2023-11-16 17:37:32.872605: starting load...\n",
      "DEBUG:google.auth.transport.requests:Making request: POST https://oauth2.googleapis.com/token\n",
      "INFO:pipelines.base_pipe:Pipeline mpa_intermediate finish at 2023-11-16 17:38:00.909038: Success executing load\n"
     ]
    }
   ],
   "source": [
    "for n, pipe in mypipes_subset.items():\n",
    "    new_pipe = pipe()\n",
    "    new_pipe.extract().transform()"
   ]
  },
  {
   "cell_type": "code",
   "execution_count": 3,
   "id": "f5393ea0",
   "metadata": {},
   "outputs": [],
   "source": [
    "#!micromamba install pandera pandera-hypotheses pandera-io pandera-geopandas -c conda-forge -y"
   ]
  },
  {
   "cell_type": "code",
   "execution_count": 347,
   "id": "d580a95e",
   "metadata": {},
   "outputs": [],
   "source": [
    "from pathlib import Path\n",
    "from typing import Union, List, Literal\n",
    "import pandas as pd\n",
    "import geopandas as gpd\n",
    "from pipelines.utils import load_iso_mapping, load_regions\n",
    "import pandera as pa\n",
    "from pandera.typing import Index, DataFrame, Series\n",
    "from pandera.typing.geopandas import GeoDataFrame, GeoSeries\n",
    "import numpy as np"
   ]
  },
  {
   "cell_type": "code",
   "execution_count": 473,
   "id": "ac81b792",
   "metadata": {},
   "outputs": [],
   "source": [
    "input_folder = Path(\"../data/eez_intermediate\").absolute()\n",
    "location_code = pd.read_csv(input_folder.joinpath(\"locations_code.csv\"))\n",
    "columns_to_keep = [\"code\", \"name\", \"totalMarineArea\", \"type\", \"groups\", \"members\", \"bounds\", \"id\"]\n",
    "rename = {\"iso\": \"code\", \"AREA_KM2\": \"totalMarineArea\", \"location_type\": \"type\",}"
   ]
  }
 ],
 "metadata": {
  "kernelspec": {
   "display_name": "Python 3 (ipykernel)",
   "language": "python",
   "name": "python3"
  },
  "language_info": {
   "codemirror_mode": {
    "name": "ipython",
    "version": 3
   },
   "file_extension": ".py",
   "mimetype": "text/x-python",
   "name": "python",
   "nbconvert_exporter": "python",
   "pygments_lexer": "ipython3",
   "version": "3.10.13"
  }
 },
 "nbformat": 4,
 "nbformat_minor": 5
}
