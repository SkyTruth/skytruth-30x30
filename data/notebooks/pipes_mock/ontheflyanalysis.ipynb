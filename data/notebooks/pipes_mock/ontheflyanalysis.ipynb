{
 "cells": [
  {
   "cell_type": "markdown",
   "id": "f5885fb1",
   "metadata": {},
   "source": [
    "# On the fly analysis"
   ]
  },
  {
   "cell_type": "markdown",
   "id": "13ff6b28",
   "metadata": {},
   "source": [
    "### Data ingest from google cloud storage\n",
    "Data ingestion information is in the cloud_function documentation.\n",
    "\n",
    "```bash\n",
    "ogr2ogr -progress \\\n",
    "  -makevalid -overwrite \\\n",
    "  -nln eez_minus_mpa -nlt PROMOTE_TO_MULTI \\\n",
    "  -lco GEOMETRY_NAME=the_geom \\\n",
    "  -lco PRECISION=FALSE \\\n",
    "  -lco SPATIAL_INDEX=GIST \\\n",
    "  -lco FID=id \\\n",
    "  -t_srs EPSG:4326 -a_srs EPSG:4326 \\\n",
    "  -f PostgreSQL PG:\"host=$POSTGRES_HOST port=$POSTGRES_PORT \\\n",
    "   user=$POSTGRES_USER password=$POSTGRES_PASSWORD \\\n",
    "   dbname=$POSTGRES_DB active_schema=$POSTGRES_SCHEMA\" \\\n",
    "   -doo \"PRELUDE_STATEMENTS=CREATE SCHEMA IF NOT EXISTS $POSTGRES_SCHEMA AUTHORIZATION CURRENT_USER;\" \"/vsizip/vsigs/$URL\";\n",
    "```\n",
    "\n",
    "\n",
    "## Data analysis\n",
    "Input call:\n",
    "\n",
    "```bash\n",
    "curl 'https://30x30.skytruth.org/functions/analysis/' \\\n",
    "  -H 'content-type: application/json' \\\n",
    "  --data-raw '{\"id\":\"d7c9978f92fff5a373f2dec55e17bbab\",\"type\":\"Feature\",\"properties\":{},\"geometry\":{\"coordinates\":[[[-22.791446197507895,9.57642078480319],[-13.563358667514933,11.633521660754937],[0.7068797809280056,5.048301327696478],[-7.5698585191689745,-4.074667696937624],[-22.791446197507895,9.57642078480319]]],\"type\":\"Polygon\"}}' \\\n",
    "  --compressed\n",
    "```\n",
    "\n",
    "Response:\n",
    "    \n",
    "```json\n",
    "{locations_area:{\"code\":<location_iso>, \"protected_area\": <area>, \"area\":<location_marine_area>}, \"total_area\":<total_area>}\n",
    "```\n"
   ]
  },
  {
   "cell_type": "markdown",
   "id": "6e3e5ca0-0add-48a6-8b83-d22423378967",
   "metadata": {},
   "source": [
    "## Data preprocessing\n",
    "\n",
    "We are going to use the intermidiate data from mpas and from eez, in order to create a dataset that can be used for spatial analysis.\n",
    "The steps are:\n",
    "1. Load both datasets\n",
    "2. Create a difference dataset from the two (Substract the mpas from the eez)\n",
    "3. disaggregate the eez dataset based on the iso3 codes\n",
    "4. upload the data to google cloud storage\n"
   ]
  },
  {
   "cell_type": "code",
   "execution_count": 16,
   "id": "0fdb9afd",
   "metadata": {},
   "outputs": [
    {
     "name": "stdout",
     "output_type": "stream",
     "text": [
      "The autoreload extension is already loaded. To reload it, use:\n",
      "  %reload_ext autoreload\n"
     ]
    }
   ],
   "source": [
    "%load_ext autoreload\n",
    "%autoreload 2"
   ]
  },
  {
   "cell_type": "code",
   "execution_count": 19,
   "id": "77e2b0bb",
   "metadata": {},
   "outputs": [],
   "source": [
    "import logging\n",
    "import sys\n",
    "from pathlib import Path\n",
    "import pandas as pd\n",
    "import geopandas as gpd\n",
    "\n",
    "scripts_dir = Path(\"../..\").joinpath(\"src\")\n",
    "if scripts_dir not in sys.path:\n",
    "    sys.path.insert(0, scripts_dir.resolve().as_posix())\n",
    "\n",
    "from helpers.settings import get_settings\n",
    "from helpers.file_handler import FileConventionHandler\n",
    "from helpers.utils import download_and_unzip_if_needed, rm_tree, make_archive, writeReadGCP\n",
    "\n",
    "from pipelines.processors import clean_geometries, create_difference\n",
    "\n",
    "from pipelines.output_schemas import MPAsTableOTFSchema\n",
    "\n",
    "logging.basicConfig(level=logging.DEBUG)\n",
    "logging.getLogger(\"requests\").setLevel(logging.WARNING)\n",
    "logging.getLogger(\"urllib3\").setLevel(logging.WARNING)\n",
    "logging.getLogger(\"fiona\").setLevel(logging.WARNING)\n",
    "logging.getLogger(\"fiona\").setLevel(logging.WARNING)"
   ]
  },
  {
   "cell_type": "code",
   "execution_count": 3,
   "id": "7545daa8",
   "metadata": {},
   "outputs": [],
   "source": [
    "mysettings = get_settings()\n",
    "prev_step = \"preprocess\"\n",
    "current_step = \"onthefly\""
   ]
  },
  {
   "cell_type": "code",
   "execution_count": 4,
   "id": "fdaeb0e9",
   "metadata": {},
   "outputs": [
    {
     "name": "stdout",
     "output_type": "stream",
     "text": [
      "/home/mambauser/data/eez/processed/eez_preprocess.zip\n",
      "/home/mambauser/data/eez/processed/preprocess\n",
      "/home/mambauser/data/mpa/processed/mpa_preprocess.zip\n",
      "/home/mambauser/data/mpa/processed/preprocess\n"
     ]
    }
   ],
   "source": [
    "pipe = \"mpa\"\n",
    "\n",
    "pipe_dir_eez = FileConventionHandler(\"eez\")\n",
    "pipe_dir_mpas = FileConventionHandler(pipe)\n",
    "\n",
    "output_dir = pipe_dir_mpas.get_processed_step_path(current_step)\n",
    "output_file = output_dir.joinpath(\"eez_minus_mpa.shp\")\n",
    "zipped_output_file = pipe_dir_mpas.get_step_fmt_file_path(current_step, \"zip\", True)\n",
    "remote_path = pipe_dir_mpas.get_remote_path(current_step)\n",
    "\n",
    "# Download the EEZ file && unzip it\n",
    "download_and_unzip_if_needed(pipe_dir_eez, prev_step, mysettings)\n",
    "# Download the mpas file && unzip it\n",
    "download_and_unzip_if_needed(pipe_dir_mpas, prev_step, mysettings)\n",
    "\n",
    "# Load the data\n",
    "eez = gpd.read_file(pipe_dir_eez.get_step_fmt_file_path(prev_step, \"shp\")).pipe(clean_geometries)\n",
    "mpas = gpd.read_file(pipe_dir_mpas.get_step_fmt_file_path(prev_step, \"shp\")).pipe(clean_geometries)"
   ]
  },
  {
   "cell_type": "code",
   "execution_count": 5,
   "id": "16f7bc13",
   "metadata": {},
   "outputs": [
    {
     "name": "stderr",
     "output_type": "stream",
     "text": [
      "  0%|          | 0/282 [00:00<?, ?it/s]"
     ]
    },
    {
     "name": "stderr",
     "output_type": "stream",
     "text": [
      "100%|█████████▉| 281/282 [06:32<00:53, 53.34s/it]"
     ]
    },
    {
     "name": "stdout",
     "output_type": "stream",
     "text": [
      "<class 'shapely.geometry.base.GeometrySequence'>\n"
     ]
    },
    {
     "name": "stderr",
     "output_type": "stream",
     "text": [
      "100%|██████████| 282/282 [07:02<00:00,  1.50s/it]\n"
     ]
    }
   ],
   "source": [
    "a_minus_b = await create_difference(eez, mpas)"
   ]
  },
  {
   "cell_type": "code",
   "execution_count": 6,
   "id": "e37c0634",
   "metadata": {},
   "outputs": [
    {
     "data": {
      "text/html": [
       "<div>\n",
       "<style scoped>\n",
       "    .dataframe tbody tr th:only-of-type {\n",
       "        vertical-align: middle;\n",
       "    }\n",
       "\n",
       "    .dataframe tbody tr th {\n",
       "        vertical-align: top;\n",
       "    }\n",
       "\n",
       "    .dataframe thead th {\n",
       "        text-align: right;\n",
       "    }\n",
       "</style>\n",
       "<table border=\"1\" class=\"dataframe\">\n",
       "  <thead>\n",
       "    <tr style=\"text-align: right;\">\n",
       "      <th></th>\n",
       "      <th>MRGID</th>\n",
       "      <th>GEONAME</th>\n",
       "      <th>POL_TYPE</th>\n",
       "      <th>AREA_KM2</th>\n",
       "      <th>ISO_SOV1</th>\n",
       "      <th>ISO_SOV2</th>\n",
       "      <th>ISO_SOV3</th>\n",
       "      <th>geometry</th>\n",
       "    </tr>\n",
       "  </thead>\n",
       "  <tbody>\n",
       "    <tr>\n",
       "      <th>0</th>\n",
       "      <td>8444.0</td>\n",
       "      <td>American Samoa Exclusive Economic Zone</td>\n",
       "      <td>200NM</td>\n",
       "      <td>405830.0</td>\n",
       "      <td>USA</td>\n",
       "      <td>None</td>\n",
       "      <td>None</td>\n",
       "      <td>MULTIPOLYGON (((-166.64194 -17.555, -166.651 -...</td>\n",
       "    </tr>\n",
       "    <tr>\n",
       "      <th>1</th>\n",
       "      <td>8379.0</td>\n",
       "      <td>Ascension Exclusive Economic Zone</td>\n",
       "      <td>200NM</td>\n",
       "      <td>446005.0</td>\n",
       "      <td>GBR</td>\n",
       "      <td>None</td>\n",
       "      <td>None</td>\n",
       "      <td>MULTIPOLYGON (((-10.93296 -7.90389, -10.93294 ...</td>\n",
       "    </tr>\n",
       "    <tr>\n",
       "      <th>2</th>\n",
       "      <td>8446.0</td>\n",
       "      <td>Cook Islands Exclusive Economic Zone</td>\n",
       "      <td>200NM</td>\n",
       "      <td>1969553.0</td>\n",
       "      <td>NZL</td>\n",
       "      <td>None</td>\n",
       "      <td>None</td>\n",
       "      <td>MULTIPOLYGON (((-158.75396 -6.13852, -159.2757...</td>\n",
       "    </tr>\n",
       "    <tr>\n",
       "      <th>3</th>\n",
       "      <td>8389.0</td>\n",
       "      <td>Overlapping claim Falkland / Malvinas Islands:...</td>\n",
       "      <td>Overlapping claim</td>\n",
       "      <td>550566.0</td>\n",
       "      <td>GBR</td>\n",
       "      <td>ARG</td>\n",
       "      <td>None</td>\n",
       "      <td>MULTIPOLYGON (((-59.14325 -55.75011, -58 -55.7...</td>\n",
       "    </tr>\n",
       "    <tr>\n",
       "      <th>4</th>\n",
       "      <td>8440.0</td>\n",
       "      <td>French Polynesian Exclusive Economic Zone</td>\n",
       "      <td>200NM</td>\n",
       "      <td>4766689.0</td>\n",
       "      <td>FRA</td>\n",
       "      <td>None</td>\n",
       "      <td>None</td>\n",
       "      <td>MULTIPOLYGON (((-135.92905 -7.89648, -135.9282...</td>\n",
       "    </tr>\n",
       "    <tr>\n",
       "      <th>...</th>\n",
       "      <td>...</td>\n",
       "      <td>...</td>\n",
       "      <td>...</td>\n",
       "      <td>...</td>\n",
       "      <td>...</td>\n",
       "      <td>...</td>\n",
       "      <td>...</td>\n",
       "      <td>...</td>\n",
       "    </tr>\n",
       "    <tr>\n",
       "      <th>277</th>\n",
       "      <td>62589.0</td>\n",
       "      <td>Chagos Archipelago Exclusive Economic Zone</td>\n",
       "      <td>200 NM</td>\n",
       "      <td>650804.0</td>\n",
       "      <td>MUS</td>\n",
       "      <td>None</td>\n",
       "      <td>None</td>\n",
       "      <td>POLYGON ((75.83452 -5.23039, 75.8326 -5.31997,...</td>\n",
       "    </tr>\n",
       "    <tr>\n",
       "      <th>278</th>\n",
       "      <td>8383.0</td>\n",
       "      <td>Overlapping claim South Georgia and South Sand...</td>\n",
       "      <td>Overlapping claim</td>\n",
       "      <td>1237783.0</td>\n",
       "      <td>GBR</td>\n",
       "      <td>ARG</td>\n",
       "      <td>None</td>\n",
       "      <td>MULTIPOLYGON (((-35.63012 -50.8306, -35.61631 ...</td>\n",
       "    </tr>\n",
       "    <tr>\n",
       "      <th>279</th>\n",
       "      <td>8402.0</td>\n",
       "      <td>Bermudian Exclusive Economic Zone</td>\n",
       "      <td>200NM</td>\n",
       "      <td>464389.0</td>\n",
       "      <td>GBR</td>\n",
       "      <td>None</td>\n",
       "      <td>None</td>\n",
       "      <td>MULTIPOLYGON (((-60.70499 32.39067, -60.705 32...</td>\n",
       "    </tr>\n",
       "    <tr>\n",
       "      <th>280</th>\n",
       "      <td>8456.0</td>\n",
       "      <td>United States Exclusive Economic Zone</td>\n",
       "      <td>200NM</td>\n",
       "      <td>2451023.0</td>\n",
       "      <td>USA</td>\n",
       "      <td>None</td>\n",
       "      <td>None</td>\n",
       "      <td>MULTIPOLYGON (((-67.28403 45.19125, -67.284 45...</td>\n",
       "    </tr>\n",
       "    <tr>\n",
       "      <th>281</th>\n",
       "      <td>63203.0</td>\n",
       "      <td>High Seas</td>\n",
       "      <td>High Seas</td>\n",
       "      <td>212881389.0</td>\n",
       "      <td>ABNJ</td>\n",
       "      <td>None</td>\n",
       "      <td>None</td>\n",
       "      <td>MULTIPOLYGON (((-142.25637 -24.7196, -142.2586...</td>\n",
       "    </tr>\n",
       "  </tbody>\n",
       "</table>\n",
       "<p>282 rows × 8 columns</p>\n",
       "</div>"
      ],
      "text/plain": [
       "       MRGID                                            GEONAME  \\\n",
       "0     8444.0             American Samoa Exclusive Economic Zone   \n",
       "1     8379.0                  Ascension Exclusive Economic Zone   \n",
       "2     8446.0               Cook Islands Exclusive Economic Zone   \n",
       "3     8389.0  Overlapping claim Falkland / Malvinas Islands:...   \n",
       "4     8440.0          French Polynesian Exclusive Economic Zone   \n",
       "..       ...                                                ...   \n",
       "277  62589.0         Chagos Archipelago Exclusive Economic Zone   \n",
       "278   8383.0  Overlapping claim South Georgia and South Sand...   \n",
       "279   8402.0                  Bermudian Exclusive Economic Zone   \n",
       "280   8456.0              United States Exclusive Economic Zone   \n",
       "281  63203.0                                          High Seas   \n",
       "\n",
       "              POL_TYPE     AREA_KM2 ISO_SOV1 ISO_SOV2 ISO_SOV3  \\\n",
       "0                200NM     405830.0      USA     None     None   \n",
       "1                200NM     446005.0      GBR     None     None   \n",
       "2                200NM    1969553.0      NZL     None     None   \n",
       "3    Overlapping claim     550566.0      GBR      ARG     None   \n",
       "4                200NM    4766689.0      FRA     None     None   \n",
       "..                 ...          ...      ...      ...      ...   \n",
       "277             200 NM     650804.0      MUS     None     None   \n",
       "278  Overlapping claim    1237783.0      GBR      ARG     None   \n",
       "279              200NM     464389.0      GBR     None     None   \n",
       "280              200NM    2451023.0      USA     None     None   \n",
       "281          High Seas  212881389.0     ABNJ     None     None   \n",
       "\n",
       "                                              geometry  \n",
       "0    MULTIPOLYGON (((-166.64194 -17.555, -166.651 -...  \n",
       "1    MULTIPOLYGON (((-10.93296 -7.90389, -10.93294 ...  \n",
       "2    MULTIPOLYGON (((-158.75396 -6.13852, -159.2757...  \n",
       "3    MULTIPOLYGON (((-59.14325 -55.75011, -58 -55.7...  \n",
       "4    MULTIPOLYGON (((-135.92905 -7.89648, -135.9282...  \n",
       "..                                                 ...  \n",
       "277  POLYGON ((75.83452 -5.23039, 75.8326 -5.31997,...  \n",
       "278  MULTIPOLYGON (((-35.63012 -50.8306, -35.61631 ...  \n",
       "279  MULTIPOLYGON (((-60.70499 32.39067, -60.705 32...  \n",
       "280  MULTIPOLYGON (((-67.28403 45.19125, -67.284 45...  \n",
       "281  MULTIPOLYGON (((-142.25637 -24.7196, -142.2586...  \n",
       "\n",
       "[282 rows x 8 columns]"
      ]
     },
     "execution_count": 6,
     "metadata": {},
     "output_type": "execute_result"
    }
   ],
   "source": [
    "a_minus_b"
   ]
  },
  {
   "cell_type": "code",
   "execution_count": 20,
   "id": "18b8f155",
   "metadata": {},
   "outputs": [
    {
     "name": "stderr",
     "output_type": "stream",
     "text": [
      "INFO:pyogrio._io:Created 277 records\n",
      "DEBUG:google.auth.transport.requests:Making request: POST https://oauth2.googleapis.com/token\n"
     ]
    }
   ],
   "source": [
    "MPAsTableOTFSchema(a_minus_b[~(a_minus_b.geometry.is_empty == True)]).to_file(\n",
    "    filename=output_file.as_posix()\n",
    ")\n",
    "# zip data\n",
    "make_archive(output_file.parent, zipped_output_file)\n",
    "\n",
    "# clean unzipped files\n",
    "(\n",
    "    rm_tree(pipe_dir_mpas.get_processed_step_path(current_step))\n",
    "    if pipe_dir_mpas.get_processed_step_path(current_step).exists()\n",
    "    else None\n",
    ")\n",
    "\n",
    "# LOAD\n",
    "## load zipped file to GCS\n",
    "writeReadGCP(\n",
    "    credentials=mysettings.GCS_KEYFILE_JSON,\n",
    "    bucket_name=mysettings.GCS_BUCKET,\n",
    "    blob_name=remote_path,\n",
    "    file=zipped_output_file,\n",
    "    operation=\"w\",\n",
    ")"
   ]
  }
 ],
 "metadata": {
  "kernelspec": {
   "display_name": "Python 3 (ipykernel)",
   "language": "python",
   "name": "python3"
  },
  "language_info": {
   "codemirror_mode": {
    "name": "ipython",
    "version": 3
   },
   "file_extension": ".py",
   "mimetype": "text/x-python",
   "name": "python",
   "nbconvert_exporter": "python",
   "pygments_lexer": "ipython3",
   "version": "3.12.4"
  }
 },
 "nbformat": 4,
 "nbformat_minor": 5
}
