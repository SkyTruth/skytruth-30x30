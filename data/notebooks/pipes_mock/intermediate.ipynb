{
 "cells": [
  {
   "cell_type": "code",
   "execution_count": 1,
   "metadata": {},
   "outputs": [],
   "source": [
    "# TODO: should we save every output as a [geoparquet](https://geoparquet.org/) in the future to improve read performance (reduction 30% read time)?"
   ]
  },
  {
   "cell_type": "code",
   "execution_count": 234,
   "metadata": {},
   "outputs": [
    {
     "name": "stdout",
     "output_type": "stream",
     "text": [
      "The autoreload extension is already loaded. To reload it, use:\n",
      "  %reload_ext autoreload\n"
     ]
    }
   ],
   "source": [
    "%load_ext autoreload\n",
    "%autoreload 2"
   ]
  },
  {
   "cell_type": "code",
   "execution_count": 262,
   "metadata": {},
   "outputs": [],
   "source": [
    "from logging import getLogger\n",
    "import shutil\n",
    "from pathlib import Path\n",
    "import geopandas as gpd\n",
    "import pandas as pd\n",
    "import requests\n",
    "\n",
    "scripts_dir = Path(\"../..\").joinpath(\"src\")\n",
    "import sys\n",
    "if scripts_dir not in sys.path:\n",
    "    sys.path.insert(0, scripts_dir.resolve().as_posix())\n",
    "\n",
    "from helpers.utils import downloadFile, rm_tree, make_archive, writeReadGCP\n",
    "from helpers.settings import get_settings\n",
    "from helpers.file_handler import FileConventionHandler\n",
    "from pipelines.utils import watch\n",
    "from pipelines.processors import (\n",
    "    set_wdpa_id,\n",
    "    protection_level,\n",
    "    status,\n",
    "    create_year,\n",
    "    calculate_area,\n",
    "    get_mpas,\n",
    "    set_location_iso,\n",
    "    set_fps_classes,\n",
    "    filter_by_methodology,\n",
    "    filter_by_terrestrial,\n",
    "    transform_points,\n",
    "    clean_geometries,\n",
    "    simplify_async,\n",
    ")"
   ]
  },
  {
   "cell_type": "code",
   "execution_count": 182,
   "metadata": {},
   "outputs": [],
   "source": [
    "mysettings = get_settings()"
   ]
  },
  {
   "cell_type": "markdown",
   "metadata": {},
   "source": [
    "### eez_intermediate"
   ]
  },
  {
   "cell_type": "code",
   "execution_count": 13,
   "metadata": {},
   "outputs": [],
   "source": [
    "# Pipe params\n",
    "force_clean = True\n",
    "step = \"preprocess\"\n",
    "pipe = \"eez\""
   ]
  },
  {
   "cell_type": "code",
   "execution_count": 14,
   "metadata": {},
   "outputs": [],
   "source": [
    "# Data sources\n",
    "## EEZ\n",
    "EEZ_url = \"https://www.marineregions.org/download_file.php\"\n",
    "EEZ_file_name = \"eez_v11.shp\"\n",
    "EEZ_params = {\"name\": \"World_EEZ_v11_20191118.zip\"}\n",
    "EEZ_headers = {\n",
    "    \"content-type\": \"application/x-www-form-urlencoded\",\n",
    "    \"cookie\": \"PHPSESSID=29190501b4503e4b33725cd6bd01e2c6; vliz_webc=vliz_webc2; jwplayer.captionLabel=Off\",\n",
    "    \"dnt\": \"1\",\n",
    "    \"origin\": \"https://www.marineregions.org\",\n",
    "    \"sec-fetch-dest\": \"document\",\n",
    "    \"sec-fetch-mode\": \"navigate\",\n",
    "    \"sec-fetch-site\": \"same-origin\",\n",
    "    \"sec-fetch-user\": \"?1\",\n",
    "    \"upgrade-insecure-requests\": \"1\",\n",
    "}\n",
    "\n",
    "EEZ_body = {\n",
    "    \"name\": \"Jason\",\n",
    "    \"organisation\": \"skytruth\",\n",
    "    \"email\": \"hello@skytruth.com\",\n",
    "    \"country\": \"Spain\",\n",
    "    \"user_category\": \"academia\",\n",
    "    \"purpose_category\": \"Conservation\",\n",
    "    \"agree\": \"1\",\n",
    "}\n",
    "\n",
    "## High seas\n",
    "hs_url = \"https://www.marineregions.org/download_file.php\"\n",
    "hs_file_name = \"High_seas_v1.shp\"\n",
    "hs_params = {\"name\": \"World_High_Seas_v1_20200826.zip\"}\n",
    "hs_headers = {\n",
    "    \"content-type\": \"application/x-www-form-urlencoded\",\n",
    "    \"cookie\": \"PHPSESSID=29190501b4503e4b33725cd6bd01e2c6; vliz_webc=vliz_webc2; jwplayer.captionLabel=Off\",\n",
    "    \"dnt\": \"1\",\n",
    "    \"origin\": \"https://www.marineregions.org\",\n",
    "    \"sec-fetch-dest\": \"document\",\n",
    "    \"sec-fetch-mode\": \"navigate\",\n",
    "    \"sec-fetch-site\": \"same-origin\",\n",
    "    \"sec-fetch-user\": \"?1\",\n",
    "    \"upgrade-insecure-requests\": \"1\",\n",
    "}\n",
    "hs_body = {\n",
    "    \"name\": \"Jason\",\n",
    "    \"organisation\": \"skytruth\",\n",
    "    \"email\": \"hello@skytruth.com\",\n",
    "    \"country\": \"Spain\",\n",
    "    \"user_category\": \"academia\",\n",
    "    \"purpose_category\": \"Conservation\",\n",
    "    \"agree\": \"1\",\n",
    "}"
   ]
  },
  {
   "cell_type": "code",
   "execution_count": 15,
   "metadata": {},
   "outputs": [],
   "source": [
    "working_folder = FileConventionHandler(pipe)\n",
    "input_path = working_folder.pipe_raw_path\n",
    "temp_working_path = working_folder.get_temp_file_path(step)\n",
    "\n",
    "output_path = working_folder.get_processed_step_path(step)\n",
    "output_file = working_folder.get_step_fmt_file_path(step, \"shp\")\n",
    "zipped_output_file = working_folder.get_step_fmt_file_path(step, \"zip\", True)\n",
    "remote_path = working_folder.get_remote_path(step)"
   ]
  },
  {
   "cell_type": "code",
   "execution_count": 64,
   "metadata": {},
   "outputs": [
    {
     "data": {
      "text/plain": [
       "PosixPath('/home/mambauser/data/eez/raw/World_High_Seas_v1_20200826.zip')"
      ]
     },
     "execution_count": 64,
     "metadata": {},
     "output_type": "execute_result"
    }
   ],
   "source": [
    "# Extract data\n",
    "## download files EEZ & High seas\n",
    "downloadFile(\n",
    "    EEZ_url,\n",
    "    input_path,\n",
    "    EEZ_body,\n",
    "    EEZ_params,\n",
    "    EEZ_headers,\n",
    "    overwrite=force_clean,\n",
    ")\n",
    "downloadFile(hs_url, input_path, hs_body, hs_params, hs_headers, overwrite=force_clean)"
   ]
  },
  {
   "cell_type": "code",
   "execution_count": 71,
   "metadata": {},
   "outputs": [
    {
     "name": "stdout",
     "output_type": "stream",
     "text": [
      "/home/mambauser/data/eez/raw/temp_preprocess/World_High_Seas_v1_20200826\n",
      "/home/mambauser/data/eez/raw/temp_preprocess/World_EEZ_v11_20191118\n"
     ]
    }
   ],
   "source": [
    "## unzip file if needed & load data\n",
    "unziped_folders = []\n",
    "for idx, path in enumerate(input_path.glob(\"*.zip\")):\n",
    "    unziped_folder = temp_working_path.joinpath(path.stem)\n",
    "    print(unziped_folder)\n",
    "\n",
    "    if unziped_folder.exists() and force_clean:\n",
    "        rm_tree(unziped_folder)\n",
    "\n",
    "    shutil.unpack_archive(path, unziped_folder)\n",
    "\n",
    "    files = [gpd.read_file(file) for file in unziped_folder.rglob(\"*.shp\") if \"boundaries\" not in file.stem]\n",
    "    unziped_folders.append(\n",
    "        pd.concat(files)\n",
    "    )"
   ]
  },
  {
   "cell_type": "code",
   "execution_count": 72,
   "metadata": {},
   "outputs": [
    {
     "name": "stdout",
     "output_type": "stream",
     "text": [
      "GeoDataFrame 0 has 1 rows and 6 columns\n",
      "GeoDataFrame 1 has 281 rows and 32 columns\n"
     ]
    }
   ],
   "source": [
    "for idx, gdf in enumerate(unziped_folders):\n",
    "    print(f\"GeoDataFrame {idx} has {len(gdf)} rows and {len(gdf.columns)} columns\")"
   ]
  },
  {
   "cell_type": "code",
   "execution_count": 73,
   "metadata": {},
   "outputs": [],
   "source": [
    "# Transform data\n",
    "## set the same structure for both datasets updating the high seas one\n",
    "unziped_folders[0] = (\n",
    "    unziped_folders[0]\n",
    "    .rename(\n",
    "        columns={\"name\": \"GEONAME\", \"area_km2\": \"AREA_KM2\", \"mrgid\": \"MRGID\"},\n",
    "    )\n",
    "    .assign(\n",
    "        POL_TYPE=\"High Seas\",\n",
    "        ISO_SOV1=\"ABNJ\",\n",
    "    )\n",
    ")\n",
    "\n",
    "# merge datasets\n",
    "df = pd.concat(unziped_folders, ignore_index=True)\n",
    "\n",
    "df.drop(\n",
    "    columns=list(\n",
    "        set(df.columns)\n",
    "        - set(\n",
    "            [\n",
    "                \"MRGID\",\n",
    "                \"GEONAME\",\n",
    "                \"POL_TYPE\",\n",
    "                \"ISO_SOV1\",\n",
    "                \"ISO_SOV2\",\n",
    "                \"ISO_SOV3\",\n",
    "                \"AREA_KM2\",\n",
    "                \"geometry\",\n",
    "            ]\n",
    "        )\n",
    "    ),\n",
    "    inplace=True,\n",
    ")"
   ]
  },
  {
   "cell_type": "code",
   "execution_count": 75,
   "metadata": {},
   "outputs": [
    {
     "name": "stderr",
     "output_type": "stream",
     "text": [
      "/opt/conda/lib/python3.12/site-packages/pyogrio/raw.py:709: RuntimeWarning: Value 212881389 of field AREA_KM2 of feature 0 not successfully written. Possibly due to too larger number with respect to field width\n",
      "  ogr_write(\n"
     ]
    }
   ],
   "source": [
    "# save data\n",
    "gpd.GeoDataFrame(\n",
    "    df,\n",
    "    crs=unziped_folders[0].crs,\n",
    ").to_file(filename=output_file.as_posix(), driver=\"ESRI Shapefile\")\n",
    "\n",
    "# zip data\n",
    "make_archive(output_path, zipped_output_file)"
   ]
  },
  {
   "cell_type": "code",
   "execution_count": 76,
   "metadata": {},
   "outputs": [],
   "source": [
    "# clean unzipped files\n",
    "rm_tree(temp_working_path) if temp_working_path.exists() else None\n",
    "rm_tree(output_path) if output_path.exists() else None"
   ]
  },
  {
   "cell_type": "code",
   "execution_count": 13,
   "metadata": {},
   "outputs": [],
   "source": [
    "# LOAD\n",
    "## load zipped file to GCS\n",
    "writeReadGCP(\n",
    "    credentials=mysettings.GCS_KEYFILE_JSON,\n",
    "    bucket_name=mysettings.GCS_BUCKET,\n",
    "    blob_name=remote_path,\n",
    "    file=zipped_output_file,\n",
    "    operation=\"w\",\n",
    ")"
   ]
  },
  {
   "cell_type": "markdown",
   "metadata": {},
   "source": [
    "### Countries gadm intermediate"
   ]
  },
  {
   "cell_type": "code",
   "execution_count": 78,
   "metadata": {},
   "outputs": [],
   "source": [
    "# Pipe params\n",
    "force_clean = True\n",
    "step = \"preprocess\"\n",
    "pipe = \"gadm\""
   ]
  },
  {
   "cell_type": "code",
   "execution_count": 263,
   "metadata": {},
   "outputs": [],
   "source": [
    "working_folder = FileConventionHandler(pipe)\n",
    "input_path = working_folder.pipe_raw_path\n",
    "temp_working_path = working_folder.get_temp_file_path(step)\n",
    "\n",
    "output_path = working_folder.get_processed_step_path(step)\n",
    "output_file = working_folder.get_step_fmt_file_path(step, \"shp\")\n",
    "zipped_output_file = working_folder.get_step_fmt_file_path(step, \"zip\", True)\n",
    "remote_path = working_folder.get_remote_path(step)"
   ]
  },
  {
   "cell_type": "code",
   "execution_count": 110,
   "metadata": {},
   "outputs": [],
   "source": [
    "gadm_url = \"https://geodata.ucdavis.edu/gadm/gadm4.1/gadm_410-levels.zip\"\n",
    "gadm_file_name = \"gadm_410-levels.zip\""
   ]
  },
  {
   "cell_type": "code",
   "execution_count": 111,
   "metadata": {},
   "outputs": [],
   "source": [
    "# Download data\n",
    "input_file = downloadFile(\n",
    "    gadm_url,\n",
    "    input_path,\n",
    "    overwrite=force_clean,\n",
    "    file=gadm_file_name,\n",
    ")"
   ]
  },
  {
   "cell_type": "code",
   "execution_count": 183,
   "metadata": {},
   "outputs": [
    {
     "name": "stdout",
     "output_type": "stream",
     "text": [
      "Processing: /home/mambauser/data/gadm/raw/temp_preprocess/gadm_410-levels\n",
      "Removed existing folder: /home/mambauser/data/gadm/raw/temp_preprocess/gadm_410-levels\n",
      "Unpacked /home/mambauser/data/gadm/raw/gadm_410-levels.zip to /home/mambauser/data/gadm/raw/temp_preprocess/gadm_410-levels\n"
     ]
    }
   ],
   "source": [
    "# Check if there is a zip file in the input_path\n",
    "zip_file = next(input_path.glob(\"*.zip\"), None)\n",
    "if zip_file:\n",
    "    unziped_folder = temp_working_path.joinpath(zip_file.stem)\n",
    "    print(f\"Processing: {unziped_folder}\")\n",
    "\n",
    "    if unziped_folder.exists() and force_clean:\n",
    "        shutil.rmtree(unziped_folder)\n",
    "        print(f\"Removed existing folder: {unziped_folder}\")\n",
    "\n",
    "    # Unpack the archive\n",
    "    shutil.unpack_archive(zip_file, unziped_folder)\n",
    "    print(f\"Unpacked {zip_file} to {unziped_folder}\")\n"
   ]
  },
  {
   "cell_type": "code",
   "execution_count": 304,
   "metadata": {},
   "outputs": [],
   "source": [
    "# Add columns for translated names\n",
    "data = [\n",
    "    {\"GID_0\": \"AFG\", \"COUNTRY_ES\": \"Afganistán\", \"COUNTRY_FR\": \"Afghanistan\"},\n",
    "    {\"GID_0\": \"XAD\", \"COUNTRY_ES\": \"Akrotiri y Dhekelia\", \"COUNTRY_FR\": \"Akrotiri et Dhekelia\"},\n",
    "    {\"GID_0\": \"ALB\", \"COUNTRY_ES\": \"Albania\", \"COUNTRY_FR\": \"Albanie\"},\n",
    "    {\"GID_0\": \"DZA\", \"COUNTRY_ES\": \"Argelia\", \"COUNTRY_FR\": \"Algérie\"},\n",
    "    {\"GID_0\": \"ASM\", \"COUNTRY_ES\": \"Samoa Americana\", \"COUNTRY_FR\": \"Samoa américaines\"},\n",
    "    {\"GID_0\": \"AND\", \"COUNTRY_ES\": \"Andorra\", \"COUNTRY_FR\": \"Andorre\"},\n",
    "    {\"GID_0\": \"AGO\", \"COUNTRY_ES\": \"Angola\", \"COUNTRY_FR\": \"Angola\"},\n",
    "    {\"GID_0\": \"AIA\", \"COUNTRY_ES\": \"Anguila\", \"COUNTRY_FR\": \"Anguilla\"},\n",
    "    {\"GID_0\": \"ATA\", \"COUNTRY_ES\": \"Antártida\", \"COUNTRY_FR\": \"Antarctique\"},\n",
    "    {\"GID_0\": \"ATG\", \"COUNTRY_ES\": \"Antigua y Barbuda\", \"COUNTRY_FR\": \"Antigua-et-Barbuda\"},\n",
    "    {\"GID_0\": \"ARG\", \"COUNTRY_ES\": \"Argentina\", \"COUNTRY_FR\": \"Argentine\"},\n",
    "    {\"GID_0\": \"ARM\", \"COUNTRY_ES\": \"Armenia\", \"COUNTRY_FR\": \"Arménie\"},\n",
    "    {\"GID_0\": \"ABW\", \"COUNTRY_ES\": \"Aruba\", \"COUNTRY_FR\": \"Aruba\"},\n",
    "    {\"GID_0\": \"AUS\", \"COUNTRY_ES\": \"Australia\", \"COUNTRY_FR\": \"Australie\"},\n",
    "    {\"GID_0\": \"AUT\", \"COUNTRY_ES\": \"Austria\", \"COUNTRY_FR\": \"Autriche\"},\n",
    "    {\"GID_0\": \"AZE\", \"COUNTRY_ES\": \"Azerbaiyán\", \"COUNTRY_FR\": \"Azerbaïdjan\"},\n",
    "    {\"GID_0\": \"BHS\", \"COUNTRY_ES\": \"Bahamas\", \"COUNTRY_FR\": \"Bahamas\"},\n",
    "    {\"GID_0\": \"BHR\", \"COUNTRY_ES\": \"Baréin\", \"COUNTRY_FR\": \"Bahreïn\"},\n",
    "    {\"GID_0\": \"BGD\", \"COUNTRY_ES\": \"Bangladés\", \"COUNTRY_FR\": \"Bangladesh\"},\n",
    "    {\"GID_0\": \"BRB\", \"COUNTRY_ES\": \"Barbados\", \"COUNTRY_FR\": \"Barbade\"},\n",
    "    {\"GID_0\": \"BLR\", \"COUNTRY_ES\": \"Bielorrusia\", \"COUNTRY_FR\": \"Biélorussie\"},\n",
    "    {\"GID_0\": \"BEL\", \"COUNTRY_ES\": \"Bélgica\", \"COUNTRY_FR\": \"Belgique\"},\n",
    "    {\"GID_0\": \"BLZ\", \"COUNTRY_ES\": \"Belice\", \"COUNTRY_FR\": \"Belize\"},\n",
    "    {\"GID_0\": \"BEN\", \"COUNTRY_ES\": \"Benín\", \"COUNTRY_FR\": \"Bénin\"},\n",
    "    {\"GID_0\": \"BMU\", \"COUNTRY_ES\": \"Bermudas\", \"COUNTRY_FR\": \"Bermudes\"},\n",
    "    {\"GID_0\": \"BTN\", \"COUNTRY_ES\": \"Bután\", \"COUNTRY_FR\": \"Bhoutan\"},\n",
    "    {\"GID_0\": \"BOL\", \"COUNTRY_ES\": \"Bolivia\", \"COUNTRY_FR\": \"Bolivie\"},\n",
    "    {\"GID_0\": \"BES\", \"COUNTRY_ES\": \"Bonaire, San Eustaquio y Saba\", \"COUNTRY_FR\": \"Bonaire, Saint-Eustache et Saba\"},\n",
    "    {\"GID_0\": \"BIH\", \"COUNTRY_ES\": \"Bosnia y Herzegovina\", \"COUNTRY_FR\": \"Bosnie-Herzégovine\"},\n",
    "    {\"GID_0\": \"BWA\", \"COUNTRY_ES\": \"Botsuana\", \"COUNTRY_FR\": \"Botswana\"},\n",
    "    {\"GID_0\": \"BVT\", \"COUNTRY_ES\": \"Isla Bouvet\", \"COUNTRY_FR\": \"Île Bouvet\"},\n",
    "    {\"GID_0\": \"BRA\", \"COUNTRY_ES\": \"Brasil\", \"COUNTRY_FR\": \"Brésil\"},\n",
    "    {\"GID_0\": \"IOT\", \"COUNTRY_ES\": \"Territorio Británico del Océano Índico\", \"COUNTRY_FR\": \"Territoire britannique de l'océan Indien\"},\n",
    "    {\"GID_0\": \"VGB\", \"COUNTRY_ES\": \"Islas Vírgenes Británicas\", \"COUNTRY_FR\": \"Îles Vierges britanniques\"},\n",
    "    {\"GID_0\": \"BRN\", \"COUNTRY_ES\": \"Brunéi\", \"COUNTRY_FR\": \"Brunei\"},\n",
    "    {\"GID_0\": \"BGR\", \"COUNTRY_ES\": \"Bulgaria\", \"COUNTRY_FR\": \"Bulgarie\"},\n",
    "    {\"GID_0\": \"BFA\", \"COUNTRY_ES\": \"Burkina Faso\", \"COUNTRY_FR\": \"Burkina Faso\"},\n",
    "    {\"GID_0\": \"BDI\", \"COUNTRY_ES\": \"Burundi\", \"COUNTRY_FR\": \"Burundi\"},\n",
    "    {\"GID_0\": \"CPV\", \"COUNTRY_ES\": \"Cabo Verde\", \"COUNTRY_FR\": \"Cap-Vert\"},\n",
    "    {\"GID_0\": \"KHM\", \"COUNTRY_ES\": \"Camboya\", \"COUNTRY_FR\": \"Cambodge\"},\n",
    "    {\"GID_0\": \"CMR\", \"COUNTRY_ES\": \"Camerún\", \"COUNTRY_FR\": \"Cameroun\"},\n",
    "    {\"GID_0\": \"CAN\", \"COUNTRY_ES\": \"Canadá\", \"COUNTRY_FR\": \"Canada\"},\n",
    "    {\"GID_0\": \"XCA\", \"COUNTRY_ES\": \"Mar Caspio\", \"COUNTRY_FR\": \"Mer Caspienne\"},\n",
    "    {\"GID_0\": \"CYM\", \"COUNTRY_ES\": \"Islas Caimán\", \"COUNTRY_FR\": \"Îles Caïmans\"},\n",
    "    {\"GID_0\": \"CAF\", \"COUNTRY_ES\": \"República Centroafricana\", \"COUNTRY_FR\": \"République centrafricaine\"},\n",
    "    {\"GID_0\": \"TCD\", \"COUNTRY_ES\": \"Chad\", \"COUNTRY_FR\": \"Tchad\"},\n",
    "    {\"GID_0\": \"CHL\", \"COUNTRY_ES\": \"Chile\", \"COUNTRY_FR\": \"Chili\"},\n",
    "    {\"GID_0\": \"CHN\", \"COUNTRY_ES\": \"China\", \"COUNTRY_FR\": \"Chine\"},\n",
    "    {\"GID_0\": \"CXR\", \"COUNTRY_ES\": \"Isla de Navidad\", \"COUNTRY_FR\": \"Île Christmas\"},\n",
    "    {\"GID_0\": \"XCL\", \"COUNTRY_ES\": \"Isla Clipperton\", \"COUNTRY_FR\": \"Île Clipperton\"},\n",
    "    {\"GID_0\": \"CCK\", \"COUNTRY_ES\": \"Islas Cocos\", \"COUNTRY_FR\": \"Îles Cocos\"},\n",
    "    {\"GID_0\": \"COL\", \"COUNTRY_ES\": \"Colombia\", \"COUNTRY_FR\": \"Colombie\"},\n",
    "    {\"GID_0\": \"COM\", \"COUNTRY_ES\": \"Comoras\", \"COUNTRY_FR\": \"Comores\"},\n",
    "    {\"GID_0\": \"COK\", \"COUNTRY_ES\": \"Islas Cook\", \"COUNTRY_FR\": \"Îles Cook\"},\n",
    "    {\"GID_0\": \"CRI\", \"COUNTRY_ES\": \"Costa Rica\", \"COUNTRY_FR\": \"Costa Rica\"},\n",
    "    {\"GID_0\": \"HRV\", \"COUNTRY_ES\": \"Croacia\", \"COUNTRY_FR\": \"Croatie\"},\n",
    "    {\"GID_0\": \"CUB\", \"COUNTRY_ES\": \"Cuba\", \"COUNTRY_FR\": \"Cuba\"},\n",
    "    {\"GID_0\": \"CUW\", \"COUNTRY_ES\": \"Curazao\", \"COUNTRY_FR\": \"Curaçao\"},\n",
    "    {\"GID_0\": \"CYP\", \"COUNTRY_ES\": \"Chipre\", \"COUNTRY_FR\": \"Chypre\"},\n",
    "    {\"GID_0\": \"CZE\", \"COUNTRY_ES\": \"Chequia\", \"COUNTRY_FR\": \"Tchéquie\"},\n",
    "    {\"GID_0\": \"CIV\", \"COUNTRY_ES\": \"Costa de Marfil\", \"COUNTRY_FR\": \"Côte d'Ivoire\"},\n",
    "    {\"GID_0\": \"COD\", \"COUNTRY_ES\": \"República Democrática del Congo\", \"COUNTRY_FR\": \"République démocratique du Congo\"},\n",
    "    {\"GID_0\": \"DNK\", \"COUNTRY_ES\": \"Dinamarca\", \"COUNTRY_FR\": \"Danemark\"},\n",
    "    {\"GID_0\": \"DJI\", \"COUNTRY_ES\": \"Yibuti\", \"COUNTRY_FR\": \"Djibouti\"},\n",
    "    {\"GID_0\": \"DMA\", \"COUNTRY_ES\": \"Dominica\", \"COUNTRY_FR\": \"Dominique\"},\n",
    "    {\"GID_0\": \"DOM\", \"COUNTRY_ES\": \"República Dominicana\", \"COUNTRY_FR\": \"République dominicaine\"},\n",
    "    {\"GID_0\": \"ECU\", \"COUNTRY_ES\": \"Ecuador\", \"COUNTRY_FR\": \"Équateur\"},\n",
    "    {\"GID_0\": \"EGY\", \"COUNTRY_ES\": \"Egipto\", \"COUNTRY_FR\": \"Égypte\"},\n",
    "    {\"GID_0\": \"SLV\", \"COUNTRY_ES\": \"El Salvador\", \"COUNTRY_FR\": \"Salvador\"},\n",
    "    {\"GID_0\": \"GNQ\", \"COUNTRY_ES\": \"Guinea Ecuatorial\", \"COUNTRY_FR\": \"Guinée équatoriale\"},\n",
    "    {\"GID_0\": \"ERI\", \"COUNTRY_ES\": \"Eritrea\", \"COUNTRY_FR\": \"Érythrée\"},\n",
    "    {\"GID_0\": \"EST\", \"COUNTRY_ES\": \"Estonia\", \"COUNTRY_FR\": \"Estonie\"},\n",
    "    {\"GID_0\": \"ETH\", \"COUNTRY_ES\": \"Etiopía\", \"COUNTRY_FR\": \"Éthiopie\"},\n",
    "    {\"GID_0\": \"FLK\", \"COUNTRY_ES\": \"Islas Malvinas\", \"COUNTRY_FR\": \"Îles Malouines\"},\n",
    "    {\"GID_0\": \"FRO\", \"COUNTRY_ES\": \"Islas Feroe\", \"COUNTRY_FR\": \"Îles Féroé\"},\n",
    "    {\"GID_0\": \"FJI\", \"COUNTRY_ES\": \"Fiyi\", \"COUNTRY_FR\": \"Fidji\"},\n",
    "    {\"GID_0\": \"FIN\", \"COUNTRY_ES\": \"Finlandia\", \"COUNTRY_FR\": \"Finlande\"},\n",
    "    {\"GID_0\": \"FRA\", \"COUNTRY_ES\": \"Francia\", \"COUNTRY_FR\": \"France\"},\n",
    "    {\"GID_0\": \"GUF\", \"COUNTRY_ES\": \"Guayana Francesa\", \"COUNTRY_FR\": \"Guyane française\"},\n",
    "    {\"GID_0\": \"PYF\", \"COUNTRY_ES\": \"Polinesia Francesa\", \"COUNTRY_FR\": \"Polynésie française\"},\n",
    "    {\"GID_0\": \"ATF\", \"COUNTRY_ES\": \"Territorios Australes Franceses\", \"COUNTRY_FR\": \"Terres australes françaises\"},\n",
    "    {\"GID_0\": \"GAB\", \"COUNTRY_ES\": \"Gabón\", \"COUNTRY_FR\": \"Gabon\"},\n",
    "    {\"GID_0\": \"GMB\", \"COUNTRY_ES\": \"Gambia\", \"COUNTRY_FR\": \"Gambie\"},\n",
    "    {\"GID_0\": \"GEO\", \"COUNTRY_ES\": \"Georgia\", \"COUNTRY_FR\": \"Géorgie\"},\n",
    "    {\"GID_0\": \"DEU\", \"COUNTRY_ES\": \"Alemania\", \"COUNTRY_FR\": \"Allemagne\"},\n",
    "    {\"GID_0\": \"GHA\", \"COUNTRY_ES\": \"Ghana\", \"COUNTRY_FR\": \"Ghana\"},\n",
    "    {\"GID_0\": \"GIB\", \"COUNTRY_ES\": \"Gibraltar\", \"COUNTRY_FR\": \"Gibraltar\"},\n",
    "    {\"GID_0\": \"GRC\", \"COUNTRY_ES\": \"Grecia\", \"COUNTRY_FR\": \"Grèce\"},\n",
    "    {\"GID_0\": \"GRL\", \"COUNTRY_ES\": \"Groenlandia\", \"COUNTRY_FR\": \"Groenland\"},\n",
    "    {\"GID_0\": \"GRD\", \"COUNTRY_ES\": \"Granada\", \"COUNTRY_FR\": \"Grenade\"},\n",
    "    {\"GID_0\": \"GLP\", \"COUNTRY_ES\": \"Guadalupe\", \"COUNTRY_FR\": \"Guadeloupe\"},\n",
    "    {\"GID_0\": \"GUM\", \"COUNTRY_ES\": \"Guam\", \"COUNTRY_FR\": \"Guam\"},\n",
    "    {\"GID_0\": \"GTM\", \"COUNTRY_ES\": \"Guatemala\", \"COUNTRY_FR\": \"Guatemala\"},\n",
    "    {\"GID_0\": \"GGY\", \"COUNTRY_ES\": \"Guernesey\", \"COUNTRY_FR\": \"Guernesey\"},\n",
    "    {\"GID_0\": \"GIN\", \"COUNTRY_ES\": \"Guinea\", \"COUNTRY_FR\": \"Guinée\"},\n",
    "    {\"GID_0\": \"GNB\", \"COUNTRY_ES\": \"Guinea-Bisáu\", \"COUNTRY_FR\": \"Guinée-Bissau\"},\n",
    "    {\"GID_0\": \"GUY\", \"COUNTRY_ES\": \"Guyana\", \"COUNTRY_FR\": \"Guyana\"},\n",
    "    {\"GID_0\": \"HTI\", \"COUNTRY_ES\": \"Haití\", \"COUNTRY_FR\": \"Haïti\"},\n",
    "    {\"GID_0\": \"HMD\", \"COUNTRY_ES\": \"Isla Heard y McDonald\", \"COUNTRY_FR\": \"Île Heard et îles McDonald\"},  \n",
    "    {\"GID_0\": \"HND\", \"COUNTRY_ES\": \"Honduras\", \"COUNTRY_FR\": \"Honduras\"},\n",
    "    {\"GID_0\": \"HUN\", \"COUNTRY_ES\": \"Hungría\", \"COUNTRY_FR\": \"Hongrie\"},\n",
    "    {\"GID_0\": \"ISL\", \"COUNTRY_ES\": \"Islandia\", \"COUNTRY_FR\": \"Islande\"},\n",
    "    {\"GID_0\": \"IND\", \"COUNTRY_ES\": \"India\", \"COUNTRY_FR\": \"Inde\"},\n",
    "    {\"GID_0\": \"IDN\", \"COUNTRY_ES\": \"Indonesia\", \"COUNTRY_FR\": \"Indonésie\"},\n",
    "    {\"GID_0\": \"IRN\", \"COUNTRY_ES\": \"Irán\", \"COUNTRY_FR\": \"Iran\"},\n",
    "    {\"GID_0\": \"IRQ\", \"COUNTRY_ES\": \"Irak\", \"COUNTRY_FR\": \"Irak\"},\n",
    "    {\"GID_0\": \"IRL\", \"COUNTRY_ES\": \"Irlanda\", \"COUNTRY_FR\": \"Irlande\"},\n",
    "    {\"GID_0\": \"IMN\", \"COUNTRY_ES\": \"Isla de Man\", \"COUNTRY_FR\": \"Île de Man\"},\n",
    "    {\"GID_0\": \"ISR\", \"COUNTRY_ES\": \"Israel\", \"COUNTRY_FR\": \"Israël\"},\n",
    "    {\"GID_0\": \"ITA\", \"COUNTRY_ES\": \"Italia\", \"COUNTRY_FR\": \"Italie\"},\n",
    "    {\"GID_0\": \"JAM\", \"COUNTRY_ES\": \"Jamaica\", \"COUNTRY_FR\": \"Jamaïque\"},\n",
    "    {\"GID_0\": \"JPN\", \"COUNTRY_ES\": \"Japón\", \"COUNTRY_FR\": \"Japon\"},\n",
    "    {\"GID_0\": \"JEY\", \"COUNTRY_ES\": \"Jersey\", \"COUNTRY_FR\": \"Jersey\"},\n",
    "    {\"GID_0\": \"JOR\", \"COUNTRY_ES\": \"Jordania\", \"COUNTRY_FR\": \"Jordanie\"},\n",
    "    {\"GID_0\": \"KAZ\", \"COUNTRY_ES\": \"Kazajistán\", \"COUNTRY_FR\": \"Kazakhstan\"},\n",
    "    {\"GID_0\": \"KEN\", \"COUNTRY_ES\": \"Kenia\", \"COUNTRY_FR\": \"Kenya\"},\n",
    "    {\"GID_0\": \"KIR\", \"COUNTRY_ES\": \"Kiribati\", \"COUNTRY_FR\": \"Kiribati\"},\n",
    "    {\"GID_0\": \"XKO\", \"COUNTRY_ES\": \"Kosovo\", \"COUNTRY_FR\": \"Kosovo\"},\n",
    "    {\"GID_0\": \"KWT\", \"COUNTRY_ES\": \"Kuwait\", \"COUNTRY_FR\": \"Koweït\"},\n",
    "    {\"GID_0\": \"KGZ\", \"COUNTRY_ES\": \"Kirguistán\", \"COUNTRY_FR\": \"Kirghizistan\"},\n",
    "    {\"GID_0\": \"LAO\", \"COUNTRY_ES\": \"Laos\", \"COUNTRY_FR\": \"Laos\"},\n",
    "    {\"GID_0\": \"LVA\", \"COUNTRY_ES\": \"Letonia\", \"COUNTRY_FR\": \"Lettonie\"},\n",
    "    {\"GID_0\": \"LBN\", \"COUNTRY_ES\": \"Líbano\", \"COUNTRY_FR\": \"Liban\"},\n",
    "    {\"GID_0\": \"LSO\", \"COUNTRY_ES\": \"Lesoto\", \"COUNTRY_FR\": \"Lesotho\"},\n",
    "    {\"GID_0\": \"LBR\", \"COUNTRY_ES\": \"Liberia\", \"COUNTRY_FR\": \"Liberia\"},\n",
    "    {\"GID_0\": \"LBY\", \"COUNTRY_ES\": \"Libia\", \"COUNTRY_FR\": \"Libye\"},\n",
    "    {\"GID_0\": \"LIE\", \"COUNTRY_ES\": \"Liechtenstein\", \"COUNTRY_FR\": \"Liechtenstein\"},\n",
    "    {\"GID_0\": \"LTU\", \"COUNTRY_ES\": \"Lituania\", \"COUNTRY_FR\": \"Lituanie\"},\n",
    "    {\"GID_0\": \"LUX\", \"COUNTRY_ES\": \"Luxemburgo\", \"COUNTRY_FR\": \"Luxembourg\"},\n",
    "    {\"GID_0\": \"MDG\", \"COUNTRY_ES\": \"Madagascar\", \"COUNTRY_FR\": \"Madagascar\"},\n",
    "    {\"GID_0\": \"MWI\", \"COUNTRY_ES\": \"Malaui\", \"COUNTRY_FR\": \"Malawi\"},\n",
    "    {\"GID_0\": \"MYS\", \"COUNTRY_ES\": \"Malasia\", \"COUNTRY_FR\": \"Malaisie\"},\n",
    "    {\"GID_0\": \"MDV\", \"COUNTRY_ES\": \"Maldivas\", \"COUNTRY_FR\": \"Maldives\"},\n",
    "    {\"GID_0\": \"MLI\", \"COUNTRY_ES\": \"Malí\", \"COUNTRY_FR\": \"Mali\"},\n",
    "    {\"GID_0\": \"MLT\", \"COUNTRY_ES\": \"Malta\", \"COUNTRY_FR\": \"Malte\"},\n",
    "    {\"GID_0\": \"MHL\", \"COUNTRY_ES\": \"Islas Marshall\", \"COUNTRY_FR\": \"Îles Marshall\"},\n",
    "    {\"GID_0\": \"MTQ\", \"COUNTRY_ES\": \"Martinica\", \"COUNTRY_FR\": \"Martinique\"},\n",
    "    {\"GID_0\": \"MRT\", \"COUNTRY_ES\": \"Mauritania\", \"COUNTRY_FR\": \"Mauritanie\"},\n",
    "    {\"GID_0\": \"MUS\", \"COUNTRY_ES\": \"Mauricio\", \"COUNTRY_FR\": \"Maurice\"},\n",
    "    {\"GID_0\": \"MYT\", \"COUNTRY_ES\": \"Mayotte\", \"COUNTRY_FR\": \"Mayotte\"},\n",
    "    {\"GID_0\": \"FSM\", \"COUNTRY_ES\": \"Micronesia\", \"COUNTRY_FR\": \"Micronésie\"},\n",
    "    {\"GID_0\": \"MDA\", \"COUNTRY_ES\": \"Moldavia\", \"COUNTRY_FR\": \"Moldavie\"},\n",
    "    {\"GID_0\": \"MCO\", \"COUNTRY_ES\": \"Mónaco\", \"COUNTRY_FR\": \"Monaco\"},\n",
    "    {\"GID_0\": \"MNG\", \"COUNTRY_ES\": \"Mongolia\", \"COUNTRY_FR\": \"Mongolie\"},\n",
    "    {\"GID_0\": \"MNE\", \"COUNTRY_ES\": \"Montenegro\", \"COUNTRY_FR\": \"Monténégro\"},\n",
    "    {\"GID_0\": \"MSR\", \"COUNTRY_ES\": \"Montserrat\", \"COUNTRY_FR\": \"Montserrat\"},\n",
    "    {\"GID_0\": \"MAR\", \"COUNTRY_ES\": \"Marruecos\", \"COUNTRY_FR\": \"Maroc\"},\n",
    "    {\"GID_0\": \"MOZ\", \"COUNTRY_ES\": \"Mozambique\", \"COUNTRY_FR\": \"Mozambique\"},\n",
    "    {\"GID_0\": \"MMR\", \"COUNTRY_ES\": \"Myanmar\", \"COUNTRY_FR\": \"Myanmar\"},\n",
    "    {\"GID_0\": \"MEX\", \"COUNTRY_ES\": \"México\", \"COUNTRY_FR\": \"Mexique\"},\n",
    "    {\"GID_0\": \"NAM\", \"COUNTRY_ES\": \"Namibia\", \"COUNTRY_FR\": \"Namibie\"},\n",
    "    {\"GID_0\": \"NRU\", \"COUNTRY_ES\": \"Nauru\", \"COUNTRY_FR\": \"Nauru\"},\n",
    "    {\"GID_0\": \"NPL\", \"COUNTRY_ES\": \"Nepal\", \"COUNTRY_FR\": \"Népal\"},\n",
    "    {\"GID_0\": \"NLD\", \"COUNTRY_ES\": \"Países Bajos\", \"COUNTRY_FR\": \"Pays-Bas\"},\n",
    "    {\"GID_0\": \"NCL\", \"COUNTRY_ES\": \"Nueva Caledonia\", \"COUNTRY_FR\": \"Nouvelle-Calédonie\"},\n",
    "    {\"GID_0\": \"NZL\", \"COUNTRY_ES\": \"Nueva Zelanda\", \"COUNTRY_FR\": \"Nouvelle-Zélande\"},\n",
    "    {\"GID_0\": \"NIC\", \"COUNTRY_ES\": \"Nicaragua\", \"COUNTRY_FR\": \"Nicaragua\"},\n",
    "    {\"GID_0\": \"NER\", \"COUNTRY_ES\": \"Níger\", \"COUNTRY_FR\": \"Niger\"},\n",
    "    {\"GID_0\": \"NGA\", \"COUNTRY_ES\": \"Nigeria\", \"COUNTRY_FR\": \"Nigéria\"},\n",
    "    {\"GID_0\": \"NIU\", \"COUNTRY_ES\": \"Niue\", \"COUNTRY_FR\": \"Niue\"},\n",
    "    {\"GID_0\": \"NFK\", \"COUNTRY_ES\": \"Isla Norfolk\", \"COUNTRY_FR\": \"Île Norfolk\"},\n",
    "    {\"GID_0\": \"PRK\", \"COUNTRY_ES\": \"Corea del Norte\", \"COUNTRY_FR\": \"Corée du Nord\"},\n",
    "    {\"GID_0\": \"MKD\", \"COUNTRY_ES\": \"Macedonia del Norte\", \"COUNTRY_FR\": \"Macédoine du Nord\"},\n",
    "    {\"GID_0\": \"ZNC\", \"COUNTRY_ES\": \"Chipre del Norte\", \"COUNTRY_FR\": \"Chypre du Nord\"},\n",
    "    {\"GID_0\": \"MNP\", \"COUNTRY_ES\": \"Islas Marianas del Norte\", \"COUNTRY_FR\": \"Îles Mariannes du Nord\"},\n",
    "    {\"GID_0\": \"NOR\", \"COUNTRY_ES\": \"Noruega\", \"COUNTRY_FR\": \"Norvège\"},\n",
    "    {\"GID_0\": \"OMN\", \"COUNTRY_ES\": \"Omán\", \"COUNTRY_FR\": \"Oman\"},\n",
    "    {\"GID_0\": \"PAK\", \"COUNTRY_ES\": \"Pakistán\", \"COUNTRY_FR\": \"Pakistan\"},\n",
    "    {\"GID_0\": \"PLW\", \"COUNTRY_ES\": \"Palaos\", \"COUNTRY_FR\": \"Palaos\"},\n",
    "    {\"GID_0\": \"PSE\", \"COUNTRY_ES\": \"Palestina\", \"COUNTRY_FR\": \"Palestine\"},\n",
    "    {\"GID_0\": \"PAN\", \"COUNTRY_ES\": \"Panamá\", \"COUNTRY_FR\": \"Panama\"},\n",
    "    {\"GID_0\": \"PNG\", \"COUNTRY_ES\": \"Papúa Nueva Guinea\", \"COUNTRY_FR\": \"Papouasie-Nouvelle-Guinée\"},\n",
    "    {\"GID_0\": \"XPI\", \"COUNTRY_ES\": \"Islas Paracelso\", \"COUNTRY_FR\": \"Îles Paracels\"},\n",
    "    {\"GID_0\": \"PRY\", \"COUNTRY_ES\": \"Paraguay\", \"COUNTRY_FR\": \"Paraguay\"},\n",
    "    {\"GID_0\": \"PER\", \"COUNTRY_ES\": \"Perú\", \"COUNTRY_FR\": \"Pérou\"},\n",
    "    {\"GID_0\": \"PHL\", \"COUNTRY_ES\": \"Filipinas\", \"COUNTRY_FR\": \"Philippines\"},\n",
    "    {\"GID_0\": \"PCN\", \"COUNTRY_ES\": \"Islas Pitcairn\", \"COUNTRY_FR\": \"Îles Pitcairn\"},\n",
    "    {\"GID_0\": \"POL\", \"COUNTRY_ES\": \"Polonia\", \"COUNTRY_FR\": \"Pologne\"},\n",
    "    {\"GID_0\": \"PRT\", \"COUNTRY_ES\": \"Portugal\", \"COUNTRY_FR\": \"Portugal\"},\n",
    "    {\"GID_0\": \"PRI\", \"COUNTRY_ES\": \"Puerto Rico\", \"COUNTRY_FR\": \"Porto Rico\"},\n",
    "    {\"GID_0\": \"QAT\", \"COUNTRY_ES\": \"Catar\", \"COUNTRY_FR\": \"Qatar\"},\n",
    "    {\"GID_0\": \"COG\", \"COUNTRY_ES\": \"República del Congo\", \"COUNTRY_FR\": \"République du Congo\"},\n",
    "    {\"GID_0\": \"ROU\", \"COUNTRY_ES\": \"Rumania\", \"COUNTRY_FR\": \"Roumanie\"},\n",
    "    {\"GID_0\": \"RUS\", \"COUNTRY_ES\": \"Rusia\", \"COUNTRY_FR\": \"Russie\"},\n",
    "    {\"GID_0\": \"RWA\", \"COUNTRY_ES\": \"Ruanda\", \"COUNTRY_FR\": \"Rwanda\"},\n",
    "    {\"GID_0\": \"REU\", \"COUNTRY_ES\": \"Reunión\", \"COUNTRY_FR\": \"La Réunion\"},\n",
    "    {\"GID_0\": \"SHN\", \"COUNTRY_ES\": \"Santa Elena, Ascensión y Tristán de Acuña\", \"COUNTRY_FR\": \"Sainte-Hélène, Ascension et Tristan da Cunha\"},\n",
    "    {\"GID_0\": \"KNA\", \"COUNTRY_ES\": \"San Cristóbal y Nieves\", \"COUNTRY_FR\": \"Saint-Christophe-et-Niévès\"},\n",
    "    {\"GID_0\": \"LCA\", \"COUNTRY_ES\": \"Santa Lucía\", \"COUNTRY_FR\": \"Sainte-Lucie\"},\n",
    "    {\"GID_0\": \"SPM\", \"COUNTRY_ES\": \"San Pedro y Miquelón\", \"COUNTRY_FR\": \"Saint-Pierre-et-Miquelon\"},\n",
    "    {\"GID_0\": \"VCT\", \"COUNTRY_ES\": \"San Vicente y las Granadinas\", \"COUNTRY_FR\": \"Saint-Vincent-et-les-Grenadines\"},\n",
    "    {\"GID_0\": \"BLM\", \"COUNTRY_ES\": \"San Bartolomé\", \"COUNTRY_FR\": \"Saint-Barthélemy\"},\n",
    "    {\"GID_0\": \"MAF\", \"COUNTRY_ES\": \"San Martín\", \"COUNTRY_FR\": \"Saint-Martin\"},\n",
    "    {\"GID_0\": \"WSM\", \"COUNTRY_ES\": \"Samoa\", \"COUNTRY_FR\": \"Samoa\"},\n",
    "    {\"GID_0\": \"SMR\", \"COUNTRY_ES\": \"San Marino\", \"COUNTRY_FR\": \"Saint-Marin\"},\n",
    "    {\"GID_0\": \"SAU\", \"COUNTRY_ES\": \"Arabia Saudita\", \"COUNTRY_FR\": \"Arabie Saoudite\"},\n",
    "    {\"GID_0\": \"SEN\", \"COUNTRY_ES\": \"Senegal\", \"COUNTRY_FR\": \"Sénégal\"},\n",
    "    {\"GID_0\": \"SRB\", \"COUNTRY_ES\": \"Serbia\", \"COUNTRY_FR\": \"Serbie\"},\n",
    "    {\"GID_0\": \"SYC\", \"COUNTRY_ES\": \"Seychelles\", \"COUNTRY_FR\": \"Seychelles\"},\n",
    "    {\"GID_0\": \"SLE\", \"COUNTRY_ES\": \"Sierra Leona\", \"COUNTRY_FR\": \"Sierra Leone\"},\n",
    "    {\"GID_0\": \"SGP\", \"COUNTRY_ES\": \"Singapur\", \"COUNTRY_FR\": \"Singapour\"},\n",
    "    {\"GID_0\": \"SXM\", \"COUNTRY_ES\": \"Sint Maarten\", \"COUNTRY_FR\": \"Saint-Martin\"},\n",
    "    {\"GID_0\": \"SVK\", \"COUNTRY_ES\": \"Eslovaquia\", \"COUNTRY_FR\": \"Slovaquie\"},\n",
    "    {\"GID_0\": \"SVN\", \"COUNTRY_ES\": \"Eslovenia\", \"COUNTRY_FR\": \"Slovénie\"},\n",
    "    {\"GID_0\": \"SLB\", \"COUNTRY_ES\": \"Islas Salomón\", \"COUNTRY_FR\": \"Îles Salomon\"},\n",
    "    {\"GID_0\": \"SOM\", \"COUNTRY_ES\": \"Somalia\", \"COUNTRY_FR\": \"Somalie\"},\n",
    "    {\"GID_0\": \"ZAF\", \"COUNTRY_ES\": \"Sudáfrica\", \"COUNTRY_FR\": \"Afrique du Sud\"},\n",
    "    {\"GID_0\": \"SGS\", \"COUNTRY_ES\": \"Georgia del Sur y las Islas Sandwich del Sur\", \"COUNTRY_FR\": \"Géorgie du Sud et îles Sandwich du Sud\"},\n",
    "    {\"GID_0\": \"KOR\", \"COUNTRY_ES\": \"Corea del Sur\", \"COUNTRY_FR\": \"Corée du Sud\"},\n",
    "    {\"GID_0\": \"SSD\", \"COUNTRY_ES\": \"Sudán del Sur\", \"COUNTRY_FR\": \"Soudan du Sud\"},\n",
    "    {\"GID_0\": \"ESP\", \"COUNTRY_ES\": \"España\", \"COUNTRY_FR\": \"Espagne\"},\n",
    "    {\"GID_0\": \"XSP\", \"COUNTRY_ES\": \"Islas Spratly\", \"COUNTRY_FR\": \"Îles Spratleys\"},\n",
    "    {\"GID_0\": \"LKA\", \"COUNTRY_ES\": \"Sri Lanka\", \"COUNTRY_FR\": \"Sri Lanka\"},\n",
    "    {\"GID_0\": \"SDN\", \"COUNTRY_ES\": \"Sudán\", \"COUNTRY_FR\": \"Soudan\"},\n",
    "    {\"GID_0\": \"SUR\", \"COUNTRY_ES\": \"Surinam\", \"COUNTRY_FR\": \"Suriname\"},\n",
    "    {\"GID_0\": \"SJM\", \"COUNTRY_ES\": \"Svalbard y Jan Mayen\", \"COUNTRY_FR\": \"Svalbard et Jan Mayen\"},\n",
    "    {\"GID_0\": \"SWZ\", \"COUNTRY_ES\": \"Suazilandia\", \"COUNTRY_FR\": \"Swaziland\"},\n",
    "    {\"GID_0\": \"SWE\", \"COUNTRY_ES\": \"Suecia\", \"COUNTRY_FR\": \"Suède\"},\n",
    "    {\"GID_0\": \"CHE\", \"COUNTRY_ES\": \"Suiza\", \"COUNTRY_FR\": \"Suisse\"},\n",
    "    {\"GID_0\": \"SYR\", \"COUNTRY_ES\": \"Siria\", \"COUNTRY_FR\": \"Syrie\"},\n",
    "    {\"GID_0\": \"STP\", \"COUNTRY_ES\": \"Santo Tomé y Príncipe\", \"COUNTRY_FR\": \"São Tomé-et-Principe\"},\n",
    "    {\"GID_0\": \"TWN\", \"COUNTRY_ES\": \"Taiwán\", \"COUNTRY_FR\": \"Taïwan\"},\n",
    "    {\"GID_0\": \"TJK\", \"COUNTRY_ES\": \"Tayikistán\", \"COUNTRY_FR\": \"Tadjikistan\"},\n",
    "    {\"GID_0\": \"TZA\", \"COUNTRY_ES\": \"Tanzania\", \"COUNTRY_FR\": \"Tanzanie\"},\n",
    "    {\"GID_0\": \"THA\", \"COUNTRY_ES\": \"Tailandia\", \"COUNTRY_FR\": \"Thaïlande\"},\n",
    "    {\"GID_0\": \"TLS\", \"COUNTRY_ES\": \"Timor-Leste\", \"COUNTRY_FR\": \"Timor-Leste\"},\n",
    "    {\"GID_0\": \"TGO\", \"COUNTRY_ES\": \"Togo\", \"COUNTRY_FR\": \"Togo\"},\n",
    "    {\"GID_0\": \"TKL\", \"COUNTRY_ES\": \"Tokelau\", \"COUNTRY_FR\": \"Tokelau\"},\n",
    "    {\"GID_0\": \"TON\", \"COUNTRY_ES\": \"Tonga\", \"COUNTRY_FR\": \"Tonga\"},\n",
    "    {\"GID_0\": \"TTO\", \"COUNTRY_ES\": \"Trinidad y Tobago\", \"COUNTRY_FR\": \"Trinité-et-Tobago\"},\n",
    "    {\"GID_0\": \"TUN\", \"COUNTRY_ES\": \"Túnez\", \"COUNTRY_FR\": \"Tunisie\"},\n",
    "    {\"GID_0\": \"TUR\", \"COUNTRY_ES\": \"Turquía\", \"COUNTRY_FR\": \"Turquie\"},\n",
    "    {\"GID_0\": \"TKM\", \"COUNTRY_ES\": \"Turkmenistán\", \"COUNTRY_FR\": \"Turkménistan\"},\n",
    "    {\"GID_0\": \"TCA\", \"COUNTRY_ES\": \"Islas Turcas y Caicos\", \"COUNTRY_FR\": \"Îles Turques-et-Caïques\"},\n",
    "    {\"GID_0\": \"TUV\", \"COUNTRY_ES\": \"Tuvalu\", \"COUNTRY_FR\": \"Tuvalu\"},\n",
    "    {\"GID_0\": \"UGA\", \"COUNTRY_ES\": \"Uganda\", \"COUNTRY_FR\": \"Ouganda\"},\n",
    "    {\"GID_0\": \"UKR\", \"COUNTRY_ES\": \"Ucrania\", \"COUNTRY_FR\": \"Ukraine\"},\n",
    "    {\"GID_0\": \"ARE\", \"COUNTRY_ES\": \"Emiratos Árabes Unidos\", \"COUNTRY_FR\": \"Émirats Arabes Unis\"},\n",
    "    {\"GID_0\": \"GBR\", \"COUNTRY_ES\": \"Reino Unido\", \"COUNTRY_FR\": \"Royaume-Uni\"},\n",
    "    {\"GID_0\": \"USA\", \"COUNTRY_ES\": \"Estados Unidos\", \"COUNTRY_FR\": \"États-Unis\"},\n",
    "    {\"GID_0\": \"UMI\", \"COUNTRY_ES\": \"Islas Ultramarinas Menores de los Estados Unidos\", \"COUNTRY_FR\": \"Îles mineures éloignées des États-Unis\"},\n",
    "    {\"GID_0\": \"URY\", \"COUNTRY_ES\": \"Uruguay\", \"COUNTRY_FR\": \"Uruguay\"},\n",
    "    {\"GID_0\": \"UZB\", \"COUNTRY_ES\": \"Uzbekistán\", \"COUNTRY_FR\": \"Ouzbékistan\"},\n",
    "    {\"GID_0\": \"VUT\", \"COUNTRY_ES\": \"Vanuatu\", \"COUNTRY_FR\": \"Vanuatu\"},\n",
    "    {\"GID_0\": \"VAT\", \"COUNTRY_ES\": \"Ciudad del Vaticano\", \"COUNTRY_FR\": \"Cité du Vatican\"},\n",
    "    {\"GID_0\": \"VEN\", \"COUNTRY_ES\": \"Venezuela\", \"COUNTRY_FR\": \"Venezuela\"},\n",
    "    {\"GID_0\": \"VNM\", \"COUNTRY_ES\": \"Vietnam\", \"COUNTRY_FR\": \"Vietnam\"},\n",
    "    {\"GID_0\": \"VIR\", \"COUNTRY_ES\": \"Islas Vírgenes de los Estados Unidos\", \"COUNTRY_FR\": \"Îles Vierges des États-Unis\"},\n",
    "    {\"GID_0\": \"WLF\", \"COUNTRY_ES\": \"Wallis y Futuna\", \"COUNTRY_FR\": \"Wallis-et-Futuna\"},\n",
    "    {\"GID_0\": \"ESH\", \"COUNTRY_ES\": \"Sahara Occidental\", \"COUNTRY_FR\": \"Sahara occidental\"},\n",
    "    {\"GID_0\": \"YEM\", \"COUNTRY_ES\": \"Yemen\", \"COUNTRY_FR\": \"Yémen\"},\n",
    "    {\"GID_0\": \"ZMB\", \"COUNTRY_ES\": \"Zambia\", \"COUNTRY_FR\": \"Zambie\"},\n",
    "    {\"GID_0\": \"ZWE\", \"COUNTRY_ES\": \"Zimbabue\", \"COUNTRY_FR\": \"Zimbabwe\"},\n",
    "    {\"GID_0\": \"ALA\", \"COUNTRY_ES\": \"Islas Åland\", \"COUNTRY_FR\": \"Îles Åland\"}]\n",
    "\n",
    "df = pd.DataFrame(data)"
   ]
  },
  {
   "cell_type": "code",
   "execution_count": 286,
   "metadata": {},
   "outputs": [
    {
     "name": "stdout",
     "output_type": "stream",
     "text": [
      "Found GeoPackage: /home/mambauser/data/gadm/raw/temp_preprocess/gadm_410-levels/gadm_410-levels.gpkg\n",
      "Selected layer: ADM_0\n"
     ]
    }
   ],
   "source": [
    "# Select data adm_0, dissolve and save as shp\n",
    "geopackage_file = next(unziped_folder.rglob(\"*.gpkg\"), None)\n",
    "\n",
    "if geopackage_file:\n",
    "    print(f\"Found GeoPackage: {geopackage_file}\")\n",
    "\n",
    "    # Specify the layer to read\n",
    "    layer_name = \"ADM_0\"\n",
    "    gdf = gpd.read_file(geopackage_file, layer=layer_name)\n",
    "    print(f\"Selected layer: {layer_name}\")   \n",
    "    \n",
    "else:\n",
    "    print(\"No GeoPackage file found in the unzipped folder.\")"
   ]
  },
  {
   "cell_type": "code",
   "execution_count": 287,
   "metadata": {},
   "outputs": [],
   "source": [
    "dependency_to_parent = {\n",
    "    \"ABW\": (\"NLD\", \"Netherlands\"),\n",
    "    \"AIA\": (\"GBR\", \"United Kingdom\"),\n",
    "    \"ALA\": (\"FIN\", \"Finland\"),\n",
    "    \"ASM\": (\"USA\", \"United States\"),\n",
    "    \"ATF\": (\"FRA\", \"France\"),\n",
    "    \"BES\": (\"NLD\", \"Netherlands\"),\n",
    "    \"BLM\": (\"FRA\", \"France\"),\n",
    "    \"BMU\": (\"GBR\", \"United Kingdom\"),\n",
    "    \"BVT\": (\"NOR\", \"Norway\"),\n",
    "    \"CCK\": (\"AUS\", \"Australia\"),\n",
    "    \"COK\": (\"NZL\", \"New Zealand\"),\n",
    "    \"CUW\": (\"NLD\", \"Netherlands\"),\n",
    "    \"CXR\": (\"AUS\", \"Australia\"),\n",
    "    \"CYM\": (\"GBR\", \"United Kingdom\"),\n",
    "    \"FLK\": (\"GBR\", \"United Kingdom\"),\n",
    "    \"FRO\": (\"DNK\", \"Denmark\"),\n",
    "    \"GGY\": (\"GBR\", \"United Kingdom\"),\n",
    "    \"GLP\": (\"FRA\", \"France\"),\n",
    "    \"GRL\": (\"DNK\", \"Denmark\"),\n",
    "    \"GUF\": (\"FRA\", \"France\"),\n",
    "    \"GUM\": (\"USA\", \"United States\"),\n",
    "    \"HMD\": (\"AUS\", \"Australia\"),\n",
    "    \"IMN\": (\"GBR\", \"United Kingdom\"),\n",
    "    \"IOT\": (\"GBR\", \"United Kingdom\"),\n",
    "    \"JEY\": (\"GBR\", \"United Kingdom\"),\n",
    "    \"KGZ\": (\"KGZ\", \"Kyrgyzstan\"),\n",
    "    \"LAO\": (\"LAO\", \"Laos\"),\n",
    "    \"LIE\": (\"LIE\", \"Liechtenstein\"),\n",
    "    \"LSO\": (\"LSO\", \"Lesotho\"),\n",
    "    \"LUX\": (\"LUX\", \"Luxembourg\"),\n",
    "    \"MAF\": (\"FRA\", \"France\"),\n",
    "    \"MDA\": (\"MDA\", \"Moldova\"),\n",
    "    \"MKD\": (\"MKD\", \"North Macedonia\"),\n",
    "    \"MLI\": (\"MLI\", \"Mali\"),\n",
    "    \"MNG\": (\"MNG\", \"Mongolia\"),\n",
    "    \"MNP\": (\"USA\", \"United States\"),\n",
    "    \"MSR\": (\"GBR\", \"United Kingdom\"),\n",
    "    \"MTQ\": (\"FRA\", \"France\"),\n",
    "    \"MWI\": (\"MWI\", \"Malawi\"),\n",
    "    \"MYT\": (\"FRA\", \"France\"),\n",
    "    \"NCL\": (\"FRA\", \"France\"),\n",
    "    \"NER\": (\"NER\", \"Niger\"),\n",
    "    \"NFK\": (\"AUS\", \"Australia\"),\n",
    "    \"NIU\": (\"NZL\", \"New Zealand\"),\n",
    "    \"NPL\": (\"NPL\", \"Nepal\"),\n",
    "    \"PCN\": (\"GBR\", \"United Kingdom\"),\n",
    "    \"PRI\": (\"USA\", \"United States\"),\n",
    "    \"PRY\": (\"PRY\", \"Paraguay\"),\n",
    "    \"PYF\": (\"FRA\", \"France\"),\n",
    "    \"REU\": (\"FRA\", \"France\"),\n",
    "    \"RWA\": (\"RWA\", \"Rwanda\"),\n",
    "    \"SGS\": (\"GBR\", \"United Kingdom\"),\n",
    "    \"SHN\": (\"GBR\", \"United Kingdom\"),\n",
    "    \"SJM\": (\"NOR\", \"Norway\"),\n",
    "    \"SMR\": (\"SMR\", \"San Marino\"),\n",
    "    \"SPM\": (\"FRA\", \"France\"),\n",
    "    \"SRB\": (\"SRB\", \"Serbia\"),\n",
    "    \"SSD\": (\"SSD\", \"South Sudan\"),\n",
    "    \"SVK\": (\"SVK\", \"Slovakia\"),\n",
    "    \"SWZ\": (\"SWZ\", \"Eswatini\"),\n",
    "    \"SXM\": (\"NLD\", \"Netherlands\"),\n",
    "    \"TCA\": (\"GBR\", \"United Kingdom\"),\n",
    "    \"TCD\": (\"TCD\", \"Chad\"),\n",
    "    \"TJK\": (\"TJK\", \"Tajikistan\"),\n",
    "    \"TKL\": (\"NZL\", \"New Zealand\"),\n",
    "    \"UGA\": (\"UGA\", \"Uganda\"),\n",
    "    \"UMI\": (\"USA\", \"United States\"),\n",
    "    \"UZB\": (\"UZB\", \"Uzbekistan\"),\n",
    "    \"VAT\": (\"VAT\", \"Vatican City\"),\n",
    "    \"VGB\": (\"GBR\", \"United Kingdom\"),\n",
    "    \"VIR\": (\"USA\", \"United States\"),\n",
    "    \"WLF\": (\"FRA\", \"France\"),\n",
    "    \"ZMB\": (\"ZMB\", \"Zambia\"),\n",
    "    \"ZWE\": (\"ZWE\", \"Zimbabwe\"),\n",
    "}\n",
    "\n",
    "def update_gid_0_and_country(gdf: gpd.GeoDataFrame) -> gpd.GeoDataFrame:\n",
    "    \"\"\"\n",
    "    Updates the GID_0 and COUNTRY values in the GeoDataFrame for dependent territories \n",
    "    with the GID_0 and COUNTRY of their sovereign parent countries.\n",
    "\n",
    "    Parameters:\n",
    "    gdf (gpd.GeoDataFrame): The input GeoDataFrame with 'GID_0' and 'COUNTRY' columns.\n",
    "\n",
    "    Returns:\n",
    "    gpd.GeoDataFrame: The GeoDataFrame with updated 'GID_0' and 'COUNTRY' values for dependent territories.\n",
    "    \"\"\"\n",
    "    # Map GID_0 to the updated values\n",
    "    gdf['GID_0'] = gdf['GID_0'].map(lambda x: dependency_to_parent.get(x, (x, x))[0])\n",
    "    \n",
    "    # Update COUNTRY based on the updated GID_0\n",
    "    gdf['COUNTRY'] = gdf['GID_0'].map(lambda x: {v[0]: v[1] for k, v in dependency_to_parent.items()}.get(x, gdf['COUNTRY'].loc[gdf['GID_0'] == x].values[0]))\n",
    "\n",
    "    return gdf\n",
    "\n",
    "# Assuming your GeoDataFrame is called `gdf`\n",
    "gdf_updated = update_gid_0_and_country(gdf)\n"
   ]
  },
  {
   "cell_type": "code",
   "execution_count": null,
   "metadata": {},
   "outputs": [],
   "source": [
    "# Dissolve by country\n",
    "gdf_updated = gdf_updated.dissolve(by='COUNTRY').reset_index()\n",
    "\n",
    "# Calculate area\n",
    "gdf_updated = gdf_updated.pipe(calculate_area)"
   ]
  },
  {
   "cell_type": "code",
   "execution_count": 309,
   "metadata": {},
   "outputs": [
    {
     "data": {
      "text/html": [
       "<div>\n",
       "<style scoped>\n",
       "    .dataframe tbody tr th:only-of-type {\n",
       "        vertical-align: middle;\n",
       "    }\n",
       "\n",
       "    .dataframe tbody tr th {\n",
       "        vertical-align: top;\n",
       "    }\n",
       "\n",
       "    .dataframe thead th {\n",
       "        text-align: right;\n",
       "    }\n",
       "</style>\n",
       "<table border=\"1\" class=\"dataframe\">\n",
       "  <thead>\n",
       "    <tr style=\"text-align: right;\">\n",
       "      <th></th>\n",
       "      <th>COUNTRY</th>\n",
       "      <th>geometry</th>\n",
       "      <th>GID_0</th>\n",
       "      <th>area_km2</th>\n",
       "      <th>COUNTRY_ES</th>\n",
       "      <th>COUNTRY_FR</th>\n",
       "    </tr>\n",
       "  </thead>\n",
       "  <tbody>\n",
       "    <tr>\n",
       "      <th>0</th>\n",
       "      <td>Afghanistan</td>\n",
       "      <td>MULTIPOLYGON (((63.61425 29.46993, 63.60868 29...</td>\n",
       "      <td>AFG</td>\n",
       "      <td>644050.28</td>\n",
       "      <td>Afganistán</td>\n",
       "      <td>Afghanistan</td>\n",
       "    </tr>\n",
       "    <tr>\n",
       "      <th>1</th>\n",
       "      <td>Akrotiri and Dhekelia</td>\n",
       "      <td>MULTIPOLYGON (((33.00764 34.62583, 33.00708 34...</td>\n",
       "      <td>XAD</td>\n",
       "      <td>233.64</td>\n",
       "      <td>Akrotiri y Dhekelia</td>\n",
       "      <td>Akrotiri et Dhekelia</td>\n",
       "    </tr>\n",
       "    <tr>\n",
       "      <th>2</th>\n",
       "      <td>Albania</td>\n",
       "      <td>MULTIPOLYGON (((19.27804 40.50524, 19.28189 40...</td>\n",
       "      <td>ALB</td>\n",
       "      <td>28689.62</td>\n",
       "      <td>Albania</td>\n",
       "      <td>Albanie</td>\n",
       "    </tr>\n",
       "    <tr>\n",
       "      <th>3</th>\n",
       "      <td>Algeria</td>\n",
       "      <td>MULTIPOLYGON (((2.84535 36.74691, 2.84597 36.7...</td>\n",
       "      <td>DZA</td>\n",
       "      <td>2311455.23</td>\n",
       "      <td>Argelia</td>\n",
       "      <td>Algérie</td>\n",
       "    </tr>\n",
       "    <tr>\n",
       "      <th>4</th>\n",
       "      <td>Andorra</td>\n",
       "      <td>POLYGON ((1.61725 42.62406, 1.63334 42.62553, ...</td>\n",
       "      <td>AND</td>\n",
       "      <td>450.35</td>\n",
       "      <td>Andorra</td>\n",
       "      <td>Andorre</td>\n",
       "    </tr>\n",
       "    <tr>\n",
       "      <th>...</th>\n",
       "      <td>...</td>\n",
       "      <td>...</td>\n",
       "      <td>...</td>\n",
       "      <td>...</td>\n",
       "      <td>...</td>\n",
       "      <td>...</td>\n",
       "    </tr>\n",
       "    <tr>\n",
       "      <th>201</th>\n",
       "      <td>Vietnam</td>\n",
       "      <td>MULTIPOLYGON (((103.46895 9.25602, 103.46736 9...</td>\n",
       "      <td>VNM</td>\n",
       "      <td>330364.87</td>\n",
       "      <td>Vietnam</td>\n",
       "      <td>Vietnam</td>\n",
       "    </tr>\n",
       "    <tr>\n",
       "      <th>202</th>\n",
       "      <td>Western Sahara</td>\n",
       "      <td>MULTIPOLYGON (((-16.83569 22.15403, -16.83597 ...</td>\n",
       "      <td>ESH</td>\n",
       "      <td>267892.77</td>\n",
       "      <td>Sahara Occidental</td>\n",
       "      <td>Sahara occidental</td>\n",
       "    </tr>\n",
       "    <tr>\n",
       "      <th>203</th>\n",
       "      <td>Yemen</td>\n",
       "      <td>MULTIPOLYGON (((42.1618 15.03042, 42.16236 15....</td>\n",
       "      <td>YEM</td>\n",
       "      <td>453741.18</td>\n",
       "      <td>Yemen</td>\n",
       "      <td>Yémen</td>\n",
       "    </tr>\n",
       "    <tr>\n",
       "      <th>204</th>\n",
       "      <td>Zambia</td>\n",
       "      <td>POLYGON ((25.87834 -17.97218, 25.87034 -17.970...</td>\n",
       "      <td>ZMB</td>\n",
       "      <td>753990.33</td>\n",
       "      <td>Zambia</td>\n",
       "      <td>Zambie</td>\n",
       "    </tr>\n",
       "    <tr>\n",
       "      <th>205</th>\n",
       "      <td>Zimbabwe</td>\n",
       "      <td>POLYGON ((32.70425 -18.96022, 32.70537 -18.965...</td>\n",
       "      <td>ZWE</td>\n",
       "      <td>391234.88</td>\n",
       "      <td>Zimbabue</td>\n",
       "      <td>Zimbabwe</td>\n",
       "    </tr>\n",
       "  </tbody>\n",
       "</table>\n",
       "<p>206 rows × 6 columns</p>\n",
       "</div>"
      ],
      "text/plain": [
       "                   COUNTRY                                           geometry  \\\n",
       "0              Afghanistan  MULTIPOLYGON (((63.61425 29.46993, 63.60868 29...   \n",
       "1    Akrotiri and Dhekelia  MULTIPOLYGON (((33.00764 34.62583, 33.00708 34...   \n",
       "2                  Albania  MULTIPOLYGON (((19.27804 40.50524, 19.28189 40...   \n",
       "3                  Algeria  MULTIPOLYGON (((2.84535 36.74691, 2.84597 36.7...   \n",
       "4                  Andorra  POLYGON ((1.61725 42.62406, 1.63334 42.62553, ...   \n",
       "..                     ...                                                ...   \n",
       "201                Vietnam  MULTIPOLYGON (((103.46895 9.25602, 103.46736 9...   \n",
       "202         Western Sahara  MULTIPOLYGON (((-16.83569 22.15403, -16.83597 ...   \n",
       "203                  Yemen  MULTIPOLYGON (((42.1618 15.03042, 42.16236 15....   \n",
       "204                 Zambia  POLYGON ((25.87834 -17.97218, 25.87034 -17.970...   \n",
       "205               Zimbabwe  POLYGON ((32.70425 -18.96022, 32.70537 -18.965...   \n",
       "\n",
       "    GID_0    area_km2           COUNTRY_ES            COUNTRY_FR  \n",
       "0     AFG   644050.28           Afganistán           Afghanistan  \n",
       "1     XAD      233.64  Akrotiri y Dhekelia  Akrotiri et Dhekelia  \n",
       "2     ALB    28689.62              Albania               Albanie  \n",
       "3     DZA  2311455.23              Argelia               Algérie  \n",
       "4     AND      450.35              Andorra               Andorre  \n",
       "..    ...         ...                  ...                   ...  \n",
       "201   VNM   330364.87              Vietnam               Vietnam  \n",
       "202   ESH   267892.77    Sahara Occidental     Sahara occidental  \n",
       "203   YEM   453741.18                Yemen                 Yémen  \n",
       "204   ZMB   753990.33               Zambia                Zambie  \n",
       "205   ZWE   391234.88             Zimbabue              Zimbabwe  \n",
       "\n",
       "[206 rows x 6 columns]"
      ]
     },
     "execution_count": 309,
     "metadata": {},
     "output_type": "execute_result"
    }
   ],
   "source": [
    "# Add translations\n",
    "gdf_updated = gdf_updated.merge(df, on='GID_0')\n",
    "gdf_updated"
   ]
  },
  {
   "cell_type": "code",
   "execution_count": null,
   "metadata": {},
   "outputs": [],
   "source": [
    "final_gadm = await simplify_async(gdf_updated)"
   ]
  },
  {
   "cell_type": "code",
   "execution_count": 312,
   "metadata": {},
   "outputs": [],
   "source": [
    "# Save the file\n",
    "final_gadm.to_file(output_file.as_posix(), driver=\"ESRI Shapefile\")"
   ]
  },
  {
   "cell_type": "code",
   "execution_count": 313,
   "metadata": {},
   "outputs": [],
   "source": [
    "# zip data\n",
    "make_archive(output_path, zipped_output_file)"
   ]
  },
  {
   "cell_type": "code",
   "execution_count": 314,
   "metadata": {},
   "outputs": [],
   "source": [
    "# load zipped file to GCS\n",
    "writeReadGCP(\n",
    "    credentials=mysettings.GCS_KEYFILE_JSON,\n",
    "    bucket_name=mysettings.GCS_BUCKET,\n",
    "    blob_name=remote_path,\n",
    "    file=zipped_output_file,\n",
    "    operation=\"w\",\n",
    ")"
   ]
  },
  {
   "cell_type": "markdown",
   "metadata": {},
   "source": [
    "### Mpa Atlas intermediate"
   ]
  },
  {
   "cell_type": "code",
   "execution_count": 4,
   "metadata": {},
   "outputs": [],
   "source": [
    "force_clean = True\n",
    "step = \"preprocess\"\n",
    "pipe = \"mpaatlas\""
   ]
  },
  {
   "cell_type": "code",
   "execution_count": 5,
   "metadata": {},
   "outputs": [],
   "source": [
    "# Data source\n",
    "mpaatlas_url = \"https://guide.mpatlas.org/api/v1/zone/geojson\"\n",
    "mpaatlas_file_name = \"mpatlas_assess_zone.geojson\""
   ]
  },
  {
   "cell_type": "code",
   "execution_count": 6,
   "metadata": {},
   "outputs": [],
   "source": [
    "working_folder = FileConventionHandler(pipe)\n",
    "input_path = working_folder.pipe_raw_path\n",
    "temp_working_path = working_folder.get_temp_file_path(step)\n",
    "\n",
    "output_path = working_folder.get_processed_step_path(step)\n",
    "output_file = working_folder.get_step_fmt_file_path(step, \"shp\")\n",
    "zipped_output_file = working_folder.get_step_fmt_file_path(step, \"zip\", True)\n",
    "remote_path = working_folder.get_remote_path(step)"
   ]
  },
  {
   "cell_type": "code",
   "execution_count": 7,
   "metadata": {},
   "outputs": [],
   "source": [
    "# Download data\n",
    "input_file = downloadFile(\n",
    "    mpaatlas_url,\n",
    "    input_path,\n",
    "    overwrite=force_clean,\n",
    "    file=mpaatlas_file_name,\n",
    ")"
   ]
  },
  {
   "cell_type": "code",
   "execution_count": 8,
   "metadata": {},
   "outputs": [],
   "source": [
    "if not force_clean and zipped_output_file.exists():\n",
    "    print(f\"File {zipped_output_file} already exists\")\n",
    "\n",
    "# Transform data\n",
    "gdf = gpd.read_file(input_file)\n",
    "\n",
    "df = (gdf\n",
    "      .pipe(set_wdpa_id)\n",
    "      .pipe(protection_level)\n",
    "      .pipe(status)\n",
    "      .pipe(create_year))\n",
    "\n",
    "df.drop(\n",
    "    columns=list(\n",
    "        set(df.columns)\n",
    "        - set(\n",
    "            [\n",
    "                \"wdpa_id\",\n",
    "                \"mpa_zone_id\", \n",
    "                \"name\",\n",
    "                \"designation\",\n",
    "                \"sovereign\",\n",
    "                \"establishment_stage\",\n",
    "                \"protection_mpaguide_level\",\n",
    "                \"protection_level\",\n",
    "                \"year\",\n",
    "                \"geometry\",\n",
    "            ]\n",
    "        )\n",
    "    ),\n",
    "    inplace=True,\n",
    ")\n",
    "df.rename(columns={\"sovereign\": \"location_id\", \"wdpa_pid\": \"wdpa_id\"}, inplace=True)"
   ]
  },
  {
   "cell_type": "code",
   "execution_count": 9,
   "metadata": {},
   "outputs": [
    {
     "name": "stderr",
     "output_type": "stream",
     "text": [
      "/tmp/ipykernel_160/3601108936.py:5: UserWarning: Column names longer than 10 characters will be truncated when saved to ESRI Shapefile.\n",
      "  ).to_file(filename=output_file.as_posix(), driver=\"ESRI Shapefile\", encoding=\"utf-8\")\n",
      "/opt/conda/lib/python3.12/site-packages/pyogrio/raw.py:709: RuntimeWarning: Normalized/laundered field name: 'mpa_zone_id' to 'mpa_zone_i'\n",
      "  ogr_write(\n",
      "/opt/conda/lib/python3.12/site-packages/pyogrio/raw.py:709: RuntimeWarning: Normalized/laundered field name: 'designation' to 'designatio'\n",
      "  ogr_write(\n",
      "/opt/conda/lib/python3.12/site-packages/pyogrio/raw.py:709: RuntimeWarning: Normalized/laundered field name: 'location_id' to 'location_i'\n",
      "  ogr_write(\n",
      "/opt/conda/lib/python3.12/site-packages/pyogrio/raw.py:709: RuntimeWarning: Normalized/laundered field name: 'establishment_stage' to 'establishm'\n",
      "  ogr_write(\n",
      "/opt/conda/lib/python3.12/site-packages/pyogrio/raw.py:709: RuntimeWarning: Normalized/laundered field name: 'protection_mpaguide_level' to 'protection'\n",
      "  ogr_write(\n",
      "/opt/conda/lib/python3.12/site-packages/pyogrio/raw.py:709: RuntimeWarning: Normalized/laundered field name: 'protection_level' to 'protecti_1'\n",
      "  ogr_write(\n"
     ]
    }
   ],
   "source": [
    "#save data\n",
    "gpd.GeoDataFrame(\n",
    "    df,\n",
    "    crs=gdf.crs,\n",
    ").to_file(filename=output_file.as_posix(), driver=\"ESRI Shapefile\", encoding=\"utf-8\")\n",
    "\n",
    "make_archive(output_path, zipped_output_file)"
   ]
  },
  {
   "cell_type": "code",
   "execution_count": 10,
   "metadata": {},
   "outputs": [],
   "source": [
    "# LOAD\n",
    "## load zipped file to GCS\n",
    "writeReadGCP(\n",
    "    credentials=mysettings.GCS_KEYFILE_JSON,\n",
    "    bucket_name=mysettings.GCS_BUCKET,\n",
    "    blob_name=remote_path,\n",
    "    file=zipped_output_file,\n",
    "    operation=\"w\",\n",
    ")"
   ]
  },
  {
   "cell_type": "code",
   "execution_count": 13,
   "metadata": {},
   "outputs": [],
   "source": [
    "# clean unzipped files\n",
    "rm_tree(temp_working_path) if temp_working_path.exists() else None\n",
    "rm_tree(output_path) if output_path.exists() else None"
   ]
  },
  {
   "cell_type": "markdown",
   "metadata": {},
   "source": [
    "### Protected seas intermediate"
   ]
  },
  {
   "cell_type": "code",
   "execution_count": 22,
   "metadata": {},
   "outputs": [],
   "source": [
    "# DEPRECATED\n",
    "force_clean = True\n",
    "step = \"preprocess\"\n",
    "pipe = \"protectedseas\""
   ]
  },
  {
   "cell_type": "code",
   "execution_count": 23,
   "metadata": {},
   "outputs": [],
   "source": [
    "ps_csv_url = \"ProtectedSeas/ProtectedSeas_06142023.csv\"\n",
    "ps_csv_output = input_path.joinpath(ps_csv_url.split(\"/\")[-1])\n",
    "\n",
    "ps_geometries_url = (\n",
    "    \"ProtectedSeas/ProtectedSeas_ProtectedSeas_06142023_shp_ProtectedSeas_06142023_shp.zip\"\n",
    ")\n",
    "ps_geometries_output = input_path.joinpath(ps_geometries_url.split(\"/\")[-1])"
   ]
  },
  {
   "cell_type": "code",
   "execution_count": 24,
   "metadata": {},
   "outputs": [],
   "source": [
    "working_folder = FileConventionHandler(pipe)\n",
    "input_path = working_folder.pipe_raw_path\n",
    "temp_working_path = working_folder.get_temp_file_path(step)\n",
    "\n",
    "output_path = working_folder.get_processed_step_path(step)\n",
    "output_file = working_folder.get_step_fmt_file_path(step, \"shp\")\n",
    "zipped_output_file = working_folder.get_step_fmt_file_path(step, \"zip\", True)\n",
    "remote_path = working_folder.get_remote_path(step)"
   ]
  },
  {
   "cell_type": "code",
   "execution_count": 25,
   "metadata": {},
   "outputs": [],
   "source": [
    "if not force_clean and zipped_output_file.exists():\n",
    "    print(f\"File {zipped_output_file} already exists\")"
   ]
  },
  {
   "cell_type": "code",
   "execution_count": 26,
   "metadata": {},
   "outputs": [],
   "source": [
    "## get the data\n",
    "\n",
    "writeReadGCP(\n",
    "    credentials=mysettings.GCS_KEYFILE_JSON,\n",
    "    bucket_name=mysettings.GCS_BUCKET,\n",
    "    blob_name=ps_csv_url,\n",
    "    file=ps_csv_output,\n",
    "    operation=\"r\",\n",
    ")\n",
    "\n",
    "writeReadGCP(\n",
    "    credentials=mysettings.GCS_KEYFILE_JSON,\n",
    "    bucket_name=mysettings.GCS_BUCKET,\n",
    "    blob_name=ps_geometries_url,\n",
    "    file=ps_geometries_output,\n",
    "    operation=\"r\",\n",
    ")"
   ]
  },
  {
   "cell_type": "code",
   "execution_count": 27,
   "metadata": {},
   "outputs": [],
   "source": [
    "# unzip shapefile\n",
    "shutil.unpack_archive(ps_geometries_output, temp_working_path)"
   ]
  },
  {
   "cell_type": "code",
   "execution_count": 28,
   "metadata": {},
   "outputs": [
    {
     "name": "stderr",
     "output_type": "stream",
     "text": [
      "/home/mambauser/src/pipelines/processors.py:77: UserWarning: Boolean Series key will be reindexed to match DataFrame index.\n",
      "  return df[mask1][mask2].reset_index()\n"
     ]
    }
   ],
   "source": [
    "# transform data\n",
    "# TODO: Modify the preprocessing steps so we do not eliminate the geometries that does not intersect with MPAs - do to a change in the processing methodology\n",
    "data_table = pd.read_csv(ps_csv_output).pipe(get_mpas).pipe(set_location_iso).pipe(set_fps_classes)\n",
    "\n",
    "data_table.drop(\n",
    "    columns=data_table.columns.difference(\n",
    "        [\n",
    "            \"site_id\",\n",
    "            \"iso\",\n",
    "            \"FPS_cat\",\n",
    "            \"site_name\",\n",
    "            \"country\",\n",
    "            \"wdpa_id\",\n",
    "            \"removal_of_marine_life_is_prohibited\",\n",
    "            \"total_area\",\n",
    "        ]\n",
    "    ),\n",
    "    inplace=True,\n",
    ")\n",
    "\n",
    "data_table.rename(columns={\"removal_of_marine_life_is_prohibited\": \"FPS\"}, inplace=True)\n",
    "\n",
    "# load geoemtries & merge\n",
    "\n",
    "gdf = gpd.read_file(ps_geometries_output)"
   ]
  },
  {
   "cell_type": "code",
   "execution_count": 29,
   "metadata": {},
   "outputs": [],
   "source": [
    "# save data\n",
    "gdf.merge(data_table, how=\"inner\", left_on=\"SITE_ID\", right_on=\"site_id\").drop(\n",
    "    columns=[\"SITE_ID\", \"SITE_NAME\"]\n",
    ").to_file(filename=output_file.as_posix(), driver=\"ESRI Shapefile\", encoding=\"utf-8\")\n",
    "\n",
    "# zip data\n",
    "make_archive(output_path, zipped_output_file)"
   ]
  },
  {
   "cell_type": "code",
   "execution_count": 30,
   "metadata": {},
   "outputs": [],
   "source": [
    "# clean unzipped files\n",
    "rm_tree(temp_working_path) if temp_working_path.exists() else None\n",
    "rm_tree(output_path) if output_path.exists() else None"
   ]
  },
  {
   "cell_type": "code",
   "execution_count": 31,
   "metadata": {},
   "outputs": [],
   "source": [
    "# LOAD\n",
    "## load zipped file to GCS\n",
    "writeReadGCP(\n",
    "    credentials=mysettings.GCS_KEYFILE_JSON,\n",
    "    bucket_name=mysettings.GCS_BUCKET,\n",
    "    blob_name=remote_path,\n",
    "    file=zipped_output_file,\n",
    "    operation=\"w\",\n",
    ")"
   ]
  },
  {
   "cell_type": "markdown",
   "metadata": {},
   "source": [
    "### Mpas protected planet intermediate"
   ]
  },
  {
   "cell_type": "code",
   "execution_count": 11,
   "metadata": {},
   "outputs": [],
   "source": [
    "force_clean = True\n",
    "step = \"preprocess\"\n",
    "pipe = \"mpa\""
   ]
  },
  {
   "cell_type": "code",
   "execution_count": 12,
   "metadata": {},
   "outputs": [],
   "source": [
    "mpa_url = \"https://www.protectedplanet.net/downloads\"\n",
    "mpa_body = {\n",
    "    \"domain\": \"general\",\n",
    "    \"format\": \"shp\",\n",
    "    \"token\": \"marine\",\n",
    "    \"id\": 21961,\n",
    "}"
   ]
  },
  {
   "cell_type": "code",
   "execution_count": 13,
   "metadata": {},
   "outputs": [],
   "source": [
    "working_folder = FileConventionHandler(pipe)\n",
    "input_path = working_folder.pipe_raw_path\n",
    "temp_working_path = working_folder.get_temp_file_path(step)\n",
    "\n",
    "output_path = working_folder.get_processed_step_path(step)\n",
    "output_file = working_folder.get_step_fmt_file_path(step, \"shp\")\n",
    "zipped_output_file = working_folder.get_step_fmt_file_path(step, \"zip\", True)\n",
    "remote_path = working_folder.get_remote_path(step)"
   ]
  },
  {
   "cell_type": "code",
   "execution_count": 14,
   "metadata": {},
   "outputs": [
    {
     "name": "stdout",
     "output_type": "stream",
     "text": [
      "{'id': 'marine-shp', 'title': 'WDPA_WDOECM_Aug2024_Public_marine_shp', 'url': 'https://d1gam3xoknrgr2.cloudfront.net/current/WDPA_WDOECM_Aug2024_Public_marine_shp.zip', 'hasFailed': False, 'token': 'marine'}\n"
     ]
    }
   ],
   "source": [
    "# download data\n",
    "r = requests.post(url=mpa_url, data=mpa_body)\n",
    "r.raise_for_status()\n",
    "\n",
    "download_url = r.json().get(\"url\")\n",
    "input_file_name = f'{r.json().get(\"title\")}.zip'\n",
    "print(r.json())\n",
    "\n",
    "input_file =  downloadFile(\n",
    "    url=download_url,\n",
    "    output_path=input_path,\n",
    "    overwrite=force_clean,\n",
    "    file=input_file_name,\n",
    ")"
   ]
  },
  {
   "cell_type": "code",
   "execution_count": 15,
   "metadata": {},
   "outputs": [],
   "source": [
    "# unzip file twice due how data is provisioned by protected planet\n",
    "shutil.unpack_archive(\n",
    "    input_file,\n",
    "    temp_working_path,\n",
    "    \"zip\",\n",
    ")\n",
    "\n",
    "for file in temp_working_path.glob(\"*.zip\"):\n",
    "    shutil.unpack_archive(file, temp_working_path.joinpath(file.stem), \"zip\")"
   ]
  },
  {
   "cell_type": "code",
   "execution_count": 16,
   "metadata": {},
   "outputs": [],
   "source": [
    "# load data & Transform it\n",
    "unziped_folders = []\n",
    "for file in temp_working_path.glob(\"*/*.shp\"):\n",
    "    df = (\n",
    "        gpd.read_file(file)\n",
    "        .pipe(filter_by_methodology)\n",
    "        .pipe(transform_points)\n",
    "        .pipe(clean_geometries)\n",
    "    )\n",
    "    unziped_folders.append(df)\n",
    "\n",
    "# merge datasets\n",
    "gdf = gpd.GeoDataFrame(\n",
    "    pd.concat(unziped_folders, ignore_index=True),\n",
    "    crs=unziped_folders[0].crs,\n",
    ")\n",
    "\n",
    "gdf.drop(\n",
    "    columns=list(\n",
    "        set(gdf.columns)\n",
    "        - set(\n",
    "            [\n",
    "                \"geometry\",\n",
    "                \"WDPAID\",\n",
    "                \"WDPA_PID\",\n",
    "                \"PA_DEF\",\n",
    "                \"NAME\",\n",
    "                \"PARENT_ISO\",\n",
    "                \"DESIG_ENG\",\n",
    "                \"IUCN_CAT\",\n",
    "                \"STATUS\",\n",
    "                \"STATUS_YR\",\n",
    "                \"GIS_M_AREA\",\n",
    "                \"AREA_KM2\",\n",
    "            ]\n",
    "        )\n",
    "    ),\n",
    "    inplace=True,\n",
    ")\n",
    "gdf[\"WDPAID\"] = pd.to_numeric(gdf[\"WDPAID\"], downcast=\"integer\")"
   ]
  },
  {
   "cell_type": "code",
   "execution_count": 17,
   "metadata": {},
   "outputs": [],
   "source": [
    "# save data & zip it\n",
    "gdf.to_file(filename=output_file, driver=\"ESRI Shapefile\", encoding=\"utf-8\")\n",
    "\n",
    "make_archive(output_path, zipped_output_file)"
   ]
  },
  {
   "cell_type": "code",
   "execution_count": 18,
   "metadata": {},
   "outputs": [],
   "source": [
    "# LOAD\n",
    "## load zipped file to GCS\n",
    "writeReadGCP(\n",
    "    credentials=mysettings.GCS_KEYFILE_JSON,\n",
    "    bucket_name=mysettings.GCS_BUCKET,\n",
    "    blob_name=remote_path,\n",
    "    file=zipped_output_file,\n",
    "    operation=\"w\",\n",
    ")"
   ]
  },
  {
   "cell_type": "code",
   "execution_count": 19,
   "metadata": {},
   "outputs": [],
   "source": [
    "# clean unzipped files\n",
    "rm_tree(temp_working_path) if temp_working_path.exists() else None\n",
    "rm_tree(output_path) if output_path.exists() else None"
   ]
  },
  {
   "cell_type": "markdown",
   "metadata": {},
   "source": [
    "### Mpas protected planet intermediate terrestrial"
   ]
  },
  {
   "cell_type": "code",
   "execution_count": 4,
   "metadata": {},
   "outputs": [],
   "source": [
    "force_clean = True\n",
    "step = \"preprocess\"\n",
    "pipe = \"mpa-terrestrial\""
   ]
  },
  {
   "cell_type": "code",
   "execution_count": 5,
   "metadata": {},
   "outputs": [],
   "source": [
    "mpa_url = \"https://www.protectedplanet.net/downloads\"\n",
    "mpa_body = {\n",
    "    \"domain\": \"general\",\n",
    "    \"format\": \"shp\",\n",
    "    \"token\": \"wdpa\",\n",
    "    \"id\": 76011,\n",
    "}"
   ]
  },
  {
   "cell_type": "code",
   "execution_count": 6,
   "metadata": {},
   "outputs": [],
   "source": [
    "working_folder = FileConventionHandler(pipe)\n",
    "input_path = working_folder.pipe_raw_path\n",
    "temp_working_path = working_folder.get_temp_file_path(step)\n",
    "\n",
    "output_path = working_folder.get_processed_step_path(step)\n",
    "output_file = working_folder.get_step_fmt_file_path(step, \"gpkg\")\n",
    "zipped_output_file = working_folder.get_step_fmt_file_path(step, \"zip\", True)\n",
    "remote_path = working_folder.get_remote_path(step)"
   ]
  },
  {
   "cell_type": "code",
   "execution_count": 7,
   "metadata": {},
   "outputs": [
    {
     "name": "stdout",
     "output_type": "stream",
     "text": [
      "{'id': 'wdpa-shp', 'title': 'WDPA_Sep2024_Public_shp', 'url': 'https://d1gam3xoknrgr2.cloudfront.net/current/WDPA_Sep2024_Public_shp.zip', 'hasFailed': False, 'token': 'wdpa'}\n"
     ]
    }
   ],
   "source": [
    "# download data\n",
    "r = requests.post(url=mpa_url, data=mpa_body)\n",
    "r.raise_for_status()\n",
    "\n",
    "download_url = r.json().get(\"url\")\n",
    "input_file_name = f'{r.json().get(\"title\")}.zip'\n",
    "print(r.json())\n",
    "\n",
    "input_file = downloadFile(\n",
    "    url=download_url,\n",
    "    output_path=input_path,\n",
    "    overwrite=force_clean,\n",
    "    file=input_file_name,\n",
    ")"
   ]
  },
  {
   "cell_type": "code",
   "execution_count": 9,
   "metadata": {},
   "outputs": [],
   "source": [
    "# unzip file twice due how data is provisioned by protected planet\n",
    "shutil.unpack_archive(\n",
    "    input_file,\n",
    "    temp_working_path,\n",
    "    \"zip\",\n",
    ")\n",
    "\n",
    "for file in temp_working_path.glob(\"*.zip\"):\n",
    "    shutil.unpack_archive(file, temp_working_path.joinpath(file.stem), \"zip\")"
   ]
  },
  {
   "cell_type": "code",
   "execution_count": 10,
   "metadata": {},
   "outputs": [],
   "source": [
    "# load data & Transform it\n",
    "unziped_folders = []\n",
    "for file in temp_working_path.glob(\"*/*.shp\"):\n",
    "    df = (\n",
    "        gpd.read_file(file)\n",
    "        .pipe(filter_by_methodology)\n",
    "        .pipe(filter_by_terrestrial)\n",
    "        .pipe(transform_points)\n",
    "        .pipe(clean_geometries)\n",
    "    )\n",
    "    unziped_folders.append(df)\n",
    "\n",
    "# merge datasets\n",
    "gdf = gpd.GeoDataFrame(\n",
    "    pd.concat(unziped_folders, ignore_index=True),\n",
    "    crs=unziped_folders[0].crs,\n",
    ")\n",
    "\n",
    "gdf.drop(\n",
    "    columns=list(\n",
    "        set(gdf.columns)\n",
    "        - set(\n",
    "            [\n",
    "                \"geometry\",\n",
    "                \"WDPAID\",\n",
    "                \"WDPA_PID\",\n",
    "                \"PA_DEF\",\n",
    "                \"NAME\",\n",
    "                \"PARENT_ISO\",\n",
    "                \"DESIG_ENG\",\n",
    "                \"IUCN_CAT\",\n",
    "                \"STATUS\",\n",
    "                \"STATUS_YR\",\n",
    "                \"GIS_AREA\",\n",
    "                \"MARINE\",\n",
    "            ]\n",
    "        )\n",
    "    ),\n",
    "    inplace=True,\n",
    ")\n",
    "gdf[\"WDPAID\"] = pd.to_numeric(gdf[\"WDPAID\"], downcast=\"integer\")"
   ]
  },
  {
   "cell_type": "code",
   "execution_count": null,
   "metadata": {},
   "outputs": [],
   "source": [
    "final_wdpa_terrestrial = await simplify_async(gdf)"
   ]
  },
  {
   "cell_type": "code",
   "execution_count": 11,
   "metadata": {},
   "outputs": [],
   "source": [
    "# save data & zip it\n",
    "final_wdpa_terrestrial.to_file(\n",
    "    filename=output_file,\n",
    "    driver=\"GPKG\",\n",
    "    layer=\"name\",\n",
    "    encoding=\"utf-8\",\n",
    ")"
   ]
  },
  {
   "cell_type": "code",
   "execution_count": 12,
   "metadata": {},
   "outputs": [
    {
     "data": {
      "text/plain": [
       "PosixPath('/home/mambauser/data/mpa-terrestrial/processed/preprocess/mpa-terrestrial_preprocess.gpkg')"
      ]
     },
     "execution_count": 12,
     "metadata": {},
     "output_type": "execute_result"
    }
   ],
   "source": [
    "output_file"
   ]
  },
  {
   "cell_type": "code",
   "execution_count": 12,
   "metadata": {},
   "outputs": [
    {
     "ename": "",
     "evalue": "",
     "output_type": "error",
     "traceback": [
      "\u001b[1;31mThe Kernel crashed while executing code in the current cell or a previous cell. \n",
      "\u001b[1;31mPlease review the code in the cell(s) to identify a possible cause of the failure. \n",
      "\u001b[1;31mClick <a href='https://aka.ms/vscodeJupyterKernelCrash'>here</a> for more info. \n",
      "\u001b[1;31mView Jupyter <a href='command:jupyter.viewOutput'>log</a> for further details."
     ]
    }
   ],
   "source": [
    "# LOAD\n",
    "## load zipped file to GCS\n",
    "writeReadGCP(\n",
    "    credentials=mysettings.GCS_KEYFILE_JSON,\n",
    "    bucket_name=mysettings.GCS_BUCKET,\n",
    "    blob_name=remote_path,\n",
    "    file=output_file,\n",
    "    operation=\"w\",\n",
    ")"
   ]
  },
  {
   "cell_type": "code",
   "execution_count": null,
   "metadata": {},
   "outputs": [],
   "source": [
    "# clean unzipped files\n",
    "rm_tree(temp_working_path) if temp_working_path.exists() else None\n",
    "rm_tree(output_path) if output_path.exists() else None"
   ]
  },
  {
   "cell_type": "markdown",
   "metadata": {},
   "source": [
    "### Habitats"
   ]
  },
  {
   "cell_type": "code",
   "execution_count": 4,
   "metadata": {},
   "outputs": [],
   "source": [
    "force_clean = True\n",
    "step = \"preprocess\"\n",
    "pipe = \"habitats\""
   ]
  },
  {
   "cell_type": "code",
   "execution_count": 5,
   "metadata": {},
   "outputs": [],
   "source": [
    "habitats_download_url = \"https://habitats.oceanplus.org/downloads/global_statistics.zip\"\n",
    "Mangroves_download_url = \"https://mangrove-atlas-api.herokuapp.com/admin/widget_protected_areas.csv\"\n",
    "mangroves_request_headers = {\n",
    "    \"Cookie\": \"_mangrove_atlas_api_session=fJuobvI2fH42WfGfMtRTp%2BksIDdPEpY6DG8uCuITsENtrRGG4AA3nYEeAI7dytzpK%2F0dGIHq84O54MRr6eiPgiwCYXp2XP4IzXM40dFt%2FI6hoB0WXC%2Fwrd81XreNnMZiSEE6IVT5R0fqMcmsZdPn53u0A1d4CGU3FfliOZuWkckBuA%2F7C4upBGuSS8817LqOh1slG%2BsEOGp3nk7WX4fMoPbsHWtARfFwdfoAHz448LO7uWuZdyiu7YOrS0ZxOZEb9JZ8hcUJph4pBFofZLpOvtQQutgZY21T5bhQ7Kwfl56e6Qr0SZ%2B8sIzMfky3h%2FjOA6DNTLoy%2BZLiZBAgFHlTYm2JwlwqWgAZU8D7cE7Zn%2Fxgf3LFF9pZ9Fe3QG4c8LIwH%2FxqjEd8GsZAhBMgBWbxubigQ9gZssZt6CIO--7qiVsTAT8JAKj1jU--U7TI%2Fz9c151bfD8iZdkBDw%3D%3D\"\n",
    "}\n",
    "seamounts_download_url = \"https://datadownload-production.s3.amazonaws.com/ZSL002_ModelledSeamounts2011_v1.zip\""
   ]
  },
  {
   "cell_type": "code",
   "execution_count": 6,
   "metadata": {},
   "outputs": [],
   "source": [
    "working_folder = FileConventionHandler(pipe)\n",
    "input_path = working_folder.pipe_raw_path\n",
    "temp_working_path = working_folder.get_temp_file_path(step)\n",
    "\n",
    "output_path = working_folder.get_processed_step_path(step)\n",
    "output_file = working_folder.get_step_fmt_file_path(step, \"shp\")\n",
    "zipped_output_file = working_folder.get_step_fmt_file_path(step, \"zip\", True)\n",
    "remote_path = working_folder.get_remote_path(step)"
   ]
  },
  {
   "cell_type": "markdown",
   "metadata": {},
   "source": [
    "#### Seamounts"
   ]
  },
  {
   "cell_type": "code",
   "execution_count": 8,
   "metadata": {},
   "outputs": [],
   "source": [
    "input_seamounts_path = input_path.joinpath(\"seamounts\")\n",
    "input_seamounts_path.mkdir(parents=True, exist_ok=True)\n",
    "# download data\n",
    "input_file_name = \"seamounts.zip\"\n",
    "input_file = downloadFile(\n",
    "    url=seamounts_download_url,\n",
    "    output_path=input_seamounts_path,\n",
    "    overwrite=force_clean,\n",
    "    file=input_file_name,\n",
    ")"
   ]
  },
  {
   "cell_type": "code",
   "execution_count": 9,
   "metadata": {},
   "outputs": [],
   "source": [
    "# unzip data\n",
    "shutil.unpack_archive(\n",
    "    input_file,\n",
    "    temp_working_path,\n",
    "    \"zip\",\n",
    ")"
   ]
  },
  {
   "cell_type": "code",
   "execution_count": 13,
   "metadata": {},
   "outputs": [
    {
     "data": {
      "text/plain": [
       "PosixPath('/home/mambauser/data/habitats/raw/temp_preprocess')"
      ]
     },
     "execution_count": 13,
     "metadata": {},
     "output_type": "execute_result"
    }
   ],
   "source": [
    "temp_working_path"
   ]
  },
  {
   "cell_type": "code",
   "execution_count": 24,
   "metadata": {},
   "outputs": [],
   "source": [
    "first =gpd.read_file(next(temp_working_path.rglob(\"*SeamountsBaseArea.shp\")))"
   ]
  },
  {
   "cell_type": "code",
   "execution_count": 25,
   "metadata": {},
   "outputs": [
    {
     "data": {
      "text/html": [
       "<div>\n",
       "<style scoped>\n",
       "    .dataframe tbody tr th:only-of-type {\n",
       "        vertical-align: middle;\n",
       "    }\n",
       "\n",
       "    .dataframe tbody tr th {\n",
       "        vertical-align: top;\n",
       "    }\n",
       "\n",
       "    .dataframe thead th {\n",
       "        text-align: right;\n",
       "    }\n",
       "</style>\n",
       "<table border=\"1\" class=\"dataframe\">\n",
       "  <thead>\n",
       "    <tr style=\"text-align: right;\">\n",
       "      <th></th>\n",
       "      <th>PEAKID</th>\n",
       "      <th>DEPTH</th>\n",
       "      <th>HEIGHT</th>\n",
       "      <th>LONG</th>\n",
       "      <th>LAT</th>\n",
       "      <th>AREA2D</th>\n",
       "      <th>FILTER</th>\n",
       "      <th>geometry</th>\n",
       "    </tr>\n",
       "  </thead>\n",
       "  <tbody>\n",
       "    <tr>\n",
       "      <th>0</th>\n",
       "      <td>26000</td>\n",
       "      <td>-2547</td>\n",
       "      <td>1148</td>\n",
       "      <td>2.762500</td>\n",
       "      <td>84.979736</td>\n",
       "      <td>982.028337</td>\n",
       "      <td>0</td>\n",
       "      <td>POLYGON ((2.91249 84.82976, 2.76249 84.79636, ...</td>\n",
       "    </tr>\n",
       "    <tr>\n",
       "      <th>1</th>\n",
       "      <td>26157</td>\n",
       "      <td>-3084</td>\n",
       "      <td>1296</td>\n",
       "      <td>9.143056</td>\n",
       "      <td>84.935292</td>\n",
       "      <td>348.473055</td>\n",
       "      <td>0</td>\n",
       "      <td>POLYGON ((9.99309 84.93526, 9.25139 84.82696, ...</td>\n",
       "    </tr>\n",
       "    <tr>\n",
       "      <th>2</th>\n",
       "      <td>26158</td>\n",
       "      <td>-3043</td>\n",
       "      <td>1342</td>\n",
       "      <td>9.183333</td>\n",
       "      <td>84.938070</td>\n",
       "      <td>367.540380</td>\n",
       "      <td>0</td>\n",
       "      <td>POLYGON ((9.07499 85.04636, 9.18329 85.03806, ...</td>\n",
       "    </tr>\n",
       "    <tr>\n",
       "      <th>3</th>\n",
       "      <td>26228</td>\n",
       "      <td>-3142</td>\n",
       "      <td>1379</td>\n",
       "      <td>8.748611</td>\n",
       "      <td>84.907514</td>\n",
       "      <td>299.443636</td>\n",
       "      <td>0</td>\n",
       "      <td>POLYGON ((9.79859 84.90756, 8.83199 84.82416, ...</td>\n",
       "    </tr>\n",
       "    <tr>\n",
       "      <th>4</th>\n",
       "      <td>26229</td>\n",
       "      <td>-3146</td>\n",
       "      <td>1383</td>\n",
       "      <td>8.887500</td>\n",
       "      <td>84.913070</td>\n",
       "      <td>309.588492</td>\n",
       "      <td>0</td>\n",
       "      <td>POLYGON ((8.88749 84.83806, 8.81249 84.83806, ...</td>\n",
       "    </tr>\n",
       "    <tr>\n",
       "      <th>...</th>\n",
       "      <td>...</td>\n",
       "      <td>...</td>\n",
       "      <td>...</td>\n",
       "      <td>...</td>\n",
       "      <td>...</td>\n",
       "      <td>...</td>\n",
       "      <td>...</td>\n",
       "      <td>...</td>\n",
       "    </tr>\n",
       "    <tr>\n",
       "      <th>33447</th>\n",
       "      <td>4999430</td>\n",
       "      <td>-298</td>\n",
       "      <td>1376</td>\n",
       "      <td>-142.295833</td>\n",
       "      <td>-74.566097</td>\n",
       "      <td>819.608801</td>\n",
       "      <td>0</td>\n",
       "      <td>POLYGON ((-142.29582 -74.72444, -142.46251 -74...</td>\n",
       "    </tr>\n",
       "    <tr>\n",
       "      <th>33448</th>\n",
       "      <td>4999462</td>\n",
       "      <td>-295</td>\n",
       "      <td>1274</td>\n",
       "      <td>-142.250000</td>\n",
       "      <td>-74.570264</td>\n",
       "      <td>777.598079</td>\n",
       "      <td>1</td>\n",
       "      <td>POLYGON ((-142.25001 -74.72864, -142.41671 -74...</td>\n",
       "    </tr>\n",
       "    <tr>\n",
       "      <th>33449</th>\n",
       "      <td>4999913</td>\n",
       "      <td>-348</td>\n",
       "      <td>3288</td>\n",
       "      <td>-164.179167</td>\n",
       "      <td>-74.766097</td>\n",
       "      <td>1000.023088</td>\n",
       "      <td>1</td>\n",
       "      <td>POLYGON ((-164.01251 -74.93274, -164.17921 -74...</td>\n",
       "    </tr>\n",
       "    <tr>\n",
       "      <th>33450</th>\n",
       "      <td>5000862</td>\n",
       "      <td>-2739</td>\n",
       "      <td>1060</td>\n",
       "      <td>-158.162500</td>\n",
       "      <td>-75.141097</td>\n",
       "      <td>814.426234</td>\n",
       "      <td>0</td>\n",
       "      <td>POLYGON ((-158.16251 -75.28274, -158.30421 -75...</td>\n",
       "    </tr>\n",
       "    <tr>\n",
       "      <th>33451</th>\n",
       "      <td>5000879</td>\n",
       "      <td>-2710</td>\n",
       "      <td>1104</td>\n",
       "      <td>-158.116667</td>\n",
       "      <td>-75.145264</td>\n",
       "      <td>762.518328</td>\n",
       "      <td>1</td>\n",
       "      <td>POLYGON ((-158.11671 -75.27864, -158.25001 -75...</td>\n",
       "    </tr>\n",
       "  </tbody>\n",
       "</table>\n",
       "<p>33452 rows × 8 columns</p>\n",
       "</div>"
      ],
      "text/plain": [
       "        PEAKID  DEPTH  HEIGHT        LONG        LAT       AREA2D  FILTER  \\\n",
       "0        26000  -2547    1148    2.762500  84.979736   982.028337       0   \n",
       "1        26157  -3084    1296    9.143056  84.935292   348.473055       0   \n",
       "2        26158  -3043    1342    9.183333  84.938070   367.540380       0   \n",
       "3        26228  -3142    1379    8.748611  84.907514   299.443636       0   \n",
       "4        26229  -3146    1383    8.887500  84.913070   309.588492       0   \n",
       "...        ...    ...     ...         ...        ...          ...     ...   \n",
       "33447  4999430   -298    1376 -142.295833 -74.566097   819.608801       0   \n",
       "33448  4999462   -295    1274 -142.250000 -74.570264   777.598079       1   \n",
       "33449  4999913   -348    3288 -164.179167 -74.766097  1000.023088       1   \n",
       "33450  5000862  -2739    1060 -158.162500 -75.141097   814.426234       0   \n",
       "33451  5000879  -2710    1104 -158.116667 -75.145264   762.518328       1   \n",
       "\n",
       "                                                geometry  \n",
       "0      POLYGON ((2.91249 84.82976, 2.76249 84.79636, ...  \n",
       "1      POLYGON ((9.99309 84.93526, 9.25139 84.82696, ...  \n",
       "2      POLYGON ((9.07499 85.04636, 9.18329 85.03806, ...  \n",
       "3      POLYGON ((9.79859 84.90756, 8.83199 84.82416, ...  \n",
       "4      POLYGON ((8.88749 84.83806, 8.81249 84.83806, ...  \n",
       "...                                                  ...  \n",
       "33447  POLYGON ((-142.29582 -74.72444, -142.46251 -74...  \n",
       "33448  POLYGON ((-142.25001 -74.72864, -142.41671 -74...  \n",
       "33449  POLYGON ((-164.01251 -74.93274, -164.17921 -74...  \n",
       "33450  POLYGON ((-158.16251 -75.28274, -158.30421 -75...  \n",
       "33451  POLYGON ((-158.11671 -75.27864, -158.25001 -75...  \n",
       "\n",
       "[33452 rows x 8 columns]"
      ]
     },
     "execution_count": 25,
     "metadata": {},
     "output_type": "execute_result"
    }
   ],
   "source": [
    "first"
   ]
  },
  {
   "cell_type": "code",
   "execution_count": null,
   "metadata": {},
   "outputs": [],
   "source": [
    "if not force_clean and zipped_output_file.exists():\n",
    "    print(f\"File {zipped_output_file} already exists\")"
   ]
  }
 ],
 "metadata": {
  "kernelspec": {
   "display_name": "Python 3 (ipykernel)",
   "language": "python",
   "name": "python3"
  },
  "language_info": {
   "codemirror_mode": {
    "name": "ipython",
    "version": 3
   },
   "file_extension": ".py",
   "mimetype": "text/x-python",
   "name": "python",
   "nbconvert_exporter": "python",
   "pygments_lexer": "ipython3",
   "version": "3.12.5"
  }
 },
 "nbformat": 4,
 "nbformat_minor": 2
}
