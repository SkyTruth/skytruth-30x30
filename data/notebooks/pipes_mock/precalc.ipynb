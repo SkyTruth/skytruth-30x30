{
 "cells": [
  {
   "cell_type": "code",
   "execution_count": 1,
   "metadata": {},
   "outputs": [],
   "source": [
    "%load_ext autoreload\n",
    "%autoreload 2"
   ]
  },
  {
   "cell_type": "code",
   "execution_count": 2,
   "metadata": {},
   "outputs": [],
   "source": [
    "import logging\n",
    "import sys\n",
    "from pathlib import Path\n",
    "from typing import Union\n",
    "import time\n",
    "import pandas as pd\n",
    "import geopandas as gpd\n",
    "import numpy as np\n",
    "import json\n",
    "\n",
    "scripts_dir = Path(\"../..\").joinpath(\"src\")\n",
    "if scripts_dir not in sys.path:\n",
    "    sys.path.insert(0, scripts_dir.resolve().as_posix())\n",
    "\n",
    "from helpers.strapi import Strapi\n",
    "from helpers.settings import get_settings\n",
    "from helpers.file_handler import FileConventionHandler\n",
    "from helpers.utils import download_and_unzip_if_needed\n",
    "\n",
    "from pipelines.output_schemas import (\n",
    "    FPLSchema,\n",
    "    ProtectionLevelSchema,\n",
    "    MPAsSchema,\n",
    "    MPAsTableStatsSchema,\n",
    "    HabitatsSchema,\n",
    "    LocationSchema,\n",
    "    ProtectedAreaExtentSchema,\n",
    ")\n",
    "from pipelines.processors import (\n",
    "    add_envelope,\n",
    "    add_location_iso,\n",
    "    expand_multiple_locations,\n",
    "    add_region_iso,\n",
    "    calculate_eez_area,\n",
    "    add_bbox,\n",
    "    add_groups_and_members,\n",
    "    add_location_name,\n",
    "    output,\n",
    "    clean_geometries,\n",
    "    filter_by_exluding_propossed_mpas,\n",
    "    spatial_join,\n",
    "    process_mpa_data,\n",
    "    assign_iso3,\n",
    "    calculate_global_area,\n",
    "    separate_parent_iso,\n",
    "    calculate_stats_cov,\n",
    "    coverage_stats,\n",
    "    mpaatlas_filter_stablishment,\n",
    "    process_mpaatlas_data,\n",
    "    calculate_stats,\n",
    "    fix_monaco,\n",
    "    batch_export,\n",
    "    calculate_area,\n",
    ")\n",
    "\n",
    "logging.basicConfig(level=logging.DEBUG)\n",
    "logging.getLogger(\"requests\").setLevel(logging.WARNING)\n",
    "logging.getLogger(\"urllib3\").setLevel(logging.WARNING)\n",
    "logging.getLogger(\"fiona\").setLevel(logging.WARNING)"
   ]
  },
  {
   "cell_type": "code",
   "execution_count": 3,
   "metadata": {},
   "outputs": [],
   "source": [
    "mysettings = get_settings()\n",
    "prev_step = \"preprocess\"\n",
    "current_step = \"stats\""
   ]
  },
  {
   "cell_type": "code",
   "execution_count": 6,
   "metadata": {},
   "outputs": [
    {
     "data": {
      "text/plain": [
       "PosixPath('/home/mambauser/data')"
      ]
     },
     "execution_count": 6,
     "metadata": {},
     "output_type": "execute_result"
    }
   ],
   "source": [
    "# Strapi setup\n",
    "strapi = Strapi(url=mysettings.STRAPI_URL)\n",
    "strapi.login(jwt=mysettings.STRAPI_JWT)"
   ]
  },
  {
   "cell_type": "code",
   "execution_count": 4,
   "metadata": {},
   "outputs": [],
   "source": [
    "# after generated the locations file for the first time:\n",
    "location_code = pd.read_csv(mysettings.DATA_DIR.joinpath(\"eez/processed/stats/locations_code.csv\"))"
   ]
  },
  {
   "cell_type": "markdown",
   "metadata": {},
   "source": [
    "### Locations (eez + regions)"
   ]
  },
  {
   "cell_type": "code",
   "execution_count": 3,
   "metadata": {},
   "outputs": [
    {
     "name": "stdout",
     "output_type": "stream",
     "text": [
      "/home/mambauser/data/eez/processed/eez_preprocess.zip\n",
      "/home/mambauser/data/eez/processed/preprocess\n"
     ]
    },
    {
     "data": {
      "text/plain": [
       "PosixPath('/home/mambauser/data/eez/processed/preprocess')"
      ]
     },
     "execution_count": 3,
     "metadata": {},
     "output_type": "execute_result"
    }
   ],
   "source": [
    "pipe = \"eez\"\n",
    "strapi_collection = \"\"\n",
    "pipe_dir = FileConventionHandler(pipe)\n",
    "\n",
    "output_file = pipe_dir.get_processed_step_path(current_step).joinpath(\"locations.json\")\n",
    "\n",
    "# Download the EEZ file && unzip it\n",
    "download_and_unzip_if_needed(pipe_dir, prev_step, mysettings)"
   ]
  },
  {
   "cell_type": "code",
   "execution_count": 5,
   "metadata": {},
   "outputs": [
    {
     "name": "stderr",
     "output_type": "stream",
     "text": [
      "DEBUG:pyproj:PROJ_ERROR: proj_create: unrecognized format / unknown name\n",
      "DEBUG:pyproj:PROJ_ERROR: proj_create: unrecognized format / unknown name\n",
      "DEBUG:pyproj:PROJ_ERROR: proj_create: unrecognized format / unknown name\n"
     ]
    }
   ],
   "source": [
    "locations = (\n",
    "    gpd.read_file(pipe_dir.get_step_fmt_file_path(prev_step, \"shp\"))\n",
    "    .pipe(add_envelope)\n",
    "    .pipe(add_location_iso)\n",
    "    .pipe(expand_multiple_locations)\n",
    "    .pipe(add_region_iso,'iso')\n",
    "    .pipe(calculate_eez_area)\n",
    "    .pipe(add_bbox)\n",
    "    .pipe(add_groups_and_members)\n",
    "    .pipe(add_location_name)\n",
    "    .rename(\n",
    "        columns={\n",
    "            \"iso\": \"code\",\n",
    "            \"AREA_KM2\": \"totalMarineArea\",\n",
    "            \"location_type\": \"type\",\n",
    "        }\n",
    "    )\n",
    ")\n",
    "\n",
    "locations.drop(\n",
    "    columns=list(\n",
    "        set(locations.columns) - \n",
    "        set([\"code\", \"name\", \"totalMarineArea\", \"type\", \"groups\", \"bounds\", \"id\"])),\n",
    "    inplace=True,\n",
    ")\n",
    "\n",
    "output_locations = {\n",
    "    \"version\": 2,\n",
    "    \"data\": {\n",
    "        \"api::location.location\": LocationSchema(pd.DataFrame(locations)).to_dict(\n",
    "            orient=\"index\"\n",
    "        )\n",
    "    },\n",
    "}\n",
    "with open(output_file, \"w\") as f:\n",
    "    json.dump(output_locations, f)\n",
    "\n",
    "del output_locations"
   ]
  },
  {
   "cell_type": "code",
   "execution_count": 9,
   "metadata": {},
   "outputs": [],
   "source": [
    "##\n",
    "(locations[['id', 'code']]\n",
    " .to_csv(pipe_dir.get_processed_step_path(current_step)\n",
    "     .joinpath('locations_code.csv'), index=False))\n",
    "\n",
    "del locations"
   ]
  },
  {
   "cell_type": "code",
   "execution_count": null,
   "metadata": {},
   "outputs": [],
   "source": [
    "strapi.deleteCollectionData(strapi_collection, list(range(1, 300)))"
   ]
  },
  {
   "cell_type": "code",
   "execution_count": null,
   "metadata": {},
   "outputs": [],
   "source": [
    "strapi.importCollectionData(\n",
    "    strapi_collection,\n",
    "    output_file,\n",
    ")"
   ]
  },
  {
   "cell_type": "markdown",
   "metadata": {},
   "source": [
    "### Habitats"
   ]
  },
  {
   "cell_type": "markdown",
   "metadata": {},
   "source": [
    "The habitat data came from:\n"
   ]
  },
  {
   "cell_type": "code",
   "execution_count": 8,
   "metadata": {},
   "outputs": [],
   "source": [
    "pipe = \"habitats\"\n",
    "strapi_collection = ''\n",
    "pipe_dir = FileConventionHandler(pipe)\n",
    "output_file = pipe_dir.get_step_fmt_file_path(current_step, \"csv\")\n",
    "\n",
    "# Download the habitat file\n",
    "# download_and_unzip_if_needed(pipe_dir, prev_step, mysettings)\n",
    "\n",
    "habitats_intermediate = pd.read_csv(\n",
    "    pipe_dir.processed_path.joinpath(\"habitats4.csv\"), keep_default_na=False\n",
    ")"
   ]
  },
  {
   "cell_type": "code",
   "execution_count": null,
   "metadata": {},
   "outputs": [],
   "source": [
    "habitat_stats = habitats_intermediate.pipe(\n",
    "    output,\n",
    "    iso_column=\"location_id\",\n",
    "    rep_d={\n",
    "        \"habitat_name\": {\n",
    "            \"saltmarshes\": 1,\n",
    "            \"seagrasses\": 2,\n",
    "            \"warm-water corals\": 3,\n",
    "            \"cold-water corals\": 4,\n",
    "            \"mangroves\": 5,\n",
    "            \"seamounts\": 6,\n",
    "        },\n",
    "        \"protected_area\": {\"\": 0},\n",
    "    },\n",
    "    rename={\n",
    "        \"protected_area\": \"protectedArea\",\n",
    "        \"total_area\": \"totalArea\",\n",
    "        \"habitat_name\": \"habitat\",\n",
    "    },\n",
    "    drop_cols=[\"location_id\"],\n",
    ")\n",
    "HabitatsSchema(habitat_stats).to_csv(\n",
    "    output_file.as_posix(), index=True\n",
    ")"
   ]
  },
  {
   "cell_type": "code",
   "execution_count": null,
   "metadata": {},
   "outputs": [],
   "source": [
    "strapi.deleteCollectionData(strapi_collection, list(range(1, 300)))"
   ]
  },
  {
   "cell_type": "code",
   "execution_count": null,
   "metadata": {},
   "outputs": [],
   "source": [
    "strapi.importCollectionData(\n",
    "    strapi_collection,\n",
    "    output_file,\n",
    ")"
   ]
  },
  {
   "cell_type": "markdown",
   "metadata": {},
   "source": [
    "### Coverage stats - Mpas"
   ]
  },
  {
   "cell_type": "markdown",
   "metadata": {},
   "source": [
    "We are going to use the intermediate data from eez, in order to create a dataset that can be used as a land mask.\n",
    "The steps are:\n",
    "1. Load eez\n",
    "2. Spatial inner Join the eez dataset with the Mpas one\n",
    "3. Assign the location iso\n",
    "4. dissolve by location iso and cummulative year\n",
    "5. calculate the area for global regions and eez countries\n",
    "6. prepare the data to be ingested in strapi\n",
    "7. upload the data to strapi"
   ]
  },
  {
   "cell_type": "code",
   "execution_count": 5,
   "metadata": {},
   "outputs": [
    {
     "name": "stdout",
     "output_type": "stream",
     "text": [
      "/home/mambauser/data/eez/processed/eez_preprocess.zip\n",
      "/home/mambauser/data/eez/processed/preprocess\n",
      "/home/mambauser/data/mpa/processed/mpa_preprocess.zip\n",
      "/home/mambauser/data/mpa/processed/preprocess\n"
     ]
    }
   ],
   "source": [
    "pipe = \"mpa\"\n",
    "strapi_collection = \"\"\n",
    "\n",
    "pipe_dir_eez = FileConventionHandler(\"eez\")\n",
    "pipe_dir_mpas = FileConventionHandler(pipe)\n",
    "output_file = pipe_dir_mpas.get_processed_step_path(current_step).joinpath(\n",
    "    \"mpa_landmask_strapi.csv\"\n",
    ")\n",
    "\n",
    "# Download the EEZ file && unzip it\n",
    "download_and_unzip_if_needed(pipe_dir_eez, prev_step, mysettings)\n",
    "# Download the mpas file && unzip it\n",
    "download_and_unzip_if_needed(pipe_dir_mpas, prev_step, mysettings)\n",
    "\n",
    "# Load the data\n",
    "eez = gpd.read_file(pipe_dir_eez.get_step_fmt_file_path(prev_step, \"shp\")).pipe(clean_geometries)\n",
    "mpas = gpd.read_file(pipe_dir_mpas.get_step_fmt_file_path(prev_step, \"shp\")).pipe(clean_geometries)"
   ]
  },
  {
   "cell_type": "code",
   "execution_count": 6,
   "metadata": {},
   "outputs": [
    {
     "name": "stderr",
     "output_type": "stream",
     "text": [
      "100%|█████████▉| 281/282 [06:12<01:03, 63.36s/it]"
     ]
    },
    {
     "name": "stdout",
     "output_type": "stream",
     "text": [
      "<class 'shapely.geometry.base.GeometrySequence'>\n"
     ]
    },
    {
     "name": "stderr",
     "output_type": "stream",
     "text": [
      "100%|██████████| 282/282 [06:33<00:00,  1.39s/it]"
     ]
    },
    {
     "name": "stdout",
     "output_type": "stream",
     "text": [
      "<class 'shapely.geometry.base.GeometrySequence'>\n",
      "<class 'shapely.geometry.base.GeometrySequence'>\n",
      "<class 'shapely.geometry.base.GeometrySequence'>\n",
      "<class 'shapely.geometry.base.GeometrySequence'>\n"
     ]
    },
    {
     "name": "stderr",
     "output_type": "stream",
     "text": [
      "\n"
     ]
    }
   ],
   "source": [
    "eez_mpas_data_join = await spatial_join(eez, mpas.pipe(filter_by_exluding_propossed_mpas))"
   ]
  },
  {
   "cell_type": "code",
   "execution_count": 7,
   "metadata": {},
   "outputs": [],
   "source": [
    "# To get an idea of the spatial join results\n",
    "eez_mpas_data_join.pipe(add_location_iso).pipe(assign_iso3).to_file(\n",
    "    pipe_dir_mpas.get_processed_step_path(current_step).joinpath(\"mpas_sjoin.shp\"), driver=\"ESRI Shapefile\"\n",
    ")"
   ]
  },
  {
   "cell_type": "code",
   "execution_count": 9,
   "metadata": {},
   "outputs": [
    {
     "name": "stderr",
     "output_type": "stream",
     "text": [
      "DEBUG:pyproj:PROJ_ERROR: proj_create: unrecognized format / unknown name\n",
      "100%|██████████| 14/14 [03:03<00:00, 13.12s/it]\n"
     ]
    },
    {
     "name": "stderr",
     "output_type": "stream",
     "text": [
      "DEBUG:pyproj:PROJ_ERROR: proj_create: unrecognized format / unknown name\n",
      "  7%|▋         | 1/14 [01:14<16:05, 74.30s/it]DEBUG:pyproj:PROJ_ERROR: proj_create: unrecognized format / unknown name\n",
      " 14%|█▍        | 2/14 [01:19<06:42, 33.52s/it]DEBUG:pyproj:PROJ_ERROR: proj_create: unrecognized format / unknown name\n",
      " 21%|██▏       | 3/14 [01:45<05:30, 30.01s/it]DEBUG:pyproj:PROJ_ERROR: proj_create: unrecognized format / unknown name\n",
      "DEBUG:pyproj:PROJ_ERROR: proj_create: unrecognized format / unknown name\n",
      " 29%|██▊       | 4/14 [02:00<04:02, 24.29s/it]DEBUG:pyproj:PROJ_ERROR: proj_create: unrecognized format / unknown name\n",
      " 43%|████▎     | 6/14 [02:03<01:29, 11.15s/it]DEBUG:pyproj:PROJ_ERROR: proj_create: unrecognized format / unknown name\n",
      " 50%|█████     | 7/14 [02:12<01:13, 10.47s/it]DEBUG:pyproj:PROJ_ERROR: proj_create: unrecognized format / unknown name\n",
      " 57%|█████▋    | 8/14 [02:16<00:50,  8.40s/it]DEBUG:pyproj:PROJ_ERROR: proj_create: unrecognized format / unknown name\n",
      "DEBUG:pyproj:PROJ_ERROR: proj_create: unrecognized format / unknown name\n",
      "DEBUG:pyproj:PROJ_ERROR: proj_create: unrecognized format / unknown name\n",
      " 64%|██████▍   | 9/14 [02:57<01:33, 18.63s/it]DEBUG:pyproj:PROJ_ERROR: proj_create: unrecognized format / unknown name\n",
      " 79%|███████▊  | 11/14 [02:59<00:28,  9.46s/it]DEBUG:pyproj:PROJ_ERROR: proj_create: unrecognized format / unknown name\n",
      "DEBUG:pyproj:PROJ_ERROR: proj_create: unrecognized format / unknown name\n",
      "100%|█████████▉| 281/282 [00:20<00:02,  2.84s/it]"
     ]
    }
   ],
   "source": [
    "final_data = await process_mpa_data(\n",
    "    eez_mpas_data_join.pipe(add_location_iso).pipe(assign_iso3),\n",
    "    range(2011, time.localtime().tm_year + 1),\n",
    "    [\"PA_DEF\", \"iso_3\"],\n",
    "    {\"protectedAreasCount\": \"sum\"},\n",
    ")"
   ]
  },
  {
   "cell_type": "code",
   "execution_count": 15,
   "metadata": {},
   "outputs": [],
   "source": [
    "coverage = (\n",
    "    final_data.pipe(calculate_global_area, [\"year\", \"PA_DEF\"], {\"area\": \"sum\"}, \"iso_3\")\n",
    "    .pipe(separate_parent_iso, \"iso_3\")\n",
    "    .pipe(add_region_iso, \"iso_3\")\n",
    "    .replace(\n",
    "        {\n",
    "            \"iso_3\": {\n",
    "                \"ATA\": \"ABNJ\",\n",
    "                \"COK\": \"NZL\",\n",
    "                \"IOT\": \"GBR\",\n",
    "                \"NIU\": \"NZL\",\n",
    "                \"SHN\": \"GBR\",\n",
    "                \"SJM\": \"NOR\",\n",
    "                \"UMI\": \"USA\",\n",
    "                \"NCL\": \"FRA\",\n",
    "                \"GIB\": \"GBR\",\n",
    "            }\n",
    "        }\n",
    "    )\n",
    "    .pipe(calculate_stats_cov, [\"year\", \"PA_DEF\"], \"iso_3\")\n",
    "    .pipe(coverage_stats)\n",
    ")\n",
    "\n",
    "ProtectedAreaExtentSchema(\n",
    "    coverage.pipe(\n",
    "        output,\n",
    "        \"iso_3\",\n",
    "        {\"PA_DEF\": {\"0\": 2, \"1\": 1}},\n",
    "        {\"PARENT_NAME\": \"location\", \"PA_DEF\": \"protection_status\"},\n",
    "        [\"area\", \"iso_3\"],\n",
    "    )\n",
    ").to_csv(\n",
    "    output_file,\n",
    "    index=True,\n",
    ")"
   ]
  },
  {
   "cell_type": "code",
   "execution_count": null,
   "metadata": {},
   "outputs": [],
   "source": [
    "strapi.deleteCollectionData(strapi_collection, list(range(1, 300)))"
   ]
  },
  {
   "cell_type": "code",
   "execution_count": null,
   "metadata": {},
   "outputs": [],
   "source": [
    "strapi.importCollectionData(\n",
    "    strapi_collection,\n",
    "    output_file,\n",
    ")"
   ]
  },
  {
   "cell_type": "markdown",
   "metadata": {},
   "source": [
    "### Mpa atlas - country stats Fully or highly protected"
   ]
  },
  {
   "cell_type": "markdown",
   "metadata": {},
   "source": [
    "We are going to use the intermediate data from eez, in order to create a dataset that can be used as a land mask.\n",
    "The steps are:\n",
    "1. Load eez\n",
    "2. Spatial inner Join the eez dataset with the Mpaatlas one\n",
    "3. iso assign using the sovereign one provided by mpaatlas\n",
    "4. dissolve by location\n",
    "5. calculate the area for global regions and eez countries ussing mollwide projection\n",
    "6. prepare the data to be ingested in strapi\n",
    "7. upload the data to strapi"
   ]
  },
  {
   "cell_type": "code",
   "execution_count": 16,
   "metadata": {},
   "outputs": [
    {
     "name": "stdout",
     "output_type": "stream",
     "text": [
      "/home/mambauser/data/eez/processed/eez_preprocess.zip\n",
      "/home/mambauser/data/eez/processed/preprocess\n",
      "/home/mambauser/data/mpaatlas/processed/mpaatlas_preprocess.zip\n",
      "/home/mambauser/data/mpaatlas/processed/preprocess\n"
     ]
    }
   ],
   "source": [
    "pipe = \"mpaatlas\"\n",
    "strapi_collection = \"mpaa-protection-level-stat\"\n",
    "\n",
    "pipe_dir_eez = FileConventionHandler(\"eez\")\n",
    "pipe_dir_mpaatlas = FileConventionHandler(pipe)\n",
    "output_file = pipe_dir_mpaatlas.get_processed_step_path(current_step).joinpath(\n",
    "    \"mpaatlas_protection_level.csv\"\n",
    ")\n",
    "\n",
    "# Download the EEZ file && unzip it\n",
    "download_and_unzip_if_needed(pipe_dir_eez, prev_step, mysettings)\n",
    "# Download the mpas file && unzip it\n",
    "download_and_unzip_if_needed(pipe_dir_mpaatlas, prev_step, mysettings)\n",
    "\n",
    "# Load the data\n",
    "eez = gpd.read_file(pipe_dir_eez.get_step_fmt_file_path(prev_step, \"shp\")).pipe(clean_geometries)\n",
    "mpaatlas_intermediate = gpd.read_file(\n",
    "    pipe_dir_mpaatlas.get_step_fmt_file_path(prev_step, \"shp\")\n",
    ").pipe(clean_geometries)"
   ]
  },
  {
   "cell_type": "code",
   "execution_count": 17,
   "metadata": {},
   "outputs": [
    {
     "name": "stderr",
     "output_type": "stream",
     "text": [
      "  0%|          | 0/282 [00:00<?, ?it/s]"
     ]
    },
    {
     "name": "stdout",
     "output_type": "stream",
     "text": [
      "<class 'shapely.geometry.base.GeometrySequence'>\n"
     ]
    },
    {
     "name": "stderr",
     "output_type": "stream",
     "text": [
      "100%|██████████| 282/282 [00:27<00:00,  4.06s/it]"
     ]
    },
    {
     "name": "stderr",
     "output_type": "stream",
     "text": [
      "100%|██████████| 282/282 [00:27<00:00, 10.21it/s]\n"
     ]
    },
    {
     "name": "stdout",
     "output_type": "stream",
     "text": [
      "<class 'shapely.geometry.base.GeometrySequence'>\n"
     ]
    }
   ],
   "source": [
    "eez_mpaatlas_data_join = await spatial_join(\n",
    "    eez, mpaatlas_intermediate.pipe(mpaatlas_filter_stablishment)\n",
    ")"
   ]
  },
  {
   "cell_type": "code",
   "execution_count": 40,
   "metadata": {},
   "outputs": [],
   "source": [
    "# To get an idea of the spatial join results\n",
    "# eez_mpaatlas_data_join.to_file(\n",
    "#     pipe_dir_mpaatlas.get_processed_step_path(current_step).joinpath(\"mpaatlas_sjoin.shp\"),\n",
    "#     driver=\"ESRI Shapefile\",\n",
    "# )"
   ]
  },
  {
   "cell_type": "code",
   "execution_count": 18,
   "metadata": {},
   "outputs": [
    {
     "name": "stderr",
     "output_type": "stream",
     "text": [
      "DEBUG:pyproj:PROJ_ERROR: proj_create: unrecognized format / unknown name\n"
     ]
    }
   ],
   "source": [
    "eez_mpaatlas_data_join.dissolve(by=[\"protecti_1\", \"location_i\"], aggfunc={\"name\": \"count\"}).reset_index().to_file(\n",
    "pipe_dir_mpaatlas.get_processed_step_path(current_step).joinpath(\"mpaatlas_sjoin_dissolved.shp\"),\n",
    "driver=\"ESRI Shapefile\",\n",
    ")"
   ]
  },
  {
   "cell_type": "code",
   "execution_count": 19,
   "metadata": {},
   "outputs": [
    {
     "name": "stderr",
     "output_type": "stream",
     "text": [
      "DEBUG:pyproj:PROJ_ERROR: proj_create: unrecognized format / unknown name\n"
     ]
    }
   ],
   "source": [
    "result = (\n",
    "    eez_mpaatlas_data_join.pipe(process_mpaatlas_data)\n",
    "    .pipe(calculate_global_area, gby_col=[\"protecti_1\"], iso_column=\"location_i\")\n",
    "    .pipe(separate_parent_iso)\n",
    "    .replace(\n",
    "        {\n",
    "            \"location_i\": {\n",
    "                \"COK\": \"NZL\",\n",
    "                \"IOT\": \"GBR\",\n",
    "                \"NIU\": \"NZL\",\n",
    "                \"SHN\": \"GBR\",\n",
    "                \"SJM\": \"NOR\",\n",
    "                \"UMI\": \"USA\",\n",
    "                \"NCL\": \"FRA\",\n",
    "            }\n",
    "        }\n",
    "    )\n",
    "    .pipe(add_region_iso, iso_column=\"location_i\")\n",
    "    .pipe(calculate_stats, gby_col=[\"protecti_1\"], iso_column=\"location_i\")\n",
    "    .pipe(fix_monaco, iso_column=\"location_i\", area_column=\"area_km2\")\n",
    "    .pipe(\n",
    "        output,\n",
    "        iso_column=\"location_i\",\n",
    "        rep_d={\n",
    "            \"protecti_1\": {\n",
    "                \"fully or highly protected\": 1,\n",
    "                \"less protected or unknown\": 2,\n",
    "            }\n",
    "        },\n",
    "        rename={\"protecti_1\": \"mpaa_protection_level\", \"area_km2\": \"area\"},\n",
    "        drop_cols=[],\n",
    "    )\n",
    ")\n",
    "\n",
    "ProtectionLevelSchema(result[~result.location.isna()].assign(year=2023)).to_csv(\n",
    "    output_file, index=True\n",
    ")"
   ]
  },
  {
   "cell_type": "code",
   "execution_count": null,
   "metadata": {},
   "outputs": [],
   "source": [
    "strapi.deleteCollectionData(strapi_collection, list(range(1, 300)))"
   ]
  },
  {
   "cell_type": "code",
   "execution_count": null,
   "metadata": {},
   "outputs": [],
   "source": [
    "strapi.importCollectionData(\n",
    "    strapi_collection,\n",
    "    output_file,\n",
    ")"
   ]
  },
  {
   "cell_type": "markdown",
   "metadata": {},
   "source": [
    "### Protected seas  - fishing protection level"
   ]
  },
  {
   "cell_type": "markdown",
   "metadata": {},
   "source": []
  },
  {
   "cell_type": "code",
   "execution_count": null,
   "metadata": {},
   "outputs": [],
   "source": [
    "pipe = \"protectedseas\"\n",
    "strapi_collection = \"\"\n",
    "\n",
    "pipe_dir = FileConventionHandler(pipe)\n",
    "output_file = pipe_dir.get_processed_step_path(current_step).joinpath(\"lfp.csv\")\n",
    "\n",
    "# Download the protected seas file && unzip it\n",
    "download_and_unzip_if_needed(pipe_dir, prev_step, mysettings)\n",
    "\n",
    "# Load the data\n",
    "protectedseas_intermediate = gpd.read_file(pipe_dir.get_step_fmt_file_path(prev_step, \"shp\")).pipe(\n",
    "    clean_geometries\n",
    ")"
   ]
  },
  {
   "cell_type": "code",
   "execution_count": null,
   "metadata": {},
   "outputs": [],
   "source": [
    "final = (\n",
    "    protectedseas_intermediate.pipe(calculate_area)\n",
    "    .pipe(calculate_global_area, gby_col=[\"FPS_cat\"], iso_column=\"iso\")\n",
    "    .pipe(separate_parent_iso, iso_column=\"iso\")\n",
    "    .replace(\n",
    "        {\n",
    "            \"iso\": {\n",
    "                \"COK\": \"NZL\",\n",
    "                \"IOT\": \"GBR\",\n",
    "                \"NIU\": \"NZL\",\n",
    "                \"SHN\": \"GBR\",\n",
    "                \"SJM\": \"NOR\",\n",
    "                \"UMI\": \"USA\",\n",
    "                \"NCL\": \"FRA\",\n",
    "            }\n",
    "        }\n",
    "    )\n",
    "    .pipe(add_region_iso, iso_column=\"iso\")\n",
    "    .pipe(calculate_stats, gby_col=[\"FPS_cat\"], iso_column=\"location_i\")\n",
    "    .pipe(fix_monaco, iso_column=\"iso\", area_column=\"area_km2\")\n",
    "    .pipe(\n",
    "        output,\n",
    "        iso_column=\"iso\",\n",
    "        rep_d={\n",
    "            \"FPS_cat\": {\n",
    "                \"highly\": 1,\n",
    "                \"moderately\": 2,\n",
    "                \"less\": 3,\n",
    "            }\n",
    "        },\n",
    "        rename={\"FPS_cat\": \"fishing_protection_level\", \"area_km2\": \"area\"},\n",
    "        drop_cols=[\"iso\"],\n",
    "    )\n",
    ")\n",
    "\n",
    "FPLSchema(final).to_csv(output_file, index=True)"
   ]
  },
  {
   "cell_type": "code",
   "execution_count": null,
   "metadata": {},
   "outputs": [],
   "source": [
    "strapi.deleteCollectionData(strapi_collection, list(range(1, 300)))"
   ]
  },
  {
   "cell_type": "code",
   "execution_count": null,
   "metadata": {},
   "outputs": [],
   "source": [
    "strapi.importCollectionData(\n",
    "    strapi_collection,\n",
    "    output_file,\n",
    ")"
   ]
  },
  {
   "cell_type": "markdown",
   "metadata": {},
   "source": [
    "### Country detail table data"
   ]
  },
  {
   "cell_type": "code",
   "execution_count": null,
   "metadata": {},
   "outputs": [],
   "source": []
  },
  {
   "cell_type": "code",
   "execution_count": 6,
   "metadata": {},
   "outputs": [
    {
     "name": "stdout",
     "output_type": "stream",
     "text": [
      "/home/mambauser/data/mpa/processed/mpa_preprocess.zip\n",
      "/home/mambauser/data/mpa/processed/preprocess\n"
     ]
    },
    {
     "data": {
      "text/plain": [
       "PosixPath('/home/mambauser/data/mpa/processed/preprocess')"
      ]
     },
     "execution_count": 6,
     "metadata": {},
     "output_type": "execute_result"
    }
   ],
   "source": [
    "## TODO: this whole pipe will change base on the new designs.\n",
    "\n",
    "pipe = \"mpa\"\n",
    "strapi_collection_mpas = \"\"\n",
    "\n",
    "pipe_dir = FileConventionHandler(pipe)\n",
    "output_file_mpas = pipe_dir.get_processed_step_path(current_step).joinpath(\"mpa_detail.csv\")\n",
    "\n",
    "# Download the protected seas file && unzip it\n",
    "download_and_unzip_if_needed(pipe_dir, prev_step, mysettings)"
   ]
  },
  {
   "cell_type": "markdown",
   "metadata": {},
   "source": [
    "#### MPAs - protected planet"
   ]
  },
  {
   "cell_type": "code",
   "execution_count": 7,
   "metadata": {},
   "outputs": [],
   "source": [
    "# Load the data\n",
    "mpa_intermediate = gpd.read_file(pipe_dir.get_step_fmt_file_path(prev_step, \"shp\")).pipe(\n",
    "    clean_geometries\n",
    ")"
   ]
  },
  {
   "cell_type": "code",
   "execution_count": 15,
   "metadata": {},
   "outputs": [
    {
     "name": "stdout",
     "output_type": "stream",
     "text": [
      "<class 'geopandas.geodataframe.GeoDataFrame'>\n",
      "RangeIndex: 18671 entries, 0 to 18670\n",
      "Data columns (total 9 columns):\n",
      " #   Column      Non-Null Count  Dtype   \n",
      "---  ------      --------------  -----   \n",
      " 0   WDPAID      18671 non-null  int32   \n",
      " 1   WDPA_PID    18671 non-null  object  \n",
      " 2   PA_DEF      18671 non-null  object  \n",
      " 3   NAME        18671 non-null  object  \n",
      " 4   GIS_M_AREA  18257 non-null  float64 \n",
      " 5   STATUS      18671 non-null  object  \n",
      " 6   STATUS_YR   18671 non-null  int64   \n",
      " 7   PARENT_ISO  18671 non-null  object  \n",
      " 8   geometry    18671 non-null  geometry\n",
      "dtypes: float64(1), geometry(1), int32(1), int64(1), object(5)\n",
      "memory usage: 1.2+ MB\n"
     ]
    }
   ],
   "source": [
    "mpa_intermediate.info()"
   ]
  },
  {
   "cell_type": "code",
   "execution_count": 24,
   "metadata": {},
   "outputs": [],
   "source": [
    "mpa_intermediate['test'] = mpa_intermediate.WDPA_PID.str.extract(r\"(\\d+(?:_\\d+)*)\").astype(int)"
   ]
  },
  {
   "cell_type": "code",
   "execution_count": 29,
   "metadata": {},
   "outputs": [
    {
     "data": {
      "text/html": [
       "<div>\n",
       "<style scoped>\n",
       "    .dataframe tbody tr th:only-of-type {\n",
       "        vertical-align: middle;\n",
       "    }\n",
       "\n",
       "    .dataframe tbody tr th {\n",
       "        vertical-align: top;\n",
       "    }\n",
       "\n",
       "    .dataframe thead th {\n",
       "        text-align: right;\n",
       "    }\n",
       "</style>\n",
       "<table border=\"1\" class=\"dataframe\">\n",
       "  <thead>\n",
       "    <tr style=\"text-align: right;\">\n",
       "      <th></th>\n",
       "      <th>WDPAID</th>\n",
       "      <th>WDPA_PID</th>\n",
       "      <th>PA_DEF</th>\n",
       "      <th>NAME</th>\n",
       "      <th>GIS_M_AREA</th>\n",
       "      <th>STATUS</th>\n",
       "      <th>STATUS_YR</th>\n",
       "      <th>PARENT_ISO</th>\n",
       "      <th>geometry</th>\n",
       "      <th>test</th>\n",
       "    </tr>\n",
       "  </thead>\n",
       "  <tbody>\n",
       "    <tr>\n",
       "      <th>12674</th>\n",
       "      <td>555577419</td>\n",
       "      <td>555556881</td>\n",
       "      <td>1</td>\n",
       "      <td>Gifford</td>\n",
       "      <td>5852.016732</td>\n",
       "      <td>Designated</td>\n",
       "      <td>2018</td>\n",
       "      <td>AUS</td>\n",
       "      <td>POLYGON ((159.65001 -27.12949, 159.65001 -27.1...</td>\n",
       "      <td>555556881</td>\n",
       "    </tr>\n",
       "  </tbody>\n",
       "</table>\n",
       "</div>"
      ],
      "text/plain": [
       "          WDPAID   WDPA_PID PA_DEF     NAME   GIS_M_AREA      STATUS  \\\n",
       "12674  555577419  555556881      1  Gifford  5852.016732  Designated   \n",
       "\n",
       "       STATUS_YR PARENT_ISO  \\\n",
       "12674       2018        AUS   \n",
       "\n",
       "                                                geometry       test  \n",
       "12674  POLYGON ((159.65001 -27.12949, 159.65001 -27.1...  555556881  "
      ]
     },
     "execution_count": 29,
     "metadata": {},
     "output_type": "execute_result"
    }
   ],
   "source": [
    "mpa_intermediate[((mpa_intermediate.WDPAID == 555577419) )]"
   ]
  },
  {
   "cell_type": "code",
   "execution_count": 30,
   "metadata": {},
   "outputs": [
    {
     "data": {
      "text/html": [
       "<div>\n",
       "<style scoped>\n",
       "    .dataframe tbody tr th:only-of-type {\n",
       "        vertical-align: middle;\n",
       "    }\n",
       "\n",
       "    .dataframe tbody tr th {\n",
       "        vertical-align: top;\n",
       "    }\n",
       "\n",
       "    .dataframe thead th {\n",
       "        text-align: right;\n",
       "    }\n",
       "</style>\n",
       "<table border=\"1\" class=\"dataframe\">\n",
       "  <thead>\n",
       "    <tr style=\"text-align: right;\">\n",
       "      <th></th>\n",
       "      <th>WDPAID</th>\n",
       "      <th>WDPA_PID</th>\n",
       "      <th>PA_DEF</th>\n",
       "      <th>NAME</th>\n",
       "      <th>GIS_M_AREA</th>\n",
       "      <th>STATUS</th>\n",
       "      <th>STATUS_YR</th>\n",
       "      <th>PARENT_ISO</th>\n",
       "      <th>geometry</th>\n",
       "      <th>test</th>\n",
       "    </tr>\n",
       "  </thead>\n",
       "  <tbody>\n",
       "    <tr>\n",
       "      <th>0</th>\n",
       "      <td>1</td>\n",
       "      <td>1</td>\n",
       "      <td>1</td>\n",
       "      <td>Diamond Reef and Salt Fish Tail Reef</td>\n",
       "      <td>14.636135</td>\n",
       "      <td>Designated</td>\n",
       "      <td>1973</td>\n",
       "      <td>ATG</td>\n",
       "      <td>POLYGON ((-61.82494 17.18497, -61.82497 17.184...</td>\n",
       "      <td>1</td>\n",
       "    </tr>\n",
       "    <tr>\n",
       "      <th>1</th>\n",
       "      <td>2</td>\n",
       "      <td>2</td>\n",
       "      <td>1</td>\n",
       "      <td>Palaster Reef</td>\n",
       "      <td>3.845623</td>\n",
       "      <td>Designated</td>\n",
       "      <td>1973</td>\n",
       "      <td>ATG</td>\n",
       "      <td>POLYGON ((-61.74007 17.52001, -61.77174 17.526...</td>\n",
       "      <td>2</td>\n",
       "    </tr>\n",
       "    <tr>\n",
       "      <th>2</th>\n",
       "      <td>27</td>\n",
       "      <td>27</td>\n",
       "      <td>1</td>\n",
       "      <td>Folkstone</td>\n",
       "      <td>9.989930</td>\n",
       "      <td>Designated</td>\n",
       "      <td>1980</td>\n",
       "      <td>BRB</td>\n",
       "      <td>POLYGON ((-59.63212 13.1737, -59.63263 13.1687...</td>\n",
       "      <td>27</td>\n",
       "    </tr>\n",
       "    <tr>\n",
       "      <th>3</th>\n",
       "      <td>46</td>\n",
       "      <td>46</td>\n",
       "      <td>1</td>\n",
       "      <td>Reserva Biológica Atol Das Rocas</td>\n",
       "      <td>353.837622</td>\n",
       "      <td>Designated</td>\n",
       "      <td>1979</td>\n",
       "      <td>BRA</td>\n",
       "      <td>POLYGON ((-33.64137 -3.79099, -33.64151 -3.791...</td>\n",
       "      <td>46</td>\n",
       "    </tr>\n",
       "    <tr>\n",
       "      <th>4</th>\n",
       "      <td>57</td>\n",
       "      <td>57</td>\n",
       "      <td>1</td>\n",
       "      <td>Parque Nacional Do Cabo Orange</td>\n",
       "      <td>2270.594697</td>\n",
       "      <td>Designated</td>\n",
       "      <td>1980</td>\n",
       "      <td>BRA</td>\n",
       "      <td>POLYGON ((-50.85381 2.81364, -50.85443 2.81359...</td>\n",
       "      <td>57</td>\n",
       "    </tr>\n",
       "    <tr>\n",
       "      <th>...</th>\n",
       "      <td>...</td>\n",
       "      <td>...</td>\n",
       "      <td>...</td>\n",
       "      <td>...</td>\n",
       "      <td>...</td>\n",
       "      <td>...</td>\n",
       "      <td>...</td>\n",
       "      <td>...</td>\n",
       "      <td>...</td>\n",
       "      <td>...</td>\n",
       "    </tr>\n",
       "    <tr>\n",
       "      <th>18666</th>\n",
       "      <td>555594046</td>\n",
       "      <td>555594046</td>\n",
       "      <td>1</td>\n",
       "      <td>Mashtan Island</td>\n",
       "      <td>NaN</td>\n",
       "      <td>Designated</td>\n",
       "      <td>2002</td>\n",
       "      <td>BHR</td>\n",
       "      <td>POLYGON ((4759827.90237 3149355.27177, 4759827...</td>\n",
       "      <td>555594046</td>\n",
       "    </tr>\n",
       "    <tr>\n",
       "      <th>18667</th>\n",
       "      <td>313506</td>\n",
       "      <td>313506</td>\n",
       "      <td>1</td>\n",
       "      <td>Arad Bay</td>\n",
       "      <td>NaN</td>\n",
       "      <td>Designated</td>\n",
       "      <td>2003</td>\n",
       "      <td>BHR</td>\n",
       "      <td>POLYGON ((4743197.11699 3203279.17554, 4743197...</td>\n",
       "      <td>313506</td>\n",
       "    </tr>\n",
       "    <tr>\n",
       "      <th>18668</th>\n",
       "      <td>145813</td>\n",
       "      <td>145813</td>\n",
       "      <td>1</td>\n",
       "      <td>Hawar Island and the Surrounding Terretorial Sea</td>\n",
       "      <td>NaN</td>\n",
       "      <td>Designated</td>\n",
       "      <td>1996</td>\n",
       "      <td>BHR</td>\n",
       "      <td>POLYGON ((4771270.71072 3129994.93264, 4771269...</td>\n",
       "      <td>145813</td>\n",
       "    </tr>\n",
       "    <tr>\n",
       "      <th>18669</th>\n",
       "      <td>145812</td>\n",
       "      <td>145812</td>\n",
       "      <td>1</td>\n",
       "      <td>Tubli Bay</td>\n",
       "      <td>NaN</td>\n",
       "      <td>Designated</td>\n",
       "      <td>2006</td>\n",
       "      <td>BHR</td>\n",
       "      <td>POLYGON ((4738737.37964 3195543.87956, 4738737...</td>\n",
       "      <td>145812</td>\n",
       "    </tr>\n",
       "    <tr>\n",
       "      <th>18670</th>\n",
       "      <td>555682425</td>\n",
       "      <td>555682425</td>\n",
       "      <td>1</td>\n",
       "      <td>Área De Proteção Ambiental Do Arquipelago De S...</td>\n",
       "      <td>NaN</td>\n",
       "      <td>Designated</td>\n",
       "      <td>1989</td>\n",
       "      <td>BRA</td>\n",
       "      <td>POLYGON ((-3982055.47098 -2744881.01491, -3982...</td>\n",
       "      <td>555682425</td>\n",
       "    </tr>\n",
       "  </tbody>\n",
       "</table>\n",
       "<p>18669 rows × 10 columns</p>\n",
       "</div>"
      ],
      "text/plain": [
       "          WDPAID   WDPA_PID PA_DEF  \\\n",
       "0              1          1      1   \n",
       "1              2          2      1   \n",
       "2             27         27      1   \n",
       "3             46         46      1   \n",
       "4             57         57      1   \n",
       "...          ...        ...    ...   \n",
       "18666  555594046  555594046      1   \n",
       "18667     313506     313506      1   \n",
       "18668     145813     145813      1   \n",
       "18669     145812     145812      1   \n",
       "18670  555682425  555682425      1   \n",
       "\n",
       "                                                    NAME   GIS_M_AREA  \\\n",
       "0                   Diamond Reef and Salt Fish Tail Reef    14.636135   \n",
       "1                                          Palaster Reef     3.845623   \n",
       "2                                              Folkstone     9.989930   \n",
       "3                       Reserva Biológica Atol Das Rocas   353.837622   \n",
       "4                         Parque Nacional Do Cabo Orange  2270.594697   \n",
       "...                                                  ...          ...   \n",
       "18666                                     Mashtan Island          NaN   \n",
       "18667                                           Arad Bay          NaN   \n",
       "18668   Hawar Island and the Surrounding Terretorial Sea          NaN   \n",
       "18669                                          Tubli Bay          NaN   \n",
       "18670  Área De Proteção Ambiental Do Arquipelago De S...          NaN   \n",
       "\n",
       "           STATUS  STATUS_YR PARENT_ISO  \\\n",
       "0      Designated       1973        ATG   \n",
       "1      Designated       1973        ATG   \n",
       "2      Designated       1980        BRB   \n",
       "3      Designated       1979        BRA   \n",
       "4      Designated       1980        BRA   \n",
       "...           ...        ...        ...   \n",
       "18666  Designated       2002        BHR   \n",
       "18667  Designated       2003        BHR   \n",
       "18668  Designated       1996        BHR   \n",
       "18669  Designated       2006        BHR   \n",
       "18670  Designated       1989        BRA   \n",
       "\n",
       "                                                geometry       test  \n",
       "0      POLYGON ((-61.82494 17.18497, -61.82497 17.184...          1  \n",
       "1      POLYGON ((-61.74007 17.52001, -61.77174 17.526...          2  \n",
       "2      POLYGON ((-59.63212 13.1737, -59.63263 13.1687...         27  \n",
       "3      POLYGON ((-33.64137 -3.79099, -33.64151 -3.791...         46  \n",
       "4      POLYGON ((-50.85381 2.81364, -50.85443 2.81359...         57  \n",
       "...                                                  ...        ...  \n",
       "18666  POLYGON ((4759827.90237 3149355.27177, 4759827...  555594046  \n",
       "18667  POLYGON ((4743197.11699 3203279.17554, 4743197...     313506  \n",
       "18668  POLYGON ((4771270.71072 3129994.93264, 4771269...     145813  \n",
       "18669  POLYGON ((4738737.37964 3195543.87956, 4738737...     145812  \n",
       "18670  POLYGON ((-3982055.47098 -2744881.01491, -3982...  555682425  \n",
       "\n",
       "[18669 rows x 10 columns]"
      ]
     },
     "execution_count": 30,
     "metadata": {},
     "output_type": "execute_result"
    }
   ],
   "source": [
    "mpa_intermediate[(mpa_intermediate.WDPAID == mpa_intermediate.test)]\n",
    "# [\n",
    "#     (mpa_intermediate.WDPAID.astype(str) != mpa_intermediate.WDPA_PID)\n",
    "#     | (mpa_intermediate.WDPA_PID.str.extract(r\"(\\d+(?:_\\d+)*)\").astype(int) != mpa_intermediate.WDPAID)\n",
    "# ]"
   ]
  },
  {
   "cell_type": "code",
   "execution_count": null,
   "metadata": {},
   "outputs": [],
   "source": [
    "test4 = mpa_intermediate.fillna(0).replace(\n",
    "    {\n",
    "        \"PARENT_ISO\": {\n",
    "            \"COK\": \"NZL\",\n",
    "            \"IOT\": \"GBR\",\n",
    "            \"NIU\": \"NZL\",\n",
    "            \"SHN\": \"GBR\",\n",
    "            \"SJM\": \"NOR\",\n",
    "            \"UMI\": \"USA\",\n",
    "            \"NCL\": \"FRA\",\n",
    "        }\n",
    "    }\n",
    ")\n",
    "test4_final = test4.pipe(\n",
    "    output,\n",
    "    iso_column=\"PARENT_ISO\",\n",
    "    rep_d={\n",
    "        \"STATUS\": {\n",
    "            \"Adopted\": 4,\n",
    "            \"implemented\": 6,\n",
    "            \"Established\": 6,\n",
    "            \"Designated\": 5,\n",
    "            \"Proposed\": 3,\n",
    "            \"Inscribed\": 3,\n",
    "            \"unknown\": 1,\n",
    "        },\n",
    "        \"PA_DEF\": {\"0\": 2, \"1\": 1},\n",
    "        \"STATUS_YR\": {0: pd.NA},\n",
    "    },\n",
    "    rename={\n",
    "        \"PARENT_ISO\": \"iso\",\n",
    "        \"PA_DEF\": \"protection_status\",\n",
    "        \"GIS_M_AREA\": \"area\",\n",
    "        \"STATUS_YR\": \"year\",\n",
    "        \"WDPA_PID\": \"wdpaid\",\n",
    "        \"NAME\": \"name\",\n",
    "    },\n",
    "    drop_cols=[\"geometry\", \"iso\", \"STATUS\"],  # \"WDPAID\",\n",
    ").astype({\"year\": \"Int64\"})\n",
    "\n",
    "batch_export(test4_final, 5000, MPAsSchema, mpa_folder, \"mpa_join_mpatlas_prot\")"
   ]
  },
  {
   "cell_type": "markdown",
   "metadata": {},
   "source": [
    "#### joined work table"
   ]
  },
  {
   "cell_type": "code",
   "execution_count": null,
   "metadata": {},
   "outputs": [],
   "source": [
    "## TODO: this whole pipe will change base on the new designs."
   ]
  },
  {
   "cell_type": "code",
   "execution_count": null,
   "metadata": {},
   "outputs": [],
   "source": [
    "mpa_atlas_merge = mpa_atlas_table.pipe(separate_parent_iso, iso_column=\"location_i\").replace(\n",
    "    {\n",
    "        \"location_i\": {\n",
    "            \"COK\": \"NZL\",\n",
    "            \"IOT\": \"GBR\",\n",
    "            \"NIU\": \"NZL\",\n",
    "            \"SHN\": \"GBR\",\n",
    "            \"SJM\": \"NOR\",\n",
    "            \"UMI\": \"USA\",\n",
    "            \"NCL\": \"FRA\",\n",
    "        }\n",
    "    }\n",
    ")\n",
    "\n",
    "protectedseas_merge = protected_seas_table.pipe(separate_parent_iso, iso_column=\"iso\").replace(\n",
    "    {\n",
    "        \"iso\": {\n",
    "            \"COK\": \"NZL\",\n",
    "            \"IOT\": \"GBR\",\n",
    "            \"NIU\": \"NZL\",\n",
    "            \"SHN\": \"GBR\",\n",
    "            \"SJM\": \"NOR\",\n",
    "            \"UMI\": \"USA\",\n",
    "            \"NCL\": \"FRA\",\n",
    "        }\n",
    "    }\n",
    ")\n",
    "\n",
    "Final = (\n",
    "    test4_final.assign(mpa=test4_final.index)\n",
    "    .merge(\n",
    "        mpa_atlas_merge[[\"establishm\", \"wdpa_id\", \"protection\", \"area_km2\"]],\n",
    "        left_on=\"wdpaid\",\n",
    "        right_on=\"wdpa_id\",\n",
    "        how=\"left\",\n",
    "    )\n",
    "    .merge(\n",
    "        protectedseas_merge[[\"site_id\", \"wdpa_id\", \"area_km2\", \"FPS_cat\"]],\n",
    "        left_on=\"wdpaid\",\n",
    "        right_on=\"wdpa_id\",\n",
    "        how=\"left\",\n",
    "    )\n",
    "    .pipe(set_area)\n",
    "    .pipe(filter_location)\n",
    "    .drop_duplicates()\n",
    "    .reset_index(drop=True)\n",
    ")\n",
    "Final[[\"area_km2_x\", \"area_km2_y\", \"area\"]].bfill(axis=1)\n",
    "\n",
    "Final_output = Final.pipe(\n",
    "    output,\n",
    "    iso_column=None,\n",
    "    rep_d={\n",
    "        \"protection\": {\n",
    "            \"full\": 3,\n",
    "            \"light\": 4,\n",
    "            \"incompatible\": 5,\n",
    "            \"high\": 6,\n",
    "            \"minimal\": 7,\n",
    "            \"unknown\": 8,\n",
    "            \"unknown/to be determined\": 8,\n",
    "        },\n",
    "        \"FPS_cat\": {\n",
    "            \"highly\": 1,\n",
    "            \"moderately\": 2,\n",
    "            \"less\": 3,\n",
    "        },\n",
    "        \"establishm\": {\n",
    "            \"actively managed\": 4,\n",
    "            \"implemented\": 6,\n",
    "            \"designated\": 5,\n",
    "            \"proposed or committed\": 3,\n",
    "        },\n",
    "    },\n",
    "    rename={\n",
    "        \"establishm\": \"mpaa_establishment_stage\",\n",
    "        \"protection\": \"mpaa_protection_level\",\n",
    "        \"FPS_cat\": \"fishing_protection_level\",\n",
    "    },\n",
    "    drop_cols=[\n",
    "        \"wdpaid\",\n",
    "        \"wdpa_id_x\",\n",
    "        \"wdpa_id_y\",\n",
    "        \"area_km2_x\",\n",
    "        \"area_km2_y\",\n",
    "        \"protection_status\",\n",
    "        \"name\",\n",
    "        \"site_id\",\n",
    "        \"year\",\n",
    "        \"area\",\n",
    "    ],\n",
    ").rename(columns={\"area_km2\": \"area\"})\n",
    "\n",
    "batch_export(Final_output, 5000, MPAsTableStatsSchema, mpa_folder, \"mpa_join_mpatlas_prot\")"
   ]
  },
  {
   "cell_type": "markdown",
   "metadata": {},
   "source": [
    "#### upload data to strapi"
   ]
  },
  {
   "cell_type": "code",
   "execution_count": null,
   "metadata": {},
   "outputs": [],
   "source": [
    "strapi.deleteCollectionData(\"mpa\", list(range(1, 18914)))"
   ]
  },
  {
   "cell_type": "code",
   "execution_count": null,
   "metadata": {},
   "outputs": [],
   "source": [
    "strapi.importCollectionData(\n",
    "    strapi_collection_mpas,\n",
    "    output_file,\n",
    ")"
   ]
  }
 ],
 "metadata": {
  "kernelspec": {
   "display_name": "Python 3 (ipykernel)",
   "language": "python",
   "name": "python3"
  },
  "language_info": {
   "codemirror_mode": {
    "name": "ipython",
    "version": 3
   },
   "file_extension": ".py",
   "mimetype": "text/x-python",
   "name": "python",
   "nbconvert_exporter": "python",
   "pygments_lexer": "ipython3",
   "version": "3.12.4"
  }
 },
 "nbformat": 4,
 "nbformat_minor": 2
}
