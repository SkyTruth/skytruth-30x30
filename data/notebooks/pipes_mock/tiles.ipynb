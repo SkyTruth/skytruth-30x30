{
 "cells": [
  {
   "cell_type": "code",
   "execution_count": 2,
   "metadata": {},
   "outputs": [],
   "source": [
    "%load_ext autoreload\n",
    "%autoreload 2"
   ]
  },
  {
   "cell_type": "code",
   "execution_count": 3,
   "metadata": {},
   "outputs": [],
   "source": [
    "from pathlib import Path\n",
    "import sys\n",
    "import geopandas as gpd\n",
    "import pandas as pd\n",
    "\n",
    "\n",
    "scripts_dir = Path(\"../..\").joinpath(\"src\")\n",
    "if scripts_dir not in sys.path:\n",
    "    sys.path.insert(0, scripts_dir.resolve().as_posix())\n",
    "from helpers.mapshaper import Mapshaper\n",
    "from helpers.tippcanoe import mbtileGeneration\n",
    "from helpers.mapbox_uploader import uploadToMapbox\n",
    "from helpers.settings import get_settings\n",
    "from helpers.file_handler import FileConventionHandler\n",
    "from helpers.utils import download_and_unzip_if_needed, writeReadGCP\n",
    "\n",
    "from data_commons.loader import load_regions"
   ]
  },
  {
   "cell_type": "code",
   "execution_count": 4,
   "metadata": {},
   "outputs": [],
   "source": [
    "mysettings = get_settings()\n",
    "prev_step = \"preprocess\"\n",
    "current_step = \"tiles\""
   ]
  },
  {
   "cell_type": "markdown",
   "metadata": {},
   "source": [
    "### EEZs: Exclusive Economic Zones "
   ]
  },
  {
   "cell_type": "code",
   "execution_count": 5,
   "metadata": {},
   "outputs": [
    {
     "name": "stdout",
     "output_type": "stream",
     "text": [
      "/home/mambauser/data/eez/processed/eez_preprocess.zip\n",
      "/home/mambauser/data/eez/processed/preprocess\n"
     ]
    },
    {
     "name": "stderr",
     "output_type": "stream",
     "text": [
      "Allocating 8 GB of heap memory\n",
      "[o] Wrote /home/mambauser/data/eez/processed/tiles/eez_tiles.json\n"
     ]
    },
    {
     "data": {
      "text/plain": [
       "PosixPath('/home/mambauser/data/eez/processed/tiles/eez_v11.mbtiles')"
      ]
     },
     "execution_count": 5,
     "metadata": {},
     "output_type": "execute_result"
    }
   ],
   "source": [
    "pipe = \"eez\"\n",
    "collection_name = f\"{pipe}_v11\"\n",
    "\n",
    "eez_dir = FileConventionHandler(pipe)\n",
    "# Download the EEZ file && unzip it\n",
    "download_and_unzip_if_needed(eez_dir, prev_step, mysettings)\n",
    "\n",
    "# simplify the geometries\n",
    "Mapshaper(8).input([eez_dir.get_step_fmt_file_path(prev_step, \"shp\").as_posix()]).filter_fields(\n",
    "    fields=\",\".join([\"GEONAME\", \"POL_TYPE\", \"ISO_SOV1\", \"ISO_SOV2\", \"ISO_SOV3\"])\n",
    ").output(\n",
    "    eez_dir.get_step_fmt_file_path(current_step, \"json\").as_posix(), force=True, format=\"geojson\"\n",
    ").execute()\n",
    "mbtileGeneration(\n",
    "    eez_dir.get_step_fmt_file_path(current_step, \"json\"),\n",
    "    eez_dir.get_processed_step_path(current_step).joinpath(f\"{collection_name}.mbtiles\"),\n",
    ")"
   ]
  },
  {
   "cell_type": "code",
   "execution_count": null,
   "metadata": {},
   "outputs": [],
   "source": [
    "uploadToMapbox(\n",
    "    eez_dir.get_processed_step_path(current_step).joinpath(f\"{collection_name}.mbtiles\"),\n",
    "    collection_name,\n",
    "    mysettings.MAPBOX_USER,\n",
    "    mysettings.MAPBOX_TOKEN,\n",
    ")"
   ]
  },
  {
   "cell_type": "markdown",
   "metadata": {},
   "source": [
    "#### EEZs: wdpa Regions"
   ]
  },
  {
   "cell_type": "code",
   "execution_count": 29,
   "metadata": {},
   "outputs": [],
   "source": [
    "collection_name = \"regions\"\n",
    "\n",
    "# load the EEZ file & the regions file\n",
    "eez_data = gpd.read_file(eez_dir.get_step_fmt_file_path(prev_step, \"shp\").as_posix())\n",
    "regions_df = pd.DataFrame(\n",
    "    [\n",
    "        {\"region_id\": data[\"region_iso\"], \"location_id\": iso}\n",
    "        for data in load_regions().get(\"data\", [])\n",
    "        for iso in data[\"country_iso_3s\"]\n",
    "    ]\n",
    ")\n",
    "\n",
    "# merge the two files\n",
    "gpd.GeoDataFrame(\n",
    "    pd.merge(\n",
    "        eez_data,\n",
    "        regions_df,\n",
    "        how=\"left\",\n",
    "        left_on=\"ISO_SOV1\",\n",
    "        right_on=\"location_id\",\n",
    "        sort=True,\n",
    "        copy=True,\n",
    "    ),\n",
    "    crs=eez_data.crs,\n",
    ").to_file(\n",
    "    filename=eez_dir.get_processed_step_path(prev_step)\n",
    "    .joinpath(f\"{pipe}_{prev_step}_{collection_name}.shp\")\n",
    "    .as_posix(),\n",
    "    driver=\"ESRI Shapefile\",\n",
    ")\n",
    "\n",
    "# dissolve by region_id\n",
    "\n",
    "Mapshaper(16).input(\n",
    "    [\n",
    "        eez_dir.get_processed_step_path(prev_step)\n",
    "        .joinpath(f\"{pipe}_{prev_step}_{collection_name}.shp\")\n",
    "        .as_posix()\n",
    "    ]\n",
    ").dissolve2(fields=\"region_id\").output(\n",
    "    eez_dir.get_processed_step_path(current_step).joinpath(f\"{collection_name}.json\").as_posix(),\n",
    "    force=True,\n",
    "    format=\"geojson\",\n",
    ").execute()\n",
    "\n",
    "# generate the mbtiles\n",
    "mbtileGeneration(eez_dir.get_processed_step_path(current_step).joinpath(f\"{collection_name}.json\"))"
   ]
  },
  {
   "cell_type": "code",
   "execution_count": 34,
   "metadata": {},
   "outputs": [
    {
     "name": "stdout",
     "output_type": "stream",
     "text": [
      "upload: ../../data/eez/processed/tiles/regions.mbtiles to s3://tilestream-tilesets-production/97/_pending/ojc7oxn5cpu10yo0o9tsl1xlc/skytruth\n"
     ]
    },
    {
     "name": "stderr",
     "output_type": "stream",
     "text": [
      "Linking tileset to Mapbox: 100%|██████████| 100/100 [03:00<00:00,  1.81s/it]\n"
     ]
    },
    {
     "data": {
      "text/plain": [
       "True"
      ]
     },
     "execution_count": 34,
     "metadata": {},
     "output_type": "execute_result"
    }
   ],
   "source": [
    "uploadToMapbox(\n",
    "    eez_dir.get_processed_step_path(current_step).joinpath(f\"{collection_name}.mbtiles\"),\n",
    "    collection_name,\n",
    "    mysettings.MAPBOX_USER,\n",
    "    mysettings.MAPBOX_TOKEN,\n",
    ")"
   ]
  },
  {
   "cell_type": "markdown",
   "metadata": {},
   "source": [
    "### MPAs: Marine Protected Areas from WDPA"
   ]
  },
  {
   "cell_type": "code",
   "execution_count": 35,
   "metadata": {},
   "outputs": [],
   "source": [
    "pipe = \"mpa\"\n",
    "collection_name = \"mpas_wdpa\"\n",
    "\n",
    "source_dir = FileConventionHandler(pipe)\n",
    "\n",
    "# Download the EEZ file && unzip it\n",
    "download_and_unzip_if_needed(source_dir, prev_step, mysettings)\n",
    "\n",
    "# simplify the geometries\n",
    "Mapshaper(16).input([source_dir.get_step_fmt_file_path(prev_step, \"shp\").as_posix()]).filter_fields(\n",
    "    fields=\"WDPAID,NAME,PA_DEF,GIS_M_AREA,PARENT_ISO\"\n",
    ").clean(allow_overlaps=True, rewind=True).simplify(\"dp 10% keep-shapes planar\").clean(\n",
    "    allow_overlaps=True\n",
    ").output(\n",
    "    source_dir.get_step_fmt_file_path(current_step, \"json\").as_posix(), force=True, format=\"geojson\"\n",
    ").execute()\n",
    "\n",
    "# generate the mbtiles\n",
    "mbtileGeneration(source_dir.get_step_fmt_file_path(current_step, \"json\"))"
   ]
  },
  {
   "cell_type": "code",
   "execution_count": null,
   "metadata": {},
   "outputs": [],
   "source": [
    "uploadToMapbox(\n",
    "    source_dir.get_step_fmt_file_path(current_step, \"mbtiles\"),\n",
    "    collection_name,\n",
    "    mysettings.MAPBOX_USER,\n",
    "    mysettings.MAPBOX_TOKEN,\n",
    ")"
   ]
  },
  {
   "cell_type": "markdown",
   "metadata": {},
   "source": [
    "### MPA Atlas "
   ]
  },
  {
   "cell_type": "code",
   "execution_count": 45,
   "metadata": {},
   "outputs": [],
   "source": [
    "pipe = \"mpaatlas\"\n",
    "collection_name = \"mpa_atlas\"\n",
    "\n",
    "source_dir = FileConventionHandler(pipe)\n",
    "# Download the data file && unzip it if needed\n",
    "download_and_unzip_if_needed(source_dir, prev_step, mysettings)\n",
    "\n",
    "# generate the mbtiles\n",
    "mbtileGeneration(\n",
    "    source_dir.get_step_fmt_file_path(prev_step, \"shp\"),\n",
    "    source_dir.get_step_fmt_file_path(current_step, \"mbtiles\"),\n",
    ")"
   ]
  },
  {
   "cell_type": "code",
   "execution_count": null,
   "metadata": {},
   "outputs": [],
   "source": [
    "uploadToMapbox(\n",
    "    source_dir.get_step_fmt_file_path(current_step, \"mbtiles\"),\n",
    "    collection_name,\n",
    "    mysettings.MAPBOX_USER,\n",
    "    mysettings.MAPBOX_TOKEN,\n",
    ")"
   ]
  },
  {
   "cell_type": "markdown",
   "metadata": {},
   "source": [
    "### Protected seas"
   ]
  },
  {
   "cell_type": "code",
   "execution_count": 37,
   "metadata": {},
   "outputs": [],
   "source": [
    "pipe = \"protectedseas\"\n",
    "collection_name = \"protected_seas\"\n",
    "\n",
    "pipe_dir = FileConventionHandler(pipe)\n",
    "input_file = pipe_dir.get_processed_step_path(prev_step).joinpath(\"ProtectedSeas_20240716.geojson\")\n",
    "output_file = pipe_dir.get_processed_step_path(current_step).joinpath(\"protectedseas_tiles.mbtiles\")\n",
    "\n",
    "\n",
    "# Download the protected seas file && unzip it\n",
    "writeReadGCP(\n",
    "    credentials=mysettings.GCS_KEYFILE_JSON,\n",
    "    bucket_name=mysettings.GCS_BUCKET,\n",
    "    blob_name=\"ProtectedSeas/ProtectedSeas_20240716.geojson\",\n",
    "    file=input_file,\n",
    "    operation=\"r\",\n",
    ")\n",
    "\n",
    "# Load the data\n",
    "protectedseas_layer = gpd.read_file(input_file)"
   ]
  },
  {
   "cell_type": "code",
   "execution_count": 38,
   "metadata": {},
   "outputs": [
    {
     "name": "stderr",
     "output_type": "stream",
     "text": [
      "Allocating 16 GB of heap memory\n",
      "[clean] Retained 6,741 of 6,741 features\n",
      "[simplify] Repaired 5,240 intersections; 629 intersections could not be repaired\n",
      "[clean] Retained 6,741 of 6,741 features\n",
      "[o] Wrote /home/mambauser/data/protectedseas/processed/preprocess/ProtectedSeas_20240716.geojson\n"
     ]
    },
    {
     "data": {
      "text/plain": [
       "CompletedProcess(args='mapshaper-xl 16gb -i /home/mambauser/data/protectedseas/processed/preprocess/ProtectedSeas_20240716.geojson  -clean allow-overlaps rewind -simplify dp 10% keep-shapes planar -clean allow-overlaps -o /home/mambauser/data/protectedseas/processed/preprocess/ProtectedSeas_20240716.geojson force format=geojson', returncode=0)"
      ]
     },
     "execution_count": 38,
     "metadata": {},
     "output_type": "execute_result"
    }
   ],
   "source": [
    "# simplify the geometries\n",
    "Mapshaper(16).input([input_file.as_posix()]).clean(\n",
    "    allow_overlaps=True, rewind=True\n",
    ").simplify(\"dp 10% keep-shapes planar\").clean(allow_overlaps=True).output(\n",
    "    input_file.as_posix(),\n",
    "    force=True,\n",
    "    format=\"geojson\",\n",
    ").execute()"
   ]
  },
  {
   "cell_type": "code",
   "execution_count": 39,
   "metadata": {},
   "outputs": [
    {
     "data": {
      "text/plain": [
       "PosixPath('/home/mambauser/data/protectedseas/processed/tiles/protectedseas_tiles.mbtiles')"
      ]
     },
     "execution_count": 39,
     "metadata": {},
     "output_type": "execute_result"
    }
   ],
   "source": [
    "mbtileGeneration(input_file, output_file)"
   ]
  },
  {
   "cell_type": "code",
   "execution_count": 41,
   "metadata": {},
   "outputs": [
    {
     "name": "stderr",
     "output_type": "stream",
     "text": [
      "rosetta error: failed to open elf at /lib64/ld-linux-x86-64.so.2\n",
      " Trace/breakpoint trap\n"
     ]
    },
    {
     "ename": "CalledProcessError",
     "evalue": "Command 'aws s3 cp /home/mambauser/data/protectedseas/processed/tiles/protectedseas_tiles.mbtiles s3://tilestream-tilesets-production/71/_pending/lxene85xrno1vgk2b6c6350mc/skytruth --region us-east-1' returned non-zero exit status 133.",
     "output_type": "error",
     "traceback": [
      "\u001b[0;31m---------------------------------------------------------------------------\u001b[0m",
      "\u001b[0;31mCalledProcessError\u001b[0m                        Traceback (most recent call last)",
      "Cell \u001b[0;32mIn[41], line 1\u001b[0m\n\u001b[0;32m----> 1\u001b[0m \u001b[43muploadToMapbox\u001b[49m\u001b[43m(\u001b[49m\n\u001b[1;32m      2\u001b[0m \u001b[43m    \u001b[49m\u001b[43moutput_file\u001b[49m\u001b[43m,\u001b[49m\n\u001b[1;32m      3\u001b[0m \u001b[43m    \u001b[49m\u001b[38;5;124;43m\"\u001b[39;49m\u001b[38;5;124;43mprotected_seas\u001b[39;49m\u001b[38;5;124;43m\"\u001b[39;49m\u001b[43m,\u001b[49m\n\u001b[1;32m      4\u001b[0m \u001b[43m    \u001b[49m\u001b[43mmysettings\u001b[49m\u001b[38;5;241;43m.\u001b[39;49m\u001b[43mMAPBOX_USER\u001b[49m\u001b[43m,\u001b[49m\n\u001b[1;32m      5\u001b[0m \u001b[43m    \u001b[49m\u001b[43mmysettings\u001b[49m\u001b[38;5;241;43m.\u001b[39;49m\u001b[43mMAPBOX_TOKEN\u001b[49m\u001b[43m,\u001b[49m\n\u001b[1;32m      6\u001b[0m \u001b[43m)\u001b[49m\n",
      "File \u001b[0;32m~/src/helpers/mapbox_uploader.py:21\u001b[0m, in \u001b[0;36muploadToMapbox\u001b[0;34m(source, display_name, username, token)\u001b[0m\n\u001b[1;32m     18\u001b[0m tileset_name \u001b[38;5;241m=\u001b[39m source\u001b[38;5;241m.\u001b[39mstem\n\u001b[1;32m     19\u001b[0m mapboxCredentials \u001b[38;5;241m=\u001b[39m getS3Credentials(username, token)\n\u001b[0;32m---> 21\u001b[0m upload_status \u001b[38;5;241m=\u001b[39m \u001b[43muploadToS3\u001b[49m\u001b[43m(\u001b[49m\u001b[43msource\u001b[49m\u001b[43m,\u001b[49m\u001b[43m \u001b[49m\u001b[43mmapboxCredentials\u001b[49m\u001b[43m)\u001b[49m\n\u001b[1;32m     22\u001b[0m logger\u001b[38;5;241m.\u001b[39minfo(upload_status)\n\u001b[1;32m     23\u001b[0m result \u001b[38;5;241m=\u001b[39m linkToMapbox(\n\u001b[1;32m     24\u001b[0m     username, token, mapboxCredentials, tileset_name, display_name\n\u001b[1;32m     25\u001b[0m )\n",
      "File \u001b[0;32m~/src/helpers/mapbox_uploader.py:51\u001b[0m, in \u001b[0;36muploadToS3\u001b[0;34m(source, credentials)\u001b[0m\n\u001b[1;32m     49\u001b[0m logger\u001b[38;5;241m.\u001b[39minfo(\u001b[38;5;124m\"\u001b[39m\u001b[38;5;124mUploading to S3...\u001b[39m\u001b[38;5;124m\"\u001b[39m)\n\u001b[1;32m     50\u001b[0m setS3Credentials(credentials)\n\u001b[0;32m---> 51\u001b[0m status \u001b[38;5;241m=\u001b[39m \u001b[43msubprocess\u001b[49m\u001b[38;5;241;43m.\u001b[39;49m\u001b[43mrun\u001b[49m\u001b[43m(\u001b[49m\n\u001b[1;32m     52\u001b[0m \u001b[43m    \u001b[49m\u001b[38;5;124;43mf\u001b[39;49m\u001b[38;5;124;43m\"\u001b[39;49m\u001b[38;5;124;43maws s3 cp \u001b[39;49m\u001b[38;5;132;43;01m{\u001b[39;49;00m\u001b[43msource\u001b[49m\u001b[38;5;132;43;01m}\u001b[39;49;00m\u001b[38;5;124;43m s3://\u001b[39;49m\u001b[38;5;132;43;01m{\u001b[39;49;00m\u001b[43mcredentials\u001b[49m\u001b[43m[\u001b[49m\u001b[38;5;124;43m'\u001b[39;49m\u001b[38;5;124;43mbucket\u001b[39;49m\u001b[38;5;124;43m'\u001b[39;49m\u001b[43m]\u001b[49m\u001b[38;5;132;43;01m}\u001b[39;49;00m\u001b[38;5;124;43m/\u001b[39;49m\u001b[38;5;132;43;01m{\u001b[39;49;00m\u001b[43mcredentials\u001b[49m\u001b[43m[\u001b[49m\u001b[38;5;124;43m'\u001b[39;49m\u001b[38;5;124;43mkey\u001b[39;49m\u001b[38;5;124;43m'\u001b[39;49m\u001b[43m]\u001b[49m\u001b[38;5;132;43;01m}\u001b[39;49;00m\u001b[38;5;124;43m --region us-east-1\u001b[39;49m\u001b[38;5;124;43m\"\u001b[39;49m\u001b[43m,\u001b[49m\n\u001b[1;32m     53\u001b[0m \u001b[43m    \u001b[49m\u001b[43mshell\u001b[49m\u001b[38;5;241;43m=\u001b[39;49m\u001b[38;5;28;43;01mTrue\u001b[39;49;00m\u001b[43m,\u001b[49m\n\u001b[1;32m     54\u001b[0m \u001b[43m    \u001b[49m\u001b[43mcheck\u001b[49m\u001b[38;5;241;43m=\u001b[39;49m\u001b[38;5;28;43;01mTrue\u001b[39;49;00m\u001b[43m,\u001b[49m\n\u001b[1;32m     55\u001b[0m \u001b[43m\u001b[49m\u001b[43m)\u001b[49m\n\u001b[1;32m     57\u001b[0m \u001b[38;5;28;01mif\u001b[39;00m status\u001b[38;5;241m.\u001b[39mreturncode \u001b[38;5;241m!=\u001b[39m \u001b[38;5;241m0\u001b[39m:\n\u001b[1;32m     58\u001b[0m     \u001b[38;5;28;01mraise\u001b[39;00m \u001b[38;5;167;01mException\u001b[39;00m(\u001b[38;5;124mf\u001b[39m\u001b[38;5;124m\"\u001b[39m\u001b[38;5;124mUpload to S3 failed with status \u001b[39m\u001b[38;5;132;01m{\u001b[39;00mstatus\u001b[38;5;241m.\u001b[39mreturncode\u001b[38;5;132;01m}\u001b[39;00m\u001b[38;5;124m\"\u001b[39m)\n",
      "File \u001b[0;32m/opt/conda/lib/python3.12/subprocess.py:571\u001b[0m, in \u001b[0;36mrun\u001b[0;34m(input, capture_output, timeout, check, *popenargs, **kwargs)\u001b[0m\n\u001b[1;32m    569\u001b[0m     retcode \u001b[38;5;241m=\u001b[39m process\u001b[38;5;241m.\u001b[39mpoll()\n\u001b[1;32m    570\u001b[0m     \u001b[38;5;28;01mif\u001b[39;00m check \u001b[38;5;129;01mand\u001b[39;00m retcode:\n\u001b[0;32m--> 571\u001b[0m         \u001b[38;5;28;01mraise\u001b[39;00m CalledProcessError(retcode, process\u001b[38;5;241m.\u001b[39margs,\n\u001b[1;32m    572\u001b[0m                                  output\u001b[38;5;241m=\u001b[39mstdout, stderr\u001b[38;5;241m=\u001b[39mstderr)\n\u001b[1;32m    573\u001b[0m \u001b[38;5;28;01mreturn\u001b[39;00m CompletedProcess(process\u001b[38;5;241m.\u001b[39margs, retcode, stdout, stderr)\n",
      "\u001b[0;31mCalledProcessError\u001b[0m: Command 'aws s3 cp /home/mambauser/data/protectedseas/processed/tiles/protectedseas_tiles.mbtiles s3://tilestream-tilesets-production/71/_pending/lxene85xrno1vgk2b6c6350mc/skytruth --region us-east-1' returned non-zero exit status 133."
     ]
    }
   ],
   "source": [
    "uploadToMapbox(\n",
    "    output_file,\n",
    "    \"protected_seas\",\n",
    "    mysettings.MAPBOX_USER,\n",
    "    mysettings.MAPBOX_TOKEN,\n",
    ")"
   ]
  },
  {
   "cell_type": "markdown",
   "metadata": {},
   "source": [
    "### Habitat layers"
   ]
  },
  {
   "cell_type": "code",
   "execution_count": null,
   "metadata": {},
   "outputs": [],
   "source": [
    "# TODO: Add all the habitats layer processing\n",
    "habitat = mysettings.DATA_DIR.joinpath(\"habitat_intermediate\", \"layer\").resolve()"
   ]
  },
  {
   "cell_type": "markdown",
   "metadata": {},
   "source": [
    "#### Warm water corals"
   ]
  },
  {
   "cell_type": "code",
   "execution_count": null,
   "metadata": {},
   "outputs": [],
   "source": [
    "warm_water_corals = habitat.joinpath(\"warm_water_corals.mbtiles\").resolve()"
   ]
  },
  {
   "cell_type": "code",
   "execution_count": null,
   "metadata": {},
   "outputs": [],
   "source": [
    "uploadToMapbox(\n",
    "    warm_water_corals,\n",
    "    \"warm_water_corals\",\n",
    "    mysettings.MAPBOX_USER,\n",
    "    mysettings.MAPBOX_TOKEN,\n",
    ")"
   ]
  },
  {
   "cell_type": "markdown",
   "metadata": {},
   "source": [
    "### Contextual layers"
   ]
  },
  {
   "cell_type": "code",
   "execution_count": null,
   "metadata": {},
   "outputs": [],
   "source": [
    "# Todo: we need to add the contextual layers upload here"
   ]
  }
 ],
 "metadata": {
  "kernelspec": {
   "display_name": "Python 3 (ipykernel)",
   "language": "python",
   "name": "python3"
  },
  "language_info": {
   "codemirror_mode": {
    "name": "ipython",
    "version": 3
   },
   "file_extension": ".py",
   "mimetype": "text/x-python",
   "name": "python",
   "nbconvert_exporter": "python",
   "pygments_lexer": "ipython3",
   "version": "3.12.5"
  }
 },
 "nbformat": 4,
 "nbformat_minor": 2
}
