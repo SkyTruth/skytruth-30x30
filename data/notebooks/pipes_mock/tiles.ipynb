{
 "cells": [
  {
   "cell_type": "code",
   "execution_count": 1,
   "metadata": {},
   "outputs": [],
   "source": [
    "%load_ext autoreload\n",
    "%autoreload 2"
   ]
  },
  {
   "cell_type": "code",
   "execution_count": 2,
   "metadata": {},
   "outputs": [],
   "source": [
    "from pathlib import Path\n",
    "import sys\n",
    "import geopandas as gpd\n",
    "import pandas as pd\n",
    "\n",
    "\n",
    "scripts_dir = Path(\"../..\").joinpath(\"src\")\n",
    "if scripts_dir not in sys.path:\n",
    "    sys.path.insert(0, scripts_dir.resolve().as_posix())\n",
    "from helpers.mapshaper import Mapshaper\n",
    "from helpers.tippcanoe import mbtileGeneration\n",
    "from helpers.mapbox_uploader import uploadToMapbox\n",
    "from helpers.settings import get_settings\n",
    "from helpers.file_handler import FileConventionHandler\n",
    "from helpers.utils import download_and_unzip_if_needed\n",
    "\n",
    "from data_commons.loader import load_regions"
   ]
  },
  {
   "cell_type": "code",
   "execution_count": 3,
   "metadata": {},
   "outputs": [],
   "source": [
    "mysettings = get_settings()\n",
    "prev_step = \"preprocess\"\n",
    "current_step = \"tiles\""
   ]
  },
  {
   "cell_type": "markdown",
   "metadata": {
    "jp-MarkdownHeadingCollapsed": true
   },
   "source": [
    "### EEZs: Exclusive Economic Zones "
   ]
  },
  {
   "cell_type": "code",
   "execution_count": 5,
   "metadata": {},
   "outputs": [
    {
     "name": "stdout",
     "output_type": "stream",
     "text": [
      "/home/mambauser/data/eez/processed/eez_preprocess.zip\n",
      "/home/mambauser/data/eez/processed/preprocess\n"
     ]
    },
    {
     "name": "stderr",
     "output_type": "stream",
     "text": [
      "Allocating 8 GB of heap memory\n",
      "[o] Wrote /home/mambauser/data/eez/processed/tiles/eez_tiles.json\n"
     ]
    },
    {
     "data": {
      "text/plain": [
       "PosixPath('/home/mambauser/data/eez/processed/tiles/eez_v11.mbtiles')"
      ]
     },
     "execution_count": 5,
     "metadata": {},
     "output_type": "execute_result"
    }
   ],
   "source": [
    "pipe = \"eez\"\n",
    "collection_name = f\"{pipe}_v11\"\n",
    "\n",
    "eez_dir = FileConventionHandler(pipe)\n",
    "# Download the EEZ file && unzip it\n",
    "download_and_unzip_if_needed(eez_dir, prev_step, mysettings)\n",
    "\n",
    "# simplify the geometries\n",
    "Mapshaper(8).input([eez_dir.get_step_fmt_file_path(prev_step, \"shp\").as_posix()]).filter_fields(\n",
    "    fields=\",\".join([\"GEONAME\", \"POL_TYPE\", \"ISO_SOV1\", \"ISO_SOV2\", \"ISO_SOV3\"])\n",
    ").output(\n",
    "    eez_dir.get_step_fmt_file_path(current_step, \"json\").as_posix(), force=True, format=\"geojson\"\n",
    ").execute()\n",
    "mbtileGeneration(\n",
    "    eez_dir.get_step_fmt_file_path(current_step, \"json\"),\n",
    "    eez_dir.get_processed_step_path(current_step).joinpath(f\"{collection_name}.mbtiles\"),\n",
    ")"
   ]
  },
  {
   "cell_type": "code",
   "execution_count": null,
   "metadata": {},
   "outputs": [],
   "source": [
    "uploadToMapbox(\n",
    "    eez_dir.get_processed_step_path(current_step).joinpath(f\"{collection_name}.mbtiles\"),\n",
    "    collection_name,\n",
    "    mysettings.MAPBOX_USER,\n",
    "    mysettings.MAPBOX_TOKEN,\n",
    ")"
   ]
  },
  {
   "cell_type": "markdown",
   "metadata": {},
   "source": [
    "#### EEZs: wdpa Regions"
   ]
  },
  {
   "cell_type": "code",
   "execution_count": 29,
   "metadata": {},
   "outputs": [],
   "source": [
    "collection_name = \"regions\"\n",
    "\n",
    "# load the EEZ file & the regions file\n",
    "eez_data = gpd.read_file(eez_dir.get_step_fmt_file_path(prev_step, \"shp\").as_posix())\n",
    "regions_df = pd.DataFrame(\n",
    "    [\n",
    "        {\"region_id\": data[\"region_iso\"], \"location_id\": iso}\n",
    "        for data in load_regions().get(\"data\", [])\n",
    "        for iso in data[\"country_iso_3s\"]\n",
    "    ]\n",
    ")\n",
    "\n",
    "# merge the two files\n",
    "gpd.GeoDataFrame(\n",
    "    pd.merge(\n",
    "        eez_data,\n",
    "        regions_df,\n",
    "        how=\"left\",\n",
    "        left_on=\"ISO_SOV1\",\n",
    "        right_on=\"location_id\",\n",
    "        sort=True,\n",
    "        copy=True,\n",
    "    ),\n",
    "    crs=eez_data.crs,\n",
    ").to_file(\n",
    "    filename=eez_dir.get_processed_step_path(prev_step)\n",
    "    .joinpath(f\"{pipe}_{prev_step}_{collection_name}.shp\")\n",
    "    .as_posix(),\n",
    "    driver=\"ESRI Shapefile\",\n",
    ")\n",
    "\n",
    "# dissolve by region_id\n",
    "\n",
    "Mapshaper(16).input(\n",
    "    [\n",
    "        eez_dir.get_processed_step_path(prev_step)\n",
    "        .joinpath(f\"{pipe}_{prev_step}_{collection_name}.shp\")\n",
    "        .as_posix()\n",
    "    ]\n",
    ").dissolve2(fields=\"region_id\").output(\n",
    "    eez_dir.get_processed_step_path(current_step).joinpath(f\"{collection_name}.json\").as_posix(),\n",
    "    force=True,\n",
    "    format=\"geojson\",\n",
    ").execute()\n",
    "\n",
    "# generate the mbtiles\n",
    "mbtileGeneration(eez_dir.get_processed_step_path(current_step).joinpath(f\"{collection_name}.json\"))"
   ]
  },
  {
   "cell_type": "code",
   "execution_count": 34,
   "metadata": {},
   "outputs": [
    {
     "name": "stdout",
     "output_type": "stream",
     "text": [
      "upload: ../../data/eez/processed/tiles/regions.mbtiles to s3://tilestream-tilesets-production/97/_pending/ojc7oxn5cpu10yo0o9tsl1xlc/skytruth\n"
     ]
    },
    {
     "name": "stderr",
     "output_type": "stream",
     "text": [
      "Linking tileset to Mapbox: 100%|██████████| 100/100 [03:00<00:00,  1.81s/it]\n"
     ]
    },
    {
     "data": {
      "text/plain": [
       "True"
      ]
     },
     "execution_count": 34,
     "metadata": {},
     "output_type": "execute_result"
    }
   ],
   "source": [
    "uploadToMapbox(\n",
    "    eez_dir.get_processed_step_path(current_step).joinpath(f\"{collection_name}.mbtiles\"),\n",
    "    collection_name,\n",
    "    mysettings.MAPBOX_USER,\n",
    "    mysettings.MAPBOX_TOKEN,\n",
    ")"
   ]
  },
  {
   "cell_type": "markdown",
   "metadata": {
    "jp-MarkdownHeadingCollapsed": true
   },
   "source": [
    "### MPAs: Marine Protected Areas from WDPA"
   ]
  },
  {
   "cell_type": "code",
   "execution_count": 9,
   "metadata": {},
   "outputs": [
    {
     "name": "stdout",
     "output_type": "stream",
     "text": [
      "/home/mambauser/data/mpa/processed/mpa_preprocess.zip\n",
      "/home/mambauser/data/mpa/processed/preprocess\n"
     ]
    },
    {
     "name": "stderr",
     "output_type": "stream",
     "text": [
      "Allocating 16 GB of heap memory\n",
      "[clean] Retained 19,184 of 19,184 features\n",
      "[simplify] Repaired 277,407 intersections; 443,678 intersections could not be repaired\n",
      "[clean] Retained 19,184 of 19,184 features\n",
      "[o] Wrote /home/mambauser/data/mpa/processed/tiles/mpa_tiles.json\n"
     ]
    },
    {
     "data": {
      "text/plain": [
       "PosixPath('/home/mambauser/data/mpa/processed/tiles/mpa_tiles.mbtiles')"
      ]
     },
     "execution_count": 9,
     "metadata": {},
     "output_type": "execute_result"
    }
   ],
   "source": [
    "pipe = \"mpa\"\n",
    "collection_name = \"mpas_wdpa\"\n",
    "\n",
    "source_dir = FileConventionHandler(pipe)\n",
    "\n",
    "# Download the EEZ file && unzip it\n",
    "download_and_unzip_if_needed(source_dir, prev_step, mysettings)\n",
    "\n",
    "# simplify the geometries\n",
    "Mapshaper(16).input([source_dir.get_step_fmt_file_path(prev_step, \"shp\").as_posix()]).filter_fields(\n",
    "    fields=\"WDPAID,NAME,PA_DEF,GIS_M_AREA,PARENT_ISO\"\n",
    ").clean(allow_overlaps=True, rewind=True).simplify(\"dp 10% keep-shapes planar\").clean(\n",
    "    allow_overlaps=True\n",
    ").output(\n",
    "    source_dir.get_step_fmt_file_path(current_step, \"json\").as_posix(), force=True, format=\"geojson\"\n",
    ").execute()\n",
    "\n",
    "# generate the mbtiles\n",
    "mbtileGeneration(source_dir.get_step_fmt_file_path(current_step, \"json\"))"
   ]
  },
  {
   "cell_type": "code",
   "execution_count": 10,
   "metadata": {},
   "outputs": [
    {
     "name": "stdout",
     "output_type": "stream",
     "text": [
      "upload: ../../data/mpa/processed/tiles/mpa_tiles.mbtiles to s3://tilestream-tilesets-production/de/_pending/yvng0dxxxru12eq9ye80350mc/skytruth\n"
     ]
    },
    {
     "name": "stderr",
     "output_type": "stream",
     "text": [
      "Linking tileset to Mapbox: 100%|██████████| 100/100 [02:34<00:00,  1.54s/it]\n"
     ]
    },
    {
     "data": {
      "text/plain": [
       "True"
      ]
     },
     "execution_count": 10,
     "metadata": {},
     "output_type": "execute_result"
    }
   ],
   "source": [
    "uploadToMapbox(\n",
    "    source_dir.get_step_fmt_file_path(current_step, \"mbtiles\"),\n",
    "    collection_name,\n",
    "    mysettings.MAPBOX_USER,\n",
    "    mysettings.MAPBOX_TOKEN,\n",
    ")"
   ]
  },
  {
   "cell_type": "markdown",
   "metadata": {
    "jp-MarkdownHeadingCollapsed": true
   },
   "source": [
    "### MPA Atlas "
   ]
  },
  {
   "cell_type": "code",
   "execution_count": 7,
   "metadata": {},
   "outputs": [
    {
     "name": "stdout",
     "output_type": "stream",
     "text": [
      "/home/mambauser/data/mpaatlas/processed/mpaatlas_preprocess.zip\n",
      "/home/mambauser/data/mpaatlas/processed/preprocess\n"
     ]
    },
    {
     "name": "stderr",
     "output_type": "stream",
     "text": [
      "Allocating 50 GB of heap memory\n",
      "[clean] Retained 863 of 870 features\n",
      "[o] Wrote /home/mambauser/data/mpaatlas/processed/preprocess/mpaatlas_preprocess.json\n",
      "For layer 0, using name \"mpaatlas_preprocess\"\n",
      "/home/mambauser/data/mpaatlas/processed/preprocess/mpaatlas_preprocess.json:293: Reached EOF without all containers being closed\n",
      "In JSON object {\"type\":\"FeatureCollection\",\"features\":[]}\n",
      "/home/mambauser/data/mpaatlas/processed/preprocess/mpaatlas_preprocess.json:21: Found ] at top level\n",
      "863 features, 33449716 bytes of geometry, 29354 bytes of separate metadata, 53170 bytes of string pool\n",
      "Choosing a maxzoom of -z0 for features about 282844 feet (86211 meters) apart\n",
      "Choosing a maxzoom of -z12 for resolution of about 98 feet (30 meters) within features\n",
      "  99.9%  12/1004/2052  \n"
     ]
    },
    {
     "data": {
      "text/plain": [
       "PosixPath('/home/mambauser/data/mpaatlas/processed/tiles/mpaatlas_tiles.mbtiles')"
      ]
     },
     "execution_count": 7,
     "metadata": {},
     "output_type": "execute_result"
    }
   ],
   "source": [
    "pipe = \"mpaatlas\"\n",
    "collection_name = \"mpa_atlas\"\n",
    "\n",
    "source_dir = FileConventionHandler(pipe)\n",
    "# Download the data file && unzip it if needed\n",
    "download_and_unzip_if_needed(source_dir, prev_step, mysettings)\n",
    "\n",
    "# generate the mbtiles\n",
    "mbtileGeneration(\n",
    "    source_dir.get_step_fmt_file_path(prev_step, \"shp\"),\n",
    "    source_dir.get_step_fmt_file_path(current_step, \"mbtiles\"),\n",
    ")"
   ]
  },
  {
   "cell_type": "code",
   "execution_count": 8,
   "metadata": {},
   "outputs": [
    {
     "name": "stdout",
     "output_type": "stream",
     "text": [
      "upload: ../../data/mpaatlas/processed/tiles/mpaatlas_tiles.mbtiles to s3://tilestream-tilesets-production/32/_pending/4py3xz71znm1h1p9cr1v050mc/skytruth\n"
     ]
    },
    {
     "name": "stderr",
     "output_type": "stream",
     "text": [
      "Linking tileset to Mapbox: 100%|██████████| 100/100 [05:24<00:00,  3.25s/it]\n"
     ]
    },
    {
     "data": {
      "text/plain": [
       "True"
      ]
     },
     "execution_count": 8,
     "metadata": {},
     "output_type": "execute_result"
    }
   ],
   "source": [
    "uploadToMapbox(\n",
    "    source_dir.get_step_fmt_file_path(current_step, \"mbtiles\"),\n",
    "    collection_name,\n",
    "    mysettings.MAPBOX_USER,\n",
    "    mysettings.MAPBOX_TOKEN,\n",
    ")"
   ]
  },
  {
   "cell_type": "markdown",
   "metadata": {},
   "source": [
    "### Protected seas"
   ]
  },
  {
   "cell_type": "code",
   "execution_count": 5,
   "metadata": {},
   "outputs": [
    {
     "data": {
      "text/plain": [
       "PosixPath('/home/mambauser/data/protectedseas/processed/tiles/protectedseas_tiles.mbtiles')"
      ]
     },
     "execution_count": 5,
     "metadata": {},
     "output_type": "execute_result"
    }
   ],
   "source": [
    "pipe = \"protectedseas\"\n",
    "collection_name = \"protected_seas\"\n",
    "\n",
    "source_dir = FileConventionHandler(pipe)\n",
    "\n",
    "# Download the data file && unzip it if needed\n",
    "download_and_unzip_if_needed(source_dir, prev_step, mysettings)\n",
    "\n",
    "# simplify the geometries\n",
    "Mapshaper(16).input([source_dir.get_step_fmt_file_path(prev_step, \"shp\").as_posix()]).clean(\n",
    "    allow_overlaps=True, rewind=True\n",
    ").simplify(\"dp 10% keep-shapes planar\").clean(allow_overlaps=True).output(\n",
    "    source_dir.get_step_fmt_file_path(current_step, \"json\").as_posix(),\n",
    "    force=True,\n",
    "    format=\"geojson\",\n",
    ").execute()\n",
    "\n",
    "# generate the mbtiles\n",
    "mbtileGeneration(source_dir.get_step_fmt_file_path(current_step, \"json\"))"
   ]
  },
  {
   "cell_type": "code",
   "execution_count": 6,
   "metadata": {},
   "outputs": [
    {
     "name": "stdout",
     "output_type": "stream",
     "text": [
      "upload: ../../data/protectedseas/processed/tiles/protectedseas_tiles.mbtiles to s3://tilestream-tilesets-production/82/_pending/yxaktgezrnn1ali2roaf050mc/skytruth\n"
     ]
    },
    {
     "name": "stderr",
     "output_type": "stream",
     "text": [
      "Linking tileset to Mapbox: 100%|██████████| 100/100 [02:50<00:00,  1.70s/it]\n"
     ]
    },
    {
     "data": {
      "text/plain": [
       "True"
      ]
     },
     "execution_count": 6,
     "metadata": {},
     "output_type": "execute_result"
    }
   ],
   "source": [
    "uploadToMapbox(\n",
    "    source_dir.get_step_fmt_file_path(current_step, \"mbtiles\"),\n",
    "    \"protected_seas\",\n",
    "    mysettings.MAPBOX_USER,\n",
    "    mysettings.MAPBOX_TOKEN,\n",
    ")"
   ]
  },
  {
   "cell_type": "markdown",
   "metadata": {},
   "source": [
    "### Habitat layers"
   ]
  },
  {
   "cell_type": "code",
   "execution_count": null,
   "metadata": {},
   "outputs": [],
   "source": [
    "# TODO: Add all the habitats layer processing\n",
    "habitat = mysettings.DATA_DIR.joinpath(\"habitat_intermediate\", \"layer\").resolve()"
   ]
  },
  {
   "cell_type": "markdown",
   "metadata": {},
   "source": [
    "#### Warm water corals"
   ]
  },
  {
   "cell_type": "code",
   "execution_count": null,
   "metadata": {},
   "outputs": [],
   "source": [
    "warm_water_corals = habitat.joinpath(\"warm_water_corals.mbtiles\").resolve()"
   ]
  },
  {
   "cell_type": "code",
   "execution_count": null,
   "metadata": {},
   "outputs": [],
   "source": [
    "uploadToMapbox(\n",
    "    warm_water_corals,\n",
    "    \"warm_water_corals\",\n",
    "    mysettings.MAPBOX_USER,\n",
    "    mysettings.MAPBOX_TOKEN,\n",
    ")"
   ]
  },
  {
   "cell_type": "markdown",
   "metadata": {},
   "source": [
    "### Contextual layers"
   ]
  },
  {
   "cell_type": "code",
   "execution_count": null,
   "metadata": {},
   "outputs": [],
   "source": [
    "# Todo: we need to add the contextual layers upload here"
   ]
  }
 ],
 "metadata": {
  "kernelspec": {
   "display_name": "Python 3 (ipykernel)",
   "language": "python",
   "name": "python3"
  },
  "language_info": {
   "codemirror_mode": {
    "name": "ipython",
    "version": 3
   },
   "file_extension": ".py",
   "mimetype": "text/x-python",
   "name": "python",
   "nbconvert_exporter": "python",
   "pygments_lexer": "ipython3",
   "version": "3.12.5"
  }
 },
 "nbformat": 4,
 "nbformat_minor": 2
}
