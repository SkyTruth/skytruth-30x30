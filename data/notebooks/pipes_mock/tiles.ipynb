{
 "cells": [
  {
   "cell_type": "code",
   "execution_count": 1,
   "metadata": {},
   "outputs": [],
   "source": [
    "%load_ext autoreload\n",
    "%autoreload 2"
   ]
  },
  {
   "cell_type": "code",
   "execution_count": 1,
   "metadata": {},
   "outputs": [],
   "source": [
    "from pathlib import Path\n",
    "import sys\n",
    "import geopandas as gpd\n",
    "import pandas as pd\n",
    "import json\n",
    "import dotenv\n",
    "\n",
    "dotenv.load_dotenv()\n",
    "\n",
    "\n",
    "scripts_dir = Path(\".\").joinpath(\"src\")\n",
    "if scripts_dir not in sys.path:\n",
    "    sys.path.insert(0, scripts_dir.resolve().as_posix())\n",
    "from helpers.mapshaper import Mapshaper\n",
    "from helpers.tippcanoe import mbtileGeneration\n",
    "from helpers.mapbox_uploader import uploadToMapbox\n",
    "from helpers.settings import get_settings\n",
    "from helpers.file_handler import FileConventionHandler\n",
    "from helpers.utils import download_and_unzip_if_needed, writeReadGCP\n",
    "\n",
    "from data_commons.loader import load_regions\n",
    "\n",
    "from pipelines.processors import clean_geometries"
   ]
  },
  {
   "cell_type": "code",
   "execution_count": 2,
   "metadata": {},
   "outputs": [],
   "source": [
    "mysettings = get_settings()\n",
    "prev_step = \"preprocess\"\n",
    "current_step = \"tiles\""
   ]
  },
  {
   "cell_type": "markdown",
   "metadata": {
    "jp-MarkdownHeadingCollapsed": true
   },
   "source": [
    "### EEZs: Exclusive Economic Zones "
   ]
  },
  {
   "cell_type": "code",
   "execution_count": 5,
   "metadata": {},
   "outputs": [
    {
     "name": "stdout",
     "output_type": "stream",
     "text": [
      "/home/mambauser/data/eez/processed/eez_preprocess.zip\n",
      "/home/mambauser/data/eez/processed/preprocess\n"
     ]
    },
    {
     "name": "stderr",
     "output_type": "stream",
     "text": [
      "Allocating 8 GB of heap memory\n",
      "[o] Wrote /home/mambauser/data/eez/processed/tiles/eez_tiles.json\n"
     ]
    },
    {
     "data": {
      "text/plain": [
       "PosixPath('/home/mambauser/data/eez/processed/tiles/eez_v11.mbtiles')"
      ]
     },
     "execution_count": 5,
     "metadata": {},
     "output_type": "execute_result"
    }
   ],
   "source": [
    "pipe = \"eez\"\n",
    "collection_name = f\"{pipe}_v11\"\n",
    "\n",
    "eez_dir = FileConventionHandler(pipe)\n",
    "# Download the EEZ file && unzip it\n",
    "download_and_unzip_if_needed(eez_dir, prev_step, mysettings)\n",
    "\n",
    "# simplify the geometries\n",
    "Mapshaper(8).input([eez_dir.get_step_fmt_file_path(prev_step, \"shp\").as_posix()]).filter_fields(\n",
    "    fields=\",\".join([\"GEONAME\", \"POL_TYPE\", \"ISO_SOV1\", \"ISO_SOV2\", \"ISO_SOV3\"])\n",
    ").output(\n",
    "    eez_dir.get_step_fmt_file_path(current_step, \"json\").as_posix(), force=True, format=\"geojson\"\n",
    ").execute()\n",
    "mbtileGeneration(\n",
    "    eez_dir.get_step_fmt_file_path(current_step, \"json\"),\n",
    "    eez_dir.get_processed_step_path(current_step).joinpath(f\"{collection_name}.mbtiles\"),\n",
    ")"
   ]
  },
  {
   "cell_type": "code",
   "execution_count": null,
   "metadata": {},
   "outputs": [],
   "source": [
    "uploadToMapbox(\n",
    "    eez_dir.get_processed_step_path(current_step).joinpath(f\"{collection_name}.mbtiles\"),\n",
    "    collection_name,\n",
    "    mysettings.MAPBOX_USER,\n",
    "    mysettings.MAPBOX_TOKEN,\n",
    ")"
   ]
  },
  {
   "cell_type": "markdown",
   "metadata": {},
   "source": [
    "#### EEZs: wdpa Regions"
   ]
  },
  {
   "cell_type": "code",
   "execution_count": 21,
   "metadata": {},
   "outputs": [
    {
     "ename": "NameError",
     "evalue": "name 'eez_dir' is not defined",
     "output_type": "error",
     "traceback": [
      "\u001b[0;31m---------------------------------------------------------------------------\u001b[0m",
      "\u001b[0;31mNameError\u001b[0m                                 Traceback (most recent call last)",
      "Cell \u001b[0;32mIn[21], line 4\u001b[0m\n\u001b[1;32m      1\u001b[0m collection_name \u001b[38;5;241m=\u001b[39m \u001b[38;5;124m\"\u001b[39m\u001b[38;5;124mregions\u001b[39m\u001b[38;5;124m\"\u001b[39m\n\u001b[1;32m      3\u001b[0m \u001b[38;5;66;03m# load the EEZ file & the regions file\u001b[39;00m\n\u001b[0;32m----> 4\u001b[0m eez_data \u001b[38;5;241m=\u001b[39m gpd\u001b[38;5;241m.\u001b[39mread_file(\u001b[43meez_dir\u001b[49m\u001b[38;5;241m.\u001b[39mget_step_fmt_file_path(prev_step, \u001b[38;5;124m\"\u001b[39m\u001b[38;5;124mshp\u001b[39m\u001b[38;5;124m\"\u001b[39m)\u001b[38;5;241m.\u001b[39mas_posix())\n\u001b[1;32m      5\u001b[0m regions_df \u001b[38;5;241m=\u001b[39m pd\u001b[38;5;241m.\u001b[39mDataFrame(\n\u001b[1;32m      6\u001b[0m     [\n\u001b[1;32m      7\u001b[0m         {\u001b[38;5;124m\"\u001b[39m\u001b[38;5;124mregion_id\u001b[39m\u001b[38;5;124m\"\u001b[39m: data[\u001b[38;5;124m\"\u001b[39m\u001b[38;5;124mregion_iso\u001b[39m\u001b[38;5;124m\"\u001b[39m], \u001b[38;5;124m\"\u001b[39m\u001b[38;5;124mlocation_id\u001b[39m\u001b[38;5;124m\"\u001b[39m: iso}\n\u001b[0;32m   (...)\u001b[0m\n\u001b[1;32m     10\u001b[0m     ]\n\u001b[1;32m     11\u001b[0m )\n\u001b[1;32m     13\u001b[0m \u001b[38;5;66;03m# merge the two files\u001b[39;00m\n",
      "\u001b[0;31mNameError\u001b[0m: name 'eez_dir' is not defined"
     ]
    }
   ],
   "source": [
    "collection_name = \"regions\"\n",
    "\n",
    "# load the EEZ file & the regions file\n",
    "eez_data = gpd.read_file(eez_dir.get_step_fmt_file_path(prev_step, \"shp\").as_posix())\n",
    "regions_df = pd.DataFrame(\n",
    "    [\n",
    "        {\"region_id\": data[\"region_iso\"], \"location_id\": iso}\n",
    "        for data in load_regions().get(\"data\", [])\n",
    "        for iso in data[\"country_iso_3s\"]\n",
    "    ]\n",
    ")\n",
    "\n",
    "# merge the two files\n",
    "gpd.GeoDataFrame(\n",
    "    pd.merge(\n",
    "        eez_data,\n",
    "        regions_df,\n",
    "        how=\"left\",\n",
    "        left_on=\"ISO_SOV1\",\n",
    "        right_on=\"location_id\",\n",
    "        sort=True,\n",
    "        copy=True,\n",
    "    ),\n",
    "    crs=eez_data.crs,\n",
    ").to_file(\n",
    "    filename=eez_dir.get_processed_step_path(prev_step)\n",
    "    .joinpath(f\"{pipe}_{prev_step}_{collection_name}.shp\")\n",
    "    .as_posix(),\n",
    "    driver=\"ESRI Shapefile\",\n",
    ")\n",
    "\n",
    "# dissolve by region_id\n",
    "\n",
    "Mapshaper(16).input(\n",
    "    [\n",
    "        eez_dir.get_processed_step_path(prev_step)\n",
    "        .joinpath(f\"{pipe}_{prev_step}_{collection_name}.shp\")\n",
    "        .as_posix()\n",
    "    ]\n",
    ").dissolve2(fields=\"region_id\").output(\n",
    "    eez_dir.get_processed_step_path(current_step).joinpath(f\"{collection_name}.json\").as_posix(),\n",
    "    force=True,\n",
    "    format=\"geojson\",\n",
    ").execute()\n",
    "\n",
    "# generate the mbtiles\n",
    "mbtileGeneration(eez_dir.get_processed_step_path(current_step).joinpath(f\"{collection_name}.json\"))"
   ]
  },
  {
   "cell_type": "code",
   "execution_count": 34,
   "metadata": {},
   "outputs": [
    {
     "name": "stdout",
     "output_type": "stream",
     "text": [
      "upload: ../../data/eez/processed/tiles/regions.mbtiles to s3://tilestream-tilesets-production/97/_pending/ojc7oxn5cpu10yo0o9tsl1xlc/skytruth\n"
     ]
    },
    {
     "name": "stderr",
     "output_type": "stream",
     "text": [
      "Linking tileset to Mapbox: 100%|██████████| 100/100 [03:00<00:00,  1.81s/it]\n"
     ]
    },
    {
     "data": {
      "text/plain": [
       "True"
      ]
     },
     "execution_count": 34,
     "metadata": {},
     "output_type": "execute_result"
    }
   ],
   "source": [
    "uploadToMapbox(\n",
    "    eez_dir.get_processed_step_path(current_step).joinpath(f\"{collection_name}.mbtiles\"),\n",
    "    collection_name,\n",
    "    mysettings.MAPBOX_USER,\n",
    "    mysettings.MAPBOX_TOKEN,\n",
    ")"
   ]
  },
  {
   "cell_type": "markdown",
   "metadata": {
    "jp-MarkdownHeadingCollapsed": true
   },
   "source": [
    "### Countries - gadm"
   ]
  },
  {
   "cell_type": "code",
   "execution_count": 3,
   "metadata": {},
   "outputs": [
    {
     "name": "stdout",
     "output_type": "stream",
     "text": [
      "/home/sofia/dev/skytruth-30x30/data/data/gadm/processed/gadm_preprocess.zip\n",
      "/home/sofia/dev/skytruth-30x30/data/data/gadm/processed/preprocess\n"
     ]
    },
    {
     "name": "stderr",
     "output_type": "stream",
     "text": [
      "Allocating 64 GB of heap memory\n",
      "[o] Wrote /home/sofia/dev/skytruth-30x30/data/data/gadm/processed/tiles/gadm_tiles.json\n",
      "For layer 0, using name \"gadm_tiles\"\n",
      "/home/sofia/dev/skytruth-30x30/data/data/gadm/processed/tiles/gadm_tiles.json:12: Found ] at top level: \n",
      "/home/sofia/dev/skytruth-30x30/data/data/gadm/processed/tiles/gadm_tiles.json:9: Reached EOF without all containers being closed: in JSON object {\"type\":\"FeatureCollection\",\"features\":[]}\n",
      "204 features, 104203392 bytes of geometry, 9732 bytes of string pool\n",
      "Choosing a maxzoom of -z0 for features typically 2730281 feet (832190 meters) apart, and at least 605951 feet (184694 meters) apart\n",
      "Choosing a maxzoom of -z9 for resolution of about 590 feet (180 meters) within features\n",
      "  99.9%  9/146/198  \n"
     ]
    },
    {
     "data": {
      "text/plain": [
       "PosixPath('/home/sofia/dev/skytruth-30x30/data/data/gadm/processed/tiles/gadm_simplified.mbtiles')"
      ]
     },
     "execution_count": 3,
     "metadata": {},
     "output_type": "execute_result"
    }
   ],
   "source": [
    "pipe = \"gadm\"\n",
    "collection_name = f\"{pipe}_simplified\"\n",
    "\n",
    "gadm_dir = FileConventionHandler(pipe)\n",
    "\n",
    "# Download the EEZ file && unzip it\n",
    "download_and_unzip_if_needed(gadm_dir, prev_step, mysettings)\n",
    "\n",
    "# simplify the geometries\n",
    "Mapshaper(64).input([gadm_dir.get_step_fmt_file_path(prev_step, \"shp\").as_posix()]).filter_fields(\n",
    "    fields=\",\".join([\"GID_0\", \"COUNTRY\", \"name_es\", \"name_fr\", 'area_km2'])\n",
    ").output(\n",
    "    gadm_dir.get_step_fmt_file_path(current_step, \"json\").as_posix(), force=True, format=\"geojson\"\n",
    ").execute()\n",
    "\n",
    "# Generate the mbtiles\n",
    "mbtileGeneration(\n",
    "    gadm_dir.get_step_fmt_file_path(current_step, \"json\"),\n",
    "    gadm_dir.get_processed_step_path(current_step).joinpath(f\"{collection_name}.mbtiles\"),\n",
    "    True\n",
    ")"
   ]
  },
  {
   "cell_type": "code",
   "execution_count": 10,
   "metadata": {},
   "outputs": [
    {
     "name": "stdout",
     "output_type": "stream",
     "text": [
      "upload: data/gadm/processed/tiles/gadm_simplified.mbtiles to s3://tilestream-tilesets-production/96/_pending/y008s4k96pt1elm0ek7for1mc/skytruth\n"
     ]
    },
    {
     "name": "stderr",
     "output_type": "stream",
     "text": [
      "Linking tileset to Mapbox: 100%|█████████████████████████████████████████████████████████████████████████████████████████████████████████████████| 100/100 [02:41<00:00,  1.61s/it]\n"
     ]
    },
    {
     "data": {
      "text/plain": [
       "True"
      ]
     },
     "execution_count": 10,
     "metadata": {},
     "output_type": "execute_result"
    }
   ],
   "source": [
    "uploadToMapbox(\n",
    "    gadm_dir.get_processed_step_path(current_step).joinpath(f\"{collection_name}.mbtiles\"),\n",
    "    collection_name,\n",
    "    mysettings.MAPBOX_USER,\n",
    "    mysettings.MAPBOX_TOKEN,\n",
    ")"
   ]
  },
  {
   "cell_type": "markdown",
   "metadata": {},
   "source": [
    "#### Gadm regions"
   ]
  },
  {
   "cell_type": "code",
   "execution_count": 14,
   "metadata": {},
   "outputs": [
    {
     "name": "stderr",
     "output_type": "stream",
     "text": [
      "/tmp/ipykernel_3525114/3234969863.py:30: UserWarning: Column names longer than 10 characters will be truncated when saved to ESRI Shapefile.\n",
      "  ).to_file(\n",
      "/home/sofia/miniforge3/envs/skytruth/lib/python3.12/site-packages/pyogrio/raw.py:709: RuntimeWarning: Normalized/laundered field name: 'location_id' to 'location_i'\n",
      "  ogr_write(\n",
      "Allocating 16 GB of heap memory\n",
      "[dissolve2] Dissolved 204 features into 8 features\n",
      "[o] Wrote /home/sofia/dev/skytruth-30x30/data/data/gadm/processed/tiles/gadm_regions.json\n",
      "For layer 0, using name \"gadm_regions\"\n",
      "/home/sofia/dev/skytruth-30x30/data/data/gadm/processed/tiles/gadm_regions.json:3: Found ] at top level: \n",
      "/home/sofia/dev/skytruth-30x30/data/data/gadm/processed/tiles/gadm_regions.json:2: Reached EOF without all containers being closed: in JSON object {\"type\":\"FeatureCollection\",\"features\":[]}\n",
      "8 features, 99192107 bytes of geometry, 107 bytes of string pool\n",
      "Choosing a maxzoom of -z0 for features typically 34570296 feet (10537026 meters) apart, and at least 22231463 feet (6776150 meters) apart\n",
      "Choosing a maxzoom of -z9 for resolution of about 562 feet (171 meters) within features\n",
      "  99.9%  9/403/254  \n"
     ]
    },
    {
     "data": {
      "text/plain": [
       "PosixPath('/home/sofia/dev/skytruth-30x30/data/data/gadm/processed/tiles/gadm_regions.mbtiles')"
      ]
     },
     "execution_count": 14,
     "metadata": {},
     "output_type": "execute_result"
    }
   ],
   "source": [
    "collection_name = \"gadm_regions\"\n",
    "\n",
    "# load the EEZ file & the regions file\n",
    "gadm_data = gpd.read_file(gadm_dir.get_step_fmt_file_path(prev_step, \"shp\").as_posix())\n",
    "\n",
    "with open(scripts_dir.joinpath('data_commons/data/regions_data2.json'), 'r') as f:\n",
    "        regions = json.load(f)\n",
    "\n",
    "\n",
    "regions_df = pd.DataFrame(\n",
    "    [\n",
    "        {\"region_id\": data[\"region_iso\"], \"location_id\": iso}\n",
    "        for data in load_regions().get(\"data\", [])\n",
    "        for iso in data[\"country_iso_3s\"]\n",
    "    ]\n",
    ")\n",
    "\n",
    "# merge the two files\n",
    "gpd.GeoDataFrame(\n",
    "    pd.merge(\n",
    "        gadm_data,\n",
    "        regions_df,\n",
    "        how=\"left\",\n",
    "        left_on=\"GID_0\",\n",
    "        right_on=\"location_id\",\n",
    "        sort=True,\n",
    "        copy=True,\n",
    "    ),\n",
    "    crs=gadm_data.crs,\n",
    ").to_file(\n",
    "    filename=gadm_dir.get_processed_step_path(prev_step)\n",
    "    .joinpath(f\"{pipe}_{prev_step}_{collection_name}.shp\")\n",
    "    .as_posix(),\n",
    "    driver=\"ESRI Shapefile\",\n",
    ")\n",
    "\n",
    "# dissolve by region_id\n",
    "\n",
    "Mapshaper(16).input(\n",
    "    [\n",
    "        gadm_dir.get_processed_step_path(prev_step)\n",
    "        .joinpath(f\"{pipe}_{prev_step}_{collection_name}.shp\")\n",
    "        .as_posix()\n",
    "    ]\n",
    ").dissolve2(fields=\"region_id\").output(\n",
    "    gadm_dir.get_processed_step_path(current_step).joinpath(f\"{collection_name}.json\").as_posix(),\n",
    "    force=True,\n",
    "    format=\"geojson\",\n",
    ").execute()\n",
    "\n",
    "# generate the mbtiles\n",
    "mbtileGeneration(gadm_dir.get_processed_step_path(current_step).joinpath(f\"{collection_name}.json\"))"
   ]
  },
  {
   "cell_type": "code",
   "execution_count": 15,
   "metadata": {},
   "outputs": [
    {
     "name": "stdout",
     "output_type": "stream",
     "text": [
      "upload: data/gadm/processed/tiles/gadm_regions.mbtiles to s3://tilestream-tilesets-production/41/_pending/345ipuxzuqu1eqn09bs6tr1mc/skytruth\n"
     ]
    },
    {
     "name": "stderr",
     "output_type": "stream",
     "text": [
      "Linking tileset to Mapbox: 100%|█████████████████████████████████████████████████████████████████████████████████████████████████████████████████| 100/100 [02:19<00:00,  1.40s/it]\n"
     ]
    },
    {
     "data": {
      "text/plain": [
       "True"
      ]
     },
     "execution_count": 15,
     "metadata": {},
     "output_type": "execute_result"
    }
   ],
   "source": [
    "uploadToMapbox(\n",
    "    gadm_dir.get_processed_step_path(current_step).joinpath(f\"{collection_name}.mbtiles\"),\n",
    "    collection_name,\n",
    "    mysettings.MAPBOX_USER,\n",
    "    mysettings.MAPBOX_TOKEN,\n",
    ")"
   ]
  },
  {
   "cell_type": "markdown",
   "metadata": {
    "jp-MarkdownHeadingCollapsed": true
   },
   "source": [
    "### MPAs: Marine Protected Areas from WDPA"
   ]
  },
  {
   "cell_type": "code",
   "execution_count": null,
   "metadata": {},
   "outputs": [],
   "source": [
    "pipe = \"mpa\"\n",
    "collection_name = \"mpas_wdpa\"\n",
    "\n",
    "source_dir = FileConventionHandler(pipe)\n",
    "\n",
    "# Download the EEZ file && unzip it\n",
    "download_and_unzip_if_needed(source_dir, prev_step, mysettings)\n",
    "\n",
    "# simplify the geometries\n",
    "Mapshaper(64).input([source_dir.get_step_fmt_file_path(prev_step, \"shp\").as_posix()]).filter_fields(\n",
    "    fields=\"WDPAID,NAME,PA_DEF,GIS_M_AREA,PARENT_ISO\"\n",
    ").clean(allow_overlaps=True, rewind=True).simplify(\"dp 10% keep-shapes planar\").clean(\n",
    "    allow_overlaps=True\n",
    ").output(\n",
    "    source_dir.get_step_fmt_file_path(current_step, \"json\").as_posix(), force=True, format=\"geojson\"\n",
    ").execute()\n",
    "\n",
    "# generate the mbtiles\n",
    "mbtileGeneration(source_dir.get_step_fmt_file_path(current_step, \"json\"))"
   ]
  },
  {
   "cell_type": "code",
   "execution_count": 10,
   "metadata": {},
   "outputs": [
    {
     "name": "stdout",
     "output_type": "stream",
     "text": [
      "upload: ../../data/mpa/processed/tiles/mpa_tiles.mbtiles to s3://tilestream-tilesets-production/de/_pending/yvng0dxxxru12eq9ye80350mc/skytruth\n"
     ]
    },
    {
     "name": "stderr",
     "output_type": "stream",
     "text": [
      "Linking tileset to Mapbox: 100%|██████████| 100/100 [02:34<00:00,  1.54s/it]\n"
     ]
    },
    {
     "data": {
      "text/plain": [
       "True"
      ]
     },
     "execution_count": 10,
     "metadata": {},
     "output_type": "execute_result"
    }
   ],
   "source": [
    "uploadToMapbox(\n",
    "    source_dir.get_step_fmt_file_path(current_step, \"mbtiles\"),\n",
    "    collection_name,\n",
    "    mysettings.MAPBOX_USER,\n",
    "    mysettings.MAPBOX_TOKEN,\n",
    ")"
   ]
  },
  {
   "cell_type": "markdown",
   "metadata": {
    "jp-MarkdownHeadingCollapsed": true
   },
   "source": [
    "### PAs: Terrestrial Protected Areas from WDPA"
   ]
  },
  {
   "cell_type": "code",
   "execution_count": 5,
   "metadata": {},
   "outputs": [],
   "source": [
    "def split_n_parts(gdf: gpd.GeoDataFrame, folder: Path, n:int) -> None:\n",
    "    \n",
    "    for i in range(n):\n",
    "        path = folder.joinpath(f\"part{i}.shp\")\n",
    "        gdf.iloc[i * len(gdf) // n : (i + 1) * len(gdf) // n].to_file(path, driver=\"ESRI Shapefile\")"
   ]
  },
  {
   "cell_type": "code",
   "execution_count": 6,
   "metadata": {},
   "outputs": [],
   "source": [
    "pipe = \"mpa-terrestrial\"\n",
    "collection_name = \"pas_wdpa\"\n",
    "\n",
    "source_dir = FileConventionHandler(pipe)"
   ]
  },
  {
   "cell_type": "code",
   "execution_count": 7,
   "metadata": {},
   "outputs": [
    {
     "name": "stdout",
     "output_type": "stream",
     "text": [
      "/home/sofia/dev/skytruth-30x30/data/data/mpa-terrestrial/processed/mpa-terrestrial_preprocess.gpkg\n",
      "/home/sofia/dev/skytruth-30x30/data/data/mpa-terrestrial/processed/preprocess\n"
     ]
    }
   ],
   "source": [
    "# Download the file && unzip it\n",
    "download_and_unzip_if_needed(source_dir, prev_step, mysettings, \"gpkg\")\n",
    "\n",
    "# split the file in two parts\n",
    "wdpa = gpd.read_file(source_dir.get_step_fmt_file_path(prev_step, \"gpkg\").as_posix())"
   ]
  },
  {
   "cell_type": "code",
   "execution_count": 19,
   "metadata": {},
   "outputs": [],
   "source": [
    "# Divide the dataset into n parts\n",
    "n_parts = 100\n",
    "\n",
    "in_folder = source_dir.get_processed_step_path(prev_step).joinpath(\"parts\")\n",
    "in_folder.mkdir(exist_ok=True, parents=True)\n",
    "folders = split_n_parts(wdpa, in_folder, n_parts)\n",
    "\n",
    "out_folder = source_dir.get_processed_step_path(current_step).joinpath(\"parts\")\n",
    "out_folder.mkdir(exist_ok=True, parents=True)"
   ]
  },
  {
   "cell_type": "code",
   "execution_count": 20,
   "metadata": {},
   "outputs": [
    {
     "name": "stdout",
     "output_type": "stream",
     "text": [
      "Allocating 32 GB of heap memory\n",
      "[clean] Retained 2,922 of 2,922 features\n",
      "[simplify] Repaired 5,748 intersections; 20 intersections could not be repaired\n",
      "[clean] Retained 2,922 of 2,922 features\n",
      "[o] Wrote /home/sofia/dev/skytruth-30x30/data/data/mpa-terrestrial/processed/tiles/parts/part0.json\n",
      "Allocating 32 GB of heap memory\n",
      "[clean] Retained 2,922 of 2,922 features\n",
      "[simplify] Repaired 187 intersections\n",
      "[clean] Retained 2,922 of 2,922 features\n",
      "[o] Wrote /home/sofia/dev/skytruth-30x30/data/data/mpa-terrestrial/processed/tiles/parts/part10.json\n",
      "Allocating 32 GB of heap memory\n",
      "[clean] Retained 2,923 of 2,923 features\n",
      "[simplify] Repaired 220 intersections\n",
      "[clean] Retained 2,923 of 2,923 features\n",
      "[o] Wrote /home/sofia/dev/skytruth-30x30/data/data/mpa-terrestrial/processed/tiles/parts/part11.json\n",
      "Allocating 32 GB of heap memory\n",
      "[clean] Retained 2,922 of 2,922 features\n",
      "[simplify] Repaired 527 intersections; 16 intersections could not be repaired\n",
      "[clean] Retained 2,922 of 2,922 features\n",
      "[o] Wrote /home/sofia/dev/skytruth-30x30/data/data/mpa-terrestrial/processed/tiles/parts/part12.json\n",
      "Allocating 32 GB of heap memory\n",
      "[clean] Retained 2,923 of 2,923 features\n",
      "[simplify] Repaired 3,550 intersections; 24 intersections could not be repaired\n",
      "[clean] Retained 2,923 of 2,923 features\n",
      "[o] Wrote /home/sofia/dev/skytruth-30x30/data/data/mpa-terrestrial/processed/tiles/parts/part13.json\n",
      "Allocating 32 GB of heap memory\n",
      "[clean] Retained 2,923 of 2,923 features\n",
      "[simplify] Repaired 923 intersections; 32 intersections could not be repaired\n",
      "[clean] Retained 2,923 of 2,923 features\n",
      "[o] Wrote /home/sofia/dev/skytruth-30x30/data/data/mpa-terrestrial/processed/tiles/parts/part14.json\n",
      "Allocating 32 GB of heap memory\n",
      "[clean] Retained 2,922 of 2,922 features\n",
      "[simplify] Repaired 2,285 intersections; 8 intersections could not be repaired\n",
      "[clean] Retained 2,922 of 2,922 features\n",
      "[o] Wrote /home/sofia/dev/skytruth-30x30/data/data/mpa-terrestrial/processed/tiles/parts/part15.json\n",
      "Allocating 32 GB of heap memory\n",
      "[clean] Retained 2,923 of 2,923 features\n",
      "[simplify] Repaired 729 intersections; 16 intersections could not be repaired\n",
      "[clean] Retained 2,923 of 2,923 features\n",
      "[o] Wrote /home/sofia/dev/skytruth-30x30/data/data/mpa-terrestrial/processed/tiles/parts/part16.json\n",
      "Allocating 32 GB of heap memory\n",
      "[clean] Retained 2,922 of 2,922 features\n",
      "[simplify] Repaired 478 intersections\n",
      "[clean] Retained 2,922 of 2,922 features\n",
      "[o] Wrote /home/sofia/dev/skytruth-30x30/data/data/mpa-terrestrial/processed/tiles/parts/part17.json\n",
      "Allocating 32 GB of heap memory\n",
      "[clean] Retained 2,923 of 2,923 features\n",
      "[simplify] Repaired 1,075 intersections; 32 intersections could not be repaired\n",
      "[clean] Retained 2,923 of 2,923 features\n",
      "[o] Wrote /home/sofia/dev/skytruth-30x30/data/data/mpa-terrestrial/processed/tiles/parts/part18.json\n",
      "Allocating 32 GB of heap memory\n",
      "[clean] Retained 2,923 of 2,923 features\n",
      "[simplify] Repaired 3,405 intersections; 8 intersections could not be repaired\n",
      "[clean] Retained 2,923 of 2,923 features\n",
      "[o] Wrote /home/sofia/dev/skytruth-30x30/data/data/mpa-terrestrial/processed/tiles/parts/part19.json\n",
      "Allocating 32 GB of heap memory\n",
      "[clean] Retained 2,923 of 2,923 features\n",
      "[simplify] Repaired 9,028 intersections; 56 intersections could not be repaired\n",
      "[clean] Retained 2,923 of 2,923 features\n",
      "[o] Wrote /home/sofia/dev/skytruth-30x30/data/data/mpa-terrestrial/processed/tiles/parts/part1.json\n",
      "Allocating 32 GB of heap memory\n",
      "[clean] Retained 2,922 of 2,922 features\n",
      "[simplify] Repaired 4,116 intersections; 17 intersections could not be repaired\n",
      "[clean] Retained 2,922 of 2,922 features\n",
      "[o] Wrote /home/sofia/dev/skytruth-30x30/data/data/mpa-terrestrial/processed/tiles/parts/part20.json\n",
      "Allocating 32 GB of heap memory\n",
      "[clean] Retained 2,923 of 2,923 features\n",
      "[simplify] Repaired 1,174 intersections; 8 intersections could not be repaired\n",
      "[clean] Retained 2,923 of 2,923 features\n",
      "[o] Wrote /home/sofia/dev/skytruth-30x30/data/data/mpa-terrestrial/processed/tiles/parts/part21.json\n",
      "Allocating 32 GB of heap memory\n",
      "[clean] Retained 2,923 of 2,923 features\n",
      "[simplify] Repaired 1,508 intersections; 75 intersections could not be repaired\n",
      "[clean] Retained 2,923 of 2,923 features\n",
      "[o] Wrote /home/sofia/dev/skytruth-30x30/data/data/mpa-terrestrial/processed/tiles/parts/part22.json\n",
      "Allocating 32 GB of heap memory\n",
      "[clean] Retained 2,922 of 2,922 features\n",
      "[simplify] Repaired 1,747 intersections; 288 intersections could not be repaired\n",
      "[clean] Retained 2,922 of 2,922 features\n",
      "[o] Wrote /home/sofia/dev/skytruth-30x30/data/data/mpa-terrestrial/processed/tiles/parts/part23.json\n",
      "Allocating 32 GB of heap memory\n",
      "[clean] Retained 2,923 of 2,923 features\n",
      "[simplify] Repaired 996 intersections; 100 intersections could not be repaired\n",
      "[clean] Retained 2,923 of 2,923 features\n",
      "[o] Wrote /home/sofia/dev/skytruth-30x30/data/data/mpa-terrestrial/processed/tiles/parts/part24.json\n",
      "Allocating 32 GB of heap memory\n",
      "[clean] Retained 2,922 of 2,922 features\n",
      "[simplify] Repaired 977 intersections; 11 intersections could not be repaired\n",
      "[clean] Retained 2,922 of 2,922 features\n",
      "[o] Wrote /home/sofia/dev/skytruth-30x30/data/data/mpa-terrestrial/processed/tiles/parts/part25.json\n",
      "Allocating 32 GB of heap memory\n",
      "[clean] Retained 2,923 of 2,923 features\n",
      "[simplify] Repaired 2,273 intersections; 200 intersections could not be repaired\n",
      "[clean] Retained 2,923 of 2,923 features\n",
      "[o] Wrote /home/sofia/dev/skytruth-30x30/data/data/mpa-terrestrial/processed/tiles/parts/part26.json\n",
      "Allocating 32 GB of heap memory\n",
      "[clean] Retained 2,923 of 2,923 features\n",
      "[simplify] Repaired 1,467 intersections; 8 intersections could not be repaired\n",
      "[clean] Retained 2,923 of 2,923 features\n",
      "[o] Wrote /home/sofia/dev/skytruth-30x30/data/data/mpa-terrestrial/processed/tiles/parts/part27.json\n",
      "Allocating 32 GB of heap memory\n",
      "[clean] Retained 2,922 of 2,922 features\n",
      "[simplify] Repaired 2,924 intersections; 110 intersections could not be repaired\n",
      "[clean] Retained 2,922 of 2,922 features\n",
      "[o] Wrote /home/sofia/dev/skytruth-30x30/data/data/mpa-terrestrial/processed/tiles/parts/part28.json\n",
      "Allocating 32 GB of heap memory\n",
      "[clean] Retained 2,923 of 2,923 features\n",
      "[simplify] Repaired 1,246 intersections\n",
      "[clean] Retained 2,923 of 2,923 features\n",
      "[o] Wrote /home/sofia/dev/skytruth-30x30/data/data/mpa-terrestrial/processed/tiles/parts/part29.json\n",
      "Allocating 32 GB of heap memory\n",
      "[clean] Retained 2,922 of 2,922 features\n",
      "[simplify] Repaired 2,041 intersections; 72 intersections could not be repaired\n",
      "[clean] Retained 2,922 of 2,922 features\n",
      "[o] Wrote /home/sofia/dev/skytruth-30x30/data/data/mpa-terrestrial/processed/tiles/parts/part2.json\n",
      "Allocating 32 GB of heap memory\n",
      "[clean] Retained 2,922 of 2,922 features\n",
      "[simplify] Repaired 77 intersections\n",
      "[clean] Retained 2,922 of 2,922 features\n",
      "[o] Wrote /home/sofia/dev/skytruth-30x30/data/data/mpa-terrestrial/processed/tiles/parts/part30.json\n",
      "Allocating 32 GB of heap memory\n",
      "[clean] Retained 2,923 of 2,923 features\n",
      "[simplify] Repaired 813 intersections; 40 intersections could not be repaired\n",
      "[clean] Retained 2,923 of 2,923 features\n",
      "[o] Wrote /home/sofia/dev/skytruth-30x30/data/data/mpa-terrestrial/processed/tiles/parts/part31.json\n",
      "Allocating 32 GB of heap memory\n",
      "[clean] Retained 2,923 of 2,923 features\n",
      "[simplify] Repaired 1,540 intersections; 128 intersections could not be repaired\n",
      "[clean] Retained 2,923 of 2,923 features\n",
      "[o] Wrote /home/sofia/dev/skytruth-30x30/data/data/mpa-terrestrial/processed/tiles/parts/part32.json\n",
      "Allocating 32 GB of heap memory\n",
      "[clean] Retained 2,922 of 2,922 features\n",
      "[simplify] Repaired 1,761 intersections; 27 intersections could not be repaired\n",
      "[clean] Retained 2,922 of 2,922 features\n",
      "[o] Wrote /home/sofia/dev/skytruth-30x30/data/data/mpa-terrestrial/processed/tiles/parts/part33.json\n",
      "Allocating 32 GB of heap memory\n",
      "[clean] Retained 2,923 of 2,923 features\n",
      "[simplify] Repaired 471 intersections\n",
      "[clean] Retained 2,923 of 2,923 features\n",
      "[o] Wrote /home/sofia/dev/skytruth-30x30/data/data/mpa-terrestrial/processed/tiles/parts/part34.json\n",
      "Allocating 32 GB of heap memory\n",
      "[clean] Retained 2,922 of 2,922 features\n",
      "[simplify] Repaired 3,212 intersections; 8 intersections could not be repaired\n",
      "[clean] Retained 2,922 of 2,922 features\n",
      "[o] Wrote /home/sofia/dev/skytruth-30x30/data/data/mpa-terrestrial/processed/tiles/parts/part35.json\n",
      "Allocating 32 GB of heap memory\n",
      "[clean] Retained 2,923 of 2,923 features\n",
      "[simplify] Repaired 2,303 intersections; 68 intersections could not be repaired\n",
      "[clean] Retained 2,923 of 2,923 features\n",
      "[o] Wrote /home/sofia/dev/skytruth-30x30/data/data/mpa-terrestrial/processed/tiles/parts/part36.json\n",
      "Allocating 32 GB of heap memory\n",
      "[clean] Retained 2,923 of 2,923 features\n",
      "[simplify] Repaired 702 intersections; 16 intersections could not be repaired\n",
      "[clean] Retained 2,923 of 2,923 features\n",
      "[o] Wrote /home/sofia/dev/skytruth-30x30/data/data/mpa-terrestrial/processed/tiles/parts/part37.json\n",
      "Allocating 32 GB of heap memory\n",
      "[clean] Retained 2,922 of 2,922 features\n",
      "[simplify] Repaired 1,473 intersections; 12 intersections could not be repaired\n",
      "[clean] Retained 2,922 of 2,922 features\n",
      "[o] Wrote /home/sofia/dev/skytruth-30x30/data/data/mpa-terrestrial/processed/tiles/parts/part38.json\n",
      "Allocating 32 GB of heap memory\n",
      "[clean] Retained 2,923 of 2,923 features\n",
      "[simplify] Repaired 2,704 intersections; 88 intersections could not be repaired\n",
      "[clean] Retained 2,923 of 2,923 features\n",
      "[o] Wrote /home/sofia/dev/skytruth-30x30/data/data/mpa-terrestrial/processed/tiles/parts/part39.json\n",
      "Allocating 32 GB of heap memory\n",
      "[clean] Retained 2,923 of 2,923 features\n",
      "[simplify] Repaired 524 intersections\n",
      "[clean] Retained 2,923 of 2,923 features\n",
      "[o] Wrote /home/sofia/dev/skytruth-30x30/data/data/mpa-terrestrial/processed/tiles/parts/part3.json\n",
      "Allocating 32 GB of heap memory\n",
      "[clean] Retained 2,923 of 2,923 features\n",
      "[simplify] Repaired 5,124 intersections; 27 intersections could not be repaired\n",
      "[clean] Retained 2,923 of 2,923 features\n",
      "[o] Wrote /home/sofia/dev/skytruth-30x30/data/data/mpa-terrestrial/processed/tiles/parts/part40.json\n",
      "Allocating 32 GB of heap memory\n",
      "[clean] Retained 2,922 of 2,922 features\n",
      "[simplify] Repaired 9,631 intersections; 136 intersections could not be repaired\n",
      "[clean] Retained 2,922 of 2,922 features\n",
      "[o] Wrote /home/sofia/dev/skytruth-30x30/data/data/mpa-terrestrial/processed/tiles/parts/part41.json\n",
      "Allocating 32 GB of heap memory\n",
      "[clean] Retained 2,923 of 2,923 features\n",
      "[simplify] Repaired 9,110 intersections; 64 intersections could not be repaired\n",
      "[clean] Retained 2,923 of 2,923 features\n",
      "[o] Wrote /home/sofia/dev/skytruth-30x30/data/data/mpa-terrestrial/processed/tiles/parts/part42.json\n",
      "Allocating 32 GB of heap memory\n",
      "[clean] Retained 2,922 of 2,922 features\n",
      "[simplify] Repaired 4,879 intersections; 8 intersections could not be repaired\n",
      "[clean] Retained 2,922 of 2,922 features\n",
      "[o] Wrote /home/sofia/dev/skytruth-30x30/data/data/mpa-terrestrial/processed/tiles/parts/part43.json\n",
      "Allocating 32 GB of heap memory\n",
      "[clean] Retained 2,923 of 2,923 features\n",
      "[simplify] Repaired 2,283 intersections; 64 intersections could not be repaired\n",
      "[clean] Retained 2,923 of 2,923 features\n",
      "[o] Wrote /home/sofia/dev/skytruth-30x30/data/data/mpa-terrestrial/processed/tiles/parts/part44.json\n",
      "Allocating 32 GB of heap memory\n",
      "[clean] Retained 2,923 of 2,923 features\n",
      "[simplify] Repaired 70,799 intersections; 380 intersections could not be repaired\n",
      "[clean] Retained 2,923 of 2,923 features\n",
      "[o] Wrote /home/sofia/dev/skytruth-30x30/data/data/mpa-terrestrial/processed/tiles/parts/part45.json\n",
      "Allocating 32 GB of heap memory\n",
      "[clean] Retained 2,922 of 2,922 features\n",
      "[simplify] Repaired 3,258 intersections; 88 intersections could not be repaired\n",
      "[clean] Retained 2,922 of 2,922 features\n",
      "[o] Wrote /home/sofia/dev/skytruth-30x30/data/data/mpa-terrestrial/processed/tiles/parts/part46.json\n",
      "Allocating 32 GB of heap memory\n",
      "[clean] Retained 2,923 of 2,923 features\n",
      "[simplify] Repaired 2,333 intersections; 205 intersections could not be repaired\n",
      "[clean] Retained 2,923 of 2,923 features\n",
      "[o] Wrote /home/sofia/dev/skytruth-30x30/data/data/mpa-terrestrial/processed/tiles/parts/part47.json\n",
      "Allocating 32 GB of heap memory\n",
      "[clean] Retained 2,922 of 2,922 features\n",
      "[simplify] Repaired 1,801 intersections; 92 intersections could not be repaired\n",
      "[clean] Retained 2,922 of 2,922 features\n",
      "[o] Wrote /home/sofia/dev/skytruth-30x30/data/data/mpa-terrestrial/processed/tiles/parts/part48.json\n",
      "Allocating 32 GB of heap memory\n",
      "[clean] Retained 2,923 of 2,923 features\n",
      "[simplify] Repaired 3,474 intersections; 83 intersections could not be repaired\n",
      "[clean] Retained 2,923 of 2,923 features\n",
      "[o] Wrote /home/sofia/dev/skytruth-30x30/data/data/mpa-terrestrial/processed/tiles/parts/part49.json\n",
      "Allocating 32 GB of heap memory\n",
      "[clean] Retained 2,923 of 2,923 features\n",
      "[simplify] Repaired 2,153 intersections; 48 intersections could not be repaired\n",
      "[clean] Retained 2,923 of 2,923 features\n",
      "[o] Wrote /home/sofia/dev/skytruth-30x30/data/data/mpa-terrestrial/processed/tiles/parts/part4.json\n",
      "Allocating 32 GB of heap memory\n",
      "[clean] Retained 2,923 of 2,923 features\n",
      "[simplify] Repaired 2,880 intersections; 108 intersections could not be repaired\n",
      "[clean] Retained 2,923 of 2,923 features\n",
      "[o] Wrote /home/sofia/dev/skytruth-30x30/data/data/mpa-terrestrial/processed/tiles/parts/part50.json\n",
      "Allocating 32 GB of heap memory\n",
      "[clean] Retained 2,922 of 2,922 features\n",
      "[simplify] Repaired 2,048 intersections; 7 intersections could not be repaired\n",
      "[clean] Retained 2,922 of 2,922 features\n",
      "[o] Wrote /home/sofia/dev/skytruth-30x30/data/data/mpa-terrestrial/processed/tiles/parts/part51.json\n",
      "Allocating 32 GB of heap memory\n",
      "[clean] Retained 2,923 of 2,923 features\n",
      "[simplify] Repaired 705 intersections; 40 intersections could not be repaired\n",
      "[clean] Retained 2,923 of 2,923 features\n",
      "[o] Wrote /home/sofia/dev/skytruth-30x30/data/data/mpa-terrestrial/processed/tiles/parts/part52.json\n",
      "Allocating 32 GB of heap memory\n",
      "[clean] Retained 2,922 of 2,922 features\n",
      "[simplify] Repaired 395 intersections\n",
      "[clean] Retained 2,922 of 2,922 features\n",
      "[o] Wrote /home/sofia/dev/skytruth-30x30/data/data/mpa-terrestrial/processed/tiles/parts/part53.json\n",
      "Allocating 32 GB of heap memory\n",
      "[clean] Retained 2,923 of 2,923 features\n",
      "[simplify] Repaired 1,006 intersections; 451 intersections could not be repaired\n",
      "[clean] Retained 2,923 of 2,923 features\n",
      "[o] Wrote /home/sofia/dev/skytruth-30x30/data/data/mpa-terrestrial/processed/tiles/parts/part54.json\n",
      "Allocating 32 GB of heap memory\n",
      "[clean] Retained 2,923 of 2,923 features\n",
      "[simplify] Repaired 6,022 intersections; 528 intersections could not be repaired\n",
      "[clean] Retained 2,923 of 2,923 features\n",
      "[o] Wrote /home/sofia/dev/skytruth-30x30/data/data/mpa-terrestrial/processed/tiles/parts/part55.json\n",
      "Allocating 32 GB of heap memory\n",
      "[clean] Retained 2,922 of 2,922 features\n",
      "[simplify] Repaired 3,333 intersections; 178 intersections could not be repaired\n",
      "[clean] Retained 2,922 of 2,922 features\n",
      "[o] Wrote /home/sofia/dev/skytruth-30x30/data/data/mpa-terrestrial/processed/tiles/parts/part56.json\n",
      "Allocating 32 GB of heap memory\n",
      "[clean] Retained 2,923 of 2,923 features\n",
      "[simplify] Repaired 2,672 intersections; 32 intersections could not be repaired\n",
      "[clean] Retained 2,923 of 2,923 features\n",
      "[o] Wrote /home/sofia/dev/skytruth-30x30/data/data/mpa-terrestrial/processed/tiles/parts/part57.json\n",
      "Allocating 32 GB of heap memory\n",
      "[clean] Retained 2,922 of 2,922 features\n",
      "[simplify] Repaired 15,941 intersections; 148 intersections could not be repaired\n",
      "[clean] Retained 2,922 of 2,922 features\n",
      "[o] Wrote /home/sofia/dev/skytruth-30x30/data/data/mpa-terrestrial/processed/tiles/parts/part58.json\n",
      "Allocating 32 GB of heap memory\n",
      "[clean] Retained 2,923 of 2,923 features\n",
      "[simplify] Repaired 2,914 intersections; 48 intersections could not be repaired\n",
      "[clean] Retained 2,923 of 2,923 features\n",
      "[o] Wrote /home/sofia/dev/skytruth-30x30/data/data/mpa-terrestrial/processed/tiles/parts/part59.json\n",
      "Allocating 32 GB of heap memory\n",
      "[clean] Retained 2,922 of 2,922 features\n",
      "[simplify] Repaired 2,661 intersections; 75 intersections could not be repaired\n",
      "[clean] Retained 2,922 of 2,922 features\n",
      "[o] Wrote /home/sofia/dev/skytruth-30x30/data/data/mpa-terrestrial/processed/tiles/parts/part5.json\n",
      "Allocating 32 GB of heap memory\n",
      "[clean] Retained 2,923 of 2,923 features\n",
      "[simplify] Repaired 1,663 intersections; 68 intersections could not be repaired\n",
      "[clean] Retained 2,923 of 2,923 features\n",
      "[o] Wrote /home/sofia/dev/skytruth-30x30/data/data/mpa-terrestrial/processed/tiles/parts/part60.json\n",
      "Allocating 32 GB of heap memory\n",
      "[clean] Retained 2,922 of 2,922 features\n",
      "[simplify] Repaired 1,759 intersections; 8 intersections could not be repaired\n",
      "[clean] Retained 2,922 of 2,922 features\n",
      "[o] Wrote /home/sofia/dev/skytruth-30x30/data/data/mpa-terrestrial/processed/tiles/parts/part61.json\n",
      "Allocating 32 GB of heap memory\n",
      "[clean] Retained 2,923 of 2,923 features\n",
      "[simplify] Repaired 6,005 intersections; 396 intersections could not be repaired\n",
      "[clean] Retained 2,923 of 2,923 features\n",
      "[o] Wrote /home/sofia/dev/skytruth-30x30/data/data/mpa-terrestrial/processed/tiles/parts/part62.json\n",
      "Allocating 32 GB of heap memory\n",
      "[clean] Retained 2,923 of 2,923 features\n",
      "[simplify] Repaired 2,626 intersections; 24 intersections could not be repaired\n",
      "[clean] Retained 2,923 of 2,923 features\n",
      "[o] Wrote /home/sofia/dev/skytruth-30x30/data/data/mpa-terrestrial/processed/tiles/parts/part63.json\n",
      "Allocating 32 GB of heap memory\n",
      "[clean] Retained 2,922 of 2,922 features\n",
      "[simplify] Repaired 767 intersections; 108 intersections could not be repaired\n",
      "[clean] Retained 2,922 of 2,922 features\n",
      "[o] Wrote /home/sofia/dev/skytruth-30x30/data/data/mpa-terrestrial/processed/tiles/parts/part64.json\n",
      "Allocating 32 GB of heap memory\n",
      "[clean] Retained 2,923 of 2,923 features\n",
      "[simplify] Repaired 38 intersections\n",
      "[clean] Retained 2,923 of 2,923 features\n",
      "[o] Wrote /home/sofia/dev/skytruth-30x30/data/data/mpa-terrestrial/processed/tiles/parts/part65.json\n",
      "Allocating 32 GB of heap memory\n",
      "[clean] Retained 2,922 of 2,922 features\n",
      "[simplify] Repaired 13,933 intersections; 154 intersections could not be repaired\n",
      "[clean] Retained 2,921 of 2,922 features\n",
      "[o] Wrote /home/sofia/dev/skytruth-30x30/data/data/mpa-terrestrial/processed/tiles/parts/part66.json\n",
      "Allocating 32 GB of heap memory\n",
      "[clean] Retained 2,923 of 2,923 features\n",
      "[simplify] Repaired 2,359 intersections; 261 intersections could not be repaired\n",
      "[clean] Retained 2,923 of 2,923 features\n",
      "[o] Wrote /home/sofia/dev/skytruth-30x30/data/data/mpa-terrestrial/processed/tiles/parts/part67.json\n",
      "Allocating 32 GB of heap memory\n",
      "[clean] Retained 2,923 of 2,923 features\n",
      "[simplify] Repaired 548 intersections; 48 intersections could not be repaired\n",
      "[clean] Retained 2,923 of 2,923 features\n",
      "[o] Wrote /home/sofia/dev/skytruth-30x30/data/data/mpa-terrestrial/processed/tiles/parts/part68.json\n",
      "Allocating 32 GB of heap memory\n",
      "[clean] Retained 2,922 of 2,922 features\n",
      "[simplify] Repaired 1,373 intersections\n",
      "[clean] Retained 2,922 of 2,922 features\n",
      "[o] Wrote /home/sofia/dev/skytruth-30x30/data/data/mpa-terrestrial/processed/tiles/parts/part69.json\n",
      "Allocating 32 GB of heap memory\n",
      "[clean] Retained 2,923 of 2,923 features\n",
      "[simplify] Repaired 1,617 intersections\n",
      "[clean] Retained 2,923 of 2,923 features\n",
      "[o] Wrote /home/sofia/dev/skytruth-30x30/data/data/mpa-terrestrial/processed/tiles/parts/part6.json\n",
      "Allocating 32 GB of heap memory\n",
      "[clean] Retained 2,923 of 2,923 features\n",
      "[simplify] Repaired 6,889 intersections; 33 intersections could not be repaired\n",
      "[clean] Retained 2,923 of 2,923 features\n",
      "[o] Wrote /home/sofia/dev/skytruth-30x30/data/data/mpa-terrestrial/processed/tiles/parts/part70.json\n",
      "Allocating 32 GB of heap memory\n",
      "[clean] Retained 2,922 of 2,922 features\n",
      "[simplify] Repaired 945 intersections; 15 intersections could not be repaired\n",
      "[clean] Retained 2,922 of 2,922 features\n",
      "[o] Wrote /home/sofia/dev/skytruth-30x30/data/data/mpa-terrestrial/processed/tiles/parts/part71.json\n",
      "Allocating 32 GB of heap memory\n",
      "[clean] Retained 2,923 of 2,923 features\n",
      "[simplify] Repaired 1,042 intersections; 51 intersections could not be repaired\n",
      "[clean] Retained 2,923 of 2,923 features\n",
      "[o] Wrote /home/sofia/dev/skytruth-30x30/data/data/mpa-terrestrial/processed/tiles/parts/part72.json\n",
      "Allocating 32 GB of heap memory\n",
      "[clean] Retained 2,923 of 2,923 features\n",
      "[simplify] Repaired 1,443 intersections; 80 intersections could not be repaired\n",
      "[clean] Retained 2,923 of 2,923 features\n",
      "[o] Wrote /home/sofia/dev/skytruth-30x30/data/data/mpa-terrestrial/processed/tiles/parts/part73.json\n",
      "Allocating 32 GB of heap memory\n",
      "[clean] Retained 2,922 of 2,922 features\n",
      "[simplify] Repaired 662 intersections\n",
      "[clean] Retained 2,922 of 2,922 features\n",
      "[o] Wrote /home/sofia/dev/skytruth-30x30/data/data/mpa-terrestrial/processed/tiles/parts/part74.json\n",
      "Allocating 32 GB of heap memory\n",
      "[clean] Retained 2,923 of 2,923 features\n",
      "[simplify] Repaired 1,008 intersections; 3 intersections could not be repaired\n",
      "[clean] Retained 2,923 of 2,923 features\n",
      "[o] Wrote /home/sofia/dev/skytruth-30x30/data/data/mpa-terrestrial/processed/tiles/parts/part75.json\n",
      "Allocating 32 GB of heap memory\n",
      "[clean] Retained 2,922 of 2,922 features\n",
      "[simplify] Repaired 479 intersections\n",
      "[clean] Retained 2,922 of 2,922 features\n",
      "[o] Wrote /home/sofia/dev/skytruth-30x30/data/data/mpa-terrestrial/processed/tiles/parts/part76.json\n",
      "Allocating 32 GB of heap memory\n",
      "[clean] Retained 2,923 of 2,923 features\n",
      "[simplify] Repaired 407 intersections\n",
      "[clean] Retained 2,923 of 2,923 features\n",
      "[o] Wrote /home/sofia/dev/skytruth-30x30/data/data/mpa-terrestrial/processed/tiles/parts/part77.json\n",
      "Allocating 32 GB of heap memory\n",
      "[clean] Retained 2,923 of 2,923 features\n",
      "[simplify] Repaired 2,587 intersections; 48 intersections could not be repaired\n",
      "[clean] Retained 2,923 of 2,923 features\n",
      "[o] Wrote /home/sofia/dev/skytruth-30x30/data/data/mpa-terrestrial/processed/tiles/parts/part78.json\n",
      "Allocating 32 GB of heap memory\n",
      "[clean] Retained 2,922 of 2,922 features\n",
      "[simplify] Repaired 516 intersections\n",
      "[clean] Retained 2,922 of 2,922 features\n",
      "[o] Wrote /home/sofia/dev/skytruth-30x30/data/data/mpa-terrestrial/processed/tiles/parts/part79.json\n",
      "Allocating 32 GB of heap memory\n",
      "[clean] Retained 2,922 of 2,922 features\n",
      "[simplify] Repaired 1,223 intersections\n",
      "[clean] Retained 2,922 of 2,922 features\n",
      "[o] Wrote /home/sofia/dev/skytruth-30x30/data/data/mpa-terrestrial/processed/tiles/parts/part7.json\n",
      "Allocating 32 GB of heap memory\n",
      "[clean] Retained 2,923 of 2,923 features\n",
      "[simplify] Repaired 978 intersections; 157 intersections could not be repaired\n",
      "[clean] Retained 2,922 of 2,923 features\n",
      "[o] Wrote /home/sofia/dev/skytruth-30x30/data/data/mpa-terrestrial/processed/tiles/parts/part80.json\n",
      "Allocating 32 GB of heap memory\n",
      "[clean] Retained 2,923 of 2,923 features\n",
      "[simplify] Repaired 2,302 intersections; 330 intersections could not be repaired\n",
      "[clean] Retained 2,923 of 2,923 features\n",
      "[o] Wrote /home/sofia/dev/skytruth-30x30/data/data/mpa-terrestrial/processed/tiles/parts/part81.json\n",
      "Allocating 32 GB of heap memory\n",
      "[clean] Retained 2,922 of 2,922 features\n",
      "[simplify] Repaired 856 intersections\n",
      "[clean] Retained 2,922 of 2,922 features\n",
      "[o] Wrote /home/sofia/dev/skytruth-30x30/data/data/mpa-terrestrial/processed/tiles/parts/part82.json\n",
      "Allocating 32 GB of heap memory\n",
      "[clean] Retained 2,923 of 2,923 features\n",
      "[simplify] Repaired 1,722 intersections; 8 intersections could not be repaired\n",
      "[clean] Retained 2,923 of 2,923 features\n",
      "[o] Wrote /home/sofia/dev/skytruth-30x30/data/data/mpa-terrestrial/processed/tiles/parts/part83.json\n",
      "Allocating 32 GB of heap memory\n",
      "[clean] Retained 2,922 of 2,922 features\n",
      "[simplify] Repaired 3,215 intersections; 28 intersections could not be repaired\n",
      "[clean] Retained 2,922 of 2,922 features\n",
      "[o] Wrote /home/sofia/dev/skytruth-30x30/data/data/mpa-terrestrial/processed/tiles/parts/part84.json\n",
      "Allocating 32 GB of heap memory\n",
      "[clean] Retained 2,923 of 2,923 features\n",
      "[simplify] Repaired 902 intersections\n",
      "[clean] Retained 2,923 of 2,923 features\n",
      "[o] Wrote /home/sofia/dev/skytruth-30x30/data/data/mpa-terrestrial/processed/tiles/parts/part85.json\n",
      "Allocating 32 GB of heap memory\n",
      "[clean] Retained 2,923 of 2,923 features\n",
      "[simplify] Repaired 395 intersections\n",
      "[clean] Retained 2,923 of 2,923 features\n",
      "[o] Wrote /home/sofia/dev/skytruth-30x30/data/data/mpa-terrestrial/processed/tiles/parts/part86.json\n",
      "Allocating 32 GB of heap memory\n",
      "[clean] Retained 2,922 of 2,922 features\n",
      "[simplify] Repaired 1,585 intersections; 8 intersections could not be repaired\n",
      "[clean] Retained 2,922 of 2,922 features\n",
      "[o] Wrote /home/sofia/dev/skytruth-30x30/data/data/mpa-terrestrial/processed/tiles/parts/part87.json\n",
      "Allocating 32 GB of heap memory\n",
      "[clean] Retained 2,923 of 2,923 features\n",
      "[simplify] Repaired 70,987 intersections; 1,056 intersections could not be repaired\n",
      "[clean] Retained 2,923 of 2,923 features\n",
      "[o] Wrote /home/sofia/dev/skytruth-30x30/data/data/mpa-terrestrial/processed/tiles/parts/part88.json\n",
      "Allocating 32 GB of heap memory\n",
      "[clean] Retained 2,922 of 2,922 features\n",
      "[simplify] Repaired 1,271 intersections; 92 intersections could not be repaired\n",
      "[clean] Retained 2,922 of 2,922 features\n",
      "[o] Wrote /home/sofia/dev/skytruth-30x30/data/data/mpa-terrestrial/processed/tiles/parts/part89.json\n",
      "Allocating 32 GB of heap memory\n",
      "[clean] Retained 2,923 of 2,923 features\n",
      "[simplify] Repaired 2,455 intersections; 12 intersections could not be repaired\n",
      "[clean] Retained 2,923 of 2,923 features\n",
      "[o] Wrote /home/sofia/dev/skytruth-30x30/data/data/mpa-terrestrial/processed/tiles/parts/part8.json\n",
      "Allocating 32 GB of heap memory\n",
      "[clean] Retained 2,923 of 2,923 features\n",
      "[simplify] Repaired 4,606 intersections; 27 intersections could not be repaired\n",
      "[clean] Retained 2,923 of 2,923 features\n",
      "[o] Wrote /home/sofia/dev/skytruth-30x30/data/data/mpa-terrestrial/processed/tiles/parts/part90.json\n",
      "Allocating 32 GB of heap memory\n",
      "[clean] Retained 2,923 of 2,923 features\n",
      "[simplify] Repaired 1,454 intersections; 52 intersections could not be repaired\n",
      "[clean] Retained 2,923 of 2,923 features\n",
      "[o] Wrote /home/sofia/dev/skytruth-30x30/data/data/mpa-terrestrial/processed/tiles/parts/part91.json\n",
      "Allocating 32 GB of heap memory\n",
      "[clean] Retained 2,922 of 2,922 features\n",
      "[simplify] Repaired 747 intersections; 14 intersections could not be repaired\n",
      "[clean] Retained 2,922 of 2,922 features\n",
      "[o] Wrote /home/sofia/dev/skytruth-30x30/data/data/mpa-terrestrial/processed/tiles/parts/part92.json\n",
      "Allocating 32 GB of heap memory\n",
      "[clean] Retained 2,923 of 2,923 features\n",
      "[simplify] Repaired 3,089 intersections; 351 intersections could not be repaired\n",
      "[clean] Retained 2,923 of 2,923 features\n",
      "[o] Wrote /home/sofia/dev/skytruth-30x30/data/data/mpa-terrestrial/processed/tiles/parts/part93.json\n",
      "Allocating 32 GB of heap memory\n",
      "[clean] Retained 2,922 of 2,922 features\n",
      "[simplify] Repaired 2,157 intersections; 35 intersections could not be repaired\n",
      "[clean] Retained 2,922 of 2,922 features\n",
      "[o] Wrote /home/sofia/dev/skytruth-30x30/data/data/mpa-terrestrial/processed/tiles/parts/part94.json\n",
      "Allocating 32 GB of heap memory\n",
      "[clean] Retained 2,923 of 2,923 features\n",
      "[simplify] Repaired 1,459 intersections; 16 intersections could not be repaired\n",
      "[clean] Retained 2,923 of 2,923 features\n",
      "[o] Wrote /home/sofia/dev/skytruth-30x30/data/data/mpa-terrestrial/processed/tiles/parts/part95.json\n",
      "Allocating 32 GB of heap memory\n",
      "[clean] Retained 2,923 of 2,923 features\n",
      "[simplify] Repaired 37,172 intersections; 7,581 intersections could not be repaired\n",
      "[clean] Retained 2,922 of 2,923 features\n",
      "[o] Wrote /home/sofia/dev/skytruth-30x30/data/data/mpa-terrestrial/processed/tiles/parts/part96.json\n",
      "Allocating 32 GB of heap memory\n",
      "[clean] Retained 2,922 of 2,922 features\n",
      "[simplify] Repaired 9,139 intersections; 1,597 intersections could not be repaired\n",
      "[clean] Retained 2,922 of 2,922 features\n",
      "[o] Wrote /home/sofia/dev/skytruth-30x30/data/data/mpa-terrestrial/processed/tiles/parts/part97.json\n",
      "Allocating 32 GB of heap memory\n",
      "[clean] Retained 2,923 of 2,923 features\n",
      "[simplify] Repaired 16,085 intersections; 112 intersections could not be repaired\n",
      "[clean] Retained 2,923 of 2,923 features\n",
      "[o] Wrote /home/sofia/dev/skytruth-30x30/data/data/mpa-terrestrial/processed/tiles/parts/part98.json\n",
      "Allocating 32 GB of heap memory\n",
      "[clean] Retained 2,923 of 2,923 features\n",
      "[simplify] Repaired 5 intersections\n",
      "[clean] Retained 2,923 of 2,923 features\n",
      "[o] Wrote /home/sofia/dev/skytruth-30x30/data/data/mpa-terrestrial/processed/tiles/parts/part99.json\n",
      "Allocating 32 GB of heap memory\n",
      "[clean] Retained 2,923 of 2,923 features\n",
      "[simplify] Repaired 3,395 intersections; 20 intersections could not be repaired\n",
      "[clean] Retained 2,923 of 2,923 features\n",
      "[o] Wrote /home/sofia/dev/skytruth-30x30/data/data/mpa-terrestrial/processed/tiles/parts/part9.json\n"
     ]
    }
   ],
   "source": [
    "# Simplify the geometries in each part\n",
    "!mapshaper-xl 32gb -i /home/sofia/dev/skytruth-30x30/data/data/mpa-terrestrial/processed/preprocess/parts/*.shp  -filter-fields fields=WDPAID,NAME,PA_DEF,GIS_AREA,PARENT_ISO -clean allow-overlaps rewind -simplify dp 30% keep-shapes planar -clean allow-overlaps -o /home/sofia/dev/skytruth-30x30/data/data/mpa-terrestrial/processed/tiles/parts format=geojson"
   ]
  },
  {
   "cell_type": "code",
   "execution_count": 29,
   "metadata": {},
   "outputs": [
    {
     "name": "stdout",
     "output_type": "stream",
     "text": [
      "Allocating 32 GB of heap memory\n",
      "[info] \n",
      "=======================================\n",
      "Layer:    part\n",
      "---------------------------------------\n",
      "Type:     polygon\n",
      "Records:  292,258\n",
      "Bounds:   -17365351.30054095,-8681816.563254528,17455418.620513726,8381220.576463436\n",
      "CRS:      [unknown]\n",
      "Source:   /home/sofia/dev/skytruth-30x30/data/data/mpa-terrestrial/processed/tiles/parts/part0.json\n",
      "\n",
      "Attribute data\n",
      "------------+--------------------------\n",
      " Field      | First value\n",
      "------------+--------------------------\n",
      " GIS_AREA   | 218.56922190237\n",
      " NAME       | 'Laguna de los Pozuelos'\n",
      " PA_DEF     | '1'\n",
      " PARENT_ISO | 'ARG'\n",
      " WDPAID     |   3\n",
      "------------+--------------------------\n",
      "\n",
      "[o] RFC 7946 warning: non-WGS84 GeoJSON output.\n",
      "[o] Wrote /home/sofia/dev/skytruth-30x30/data/data/mpa-terrestrial/processed/tiles/mpa-terrestrial_tiles.json\n"
     ]
    }
   ],
   "source": [
    "# Combine simplified files into one\n",
    "!mapshaper-xl 32gb -i /home/sofia/dev/skytruth-30x30/data/data/mpa-terrestrial/processed/tiles/parts/*.json combine-files -merge-layers -info -o /home/sofia/dev/skytruth-30x30/data/data/mpa-terrestrial/processed/tiles/mpa-terrestrial_tiles.json format=geojson"
   ]
  },
  {
   "cell_type": "code",
   "execution_count": 30,
   "metadata": {},
   "outputs": [
    {
     "name": "stderr",
     "output_type": "stream",
     "text": [
      "For layer 0, using name \"mpaterrestrial_tiles\"\n",
      "/home/sofia/dev/skytruth-30x30/data/data/mpa-terrestrial/processed/tiles/mpa-terrestrial_tiles.json:2292: Reached EOF without all containers being closed: in JSON object {\"type\":\"FeatureCollection\",\"features\":[]}\n",
      "/home/sofia/dev/skytruth-30x30/data/data/mpa-terrestrial/processed/tiles/mpa-terrestrial_tiles.json:8054: Found ] at top level: \n",
      "292258 features, 145131001 bytes of geometry, 14491838 bytes of string pool\n",
      "Choosing a maxzoom of -z6 for features typically 16077 feet (4901 meters) apart, and at least 1742 feet (531 meters) apart\n",
      "Choosing a maxzoom of -z8 for resolution of about 1487 feet (453 meters) within features\n",
      "tile 0/0/0 size is 858242 with detail 12, >500000    \n",
      "tile 1/0/0 size is 531410 with detail 12, >500000    \n",
      "tile 1/1/0 size is 997206 with detail 12, >500000    \n",
      "tile 2/1/1 size is 617557 with detail 12, >500000    \n",
      "tile 2/2/1 size is 1580755 with detail 12, >500000    \n",
      "tile 2/2/1 size is 814261 with detail 11, >500000    \n",
      "tile 3/4/2 size is 2364270 with detail 12, >500000    \n",
      "tile 3/4/2 size is 1269866 with detail 11, >500000    \n",
      "tile 3/4/2 size is 626476 with detail 10, >500000    \n",
      "tile 4/4/5 size is 518158 with detail 12, >500000    \n",
      "tile 4/9/4 size is 574378 with detail 12, >500000    \n",
      "tile 4/9/5 size is 542672 with detail 12, >500000    \n",
      "tile 4/8/4 size is 769197 with detail 12, >500000    \n",
      "tile 4/8/5 size is 2263374 with detail 12, >500000    \n",
      "tile 4/8/5 size is 1306184 with detail 11, >500000    \n",
      "tile 4/8/5 size is 702654 with detail 10, >500000    \n",
      "tile 5/18/9 size is 517344 with detail 12, >500000    \n",
      "tile 5/17/9 size is 680231 with detail 12, >500000    \n",
      "tile 5/17/11 size is 661616 with detail 12, >500000    \n",
      "tile 5/16/11 size is 826739 with detail 12, >500000    \n",
      "tile 5/17/10 size is 860937 with detail 12, >500000    \n",
      "tile 5/17/10 size is 536487 with detail 11, >500000    \n",
      "tile 5/16/10 size is 1497332 with detail 12, >500000    \n",
      "tile 5/16/10 size is 888181 with detail 11, >500000    \n",
      "tile 6/34/21 size is 554828 with detail 12, >500000    \n",
      "tile 6/33/22 size is 793806 with detail 12, >500000    \n",
      "tile 6/33/21 size is 1492123 with detail 12, >500000    \n",
      "tile 6/33/21 size is 962449 with detail 11, >500000    \n",
      "tile 6/33/21 size is 573074 with detail 10, >500000    \n",
      "tile 7/66/42 size is 805262 with detail 12, >500000    \n",
      "tile 7/66/42 size is 571487 with detail 11, >500000    \n",
      "  99.9%  8/139/86   \n"
     ]
    },
    {
     "data": {
      "text/plain": [
       "PosixPath('/home/sofia/dev/skytruth-30x30/data/data/mpa-terrestrial/processed/tiles/mpa-terrestrial_tiles.mbtiles')"
      ]
     },
     "execution_count": 30,
     "metadata": {},
     "output_type": "execute_result"
    }
   ],
   "source": [
    "# Generate tiles\n",
    "mbtileGeneration(source_dir.get_step_fmt_file_path(current_step, \"json\"))"
   ]
  },
  {
   "cell_type": "code",
   "execution_count": 31,
   "metadata": {},
   "outputs": [
    {
     "name": "stdout",
     "output_type": "stream",
     "text": [
      "upload: data/mpa-terrestrial/processed/tiles/mpa-terrestrial_tiles.mbtiles to s3://tilestream-tilesets-production/da/_pending/ktgzxoiw6pt17hp0ixdp0s1mc/skytruth\n"
     ]
    },
    {
     "name": "stderr",
     "output_type": "stream",
     "text": [
      "Linking tileset to Mapbox: 100%|█████████████████████████████████████████████████████████████████████████████████████████████████████████████████| 100/100 [01:12<00:00,  1.38it/s]\n"
     ]
    },
    {
     "data": {
      "text/plain": [
       "True"
      ]
     },
     "execution_count": 31,
     "metadata": {},
     "output_type": "execute_result"
    }
   ],
   "source": [
    "# Upload to mapbox\n",
    "uploadToMapbox(\n",
    "    source_dir.get_step_fmt_file_path(current_step, \"mbtiles\"),\n",
    "    collection_name,\n",
    "    mysettings.MAPBOX_USER,\n",
    "    mysettings.MAPBOX_TOKEN,\n",
    ")"
   ]
  },
  {
   "cell_type": "markdown",
   "metadata": {
    "jp-MarkdownHeadingCollapsed": true
   },
   "source": [
    "### MPA Atlas "
   ]
  },
  {
   "cell_type": "code",
   "execution_count": 7,
   "metadata": {},
   "outputs": [
    {
     "name": "stdout",
     "output_type": "stream",
     "text": [
      "/home/mambauser/data/mpaatlas/processed/mpaatlas_preprocess.zip\n",
      "/home/mambauser/data/mpaatlas/processed/preprocess\n"
     ]
    },
    {
     "name": "stderr",
     "output_type": "stream",
     "text": [
      "Allocating 50 GB of heap memory\n",
      "[clean] Retained 863 of 870 features\n",
      "[o] Wrote /home/mambauser/data/mpaatlas/processed/preprocess/mpaatlas_preprocess.json\n",
      "For layer 0, using name \"mpaatlas_preprocess\"\n",
      "/home/mambauser/data/mpaatlas/processed/preprocess/mpaatlas_preprocess.json:293: Reached EOF without all containers being closed\n",
      "In JSON object {\"type\":\"FeatureCollection\",\"features\":[]}\n",
      "/home/mambauser/data/mpaatlas/processed/preprocess/mpaatlas_preprocess.json:21: Found ] at top level\n",
      "863 features, 33449716 bytes of geometry, 29354 bytes of separate metadata, 53170 bytes of string pool\n",
      "Choosing a maxzoom of -z0 for features about 282844 feet (86211 meters) apart\n",
      "Choosing a maxzoom of -z12 for resolution of about 98 feet (30 meters) within features\n",
      "  99.9%  12/1004/2052  \n"
     ]
    },
    {
     "data": {
      "text/plain": [
       "PosixPath('/home/mambauser/data/mpaatlas/processed/tiles/mpaatlas_tiles.mbtiles')"
      ]
     },
     "execution_count": 7,
     "metadata": {},
     "output_type": "execute_result"
    }
   ],
   "source": [
    "pipe = \"mpaatlas\"\n",
    "collection_name = \"mpa_atlas\"\n",
    "\n",
    "source_dir = FileConventionHandler(pipe)\n",
    "# Download the data file && unzip it if needed\n",
    "download_and_unzip_if_needed(source_dir, prev_step, mysettings)\n",
    "\n",
    "# generate the mbtiles\n",
    "mbtileGeneration(\n",
    "    source_dir.get_step_fmt_file_path(prev_step, \"shp\"),\n",
    "    source_dir.get_step_fmt_file_path(current_step, \"mbtiles\"),\n",
    ")"
   ]
  },
  {
   "cell_type": "code",
   "execution_count": 8,
   "metadata": {},
   "outputs": [
    {
     "name": "stdout",
     "output_type": "stream",
     "text": [
      "upload: ../../data/mpaatlas/processed/tiles/mpaatlas_tiles.mbtiles to s3://tilestream-tilesets-production/32/_pending/4py3xz71znm1h1p9cr1v050mc/skytruth\n"
     ]
    },
    {
     "name": "stderr",
     "output_type": "stream",
     "text": [
      "Linking tileset to Mapbox: 100%|██████████| 100/100 [05:24<00:00,  3.25s/it]\n"
     ]
    },
    {
     "data": {
      "text/plain": [
       "True"
      ]
     },
     "execution_count": 8,
     "metadata": {},
     "output_type": "execute_result"
    }
   ],
   "source": [
    "uploadToMapbox(\n",
    "    source_dir.get_step_fmt_file_path(current_step, \"mbtiles\"),\n",
    "    collection_name,\n",
    "    mysettings.MAPBOX_USER,\n",
    "    mysettings.MAPBOX_TOKEN,\n",
    ")"
   ]
  },
  {
   "cell_type": "markdown",
   "metadata": {
    "jp-MarkdownHeadingCollapsed": true
   },
   "source": [
    "### Protected seas"
   ]
  },
  {
   "cell_type": "code",
   "execution_count": 43,
   "metadata": {},
   "outputs": [],
   "source": [
    "pipe = \"protectedseas\"\n",
    "collection_name = \"protected_seas\"\n",
    "\n",
    "pipe_dir = FileConventionHandler(pipe)\n",
    "input_file_moderate = pipe_dir.get_processed_step_path(prev_step).joinpath(\"ProtectedSeas_Navigator_LFP3_20240531.zip\")\n",
    "input_file_high = pipe_dir.get_processed_step_path(prev_step).joinpath(\"ProtectedSeas_Navigator_LFP4_5_20240531.zip\")\n",
    "\n",
    "input_file = pipe_dir.get_processed_step_path(prev_step).joinpath(\"protectedseas.json\")\n",
    "output_file = pipe_dir.get_processed_step_path(current_step).joinpath(\"protectedseas_tiles.mbtiles\")\n",
    "\n",
    "# Download the protected seas layers from the bucket && unzip it\n",
    "writeReadGCP(\n",
    "    credentials=mysettings.GCS_KEYFILE_JSON,\n",
    "    bucket_name=mysettings.GCS_BUCKET,\n",
    "    blob_name=\"ProtectedSeas/ProtectedSeas_Navigator_LFP3_20240531.zip\",\n",
    "    file=input_file_moderate,\n",
    "    operation=\"r\",\n",
    ")\n",
    "\n",
    "writeReadGCP(\n",
    "    credentials=mysettings.GCS_KEYFILE_JSON,\n",
    "    bucket_name=mysettings.GCS_BUCKET,\n",
    "    blob_name=\"ProtectedSeas/ProtectedSeas_Navigator_LFP4_5_20240531.zip\",\n",
    "    file=input_file_high,\n",
    "    operation=\"r\",\n",
    ")\n",
    "\n",
    "# Load the data\n",
    "protectedseas_layer_mod = gpd.read_file(input_file_moderate).pipe(clean_geometries)\n",
    "protectedseas_layer_high = gpd.read_file(input_file_high).pipe(clean_geometries)\n"
   ]
  },
  {
   "cell_type": "code",
   "execution_count": 44,
   "metadata": {},
   "outputs": [],
   "source": [
    "protectedseas_layer_high = protectedseas_layer_high[['SITE_ID', 'SITE_NAME','removal_of','geometry']]\n",
    "protectedseas_layer_mod = protectedseas_layer_mod[['SITE_ID', 'SITE_NAME','removal_of','geometry']]"
   ]
  },
  {
   "cell_type": "code",
   "execution_count": 45,
   "metadata": {},
   "outputs": [],
   "source": [
    "protectedseas_layer_high['FPS_cat'] = 'highly'\n",
    "protectedseas_layer_mod['FPS_cat'] = 'moderately'"
   ]
  },
  {
   "cell_type": "code",
   "execution_count": 46,
   "metadata": {},
   "outputs": [
    {
     "data": {
      "text/html": [
       "<div>\n",
       "<style scoped>\n",
       "    .dataframe tbody tr th:only-of-type {\n",
       "        vertical-align: middle;\n",
       "    }\n",
       "\n",
       "    .dataframe tbody tr th {\n",
       "        vertical-align: top;\n",
       "    }\n",
       "\n",
       "    .dataframe thead th {\n",
       "        text-align: right;\n",
       "    }\n",
       "</style>\n",
       "<table border=\"1\" class=\"dataframe\">\n",
       "  <thead>\n",
       "    <tr style=\"text-align: right;\">\n",
       "      <th></th>\n",
       "      <th>SITE_ID</th>\n",
       "      <th>SITE_NAME</th>\n",
       "      <th>removal_of</th>\n",
       "      <th>geometry</th>\n",
       "      <th>FPS_cat</th>\n",
       "    </tr>\n",
       "  </thead>\n",
       "  <tbody>\n",
       "    <tr>\n",
       "      <th>0</th>\n",
       "      <td>AIAG19</td>\n",
       "      <td>Southern No Net Zone</td>\n",
       "      <td>3</td>\n",
       "      <td>POLYGON ((-61.82426 17.59172, -61.82393 17.591...</td>\n",
       "      <td>moderately</td>\n",
       "    </tr>\n",
       "  </tbody>\n",
       "</table>\n",
       "</div>"
      ],
      "text/plain": [
       "  SITE_ID             SITE_NAME  removal_of  \\\n",
       "0  AIAG19  Southern No Net Zone           3   \n",
       "\n",
       "                                            geometry     FPS_cat  \n",
       "0  POLYGON ((-61.82426 17.59172, -61.82393 17.591...  moderately  "
      ]
     },
     "execution_count": 46,
     "metadata": {},
     "output_type": "execute_result"
    }
   ],
   "source": [
    "# Merge the two layers\n",
    "protectedseas_layer = gpd.GeoDataFrame(\n",
    "    pd.concat([protectedseas_layer_mod, protectedseas_layer_high], ignore_index=True)\n",
    ")\n",
    "\n",
    "# Save merged layer \n",
    "protectedseas_layer.to_file(input_file, driver=\"GeoJSON\")\n",
    "\n",
    "protectedseas_layer.head(1)"
   ]
  },
  {
   "cell_type": "code",
   "execution_count": 47,
   "metadata": {},
   "outputs": [
    {
     "name": "stderr",
     "output_type": "stream",
     "text": [
      "Allocating 32 GB of heap memory\n",
      "[clean] Retained 6,741 of 6,741 features\n",
      "[simplify] Repaired 5,237 intersections; 629 intersections could not be repaired\n",
      "[clean] Retained 6,741 of 6,741 features\n",
      "[o] Wrote /home/sofia/dev/skytruth-30x30/data/data/protectedseas/processed/preprocess/protectedseas.json\n"
     ]
    },
    {
     "data": {
      "text/plain": [
       "CompletedProcess(args='mapshaper-xl 32gb -i /home/sofia/dev/skytruth-30x30/data/data/protectedseas/processed/preprocess/protectedseas.json  -clean allow-overlaps rewind -simplify dp 10% keep-shapes planar -clean allow-overlaps -o /home/sofia/dev/skytruth-30x30/data/data/protectedseas/processed/preprocess/protectedseas.json force format=geojson', returncode=0)"
      ]
     },
     "execution_count": 47,
     "metadata": {},
     "output_type": "execute_result"
    }
   ],
   "source": [
    "# simplify the geometries\n",
    "Mapshaper(32).input([input_file.as_posix()]).clean(\n",
    "    allow_overlaps=True, rewind=True\n",
    ").simplify(\"dp 10% keep-shapes planar\").clean(allow_overlaps=True).output(\n",
    "    input_file.as_posix(),\n",
    "    force=True,\n",
    "    format=\"geojson\",\n",
    ").execute()"
   ]
  },
  {
   "cell_type": "code",
   "execution_count": 48,
   "metadata": {},
   "outputs": [
    {
     "name": "stderr",
     "output_type": "stream",
     "text": [
      "For layer 0, using name \"protectedseas\"\n",
      "/home/sofia/dev/skytruth-30x30/data/data/protectedseas/processed/preprocess/protectedseas.json:462: Found ] at top level: \n",
      "/home/sofia/dev/skytruth-30x30/data/data/protectedseas/processed/preprocess/protectedseas.json:270: Reached EOF without all containers being closed: in JSON object {\"type\":\"FeatureCollection\",\"features\":[]}\n",
      "6741 features, 9193728 bytes of geometry, 372650 bytes of string pool\n",
      "Choosing a maxzoom of -z4 for features typically 73700 feet (22464 meters) apart, and at least 4638 feet (1414 meters) apart\n",
      "Choosing a maxzoom of -z9 for resolution of about 755 feet (230 meters) within features\n",
      "  99.9%  9/360/253  \n"
     ]
    },
    {
     "data": {
      "text/plain": [
       "PosixPath('/home/sofia/dev/skytruth-30x30/data/data/protectedseas/processed/tiles/protectedseas_tiles.mbtiles')"
      ]
     },
     "execution_count": 48,
     "metadata": {},
     "output_type": "execute_result"
    }
   ],
   "source": [
    "# Generate mbtiles\n",
    "mbtileGeneration(input_file, output_file)"
   ]
  },
  {
   "cell_type": "code",
   "execution_count": 49,
   "metadata": {},
   "outputs": [
    {
     "name": "stdout",
     "output_type": "stream",
     "text": [
      "upload: data/protectedseas/processed/tiles/protectedseas_tiles.mbtiles to s3://tilestream-tilesets-production/49/_pending/wp5zt2tnhpm1zdx09zzczs1mc/skytruth\n"
     ]
    },
    {
     "name": "stderr",
     "output_type": "stream",
     "text": [
      "Linking tileset to Mapbox: 100%|███████████████████████████████████████████████████████████████████████████████████████████████████████████████████████████████████| 100/100 [02:35<00:00,  1.55s/it]\n"
     ]
    },
    {
     "data": {
      "text/plain": [
       "True"
      ]
     },
     "execution_count": 49,
     "metadata": {},
     "output_type": "execute_result"
    }
   ],
   "source": [
    "uploadToMapbox(\n",
    "    output_file,\n",
    "    \"protected_seas\",\n",
    "    mysettings.MAPBOX_USER,\n",
    "    mysettings.MAPBOX_TOKEN,\n",
    ")"
   ]
  },
  {
   "cell_type": "markdown",
   "metadata": {},
   "source": [
    "### Habitat layers"
   ]
  },
  {
   "cell_type": "code",
   "execution_count": null,
   "metadata": {},
   "outputs": [],
   "source": [
    "# TODO: Add all the habitats layer processing\n",
    "habitat = mysettings.DATA_DIR.joinpath(\"habitat_intermediate\", \"layer\").resolve()"
   ]
  },
  {
   "cell_type": "markdown",
   "metadata": {},
   "source": [
    "#### Warm water corals"
   ]
  },
  {
   "cell_type": "code",
   "execution_count": null,
   "metadata": {},
   "outputs": [],
   "source": [
    "warm_water_corals = habitat.joinpath(\"warm_water_corals.mbtiles\").resolve()"
   ]
  },
  {
   "cell_type": "code",
   "execution_count": null,
   "metadata": {},
   "outputs": [],
   "source": [
    "uploadToMapbox(\n",
    "    warm_water_corals,\n",
    "    \"warm_water_corals\",\n",
    "    mysettings.MAPBOX_USER,\n",
    "    mysettings.MAPBOX_TOKEN,\n",
    ")"
   ]
  },
  {
   "cell_type": "markdown",
   "metadata": {},
   "source": [
    "### Contextual layers"
   ]
  },
  {
   "cell_type": "code",
   "execution_count": null,
   "metadata": {},
   "outputs": [],
   "source": [
    "# Todo: we need to add the contextual layers upload here"
   ]
  }
 ],
 "metadata": {
  "kernelspec": {
   "display_name": "Python 3 (ipykernel)",
   "language": "python",
   "name": "python3"
  },
  "language_info": {
   "codemirror_mode": {
    "name": "ipython",
    "version": 3
   },
   "file_extension": ".py",
   "mimetype": "text/x-python",
   "name": "python",
   "nbconvert_exporter": "python",
   "pygments_lexer": "ipython3",
   "version": "3.12.5"
  }
 },
 "nbformat": 4,
 "nbformat_minor": 2
}
