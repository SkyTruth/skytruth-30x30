{
 "cells": [
  {
   "cell_type": "code",
   "execution_count": 9,
   "metadata": {},
   "outputs": [
    {
     "name": "stdout",
     "output_type": "stream",
     "text": [
      "The autoreload extension is already loaded. To reload it, use:\n",
      "  %reload_ext autoreload\n"
     ]
    }
   ],
   "source": [
    "%load_ext autoreload\n",
    "%autoreload 2"
   ]
  },
  {
   "cell_type": "code",
   "execution_count": 2,
   "metadata": {},
   "outputs": [],
   "source": [
    "from pathlib import Path\n",
    "import sys\n",
    "import geopandas as gpd\n",
    "import pandas as pd\n",
    "\n",
    "\n",
    "scripts_dir = Path(\"../..\").joinpath(\"src\")\n",
    "if scripts_dir not in sys.path:\n",
    "    sys.path.insert(0, scripts_dir.resolve().as_posix())\n",
    "from helpers.mapshaper import Mapshaper\n",
    "from helpers.tippcanoe import mbtileGeneration\n",
    "from helpers.mapbox_uploader import uploadToMapbox\n",
    "from helpers.settings import get_settings\n",
    "from helpers.file_handler import FileConventionHandler\n",
    "from helpers.utils import download_and_unzip_if_needed, writeReadGCP\n",
    "\n",
    "from data_commons.loader import load_regions"
   ]
  },
  {
   "cell_type": "code",
   "execution_count": 3,
   "metadata": {},
   "outputs": [],
   "source": [
    "mysettings = get_settings()\n",
    "prev_step = \"preprocess\"\n",
    "current_step = \"tiles\""
   ]
  },
  {
   "cell_type": "markdown",
   "metadata": {
    "jp-MarkdownHeadingCollapsed": true
   },
   "source": [
    "### EEZs: Exclusive Economic Zones "
   ]
  },
  {
   "cell_type": "code",
   "execution_count": 5,
   "metadata": {},
   "outputs": [
    {
     "name": "stdout",
     "output_type": "stream",
     "text": [
      "/home/mambauser/data/eez/processed/eez_preprocess.zip\n",
      "/home/mambauser/data/eez/processed/preprocess\n"
     ]
    },
    {
     "name": "stderr",
     "output_type": "stream",
     "text": [
      "Allocating 8 GB of heap memory\n",
      "[o] Wrote /home/mambauser/data/eez/processed/tiles/eez_tiles.json\n"
     ]
    },
    {
     "data": {
      "text/plain": [
       "PosixPath('/home/mambauser/data/eez/processed/tiles/eez_v11.mbtiles')"
      ]
     },
     "execution_count": 5,
     "metadata": {},
     "output_type": "execute_result"
    }
   ],
   "source": [
    "pipe = \"eez\"\n",
    "collection_name = f\"{pipe}_v11\"\n",
    "\n",
    "eez_dir = FileConventionHandler(pipe)\n",
    "# Download the EEZ file && unzip it\n",
    "download_and_unzip_if_needed(eez_dir, prev_step, mysettings)\n",
    "\n",
    "# simplify the geometries\n",
    "Mapshaper(8).input([eez_dir.get_step_fmt_file_path(prev_step, \"shp\").as_posix()]).filter_fields(\n",
    "    fields=\",\".join([\"GEONAME\", \"POL_TYPE\", \"ISO_SOV1\", \"ISO_SOV2\", \"ISO_SOV3\"])\n",
    ").output(\n",
    "    eez_dir.get_step_fmt_file_path(current_step, \"json\").as_posix(), force=True, format=\"geojson\"\n",
    ").execute()\n",
    "mbtileGeneration(\n",
    "    eez_dir.get_step_fmt_file_path(current_step, \"json\"),\n",
    "    eez_dir.get_processed_step_path(current_step).joinpath(f\"{collection_name}.mbtiles\"),\n",
    ")"
   ]
  },
  {
   "cell_type": "code",
   "execution_count": null,
   "metadata": {},
   "outputs": [],
   "source": [
    "uploadToMapbox(\n",
    "    eez_dir.get_processed_step_path(current_step).joinpath(f\"{collection_name}.mbtiles\"),\n",
    "    collection_name,\n",
    "    mysettings.MAPBOX_USER,\n",
    "    mysettings.MAPBOX_TOKEN,\n",
    ")"
   ]
  },
  {
   "cell_type": "markdown",
   "metadata": {},
   "source": [
    "#### EEZs: wdpa Regions"
   ]
  },
  {
   "cell_type": "code",
   "execution_count": 21,
   "metadata": {},
   "outputs": [
    {
     "ename": "NameError",
     "evalue": "name 'eez_dir' is not defined",
     "output_type": "error",
     "traceback": [
      "\u001b[0;31m---------------------------------------------------------------------------\u001b[0m",
      "\u001b[0;31mNameError\u001b[0m                                 Traceback (most recent call last)",
      "Cell \u001b[0;32mIn[21], line 4\u001b[0m\n\u001b[1;32m      1\u001b[0m collection_name \u001b[38;5;241m=\u001b[39m \u001b[38;5;124m\"\u001b[39m\u001b[38;5;124mregions\u001b[39m\u001b[38;5;124m\"\u001b[39m\n\u001b[1;32m      3\u001b[0m \u001b[38;5;66;03m# load the EEZ file & the regions file\u001b[39;00m\n\u001b[0;32m----> 4\u001b[0m eez_data \u001b[38;5;241m=\u001b[39m gpd\u001b[38;5;241m.\u001b[39mread_file(\u001b[43meez_dir\u001b[49m\u001b[38;5;241m.\u001b[39mget_step_fmt_file_path(prev_step, \u001b[38;5;124m\"\u001b[39m\u001b[38;5;124mshp\u001b[39m\u001b[38;5;124m\"\u001b[39m)\u001b[38;5;241m.\u001b[39mas_posix())\n\u001b[1;32m      5\u001b[0m regions_df \u001b[38;5;241m=\u001b[39m pd\u001b[38;5;241m.\u001b[39mDataFrame(\n\u001b[1;32m      6\u001b[0m     [\n\u001b[1;32m      7\u001b[0m         {\u001b[38;5;124m\"\u001b[39m\u001b[38;5;124mregion_id\u001b[39m\u001b[38;5;124m\"\u001b[39m: data[\u001b[38;5;124m\"\u001b[39m\u001b[38;5;124mregion_iso\u001b[39m\u001b[38;5;124m\"\u001b[39m], \u001b[38;5;124m\"\u001b[39m\u001b[38;5;124mlocation_id\u001b[39m\u001b[38;5;124m\"\u001b[39m: iso}\n\u001b[0;32m   (...)\u001b[0m\n\u001b[1;32m     10\u001b[0m     ]\n\u001b[1;32m     11\u001b[0m )\n\u001b[1;32m     13\u001b[0m \u001b[38;5;66;03m# merge the two files\u001b[39;00m\n",
      "\u001b[0;31mNameError\u001b[0m: name 'eez_dir' is not defined"
     ]
    }
   ],
   "source": [
    "collection_name = \"regions\"\n",
    "\n",
    "# load the EEZ file & the regions file\n",
    "eez_data = gpd.read_file(eez_dir.get_step_fmt_file_path(prev_step, \"shp\").as_posix())\n",
    "regions_df = pd.DataFrame(\n",
    "    [\n",
    "        {\"region_id\": data[\"region_iso\"], \"location_id\": iso}\n",
    "        for data in load_regions().get(\"data\", [])\n",
    "        for iso in data[\"country_iso_3s\"]\n",
    "    ]\n",
    ")\n",
    "\n",
    "# merge the two files\n",
    "gpd.GeoDataFrame(\n",
    "    pd.merge(\n",
    "        eez_data,\n",
    "        regions_df,\n",
    "        how=\"left\",\n",
    "        left_on=\"ISO_SOV1\",\n",
    "        right_on=\"location_id\",\n",
    "        sort=True,\n",
    "        copy=True,\n",
    "    ),\n",
    "    crs=eez_data.crs,\n",
    ").to_file(\n",
    "    filename=eez_dir.get_processed_step_path(prev_step)\n",
    "    .joinpath(f\"{pipe}_{prev_step}_{collection_name}.shp\")\n",
    "    .as_posix(),\n",
    "    driver=\"ESRI Shapefile\",\n",
    ")\n",
    "\n",
    "# dissolve by region_id\n",
    "\n",
    "Mapshaper(16).input(\n",
    "    [\n",
    "        eez_dir.get_processed_step_path(prev_step)\n",
    "        .joinpath(f\"{pipe}_{prev_step}_{collection_name}.shp\")\n",
    "        .as_posix()\n",
    "    ]\n",
    ").dissolve2(fields=\"region_id\").output(\n",
    "    eez_dir.get_processed_step_path(current_step).joinpath(f\"{collection_name}.json\").as_posix(),\n",
    "    force=True,\n",
    "    format=\"geojson\",\n",
    ").execute()\n",
    "\n",
    "# generate the mbtiles\n",
    "mbtileGeneration(eez_dir.get_processed_step_path(current_step).joinpath(f\"{collection_name}.json\"))"
   ]
  },
  {
   "cell_type": "code",
   "execution_count": 34,
   "metadata": {},
   "outputs": [
    {
     "name": "stdout",
     "output_type": "stream",
     "text": [
      "upload: ../../data/eez/processed/tiles/regions.mbtiles to s3://tilestream-tilesets-production/97/_pending/ojc7oxn5cpu10yo0o9tsl1xlc/skytruth\n"
     ]
    },
    {
     "name": "stderr",
     "output_type": "stream",
     "text": [
      "Linking tileset to Mapbox: 100%|██████████| 100/100 [03:00<00:00,  1.81s/it]\n"
     ]
    },
    {
     "data": {
      "text/plain": [
       "True"
      ]
     },
     "execution_count": 34,
     "metadata": {},
     "output_type": "execute_result"
    }
   ],
   "source": [
    "uploadToMapbox(\n",
    "    eez_dir.get_processed_step_path(current_step).joinpath(f\"{collection_name}.mbtiles\"),\n",
    "    collection_name,\n",
    "    mysettings.MAPBOX_USER,\n",
    "    mysettings.MAPBOX_TOKEN,\n",
    ")"
   ]
  },
  {
   "cell_type": "markdown",
   "metadata": {},
   "source": [
    "### Countries - gadm"
   ]
  },
  {
   "cell_type": "code",
   "execution_count": 6,
   "metadata": {},
   "outputs": [
    {
     "name": "stdout",
     "output_type": "stream",
     "text": [
      "/home/mambauser/data/gadm/processed/gadm_preprocess.zip\n",
      "/home/mambauser/data/gadm/processed/preprocess\n"
     ]
    },
    {
     "name": "stderr",
     "output_type": "stream",
     "text": [
      "Allocating 64 GB of heap memory\n",
      "[o] Wrote /home/mambauser/data/gadm/processed/tiles/gadm_tiles.json\n",
      "For layer 0, using name \"gadm_tiles\"\n",
      "/home/mambauser/data/gadm/processed/tiles/gadm_tiles.json:12: Found ] at top level\n",
      "/home/mambauser/data/gadm/processed/tiles/gadm_tiles.json:10: Reached EOF without all containers being closed\n",
      "In JSON object {\"type\":\"FeatureCollection\",\"features\":[]}\n",
      "206 features, 181286774 bytes of geometry, 3347 bytes of separate metadata, 9901 bytes of string pool\n",
      "Choosing a maxzoom of -z0 for features about 2772178 feet (844960 meters) apart\n",
      "Choosing a maxzoom of -z10 for resolution of about 317 feet (96 meters) within features\n",
      "  99.9%  10/128/306   \n"
     ]
    },
    {
     "data": {
      "text/plain": [
       "PosixPath('/home/mambauser/data/gadm/processed/tiles/gadm_simplified.mbtiles')"
      ]
     },
     "execution_count": 6,
     "metadata": {},
     "output_type": "execute_result"
    }
   ],
   "source": [
    "pipe = \"gadm\"\n",
    "collection_name = f\"{pipe}_simplified\"\n",
    "\n",
    "gadm_dir = FileConventionHandler(pipe)\n",
    "\n",
    "# Download the EEZ file && unzip it\n",
    "download_and_unzip_if_needed(gadm_dir, prev_step, mysettings)\n",
    "\n",
    "# simplify the geometries\n",
    "Mapshaper(64).input([gadm_dir.get_step_fmt_file_path(prev_step, \"shp\").as_posix()]).filter_fields(\n",
    "    fields=\",\".join([\"GID_0\", \"COUNTRY\", \"COUNTRY_ES\", \"COUNTRY_FR\", 'area_km2'])\n",
    ").output(\n",
    "    gadm_dir.get_step_fmt_file_path(current_step, \"json\").as_posix(), force=True, format=\"geojson\"\n",
    ").execute()\n",
    "\n",
    "# Generate the mbtiles\n",
    "mbtileGeneration(\n",
    "    gadm_dir.get_step_fmt_file_path(current_step, \"json\"),\n",
    "    gadm_dir.get_processed_step_path(current_step).joinpath(f\"{collection_name}.mbtiles\"),\n",
    "    True\n",
    ")"
   ]
  },
  {
   "cell_type": "code",
   "execution_count": 9,
   "metadata": {},
   "outputs": [
    {
     "name": "stdout",
     "output_type": "stream",
     "text": [
      "upload: ../../data/gadm/processed/tiles/gadm_simplified.mbtiles to s3://tilestream-tilesets-production/69/_pending/6o7ulrkerlm1xi20i3scyy0mc/skytruth\n"
     ]
    },
    {
     "name": "stderr",
     "output_type": "stream",
     "text": [
      "Linking tileset to Mapbox: 100%|██████████| 100/100 [03:43<00:00,  2.23s/it]\n"
     ]
    },
    {
     "data": {
      "text/plain": [
       "True"
      ]
     },
     "execution_count": 9,
     "metadata": {},
     "output_type": "execute_result"
    }
   ],
   "source": [
    "uploadToMapbox(\n",
    "    gadm_dir.get_processed_step_path(current_step).joinpath(f\"{collection_name}.mbtiles\"),\n",
    "    collection_name,\n",
    "    mysettings.MAPBOX_USER,\n",
    "    mysettings.MAPBOX_TOKEN,\n",
    ")"
   ]
  },
  {
   "cell_type": "markdown",
   "metadata": {
    "jp-MarkdownHeadingCollapsed": true
   },
   "source": [
    "### MPAs: Marine Protected Areas from WDPA"
   ]
  },
  {
   "cell_type": "code",
   "execution_count": 9,
   "metadata": {},
   "outputs": [
    {
     "name": "stdout",
     "output_type": "stream",
     "text": [
      "/home/mambauser/data/mpa/processed/mpa_preprocess.zip\n",
      "/home/mambauser/data/mpa/processed/preprocess\n"
     ]
    },
    {
     "name": "stderr",
     "output_type": "stream",
     "text": [
      "Allocating 16 GB of heap memory\n",
      "[clean] Retained 19,184 of 19,184 features\n",
      "[simplify] Repaired 277,407 intersections; 443,678 intersections could not be repaired\n",
      "[clean] Retained 19,184 of 19,184 features\n",
      "[o] Wrote /home/mambauser/data/mpa/processed/tiles/mpa_tiles.json\n"
     ]
    },
    {
     "data": {
      "text/plain": [
       "PosixPath('/home/mambauser/data/mpa/processed/tiles/mpa_tiles.mbtiles')"
      ]
     },
     "execution_count": 9,
     "metadata": {},
     "output_type": "execute_result"
    }
   ],
   "source": [
    "pipe = \"mpa\"\n",
    "collection_name = \"mpas_wdpa\"\n",
    "\n",
    "source_dir = FileConventionHandler(pipe)\n",
    "\n",
    "# Download the EEZ file && unzip it\n",
    "download_and_unzip_if_needed(source_dir, prev_step, mysettings)\n",
    "\n",
    "# simplify the geometries\n",
    "Mapshaper(16).input([source_dir.get_step_fmt_file_path(prev_step, \"shp\").as_posix()]).filter_fields(\n",
    "    fields=\"WDPAID,NAME,PA_DEF,GIS_M_AREA,PARENT_ISO\"\n",
    ").clean(allow_overlaps=True, rewind=True).simplify(\"dp 10% keep-shapes planar\").clean(\n",
    "    allow_overlaps=True\n",
    ").output(\n",
    "    source_dir.get_step_fmt_file_path(current_step, \"json\").as_posix(), force=True, format=\"geojson\"\n",
    ").execute()\n",
    "\n",
    "# generate the mbtiles\n",
    "mbtileGeneration(source_dir.get_step_fmt_file_path(current_step, \"json\"))"
   ]
  },
  {
   "cell_type": "code",
   "execution_count": 10,
   "metadata": {},
   "outputs": [
    {
     "name": "stdout",
     "output_type": "stream",
     "text": [
      "upload: ../../data/mpa/processed/tiles/mpa_tiles.mbtiles to s3://tilestream-tilesets-production/de/_pending/yvng0dxxxru12eq9ye80350mc/skytruth\n"
     ]
    },
    {
     "name": "stderr",
     "output_type": "stream",
     "text": [
      "Linking tileset to Mapbox: 100%|██████████| 100/100 [02:34<00:00,  1.54s/it]\n"
     ]
    },
    {
     "data": {
      "text/plain": [
       "True"
      ]
     },
     "execution_count": 10,
     "metadata": {},
     "output_type": "execute_result"
    }
   ],
   "source": [
    "uploadToMapbox(\n",
    "    source_dir.get_step_fmt_file_path(current_step, \"mbtiles\"),\n",
    "    collection_name,\n",
    "    mysettings.MAPBOX_USER,\n",
    "    mysettings.MAPBOX_TOKEN,\n",
    ")"
   ]
  },
  {
   "cell_type": "markdown",
   "metadata": {},
   "source": [
    "### PAs: Terrestrial Protected Areas from WDPA"
   ]
  },
  {
   "cell_type": "code",
   "execution_count": 30,
   "metadata": {},
   "outputs": [],
   "source": [
    "def split_n_parts(gdf: gpd.GeoDataFrame, folder: Path, n:int) -> None:\n",
    "    \n",
    "    for i in range(n):\n",
    "        path = folder.joinpath(f\"part{i}.shp\")\n",
    "        gdf.iloc[i * len(gdf) // n : (i + 1) * len(gdf) // n].to_file(path, driver=\"ESRI Shapefile\")"
   ]
  },
  {
   "cell_type": "code",
   "execution_count": 31,
   "metadata": {},
   "outputs": [],
   "source": [
    "import asyncio\n",
    "from pipelines.utils import background\n",
    "from pipelines.processors import repair_geometry\n",
    "\n",
    "from tqdm.asyncio import tqdm\n",
    "\n",
    "\n",
    "@background\n",
    "def simplify(geometry, pbar, tlrc=0.0001) -> gpd.GeoDataFrame:\n",
    "    try:\n",
    "        return repair_geometry(geometry.simplify(tlrc))\n",
    "    except Exception as e:\n",
    "        print(e)\n",
    "        return geometry\n",
    "    finally:\n",
    "        pbar.update(1)\n",
    "\n",
    "\n",
    "async def simplify_async(gdf: gpd.GeoDataFrame) -> gpd.GeoDataFrame:\n",
    "    with tqdm(total=gdf.shape[0]) as pbar:\n",
    "        gdf[\"geometry\"] = await asyncio.gather(\n",
    "            *(simplify(val, pbar) for val in gdf[\"geometry\"])\n",
    "        )\n",
    "    return gdf"
   ]
  },
  {
   "cell_type": "code",
   "execution_count": 32,
   "metadata": {},
   "outputs": [],
   "source": [
    "pipe = \"mpa-terrestrial\"\n",
    "collection_name = \"pas_wdpa\"\n",
    "\n",
    "source_dir = FileConventionHandler(pipe)"
   ]
  },
  {
   "cell_type": "code",
   "execution_count": 33,
   "metadata": {},
   "outputs": [
    {
     "name": "stdout",
     "output_type": "stream",
     "text": [
      "/home/mambauser/data/mpa-terrestrial/processed/mpa-terrestrial_preprocess.gpkg\n",
      "/home/mambauser/data/mpa-terrestrial/processed/preprocess\n"
     ]
    }
   ],
   "source": [
    "# Download the file && unzip it\n",
    "download_and_unzip_if_needed(source_dir, prev_step, mysettings, \"gpkg\")\n",
    "\n",
    "# split the file in two parts\n",
    "file = gpd.read_file(source_dir.get_step_fmt_file_path(prev_step, \"gpkg\").as_posix())"
   ]
  },
  {
   "cell_type": "code",
   "execution_count": 34,
   "metadata": {},
   "outputs": [
    {
     "name": "stderr",
     "output_type": "stream",
     "text": [
      "100%|██████████| 292261/292261 [03:19<00:00, 1461.41it/s]\n"
     ]
    }
   ],
   "source": [
    "test = await simplify_async(file)"
   ]
  },
  {
   "cell_type": "code",
   "execution_count": 46,
   "metadata": {},
   "outputs": [],
   "source": [
    "test.to_file(source_dir.get_step_fmt_file_path(prev_step, \"shp\").as_posix(), driver=\"ESRI Shapefile\")"
   ]
  },
  {
   "cell_type": "code",
   "execution_count": 45,
   "metadata": {},
   "outputs": [
    {
     "data": {
      "text/plain": [
       "'/home/mambauser/data/mpa-terrestrial/processed/preprocess/mpa-terrestrial_preprocess.shp'"
      ]
     },
     "execution_count": 45,
     "metadata": {},
     "output_type": "execute_result"
    }
   ],
   "source": [
    "source_dir.get_step_fmt_file_path(prev_step, \"shp\").as_posix()"
   ]
  },
  {
   "cell_type": "code",
   "execution_count": 10,
   "metadata": {},
   "outputs": [],
   "source": [
    "i_folder = source_dir.get_processed_step_path(prev_step).joinpath(\"parts\")\n",
    "i_folder.mkdir(exist_ok=True, parents=True)\n",
    "folders = split_n_parts(test, i_folder, 100)\n",
    "del test\n",
    "del file"
   ]
  },
  {
   "cell_type": "code",
   "execution_count": 22,
   "metadata": {},
   "outputs": [
    {
     "name": "stdout",
     "output_type": "stream",
     "text": [
      "mapshaper-xl 32gb -i /home/mambauser/data/mpa-terrestrial/processed/preprocess/parts/*.shp  -filter-fields fields=WDPAID,NAME,PA_DEF,GIS_AREA,PARENT_ISO -clean allow-overlaps rewind -simplify dp 10% keep-shapes planar -clean allow-overlaps -o /home/mambauser/data/mpa-terrestrial/processed/tiles force format=geojson\n"
     ]
    }
   ],
   "source": [
    "Mapshaper(32).input(\n",
    "    [f\"{i_folder}/*.shp\"],\n",
    ").filter_fields(\n",
    "    fields=\"WDPAID,NAME,PA_DEF,GIS_AREA,PARENT_ISO\"\n",
    ").clean(allow_overlaps=True, rewind=True).simplify(\"dp 10% keep-shapes planar\").clean(\n",
    "    allow_overlaps=True\n",
    ").output(\n",
    "    source_dir.get_processed_step_path(current_step), force=True, format=\"geojson\"\n",
    ").debug()"
   ]
  },
  {
   "cell_type": "code",
   "execution_count": 29,
   "metadata": {},
   "outputs": [
    {
     "name": "stdout",
     "output_type": "stream",
     "text": [
      "Allocating 32 GB of heap memory\n",
      "[o] RFC 7946 warning: non-WGS84 GeoJSON output.\n",
      "[o] Wrote /home/mambauser/data/mpa-terrestrial/processed/tiles/mpa-terrestrial-tiles.json\n"
     ]
    }
   ],
   "source": [
    "!mapshaper-xl 32gb -i /home/mambauser/data/mpa-terrestrial/processed/tiles/part*.json combine-files -merge-layers -o /home/mambauser/data/mpa-terrestrial/processed/tiles/mpa-terrestrial-tiles.json force format=geojson"
   ]
  },
  {
   "cell_type": "code",
   "execution_count": 28,
   "metadata": {},
   "outputs": [
    {
     "name": "stdout",
     "output_type": "stream",
     "text": [
      "Allocating 32 GB of heap memory\n",
      "[clean] Retained 2,922 of 2,922 features\n",
      "[simplify] Repaired 14,231 intersections; 128 intersections could not be repaired\n",
      "[clean] Retained 2,922 of 2,922 features\n",
      "[o] Wrote /home/mambauser/data/mpa-terrestrial/processed/tiles/part0.json\n",
      "Allocating 32 GB of heap memory\n",
      "[clean] Retained 2,923 of 2,923 features\n",
      "[simplify] Repaired 2,300 intersections; 253 intersections could not be repaired\n",
      "[clean] Retained 2,923 of 2,923 features\n",
      "[o] Wrote /home/mambauser/data/mpa-terrestrial/processed/tiles/part1.json\n",
      "Allocating 32 GB of heap memory\n",
      "[clean] Retained 2,922 of 2,922 features\n",
      "[simplify] Repaired 464 intersections\n",
      "[clean] Retained 2,922 of 2,922 features\n",
      "[o] Wrote /home/mambauser/data/mpa-terrestrial/processed/tiles/part10.json\n",
      "Allocating 32 GB of heap memory\n",
      "[clean] Retained 2,923 of 2,923 features\n",
      "[simplify] Repaired 434 intersections\n",
      "[clean] Retained 2,923 of 2,923 features\n",
      "[o] Wrote /home/mambauser/data/mpa-terrestrial/processed/tiles/part11.json\n",
      "Allocating 32 GB of heap memory\n",
      "[clean] Retained 2,922 of 2,922 features\n",
      "[simplify] Repaired 2,655 intersections; 48 intersections could not be repaired\n",
      "[clean] Retained 2,922 of 2,922 features\n",
      "[o] Wrote /home/mambauser/data/mpa-terrestrial/processed/tiles/part12.json\n",
      "Allocating 32 GB of heap memory\n",
      "[clean] Retained 2,923 of 2,923 features\n",
      "[simplify] Repaired 615 intersections; 3 intersections could not be repaired\n",
      "[clean] Retained 2,923 of 2,923 features\n",
      "[o] Wrote /home/mambauser/data/mpa-terrestrial/processed/tiles/part13.json\n",
      "Allocating 32 GB of heap memory\n",
      "[clean] Retained 2,923 of 2,923 features\n",
      "[simplify] Repaired 878 intersections; 154 intersections could not be repaired\n",
      "[clean] Retained 2,922 of 2,923 features\n",
      "[o] Wrote /home/mambauser/data/mpa-terrestrial/processed/tiles/part14.json\n",
      "Allocating 32 GB of heap memory\n",
      "[clean] Retained 2,922 of 2,922 features\n",
      "[simplify] Repaired 2,265 intersections; 330 intersections could not be repaired\n",
      "[clean] Retained 2,922 of 2,922 features\n",
      "[o] Wrote /home/mambauser/data/mpa-terrestrial/processed/tiles/part15.json\n",
      "Allocating 32 GB of heap memory\n",
      "[clean] Retained 2,923 of 2,923 features\n",
      "[simplify] Repaired 773 intersections\n",
      "[clean] Retained 2,923 of 2,923 features\n",
      "[o] Wrote /home/mambauser/data/mpa-terrestrial/processed/tiles/part16.json\n",
      "Allocating 32 GB of heap memory\n",
      "[clean] Retained 2,922 of 2,922 features\n",
      "[simplify] Repaired 1,791 intersections; 8 intersections could not be repaired\n",
      "[clean] Retained 2,922 of 2,922 features\n",
      "[o] Wrote /home/mambauser/data/mpa-terrestrial/processed/tiles/part17.json\n",
      "Allocating 32 GB of heap memory\n",
      "[clean] Retained 2,923 of 2,923 features\n",
      "[simplify] Repaired 3,202 intersections; 28 intersections could not be repaired\n",
      "[clean] Retained 2,923 of 2,923 features\n",
      "[o] Wrote /home/mambauser/data/mpa-terrestrial/processed/tiles/part18.json\n",
      "Allocating 32 GB of heap memory\n",
      "[clean] Retained 2,923 of 2,923 features\n",
      "[simplify] Repaired 817 intersections\n",
      "[clean] Retained 2,923 of 2,923 features\n",
      "[o] Wrote /home/mambauser/data/mpa-terrestrial/processed/tiles/part19.json\n",
      "Allocating 32 GB of heap memory\n",
      "[clean] Retained 2,922 of 2,922 features\n",
      "[simplify] Repaired 659 intersections; 48 intersections could not be repaired\n",
      "[clean] Retained 2,922 of 2,922 features\n",
      "[o] Wrote /home/mambauser/data/mpa-terrestrial/processed/tiles/part2.json\n",
      "Allocating 32 GB of heap memory\n",
      "[clean] Retained 2,922 of 2,922 features\n",
      "[simplify] Repaired 397 intersections\n",
      "[clean] Retained 2,922 of 2,922 features\n",
      "[o] Wrote /home/mambauser/data/mpa-terrestrial/processed/tiles/part20.json\n",
      "Allocating 32 GB of heap memory\n",
      "[clean] Retained 2,923 of 2,923 features\n",
      "[simplify] Repaired 1,638 intersections; 4 intersections could not be repaired\n",
      "[clean] Retained 2,923 of 2,923 features\n",
      "[o] Wrote /home/mambauser/data/mpa-terrestrial/processed/tiles/part21.json\n",
      "Allocating 32 GB of heap memory\n",
      "[clean] Retained 2,923 of 2,923 features\n",
      "[simplify] Repaired 70,976 intersections; 1,029 intersections could not be repaired\n",
      "[clean] Retained 2,923 of 2,923 features\n",
      "[o] Wrote /home/mambauser/data/mpa-terrestrial/processed/tiles/part22.json\n",
      "Allocating 32 GB of heap memory\n",
      "[clean] Retained 2,922 of 2,922 features\n",
      "[simplify] Repaired 1,149 intersections; 20 intersections could not be repaired\n",
      "[clean] Retained 2,922 of 2,922 features\n",
      "[o] Wrote /home/mambauser/data/mpa-terrestrial/processed/tiles/part23.json\n",
      "Allocating 32 GB of heap memory\n",
      "[clean] Retained 2,923 of 2,923 features\n",
      "[simplify] Repaired 4,472 intersections; 11 intersections could not be repaired\n",
      "[clean] Retained 2,923 of 2,923 features\n",
      "[o] Wrote /home/mambauser/data/mpa-terrestrial/processed/tiles/part24.json\n",
      "Allocating 32 GB of heap memory\n",
      "[clean] Retained 2,922 of 2,922 features\n",
      "[simplify] Repaired 1,483 intersections; 52 intersections could not be repaired\n",
      "[clean] Retained 2,922 of 2,922 features\n",
      "[o] Wrote /home/mambauser/data/mpa-terrestrial/processed/tiles/part25.json\n",
      "Allocating 32 GB of heap memory\n",
      "[clean] Retained 2,923 of 2,923 features\n",
      "[simplify] Repaired 769 intersections; 18 intersections could not be repaired\n",
      "[clean] Retained 2,923 of 2,923 features\n",
      "[o] Wrote /home/mambauser/data/mpa-terrestrial/processed/tiles/part26.json\n",
      "Allocating 32 GB of heap memory\n",
      "[clean] Retained 2,923 of 2,923 features\n",
      "[simplify] Repaired 3,186 intersections; 358 intersections could not be repaired\n",
      "[clean] Retained 2,923 of 2,923 features\n",
      "[o] Wrote /home/mambauser/data/mpa-terrestrial/processed/tiles/part27.json\n",
      "Allocating 32 GB of heap memory\n",
      "[clean] Retained 2,922 of 2,922 features\n",
      "[simplify] Repaired 2,071 intersections; 31 intersections could not be repaired\n",
      "[clean] Retained 2,922 of 2,922 features\n",
      "[o] Wrote /home/mambauser/data/mpa-terrestrial/processed/tiles/part28.json\n",
      "Allocating 32 GB of heap memory\n",
      "[clean] Retained 2,923 of 2,923 features\n",
      "[simplify] Repaired 1,563 intersections; 24 intersections could not be repaired\n",
      "[clean] Retained 2,923 of 2,923 features\n",
      "[o] Wrote /home/mambauser/data/mpa-terrestrial/processed/tiles/part29.json\n",
      "Allocating 32 GB of heap memory\n",
      "[clean] Retained 2,923 of 2,923 features\n",
      "[simplify] Repaired 1,343 intersections; 16 intersections could not be repaired\n",
      "[clean] Retained 2,923 of 2,923 features\n",
      "[o] Wrote /home/mambauser/data/mpa-terrestrial/processed/tiles/part3.json\n",
      "Allocating 32 GB of heap memory\n",
      "[clean] Retained 2,922 of 2,922 features\n",
      "[simplify] Repaired 37,179 intersections; 7,576 intersections could not be repaired\n",
      "[clean] Retained 2,921 of 2,922 features\n",
      "[o] Wrote /home/mambauser/data/mpa-terrestrial/processed/tiles/part30.json\n",
      "Allocating 32 GB of heap memory\n",
      "[clean] Retained 2,923 of 2,923 features\n",
      "[simplify] Repaired 12,639 intersections; 2,386 intersections could not be repaired\n",
      "[clean] Retained 2,923 of 2,923 features\n",
      "[o] Wrote /home/mambauser/data/mpa-terrestrial/processed/tiles/part31.json\n",
      "Allocating 32 GB of heap memory\n",
      "[clean] Retained 2,923 of 2,923 features\n",
      "[simplify] Repaired 13,114 intersections; 119 intersections could not be repaired\n",
      "[clean] Retained 2,923 of 2,923 features\n",
      "[o] Wrote /home/mambauser/data/mpa-terrestrial/processed/tiles/part32.json\n",
      "Allocating 32 GB of heap memory\n",
      "[clean] Retained 2,922 of 2,922 features\n",
      "[simplify] Repaired 291 intersections; 2 intersections could not be repaired\n",
      "[clean] Retained 2,922 of 2,922 features\n",
      "[o] Wrote /home/mambauser/data/mpa-terrestrial/processed/tiles/part33.json\n",
      "Allocating 32 GB of heap memory\n",
      "[clean] Retained 2,923 of 2,923 features\n",
      "[simplify] Repaired 5,448 intersections; 36 intersections could not be repaired\n",
      "[clean] Retained 2,923 of 2,923 features\n",
      "[o] Wrote /home/mambauser/data/mpa-terrestrial/processed/tiles/part34.json\n",
      "Allocating 32 GB of heap memory\n",
      "[clean] Retained 2,922 of 2,922 features\n",
      "[simplify] Repaired 8,936 intersections; 124 intersections could not be repaired\n",
      "[clean] Retained 2,922 of 2,922 features\n",
      "[o] Wrote /home/mambauser/data/mpa-terrestrial/processed/tiles/part35.json\n",
      "Allocating 32 GB of heap memory\n",
      "[clean] Retained 2,923 of 2,923 features\n",
      "[simplify] Repaired 1,785 intersections; 8 intersections could not be repaired\n",
      "[clean] Retained 2,923 of 2,923 features\n",
      "[o] Wrote /home/mambauser/data/mpa-terrestrial/processed/tiles/part36.json\n",
      "Allocating 32 GB of heap memory\n",
      "[clean] Retained 2,923 of 2,923 features\n",
      "[simplify] Repaired 548 intersections\n",
      "[clean] Retained 2,923 of 2,923 features\n",
      "[o] Wrote /home/mambauser/data/mpa-terrestrial/processed/tiles/part37.json\n",
      "Allocating 32 GB of heap memory\n",
      "[clean] Retained 2,922 of 2,922 features\n",
      "[simplify] Repaired 2,049 intersections; 48 intersections could not be repaired\n",
      "[clean] Retained 2,922 of 2,922 features\n",
      "[o] Wrote /home/mambauser/data/mpa-terrestrial/processed/tiles/part38.json\n",
      "Allocating 32 GB of heap memory\n",
      "[clean] Retained 2,923 of 2,923 features\n",
      "[simplify] Repaired 2,724 intersections; 75 intersections could not be repaired\n",
      "[clean] Retained 2,923 of 2,923 features\n",
      "[o] Wrote /home/mambauser/data/mpa-terrestrial/processed/tiles/part39.json\n",
      "Allocating 32 GB of heap memory\n",
      "[clean] Retained 2,923 of 2,923 features\n",
      "[simplify] Repaired 6,848 intersections; 1 intersection could not be repaired\n",
      "[clean] Retained 2,923 of 2,923 features\n",
      "[o] Wrote /home/mambauser/data/mpa-terrestrial/processed/tiles/part4.json\n",
      "Allocating 32 GB of heap memory\n",
      "[clean] Retained 2,923 of 2,923 features\n",
      "[simplify] Repaired 1,576 intersections\n",
      "[clean] Retained 2,923 of 2,923 features\n",
      "[o] Wrote /home/mambauser/data/mpa-terrestrial/processed/tiles/part40.json\n",
      "Allocating 32 GB of heap memory\n",
      "[clean] Retained 2,922 of 2,922 features\n",
      "[simplify] Repaired 1,263 intersections\n",
      "[clean] Retained 2,922 of 2,922 features\n",
      "[o] Wrote /home/mambauser/data/mpa-terrestrial/processed/tiles/part41.json\n",
      "Allocating 32 GB of heap memory\n",
      "[clean] Retained 2,923 of 2,923 features\n",
      "[simplify] Repaired 3,539 intersections; 44 intersections could not be repaired\n",
      "[clean] Retained 2,923 of 2,923 features\n",
      "[o] Wrote /home/mambauser/data/mpa-terrestrial/processed/tiles/part42.json\n",
      "Allocating 32 GB of heap memory\n",
      "[clean] Retained 2,922 of 2,922 features\n",
      "[simplify] Repaired 2,252 intersections; 20 intersections could not be repaired\n",
      "[clean] Retained 2,922 of 2,922 features\n",
      "[o] Wrote /home/mambauser/data/mpa-terrestrial/processed/tiles/part43.json\n",
      "Allocating 32 GB of heap memory\n",
      "[clean] Retained 2,923 of 2,923 features\n",
      "[simplify] Repaired 172 intersections\n",
      "[clean] Retained 2,923 of 2,923 features\n",
      "[o] Wrote /home/mambauser/data/mpa-terrestrial/processed/tiles/part44.json\n",
      "Allocating 32 GB of heap memory\n",
      "[clean] Retained 2,923 of 2,923 features\n",
      "[simplify] Repaired 267 intersections; 8 intersections could not be repaired\n",
      "[clean] Retained 2,923 of 2,923 features\n",
      "[o] Wrote /home/mambauser/data/mpa-terrestrial/processed/tiles/part45.json\n",
      "Allocating 32 GB of heap memory\n",
      "[clean] Retained 2,922 of 2,922 features\n",
      "[simplify] Repaired 540 intersections; 8 intersections could not be repaired\n",
      "[clean] Retained 2,922 of 2,922 features\n",
      "[o] Wrote /home/mambauser/data/mpa-terrestrial/processed/tiles/part46.json\n",
      "Allocating 32 GB of heap memory\n",
      "[clean] Retained 2,923 of 2,923 features\n",
      "[simplify] Repaired 3,570 intersections; 24 intersections could not be repaired\n",
      "[clean] Retained 2,923 of 2,923 features\n",
      "[o] Wrote /home/mambauser/data/mpa-terrestrial/processed/tiles/part47.json\n",
      "Allocating 32 GB of heap memory\n",
      "[clean] Retained 2,922 of 2,922 features\n",
      "[simplify] Repaired 942 intersections; 32 intersections could not be repaired\n",
      "[clean] Retained 2,922 of 2,922 features\n",
      "[o] Wrote /home/mambauser/data/mpa-terrestrial/processed/tiles/part48.json\n",
      "Allocating 32 GB of heap memory\n",
      "[clean] Retained 2,923 of 2,923 features\n",
      "[simplify] Repaired 2,262 intersections; 8 intersections could not be repaired\n",
      "[clean] Retained 2,923 of 2,923 features\n",
      "[o] Wrote /home/mambauser/data/mpa-terrestrial/processed/tiles/part49.json\n",
      "Allocating 32 GB of heap memory\n",
      "[clean] Retained 2,922 of 2,922 features\n",
      "[simplify] Repaired 952 intersections; 15 intersections could not be repaired\n",
      "[clean] Retained 2,922 of 2,922 features\n",
      "[o] Wrote /home/mambauser/data/mpa-terrestrial/processed/tiles/part5.json\n",
      "Allocating 32 GB of heap memory\n",
      "[clean] Retained 2,923 of 2,923 features\n",
      "[simplify] Repaired 697 intersections; 16 intersections could not be repaired\n",
      "[clean] Retained 2,923 of 2,923 features\n",
      "[o] Wrote /home/mambauser/data/mpa-terrestrial/processed/tiles/part50.json\n",
      "Allocating 32 GB of heap memory\n",
      "[clean] Retained 2,922 of 2,922 features\n",
      "[simplify] Repaired 537 intersections\n",
      "[clean] Retained 2,922 of 2,922 features\n",
      "[o] Wrote /home/mambauser/data/mpa-terrestrial/processed/tiles/part51.json\n",
      "Allocating 32 GB of heap memory\n",
      "[clean] Retained 2,923 of 2,923 features\n",
      "[simplify] Repaired 1,066 intersections; 32 intersections could not be repaired\n",
      "[clean] Retained 2,923 of 2,923 features\n",
      "[o] Wrote /home/mambauser/data/mpa-terrestrial/processed/tiles/part52.json\n",
      "Allocating 32 GB of heap memory\n",
      "[clean] Retained 2,922 of 2,922 features\n",
      "[simplify] Repaired 3,586 intersections; 16 intersections could not be repaired\n",
      "[clean] Retained 2,922 of 2,922 features\n",
      "[o] Wrote /home/mambauser/data/mpa-terrestrial/processed/tiles/part53.json\n",
      "Allocating 32 GB of heap memory\n",
      "[clean] Retained 2,923 of 2,923 features\n",
      "[simplify] Repaired 3,821 intersections; 17 intersections could not be repaired\n",
      "[clean] Retained 2,923 of 2,923 features\n",
      "[o] Wrote /home/mambauser/data/mpa-terrestrial/processed/tiles/part54.json\n",
      "Allocating 32 GB of heap memory\n",
      "[clean] Retained 2,923 of 2,923 features\n",
      "[simplify] Repaired 1,213 intersections; 16 intersections could not be repaired\n",
      "[clean] Retained 2,923 of 2,923 features\n",
      "[o] Wrote /home/mambauser/data/mpa-terrestrial/processed/tiles/part55.json\n",
      "Allocating 32 GB of heap memory\n",
      "[clean] Retained 2,922 of 2,922 features\n",
      "[simplify] Repaired 1,465 intersections; 75 intersections could not be repaired\n",
      "[clean] Retained 2,922 of 2,922 features\n",
      "[o] Wrote /home/mambauser/data/mpa-terrestrial/processed/tiles/part56.json\n",
      "Allocating 32 GB of heap memory\n",
      "[clean] Retained 2,923 of 2,923 features\n",
      "[simplify] Repaired 1,644 intersections; 120 intersections could not be repaired\n",
      "[clean] Retained 2,923 of 2,923 features\n",
      "[o] Wrote /home/mambauser/data/mpa-terrestrial/processed/tiles/part57.json\n",
      "Allocating 32 GB of heap memory\n",
      "[clean] Retained 2,922 of 2,922 features\n",
      "[simplify] Repaired 981 intersections; 100 intersections could not be repaired\n",
      "[clean] Retained 2,922 of 2,922 features\n",
      "[o] Wrote /home/mambauser/data/mpa-terrestrial/processed/tiles/part58.json\n",
      "Allocating 32 GB of heap memory\n",
      "[clean] Retained 2,923 of 2,923 features\n",
      "[simplify] Repaired 975 intersections; 4 intersections could not be repaired\n",
      "[clean] Retained 2,923 of 2,923 features\n",
      "[o] Wrote /home/mambauser/data/mpa-terrestrial/processed/tiles/part59.json\n",
      "Allocating 32 GB of heap memory\n",
      "[clean] Retained 2,923 of 2,923 features\n",
      "[simplify] Repaired 1,009 intersections; 51 intersections could not be repaired\n",
      "[clean] Retained 2,923 of 2,923 features\n",
      "[o] Wrote /home/mambauser/data/mpa-terrestrial/processed/tiles/part6.json\n",
      "Allocating 32 GB of heap memory\n",
      "[clean] Retained 2,923 of 2,923 features\n",
      "[simplify] Repaired 2,397 intersections; 200 intersections could not be repaired\n",
      "[clean] Retained 2,923 of 2,923 features\n",
      "[o] Wrote /home/mambauser/data/mpa-terrestrial/processed/tiles/part60.json\n",
      "Allocating 32 GB of heap memory\n",
      "[clean] Retained 2,922 of 2,922 features\n",
      "[simplify] Repaired 1,494 intersections; 8 intersections could not be repaired\n",
      "[clean] Retained 2,922 of 2,922 features\n",
      "[o] Wrote /home/mambauser/data/mpa-terrestrial/processed/tiles/part61.json\n",
      "Allocating 32 GB of heap memory\n",
      "[clean] Retained 2,923 of 2,923 features\n",
      "[simplify] Repaired 2,872 intersections; 110 intersections could not be repaired\n",
      "[clean] Retained 2,923 of 2,923 features\n",
      "[o] Wrote /home/mambauser/data/mpa-terrestrial/processed/tiles/part62.json\n",
      "Allocating 32 GB of heap memory\n",
      "[clean] Retained 2,923 of 2,923 features\n",
      "[simplify] Repaired 1,130 intersections\n",
      "[clean] Retained 2,923 of 2,923 features\n",
      "[o] Wrote /home/mambauser/data/mpa-terrestrial/processed/tiles/part63.json\n",
      "Allocating 32 GB of heap memory\n",
      "[clean] Retained 2,922 of 2,922 features\n",
      "[simplify] Repaired 82 intersections\n",
      "[clean] Retained 2,922 of 2,922 features\n",
      "[o] Wrote /home/mambauser/data/mpa-terrestrial/processed/tiles/part64.json\n",
      "Allocating 32 GB of heap memory\n",
      "[clean] Retained 2,923 of 2,923 features\n",
      "[simplify] Repaired 857 intersections; 40 intersections could not be repaired\n",
      "[clean] Retained 2,923 of 2,923 features\n",
      "[o] Wrote /home/mambauser/data/mpa-terrestrial/processed/tiles/part65.json\n",
      "Allocating 32 GB of heap memory\n",
      "[clean] Retained 2,922 of 2,922 features\n",
      "[simplify] Repaired 1,611 intersections; 131 intersections could not be repaired\n",
      "[clean] Retained 2,922 of 2,922 features\n",
      "[o] Wrote /home/mambauser/data/mpa-terrestrial/processed/tiles/part66.json\n",
      "Allocating 32 GB of heap memory\n",
      "[clean] Retained 2,923 of 2,923 features\n",
      "[simplify] Repaired 1,892 intersections; 27 intersections could not be repaired\n",
      "[clean] Retained 2,923 of 2,923 features\n",
      "[o] Wrote /home/mambauser/data/mpa-terrestrial/processed/tiles/part67.json\n",
      "Allocating 32 GB of heap memory\n",
      "[clean] Retained 2,923 of 2,923 features\n",
      "[simplify] Repaired 473 intersections\n",
      "[clean] Retained 2,923 of 2,923 features\n",
      "[o] Wrote /home/mambauser/data/mpa-terrestrial/processed/tiles/part68.json\n",
      "Allocating 32 GB of heap memory\n",
      "[clean] Retained 2,922 of 2,922 features\n",
      "[simplify] Repaired 3,528 intersections; 16 intersections could not be repaired\n",
      "[clean] Retained 2,922 of 2,922 features\n",
      "[o] Wrote /home/mambauser/data/mpa-terrestrial/processed/tiles/part69.json\n",
      "Allocating 32 GB of heap memory\n",
      "[clean] Retained 2,922 of 2,922 features\n",
      "[simplify] Repaired 1,456 intersections; 80 intersections could not be repaired\n",
      "[clean] Retained 2,922 of 2,922 features\n",
      "[o] Wrote /home/mambauser/data/mpa-terrestrial/processed/tiles/part7.json\n",
      "Allocating 32 GB of heap memory\n",
      "[clean] Retained 2,923 of 2,923 features\n",
      "[simplify] Repaired 2,041 intersections; 68 intersections could not be repaired\n",
      "[clean] Retained 2,923 of 2,923 features\n",
      "[o] Wrote /home/mambauser/data/mpa-terrestrial/processed/tiles/part70.json\n",
      "Allocating 32 GB of heap memory\n",
      "[clean] Retained 2,922 of 2,922 features\n",
      "[simplify] Repaired 681 intersections; 16 intersections could not be repaired\n",
      "[clean] Retained 2,922 of 2,922 features\n",
      "[o] Wrote /home/mambauser/data/mpa-terrestrial/processed/tiles/part71.json\n",
      "Allocating 32 GB of heap memory\n",
      "[clean] Retained 2,923 of 2,923 features\n",
      "[simplify] Repaired 1,515 intersections; 12 intersections could not be repaired\n",
      "[clean] Retained 2,923 of 2,923 features\n",
      "[o] Wrote /home/mambauser/data/mpa-terrestrial/processed/tiles/part72.json\n",
      "Allocating 32 GB of heap memory\n",
      "[clean] Retained 2,923 of 2,923 features\n",
      "[simplify] Repaired 3,047 intersections; 88 intersections could not be repaired\n",
      "[clean] Retained 2,923 of 2,923 features\n",
      "[o] Wrote /home/mambauser/data/mpa-terrestrial/processed/tiles/part73.json\n",
      "Allocating 32 GB of heap memory\n",
      "[clean] Retained 2,922 of 2,922 features\n",
      "[simplify] Repaired 5,277 intersections; 83 intersections could not be repaired\n",
      "[clean] Retained 2,922 of 2,922 features\n",
      "[o] Wrote /home/mambauser/data/mpa-terrestrial/processed/tiles/part74.json\n",
      "Allocating 32 GB of heap memory\n",
      "[clean] Retained 2,923 of 2,923 features\n",
      "[simplify] Repaired 9,639 intersections; 88 intersections could not be repaired\n",
      "[clean] Retained 2,923 of 2,923 features\n",
      "[o] Wrote /home/mambauser/data/mpa-terrestrial/processed/tiles/part75.json\n",
      "Allocating 32 GB of heap memory\n",
      "[clean] Retained 2,922 of 2,922 features\n",
      "[simplify] Repaired 9,942 intersections; 56 intersections could not be repaired\n",
      "[clean] Retained 2,922 of 2,922 features\n",
      "[o] Wrote /home/mambauser/data/mpa-terrestrial/processed/tiles/part76.json\n",
      "Allocating 32 GB of heap memory\n",
      "[clean] Retained 2,923 of 2,923 features\n",
      "[simplify] Repaired 3,505 intersections; 8 intersections could not be repaired\n",
      "[clean] Retained 2,923 of 2,923 features\n",
      "[o] Wrote /home/mambauser/data/mpa-terrestrial/processed/tiles/part77.json\n",
      "Allocating 32 GB of heap memory\n",
      "[clean] Retained 2,923 of 2,923 features\n",
      "[simplify] Repaired 2,200 intersections; 64 intersections could not be repaired\n",
      "[clean] Retained 2,923 of 2,923 features\n",
      "[o] Wrote /home/mambauser/data/mpa-terrestrial/processed/tiles/part78.json\n",
      "Allocating 32 GB of heap memory\n",
      "[clean] Retained 2,922 of 2,922 features\n",
      "[simplify] Repaired 70,952 intersections; 380 intersections could not be repaired\n",
      "[clean] Retained 2,922 of 2,922 features\n",
      "[o] Wrote /home/mambauser/data/mpa-terrestrial/processed/tiles/part79.json\n",
      "Allocating 32 GB of heap memory\n",
      "[clean] Retained 2,923 of 2,923 features\n",
      "[simplify] Repaired 662 intersections\n",
      "[clean] Retained 2,923 of 2,923 features\n",
      "[o] Wrote /home/mambauser/data/mpa-terrestrial/processed/tiles/part8.json\n",
      "Allocating 32 GB of heap memory\n",
      "[clean] Retained 2,923 of 2,923 features\n",
      "[simplify] Repaired 2,913 intersections; 88 intersections could not be repaired\n",
      "[clean] Retained 2,923 of 2,923 features\n",
      "[o] Wrote /home/mambauser/data/mpa-terrestrial/processed/tiles/part80.json\n",
      "Allocating 32 GB of heap memory\n",
      "[clean] Retained 2,923 of 2,923 features\n",
      "[simplify] Repaired 2,438 intersections; 245 intersections could not be repaired\n",
      "[clean] Retained 2,923 of 2,923 features\n",
      "[o] Wrote /home/mambauser/data/mpa-terrestrial/processed/tiles/part81.json\n",
      "Allocating 32 GB of heap memory\n",
      "[clean] Retained 2,922 of 2,922 features\n",
      "[simplify] Repaired 1,637 intersections; 104 intersections could not be repaired\n",
      "[clean] Retained 2,922 of 2,922 features\n",
      "[o] Wrote /home/mambauser/data/mpa-terrestrial/processed/tiles/part82.json\n",
      "Allocating 32 GB of heap memory\n",
      "[clean] Retained 2,923 of 2,923 features\n",
      "[simplify] Repaired 3,825 intersections; 106 intersections could not be repaired\n",
      "[clean] Retained 2,923 of 2,923 features\n",
      "[o] Wrote /home/mambauser/data/mpa-terrestrial/processed/tiles/part83.json\n",
      "Allocating 32 GB of heap memory\n",
      "[clean] Retained 2,922 of 2,922 features\n",
      "[simplify] Repaired 3,118 intersections; 68 intersections could not be repaired\n",
      "[clean] Retained 2,922 of 2,922 features\n",
      "[o] Wrote /home/mambauser/data/mpa-terrestrial/processed/tiles/part84.json\n",
      "Allocating 32 GB of heap memory\n",
      "[clean] Retained 2,923 of 2,923 features\n",
      "[simplify] Repaired 1,886 intersections; 7 intersections could not be repaired\n",
      "[clean] Retained 2,923 of 2,923 features\n",
      "[o] Wrote /home/mambauser/data/mpa-terrestrial/processed/tiles/part85.json\n",
      "Allocating 32 GB of heap memory\n",
      "[clean] Retained 2,923 of 2,923 features\n",
      "[simplify] Repaired 585 intersections; 40 intersections could not be repaired\n",
      "[clean] Retained 2,923 of 2,923 features\n",
      "[o] Wrote /home/mambauser/data/mpa-terrestrial/processed/tiles/part86.json\n",
      "Allocating 32 GB of heap memory\n",
      "[clean] Retained 2,922 of 2,922 features\n",
      "[simplify] Repaired 387 intersections\n",
      "[clean] Retained 2,922 of 2,922 features\n",
      "[o] Wrote /home/mambauser/data/mpa-terrestrial/processed/tiles/part87.json\n",
      "Allocating 32 GB of heap memory\n",
      "[clean] Retained 2,923 of 2,923 features\n",
      "[simplify] Repaired 964 intersections; 379 intersections could not be repaired\n",
      "[clean] Retained 2,923 of 2,923 features\n",
      "[o] Wrote /home/mambauser/data/mpa-terrestrial/processed/tiles/part88.json\n",
      "Allocating 32 GB of heap memory\n",
      "[clean] Retained 2,922 of 2,922 features\n",
      "[simplify] Repaired 6,027 intersections; 528 intersections could not be repaired\n",
      "[clean] Retained 2,922 of 2,922 features\n",
      "[o] Wrote /home/mambauser/data/mpa-terrestrial/processed/tiles/part89.json\n",
      "Allocating 32 GB of heap memory\n",
      "[clean] Retained 2,923 of 2,923 features\n",
      "[simplify] Repaired 1,028 intersections; 3 intersections could not be repaired\n",
      "[clean] Retained 2,923 of 2,923 features\n",
      "[o] Wrote /home/mambauser/data/mpa-terrestrial/processed/tiles/part9.json\n",
      "Allocating 32 GB of heap memory\n",
      "[clean] Retained 2,923 of 2,923 features\n",
      "[simplify] Repaired 3,929 intersections; 209 intersections could not be repaired\n",
      "[clean] Retained 2,923 of 2,923 features\n",
      "[o] Wrote /home/mambauser/data/mpa-terrestrial/processed/tiles/part90.json\n",
      "Allocating 32 GB of heap memory\n",
      "[clean] Retained 2,923 of 2,923 features\n",
      "[simplify] Repaired 2,370 intersections; 32 intersections could not be repaired\n",
      "[clean] Retained 2,923 of 2,923 features\n",
      "[o] Wrote /home/mambauser/data/mpa-terrestrial/processed/tiles/part91.json\n",
      "Allocating 32 GB of heap memory\n",
      "[clean] Retained 2,922 of 2,922 features\n",
      "[simplify] Repaired 15,988 intersections; 148 intersections could not be repaired\n",
      "[clean] Retained 2,922 of 2,922 features\n",
      "[o] Wrote /home/mambauser/data/mpa-terrestrial/processed/tiles/part92.json\n",
      "Allocating 32 GB of heap memory\n",
      "[clean] Retained 2,923 of 2,923 features\n",
      "[simplify] Repaired 2,955 intersections; 48 intersections could not be repaired\n",
      "[clean] Retained 2,923 of 2,923 features\n",
      "[o] Wrote /home/mambauser/data/mpa-terrestrial/processed/tiles/part93.json\n",
      "Allocating 32 GB of heap memory\n",
      "[clean] Retained 2,922 of 2,922 features\n",
      "[simplify] Repaired 1,643 intersections; 68 intersections could not be repaired\n",
      "[clean] Retained 2,922 of 2,922 features\n",
      "[o] Wrote /home/mambauser/data/mpa-terrestrial/processed/tiles/part94.json\n",
      "Allocating 32 GB of heap memory\n",
      "[clean] Retained 2,923 of 2,923 features\n",
      "[simplify] Repaired 1,855 intersections\n",
      "[clean] Retained 2,923 of 2,923 features\n",
      "[o] Wrote /home/mambauser/data/mpa-terrestrial/processed/tiles/part95.json\n",
      "Allocating 32 GB of heap memory\n",
      "[clean] Retained 2,923 of 2,923 features\n",
      "[simplify] Repaired 6,680 intersections; 388 intersections could not be repaired\n",
      "[clean] Retained 2,923 of 2,923 features\n",
      "[o] Wrote /home/mambauser/data/mpa-terrestrial/processed/tiles/part96.json\n",
      "Allocating 32 GB of heap memory\n",
      "[clean] Retained 2,922 of 2,922 features\n",
      "[simplify] Repaired 1,730 intersections; 24 intersections could not be repaired\n",
      "[clean] Retained 2,922 of 2,922 features\n",
      "[o] Wrote /home/mambauser/data/mpa-terrestrial/processed/tiles/part97.json\n",
      "Allocating 32 GB of heap memory\n",
      "[clean] Retained 2,923 of 2,923 features\n",
      "[simplify] Repaired 765 intersections; 100 intersections could not be repaired\n",
      "[clean] Retained 2,923 of 2,923 features\n",
      "[o] Wrote /home/mambauser/data/mpa-terrestrial/processed/tiles/part98.json\n",
      "Allocating 32 GB of heap memory\n",
      "[clean] Retained 2,923 of 2,923 features\n",
      "[simplify] Repaired 33 intersections\n",
      "[clean] Retained 2,923 of 2,923 features\n",
      "[o] Wrote /home/mambauser/data/mpa-terrestrial/processed/tiles/part99.json\n"
     ]
    }
   ],
   "source": [
    "!mapshaper-xl 32gb -i /home/mambauser/data/mpa-terrestrial/processed/preprocess/parts/*.shp  -filter-fields fields=WDPAID,NAME,PA_DEF,GIS_AREA,PARENT_ISO -clean allow-overlaps rewind -simplify dp 30% keep-shapes planar -clean allow-overlaps -o /home/mambauser/data/mpa-terrestrial/processed/tiles force combine-layers format=geojson\n"
   ]
  },
  {
   "cell_type": "code",
   "execution_count": 31,
   "metadata": {},
   "outputs": [
    {
     "name": "stderr",
     "output_type": "stream",
     "text": [
      "For layer 0, using name \"mpaterrestrialtiles\"\n",
      "/home/mambauser/data/mpa-terrestrial/processed/tiles/mpa-terrestrial-tiles.json:24380: Found ] at top level\n",
      "/home/mambauser/data/mpa-terrestrial/processed/tiles/mpa-terrestrial-tiles.json:12366: Reached EOF without all containers being closed\n",
      "In JSON object {\"type\":\"FeatureCollection\",\"features\":[]}\n",
      "292259 features, 138020430 bytes of geometry, 6110864 bytes of separate metadata, 14481131 bytes of string pool\n",
      "Choosing a maxzoom of -z5 for features about 13778 feet (4200 meters) apart\n",
      "Choosing a maxzoom of -z8 for resolution of about 1485 feet (452 meters) within features\n",
      "tile 0/0/0 size is 845483 with detail 12, >500000    \n",
      "tile 1/0/0 size is 528833 with detail 12, >500000    \n",
      "tile 1/1/0 size is 972990 with detail 12, >500000    \n",
      "tile 2/1/1 size is 614654 with detail 12, >500000    \n",
      "tile 2/2/1 size is 1540068 with detail 12, >500000    \n",
      "tile 2/2/1 size is 806964 with detail 11, >500000    \n",
      "tile 3/4/2 size is 2272518 with detail 12, >500000    \n",
      "tile 3/4/2 size is 1238297 with detail 11, >500000    \n",
      "tile 3/4/2 size is 619274 with detail 10, >500000    \n",
      "tile 4/4/5 size is 515510 with detail 12, >500000    \n",
      "tile 4/9/4 size is 558716 with detail 12, >500000    \n",
      "tile 4/9/5 size is 537453 with detail 12, >500000    \n",
      "tile 4/8/4 size is 764105 with detail 12, >500000    \n",
      "tile 4/8/5 size is 2167008 with detail 12, >500000    \n",
      "tile 4/8/5 size is 1253048 with detail 11, >500000    \n",
      "tile 4/8/5 size is 686870 with detail 10, >500000    \n",
      "tile 5/18/9 size is 506492 with detail 12, >500000    \n",
      "tile 5/17/9 size is 676608 with detail 12, >500000    \n",
      "tile 5/16/11 size is 820961 with detail 12, >500000    \n",
      "tile 5/17/10 size is 815791 with detail 12, >500000    \n",
      "tile 5/17/11 size is 644684 with detail 12, >500000    \n",
      "tile 5/16/10 size is 1459552 with detail 12, >500000    \n",
      "tile 5/16/10 size is 859224 with detail 11, >500000    \n",
      "tile 6/34/21 size is 540332 with detail 12, >500000    \n",
      "tile 6/33/22 size is 790092 with detail 12, >500000    \n",
      "tile 6/33/21 size is 1462170 with detail 12, >500000    \n",
      "tile 6/33/21 size is 932291 with detail 11, >500000    \n",
      "tile 6/33/21 size is 549289 with detail 10, >500000    \n",
      "tile 7/66/42 size is 790837 with detail 12, >500000    \n",
      "tile 7/66/42 size is 548367 with detail 11, >500000    \n",
      "  99.9%  8/80/87    \n"
     ]
    },
    {
     "data": {
      "text/plain": [
       "PosixPath('/home/mambauser/data/mpa-terrestrial/processed/tiles/mpa-terrestrial-tiles.mbtiles')"
      ]
     },
     "execution_count": 31,
     "metadata": {},
     "output_type": "execute_result"
    }
   ],
   "source": [
    "mbtileGeneration(Path(\"/home/mambauser/data/mpa-terrestrial/processed/tiles/mpa-terrestrial-tiles.json\"))"
   ]
  },
  {
   "cell_type": "code",
   "execution_count": null,
   "metadata": {},
   "outputs": [
    {
     "name": "stdout",
     "output_type": "stream",
     "text": [
      "/home/mambauser/data/mpa/processed/mpa_preprocess.zip\n",
      "/home/mambauser/data/mpa/processed/preprocess\n"
     ]
    },
    {
     "name": "stderr",
     "output_type": "stream",
     "text": [
      "Allocating 16 GB of heap memory\n",
      "[clean] Retained 19,184 of 19,184 features\n",
      "[simplify] Repaired 277,407 intersections; 443,678 intersections could not be repaired\n",
      "[clean] Retained 19,184 of 19,184 features\n",
      "[o] Wrote /home/mambauser/data/mpa/processed/tiles/mpa_tiles.json\n"
     ]
    },
    {
     "data": {
      "text/plain": [
       "PosixPath('/home/mambauser/data/mpa/processed/tiles/mpa_tiles.mbtiles')"
      ]
     },
     "metadata": {},
     "output_type": "display_data"
    }
   ],
   "source": [
    "pipe = \"mpa-terrestrial\"\n",
    "collection_name = \"pas_wdpa\"\n",
    "\n",
    "source_dir = FileConventionHandler(pipe)\n",
    "\n",
    "# Download the EEZ file && unzip it\n",
    "download_and_unzip_if_needed(source_dir, prev_step, mysettings, \"gpkg\")\n",
    "# split the file in two parts\n",
    "file = gpd.read_file(source_dir.get_step_fmt_file_path(prev_step, \"shp\").as_posix())\n",
    "i_folder = source_dir.get_step_path(prev_step)\n",
    "folders = split_2_parts(file, i_folder)\n",
    "# simplify the geometries\n",
    "Mapshaper(16).input(folders).filter_fields(fields=\"WDPAID,NAME,PA_DEF,GIS_AREA,PARENT_ISO\").clean(\n",
    "    allow_overlaps=True, rewind=True\n",
    ").simplify(\"dp 10% keep-shapes planar\").clean(allow_overlaps=True).merge_layers().output(\n",
    "    source_dir.get_step_fmt_file_path(current_step, \"json\").as_posix(), force=True, format=\"geojson\"\n",
    ").execute()\n",
    "\n",
    "# generate the mbtiles\n",
    "mbtileGeneration(source_dir.get_step_fmt_file_path(current_step, \"json\"))"
   ]
  },
  {
   "cell_type": "code",
   "execution_count": null,
   "metadata": {},
   "outputs": [
    {
     "name": "stdout",
     "output_type": "stream",
     "text": [
      "upload: ../../data/mpa/processed/tiles/mpa_tiles.mbtiles to s3://tilestream-tilesets-production/de/_pending/yvng0dxxxru12eq9ye80350mc/skytruth\n"
     ]
    },
    {
     "name": "stderr",
     "output_type": "stream",
     "text": [
      "Linking tileset to Mapbox: 100%|██████████| 100/100 [02:34<00:00,  1.54s/it]\n"
     ]
    },
    {
     "data": {
      "text/plain": [
       "True"
      ]
     },
     "metadata": {},
     "output_type": "display_data"
    }
   ],
   "source": [
    "uploadToMapbox(\n",
    "    source_dir.get_step_fmt_file_path(current_step, \"mbtiles\"),\n",
    "    collection_name,\n",
    "    mysettings.MAPBOX_USER,\n",
    "    mysettings.MAPBOX_TOKEN,\n",
    ")"
   ]
  },
  {
   "cell_type": "markdown",
   "metadata": {
    "jp-MarkdownHeadingCollapsed": true
   },
   "source": [
    "### MPA Atlas "
   ]
  },
  {
   "cell_type": "code",
   "execution_count": 7,
   "metadata": {},
   "outputs": [
    {
     "name": "stdout",
     "output_type": "stream",
     "text": [
      "/home/mambauser/data/mpaatlas/processed/mpaatlas_preprocess.zip\n",
      "/home/mambauser/data/mpaatlas/processed/preprocess\n"
     ]
    },
    {
     "name": "stderr",
     "output_type": "stream",
     "text": [
      "Allocating 50 GB of heap memory\n",
      "[clean] Retained 863 of 870 features\n",
      "[o] Wrote /home/mambauser/data/mpaatlas/processed/preprocess/mpaatlas_preprocess.json\n",
      "For layer 0, using name \"mpaatlas_preprocess\"\n",
      "/home/mambauser/data/mpaatlas/processed/preprocess/mpaatlas_preprocess.json:293: Reached EOF without all containers being closed\n",
      "In JSON object {\"type\":\"FeatureCollection\",\"features\":[]}\n",
      "/home/mambauser/data/mpaatlas/processed/preprocess/mpaatlas_preprocess.json:21: Found ] at top level\n",
      "863 features, 33449716 bytes of geometry, 29354 bytes of separate metadata, 53170 bytes of string pool\n",
      "Choosing a maxzoom of -z0 for features about 282844 feet (86211 meters) apart\n",
      "Choosing a maxzoom of -z12 for resolution of about 98 feet (30 meters) within features\n",
      "  99.9%  12/1004/2052  \n"
     ]
    },
    {
     "data": {
      "text/plain": [
       "PosixPath('/home/mambauser/data/mpaatlas/processed/tiles/mpaatlas_tiles.mbtiles')"
      ]
     },
     "execution_count": 7,
     "metadata": {},
     "output_type": "execute_result"
    }
   ],
   "source": [
    "pipe = \"mpaatlas\"\n",
    "collection_name = \"mpa_atlas\"\n",
    "\n",
    "source_dir = FileConventionHandler(pipe)\n",
    "# Download the data file && unzip it if needed\n",
    "download_and_unzip_if_needed(source_dir, prev_step, mysettings)\n",
    "\n",
    "# generate the mbtiles\n",
    "mbtileGeneration(\n",
    "    source_dir.get_step_fmt_file_path(prev_step, \"shp\"),\n",
    "    source_dir.get_step_fmt_file_path(current_step, \"mbtiles\"),\n",
    ")"
   ]
  },
  {
   "cell_type": "code",
   "execution_count": 8,
   "metadata": {},
   "outputs": [
    {
     "name": "stdout",
     "output_type": "stream",
     "text": [
      "upload: ../../data/mpaatlas/processed/tiles/mpaatlas_tiles.mbtiles to s3://tilestream-tilesets-production/32/_pending/4py3xz71znm1h1p9cr1v050mc/skytruth\n"
     ]
    },
    {
     "name": "stderr",
     "output_type": "stream",
     "text": [
      "Linking tileset to Mapbox: 100%|██████████| 100/100 [05:24<00:00,  3.25s/it]\n"
     ]
    },
    {
     "data": {
      "text/plain": [
       "True"
      ]
     },
     "execution_count": 8,
     "metadata": {},
     "output_type": "execute_result"
    }
   ],
   "source": [
    "uploadToMapbox(\n",
    "    source_dir.get_step_fmt_file_path(current_step, \"mbtiles\"),\n",
    "    collection_name,\n",
    "    mysettings.MAPBOX_USER,\n",
    "    mysettings.MAPBOX_TOKEN,\n",
    ")"
   ]
  },
  {
   "cell_type": "markdown",
   "metadata": {},
   "source": [
    "### Protected seas"
   ]
  },
  {
   "cell_type": "code",
   "execution_count": 37,
   "metadata": {},
   "outputs": [],
   "source": [
    "pipe = \"protectedseas\"\n",
    "collection_name = \"protected_seas\"\n",
    "\n",
    "pipe_dir = FileConventionHandler(pipe)\n",
    "input_file = pipe_dir.get_processed_step_path(prev_step).joinpath(\"ProtectedSeas_20240716.geojson\")\n",
    "output_file = pipe_dir.get_processed_step_path(current_step).joinpath(\"protectedseas_tiles.mbtiles\")\n",
    "\n",
    "\n",
    "# Download the protected seas file && unzip it\n",
    "writeReadGCP(\n",
    "    credentials=mysettings.GCS_KEYFILE_JSON,\n",
    "    bucket_name=mysettings.GCS_BUCKET,\n",
    "    blob_name=\"ProtectedSeas/ProtectedSeas_20240716.geojson\",\n",
    "    file=input_file,\n",
    "    operation=\"r\",\n",
    ")\n",
    "\n",
    "# Load the data\n",
    "protectedseas_layer = gpd.read_file(input_file)"
   ]
  },
  {
   "cell_type": "code",
   "execution_count": 38,
   "metadata": {},
   "outputs": [
    {
     "name": "stderr",
     "output_type": "stream",
     "text": [
      "Allocating 16 GB of heap memory\n",
      "[clean] Retained 6,741 of 6,741 features\n",
      "[simplify] Repaired 5,240 intersections; 629 intersections could not be repaired\n",
      "[clean] Retained 6,741 of 6,741 features\n",
      "[o] Wrote /home/mambauser/data/protectedseas/processed/preprocess/ProtectedSeas_20240716.geojson\n"
     ]
    },
    {
     "data": {
      "text/plain": [
       "CompletedProcess(args='mapshaper-xl 16gb -i /home/mambauser/data/protectedseas/processed/preprocess/ProtectedSeas_20240716.geojson  -clean allow-overlaps rewind -simplify dp 10% keep-shapes planar -clean allow-overlaps -o /home/mambauser/data/protectedseas/processed/preprocess/ProtectedSeas_20240716.geojson force format=geojson', returncode=0)"
      ]
     },
     "execution_count": 38,
     "metadata": {},
     "output_type": "execute_result"
    }
   ],
   "source": [
    "# simplify the geometries\n",
    "Mapshaper(16).input([input_file.as_posix()]).clean(\n",
    "    allow_overlaps=True, rewind=True\n",
    ").simplify(\"dp 10% keep-shapes planar\").clean(allow_overlaps=True).output(\n",
    "    input_file.as_posix(),\n",
    "    force=True,\n",
    "    format=\"geojson\",\n",
    ").execute()"
   ]
  },
  {
   "cell_type": "code",
   "execution_count": 39,
   "metadata": {},
   "outputs": [
    {
     "data": {
      "text/plain": [
       "PosixPath('/home/mambauser/data/protectedseas/processed/tiles/protectedseas_tiles.mbtiles')"
      ]
     },
     "execution_count": 39,
     "metadata": {},
     "output_type": "execute_result"
    }
   ],
   "source": [
    "mbtileGeneration(input_file, output_file)"
   ]
  },
  {
   "cell_type": "code",
   "execution_count": 41,
   "metadata": {},
   "outputs": [
    {
     "name": "stderr",
     "output_type": "stream",
     "text": [
      "rosetta error: failed to open elf at /lib64/ld-linux-x86-64.so.2\n",
      " Trace/breakpoint trap\n"
     ]
    },
    {
     "ename": "CalledProcessError",
     "evalue": "Command 'aws s3 cp /home/mambauser/data/protectedseas/processed/tiles/protectedseas_tiles.mbtiles s3://tilestream-tilesets-production/71/_pending/lxene85xrno1vgk2b6c6350mc/skytruth --region us-east-1' returned non-zero exit status 133.",
     "output_type": "error",
     "traceback": [
      "\u001b[0;31m---------------------------------------------------------------------------\u001b[0m",
      "\u001b[0;31mCalledProcessError\u001b[0m                        Traceback (most recent call last)",
      "Cell \u001b[0;32mIn[41], line 1\u001b[0m\n\u001b[0;32m----> 1\u001b[0m \u001b[43muploadToMapbox\u001b[49m\u001b[43m(\u001b[49m\n\u001b[1;32m      2\u001b[0m \u001b[43m    \u001b[49m\u001b[43moutput_file\u001b[49m\u001b[43m,\u001b[49m\n\u001b[1;32m      3\u001b[0m \u001b[43m    \u001b[49m\u001b[38;5;124;43m\"\u001b[39;49m\u001b[38;5;124;43mprotected_seas\u001b[39;49m\u001b[38;5;124;43m\"\u001b[39;49m\u001b[43m,\u001b[49m\n\u001b[1;32m      4\u001b[0m \u001b[43m    \u001b[49m\u001b[43mmysettings\u001b[49m\u001b[38;5;241;43m.\u001b[39;49m\u001b[43mMAPBOX_USER\u001b[49m\u001b[43m,\u001b[49m\n\u001b[1;32m      5\u001b[0m \u001b[43m    \u001b[49m\u001b[43mmysettings\u001b[49m\u001b[38;5;241;43m.\u001b[39;49m\u001b[43mMAPBOX_TOKEN\u001b[49m\u001b[43m,\u001b[49m\n\u001b[1;32m      6\u001b[0m \u001b[43m)\u001b[49m\n",
      "File \u001b[0;32m~/src/helpers/mapbox_uploader.py:21\u001b[0m, in \u001b[0;36muploadToMapbox\u001b[0;34m(source, display_name, username, token)\u001b[0m\n\u001b[1;32m     18\u001b[0m tileset_name \u001b[38;5;241m=\u001b[39m source\u001b[38;5;241m.\u001b[39mstem\n\u001b[1;32m     19\u001b[0m mapboxCredentials \u001b[38;5;241m=\u001b[39m getS3Credentials(username, token)\n\u001b[0;32m---> 21\u001b[0m upload_status \u001b[38;5;241m=\u001b[39m \u001b[43muploadToS3\u001b[49m\u001b[43m(\u001b[49m\u001b[43msource\u001b[49m\u001b[43m,\u001b[49m\u001b[43m \u001b[49m\u001b[43mmapboxCredentials\u001b[49m\u001b[43m)\u001b[49m\n\u001b[1;32m     22\u001b[0m logger\u001b[38;5;241m.\u001b[39minfo(upload_status)\n\u001b[1;32m     23\u001b[0m result \u001b[38;5;241m=\u001b[39m linkToMapbox(\n\u001b[1;32m     24\u001b[0m     username, token, mapboxCredentials, tileset_name, display_name\n\u001b[1;32m     25\u001b[0m )\n",
      "File \u001b[0;32m~/src/helpers/mapbox_uploader.py:51\u001b[0m, in \u001b[0;36muploadToS3\u001b[0;34m(source, credentials)\u001b[0m\n\u001b[1;32m     49\u001b[0m logger\u001b[38;5;241m.\u001b[39minfo(\u001b[38;5;124m\"\u001b[39m\u001b[38;5;124mUploading to S3...\u001b[39m\u001b[38;5;124m\"\u001b[39m)\n\u001b[1;32m     50\u001b[0m setS3Credentials(credentials)\n\u001b[0;32m---> 51\u001b[0m status \u001b[38;5;241m=\u001b[39m \u001b[43msubprocess\u001b[49m\u001b[38;5;241;43m.\u001b[39;49m\u001b[43mrun\u001b[49m\u001b[43m(\u001b[49m\n\u001b[1;32m     52\u001b[0m \u001b[43m    \u001b[49m\u001b[38;5;124;43mf\u001b[39;49m\u001b[38;5;124;43m\"\u001b[39;49m\u001b[38;5;124;43maws s3 cp \u001b[39;49m\u001b[38;5;132;43;01m{\u001b[39;49;00m\u001b[43msource\u001b[49m\u001b[38;5;132;43;01m}\u001b[39;49;00m\u001b[38;5;124;43m s3://\u001b[39;49m\u001b[38;5;132;43;01m{\u001b[39;49;00m\u001b[43mcredentials\u001b[49m\u001b[43m[\u001b[49m\u001b[38;5;124;43m'\u001b[39;49m\u001b[38;5;124;43mbucket\u001b[39;49m\u001b[38;5;124;43m'\u001b[39;49m\u001b[43m]\u001b[49m\u001b[38;5;132;43;01m}\u001b[39;49;00m\u001b[38;5;124;43m/\u001b[39;49m\u001b[38;5;132;43;01m{\u001b[39;49;00m\u001b[43mcredentials\u001b[49m\u001b[43m[\u001b[49m\u001b[38;5;124;43m'\u001b[39;49m\u001b[38;5;124;43mkey\u001b[39;49m\u001b[38;5;124;43m'\u001b[39;49m\u001b[43m]\u001b[49m\u001b[38;5;132;43;01m}\u001b[39;49;00m\u001b[38;5;124;43m --region us-east-1\u001b[39;49m\u001b[38;5;124;43m\"\u001b[39;49m\u001b[43m,\u001b[49m\n\u001b[1;32m     53\u001b[0m \u001b[43m    \u001b[49m\u001b[43mshell\u001b[49m\u001b[38;5;241;43m=\u001b[39;49m\u001b[38;5;28;43;01mTrue\u001b[39;49;00m\u001b[43m,\u001b[49m\n\u001b[1;32m     54\u001b[0m \u001b[43m    \u001b[49m\u001b[43mcheck\u001b[49m\u001b[38;5;241;43m=\u001b[39;49m\u001b[38;5;28;43;01mTrue\u001b[39;49;00m\u001b[43m,\u001b[49m\n\u001b[1;32m     55\u001b[0m \u001b[43m\u001b[49m\u001b[43m)\u001b[49m\n\u001b[1;32m     57\u001b[0m \u001b[38;5;28;01mif\u001b[39;00m status\u001b[38;5;241m.\u001b[39mreturncode \u001b[38;5;241m!=\u001b[39m \u001b[38;5;241m0\u001b[39m:\n\u001b[1;32m     58\u001b[0m     \u001b[38;5;28;01mraise\u001b[39;00m \u001b[38;5;167;01mException\u001b[39;00m(\u001b[38;5;124mf\u001b[39m\u001b[38;5;124m\"\u001b[39m\u001b[38;5;124mUpload to S3 failed with status \u001b[39m\u001b[38;5;132;01m{\u001b[39;00mstatus\u001b[38;5;241m.\u001b[39mreturncode\u001b[38;5;132;01m}\u001b[39;00m\u001b[38;5;124m\"\u001b[39m)\n",
      "File \u001b[0;32m/opt/conda/lib/python3.12/subprocess.py:571\u001b[0m, in \u001b[0;36mrun\u001b[0;34m(input, capture_output, timeout, check, *popenargs, **kwargs)\u001b[0m\n\u001b[1;32m    569\u001b[0m     retcode \u001b[38;5;241m=\u001b[39m process\u001b[38;5;241m.\u001b[39mpoll()\n\u001b[1;32m    570\u001b[0m     \u001b[38;5;28;01mif\u001b[39;00m check \u001b[38;5;129;01mand\u001b[39;00m retcode:\n\u001b[0;32m--> 571\u001b[0m         \u001b[38;5;28;01mraise\u001b[39;00m CalledProcessError(retcode, process\u001b[38;5;241m.\u001b[39margs,\n\u001b[1;32m    572\u001b[0m                                  output\u001b[38;5;241m=\u001b[39mstdout, stderr\u001b[38;5;241m=\u001b[39mstderr)\n\u001b[1;32m    573\u001b[0m \u001b[38;5;28;01mreturn\u001b[39;00m CompletedProcess(process\u001b[38;5;241m.\u001b[39margs, retcode, stdout, stderr)\n",
      "\u001b[0;31mCalledProcessError\u001b[0m: Command 'aws s3 cp /home/mambauser/data/protectedseas/processed/tiles/protectedseas_tiles.mbtiles s3://tilestream-tilesets-production/71/_pending/lxene85xrno1vgk2b6c6350mc/skytruth --region us-east-1' returned non-zero exit status 133."
     ]
    }
   ],
   "source": [
    "uploadToMapbox(\n",
    "    output_file,\n",
    "    \"protected_seas\",\n",
    "    mysettings.MAPBOX_USER,\n",
    "    mysettings.MAPBOX_TOKEN,\n",
    ")"
   ]
  },
  {
   "cell_type": "markdown",
   "metadata": {},
   "source": [
    "### Habitat layers"
   ]
  },
  {
   "cell_type": "code",
   "execution_count": null,
   "metadata": {},
   "outputs": [],
   "source": [
    "# TODO: Add all the habitats layer processing\n",
    "habitat = mysettings.DATA_DIR.joinpath(\"habitat_intermediate\", \"layer\").resolve()"
   ]
  },
  {
   "cell_type": "markdown",
   "metadata": {},
   "source": [
    "#### Warm water corals"
   ]
  },
  {
   "cell_type": "code",
   "execution_count": null,
   "metadata": {},
   "outputs": [],
   "source": [
    "warm_water_corals = habitat.joinpath(\"warm_water_corals.mbtiles\").resolve()"
   ]
  },
  {
   "cell_type": "code",
   "execution_count": null,
   "metadata": {},
   "outputs": [],
   "source": [
    "uploadToMapbox(\n",
    "    warm_water_corals,\n",
    "    \"warm_water_corals\",\n",
    "    mysettings.MAPBOX_USER,\n",
    "    mysettings.MAPBOX_TOKEN,\n",
    ")"
   ]
  },
  {
   "cell_type": "markdown",
   "metadata": {},
   "source": [
    "### Contextual layers"
   ]
  },
  {
   "cell_type": "code",
   "execution_count": null,
   "metadata": {},
   "outputs": [],
   "source": [
    "# Todo: we need to add the contextual layers upload here"
   ]
  }
 ],
 "metadata": {
  "kernelspec": {
   "display_name": "Python 3 (ipykernel)",
   "language": "python",
   "name": "python3"
  },
  "language_info": {
   "codemirror_mode": {
    "name": "ipython",
    "version": 3
   },
   "file_extension": ".py",
   "mimetype": "text/x-python",
   "name": "python",
   "nbconvert_exporter": "python",
   "pygments_lexer": "ipython3",
   "version": "3.12.5"
  }
 },
 "nbformat": 4,
 "nbformat_minor": 2
}
