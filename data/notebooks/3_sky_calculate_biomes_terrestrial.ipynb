{
 "cells": [
  {
   "cell_type": "code",
   "execution_count": 2,
   "id": "cf045905-6d4b-4d28-85a6-ccd0791c7ec9",
   "metadata": {},
   "outputs": [
    {
     "name": "stderr",
     "output_type": "stream",
     "text": [
      "mkdir -p failed for path /home/mambauser/.cache/matplotlib: [Errno 13] Permission denied: '/home/mambauser/.cache/matplotlib'\n",
      "Matplotlib created a temporary cache directory at /tmp/matplotlib-rmbr79be because there was an issue with the default path (/home/mambauser/.cache/matplotlib); it is highly recommended to set the MPLCONFIGDIR environment variable to a writable directory, in particular to speed up the import of Matplotlib and to better support multiprocessing.\n",
      "Matplotlib created a temporary cache directory at /tmp/matplotlib-rmbr79be because there was an issue with the default path (/home/mambauser/.cache/matplotlib); it is highly recommended to set the MPLCONFIGDIR environment variable to a writable directory, in particular to speed up the import of Matplotlib and to better support multiprocessing.\n"
     ]
    }
   ],
   "source": [
    "%load_ext autoreload\n",
    "%autoreload 2\n",
    "\n",
    "import sys\n",
    "import logging\n",
    "from pathlib import Path\n",
    "\n",
    "scripts_dir = Path(\"../.\").joinpath(\"src\")\n",
    "if scripts_dir not in sys.path:\n",
    "    sys.path.insert(0, scripts_dir.resolve().as_posix())\n",
    "\n",
    "formatter = logging.Formatter(\n",
    "    \"%(asctime)s - %(name)s - \\x1b[38;20m %(levelname)s \\x1b[0m - %(message)s\"\n",
    ")\n",
    "ch = logging.StreamHandler()\n",
    "ch.setLevel(logging.DEBUG)\n",
    "ch.setFormatter(formatter)\n",
    "logger = logging.getLogger(__name__)\n",
    "logger.addHandler(ch)\n",
    "logger.setLevel(logging.DEBUG)\n",
    "%matplotlib inline"
   ]
  },
  {
   "cell_type": "code",
   "execution_count": 3,
   "id": "c4d363b0",
   "metadata": {},
   "outputs": [],
   "source": [
    "from typing import Tuple, Iterable, Union, List, Dict, Callable\n",
    "\n",
    "# import requests # We can download locally the data, is faster\n",
    "\n",
    "import geopandas as gpd\n",
    "import pandas as pd\n",
    "\n",
    "from pyproj import CRS\n",
    "\n",
    "import numpy as np\n",
    "import rasterio as rio\n",
    "from dask.distributed import LocalCluster, Client\n",
    "\n",
    "from v2.utils import download_file, unzip_file, rm_tree\n",
    "from v2.processing_grid import ComputationGrid\n",
    "from v2.raster_processing import calculate_zonal_stats\n",
    "from v2.vector_utils import add_bbox, repair_geometry\n",
    "from v2.vector_processing import spatial_dissolve, simplify_async, spatial_difference\n",
    "from v2.raster_processing_v2 import process_raster, window_generator, process_job_chunk\n",
    "from v2.datasets import RasterDataset\n",
    "\n",
    "\n",
    "import tqdm\n",
    "import concurrent.futures\n",
    "import threading\n",
    "import multiprocessing"
   ]
  },
  {
   "cell_type": "code",
   "execution_count": 4,
   "id": "cc6ae8b5",
   "metadata": {},
   "outputs": [],
   "source": [
    "# Paths and sources\n",
    "data_folder = Path(\"../data\")\n",
    "sks_data_path = data_folder.joinpath(\"biomes\")\n",
    "sks_data_path.mkdir(parents=True, exist_ok=True)"
   ]
  },
  {
   "cell_type": "markdown",
   "id": "9beeb5f5",
   "metadata": {},
   "source": [
    "## Functions"
   ]
  },
  {
   "cell_type": "code",
   "execution_count": 5,
   "id": "b469a122",
   "metadata": {},
   "outputs": [],
   "source": [
    "def lower_case_columns(gdf: gpd.GeoDataFrame) -> gpd.GeoDataFrame:\n",
    "    gdf.columns = gdf.columns.str.lower()\n",
    "    return gdf\n",
    "\n",
    "\n",
    "def filter_by_extent(\n",
    "    gdf: gpd.GeoDataFrame, extent: Tuple[float, float, float, float]\n",
    ") -> gpd.GeoDataFrame:\n",
    "    minx, miny, maxx, maxy = extent\n",
    "    return gdf.cx[minx:maxx, miny:maxy].reset_index(drop=True)\n",
    "\n",
    "\n",
    "def calculate_global(gdf, col_name=\"iso_3\"):\n",
    "    global__efgs = (\n",
    "        gdf.groupby(\"category\").agg({\"count\": \"sum\"}).reset_index().assign(**{col_name: \"GLOB\"})\n",
    "    )\n",
    "    return pd.concat([global__efgs, gdf], axis=0)"
   ]
  },
  {
   "cell_type": "markdown",
   "id": "7709bb94",
   "metadata": {},
   "source": [
    "## Processing"
   ]
  },
  {
   "cell_type": "markdown",
   "id": "d6e851b3",
   "metadata": {},
   "source": [
    "### GADM"
   ]
  },
  {
   "cell_type": "code",
   "execution_count": 6,
   "id": "4bac4da1",
   "metadata": {},
   "outputs": [
    {
     "name": "stdout",
     "output_type": "stream",
     "text": [
      "../data/gadm/processed/gadm_preprocess\n",
      "../data/gadm/processed/gadm_preprocess.zip\n"
     ]
    },
    {
     "data": {
      "text/plain": [
       "PosixPath('../data/gadm/processed/gadm_preprocess')"
      ]
     },
     "execution_count": 6,
     "metadata": {},
     "output_type": "execute_result"
    }
   ],
   "source": [
    "# To download the url needs to be signed in the browser\n",
    "\n",
    "local_gadm_path = data_folder.joinpath(\"gadm/processed/gadm_preprocess.zip\")\n",
    "download_file(\n",
    "    \"https://storage.cloud.google.com/vector-data-raw/vizzuality_processed_data/gadm/preprocess/gadm_preprocess.zip\",\n",
    "    local_gadm_path,\n",
    ")\n",
    "unzip_file(local_gadm_path)"
   ]
  },
  {
   "cell_type": "code",
   "execution_count": 7,
   "id": "035a561e",
   "metadata": {},
   "outputs": [],
   "source": [
    "gadm_data_simp = gpd.read_file(\n",
    "    data_folder.joinpath(\"gadm/processed/preprocess/gadm_preprocess.shp\")\n",
    ")"
   ]
  },
  {
   "cell_type": "markdown",
   "id": "9bd376dd",
   "metadata": {},
   "source": [
    "### wdpa"
   ]
  },
  {
   "cell_type": "code",
   "execution_count": 8,
   "id": "cd62888b",
   "metadata": {},
   "outputs": [
    {
     "data": {
      "text/html": [
       "<div>\n",
       "<style scoped>\n",
       "    .dataframe tbody tr th:only-of-type {\n",
       "        vertical-align: middle;\n",
       "    }\n",
       "\n",
       "    .dataframe tbody tr th {\n",
       "        vertical-align: top;\n",
       "    }\n",
       "\n",
       "    .dataframe thead th {\n",
       "        text-align: right;\n",
       "    }\n",
       "</style>\n",
       "<table border=\"1\" class=\"dataframe\">\n",
       "  <thead>\n",
       "    <tr style=\"text-align: right;\">\n",
       "      <th></th>\n",
       "      <th>wdpaid</th>\n",
       "      <th>wdpa_pid</th>\n",
       "      <th>pa_def</th>\n",
       "      <th>name</th>\n",
       "      <th>desig_eng</th>\n",
       "      <th>iucn_cat</th>\n",
       "      <th>marine</th>\n",
       "      <th>gis_area</th>\n",
       "      <th>status</th>\n",
       "      <th>status_yr</th>\n",
       "      <th>parent_iso</th>\n",
       "      <th>index_righ</th>\n",
       "      <th>country</th>\n",
       "      <th>gid_0</th>\n",
       "      <th>area_km2</th>\n",
       "      <th>country_es</th>\n",
       "      <th>country_fr</th>\n",
       "      <th>iso_3</th>\n",
       "      <th>geometry</th>\n",
       "    </tr>\n",
       "  </thead>\n",
       "  <tbody>\n",
       "    <tr>\n",
       "      <th>0</th>\n",
       "      <td>17131.0</td>\n",
       "      <td>17131</td>\n",
       "      <td>1</td>\n",
       "      <td>Hamoun</td>\n",
       "      <td>Protected Area</td>\n",
       "      <td>V</td>\n",
       "      <td>0</td>\n",
       "      <td>3022.952813</td>\n",
       "      <td>Designated</td>\n",
       "      <td>1968.0</td>\n",
       "      <td>IRN</td>\n",
       "      <td>0.0</td>\n",
       "      <td>Afghanistan</td>\n",
       "      <td>AFG</td>\n",
       "      <td>644050.28</td>\n",
       "      <td>Afganistán</td>\n",
       "      <td>Afghanistan</td>\n",
       "      <td>AFG</td>\n",
       "      <td>POLYGON ((61.19578 31.44834, 61.36976 31.42576...</td>\n",
       "    </tr>\n",
       "    <tr>\n",
       "      <th>1</th>\n",
       "      <td>17160.0</td>\n",
       "      <td>17160</td>\n",
       "      <td>1</td>\n",
       "      <td>Hamun-e-Puzak, south end</td>\n",
       "      <td>Ramsar Site, Wetland of International Importance</td>\n",
       "      <td>Not Reported</td>\n",
       "      <td>0</td>\n",
       "      <td>172.551965</td>\n",
       "      <td>Designated</td>\n",
       "      <td>1975.0</td>\n",
       "      <td>IRN</td>\n",
       "      <td>0.0</td>\n",
       "      <td>Afghanistan</td>\n",
       "      <td>AFG</td>\n",
       "      <td>644050.28</td>\n",
       "      <td>Afganistán</td>\n",
       "      <td>Afghanistan</td>\n",
       "      <td>AFG</td>\n",
       "      <td>POLYGON ((61.75037 31.33179, 61.72363 31.35944...</td>\n",
       "    </tr>\n",
       "    <tr>\n",
       "      <th>2</th>\n",
       "      <td>1118.0</td>\n",
       "      <td>1118</td>\n",
       "      <td>1</td>\n",
       "      <td>Dasht-i-Nawar</td>\n",
       "      <td>Waterfowl  Sanctuary</td>\n",
       "      <td>IV</td>\n",
       "      <td>0</td>\n",
       "      <td>375.359815</td>\n",
       "      <td>Designated</td>\n",
       "      <td>2020.0</td>\n",
       "      <td>AFG</td>\n",
       "      <td>0.0</td>\n",
       "      <td>Afghanistan</td>\n",
       "      <td>AFG</td>\n",
       "      <td>644050.28</td>\n",
       "      <td>Afganistán</td>\n",
       "      <td>Afghanistan</td>\n",
       "      <td>AFG</td>\n",
       "      <td>POLYGON ((67.76059 33.78497, 67.75989 33.78315...</td>\n",
       "    </tr>\n",
       "    <tr>\n",
       "      <th>3</th>\n",
       "      <td>15133.0</td>\n",
       "      <td>15133</td>\n",
       "      <td>1</td>\n",
       "      <td>Kol-i-Hashmat Khan</td>\n",
       "      <td>Waterfowl  Sanctuary</td>\n",
       "      <td>IV</td>\n",
       "      <td>0</td>\n",
       "      <td>1.665554</td>\n",
       "      <td>Designated</td>\n",
       "      <td>2017.0</td>\n",
       "      <td>AFG</td>\n",
       "      <td>0.0</td>\n",
       "      <td>Afghanistan</td>\n",
       "      <td>AFG</td>\n",
       "      <td>644050.28</td>\n",
       "      <td>Afganistán</td>\n",
       "      <td>Afghanistan</td>\n",
       "      <td>AFG</td>\n",
       "      <td>MULTIPOLYGON (((69.20214 34.49681, 69.2028 34....</td>\n",
       "    </tr>\n",
       "    <tr>\n",
       "      <th>4</th>\n",
       "      <td>555705308.0</td>\n",
       "      <td>555705308</td>\n",
       "      <td>1</td>\n",
       "      <td>Koh-e Baba (Shah Foladi)</td>\n",
       "      <td>Protected Landscape</td>\n",
       "      <td>V</td>\n",
       "      <td>0</td>\n",
       "      <td>341.997539</td>\n",
       "      <td>Designated</td>\n",
       "      <td>2019.0</td>\n",
       "      <td>AFG</td>\n",
       "      <td>0.0</td>\n",
       "      <td>Afghanistan</td>\n",
       "      <td>AFG</td>\n",
       "      <td>644050.28</td>\n",
       "      <td>Afganistán</td>\n",
       "      <td>Afghanistan</td>\n",
       "      <td>AFG</td>\n",
       "      <td>POLYGON ((67.99935 34.66263, 67.9932 34.66009,...</td>\n",
       "    </tr>\n",
       "    <tr>\n",
       "      <th>...</th>\n",
       "      <td>...</td>\n",
       "      <td>...</td>\n",
       "      <td>...</td>\n",
       "      <td>...</td>\n",
       "      <td>...</td>\n",
       "      <td>...</td>\n",
       "      <td>...</td>\n",
       "      <td>...</td>\n",
       "      <td>...</td>\n",
       "      <td>...</td>\n",
       "      <td>...</td>\n",
       "      <td>...</td>\n",
       "      <td>...</td>\n",
       "      <td>...</td>\n",
       "      <td>...</td>\n",
       "      <td>...</td>\n",
       "      <td>...</td>\n",
       "      <td>...</td>\n",
       "      <td>...</td>\n",
       "    </tr>\n",
       "    <tr>\n",
       "      <th>289347</th>\n",
       "      <td>2531.0</td>\n",
       "      <td>2531</td>\n",
       "      <td>1</td>\n",
       "      <td>Mana Pools</td>\n",
       "      <td>National Park</td>\n",
       "      <td>II</td>\n",
       "      <td>0</td>\n",
       "      <td>2134.271397</td>\n",
       "      <td>Designated</td>\n",
       "      <td>1975.0</td>\n",
       "      <td>ZWE</td>\n",
       "      <td>0.0</td>\n",
       "      <td>Zimbabwe</td>\n",
       "      <td>ZWE</td>\n",
       "      <td>391234.88</td>\n",
       "      <td>Zimbabue</td>\n",
       "      <td>Zimbabwe</td>\n",
       "      <td>ZWE</td>\n",
       "      <td>POLYGON ((29.56479 -15.6758, 29.56611 -15.6757...</td>\n",
       "    </tr>\n",
       "    <tr>\n",
       "      <th>289348</th>\n",
       "      <td>2526.0</td>\n",
       "      <td>2526</td>\n",
       "      <td>1</td>\n",
       "      <td>Sapi</td>\n",
       "      <td>Safari Area</td>\n",
       "      <td>VI</td>\n",
       "      <td>0</td>\n",
       "      <td>1200.644367</td>\n",
       "      <td>Designated</td>\n",
       "      <td>1975.0</td>\n",
       "      <td>ZWE</td>\n",
       "      <td>0.0</td>\n",
       "      <td>Zimbabwe</td>\n",
       "      <td>ZWE</td>\n",
       "      <td>391234.88</td>\n",
       "      <td>Zimbabue</td>\n",
       "      <td>Zimbabwe</td>\n",
       "      <td>ZWE</td>\n",
       "      <td>POLYGON ((29.88011 -15.67272, 29.87637 -15.679...</td>\n",
       "    </tr>\n",
       "    <tr>\n",
       "      <th>289349</th>\n",
       "      <td>62095.0</td>\n",
       "      <td>62095</td>\n",
       "      <td>1</td>\n",
       "      <td>Chiawa</td>\n",
       "      <td>Game Management Area</td>\n",
       "      <td>VI</td>\n",
       "      <td>0</td>\n",
       "      <td>2413.162703</td>\n",
       "      <td>Designated</td>\n",
       "      <td>1989.0</td>\n",
       "      <td>ZMB</td>\n",
       "      <td>0.0</td>\n",
       "      <td>Zimbabwe</td>\n",
       "      <td>ZWE</td>\n",
       "      <td>391234.88</td>\n",
       "      <td>Zimbabue</td>\n",
       "      <td>Zimbabwe</td>\n",
       "      <td>ZWE</td>\n",
       "      <td>MULTIPOLYGON (((29.10233 -15.86402, 29.09482 -...</td>\n",
       "    </tr>\n",
       "    <tr>\n",
       "      <th>289350</th>\n",
       "      <td>7962.0</td>\n",
       "      <td>7962</td>\n",
       "      <td>1</td>\n",
       "      <td>Lower Zambezi</td>\n",
       "      <td>National Park</td>\n",
       "      <td>II</td>\n",
       "      <td>0</td>\n",
       "      <td>4161.873753</td>\n",
       "      <td>Designated</td>\n",
       "      <td>1983.0</td>\n",
       "      <td>ZMB</td>\n",
       "      <td>0.0</td>\n",
       "      <td>Zimbabwe</td>\n",
       "      <td>ZWE</td>\n",
       "      <td>391234.88</td>\n",
       "      <td>Zimbabue</td>\n",
       "      <td>Zimbabwe</td>\n",
       "      <td>ZWE</td>\n",
       "      <td>MULTIPOLYGON (((30.2016 -15.65147, 30.20137 -1...</td>\n",
       "    </tr>\n",
       "    <tr>\n",
       "      <th>289351</th>\n",
       "      <td>303859.0</td>\n",
       "      <td>303859</td>\n",
       "      <td>1</td>\n",
       "      <td>Rufunsa</td>\n",
       "      <td>Game Management Area</td>\n",
       "      <td>VI</td>\n",
       "      <td>0</td>\n",
       "      <td>3282.220906</td>\n",
       "      <td>Designated</td>\n",
       "      <td>1980.0</td>\n",
       "      <td>ZMB</td>\n",
       "      <td>0.0</td>\n",
       "      <td>Zimbabwe</td>\n",
       "      <td>ZWE</td>\n",
       "      <td>391234.88</td>\n",
       "      <td>Zimbabue</td>\n",
       "      <td>Zimbabwe</td>\n",
       "      <td>ZWE</td>\n",
       "      <td>POLYGON ((30.41517 -15.61634, 30.41688 -15.616...</td>\n",
       "    </tr>\n",
       "  </tbody>\n",
       "</table>\n",
       "<p>289352 rows × 19 columns</p>\n",
       "</div>"
      ],
      "text/plain": [
       "             wdpaid   wdpa_pid pa_def                      name  \\\n",
       "0           17131.0      17131      1                    Hamoun   \n",
       "1           17160.0      17160      1  Hamun-e-Puzak, south end   \n",
       "2            1118.0       1118      1             Dasht-i-Nawar   \n",
       "3           15133.0      15133      1        Kol-i-Hashmat Khan   \n",
       "4       555705308.0  555705308      1  Koh-e Baba (Shah Foladi)   \n",
       "...             ...        ...    ...                       ...   \n",
       "289347       2531.0       2531      1                Mana Pools   \n",
       "289348       2526.0       2526      1                      Sapi   \n",
       "289349      62095.0      62095      1                    Chiawa   \n",
       "289350       7962.0       7962      1             Lower Zambezi   \n",
       "289351     303859.0     303859      1                   Rufunsa   \n",
       "\n",
       "                                               desig_eng      iucn_cat marine  \\\n",
       "0                                         Protected Area             V      0   \n",
       "1       Ramsar Site, Wetland of International Importance  Not Reported      0   \n",
       "2                                   Waterfowl  Sanctuary            IV      0   \n",
       "3                                   Waterfowl  Sanctuary            IV      0   \n",
       "4                                    Protected Landscape             V      0   \n",
       "...                                                  ...           ...    ...   \n",
       "289347                                     National Park            II      0   \n",
       "289348                                       Safari Area            VI      0   \n",
       "289349                              Game Management Area            VI      0   \n",
       "289350                                     National Park            II      0   \n",
       "289351                              Game Management Area            VI      0   \n",
       "\n",
       "           gis_area      status  status_yr parent_iso  index_righ  \\\n",
       "0       3022.952813  Designated     1968.0        IRN         0.0   \n",
       "1        172.551965  Designated     1975.0        IRN         0.0   \n",
       "2        375.359815  Designated     2020.0        AFG         0.0   \n",
       "3          1.665554  Designated     2017.0        AFG         0.0   \n",
       "4        341.997539  Designated     2019.0        AFG         0.0   \n",
       "...             ...         ...        ...        ...         ...   \n",
       "289347  2134.271397  Designated     1975.0        ZWE         0.0   \n",
       "289348  1200.644367  Designated     1975.0        ZWE         0.0   \n",
       "289349  2413.162703  Designated     1989.0        ZMB         0.0   \n",
       "289350  4161.873753  Designated     1983.0        ZMB         0.0   \n",
       "289351  3282.220906  Designated     1980.0        ZMB         0.0   \n",
       "\n",
       "            country gid_0   area_km2  country_es   country_fr iso_3  \\\n",
       "0       Afghanistan   AFG  644050.28  Afganistán  Afghanistan   AFG   \n",
       "1       Afghanistan   AFG  644050.28  Afganistán  Afghanistan   AFG   \n",
       "2       Afghanistan   AFG  644050.28  Afganistán  Afghanistan   AFG   \n",
       "3       Afghanistan   AFG  644050.28  Afganistán  Afghanistan   AFG   \n",
       "4       Afghanistan   AFG  644050.28  Afganistán  Afghanistan   AFG   \n",
       "...             ...   ...        ...         ...          ...   ...   \n",
       "289347     Zimbabwe   ZWE  391234.88    Zimbabue     Zimbabwe   ZWE   \n",
       "289348     Zimbabwe   ZWE  391234.88    Zimbabue     Zimbabwe   ZWE   \n",
       "289349     Zimbabwe   ZWE  391234.88    Zimbabue     Zimbabwe   ZWE   \n",
       "289350     Zimbabwe   ZWE  391234.88    Zimbabue     Zimbabwe   ZWE   \n",
       "289351     Zimbabwe   ZWE  391234.88    Zimbabue     Zimbabwe   ZWE   \n",
       "\n",
       "                                                 geometry  \n",
       "0       POLYGON ((61.19578 31.44834, 61.36976 31.42576...  \n",
       "1       POLYGON ((61.75037 31.33179, 61.72363 31.35944...  \n",
       "2       POLYGON ((67.76059 33.78497, 67.75989 33.78315...  \n",
       "3       MULTIPOLYGON (((69.20214 34.49681, 69.2028 34....  \n",
       "4       POLYGON ((67.99935 34.66263, 67.9932 34.66009,...  \n",
       "...                                                   ...  \n",
       "289347  POLYGON ((29.56479 -15.6758, 29.56611 -15.6757...  \n",
       "289348  POLYGON ((29.88011 -15.67272, 29.87637 -15.679...  \n",
       "289349  MULTIPOLYGON (((29.10233 -15.86402, 29.09482 -...  \n",
       "289350  MULTIPOLYGON (((30.2016 -15.65147, 30.20137 -1...  \n",
       "289351  POLYGON ((30.41517 -15.61634, 30.41688 -15.616...  \n",
       "\n",
       "[289352 rows x 19 columns]"
      ]
     },
     "execution_count": 8,
     "metadata": {},
     "output_type": "execute_result"
    }
   ],
   "source": [
    "## this requires the wdpa data be run in the step 5 to generate the tpa_sjoin.shp\n",
    "## this is the file that contains the dissolved boundaries\n",
    "wdpa_data_path = data_folder.joinpath(\"mpa-terrestrial/processed/stats/mpas_sjoin.shp\")\n",
    "# wdpa_data_path = data_folder.joinpath(\"mpa-terrestrial/processed/tpa_sjoin.shp\")\n",
    "\n",
    "\n",
    "dissolved_gdf = (\n",
    "    gpd.read_file(wdpa_data_path)\n",
    "    .pipe(lower_case_columns)\n",
    "    .pipe(filter_by_extent, (-181, -91, 181, 91))\n",
    ")\n",
    "dissolved_gdf"
   ]
  },
  {
   "cell_type": "code",
   "execution_count": 9,
   "id": "5e99562d",
   "metadata": {},
   "outputs": [],
   "source": [
    "removed_non_poly = (\n",
    "    dissolved_gdf[dissolved_gdf.geometry.geom_type.isin([\"Polygon\", \"MultiPolygon\"])]\n",
    "    .reset_index(drop=True)\n",
    "    .copy()\n",
    ")\n",
    "\n",
    "del dissolved_gdf"
   ]
  },
  {
   "cell_type": "markdown",
   "id": "d22a670d",
   "metadata": {},
   "source": [
    "### Reclassify the raster"
   ]
  },
  {
   "cell_type": "code",
   "execution_count": 10,
   "id": "ccab8149",
   "metadata": {},
   "outputs": [],
   "source": [
    "land_cover_classes = {\n",
    "    1: \"Forest\",\n",
    "    2: \"Savanna\",\n",
    "    3: \"Shrubland\",\n",
    "    4: \"Grassland\",\n",
    "    5: \"Wetlands/open water\",\n",
    "    6: \"Rocky/mountains\",\n",
    "    7: \"Desert\",\n",
    "    8: \"Artificial\",\n",
    "    255: \"Other\",\n",
    "}"
   ]
  },
  {
   "cell_type": "code",
   "execution_count": null,
   "id": "b8c0dabf",
   "metadata": {},
   "outputs": [],
   "source": [
    "def reclass_function(ndata: np.ndarray) -> np.ndarray:\n",
    "    # Apply the value changes\n",
    "    ndata = np.where(ndata < 200, 1, ndata)  # forest\n",
    "    ndata = np.where((ndata >= 200) & (ndata < 300), 2, ndata)  # savanna\n",
    "    ndata = np.where((ndata >= 300) & (ndata < 400), 3, ndata)  # scrub/shrub\n",
    "    ndata = np.where((ndata >= 400) & (ndata < 500), 4, ndata)  # grassland\n",
    "    ndata = np.where(ndata == 501, 5, ndata)  # open water - Wetlands/open water\n",
    "    ndata = np.where(ndata == 505, 5, ndata)  # open water - Wetlands/open water\n",
    "    ndata = np.where((ndata >= 500) & (ndata < 600), 5, ndata)  # wetlands - Wetlands/open water\n",
    "    ndata = np.where(ndata == 984, 5, ndata)  # wetlands - Wetlands/open water\n",
    "    ndata = np.where(ndata == 910, 5, ndata)  # wetlands - Wetlands/open water\n",
    "    ndata = np.where((ndata >= 600) & (ndata < 800), 6, ndata)  # rocky/mountains\n",
    "    ndata = np.where((ndata >= 800) & (ndata < 900), 7, ndata)  # desert\n",
    "    ndata = np.where((ndata >= 1400) & (ndata < 1500), 8, ndata)  # ag/urban - Artificial\n",
    "\n",
    "    # Ensure the ndata is within the 8-bit range\n",
    "\n",
    "    return np.clip(ndata, 0, 255).astype(np.uint8)"
   ]
  },
  {
   "cell_type": "code",
   "execution_count": 11,
   "id": "66ca9cf3",
   "metadata": {},
   "outputs": [],
   "source": [
    "def process_raster_v2(\n",
    "    raster_path: Path,\n",
    "    output_path: Path,\n",
    "    func: Callable,\n",
    "    out_data_profile,\n",
    "    f_args: Tuple = (),\n",
    "    f_kwargs: Dict = {},\n",
    ") -> None:\n",
    "    num_workers = 200\n",
    "    window_size_x = 2048\n",
    "    window_size_y = 2048\n",
    "    with rio.open(raster_path.as_posix()) as src:\n",
    "        # Create a destination dataset based on source params. The\n",
    "        # destination will be tiled, and we'll process the tiles\n",
    "        # concurrently.\n",
    "        profile = src.profile.copy()\n",
    "        profile.update(**out_data_profile)\n",
    "\n",
    "        with rio.open(output_path.as_posix(), \"w\", **profile) as dst:\n",
    "            windows = [window for ij, window in dst.block_windows()]\n",
    "            # print(dst.block_shapes)\n",
    "            # windows = list(\n",
    "            #     window_generator(\n",
    "            #         src.profile.get(\"width\"),\n",
    "            #         dst.profile.get(\"height\"),\n",
    "            #         window_size_x,\n",
    "            #         window_size_y,\n",
    "            #     )\n",
    "            # )\n",
    "\n",
    "            # We cannot write to the same file from multiple threads\n",
    "            # without causing race conditions. To safely read/write\n",
    "            # from multiple threads, we use a lock to protect the\n",
    "            # DatasetReader/Writer\n",
    "            read_lock = threading.Lock()\n",
    "            write_lock = threading.Lock()\n",
    "\n",
    "            def process(window):\n",
    "                status_message = {\n",
    "                    \"diagnostics\": {},\n",
    "                    \"messages\": [f\"Processing chunk: {window}\"],\n",
    "                    \"return_val\": None,\n",
    "                }\n",
    "                # read the chunk\n",
    "                try:\n",
    "                    status_message[\"messages\"].append(\"reading data\")\n",
    "\n",
    "                    with read_lock:\n",
    "                        data = src.read(window=window)\n",
    "\n",
    "                    status_message[\"messages\"].append(\"processing data\")\n",
    "                    result = func(data, *f_args, **f_kwargs)\n",
    "\n",
    "                    status_message[\"messages\"].append(\"writing data\")\n",
    "                    with write_lock:\n",
    "                        dst.write(result, window=window)\n",
    "\n",
    "                    status_message[\"messages\"].append(\"success in processing chunk\")\n",
    "\n",
    "                except Exception as e:\n",
    "                    status_message[\"diagnostics\"][\"error\"] = e\n",
    "                finally:\n",
    "                    return status_message\n",
    "\n",
    "            # We map the process() function over the list of\n",
    "            # windows.\n",
    "\n",
    "            futures = []\n",
    "\n",
    "            with (\n",
    "                concurrent.futures.ThreadPoolExecutor(max_workers=num_workers) as executor,\n",
    "                tqdm.tqdm(total=len(windows), desc=\"Computing raster stats\", unit=\"chunk\") as p_bar,\n",
    "            ):\n",
    "                for idx, window in enumerate(windows):\n",
    "                    futures.append(executor.submit(process, window))\n",
    "\n",
    "                # if idx == break_after:\n",
    "                #     break\n",
    "\n",
    "                results = []\n",
    "                for f in futures:\n",
    "                    results.append(f.result())\n",
    "                    p_bar.update(1)\n",
    "\n",
    "            dst.build_overviews([2, 4, 8, 16, 32, 64], rio.enums.Resampling.mode)\n",
    "            dst.update_tags(ns=\"rio_overview\", resampling=\"average\")\n",
    "\n",
    "    # return results"
   ]
  },
  {
   "cell_type": "code",
   "execution_count": 12,
   "id": "367a0f1b",
   "metadata": {},
   "outputs": [],
   "source": [
    "def test_process_raster(\n",
    "    input_path: Path,\n",
    "    output_path: Path,\n",
    "    fcn: Callable,\n",
    "    out_data_profile: Dict | None = {},\n",
    "    f_kwargs: Dict = {},\n",
    "):\n",
    "    with rio.Env(VSI_CACHE=True, GDAL_CACHEMAX=1024):\n",
    "        i_raster = RasterDataset(input_path)\n",
    "        new_profile = i_raster.profile.copy()\n",
    "        new_profile.update(**out_data_profile) if out_data_profile else None\n",
    "        o_raster = RasterDataset(output_path, profile=new_profile)\n",
    "\n",
    "        window_size_y = 1024\n",
    "        window_size_x = 1024\n",
    "        print(i_raster.profile.get(\"width\"), i_raster.profile.get(\"height\"))\n",
    "        print(\n",
    "            (\n",
    "                i_raster.profile.get(\"width\")\n",
    "                // window_size_x\n",
    "                * i_raster.profile.get(\"height\")\n",
    "                // window_size_y\n",
    "            )\n",
    "            / 20\n",
    "        )\n",
    "\n",
    "        # window_chunks = list(\n",
    "        #     window_generator(\n",
    "        #         i_raster.profile.get(\"width\"), i_raster.profile.get(\"height\"), window_size_x, window_size_y\n",
    "        #     )\n",
    "        # )\n",
    "        with o_raster._open_reader() as dst:\n",
    "            window_chunks = [window for ij, window in dst.block_windows()]\n",
    "        break_after = 100\n",
    "        futures = []\n",
    "\n",
    "        with multiprocessing.Manager() as manager:\n",
    "            # create the shared lock\n",
    "            lock = manager.Lock()\n",
    "            with (\n",
    "                concurrent.futures.ProcessPoolExecutor(max_workers=20) as executor,\n",
    "                tqdm.tqdm(\n",
    "                    total=len(window_chunks), desc=\"Computing raster stats\", unit=\"chunk\"\n",
    "                ) as p_bar,\n",
    "            ):\n",
    "                for idx, window in enumerate(window_chunks):\n",
    "                    futures.append(\n",
    "                        executor.submit(\n",
    "                            process_job_chunk, i_raster, o_raster, window, fcn, lock, **f_kwargs\n",
    "                        )\n",
    "                    )\n",
    "\n",
    "                    # if idx == break_after:\n",
    "                    #     break\n",
    "\n",
    "                results = []\n",
    "                for f in futures:\n",
    "                    results.append(f.result())\n",
    "                    p_bar.update(1)\n",
    "\n",
    "    return results"
   ]
  },
  {
   "cell_type": "code",
   "execution_count": 11,
   "id": "372baccb",
   "metadata": {},
   "outputs": [],
   "source": [
    "local_biome_raster_path = data_folder.joinpath(\n",
    "    \"biomes/iucn_habitatclassification_composite_lvl1_ver004.tif\"\n",
    ")\n",
    "\n",
    "output_path = local_biome_raster_path.parent.joinpath(local_biome_raster_path.stem + \"_reclass.tif\")\n",
    "reclassified_biome_raster_path = output_path\n",
    "# output_path.unlink(missing_ok=True)\n",
    "\n",
    "out_data_profile = {\n",
    "    \"dtype\": rio.uint8,\n",
    "    \"count\": 1,\n",
    "    \"compress\": \"lzw\",\n",
    "    \"tiled\": True,\n",
    "    \"blockxsize\": 512,\n",
    "    \"blockysize\": 512,\n",
    "}"
   ]
  },
  {
   "cell_type": "code",
   "execution_count": null,
   "id": "d0fccf03",
   "metadata": {},
   "outputs": [],
   "source": [
    "# To download the url needs to be signed in the browser\n",
    "download_file(\n",
    "    \"https://storage.cloud.google.com/vector-data-raw/terrestrial/jung_etal_2020/iucn_habitatclassification_composite_lvl1_ver004.tif\",\n",
    "    local_biome_raster_path,\n",
    ")\n"
   ]
  },
  {
   "cell_type": "code",
   "execution_count": null,
   "id": "dd58127c",
   "metadata": {},
   "outputs": [],
   "source": [
    "## this was the old way of processing the raster\n",
    "# test_process_raster(local_biome_raster_path, output_path, reclass_function, out_data_profile)"
   ]
  },
  {
   "cell_type": "code",
   "execution_count": 19,
   "id": "e739cc76",
   "metadata": {},
   "outputs": [
    {
     "name": "stderr",
     "output_type": "stream",
     "text": [
      "Computing raster stats: 100%|██████████| 306936/306936 [06:54<00:00, 739.67chunk/s] \n"
     ]
    }
   ],
   "source": [
    "# reclass the original raster\n",
    "process_raster_v2(local_biome_raster_path, output_path, reclass_function, out_data_profile)"
   ]
  },
  {
   "cell_type": "code",
   "execution_count": null,
   "id": "3a9b6c81",
   "metadata": {},
   "outputs": [],
   "source": [
    "# another test to try the same operation in parallel with multi threading\n",
    "\n",
    "# with LocalCluster(name=\"test\", n_workers=20, processes=True, threads_per_worker=1) as cluster, Client(cluster) as client:\n",
    "#     print(f\"Processing in parallel: {client.dashboard_link}\")\n",
    "\n",
    "#     data = process_raster(\n",
    "#         local_biome_raster_path,\n",
    "#         output_path,\n",
    "#         out_data_profile,\n",
    "#         reclass_function,\n",
    "#         dask_client=client,\n",
    "#         window_size=512,\n",
    "#     )\n",
    "#     list(data)"
   ]
  },
  {
   "cell_type": "markdown",
   "id": "35db2a81",
   "metadata": {},
   "source": [
    "### Computation grids "
   ]
  },
  {
   "cell_type": "code",
   "execution_count": 12,
   "id": "d4857192",
   "metadata": {},
   "outputs": [],
   "source": [
    "wdpa_grid = ComputationGrid(\n",
    "    bounds=[-180, -90, 180, 90], max_cell_size=10, crs=CRS.from_epsg(4326), grid_type=\"sparse\"\n",
    ")\n",
    "region_grid = ComputationGrid(\n",
    "    bounds=[-180, -90, 180, 90], max_cell_size=10, crs=CRS.from_epsg(4326), grid_type=\"dense\"\n",
    ")"
   ]
  },
  {
   "cell_type": "code",
   "execution_count": 13,
   "id": "802a359d",
   "metadata": {},
   "outputs": [
    {
     "data": {
      "text/html": [
       "<div>\n",
       "<style scoped>\n",
       "    .dataframe tbody tr th:only-of-type {\n",
       "        vertical-align: middle;\n",
       "    }\n",
       "\n",
       "    .dataframe tbody tr th {\n",
       "        vertical-align: top;\n",
       "    }\n",
       "\n",
       "    .dataframe thead th {\n",
       "        text-align: right;\n",
       "    }\n",
       "</style>\n",
       "<table border=\"1\" class=\"dataframe\">\n",
       "  <thead>\n",
       "    <tr style=\"text-align: right;\">\n",
       "      <th></th>\n",
       "      <th>geometry</th>\n",
       "    </tr>\n",
       "  </thead>\n",
       "  <tbody>\n",
       "    <tr>\n",
       "      <th>0</th>\n",
       "      <td>POLYGON ((-170 -90, -170 -80, -180 -80, -180 -...</td>\n",
       "    </tr>\n",
       "    <tr>\n",
       "      <th>1</th>\n",
       "      <td>POLYGON ((-170 -50, -170 -40, -180 -40, -180 -...</td>\n",
       "    </tr>\n",
       "    <tr>\n",
       "      <th>2</th>\n",
       "      <td>POLYGON ((-170 -40, -170 -30, -180 -30, -180 -...</td>\n",
       "    </tr>\n",
       "    <tr>\n",
       "      <th>3</th>\n",
       "      <td>POLYGON ((-170 -30, -170 -20, -180 -20, -180 -...</td>\n",
       "    </tr>\n",
       "    <tr>\n",
       "      <th>4</th>\n",
       "      <td>POLYGON ((-170 -20, -170 -10, -180 -10, -180 -...</td>\n",
       "    </tr>\n",
       "    <tr>\n",
       "      <th>...</th>\n",
       "      <td>...</td>\n",
       "    </tr>\n",
       "    <tr>\n",
       "      <th>436</th>\n",
       "      <td>POLYGON ((180 -20, 180 -10, 170 -10, 170 -20, ...</td>\n",
       "    </tr>\n",
       "    <tr>\n",
       "      <th>437</th>\n",
       "      <td>POLYGON ((180 -10, 180 0, 170 0, 170 -10, 180 ...</td>\n",
       "    </tr>\n",
       "    <tr>\n",
       "      <th>438</th>\n",
       "      <td>POLYGON ((180 50, 180 60, 170 60, 170 50, 180 ...</td>\n",
       "    </tr>\n",
       "    <tr>\n",
       "      <th>439</th>\n",
       "      <td>POLYGON ((180 60, 180 70, 170 70, 170 60, 180 ...</td>\n",
       "    </tr>\n",
       "    <tr>\n",
       "      <th>440</th>\n",
       "      <td>POLYGON ((180 70, 180 80, 170 80, 170 70, 180 ...</td>\n",
       "    </tr>\n",
       "  </tbody>\n",
       "</table>\n",
       "<p>441 rows × 1 columns</p>\n",
       "</div>"
      ],
      "text/plain": [
       "                                              geometry\n",
       "0    POLYGON ((-170 -90, -170 -80, -180 -80, -180 -...\n",
       "1    POLYGON ((-170 -50, -170 -40, -180 -40, -180 -...\n",
       "2    POLYGON ((-170 -40, -170 -30, -180 -30, -180 -...\n",
       "3    POLYGON ((-170 -30, -170 -20, -180 -20, -180 -...\n",
       "4    POLYGON ((-170 -20, -170 -10, -180 -10, -180 -...\n",
       "..                                                 ...\n",
       "436  POLYGON ((180 -20, 180 -10, 170 -10, 170 -20, ...\n",
       "437  POLYGON ((180 -10, 180 0, 170 0, 170 -10, 180 ...\n",
       "438  POLYGON ((180 50, 180 60, 170 60, 170 50, 180 ...\n",
       "439  POLYGON ((180 60, 180 70, 170 70, 170 60, 180 ...\n",
       "440  POLYGON ((180 70, 180 80, 170 80, 170 70, 180 ...\n",
       "\n",
       "[441 rows x 1 columns]"
      ]
     },
     "execution_count": 13,
     "metadata": {},
     "output_type": "execute_result"
    }
   ],
   "source": [
    "wdpa_grid.create_gdf_density_based_grid(removed_non_poly, 5000)"
   ]
  },
  {
   "cell_type": "code",
   "execution_count": 13,
   "id": "812fe50d",
   "metadata": {},
   "outputs": [
    {
     "name": "stderr",
     "output_type": "stream",
     "text": [
      "Disolving dataset elements: 100%|██████████| 441/441 [01:03<00:00,  6.97chunk/s]\n"
     ]
    }
   ],
   "source": [
    "dissolved_gdf = await spatial_dissolve(removed_non_poly, wdpa_grid, \"iso_3\", \"first\")"
   ]
  },
  {
   "cell_type": "code",
   "execution_count": 41,
   "id": "5eadec72",
   "metadata": {},
   "outputs": [
    {
     "name": "stderr",
     "output_type": "stream",
     "text": [
      "simplifying: 100%|██████████| 944/944 [14:00<00:00,  1.12row/s]\n"
     ]
    }
   ],
   "source": [
    "dissolved_simp_gdf = await simplify_async(dissolved_gdf, True)"
   ]
  },
  {
   "cell_type": "code",
   "execution_count": 42,
   "id": "cb359a5e",
   "metadata": {},
   "outputs": [],
   "source": [
    "dissolved_simp_gdf.to_file(sks_data_path.joinpath(\"pas_sjoin_dissolved_simp.shp\"))"
   ]
  },
  {
   "cell_type": "markdown",
   "id": "f7f35a12",
   "metadata": {},
   "source": [
    "## Raster zonal statistics"
   ]
  },
  {
   "cell_type": "markdown",
   "id": "319a9094",
   "metadata": {},
   "source": [
    "#### Process"
   ]
  },
  {
   "cell_type": "code",
   "execution_count": 14,
   "id": "7def2eae",
   "metadata": {},
   "outputs": [],
   "source": [
    "dissolved_simp_gdf = gpd.read_file(sks_data_path.joinpath(\"pas_sjoin_dissolved_simp.shp\"))"
   ]
  },
  {
   "cell_type": "code",
   "execution_count": 15,
   "id": "7184d980",
   "metadata": {},
   "outputs": [
    {
     "data": {
      "text/plain": [
       "array(['MultiPolygon', 'Polygon', None], dtype=object)"
      ]
     },
     "execution_count": 15,
     "metadata": {},
     "output_type": "execute_result"
    }
   ],
   "source": [
    "dissolved_simp_gdf.geometry.geom_type.unique()"
   ]
  },
  {
   "cell_type": "code",
   "execution_count": 16,
   "id": "f5109e65",
   "metadata": {},
   "outputs": [],
   "source": [
    "filtered = dissolved_simp_gdf[dissolved_simp_gdf.geom_type.isin([\"Polygon\", \"MultiPolygon\"])][\n",
    "    [\"geometry\", \"iso_3\"]\n",
    "].reset_index(drop=True)"
   ]
  },
  {
   "cell_type": "code",
   "execution_count": 17,
   "id": "f99e37ee",
   "metadata": {},
   "outputs": [],
   "source": [
    "def convert_pix_to_area(df: gpd.GeoDataFrame, cell_size: float, col: str) -> gpd.GeoDataFrame:\n",
    "    return df.assign({col: lambda x: x.col * cell_size * cell_size})"
   ]
  },
  {
   "cell_type": "code",
   "execution_count": 18,
   "id": "705da24e",
   "metadata": {},
   "outputs": [],
   "source": [
    "async def calc_protection(efg_raster_path: str, geometries: list, c_map: dict):\n",
    "    calc = await calculate_zonal_stats(\n",
    "        efg_raster_path, geometries, _with=\"exact\", stats=[\"unique\", \"frac\", \"count\"], c_map=c_map\n",
    "    )\n",
    "    final = (\n",
    "        pd.concat(calc, axis=0)\n",
    "        .groupby([\"iso_3\", \"category\"])\n",
    "        .agg({\"count\": \"sum\"})\n",
    "        .reset_index()\n",
    "        .pipe(calculate_global)\n",
    "        .rename(columns={\"category\": \"habitats\", \"count\": \"protected\"})\n",
    "    )\n",
    "\n",
    "    return final"
   ]
  },
  {
   "cell_type": "code",
   "execution_count": 19,
   "id": "97864662",
   "metadata": {},
   "outputs": [],
   "source": [
    "async def calc_country_extent(efg_raster_path: str, geometries: list, c_map: dict):\n",
    "    calc = await calculate_zonal_stats(\n",
    "        efg_raster_path, geometries, _with=\"exact\", stats=[\"unique\", \"frac\", \"count\"], c_map=c_map\n",
    "    )\n",
    "\n",
    "    final = (\n",
    "        pd.concat(calc, axis=0)\n",
    "        .groupby([\"iso_3\", \"category\"])\n",
    "        .agg({\"count\": \"sum\"})\n",
    "        .reset_index()\n",
    "        .pipe(calculate_global)\n",
    "        .rename(columns={\"category\": \"habitats\", \"count\": \"total\"})\n",
    "    )\n",
    "\n",
    "    return final"
   ]
  },
  {
   "cell_type": "code",
   "execution_count": 20,
   "id": "d3a5d6af",
   "metadata": {},
   "outputs": [],
   "source": [
    "wdpa_grid = ComputationGrid(\n",
    "    bounds=[-180, -90, 180, 90], max_cell_size=3, crs=CRS.from_epsg(4326), grid_type=\"sparse\"\n",
    ")\n",
    "wdpa_grid.create_gdf_density_based_grid(filtered.explode(), 5000)\n",
    "list_subset = wdpa_grid.split_gdf_by_grid(filtered, True, 0)\n",
    "# wdpa_grid.grid_gdf.explore()"
   ]
  },
  {
   "cell_type": "code",
   "execution_count": null,
   "id": "17c0820e",
   "metadata": {},
   "outputs": [],
   "source": [
    "list_subset = [\n",
    "    gdf.pipe(lambda x: x.assign(geometry=x.geometry.apply(repair_geometry))) for gdf in list_subset\n",
    "]"
   ]
  },
  {
   "cell_type": "code",
   "execution_count": 22,
   "id": "b2c88909",
   "metadata": {},
   "outputs": [
    {
     "name": "stderr",
     "output_type": "stream",
     "text": [
      "Computing raster stats:   0%|          | 0/2332 [00:00<?, ?chunk/s]"
     ]
    },
    {
     "name": "stderr",
     "output_type": "stream",
     "text": [
      "/opt/conda/lib/python3.12/site-packages/osgeo/gdal.py:311: FutureWarning: Neither gdal.UseExceptions() nor gdal.DontUseExceptions() has been explicitly called. In GDAL 4.0, exceptions will be enabled by default.\n",
      "  warnings.warn(\n",
      "/opt/conda/lib/python3.12/site-packages/osgeo/gdal.py:311: FutureWarning: Neither gdal.UseExceptions() nor gdal.DontUseExceptions() has been explicitly called. In GDAL 4.0, exceptions will be enabled by default.\n",
      "  warnings.warn(\n",
      "/opt/conda/lib/python3.12/site-packages/osgeo/gdal.py:311: FutureWarning: Neither gdal.UseExceptions() nor gdal.DontUseExceptions() has been explicitly called. In GDAL 4.0, exceptions will be enabled by default.\n",
      "  warnings.warn(\n",
      "/opt/conda/lib/python3.12/site-packages/osgeo/gdal.py:311: FutureWarning: Neither gdal.UseExceptions() nor gdal.DontUseExceptions() has been explicitly called. In GDAL 4.0, exceptions will be enabled by default.\n",
      "  warnings.warn(\n",
      "/opt/conda/lib/python3.12/site-packages/osgeo/gdal.py:311: FutureWarning: Neither gdal.UseExceptions() nor gdal.DontUseExceptions() has been explicitly called. In GDAL 4.0, exceptions will be enabled by default.\n",
      "  warnings.warn(\n",
      "/opt/conda/lib/python3.12/site-packages/osgeo/gdal.py:311: FutureWarning: Neither gdal.UseExceptions() nor gdal.DontUseExceptions() has been explicitly called. In GDAL 4.0, exceptions will be enabled by default.\n",
      "  warnings.warn(\n",
      "/opt/conda/lib/python3.12/site-packages/osgeo/gdal.py:311: FutureWarning: Neither gdal.UseExceptions() nor gdal.DontUseExceptions() has been explicitly called. In GDAL 4.0, exceptions will be enabled by default.\n",
      "  warnings.warn(\n",
      "/opt/conda/lib/python3.12/site-packages/osgeo/gdal.py:311: FutureWarning: Neither gdal.UseExceptions() nor gdal.DontUseExceptions() has been explicitly called. In GDAL 4.0, exceptions will be enabled by default.\n",
      "  warnings.warn(\n",
      "/opt/conda/lib/python3.12/site-packages/osgeo/gdal.py:311: FutureWarning: Neither gdal.UseExceptions() nor gdal.DontUseExceptions() has been explicitly called. In GDAL 4.0, exceptions will be enabled by default.\n",
      "  warnings.warn(\n",
      "/opt/conda/lib/python3.12/site-packages/osgeo/gdal.py:311: FutureWarning: Neither gdal.UseExceptions() nor gdal.DontUseExceptions() has been explicitly called. In GDAL 4.0, exceptions will be enabled by default.\n",
      "  warnings.warn(\n",
      "/opt/conda/lib/python3.12/site-packages/osgeo/gdal.py:311: FutureWarning: Neither gdal.UseExceptions() nor gdal.DontUseExceptions() has been explicitly called. In GDAL 4.0, exceptions will be enabled by default.\n",
      "  warnings.warn(\n",
      "/opt/conda/lib/python3.12/site-packages/osgeo/gdal.py:311: FutureWarning: Neither gdal.UseExceptions() nor gdal.DontUseExceptions() has been explicitly called. In GDAL 4.0, exceptions will be enabled by default.\n",
      "  warnings.warn(\n",
      "Computing raster stats:   0%|          | 1/2332 [00:02<1:54:48,  2.96s/chunk]/opt/conda/lib/python3.12/site-packages/osgeo/gdal.py:311: FutureWarning: Neither gdal.UseExceptions() nor gdal.DontUseExceptions() has been explicitly called. In GDAL 4.0, exceptions will be enabled by default.\n",
      "  warnings.warn(\n",
      "/opt/conda/lib/python3.12/site-packages/osgeo/gdal.py:311: FutureWarning: Neither gdal.UseExceptions() nor gdal.DontUseExceptions() has been explicitly called. In GDAL 4.0, exceptions will be enabled by default.\n",
      "  warnings.warn(\n",
      "/opt/conda/lib/python3.12/site-packages/osgeo/gdal.py:311: FutureWarning: Neither gdal.UseExceptions() nor gdal.DontUseExceptions() has been explicitly called. In GDAL 4.0, exceptions will be enabled by default.\n",
      "  warnings.warn(\n",
      "/opt/conda/lib/python3.12/site-packages/osgeo/gdal.py:311: FutureWarning: Neither gdal.UseExceptions() nor gdal.DontUseExceptions() has been explicitly called. In GDAL 4.0, exceptions will be enabled by default.\n",
      "  warnings.warn(\n",
      "/opt/conda/lib/python3.12/site-packages/osgeo/gdal.py:311: FutureWarning: Neither gdal.UseExceptions() nor gdal.DontUseExceptions() has been explicitly called. In GDAL 4.0, exceptions will be enabled by default.\n",
      "  warnings.warn(\n",
      "/opt/conda/lib/python3.12/site-packages/osgeo/gdal.py:311: FutureWarning: Neither gdal.UseExceptions() nor gdal.DontUseExceptions() has been explicitly called. In GDAL 4.0, exceptions will be enabled by default.\n",
      "  warnings.warn(\n",
      "/opt/conda/lib/python3.12/site-packages/osgeo/gdal.py:311: FutureWarning: Neither gdal.UseExceptions() nor gdal.DontUseExceptions() has been explicitly called. In GDAL 4.0, exceptions will be enabled by default.\n",
      "  warnings.warn(\n",
      "Computing raster stats:   0%|          | 4/2332 [00:03<23:01,  1.68chunk/s]  /opt/conda/lib/python3.12/site-packages/osgeo/gdal.py:311: FutureWarning: Neither gdal.UseExceptions() nor gdal.DontUseExceptions() has been explicitly called. In GDAL 4.0, exceptions will be enabled by default.\n",
      "  warnings.warn(\n",
      "/opt/conda/lib/python3.12/site-packages/osgeo/gdal.py:311: FutureWarning: Neither gdal.UseExceptions() nor gdal.DontUseExceptions() has been explicitly called. In GDAL 4.0, exceptions will be enabled by default.\n",
      "  warnings.warn(\n",
      "/opt/conda/lib/python3.12/site-packages/osgeo/gdal.py:311: FutureWarning: Neither gdal.UseExceptions() nor gdal.DontUseExceptions() has been explicitly called. In GDAL 4.0, exceptions will be enabled by default.\n",
      "  warnings.warn(\n",
      "/opt/conda/lib/python3.12/site-packages/osgeo/gdal.py:311: FutureWarning: Neither gdal.UseExceptions() nor gdal.DontUseExceptions() has been explicitly called. In GDAL 4.0, exceptions will be enabled by default.\n",
      "  warnings.warn(\n",
      "Computing raster stats:   1%|          | 13/2332 [00:03<05:31,  7.00chunk/s]/opt/conda/lib/python3.12/site-packages/osgeo/gdal.py:311: FutureWarning: Neither gdal.UseExceptions() nor gdal.DontUseExceptions() has been explicitly called. In GDAL 4.0, exceptions will be enabled by default.\n",
      "  warnings.warn(\n",
      "Computing raster stats:   1%|          | 20/2332 [00:03<03:13, 11.96chunk/s]"
     ]
    },
    {
     "name": "stdout",
     "output_type": "stream",
     "text": [
      "Unsupported geometry type."
     ]
    },
    {
     "name": "stderr",
     "output_type": "stream",
     "text": [
      "Computing raster stats:   1%|          | 27/2332 [00:03<02:17, 16.74chunk/s]"
     ]
    },
    {
     "name": "stdout",
     "output_type": "stream",
     "text": [
      "\n"
     ]
    },
    {
     "name": "stderr",
     "output_type": "stream",
     "text": [
      "Computing raster stats:   5%|▍         | 110/2332 [00:05<01:02, 35.65chunk/s]"
     ]
    },
    {
     "name": "stdout",
     "output_type": "stream",
     "text": [
      "Failed to parse geometry.\n"
     ]
    },
    {
     "name": "stderr",
     "output_type": "stream",
     "text": [
      "Computing raster stats:  14%|█▍        | 323/2332 [00:09<00:32, 61.41chunk/s]"
     ]
    },
    {
     "name": "stdout",
     "output_type": "stream",
     "text": [
      "Failed to parse geometry.\n"
     ]
    },
    {
     "name": "stderr",
     "output_type": "stream",
     "text": [
      "Computing raster stats:  21%|██        | 480/2332 [00:12<00:48, 38.15chunk/s]"
     ]
    },
    {
     "name": "stdout",
     "output_type": "stream",
     "text": [
      "Unsupported geometry type.\n"
     ]
    },
    {
     "name": "stderr",
     "output_type": "stream",
     "text": [
      "Computing raster stats:  29%|██▊       | 667/2332 [00:15<00:25, 64.28chunk/s]"
     ]
    },
    {
     "name": "stdout",
     "output_type": "stream",
     "text": [
      "Failed to parse geometry.\n"
     ]
    },
    {
     "name": "stderr",
     "output_type": "stream",
     "text": [
      "Computing raster stats:  40%|███▉      | 928/2332 [00:20<00:38, 36.56chunk/s]"
     ]
    },
    {
     "name": "stdout",
     "output_type": "stream",
     "text": [
      "Failed to parse geometry.\n"
     ]
    },
    {
     "name": "stderr",
     "output_type": "stream",
     "text": [
      "Computing raster stats:  50%|█████     | 1174/2332 [00:27<00:31, 37.22chunk/s]"
     ]
    },
    {
     "name": "stdout",
     "output_type": "stream",
     "text": [
      "Unsupported geometry type.\n"
     ]
    },
    {
     "name": "stderr",
     "output_type": "stream",
     "text": [
      "Computing raster stats:  52%|█████▏    | 1201/2332 [00:28<00:39, 28.79chunk/s]"
     ]
    },
    {
     "name": "stdout",
     "output_type": "stream",
     "text": [
      "Failed to parse geometry.\n"
     ]
    },
    {
     "name": "stderr",
     "output_type": "stream",
     "text": [
      "Computing raster stats:  66%|██████▌   | 1544/2332 [00:34<00:06, 112.97chunk/s]"
     ]
    },
    {
     "name": "stdout",
     "output_type": "stream",
     "text": [
      "Failed to parse geometry.\n"
     ]
    },
    {
     "name": "stderr",
     "output_type": "stream",
     "text": [
      "Computing raster stats:  84%|████████▍ | 1964/2332 [00:37<00:04, 81.22chunk/s] "
     ]
    },
    {
     "name": "stdout",
     "output_type": "stream",
     "text": [
      "Unsupported geometry type.\n",
      "Unsupported geometry type.\n"
     ]
    },
    {
     "name": "stderr",
     "output_type": "stream",
     "text": [
      "Computing raster stats:  87%|████████▋ | 2018/2332 [00:38<00:04, 69.41chunk/s]"
     ]
    },
    {
     "name": "stdout",
     "output_type": "stream",
     "text": [
      "Failed to parse geometry.\n"
     ]
    },
    {
     "name": "stderr",
     "output_type": "stream",
     "text": [
      "Computing raster stats: 100%|██████████| 2332/2332 [00:42<00:00, 54.63chunk/s] \n"
     ]
    }
   ],
   "source": [
    "protected = await calc_protection(reclassified_biome_raster_path, list_subset, land_cover_classes)"
   ]
  },
  {
   "cell_type": "code",
   "execution_count": 24,
   "id": "575aeedb",
   "metadata": {},
   "outputs": [],
   "source": [
    "del list_subset\n",
    "del filtered\n",
    "del wdpa_grid"
   ]
  },
  {
   "cell_type": "code",
   "execution_count": 23,
   "id": "2b0cf593",
   "metadata": {},
   "outputs": [
    {
     "data": {
      "application/vnd.microsoft.datawrangler.viewer.v0+json": {
       "columns": [
        {
         "name": "index",
         "rawType": "int64",
         "type": "integer"
        },
        {
         "name": "habitats",
         "rawType": "object",
         "type": "string"
        },
        {
         "name": "protected",
         "rawType": "object",
         "type": "unknown"
        },
        {
         "name": "iso_3",
         "rawType": "object",
         "type": "string"
        }
       ],
       "conversionMethod": "pd.DataFrame",
       "ref": "27987b62-e136-4e26-9ebc-b53ec25103c5",
       "rows": [
        [
         "0",
         "Artificial",
         "179055554.56845278",
         "GLOB"
        ],
        [
         "1",
         "Desert",
         "747396639.2625053",
         "GLOB"
        ],
        [
         "2",
         "Forest",
         "927054960.5381308",
         "GLOB"
        ],
        [
         "3",
         "Grassland",
         "507968769.3891086",
         "GLOB"
        ],
        [
         "4",
         "Other",
         "10534919.349866994",
         "GLOB"
        ],
        [
         "5",
         "Rocky/mountains",
         "44679451.84526468",
         "GLOB"
        ],
        [
         "6",
         "Savanna",
         "269497675.025149",
         "GLOB"
        ],
        [
         "7",
         "Shrubland",
         "245519489.72503617",
         "GLOB"
        ],
        [
         "8",
         "Wetlands/open water",
         "102948002.20685999",
         "GLOB"
        ],
        [
         "0",
         "Artificial",
         "84744.13008340205",
         "AFG"
        ],
        [
         "1",
         "Desert",
         "321726.817463328",
         "AFG"
        ],
        [
         "2",
         "Forest",
         "20017.67349914213",
         "AFG"
        ],
        [
         "3",
         "Grassland",
         "872579.5281256391",
         "AFG"
        ],
        [
         "4",
         "Rocky/mountains",
         "1567462.029273268",
         "AFG"
        ],
        [
         "5",
         "Savanna",
         "2892.095178922576",
         "AFG"
        ],
        [
         "6",
         "Shrubland",
         "50377.52818331021",
         "AFG"
        ],
        [
         "7",
         "Wetlands/open water",
         "18482.99071657365",
         "AFG"
        ],
        [
         "8",
         "Artificial",
         "78583.26453011831",
         "AGO"
        ],
        [
         "9",
         "Desert",
         "1335265.7504464476",
         "AGO"
        ],
        [
         "10",
         "Forest",
         "1453652.108533269",
         "AGO"
        ],
        [
         "11",
         "Grassland",
         "214265.61308554222",
         "AGO"
        ],
        [
         "12",
         "Other",
         "2287.2512142305754",
         "AGO"
        ],
        [
         "13",
         "Rocky/mountains",
         "40829.3527409126",
         "AGO"
        ],
        [
         "14",
         "Savanna",
         "10069392.398262903",
         "AGO"
        ],
        [
         "15",
         "Shrubland",
         "539709.904842702",
         "AGO"
        ],
        [
         "16",
         "Wetlands/open water",
         "240279.3893470328",
         "AGO"
        ],
        [
         "17",
         "Artificial",
         "358916.8278951329",
         "ALB"
        ],
        [
         "18",
         "Desert",
         "1.0",
         "ALB"
        ],
        [
         "19",
         "Forest",
         "248961.57129456944",
         "ALB"
        ],
        [
         "20",
         "Grassland",
         "73468.52005881642",
         "ALB"
        ],
        [
         "21",
         "Other",
         "14977.574051118163",
         "ALB"
        ],
        [
         "22",
         "Rocky/mountains",
         "2609.0851152282703",
         "ALB"
        ],
        [
         "23",
         "Shrubland",
         "130877.62369634857",
         "ALB"
        ],
        [
         "24",
         "Wetlands/open water",
         "53999.81262328809",
         "ALB"
        ],
        [
         "25",
         "Artificial",
         "724.0855380380526",
         "AND"
        ],
        [
         "26",
         "Desert",
         "9.0",
         "AND"
        ],
        [
         "27",
         "Forest",
         "4647.734789885613",
         "AND"
        ],
        [
         "28",
         "Grassland",
         "9381.171787195857",
         "AND"
        ],
        [
         "29",
         "Rocky/mountains",
         "45.00453936433769",
         "AND"
        ],
        [
         "30",
         "Shrubland",
         "1822.8042178142314",
         "AND"
        ],
        [
         "31",
         "Artificial",
         "3150.740083476856",
         "ARE"
        ],
        [
         "32",
         "Desert",
         "1447748.763200198",
         "ARE"
        ],
        [
         "33",
         "Forest",
         "101.02663405280327",
         "ARE"
        ],
        [
         "34",
         "Grassland",
         "378.99144511061604",
         "ARE"
        ],
        [
         "35",
         "Other",
         "7854.386627146225",
         "ARE"
        ],
        [
         "36",
         "Rocky/mountains",
         "23044.890332809387",
         "ARE"
        ],
        [
         "37",
         "Shrubland",
         "2224.8202834154145",
         "ARE"
        ],
        [
         "38",
         "Wetlands/open water",
         "709.4396948842173",
         "ARE"
        ],
        [
         "39",
         "Artificial",
         "977242.6393626843",
         "ARG"
        ],
        [
         "40",
         "Desert",
         "2438777.9372150735",
         "ARG"
        ]
       ],
       "shape": {
        "columns": 3,
        "rows": 1398
       }
      },
      "text/html": [
       "<div>\n",
       "<style scoped>\n",
       "    .dataframe tbody tr th:only-of-type {\n",
       "        vertical-align: middle;\n",
       "    }\n",
       "\n",
       "    .dataframe tbody tr th {\n",
       "        vertical-align: top;\n",
       "    }\n",
       "\n",
       "    .dataframe thead th {\n",
       "        text-align: right;\n",
       "    }\n",
       "</style>\n",
       "<table border=\"1\" class=\"dataframe\">\n",
       "  <thead>\n",
       "    <tr style=\"text-align: right;\">\n",
       "      <th></th>\n",
       "      <th>habitats</th>\n",
       "      <th>protected</th>\n",
       "      <th>iso_3</th>\n",
       "    </tr>\n",
       "  </thead>\n",
       "  <tbody>\n",
       "    <tr>\n",
       "      <th>0</th>\n",
       "      <td>Artificial</td>\n",
       "      <td>179055554.568453</td>\n",
       "      <td>GLOB</td>\n",
       "    </tr>\n",
       "    <tr>\n",
       "      <th>1</th>\n",
       "      <td>Desert</td>\n",
       "      <td>747396639.262505</td>\n",
       "      <td>GLOB</td>\n",
       "    </tr>\n",
       "    <tr>\n",
       "      <th>2</th>\n",
       "      <td>Forest</td>\n",
       "      <td>927054960.538131</td>\n",
       "      <td>GLOB</td>\n",
       "    </tr>\n",
       "    <tr>\n",
       "      <th>3</th>\n",
       "      <td>Grassland</td>\n",
       "      <td>507968769.389109</td>\n",
       "      <td>GLOB</td>\n",
       "    </tr>\n",
       "    <tr>\n",
       "      <th>4</th>\n",
       "      <td>Other</td>\n",
       "      <td>10534919.349867</td>\n",
       "      <td>GLOB</td>\n",
       "    </tr>\n",
       "    <tr>\n",
       "      <th>...</th>\n",
       "      <td>...</td>\n",
       "      <td>...</td>\n",
       "      <td>...</td>\n",
       "    </tr>\n",
       "    <tr>\n",
       "      <th>1384</th>\n",
       "      <td>Forest</td>\n",
       "      <td>599976.940541</td>\n",
       "      <td>ZWE</td>\n",
       "    </tr>\n",
       "    <tr>\n",
       "      <th>1385</th>\n",
       "      <td>Grassland</td>\n",
       "      <td>22042.127767</td>\n",
       "      <td>ZWE</td>\n",
       "    </tr>\n",
       "    <tr>\n",
       "      <th>1386</th>\n",
       "      <td>Savanna</td>\n",
       "      <td>9196988.398833</td>\n",
       "      <td>ZWE</td>\n",
       "    </tr>\n",
       "    <tr>\n",
       "      <th>1387</th>\n",
       "      <td>Shrubland</td>\n",
       "      <td>369976.301946</td>\n",
       "      <td>ZWE</td>\n",
       "    </tr>\n",
       "    <tr>\n",
       "      <th>1388</th>\n",
       "      <td>Wetlands/open water</td>\n",
       "      <td>304156.631123</td>\n",
       "      <td>ZWE</td>\n",
       "    </tr>\n",
       "  </tbody>\n",
       "</table>\n",
       "<p>1398 rows × 3 columns</p>\n",
       "</div>"
      ],
      "text/plain": [
       "                 habitats         protected iso_3\n",
       "0              Artificial  179055554.568453  GLOB\n",
       "1                  Desert  747396639.262505  GLOB\n",
       "2                  Forest  927054960.538131  GLOB\n",
       "3               Grassland  507968769.389109  GLOB\n",
       "4                   Other   10534919.349867  GLOB\n",
       "...                   ...               ...   ...\n",
       "1384               Forest     599976.940541   ZWE\n",
       "1385            Grassland      22042.127767   ZWE\n",
       "1386              Savanna    9196988.398833   ZWE\n",
       "1387            Shrubland     369976.301946   ZWE\n",
       "1388  Wetlands/open water     304156.631123   ZWE\n",
       "\n",
       "[1398 rows x 3 columns]"
      ]
     },
     "execution_count": 23,
     "metadata": {},
     "output_type": "execute_result"
    }
   ],
   "source": [
    "protected"
   ]
  },
  {
   "cell_type": "code",
   "execution_count": 25,
   "id": "0c64abe0",
   "metadata": {},
   "outputs": [],
   "source": [
    "gadm_data_simp.rename(columns={\"GID_0\": \"iso_3\"}, inplace=True)"
   ]
  },
  {
   "cell_type": "code",
   "execution_count": 26,
   "id": "32e96da9",
   "metadata": {},
   "outputs": [],
   "source": [
    "region_grid = ComputationGrid(\n",
    "    bounds=[-180, -90, 180, 90], max_cell_size=10, crs=CRS.from_epsg(4326), grid_type=\"dense\"\n",
    ")\n",
    "\n",
    "regions_split = region_grid.split_gdf_by_grid(gadm_data_simp, True, 0)"
   ]
  },
  {
   "cell_type": "code",
   "execution_count": 27,
   "id": "9ba79b33",
   "metadata": {},
   "outputs": [
    {
     "name": "stderr",
     "output_type": "stream",
     "text": [
      "Computing raster stats:   0%|          | 0/467 [00:00<?, ?chunk/s]"
     ]
    },
    {
     "name": "stderr",
     "output_type": "stream",
     "text": [
      "/opt/conda/lib/python3.12/site-packages/osgeo/gdal.py:311: FutureWarning: Neither gdal.UseExceptions() nor gdal.DontUseExceptions() has been explicitly called. In GDAL 4.0, exceptions will be enabled by default.\n",
      "  warnings.warn(\n",
      "/opt/conda/lib/python3.12/site-packages/osgeo/gdal.py:311: FutureWarning: Neither gdal.UseExceptions() nor gdal.DontUseExceptions() has been explicitly called. In GDAL 4.0, exceptions will be enabled by default.\n",
      "  warnings.warn(\n",
      "/opt/conda/lib/python3.12/site-packages/osgeo/gdal.py:311: FutureWarning: Neither gdal.UseExceptions() nor gdal.DontUseExceptions() has been explicitly called. In GDAL 4.0, exceptions will be enabled by default.\n",
      "  warnings.warn(\n",
      "/opt/conda/lib/python3.12/site-packages/osgeo/gdal.py:311: FutureWarning: Neither gdal.UseExceptions() nor gdal.DontUseExceptions() has been explicitly called. In GDAL 4.0, exceptions will be enabled by default.\n",
      "  warnings.warn(\n",
      "/opt/conda/lib/python3.12/site-packages/osgeo/gdal.py:311: FutureWarning: Neither gdal.UseExceptions() nor gdal.DontUseExceptions() has been explicitly called. In GDAL 4.0, exceptions will be enabled by default.\n",
      "  warnings.warn(\n",
      "/opt/conda/lib/python3.12/site-packages/osgeo/gdal.py:311: FutureWarning: Neither gdal.UseExceptions() nor gdal.DontUseExceptions() has been explicitly called. In GDAL 4.0, exceptions will be enabled by default.\n",
      "  warnings.warn(\n",
      "/opt/conda/lib/python3.12/site-packages/osgeo/gdal.py:311: FutureWarning: Neither gdal.UseExceptions() nor gdal.DontUseExceptions() has been explicitly called. In GDAL 4.0, exceptions will be enabled by default.\n",
      "  warnings.warn(\n",
      "/opt/conda/lib/python3.12/site-packages/osgeo/gdal.py:311: FutureWarning: Neither gdal.UseExceptions() nor gdal.DontUseExceptions() has been explicitly called. In GDAL 4.0, exceptions will be enabled by default.\n",
      "  warnings.warn(\n",
      "/opt/conda/lib/python3.12/site-packages/osgeo/gdal.py:311: FutureWarning: Neither gdal.UseExceptions() nor gdal.DontUseExceptions() has been explicitly called. In GDAL 4.0, exceptions will be enabled by default.\n",
      "  warnings.warn(\n",
      "/opt/conda/lib/python3.12/site-packages/osgeo/gdal.py:311: FutureWarning: Neither gdal.UseExceptions() nor gdal.DontUseExceptions() has been explicitly called. In GDAL 4.0, exceptions will be enabled by default.\n",
      "  warnings.warn(\n",
      "/opt/conda/lib/python3.12/site-packages/osgeo/gdal.py:311: FutureWarning: Neither gdal.UseExceptions() nor gdal.DontUseExceptions() has been explicitly called. In GDAL 4.0, exceptions will be enabled by default.\n",
      "  warnings.warn(\n",
      "/opt/conda/lib/python3.12/site-packages/osgeo/gdal.py:311: FutureWarning: Neither gdal.UseExceptions() nor gdal.DontUseExceptions() has been explicitly called. In GDAL 4.0, exceptions will be enabled by default.\n",
      "  warnings.warn(\n",
      "/opt/conda/lib/python3.12/site-packages/osgeo/gdal.py:311: FutureWarning: Neither gdal.UseExceptions() nor gdal.DontUseExceptions() has been explicitly called. In GDAL 4.0, exceptions will be enabled by default.\n",
      "  warnings.warn(\n",
      "/opt/conda/lib/python3.12/site-packages/osgeo/gdal.py:311: FutureWarning: Neither gdal.UseExceptions() nor gdal.DontUseExceptions() has been explicitly called. In GDAL 4.0, exceptions will be enabled by default.\n",
      "  warnings.warn(\n",
      "/opt/conda/lib/python3.12/site-packages/osgeo/gdal.py:311: FutureWarning: Neither gdal.UseExceptions() nor gdal.DontUseExceptions() has been explicitly called. In GDAL 4.0, exceptions will be enabled by default.\n",
      "  warnings.warn(\n",
      "/opt/conda/lib/python3.12/site-packages/osgeo/gdal.py:311: FutureWarning: Neither gdal.UseExceptions() nor gdal.DontUseExceptions() has been explicitly called. In GDAL 4.0, exceptions will be enabled by default.\n",
      "  warnings.warn(\n",
      "/opt/conda/lib/python3.12/site-packages/osgeo/gdal.py:311: FutureWarning: Neither gdal.UseExceptions() nor gdal.DontUseExceptions() has been explicitly called. In GDAL 4.0, exceptions will be enabled by default.\n",
      "  warnings.warn(\n",
      "/opt/conda/lib/python3.12/site-packages/osgeo/gdal.py:311: FutureWarning: Neither gdal.UseExceptions() nor gdal.DontUseExceptions() has been explicitly called. In GDAL 4.0, exceptions will be enabled by default.\n",
      "  warnings.warn(\n",
      "/opt/conda/lib/python3.12/site-packages/osgeo/gdal.py:311: FutureWarning: Neither gdal.UseExceptions() nor gdal.DontUseExceptions() has been explicitly called. In GDAL 4.0, exceptions will be enabled by default.\n",
      "  warnings.warn(\n",
      "/opt/conda/lib/python3.12/site-packages/osgeo/gdal.py:311: FutureWarning: Neither gdal.UseExceptions() nor gdal.DontUseExceptions() has been explicitly called. In GDAL 4.0, exceptions will be enabled by default.\n",
      "  warnings.warn(\n",
      "/opt/conda/lib/python3.12/site-packages/osgeo/gdal.py:311: FutureWarning: Neither gdal.UseExceptions() nor gdal.DontUseExceptions() has been explicitly called. In GDAL 4.0, exceptions will be enabled by default.\n",
      "  warnings.warn(\n",
      "/opt/conda/lib/python3.12/site-packages/osgeo/gdal.py:311: FutureWarning: Neither gdal.UseExceptions() nor gdal.DontUseExceptions() has been explicitly called. In GDAL 4.0, exceptions will be enabled by default.\n",
      "  warnings.warn(\n",
      "/opt/conda/lib/python3.12/site-packages/osgeo/gdal.py:311: FutureWarning: Neither gdal.UseExceptions() nor gdal.DontUseExceptions() has been explicitly called. In GDAL 4.0, exceptions will be enabled by default.\n",
      "  warnings.warn(\n",
      "/opt/conda/lib/python3.12/site-packages/osgeo/gdal.py:311: FutureWarning: Neither gdal.UseExceptions() nor gdal.DontUseExceptions() has been explicitly called. In GDAL 4.0, exceptions will be enabled by default.\n",
      "  warnings.warn(\n",
      "/opt/conda/lib/python3.12/site-packages/osgeo/gdal.py:311: FutureWarning: Neither gdal.UseExceptions() nor gdal.DontUseExceptions() has been explicitly called. In GDAL 4.0, exceptions will be enabled by default.\n",
      "  warnings.warn(\n",
      "/opt/conda/lib/python3.12/site-packages/osgeo/gdal.py:311: FutureWarning: Neither gdal.UseExceptions() nor gdal.DontUseExceptions() has been explicitly called. In GDAL 4.0, exceptions will be enabled by default.\n",
      "  warnings.warn(\n",
      "/opt/conda/lib/python3.12/site-packages/osgeo/gdal.py:311: FutureWarning: Neither gdal.UseExceptions() nor gdal.DontUseExceptions() has been explicitly called. In GDAL 4.0, exceptions will be enabled by default.\n",
      "  warnings.warn(\n",
      "/opt/conda/lib/python3.12/site-packages/osgeo/gdal.py:311: FutureWarning: Neither gdal.UseExceptions() nor gdal.DontUseExceptions() has been explicitly called. In GDAL 4.0, exceptions will be enabled by default.\n",
      "  warnings.warn(\n",
      "/opt/conda/lib/python3.12/site-packages/osgeo/gdal.py:311: FutureWarning: Neither gdal.UseExceptions() nor gdal.DontUseExceptions() has been explicitly called. In GDAL 4.0, exceptions will be enabled by default.\n",
      "  warnings.warn(\n",
      "/opt/conda/lib/python3.12/site-packages/osgeo/gdal.py:311: FutureWarning: Neither gdal.UseExceptions() nor gdal.DontUseExceptions() has been explicitly called. In GDAL 4.0, exceptions will be enabled by default.\n",
      "  warnings.warn(\n",
      "/opt/conda/lib/python3.12/site-packages/osgeo/gdal.py:311: FutureWarning: Neither gdal.UseExceptions() nor gdal.DontUseExceptions() has been explicitly called. In GDAL 4.0, exceptions will be enabled by default.\n",
      "  warnings.warn(\n",
      "/opt/conda/lib/python3.12/site-packages/osgeo/gdal.py:311: FutureWarning: Neither gdal.UseExceptions() nor gdal.DontUseExceptions() has been explicitly called. In GDAL 4.0, exceptions will be enabled by default.\n",
      "  warnings.warn(\n",
      "/opt/conda/lib/python3.12/site-packages/osgeo/gdal.py:311: FutureWarning: Neither gdal.UseExceptions() nor gdal.DontUseExceptions() has been explicitly called. In GDAL 4.0, exceptions will be enabled by default.\n",
      "  warnings.warn(\n",
      "Computing raster stats: 100%|██████████| 467/467 [02:07<00:00,  3.65chunk/s]\n"
     ]
    }
   ],
   "source": [
    "location_efgs = await calc_country_extent(\n",
    "    reclassified_biome_raster_path, regions_split, land_cover_classes\n",
    ")"
   ]
  },
  {
   "cell_type": "code",
   "execution_count": 28,
   "id": "9276ffb9",
   "metadata": {},
   "outputs": [
    {
     "data": {
      "application/vnd.microsoft.datawrangler.viewer.v0+json": {
       "columns": [
        {
         "name": "index",
         "rawType": "int64",
         "type": "integer"
        },
        {
         "name": "habitats",
         "rawType": "object",
         "type": "string"
        },
        {
         "name": "total",
         "rawType": "object",
         "type": "unknown"
        },
        {
         "name": "iso_3",
         "rawType": "object",
         "type": "string"
        }
       ],
       "conversionMethod": "pd.DataFrame",
       "ref": "9826fe18-83bb-4ad1-8a99-34ce99ef33c2",
       "rows": [
        [
         "0",
         "Artificial",
         "2814392766.0448174",
         "GLOB"
        ],
        [
         "1",
         "Desert",
         "11035130642.482483",
         "GLOB"
        ],
        [
         "2",
         "Forest",
         "4894422034.071765",
         "GLOB"
        ],
        [
         "3",
         "Grassland",
         "3532338753.845665",
         "GLOB"
        ],
        [
         "4",
         "Other",
         "31294030.71715694",
         "GLOB"
        ],
        [
         "5",
         "Rocky/mountains",
         "355077985.7445341",
         "GLOB"
        ],
        [
         "6",
         "Savanna",
         "1647020915.344012",
         "GLOB"
        ],
        [
         "7",
         "Shrubland",
         "1646158723.7834322",
         "GLOB"
        ],
        [
         "8",
         "Wetlands/open water",
         "659610087.3055081",
         "GLOB"
        ],
        [
         "0",
         "Artificial",
         "5623283.995625475",
         "AFG"
        ],
        [
         "1",
         "Desert",
         "27261387.49017187",
         "AFG"
        ],
        [
         "2",
         "Forest",
         "382596.79109701567",
         "AFG"
        ],
        [
         "3",
         "Grassland",
         "29102447.09492352",
         "AFG"
        ],
        [
         "4",
         "Other",
         "3.0",
         "AFG"
        ],
        [
         "5",
         "Rocky/mountains",
         "13704805.328224953",
         "AFG"
        ],
        [
         "6",
         "Savanna",
         "177781.87041375256",
         "AFG"
        ],
        [
         "7",
         "Shrubland",
         "1444621.7566434178",
         "AFG"
        ],
        [
         "8",
         "Wetlands/open water",
         "60010.532849929354",
         "AFG"
        ],
        [
         "9",
         "Artificial",
         "5877784.298126697",
         "AGO"
        ],
        [
         "10",
         "Desert",
         "1798125.9069658914",
         "AGO"
        ],
        [
         "11",
         "Forest",
         "40775918.707854696",
         "AGO"
        ],
        [
         "12",
         "Grassland",
         "2844257.5595338847",
         "AGO"
        ],
        [
         "13",
         "Other",
         "43027.57514877788",
         "AGO"
        ],
        [
         "14",
         "Rocky/mountains",
         "50488.959222528596",
         "AGO"
        ],
        [
         "15",
         "Savanna",
         "67284337.92864361",
         "AGO"
        ],
        [
         "16",
         "Shrubland",
         "9041558.079491697",
         "AGO"
        ],
        [
         "17",
         "Wetlands/open water",
         "884341.2494672477",
         "AGO"
        ],
        [
         "18",
         "Artificial",
         "1967809.8542311438",
         "ALB"
        ],
        [
         "19",
         "Desert",
         "1.0",
         "ALB"
        ],
        [
         "20",
         "Forest",
         "1009701.6000797421",
         "ALB"
        ],
        [
         "21",
         "Grassland",
         "102224.21442598334",
         "ALB"
        ],
        [
         "22",
         "Other",
         "16986.449264996205",
         "ALB"
        ],
        [
         "23",
         "Rocky/mountains",
         "3035.5160991996527",
         "ALB"
        ],
        [
         "24",
         "Shrubland",
         "647166.2199442529",
         "ALB"
        ],
        [
         "25",
         "Wetlands/open water",
         "71478.24968682404",
         "ALB"
        ],
        [
         "26",
         "Artificial",
         "2831.4193547184404",
         "AND"
        ],
        [
         "27",
         "Desert",
         "13.98681229352951",
         "AND"
        ],
        [
         "28",
         "Forest",
         "23156.141648398814",
         "AND"
        ],
        [
         "29",
         "Grassland",
         "29516.934493935853",
         "AND"
        ],
        [
         "30",
         "Rocky/mountains",
         "71.88684797225869",
         "AND"
        ],
        [
         "31",
         "Shrubland",
         "5655.936171119036",
         "AND"
        ],
        [
         "32",
         "Wetlands/open water",
         "18.0",
         "AND"
        ],
        [
         "33",
         "Artificial",
         "243233.1632835602",
         "ARE"
        ],
        [
         "34",
         "Desert",
         "7237671.179076241",
         "ARE"
        ],
        [
         "35",
         "Forest",
         "1083.2337630392358",
         "ARE"
        ],
        [
         "36",
         "Grassland",
         "8031.026702396099",
         "ARE"
        ],
        [
         "37",
         "Other",
         "79697.55753022408",
         "ARE"
        ],
        [
         "38",
         "Rocky/mountains",
         "174402.21770139883",
         "ARE"
        ],
        [
         "39",
         "Savanna",
         "1.2402923107147217",
         "ARE"
        ],
        [
         "40",
         "Shrubland",
         "64612.14254419095",
         "ARE"
        ]
       ],
       "shape": {
        "columns": 3,
        "rows": 1507
       }
      },
      "text/html": [
       "<div>\n",
       "<style scoped>\n",
       "    .dataframe tbody tr th:only-of-type {\n",
       "        vertical-align: middle;\n",
       "    }\n",
       "\n",
       "    .dataframe tbody tr th {\n",
       "        vertical-align: top;\n",
       "    }\n",
       "\n",
       "    .dataframe thead th {\n",
       "        text-align: right;\n",
       "    }\n",
       "</style>\n",
       "<table border=\"1\" class=\"dataframe\">\n",
       "  <thead>\n",
       "    <tr style=\"text-align: right;\">\n",
       "      <th></th>\n",
       "      <th>habitats</th>\n",
       "      <th>total</th>\n",
       "      <th>iso_3</th>\n",
       "    </tr>\n",
       "  </thead>\n",
       "  <tbody>\n",
       "    <tr>\n",
       "      <th>0</th>\n",
       "      <td>Artificial</td>\n",
       "      <td>2814392766.044817</td>\n",
       "      <td>GLOB</td>\n",
       "    </tr>\n",
       "    <tr>\n",
       "      <th>1</th>\n",
       "      <td>Desert</td>\n",
       "      <td>11035130642.482483</td>\n",
       "      <td>GLOB</td>\n",
       "    </tr>\n",
       "    <tr>\n",
       "      <th>2</th>\n",
       "      <td>Forest</td>\n",
       "      <td>4894422034.071765</td>\n",
       "      <td>GLOB</td>\n",
       "    </tr>\n",
       "    <tr>\n",
       "      <th>3</th>\n",
       "      <td>Grassland</td>\n",
       "      <td>3532338753.845665</td>\n",
       "      <td>GLOB</td>\n",
       "    </tr>\n",
       "    <tr>\n",
       "      <th>4</th>\n",
       "      <td>Other</td>\n",
       "      <td>31294030.717157</td>\n",
       "      <td>GLOB</td>\n",
       "    </tr>\n",
       "    <tr>\n",
       "      <th>...</th>\n",
       "      <td>...</td>\n",
       "      <td>...</td>\n",
       "      <td>...</td>\n",
       "    </tr>\n",
       "    <tr>\n",
       "      <th>1493</th>\n",
       "      <td>Grassland</td>\n",
       "      <td>338488.994966</td>\n",
       "      <td>ZWE</td>\n",
       "    </tr>\n",
       "    <tr>\n",
       "      <th>1494</th>\n",
       "      <td>Rocky/mountains</td>\n",
       "      <td>51.0</td>\n",
       "      <td>ZWE</td>\n",
       "    </tr>\n",
       "    <tr>\n",
       "      <th>1495</th>\n",
       "      <td>Savanna</td>\n",
       "      <td>22879058.986613</td>\n",
       "      <td>ZWE</td>\n",
       "    </tr>\n",
       "    <tr>\n",
       "      <th>1496</th>\n",
       "      <td>Shrubland</td>\n",
       "      <td>5252410.077386</td>\n",
       "      <td>ZWE</td>\n",
       "    </tr>\n",
       "    <tr>\n",
       "      <th>1497</th>\n",
       "      <td>Wetlands/open water</td>\n",
       "      <td>372766.598721</td>\n",
       "      <td>ZWE</td>\n",
       "    </tr>\n",
       "  </tbody>\n",
       "</table>\n",
       "<p>1507 rows × 3 columns</p>\n",
       "</div>"
      ],
      "text/plain": [
       "                 habitats               total iso_3\n",
       "0              Artificial   2814392766.044817  GLOB\n",
       "1                  Desert  11035130642.482483  GLOB\n",
       "2                  Forest   4894422034.071765  GLOB\n",
       "3               Grassland   3532338753.845665  GLOB\n",
       "4                   Other     31294030.717157  GLOB\n",
       "...                   ...                 ...   ...\n",
       "1493            Grassland       338488.994966   ZWE\n",
       "1494      Rocky/mountains                51.0   ZWE\n",
       "1495              Savanna     22879058.986613   ZWE\n",
       "1496            Shrubland      5252410.077386   ZWE\n",
       "1497  Wetlands/open water       372766.598721   ZWE\n",
       "\n",
       "[1507 rows x 3 columns]"
      ]
     },
     "execution_count": 28,
     "metadata": {},
     "output_type": "execute_result"
    }
   ],
   "source": [
    "location_efgs"
   ]
  },
  {
   "cell_type": "code",
   "execution_count": 29,
   "id": "6e685705",
   "metadata": {},
   "outputs": [],
   "source": [
    "del regions_split\n",
    "del region_grid"
   ]
  },
  {
   "cell_type": "code",
   "execution_count": 30,
   "id": "e3aa359f",
   "metadata": {},
   "outputs": [],
   "source": [
    "def create_master_data_table(location_efgs: pd.DataFrame, protected: pd.DataFrame) -> pd.DataFrame:\n",
    "    protection_extent = location_efgs.set_index([\"iso_3\", \"habitats\"]).join(\n",
    "        protected.set_index([\"iso_3\", \"habitats\"])\n",
    "    )\n",
    "    protection_extent[\"frac\"] = (protection_extent[\"protected\"] / protection_extent[\"total\"]) * 100\n",
    "\n",
    "    return protection_extent.reset_index()"
   ]
  },
  {
   "cell_type": "code",
   "execution_count": 31,
   "id": "d75ff26f",
   "metadata": {},
   "outputs": [],
   "source": [
    "master_data_protection = create_master_data_table(location_efgs, protected)"
   ]
  },
  {
   "cell_type": "code",
   "execution_count": 32,
   "id": "9e63a0a0",
   "metadata": {},
   "outputs": [],
   "source": [
    "def calc_area(df: pd.DataFrame) -> pd.DataFrame:\n",
    "    df[\"perc_extent\"] = (df[\"total\"] / df[\"total_area\"]) * 100\n",
    "    return df"
   ]
  },
  {
   "cell_type": "code",
   "execution_count": 33,
   "id": "a8775e8a",
   "metadata": {},
   "outputs": [],
   "source": [
    "test = master_data_protection.join(\n",
    "    master_data_protection.groupby(\"iso_3\").agg({\"total\": \"sum\"}), on=\"iso_3\", rsuffix=\"_area\"\n",
    ").pipe(calc_area)"
   ]
  },
  {
   "cell_type": "code",
   "execution_count": 35,
   "id": "ef47a72d",
   "metadata": {},
   "outputs": [
    {
     "data": {
      "application/vnd.microsoft.datawrangler.viewer.v0+json": {
       "columns": [
        {
         "name": "index",
         "rawType": "int64",
         "type": "integer"
        },
        {
         "name": "iso_3",
         "rawType": "object",
         "type": "string"
        },
        {
         "name": "habitats",
         "rawType": "object",
         "type": "string"
        },
        {
         "name": "total",
         "rawType": "object",
         "type": "unknown"
        },
        {
         "name": "protected",
         "rawType": "object",
         "type": "unknown"
        },
        {
         "name": "frac",
         "rawType": "object",
         "type": "unknown"
        },
        {
         "name": "total_area",
         "rawType": "object",
         "type": "unknown"
        },
        {
         "name": "perc_extent",
         "rawType": "object",
         "type": "unknown"
        }
       ],
       "conversionMethod": "pd.DataFrame",
       "ref": "9386cd24-60c6-41ef-9395-bf7cdd32da9a",
       "rows": [
        [
         "426",
         "ESP",
         "Artificial",
         "39106089.70943197",
         "8067029.669798663",
         "20.62857659699221",
         "66412410.12189367",
         "58.88370808657065"
        ],
        [
         "427",
         "ESP",
         "Desert",
         "150986.9966798015",
         "85544.1428132905",
         "56.65662917628872",
         "66412410.12189367",
         "0.22734756411140508"
        ],
        [
         "428",
         "ESP",
         "Forest",
         "8971486.415349651",
         "4122894.4877911587",
         "45.955533976367",
         "66412410.12189367",
         "13.50874994430008"
        ],
        [
         "429",
         "ESP",
         "Grassland",
         "3406859.161202396",
         "1228491.8042437288",
         "36.05936571238103",
         "66412410.12189367",
         "5.129853223139214"
        ],
        [
         "430",
         "ESP",
         "Other",
         "43549.407046072985",
         "16077.294965657175",
         "36.91736824027992",
         "66412410.12189367",
         "0.06557420061422584"
        ],
        [
         "431",
         "ESP",
         "Rocky/mountains",
         "28369.99912374502",
         "24333.198232679053",
         "85.77088115703444",
         "66412410.12189367",
         "0.04271791834037431"
        ],
        [
         "432",
         "ESP",
         "Savanna",
         "160968.84555130714",
         "52803.5958043218",
         "32.803612166983704",
         "66412410.12189367",
         "0.24237765992209007"
        ],
        [
         "433",
         "ESP",
         "Shrubland",
         "14187310.962240104",
         "4820682.304261497",
         "33.978830217310865",
         "66412410.12189367",
         "21.362439544357212"
        ],
        [
         "434",
         "ESP",
         "Wetlands/open water",
         "356788.62526863",
         "214473.22776613984",
         "60.11212594141998",
         "66412410.12189367",
         "0.5372318586447599"
        ]
       ],
       "shape": {
        "columns": 7,
        "rows": 9
       }
      },
      "text/html": [
       "<div>\n",
       "<style scoped>\n",
       "    .dataframe tbody tr th:only-of-type {\n",
       "        vertical-align: middle;\n",
       "    }\n",
       "\n",
       "    .dataframe tbody tr th {\n",
       "        vertical-align: top;\n",
       "    }\n",
       "\n",
       "    .dataframe thead th {\n",
       "        text-align: right;\n",
       "    }\n",
       "</style>\n",
       "<table border=\"1\" class=\"dataframe\">\n",
       "  <thead>\n",
       "    <tr style=\"text-align: right;\">\n",
       "      <th></th>\n",
       "      <th>iso_3</th>\n",
       "      <th>habitats</th>\n",
       "      <th>total</th>\n",
       "      <th>protected</th>\n",
       "      <th>frac</th>\n",
       "      <th>total_area</th>\n",
       "      <th>perc_extent</th>\n",
       "    </tr>\n",
       "  </thead>\n",
       "  <tbody>\n",
       "    <tr>\n",
       "      <th>426</th>\n",
       "      <td>ESP</td>\n",
       "      <td>Artificial</td>\n",
       "      <td>39106089.709432</td>\n",
       "      <td>8067029.669799</td>\n",
       "      <td>20.628577</td>\n",
       "      <td>66412410.121894</td>\n",
       "      <td>58.883708</td>\n",
       "    </tr>\n",
       "    <tr>\n",
       "      <th>427</th>\n",
       "      <td>ESP</td>\n",
       "      <td>Desert</td>\n",
       "      <td>150986.99668</td>\n",
       "      <td>85544.142813</td>\n",
       "      <td>56.656629</td>\n",
       "      <td>66412410.121894</td>\n",
       "      <td>0.227348</td>\n",
       "    </tr>\n",
       "    <tr>\n",
       "      <th>428</th>\n",
       "      <td>ESP</td>\n",
       "      <td>Forest</td>\n",
       "      <td>8971486.41535</td>\n",
       "      <td>4122894.487791</td>\n",
       "      <td>45.955534</td>\n",
       "      <td>66412410.121894</td>\n",
       "      <td>13.50875</td>\n",
       "    </tr>\n",
       "    <tr>\n",
       "      <th>429</th>\n",
       "      <td>ESP</td>\n",
       "      <td>Grassland</td>\n",
       "      <td>3406859.161202</td>\n",
       "      <td>1228491.804244</td>\n",
       "      <td>36.059366</td>\n",
       "      <td>66412410.121894</td>\n",
       "      <td>5.129853</td>\n",
       "    </tr>\n",
       "    <tr>\n",
       "      <th>430</th>\n",
       "      <td>ESP</td>\n",
       "      <td>Other</td>\n",
       "      <td>43549.407046</td>\n",
       "      <td>16077.294966</td>\n",
       "      <td>36.917368</td>\n",
       "      <td>66412410.121894</td>\n",
       "      <td>0.065574</td>\n",
       "    </tr>\n",
       "    <tr>\n",
       "      <th>431</th>\n",
       "      <td>ESP</td>\n",
       "      <td>Rocky/mountains</td>\n",
       "      <td>28369.999124</td>\n",
       "      <td>24333.198233</td>\n",
       "      <td>85.770881</td>\n",
       "      <td>66412410.121894</td>\n",
       "      <td>0.042718</td>\n",
       "    </tr>\n",
       "    <tr>\n",
       "      <th>432</th>\n",
       "      <td>ESP</td>\n",
       "      <td>Savanna</td>\n",
       "      <td>160968.845551</td>\n",
       "      <td>52803.595804</td>\n",
       "      <td>32.803612</td>\n",
       "      <td>66412410.121894</td>\n",
       "      <td>0.242378</td>\n",
       "    </tr>\n",
       "    <tr>\n",
       "      <th>433</th>\n",
       "      <td>ESP</td>\n",
       "      <td>Shrubland</td>\n",
       "      <td>14187310.96224</td>\n",
       "      <td>4820682.304261</td>\n",
       "      <td>33.97883</td>\n",
       "      <td>66412410.121894</td>\n",
       "      <td>21.36244</td>\n",
       "    </tr>\n",
       "    <tr>\n",
       "      <th>434</th>\n",
       "      <td>ESP</td>\n",
       "      <td>Wetlands/open water</td>\n",
       "      <td>356788.625269</td>\n",
       "      <td>214473.227766</td>\n",
       "      <td>60.112126</td>\n",
       "      <td>66412410.121894</td>\n",
       "      <td>0.537232</td>\n",
       "    </tr>\n",
       "  </tbody>\n",
       "</table>\n",
       "</div>"
      ],
      "text/plain": [
       "    iso_3             habitats            total       protected       frac  \\\n",
       "426   ESP           Artificial  39106089.709432  8067029.669799  20.628577   \n",
       "427   ESP               Desert     150986.99668    85544.142813  56.656629   \n",
       "428   ESP               Forest    8971486.41535  4122894.487791  45.955534   \n",
       "429   ESP            Grassland   3406859.161202  1228491.804244  36.059366   \n",
       "430   ESP                Other     43549.407046    16077.294966  36.917368   \n",
       "431   ESP      Rocky/mountains     28369.999124    24333.198233  85.770881   \n",
       "432   ESP              Savanna    160968.845551    52803.595804  32.803612   \n",
       "433   ESP            Shrubland   14187310.96224  4820682.304261   33.97883   \n",
       "434   ESP  Wetlands/open water    356788.625269   214473.227766  60.112126   \n",
       "\n",
       "          total_area perc_extent  \n",
       "426  66412410.121894   58.883708  \n",
       "427  66412410.121894    0.227348  \n",
       "428  66412410.121894    13.50875  \n",
       "429  66412410.121894    5.129853  \n",
       "430  66412410.121894    0.065574  \n",
       "431  66412410.121894    0.042718  \n",
       "432  66412410.121894    0.242378  \n",
       "433  66412410.121894    21.36244  \n",
       "434  66412410.121894    0.537232  "
      ]
     },
     "execution_count": 35,
     "metadata": {},
     "output_type": "execute_result"
    }
   ],
   "source": [
    "test[test[\"iso_3\"] == \"ESP\"]"
   ]
  },
  {
   "cell_type": "code",
   "execution_count": 36,
   "id": "9ec885dd",
   "metadata": {},
   "outputs": [],
   "source": [
    "test.to_csv(sks_data_path.joinpath(\"master_data_protection_exact.csv\"), index=False)"
   ]
  },
  {
   "cell_type": "markdown",
   "id": "9cf613b5",
   "metadata": {},
   "source": [
    "### Test spain without split between 2 different ways of doing zonal stats"
   ]
  },
  {
   "cell_type": "code",
   "execution_count": null,
   "id": "15dc4517",
   "metadata": {},
   "outputs": [],
   "source": [
    "from rasterstats import zonal_stats\n",
    "\n",
    "from exactextract import exact_extract"
   ]
  },
  {
   "cell_type": "code",
   "execution_count": null,
   "id": "f050b57a",
   "metadata": {},
   "outputs": [],
   "source": [
    "dissolved_simp_gdf[dissolved_simp_gdf.gid_0 == \"ESP\"].explore()"
   ]
  },
  {
   "cell_type": "code",
   "execution_count": null,
   "id": "e8abb0c5",
   "metadata": {},
   "outputs": [],
   "source": [
    "gadm_data_simp[gadm_data_simp[\"iso_3\"] == \"ESP\"].explore()"
   ]
  },
  {
   "cell_type": "code",
   "execution_count": null,
   "id": "99315c54",
   "metadata": {},
   "outputs": [],
   "source": [
    "params_rasterstats = {\n",
    "    \"vectors\": gadm_data_simp[gadm_data_simp[\"iso_3\"] == \"ESP\"].geometry,\n",
    "    \"raster\": local_biome_raster_path,\n",
    "    \"all_touched\": True,\n",
    "    \"categorical\": True,\n",
    "    \"category_map\": land_cover_classes,\n",
    "}\n",
    "\n",
    "test_esp_total_rasterstats = zonal_stats(**params_rasterstats)"
   ]
  },
  {
   "cell_type": "code",
   "execution_count": null,
   "id": "0512a768",
   "metadata": {},
   "outputs": [],
   "source": [
    "updated_protected = params_rasterstats.copy()\n",
    "updated_protected.update(\n",
    "    {\"vectors\": dissolved_simp_gdf[dissolved_simp_gdf.gid_0 == \"ESP\"].geometry}\n",
    ")\n",
    "test_esp_protected_rasterstats = zonal_stats(**updated_protected)"
   ]
  },
  {
   "cell_type": "code",
   "execution_count": null,
   "id": "2aa7ef97",
   "metadata": {},
   "outputs": [],
   "source": [
    "test_esp = (\n",
    "    pd.DataFrame(test_esp_total_rasterstats)\n",
    "    .reset_index()\n",
    "    .melt(\"index\", var_name=\"category\", value_name=\"count\")\n",
    "    .drop(columns=[\"index\"])\n",
    "    .rename(columns={\"count\": \"total\"})\n",
    "    .join(\n",
    "        pd.DataFrame(test_esp_protected_rasterstats)\n",
    "        .reset_index()\n",
    "        .melt(\"index\", var_name=\"category\", value_name=\"count\")\n",
    "        .groupby(\"category\")\n",
    "        .agg({\"count\": \"sum\"}),\n",
    "        on=\"category\",\n",
    "    )\n",
    "    .assign(iso_3=\"ESP\")\n",
    ")\n",
    "\n",
    "test_esp[\"frac\"] = (test_esp[\"count\"] / test_esp[\"total\"]) * 100\n",
    "test_esp"
   ]
  },
  {
   "cell_type": "code",
   "execution_count": null,
   "id": "f8274ee4",
   "metadata": {},
   "outputs": [],
   "source": [
    "##### Exact extract\n",
    "test_total_exact_extract = exact_extract(\n",
    "    local_biome_raster_path,\n",
    "    gadm_data_simp[gadm_data_simp[\"iso_3\"] == \"ESP\"],\n",
    "    [\"unique\", \"frac\", \"count\"],\n",
    "    include_cols=\"iso_3\",\n",
    "    output=\"pandas\",\n",
    ").explode([\"unique\", \"frac\"])\n",
    "\n",
    "test_total_exact_extract[\"unique\"] = test_total_exact_extract[\"unique\"].map(land_cover_classes)\n",
    "test_total_exact_extract[\"total\"] = (\n",
    "    test_total_exact_extract[\"count\"] * test_total_exact_extract[\"frac\"]\n",
    ")\n",
    "display(test_total_exact_extract)"
   ]
  },
  {
   "cell_type": "code",
   "execution_count": null,
   "id": "2d9a9117",
   "metadata": {},
   "outputs": [],
   "source": [
    "##### Exact extract\n",
    "test_protected_exact_extract = exact_extract(\n",
    "    local_biome_raster_path,\n",
    "    dissolved_simp_gdf[dissolved_simp_gdf.gid_0 == \"ESP\"],\n",
    "    [\"unique\", \"frac\", \"count\"],\n",
    "    include_cols=\"gid_0\",\n",
    "    output=\"pandas\",\n",
    ").explode([\"unique\", \"frac\"])\n",
    "#     .groupby(\"unique\")\n",
    "#     .agg({\"frac\": \"sum\", \"gid_0\": \"count\"})\n",
    "# ).reset_index()\n",
    "test_protected_exact_extract[\"protected\"] = (\n",
    "    test_protected_exact_extract[\"count\"] * test_protected_exact_extract[\"frac\"]\n",
    ")\n",
    "test_protected_exact_extract = (\n",
    "    test_protected_exact_extract.groupby(\"unique\").agg({\"protected\": \"sum\"}).reset_index()\n",
    ")\n",
    "test_protected_exact_extract[\"unique\"] = test_protected_exact_extract[\"unique\"].map(\n",
    "    land_cover_classes\n",
    ")"
   ]
  },
  {
   "cell_type": "code",
   "execution_count": null,
   "id": "70c95028",
   "metadata": {},
   "outputs": [],
   "source": [
    "test_total_exact_extract.join(test_protected_exact_extract.set_index(\"unique\"), on=\"unique\")"
   ]
  },
  {
   "cell_type": "code",
   "execution_count": null,
   "id": "9a21bd7b",
   "metadata": {},
   "outputs": [],
   "source": [
    "compare_table = (\n",
    "    test_old[test_old[\"iso_3\"] == \"ESP\"]\n",
    "    .join(test_esp.set_index(\"category\"), on=\"habitats\", rsuffix=\"_test\")\n",
    "    .join(\n",
    "        test_total_exact_extract.join(\n",
    "            test_protected_exact_extract.set_index(\"unique\"), on=\"unique\"\n",
    "        ).set_index(\"unique\"),\n",
    "        on=\"habitats\",\n",
    "        rsuffix=\"_exact\",\n",
    "    )[\n",
    "        [\n",
    "            \"iso_3\",\n",
    "            \"habitats\",\n",
    "            \"total\",\n",
    "            \"total_test\",\n",
    "            \"total_exact\",\n",
    "            \"protected\",\n",
    "            \"count\",\n",
    "            \"protected_exact\",\n",
    "        ]\n",
    "    ]\n",
    ")"
   ]
  },
  {
   "cell_type": "code",
   "execution_count": null,
   "id": "2852e0ac",
   "metadata": {},
   "outputs": [],
   "source": [
    "compare_table[\"frac_def\"] = (compare_table[\"protected\"] / compare_table[\"total\"]) * 100\n",
    "compare_table[\"frac_exact\"] = (\n",
    "    compare_table[\"protected_exact\"] / compare_table[\"total_exact\"]\n",
    ") * 100\n",
    "compare_table[\"frac_test\"] = (compare_table[\"count\"] / compare_table[\"total_test\"]) * 100\n",
    "\n",
    "compare_table"
   ]
  },
  {
   "cell_type": "markdown",
   "id": "0a285609",
   "metadata": {},
   "source": [
    "# Difference (on the fly - terrestrial analysis)"
   ]
  },
  {
   "cell_type": "code",
   "execution_count": null,
   "id": "0f5c7ebf",
   "metadata": {},
   "outputs": [],
   "source": [
    "# TODO - move this section to the onlthefly notebook as this is part of the terrestrial data processing for the only the fly analysis\n",
    "sks_data_path = data_folder.joinpath(\"skytruth\")"
   ]
  },
  {
   "cell_type": "code",
   "execution_count": null,
   "id": "4e7cb063",
   "metadata": {},
   "outputs": [],
   "source": [
    "dissolved_simp_gdf = gpd.read_file(sks_data_path.joinpath(\"mpas_sjoin_dissolved_simp.shp\"))\n",
    "gadm_data_simp = gpd.read_file(sks_data_path.joinpath(\"gadm_preprocess.shp\"))"
   ]
  },
  {
   "cell_type": "code",
   "execution_count": null,
   "id": "492259e1",
   "metadata": {},
   "outputs": [],
   "source": [
    "grid = ComputationGrid(\n",
    "    bounds=[-180, -90, 180, 90],\n",
    "    cell_size=20,\n",
    "    crs=CRS.from_epsg(4326),\n",
    ")"
   ]
  },
  {
   "cell_type": "code",
   "execution_count": null,
   "id": "0e7127c3",
   "metadata": {},
   "outputs": [],
   "source": [
    "grid.create_gdf_density_based_grid(dissolved_simp_gdf.explode(), 5000)\n",
    "grid.grid_gdf.reset_index().explore()"
   ]
  },
  {
   "cell_type": "code",
   "execution_count": null,
   "id": "f1a59d50",
   "metadata": {},
   "outputs": [],
   "source": [
    "test_area = grid.grid_gdf[grid.grid_gdf.index == 235]\n",
    "\n",
    "test_gadm = gadm_data_simp.iloc[gadm_data_simp.sindex.intersection(test_area.total_bounds)].clip(\n",
    "    test_area.total_bounds\n",
    ")\n",
    "\n",
    "test_wdpa = dissolved_simp_gdf.iloc[\n",
    "    dissolved_simp_gdf.sindex.intersection(test_area.total_bounds)\n",
    "].clip(test_area.total_bounds)\n",
    "test_filtered = test_wdpa.loc[\n",
    "    test_wdpa.geometry.geom_type.isin([\"MultiPolygon\", \"Polygon\"])\n",
    "].reset_index()\n",
    "\n",
    "result_test = gpd.overlay(\n",
    "    test_gadm,\n",
    "    test_filtered,\n",
    "    how=\"difference\",\n",
    ").reset_index(drop=True)\n",
    "\n",
    "result_test.explore()"
   ]
  },
  {
   "cell_type": "code",
   "execution_count": null,
   "id": "a0d45f0f",
   "metadata": {},
   "outputs": [],
   "source": [
    "# Spatial difference\n",
    "\n",
    "diffenrence_dataset = await spatial_difference(gadm_data_simp, dissolved_simp_gdf, grid)"
   ]
  },
  {
   "cell_type": "code",
   "execution_count": null,
   "id": "a710e06c",
   "metadata": {},
   "outputs": [],
   "source": [
    "diffenrence_dataset.to_file(sks_data_path.joinpath(\"gadm_diff.shp\"))"
   ]
  }
 ],
 "metadata": {
  "kernelspec": {
   "display_name": "Python 3 (ipykernel)",
   "language": "python",
   "name": "python3"
  },
  "language_info": {
   "codemirror_mode": {
    "name": "ipython",
    "version": 3
   },
   "file_extension": ".py",
   "mimetype": "text/x-python",
   "name": "python",
   "nbconvert_exporter": "python",
   "pygments_lexer": "ipython3",
   "version": "3.12.10"
  }
 },
 "nbformat": 4,
 "nbformat_minor": 5
}
