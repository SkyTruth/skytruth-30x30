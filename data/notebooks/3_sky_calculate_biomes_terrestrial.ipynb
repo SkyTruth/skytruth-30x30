{
 "cells": [
  {
   "cell_type": "code",
   "execution_count": null,
   "id": "cf045905-6d4b-4d28-85a6-ccd0791c7ec9",
   "metadata": {},
   "outputs": [
    {
     "name": "stdout",
     "output_type": "stream",
     "text": [
      "The autoreload extension is already loaded. To reload it, use:\n",
      "  %reload_ext autoreload\n"
     ]
    }
   ],
   "source": [
    "%load_ext autoreload\n",
    "%autoreload 2\n",
    "\n",
    "import sys\n",
    "import logging\n",
    "from pathlib import Path\n",
    "\n",
    "scripts_dir = Path(\"../.\").joinpath(\"src\")\n",
    "if scripts_dir not in sys.path:\n",
    "    sys.path.insert(0, scripts_dir.resolve().as_posix())\n",
    "\n",
    "formatter = logging.Formatter(\n",
    "    \"%(asctime)s - %(name)s - \\x1b[38;20m %(levelname)s \\x1b[0m - %(message)s\"\n",
    ")\n",
    "ch = logging.StreamHandler()\n",
    "ch.setLevel(logging.DEBUG)\n",
    "ch.setFormatter(formatter)\n",
    "logger = logging.getLogger(__name__)\n",
    "logger.addHandler(ch)\n",
    "logger.setLevel(logging.DEBUG)\n",
    "%matplotlib inline"
   ]
  },
  {
   "cell_type": "code",
   "execution_count": null,
   "id": "c4d363b0",
   "metadata": {},
   "outputs": [],
   "source": [
    "from typing import Tuple, Iterable, Union, List, Dict, Callable\n",
    "\n",
    "# import requests # We can download locally the data, is faster\n",
    "\n",
    "import geopandas as gpd\n",
    "import pandas as pd\n",
    "\n",
    "from pyproj import CRS\n",
    "\n",
    "import numpy as np\n",
    "import rasterio as rio\n",
    "from dask.distributed import LocalCluster, Client\n",
    "\n",
    "from v2.utils import download_file, unzip_file, rm_tree\n",
    "from v2.processing_grid import ComputationGrid\n",
    "from v2.raster_processing import calculate_zonal_stats\n",
    "from v2.vector_utils import add_bbox\n",
    "from v2.vector_processing import spatial_dissolve, simplify_async, spatial_difference\n",
    "from v2.raster_processing_v2 import process_raster, window_generator, process_job_chunk\n",
    "from v2.datasets import RasterDataset\n",
    "\n",
    "\n",
    "import tqdm\n",
    "import concurrent.futures\n",
    "import threading\n",
    "import multiprocessing"
   ]
  },
  {
   "cell_type": "code",
   "execution_count": null,
   "id": "cc6ae8b5",
   "metadata": {},
   "outputs": [],
   "source": [
    "# Paths and sources\n",
    "data_folder = Path(\"../data\")\n",
    "sks_data_path = data_folder.joinpath(\"skytruth\")\n",
    "sks_data_path.mkdir(parents=True, exist_ok=True)"
   ]
  },
  {
   "cell_type": "markdown",
   "id": "9beeb5f5",
   "metadata": {},
   "source": [
    "## Functions"
   ]
  },
  {
   "cell_type": "code",
   "execution_count": 30,
   "id": "b469a122",
   "metadata": {},
   "outputs": [],
   "source": [
    "def lower_case_columns(gdf: gpd.GeoDataFrame) -> gpd.GeoDataFrame:\n",
    "    gdf.columns = gdf.columns.str.lower()\n",
    "    return gdf\n",
    "\n",
    "\n",
    "def filter_by_extent(\n",
    "    gdf: gpd.GeoDataFrame, extent: Tuple[float, float, float, float]\n",
    ") -> gpd.GeoDataFrame:\n",
    "    minx, miny, maxx, maxy = extent\n",
    "    return gdf.cx[minx:maxx, miny:maxy].reset_index(drop=True)\n",
    "\n",
    "\n",
    "def calculate_global(gdf, col_name=\"iso_3\"):\n",
    "    global__efgs = (\n",
    "        gdf.groupby(\"category\").agg({\"count\": \"sum\"}).reset_index().assign(**{col_name: \"GLOB\"})\n",
    "    )\n",
    "    return pd.concat([global__efgs, gdf], axis=0)"
   ]
  },
  {
   "cell_type": "markdown",
   "id": "7709bb94",
   "metadata": {},
   "source": [
    "## Processing"
   ]
  },
  {
   "cell_type": "markdown",
   "id": "d6e851b3",
   "metadata": {},
   "source": [
    "### GADM"
   ]
  },
  {
   "cell_type": "code",
   "execution_count": null,
   "id": "4bac4da1",
   "metadata": {},
   "outputs": [],
   "source": [
    "# To download the url needs to be signed in the browser\n",
    "\n",
    "local_gadm_path = sks_data_path.joinpath(\"gadm_preprocess.zip\")\n",
    "download_file(\n",
    "    \"https://storage.cloud.google.com/vector-data-raw/vizzuality_processed_data/gadm/preprocess/gadm_preprocess.zip\",\n",
    "    local_gadm_path,\n",
    ")\n",
    "unzip_file(local_gadm_path)"
   ]
  },
  {
   "cell_type": "code",
   "execution_count": 31,
   "id": "035a561e",
   "metadata": {},
   "outputs": [],
   "source": [
    "gadm_data_simp = gpd.read_file(\n",
    "    sks_data_path.joinpath(\"gadm_preprocess/preprocess/gadm_preprocess.shp\")\n",
    ")"
   ]
  },
  {
   "cell_type": "markdown",
   "id": "9bd376dd",
   "metadata": {},
   "source": [
    "### wdpa"
   ]
  },
  {
   "cell_type": "code",
   "execution_count": null,
   "id": "cd62888b",
   "metadata": {},
   "outputs": [],
   "source": [
    "## dissolve wdpa data to get the 2024 dissolved boundaries\n",
    "dissolved_gdf = (\n",
    "    gpd.read_file(sks_data_path.joinpath(\"mpas_sjoin.shp\"))\n",
    "    .pipe(lower_case_columns)\n",
    "    .pipe(filter_by_extent, (-181, -91, 181, 91))\n",
    ")\n",
    "dissolved_gdf"
   ]
  },
  {
   "cell_type": "code",
   "execution_count": null,
   "id": "5e99562d",
   "metadata": {},
   "outputs": [],
   "source": [
    "removed_non_poly = (\n",
    "    dissolved_gdf[dissolved_gdf.geometry.geom_type.isin([\"Polygon\", \"MultiPolygon\"])]\n",
    "    .reset_index(drop=True)\n",
    "    .copy()\n",
    ")\n",
    "\n",
    "del dissolved_gdf"
   ]
  },
  {
   "cell_type": "markdown",
   "id": "d22a670d",
   "metadata": {},
   "source": [
    "### Reclassify the raster"
   ]
  },
  {
   "cell_type": "code",
   "execution_count": 32,
   "id": "ccab8149",
   "metadata": {},
   "outputs": [],
   "source": [
    "land_cover_classes = {\n",
    "    1: \"Forest\",\n",
    "    2: \"Savanna\",\n",
    "    3: \"Shrubland\",\n",
    "    4: \"Grassland\",\n",
    "    5: \"Wetlands/open water\",\n",
    "    6: \"Rocky/mountains\",\n",
    "    7: \"Desert\",\n",
    "    8: \"Artificial\",\n",
    "    255: \"Other\",\n",
    "}"
   ]
  },
  {
   "cell_type": "code",
   "execution_count": null,
   "id": "b8c0dabf",
   "metadata": {},
   "outputs": [],
   "source": [
    "def reclass_function(ndata: np.ndarray) -> np.ndarray:\n",
    "    # Apply the value changes\n",
    "    ndata = np.where(ndata < 200, 1, ndata)  # forest\n",
    "    ndata = np.where((ndata >= 200) & (ndata < 300), 2, ndata)  # savanna\n",
    "    ndata = np.where((ndata >= 300) & (ndata < 400), 3, ndata)  # scrub/shrub\n",
    "    ndata = np.where((ndata >= 400) & (ndata < 500), 4, ndata)  # grassland\n",
    "\n",
    "    ndata = np.where(ndata == 501, 5, ndata)  # open water - Wetlands/open water\n",
    "    ndata = np.where(ndata == 505, 5, ndata)  # open water - Wetlands/open water\n",
    "    ndata = np.where((ndata >= 500) & (ndata < 600), 5, ndata)  # wetlands - Wetlands/open water\n",
    "    ndata = np.where(ndata == 984, 5, ndata)  # wetlands - Wetlands/open water\n",
    "    ndata = np.where(ndata == 910, 5, ndata)  # wetlands - Wetlands/open water\n",
    "    ndata = np.where((ndata >= 600) & (ndata < 800), 6, ndata)  # rocky/mountains\n",
    "    ndata = np.where((ndata >= 800) & (ndata < 900), 7, ndata)  # desert\n",
    "    ndata = np.where((ndata >= 1400) & (ndata < 1500), 8, ndata)  # ag/urban - Artificial\n",
    "\n",
    "    # Ensure the ndata is within the 8-bit range\n",
    "\n",
    "    return np.clip(ndata, 0, 255).astype(np.uint8)"
   ]
  },
  {
   "cell_type": "code",
   "execution_count": null,
   "id": "66ca9cf3",
   "metadata": {},
   "outputs": [],
   "source": [
    "def process_raster_v2(\n",
    "    raster_path: Path,\n",
    "    output_path: Path,\n",
    "    func: Callable,\n",
    "    out_data_profile,\n",
    "    f_args: Tuple = (),\n",
    "    f_kwargs: Dict = {},\n",
    ") -> None:\n",
    "    num_workers = 200\n",
    "    window_size_x = 2048\n",
    "    window_size_y = 2048\n",
    "    with rio.open(raster_path.as_posix()) as src:\n",
    "        # Create a destination dataset based on source params. The\n",
    "        # destination will be tiled, and we'll process the tiles\n",
    "        # concurrently.\n",
    "        profile = src.profile.copy()\n",
    "        profile.update(**out_data_profile)\n",
    "\n",
    "        with rio.open(output_path.as_posix(), \"w\", **profile) as dst:\n",
    "            windows = [window for ij, window in dst.block_windows()]\n",
    "            # print(dst.block_shapes)\n",
    "            # windows = list(\n",
    "            #     window_generator(\n",
    "            #         src.profile.get(\"width\"),\n",
    "            #         dst.profile.get(\"height\"),\n",
    "            #         window_size_x,\n",
    "            #         window_size_y,\n",
    "            #     )\n",
    "            # )\n",
    "\n",
    "            # We cannot write to the same file from multiple threads\n",
    "            # without causing race conditions. To safely read/write\n",
    "            # from multiple threads, we use a lock to protect the\n",
    "            # DatasetReader/Writer\n",
    "            read_lock = threading.Lock()\n",
    "            write_lock = threading.Lock()\n",
    "\n",
    "            def process(window):\n",
    "                status_message = {\n",
    "                    \"diagnostics\": {},\n",
    "                    \"messages\": [f\"Processing chunk: {window}\"],\n",
    "                    \"return_val\": None,\n",
    "                }\n",
    "                # read the chunk\n",
    "                try:\n",
    "                    status_message[\"messages\"].append(\"reading data\")\n",
    "\n",
    "                    with read_lock:\n",
    "                        data = src.read(window=window)\n",
    "\n",
    "                    status_message[\"messages\"].append(\"processing data\")\n",
    "                    result = func(data, *f_args, **f_kwargs)\n",
    "\n",
    "                    status_message[\"messages\"].append(\"writing data\")\n",
    "                    with write_lock:\n",
    "                        dst.write(result, window=window)\n",
    "\n",
    "                    status_message[\"messages\"].append(\"success in processing chunk\")\n",
    "\n",
    "                except Exception as e:\n",
    "                    status_message[\"diagnostics\"][\"error\"] = e\n",
    "                finally:\n",
    "                    return status_message\n",
    "\n",
    "            # We map the process() function over the list of\n",
    "            # windows.\n",
    "\n",
    "            futures = []\n",
    "\n",
    "            with (\n",
    "                concurrent.futures.ThreadPoolExecutor(max_workers=num_workers) as executor,\n",
    "                tqdm.tqdm(total=len(windows), desc=\"Computing raster stats\", unit=\"chunk\") as p_bar,\n",
    "            ):\n",
    "                for idx, window in enumerate(windows):\n",
    "                    futures.append(executor.submit(process, window))\n",
    "\n",
    "                # if idx == break_after:\n",
    "                #     break\n",
    "\n",
    "                results = []\n",
    "                for f in futures:\n",
    "                    results.append(f.result())\n",
    "                    p_bar.update(1)\n",
    "\n",
    "            dst.build_overviews([2, 4, 8, 16, 32, 64], rio.enums.Resampling.mode)\n",
    "            dst.update_tags(ns=\"rio_overview\", resampling=\"average\")\n",
    "\n",
    "    # return results"
   ]
  },
  {
   "cell_type": "code",
   "execution_count": null,
   "id": "367a0f1b",
   "metadata": {},
   "outputs": [],
   "source": [
    "def test_process_raster(\n",
    "    input_path: Path,\n",
    "    output_path: Path,\n",
    "    fcn: Callable,\n",
    "    out_data_profile: Dict | None = {},\n",
    "    f_kwargs: Dict = {},\n",
    "):\n",
    "    with rio.Env(VSI_CACHE=True, GDAL_CACHEMAX=1024):\n",
    "        i_raster = RasterDataset(input_path)\n",
    "        new_profile = i_raster.profile.copy()\n",
    "        new_profile.update(**out_data_profile) if out_data_profile else None\n",
    "        o_raster = RasterDataset(output_path, profile=new_profile)\n",
    "\n",
    "        window_size_y = 1024\n",
    "        window_size_x = 1024\n",
    "        print(i_raster.profile.get(\"width\"), i_raster.profile.get(\"height\"))\n",
    "        print(\n",
    "            (\n",
    "                i_raster.profile.get(\"width\")\n",
    "                // window_size_x\n",
    "                * i_raster.profile.get(\"height\")\n",
    "                // window_size_y\n",
    "            )\n",
    "            / 20\n",
    "        )\n",
    "\n",
    "        # window_chunks = list(\n",
    "        #     window_generator(\n",
    "        #         i_raster.profile.get(\"width\"), i_raster.profile.get(\"height\"), window_size_x, window_size_y\n",
    "        #     )\n",
    "        # )\n",
    "        with o_raster._open_reader() as dst:\n",
    "            window_chunks = [window for ij, window in dst.block_windows()]\n",
    "        break_after = 100\n",
    "        futures = []\n",
    "\n",
    "        with multiprocessing.Manager() as manager:\n",
    "            # create the shared lock\n",
    "            lock = manager.Lock()\n",
    "            with (\n",
    "                concurrent.futures.ProcessPoolExecutor(max_workers=20) as executor,\n",
    "                tqdm.tqdm(\n",
    "                    total=len(window_chunks), desc=\"Computing raster stats\", unit=\"chunk\"\n",
    "                ) as p_bar,\n",
    "            ):\n",
    "                for idx, window in enumerate(window_chunks):\n",
    "                    futures.append(\n",
    "                        executor.submit(\n",
    "                            process_job_chunk, i_raster, o_raster, window, fcn, lock, **f_kwargs\n",
    "                        )\n",
    "                    )\n",
    "\n",
    "                    # if idx == break_after:\n",
    "                    #     break\n",
    "\n",
    "                results = []\n",
    "                for f in futures:\n",
    "                    results.append(f.result())\n",
    "                    p_bar.update(1)\n",
    "\n",
    "    return results"
   ]
  },
  {
   "cell_type": "code",
   "execution_count": null,
   "id": "372baccb",
   "metadata": {},
   "outputs": [],
   "source": [
    "local_biome_raster_path = sks_data_path.joinpath(\n",
    "    \"iucn_habitatclassification_composite_lvl1_ver004.tif\"\n",
    ")\n",
    "output_path = local_biome_raster_path.parent.joinpath(local_biome_raster_path.stem + \"_reclass.tif\")\n",
    "\n",
    "output_path.unlink(missing_ok=True)\n",
    "\n",
    "out_data_profile = {\n",
    "    \"dtype\": rio.uint8,\n",
    "    \"count\": 1,\n",
    "    \"compress\": \"lzw\",\n",
    "    \"tiled\": True,\n",
    "    \"blockxsize\": 512,\n",
    "    \"blockysize\": 512,\n",
    "}"
   ]
  },
  {
   "cell_type": "code",
   "execution_count": null,
   "id": "dd58127c",
   "metadata": {},
   "outputs": [],
   "source": [
    "# test_process_raster(local_biome_raster_path, output_path, reclass_function, out_data_profile)"
   ]
  },
  {
   "cell_type": "code",
   "execution_count": null,
   "id": "e739cc76",
   "metadata": {},
   "outputs": [],
   "source": [
    "# process_raster_v2(local_biome_raster_path, output_path, reclass_function, out_data_profile)"
   ]
  },
  {
   "cell_type": "code",
   "execution_count": null,
   "id": "3a9b6c81",
   "metadata": {},
   "outputs": [],
   "source": [
    "# check this with multi threading\n",
    "\n",
    "# with LocalCluster(name=\"test\", n_workers=20, processes=True, threads_per_worker=1) as cluster, Client(cluster) as client:\n",
    "#     print(f\"Processing in parallel: {client.dashboard_link}\")\n",
    "\n",
    "#     data = process_raster(\n",
    "#         local_biome_raster_path,\n",
    "#         output_path,\n",
    "#         out_data_profile,\n",
    "#         reclass_function,\n",
    "#         dask_client=client,\n",
    "#         window_size=512,\n",
    "#     )\n",
    "#     list(data)"
   ]
  },
  {
   "cell_type": "code",
   "execution_count": null,
   "id": "5876b0a8",
   "metadata": {},
   "outputs": [],
   "source": [
    "# To download the url needs to be signed in the browser\n",
    "local_biome_raster_path = sks_data_path.joinpath(\n",
    "    \"iucn_habitatclassification_composite_lvl1_ver004.tif\"\n",
    ")\n",
    "download_file(\n",
    "    \"https://storage.cloud.google.com/vector-data-raw/terrestrial/jung_etal_2020/iucn_habitatclassification_composite_lvl1_ver004.tif\",\n",
    "    local_biome_raster_path,\n",
    ")\n",
    "# reclass the original raster\n",
    "reclassified_biome_raster_path = reclass_function(local_biome_raster_path)"
   ]
  },
  {
   "cell_type": "code",
   "execution_count": null,
   "id": "d97b6ecd",
   "metadata": {},
   "outputs": [],
   "source": [
    "# reclassified_biome_raster_path = sks_data_path.joinpath(\n",
    "#     \"iucn_habitatclassification_composite_lvl1_ver004_reclass.tif\"\n",
    "# )"
   ]
  },
  {
   "cell_type": "markdown",
   "id": "35db2a81",
   "metadata": {},
   "source": [
    "### Computation grids "
   ]
  },
  {
   "cell_type": "code",
   "execution_count": null,
   "id": "d4857192",
   "metadata": {},
   "outputs": [],
   "source": [
    "# wdpa_grid = ComputationGrid(\n",
    "#     bounds=[-180, -90, 180, 90], max_cell_size=10, crs=CRS.from_epsg(4326), grid_type=\"sparse\"\n",
    "# )\n",
    "# region_grid = ComputationGrid(\n",
    "#     bounds=[-180, -90, 180, 90],\n",
    "#     max_cell_size=10,\n",
    "#     crs=CRS.from_epsg(4326),\n",
    "#     grid_type=\"dense\"\n",
    "# )"
   ]
  },
  {
   "cell_type": "code",
   "execution_count": null,
   "id": "802a359d",
   "metadata": {},
   "outputs": [],
   "source": [
    "# wdpa_grid.create_gdf_density_based_grid(wdpa_data, 5000)"
   ]
  },
  {
   "cell_type": "code",
   "execution_count": null,
   "id": "812fe50d",
   "metadata": {},
   "outputs": [],
   "source": [
    "# dissolved_gdf = await spatial_dissolve(wdpa_data, wdpa_grid, \"iso_3\", \"first\")"
   ]
  },
  {
   "cell_type": "code",
   "execution_count": null,
   "id": "5eadec72",
   "metadata": {},
   "outputs": [],
   "source": [
    "# dissolved_simp_gdf = await simplify_async(dissolved_gdf, True)"
   ]
  },
  {
   "cell_type": "code",
   "execution_count": null,
   "id": "cb359a5e",
   "metadata": {},
   "outputs": [],
   "source": [
    "# dissolved_simp_gdf.to_file(sks_data_path.joinpath(\"mpas_sjoin_dissolved_simp.shp\"))"
   ]
  },
  {
   "cell_type": "markdown",
   "id": "f7f35a12",
   "metadata": {},
   "source": [
    "## raster zonal statistics"
   ]
  },
  {
   "cell_type": "markdown",
   "id": "319a9094",
   "metadata": {},
   "source": [
    "#### Process"
   ]
  },
  {
   "cell_type": "code",
   "execution_count": 34,
   "id": "7def2eae",
   "metadata": {},
   "outputs": [],
   "source": [
    "dissolved_simp_gdf = gpd.read_file(sks_data_path.joinpath(\"mpas_sjoin_dissolved_simp.shp\"))"
   ]
  },
  {
   "cell_type": "code",
   "execution_count": null,
   "id": "7184d980",
   "metadata": {},
   "outputs": [
    {
     "data": {
      "text/plain": [
       "array(['MultiPolygon', 'Polygon', None], dtype=object)"
      ]
     },
     "execution_count": 35,
     "metadata": {},
     "output_type": "execute_result"
    }
   ],
   "source": [
    "dissolved_simp_gdf.geometry.geom_type.unique()"
   ]
  },
  {
   "cell_type": "code",
   "execution_count": null,
   "id": "f5109e65",
   "metadata": {},
   "outputs": [],
   "source": [
    "filtered = dissolved_simp_gdf[dissolved_simp_gdf.geom_type.isin([\"Polygon\", \"MultiPolygon\"])][\n",
    "    [\"geometry\", \"iso_3\"]\n",
    "].reset_index(drop=True)"
   ]
  },
  {
   "cell_type": "code",
   "execution_count": null,
   "id": "f99e37ee",
   "metadata": {},
   "outputs": [],
   "source": [
    "def convert_pix_to_area(df: gpd.GeoDataFrame, cell_size: float, col: str) -> gpd.GeoDataFrame:\n",
    "    return df.assign({col: lambda x: x.col * cell_size * cell_size})"
   ]
  },
  {
   "cell_type": "code",
   "execution_count": 38,
   "id": "705da24e",
   "metadata": {},
   "outputs": [],
   "source": [
    "async def calc_protection(efg_raster_path: str, geometries: list, c_map: dict):\n",
    "    calc = await calculate_zonal_stats(\n",
    "        efg_raster_path, geometries, _with=\"exact\", stats=[\"unique\", \"frac\", \"count\"], c_map=c_map\n",
    "    )\n",
    "    final = (\n",
    "        pd.concat(calc, axis=0)\n",
    "        .groupby([\"iso_3\", \"category\"])\n",
    "        .agg({\"count\": \"sum\"})\n",
    "        .reset_index()\n",
    "        .pipe(calculate_global)\n",
    "        .rename(columns={\"category\": \"habitats\", \"count\": \"protected\"})\n",
    "    )\n",
    "\n",
    "    return final"
   ]
  },
  {
   "cell_type": "code",
   "execution_count": 39,
   "id": "97864662",
   "metadata": {},
   "outputs": [],
   "source": [
    "async def calc_country_extent(efg_raster_path: str, geometries: list, c_map: dict):\n",
    "    calc = await calculate_zonal_stats(\n",
    "        efg_raster_path, geometries, _with=\"exact\", stats=[\"unique\", \"frac\", \"count\"], c_map=c_map\n",
    "    )\n",
    "\n",
    "    final = (\n",
    "        pd.concat(calc, axis=0)\n",
    "        .groupby([\"iso_3\", \"category\"])\n",
    "        .agg({\"count\": \"sum\"})\n",
    "        .reset_index()\n",
    "        .pipe(calculate_global)\n",
    "        .rename(columns={\"category\": \"habitats\", \"count\": \"total\"})\n",
    "    )\n",
    "\n",
    "    return final"
   ]
  },
  {
   "cell_type": "code",
   "execution_count": 40,
   "id": "d3a5d6af",
   "metadata": {},
   "outputs": [],
   "source": [
    "wdpa_grid = ComputationGrid(\n",
    "    bounds=[-180, -90, 180, 90], max_cell_size=3, crs=CRS.from_epsg(4326), grid_type=\"sparse\"\n",
    ")\n",
    "wdpa_grid.create_gdf_density_based_grid(filtered.explode(), 5000)\n",
    "list_subset = wdpa_grid.split_gdf_by_grid(filtered, True, 0)\n",
    "# wdpa_grid.grid_gdf.explore()"
   ]
  },
  {
   "cell_type": "code",
   "execution_count": 41,
   "id": "b2c88909",
   "metadata": {},
   "outputs": [
    {
     "name": "stderr",
     "output_type": "stream",
     "text": [
      "Computing raster stats:   0%|          | 0/2332 [00:00<?, ?chunk/s]/opt/conda/lib/python3.12/site-packages/osgeo/gdal.py:311: FutureWarning: Neither gdal.UseExceptions() nor gdal.DontUseExceptions() has been explicitly called. In GDAL 4.0, exceptions will be enabled by default.\n",
      "  warnings.warn(\n",
      "/opt/conda/lib/python3.12/site-packages/osgeo/gdal.py:311: FutureWarning: Neither gdal.UseExceptions() nor gdal.DontUseExceptions() has been explicitly called. In GDAL 4.0, exceptions will be enabled by default.\n",
      "  warnings.warn(\n",
      "/opt/conda/lib/python3.12/site-packages/osgeo/gdal.py:311: FutureWarning: Neither gdal.UseExceptions() nor gdal.DontUseExceptions() has been explicitly called. In GDAL 4.0, exceptions will be enabled by default.\n",
      "  warnings.warn(\n",
      "/opt/conda/lib/python3.12/site-packages/osgeo/gdal.py:311: FutureWarning: Neither gdal.UseExceptions() nor gdal.DontUseExceptions() has been explicitly called. In GDAL 4.0, exceptions will be enabled by default.\n",
      "  warnings.warn(\n",
      "/opt/conda/lib/python3.12/site-packages/osgeo/gdal.py:311: FutureWarning: Neither gdal.UseExceptions() nor gdal.DontUseExceptions() has been explicitly called. In GDAL 4.0, exceptions will be enabled by default.\n",
      "  warnings.warn(\n",
      "/opt/conda/lib/python3.12/site-packages/osgeo/gdal.py:311: FutureWarning: Neither gdal.UseExceptions() nor gdal.DontUseExceptions() has been explicitly called. In GDAL 4.0, exceptions will be enabled by default.\n",
      "  warnings.warn(\n",
      "/opt/conda/lib/python3.12/site-packages/osgeo/gdal.py:311: FutureWarning: Neither gdal.UseExceptions() nor gdal.DontUseExceptions() has been explicitly called. In GDAL 4.0, exceptions will be enabled by default.\n",
      "  warnings.warn(\n",
      "/opt/conda/lib/python3.12/site-packages/osgeo/gdal.py:311: FutureWarning: Neither gdal.UseExceptions() nor gdal.DontUseExceptions() has been explicitly called. In GDAL 4.0, exceptions will be enabled by default.\n",
      "  warnings.warn(\n",
      "/opt/conda/lib/python3.12/site-packages/osgeo/gdal.py:311: FutureWarning: Neither gdal.UseExceptions() nor gdal.DontUseExceptions() has been explicitly called. In GDAL 4.0, exceptions will be enabled by default.\n",
      "  warnings.warn(\n",
      "/opt/conda/lib/python3.12/site-packages/osgeo/gdal.py:311: FutureWarning: Neither gdal.UseExceptions() nor gdal.DontUseExceptions() has been explicitly called. In GDAL 4.0, exceptions will be enabled by default.\n",
      "  warnings.warn(\n",
      "/opt/conda/lib/python3.12/site-packages/osgeo/gdal.py:311: FutureWarning: Neither gdal.UseExceptions() nor gdal.DontUseExceptions() has been explicitly called. In GDAL 4.0, exceptions will be enabled by default.\n",
      "  warnings.warn(\n",
      "/opt/conda/lib/python3.12/site-packages/osgeo/gdal.py:311: FutureWarning: Neither gdal.UseExceptions() nor gdal.DontUseExceptions() has been explicitly called. In GDAL 4.0, exceptions will be enabled by default.\n",
      "  warnings.warn(\n",
      "/opt/conda/lib/python3.12/site-packages/osgeo/gdal.py:311: FutureWarning: Neither gdal.UseExceptions() nor gdal.DontUseExceptions() has been explicitly called. In GDAL 4.0, exceptions will be enabled by default.\n",
      "  warnings.warn(\n",
      "/opt/conda/lib/python3.12/site-packages/osgeo/gdal.py:311: FutureWarning: Neither gdal.UseExceptions() nor gdal.DontUseExceptions() has been explicitly called. In GDAL 4.0, exceptions will be enabled by default.\n",
      "  warnings.warn(\n",
      "/opt/conda/lib/python3.12/site-packages/osgeo/gdal.py:311: FutureWarning: Neither gdal.UseExceptions() nor gdal.DontUseExceptions() has been explicitly called. In GDAL 4.0, exceptions will be enabled by default.\n",
      "  warnings.warn(\n",
      "/opt/conda/lib/python3.12/site-packages/osgeo/gdal.py:311: FutureWarning: Neither gdal.UseExceptions() nor gdal.DontUseExceptions() has been explicitly called. In GDAL 4.0, exceptions will be enabled by default.\n",
      "  warnings.warn(\n",
      "/opt/conda/lib/python3.12/site-packages/osgeo/gdal.py:311: FutureWarning: Neither gdal.UseExceptions() nor gdal.DontUseExceptions() has been explicitly called. In GDAL 4.0, exceptions will be enabled by default.\n",
      "  warnings.warn(\n",
      "/opt/conda/lib/python3.12/site-packages/osgeo/gdal.py:311: FutureWarning: Neither gdal.UseExceptions() nor gdal.DontUseExceptions() has been explicitly called. In GDAL 4.0, exceptions will be enabled by default.\n",
      "  warnings.warn(\n",
      "/opt/conda/lib/python3.12/site-packages/osgeo/gdal.py:311: FutureWarning: Neither gdal.UseExceptions() nor gdal.DontUseExceptions() has been explicitly called. In GDAL 4.0, exceptions will be enabled by default.\n",
      "  warnings.warn(\n",
      "/opt/conda/lib/python3.12/site-packages/osgeo/gdal.py:311: FutureWarning: Neither gdal.UseExceptions() nor gdal.DontUseExceptions() has been explicitly called. In GDAL 4.0, exceptions will be enabled by default.\n",
      "  warnings.warn(\n",
      "/opt/conda/lib/python3.12/site-packages/osgeo/gdal.py:311: FutureWarning: Neither gdal.UseExceptions() nor gdal.DontUseExceptions() has been explicitly called. In GDAL 4.0, exceptions will be enabled by default.\n",
      "  warnings.warn(\n",
      "/opt/conda/lib/python3.12/site-packages/osgeo/gdal.py:311: FutureWarning: Neither gdal.UseExceptions() nor gdal.DontUseExceptions() has been explicitly called. In GDAL 4.0, exceptions will be enabled by default.\n",
      "  warnings.warn(\n",
      "/opt/conda/lib/python3.12/site-packages/osgeo/gdal.py:311: FutureWarning: Neither gdal.UseExceptions() nor gdal.DontUseExceptions() has been explicitly called. In GDAL 4.0, exceptions will be enabled by default.\n",
      "  warnings.warn(\n",
      "/opt/conda/lib/python3.12/site-packages/osgeo/gdal.py:311: FutureWarning: Neither gdal.UseExceptions() nor gdal.DontUseExceptions() has been explicitly called. In GDAL 4.0, exceptions will be enabled by default.\n",
      "  warnings.warn(\n",
      "Computing raster stats:   1%|          | 26/2332 [00:03<03:46, 10.17chunk/s] "
     ]
    },
    {
     "name": "stdout",
     "output_type": "stream",
     "text": [
      "Unsupported geometry type.\n"
     ]
    },
    {
     "name": "stderr",
     "output_type": "stream",
     "text": [
      "Computing raster stats:   3%|▎         | 71/2332 [00:04<01:23, 27.05chunk/s]"
     ]
    },
    {
     "name": "stdout",
     "output_type": "stream",
     "text": [
      "Mixed-type geometries not supported.\n"
     ]
    },
    {
     "name": "stderr",
     "output_type": "stream",
     "text": [
      "Computing raster stats:   4%|▍         | 97/2332 [00:05<01:06, 33.58chunk/s]"
     ]
    },
    {
     "name": "stdout",
     "output_type": "stream",
     "text": [
      "Mixed-type geometries not supported.\n",
      "Mixed-type geometries not supported.\n"
     ]
    },
    {
     "name": "stderr",
     "output_type": "stream",
     "text": [
      "Computing raster stats:   6%|▌         | 140/2332 [00:06<00:49, 44.01chunk/s]"
     ]
    },
    {
     "name": "stdout",
     "output_type": "stream",
     "text": [
      "Mixed-type geometries not supported.\n"
     ]
    },
    {
     "name": "stderr",
     "output_type": "stream",
     "text": [
      "Computing raster stats:   6%|▋         | 151/2332 [00:06<00:47, 46.06chunk/s]"
     ]
    },
    {
     "name": "stdout",
     "output_type": "stream",
     "text": [
      "Mixed-type geometries not supported.\n"
     ]
    },
    {
     "name": "stderr",
     "output_type": "stream",
     "text": [
      "Computing raster stats:   7%|▋         | 160/2332 [00:06<00:42, 50.78chunk/s]"
     ]
    },
    {
     "name": "stdout",
     "output_type": "stream",
     "text": [
      "Mixed-type geometries not supported.Mixed-type geometries not supported.\n",
      "\n"
     ]
    },
    {
     "name": "stderr",
     "output_type": "stream",
     "text": [
      "Computing raster stats:   7%|▋         | 170/2332 [00:06<00:35, 60.64chunk/s]"
     ]
    },
    {
     "name": "stdout",
     "output_type": "stream",
     "text": [
      "Mixed-type geometries not supported.\n"
     ]
    },
    {
     "name": "stderr",
     "output_type": "stream",
     "text": [
      "Computing raster stats:   8%|▊         | 183/2332 [00:07<00:44, 48.74chunk/s]"
     ]
    },
    {
     "name": "stdout",
     "output_type": "stream",
     "text": [
      "Mixed-type geometries not supported.\n"
     ]
    },
    {
     "name": "stderr",
     "output_type": "stream",
     "text": [
      "Computing raster stats:  11%|█▏        | 267/2332 [00:08<00:33, 61.43chunk/s]"
     ]
    },
    {
     "name": "stdout",
     "output_type": "stream",
     "text": [
      "Mixed-type geometries not supported."
     ]
    },
    {
     "name": "stderr",
     "output_type": "stream",
     "text": [
      "Computing raster stats:  12%|█▏        | 276/2332 [00:08<00:30, 66.40chunk/s]"
     ]
    },
    {
     "name": "stdout",
     "output_type": "stream",
     "text": [
      "\n"
     ]
    },
    {
     "name": "stderr",
     "output_type": "stream",
     "text": [
      "Computing raster stats:  14%|█▍        | 326/2332 [00:09<00:30, 65.40chunk/s]"
     ]
    },
    {
     "name": "stdout",
     "output_type": "stream",
     "text": [
      "Mixed-type geometries not supported.\n"
     ]
    },
    {
     "name": "stderr",
     "output_type": "stream",
     "text": [
      "Computing raster stats:  14%|█▍        | 333/2332 [00:09<00:30, 65.96chunk/s]"
     ]
    },
    {
     "name": "stdout",
     "output_type": "stream",
     "text": [
      "Mixed-type geometries not supported.\n"
     ]
    },
    {
     "name": "stderr",
     "output_type": "stream",
     "text": [
      "Computing raster stats:  15%|█▌        | 353/2332 [00:10<00:42, 46.39chunk/s]"
     ]
    },
    {
     "name": "stdout",
     "output_type": "stream",
     "text": [
      "Mixed-type geometries not supported.\n"
     ]
    },
    {
     "name": "stderr",
     "output_type": "stream",
     "text": [
      "Computing raster stats:  16%|█▌        | 376/2332 [00:10<00:35, 54.72chunk/s]"
     ]
    },
    {
     "name": "stdout",
     "output_type": "stream",
     "text": [
      "Mixed-type geometries not supported.\n"
     ]
    },
    {
     "name": "stderr",
     "output_type": "stream",
     "text": [
      "Computing raster stats:  17%|█▋        | 388/2332 [00:10<00:41, 47.19chunk/s]"
     ]
    },
    {
     "name": "stdout",
     "output_type": "stream",
     "text": [
      "Mixed-type geometries not supported.\n"
     ]
    },
    {
     "name": "stderr",
     "output_type": "stream",
     "text": [
      "Computing raster stats:  17%|█▋        | 403/2332 [00:11<00:51, 37.81chunk/s]"
     ]
    },
    {
     "name": "stdout",
     "output_type": "stream",
     "text": [
      "Mixed-type geometries not supported.\n"
     ]
    },
    {
     "name": "stderr",
     "output_type": "stream",
     "text": [
      "Computing raster stats:  19%|█▉        | 453/2332 [00:12<00:48, 38.64chunk/s]"
     ]
    },
    {
     "name": "stdout",
     "output_type": "stream",
     "text": [
      "Mixed-type geometries not supported.\n"
     ]
    },
    {
     "name": "stderr",
     "output_type": "stream",
     "text": [
      "Computing raster stats:  20%|██        | 468/2332 [00:12<00:48, 38.69chunk/s]"
     ]
    },
    {
     "name": "stdout",
     "output_type": "stream",
     "text": [
      "Mixed-type geometries not supported.\n"
     ]
    },
    {
     "name": "stderr",
     "output_type": "stream",
     "text": [
      "Computing raster stats:  20%|██        | 478/2332 [00:13<01:02, 29.89chunk/s]"
     ]
    },
    {
     "name": "stdout",
     "output_type": "stream",
     "text": [
      "Unsupported geometry type.\n"
     ]
    },
    {
     "name": "stderr",
     "output_type": "stream",
     "text": [
      "Computing raster stats:  21%|██        | 493/2332 [00:13<00:54, 33.90chunk/s]"
     ]
    },
    {
     "name": "stdout",
     "output_type": "stream",
     "text": [
      "Mixed-type geometries not supported.\n"
     ]
    },
    {
     "name": "stderr",
     "output_type": "stream",
     "text": [
      "Computing raster stats:  27%|██▋       | 618/2332 [00:16<00:32, 52.67chunk/s]"
     ]
    },
    {
     "name": "stdout",
     "output_type": "stream",
     "text": [
      "Mixed-type geometries not supported.\n"
     ]
    },
    {
     "name": "stderr",
     "output_type": "stream",
     "text": [
      "Computing raster stats:  28%|██▊       | 650/2332 [00:16<00:30, 54.94chunk/s]"
     ]
    },
    {
     "name": "stdout",
     "output_type": "stream",
     "text": [
      "Mixed-type geometries not supported.\n"
     ]
    },
    {
     "name": "stderr",
     "output_type": "stream",
     "text": [
      "Computing raster stats:  38%|███▊      | 881/2332 [00:20<00:24, 58.84chunk/s]"
     ]
    },
    {
     "name": "stdout",
     "output_type": "stream",
     "text": [
      "Mixed-type geometries not supported.\n"
     ]
    },
    {
     "name": "stderr",
     "output_type": "stream",
     "text": [
      "Computing raster stats:  40%|████      | 942/2332 [00:22<00:36, 37.65chunk/s]"
     ]
    },
    {
     "name": "stdout",
     "output_type": "stream",
     "text": [
      "Mixed-type geometries not supported.\n"
     ]
    },
    {
     "name": "stderr",
     "output_type": "stream",
     "text": [
      "Computing raster stats:  41%|████      | 950/2332 [00:22<00:51, 26.82chunk/s]"
     ]
    },
    {
     "name": "stdout",
     "output_type": "stream",
     "text": [
      "Mixed-type geometries not supported.\n",
      "Mixed-type geometries not supported.\n"
     ]
    },
    {
     "name": "stderr",
     "output_type": "stream",
     "text": [
      "Computing raster stats:  42%|████▏     | 971/2332 [00:23<00:41, 32.46chunk/s]"
     ]
    },
    {
     "name": "stdout",
     "output_type": "stream",
     "text": [
      "Mixed-type geometries not supported.\n"
     ]
    },
    {
     "name": "stderr",
     "output_type": "stream",
     "text": [
      "Computing raster stats:  45%|████▍     | 1045/2332 [00:25<00:30, 42.52chunk/s]"
     ]
    },
    {
     "name": "stdout",
     "output_type": "stream",
     "text": [
      "Mixed-type geometries not supported.\n"
     ]
    },
    {
     "name": "stderr",
     "output_type": "stream",
     "text": [
      "Computing raster stats:  46%|████▌     | 1077/2332 [00:25<00:21, 58.82chunk/s]"
     ]
    },
    {
     "name": "stdout",
     "output_type": "stream",
     "text": [
      "Mixed-type geometries not supported.\n"
     ]
    },
    {
     "name": "stderr",
     "output_type": "stream",
     "text": [
      "Computing raster stats:  47%|████▋     | 1102/2332 [00:26<00:24, 49.48chunk/s]"
     ]
    },
    {
     "name": "stdout",
     "output_type": "stream",
     "text": [
      "Mixed-type geometries not supported.\n"
     ]
    },
    {
     "name": "stderr",
     "output_type": "stream",
     "text": [
      "Computing raster stats:  48%|████▊     | 1110/2332 [00:26<00:22, 53.55chunk/s]"
     ]
    },
    {
     "name": "stdout",
     "output_type": "stream",
     "text": [
      "Mixed-type geometries not supported.\n"
     ]
    },
    {
     "name": "stderr",
     "output_type": "stream",
     "text": [
      "Computing raster stats:  49%|████▉     | 1143/2332 [00:28<00:53, 22.07chunk/s]"
     ]
    },
    {
     "name": "stdout",
     "output_type": "stream",
     "text": [
      "Mixed-type geometries not supported.\n"
     ]
    },
    {
     "name": "stderr",
     "output_type": "stream",
     "text": [
      "Computing raster stats:  49%|████▉     | 1146/2332 [00:28<00:52, 22.67chunk/s]"
     ]
    },
    {
     "name": "stdout",
     "output_type": "stream",
     "text": [
      "Mixed-type geometries not supported.\n",
      "Mixed-type geometries not supported."
     ]
    },
    {
     "name": "stderr",
     "output_type": "stream",
     "text": [
      "Computing raster stats:  49%|████▉     | 1150/2332 [00:28<00:46, 25.43chunk/s]"
     ]
    },
    {
     "name": "stdout",
     "output_type": "stream",
     "text": [
      "\n",
      "Mixed-type geometries not supported.\n",
      "Mixed-type geometries not supported.\n"
     ]
    },
    {
     "name": "stderr",
     "output_type": "stream",
     "text": [
      "Computing raster stats:  50%|█████     | 1175/2332 [00:29<00:37, 30.85chunk/s]"
     ]
    },
    {
     "name": "stdout",
     "output_type": "stream",
     "text": [
      "Unsupported geometry type.\n"
     ]
    },
    {
     "name": "stderr",
     "output_type": "stream",
     "text": [
      "Computing raster stats:  51%|█████     | 1179/2332 [00:29<00:51, 22.33chunk/s]"
     ]
    },
    {
     "name": "stdout",
     "output_type": "stream",
     "text": [
      "Mixed-type geometries not supported.\n"
     ]
    },
    {
     "name": "stderr",
     "output_type": "stream",
     "text": [
      "Computing raster stats:  52%|█████▏    | 1221/2332 [00:30<00:37, 29.70chunk/s]"
     ]
    },
    {
     "name": "stdout",
     "output_type": "stream",
     "text": [
      "Mixed-type geometries not supported.\n",
      "Mixed-type geometries not supported.\n"
     ]
    },
    {
     "name": "stderr",
     "output_type": "stream",
     "text": [
      "Computing raster stats:  53%|█████▎    | 1226/2332 [00:30<00:33, 33.09chunk/s]"
     ]
    },
    {
     "name": "stdout",
     "output_type": "stream",
     "text": [
      "Mixed-type geometries not supported.\n"
     ]
    },
    {
     "name": "stderr",
     "output_type": "stream",
     "text": [
      "Computing raster stats:  54%|█████▍    | 1258/2332 [00:31<00:35, 30.23chunk/s]"
     ]
    },
    {
     "name": "stdout",
     "output_type": "stream",
     "text": [
      "Mixed-type geometries not supported.\n"
     ]
    },
    {
     "name": "stderr",
     "output_type": "stream",
     "text": [
      "Computing raster stats:  54%|█████▍    | 1262/2332 [00:32<00:39, 26.81chunk/s]"
     ]
    },
    {
     "name": "stdout",
     "output_type": "stream",
     "text": [
      "Mixed-type geometries not supported.\n"
     ]
    },
    {
     "name": "stderr",
     "output_type": "stream",
     "text": [
      "Computing raster stats:  58%|█████▊    | 1347/2332 [00:33<00:21, 46.33chunk/s]"
     ]
    },
    {
     "name": "stdout",
     "output_type": "stream",
     "text": [
      "Mixed-type geometries not supported.\n"
     ]
    },
    {
     "name": "stderr",
     "output_type": "stream",
     "text": [
      "Computing raster stats:  71%|███████▏  | 1665/2332 [00:36<00:04, 149.01chunk/s]"
     ]
    },
    {
     "name": "stdout",
     "output_type": "stream",
     "text": [
      "Mixed-type geometries not supported."
     ]
    },
    {
     "name": "stderr",
     "output_type": "stream",
     "text": [
      "Computing raster stats:  72%|███████▏  | 1681/2332 [00:37<00:04, 132.39chunk/s]"
     ]
    },
    {
     "name": "stdout",
     "output_type": "stream",
     "text": [
      "\n"
     ]
    },
    {
     "name": "stderr",
     "output_type": "stream",
     "text": [
      "Computing raster stats:  82%|████████▏ | 1912/2332 [00:39<00:03, 114.29chunk/s]"
     ]
    },
    {
     "name": "stdout",
     "output_type": "stream",
     "text": [
      "Mixed-type geometries not supported.\n",
      "Mixed-type geometries not supported.\n"
     ]
    },
    {
     "name": "stderr",
     "output_type": "stream",
     "text": [
      "Computing raster stats:  83%|████████▎ | 1947/2332 [00:39<00:03, 105.36chunk/s]"
     ]
    },
    {
     "name": "stdout",
     "output_type": "stream",
     "text": [
      "Mixed-type geometries not supported.\n"
     ]
    },
    {
     "name": "stderr",
     "output_type": "stream",
     "text": [
      "Computing raster stats:  84%|████████▍ | 1958/2332 [00:39<00:04, 82.93chunk/s] "
     ]
    },
    {
     "name": "stdout",
     "output_type": "stream",
     "text": [
      "Unsupported geometry type."
     ]
    },
    {
     "name": "stderr",
     "output_type": "stream",
     "text": [
      "Computing raster stats:  84%|████████▍ | 1970/2332 [00:39<00:03, 91.21chunk/s]"
     ]
    },
    {
     "name": "stdout",
     "output_type": "stream",
     "text": [
      "\n",
      "Unsupported geometry type.\n"
     ]
    },
    {
     "name": "stderr",
     "output_type": "stream",
     "text": [
      "Computing raster stats:  86%|████████▌ | 2009/2332 [00:40<00:03, 91.70chunk/s]"
     ]
    },
    {
     "name": "stdout",
     "output_type": "stream",
     "text": [
      "Mixed-type geometries not supported.\n"
     ]
    },
    {
     "name": "stderr",
     "output_type": "stream",
     "text": [
      "Computing raster stats:  87%|████████▋ | 2036/2332 [00:40<00:04, 65.78chunk/s]"
     ]
    },
    {
     "name": "stdout",
     "output_type": "stream",
     "text": [
      "Mixed-type geometries not supported.\n"
     ]
    },
    {
     "name": "stderr",
     "output_type": "stream",
     "text": [
      "Computing raster stats:  89%|████████▉ | 2072/2332 [00:41<00:03, 71.77chunk/s]"
     ]
    },
    {
     "name": "stdout",
     "output_type": "stream",
     "text": [
      "Mixed-type geometries not supported.\n"
     ]
    },
    {
     "name": "stderr",
     "output_type": "stream",
     "text": [
      "Computing raster stats:  99%|█████████▊| 2302/2332 [00:44<00:00, 129.60chunk/s]"
     ]
    },
    {
     "name": "stdout",
     "output_type": "stream",
     "text": [
      "Mixed-type geometries not supported.\n"
     ]
    },
    {
     "name": "stderr",
     "output_type": "stream",
     "text": [
      "Computing raster stats: 100%|██████████| 2332/2332 [00:45<00:00, 51.38chunk/s] \n"
     ]
    }
   ],
   "source": [
    "protected = await calc_protection(reclassified_biome_raster_path, list_subset, land_cover_classes)\n",
    "del list_subset\n",
    "del filtered\n",
    "del wdpa_grid"
   ]
  },
  {
   "cell_type": "code",
   "execution_count": 42,
   "id": "e310a593",
   "metadata": {},
   "outputs": [
    {
     "data": {
      "text/html": [
       "<div>\n",
       "<style scoped>\n",
       "    .dataframe tbody tr th:only-of-type {\n",
       "        vertical-align: middle;\n",
       "    }\n",
       "\n",
       "    .dataframe tbody tr th {\n",
       "        vertical-align: top;\n",
       "    }\n",
       "\n",
       "    .dataframe thead th {\n",
       "        text-align: right;\n",
       "    }\n",
       "</style>\n",
       "<table border=\"1\" class=\"dataframe\">\n",
       "  <thead>\n",
       "    <tr style=\"text-align: right;\">\n",
       "      <th></th>\n",
       "      <th>habitats</th>\n",
       "      <th>protected</th>\n",
       "      <th>iso_3</th>\n",
       "    </tr>\n",
       "  </thead>\n",
       "  <tbody>\n",
       "    <tr>\n",
       "      <th>0</th>\n",
       "      <td>Artificial</td>\n",
       "      <td>170986537.442105</td>\n",
       "      <td>GLOB</td>\n",
       "    </tr>\n",
       "    <tr>\n",
       "      <th>1</th>\n",
       "      <td>Desert</td>\n",
       "      <td>744586336.870439</td>\n",
       "      <td>GLOB</td>\n",
       "    </tr>\n",
       "    <tr>\n",
       "      <th>2</th>\n",
       "      <td>Forest</td>\n",
       "      <td>893482228.65953</td>\n",
       "      <td>GLOB</td>\n",
       "    </tr>\n",
       "    <tr>\n",
       "      <th>3</th>\n",
       "      <td>Grassland</td>\n",
       "      <td>493833720.441902</td>\n",
       "      <td>GLOB</td>\n",
       "    </tr>\n",
       "    <tr>\n",
       "      <th>4</th>\n",
       "      <td>Other</td>\n",
       "      <td>10395092.909473</td>\n",
       "      <td>GLOB</td>\n",
       "    </tr>\n",
       "    <tr>\n",
       "      <th>...</th>\n",
       "      <td>...</td>\n",
       "      <td>...</td>\n",
       "      <td>...</td>\n",
       "    </tr>\n",
       "    <tr>\n",
       "      <th>1363</th>\n",
       "      <td>Forest</td>\n",
       "      <td>577626.820158</td>\n",
       "      <td>ZWE</td>\n",
       "    </tr>\n",
       "    <tr>\n",
       "      <th>1364</th>\n",
       "      <td>Grassland</td>\n",
       "      <td>21742.292057</td>\n",
       "      <td>ZWE</td>\n",
       "    </tr>\n",
       "    <tr>\n",
       "      <th>1365</th>\n",
       "      <td>Savanna</td>\n",
       "      <td>8742367.01956</td>\n",
       "      <td>ZWE</td>\n",
       "    </tr>\n",
       "    <tr>\n",
       "      <th>1366</th>\n",
       "      <td>Shrubland</td>\n",
       "      <td>287596.872073</td>\n",
       "      <td>ZWE</td>\n",
       "    </tr>\n",
       "    <tr>\n",
       "      <th>1367</th>\n",
       "      <td>Wetlands/open water</td>\n",
       "      <td>303435.518905</td>\n",
       "      <td>ZWE</td>\n",
       "    </tr>\n",
       "  </tbody>\n",
       "</table>\n",
       "<p>1377 rows × 3 columns</p>\n",
       "</div>"
      ],
      "text/plain": [
       "                 habitats         protected iso_3\n",
       "0              Artificial  170986537.442105  GLOB\n",
       "1                  Desert  744586336.870439  GLOB\n",
       "2                  Forest   893482228.65953  GLOB\n",
       "3               Grassland  493833720.441902  GLOB\n",
       "4                   Other   10395092.909473  GLOB\n",
       "...                   ...               ...   ...\n",
       "1363               Forest     577626.820158   ZWE\n",
       "1364            Grassland      21742.292057   ZWE\n",
       "1365              Savanna     8742367.01956   ZWE\n",
       "1366            Shrubland     287596.872073   ZWE\n",
       "1367  Wetlands/open water     303435.518905   ZWE\n",
       "\n",
       "[1377 rows x 3 columns]"
      ]
     },
     "execution_count": 42,
     "metadata": {},
     "output_type": "execute_result"
    }
   ],
   "source": [
    "protected"
   ]
  },
  {
   "cell_type": "code",
   "execution_count": 43,
   "id": "0c64abe0",
   "metadata": {},
   "outputs": [],
   "source": [
    "gadm_data_simp.rename(columns={\"GID_0\": \"iso_3\"}, inplace=True)"
   ]
  },
  {
   "cell_type": "code",
   "execution_count": null,
   "id": "32e96da9",
   "metadata": {},
   "outputs": [],
   "source": [
    "region_grid = ComputationGrid(\n",
    "    bounds=[-180, -90, 180, 90], max_cell_size=10, crs=CRS.from_epsg(4326), grid_type=\"dense\"\n",
    ")\n",
    "\n",
    "regions_split = region_grid.split_gdf_by_grid(gadm_data_simp, True, 0)"
   ]
  },
  {
   "cell_type": "code",
   "execution_count": 45,
   "id": "9ba79b33",
   "metadata": {},
   "outputs": [
    {
     "name": "stderr",
     "output_type": "stream",
     "text": [
      "Computing raster stats:   0%|          | 0/467 [00:00<?, ?chunk/s]/opt/conda/lib/python3.12/site-packages/osgeo/gdal.py:311: FutureWarning: Neither gdal.UseExceptions() nor gdal.DontUseExceptions() has been explicitly called. In GDAL 4.0, exceptions will be enabled by default.\n",
      "  warnings.warn(\n",
      "/opt/conda/lib/python3.12/site-packages/osgeo/gdal.py:311: FutureWarning: Neither gdal.UseExceptions() nor gdal.DontUseExceptions() has been explicitly called. In GDAL 4.0, exceptions will be enabled by default.\n",
      "  warnings.warn(\n",
      "/opt/conda/lib/python3.12/site-packages/osgeo/gdal.py:311: FutureWarning: Neither gdal.UseExceptions() nor gdal.DontUseExceptions() has been explicitly called. In GDAL 4.0, exceptions will be enabled by default.\n",
      "  warnings.warn(\n",
      "/opt/conda/lib/python3.12/site-packages/osgeo/gdal.py:311: FutureWarning: Neither gdal.UseExceptions() nor gdal.DontUseExceptions() has been explicitly called. In GDAL 4.0, exceptions will be enabled by default.\n",
      "  warnings.warn(\n",
      "/opt/conda/lib/python3.12/site-packages/osgeo/gdal.py:311: FutureWarning: Neither gdal.UseExceptions() nor gdal.DontUseExceptions() has been explicitly called. In GDAL 4.0, exceptions will be enabled by default.\n",
      "  warnings.warn(\n",
      "/opt/conda/lib/python3.12/site-packages/osgeo/gdal.py:311: FutureWarning: Neither gdal.UseExceptions() nor gdal.DontUseExceptions() has been explicitly called. In GDAL 4.0, exceptions will be enabled by default.\n",
      "  warnings.warn(\n",
      "/opt/conda/lib/python3.12/site-packages/osgeo/gdal.py:311: FutureWarning: Neither gdal.UseExceptions() nor gdal.DontUseExceptions() has been explicitly called. In GDAL 4.0, exceptions will be enabled by default.\n",
      "  warnings.warn(\n",
      "/opt/conda/lib/python3.12/site-packages/osgeo/gdal.py:311: FutureWarning: Neither gdal.UseExceptions() nor gdal.DontUseExceptions() has been explicitly called. In GDAL 4.0, exceptions will be enabled by default.\n",
      "  warnings.warn(\n",
      "/opt/conda/lib/python3.12/site-packages/osgeo/gdal.py:311: FutureWarning: Neither gdal.UseExceptions() nor gdal.DontUseExceptions() has been explicitly called. In GDAL 4.0, exceptions will be enabled by default.\n",
      "  warnings.warn(\n",
      "/opt/conda/lib/python3.12/site-packages/osgeo/gdal.py:311: FutureWarning: Neither gdal.UseExceptions() nor gdal.DontUseExceptions() has been explicitly called. In GDAL 4.0, exceptions will be enabled by default.\n",
      "  warnings.warn(\n",
      "/opt/conda/lib/python3.12/site-packages/osgeo/gdal.py:311: FutureWarning: Neither gdal.UseExceptions() nor gdal.DontUseExceptions() has been explicitly called. In GDAL 4.0, exceptions will be enabled by default.\n",
      "  warnings.warn(\n",
      "/opt/conda/lib/python3.12/site-packages/osgeo/gdal.py:311: FutureWarning: Neither gdal.UseExceptions() nor gdal.DontUseExceptions() has been explicitly called. In GDAL 4.0, exceptions will be enabled by default.\n",
      "  warnings.warn(\n",
      "/opt/conda/lib/python3.12/site-packages/osgeo/gdal.py:311: FutureWarning: Neither gdal.UseExceptions() nor gdal.DontUseExceptions() has been explicitly called. In GDAL 4.0, exceptions will be enabled by default.\n",
      "  warnings.warn(\n",
      "/opt/conda/lib/python3.12/site-packages/osgeo/gdal.py:311: FutureWarning: Neither gdal.UseExceptions() nor gdal.DontUseExceptions() has been explicitly called. In GDAL 4.0, exceptions will be enabled by default.\n",
      "  warnings.warn(\n",
      "/opt/conda/lib/python3.12/site-packages/osgeo/gdal.py:311: FutureWarning: Neither gdal.UseExceptions() nor gdal.DontUseExceptions() has been explicitly called. In GDAL 4.0, exceptions will be enabled by default.\n",
      "  warnings.warn(\n",
      "/opt/conda/lib/python3.12/site-packages/osgeo/gdal.py:311: FutureWarning: Neither gdal.UseExceptions() nor gdal.DontUseExceptions() has been explicitly called. In GDAL 4.0, exceptions will be enabled by default.\n",
      "  warnings.warn(\n",
      "/opt/conda/lib/python3.12/site-packages/osgeo/gdal.py:311: FutureWarning: Neither gdal.UseExceptions() nor gdal.DontUseExceptions() has been explicitly called. In GDAL 4.0, exceptions will be enabled by default.\n",
      "  warnings.warn(\n",
      "/opt/conda/lib/python3.12/site-packages/osgeo/gdal.py:311: FutureWarning: Neither gdal.UseExceptions() nor gdal.DontUseExceptions() has been explicitly called. In GDAL 4.0, exceptions will be enabled by default.\n",
      "  warnings.warn(\n",
      "/opt/conda/lib/python3.12/site-packages/osgeo/gdal.py:311: FutureWarning: Neither gdal.UseExceptions() nor gdal.DontUseExceptions() has been explicitly called. In GDAL 4.0, exceptions will be enabled by default.\n",
      "  warnings.warn(\n",
      "/opt/conda/lib/python3.12/site-packages/osgeo/gdal.py:311: FutureWarning: Neither gdal.UseExceptions() nor gdal.DontUseExceptions() has been explicitly called. In GDAL 4.0, exceptions will be enabled by default.\n",
      "  warnings.warn(\n",
      "/opt/conda/lib/python3.12/site-packages/osgeo/gdal.py:311: FutureWarning: Neither gdal.UseExceptions() nor gdal.DontUseExceptions() has been explicitly called. In GDAL 4.0, exceptions will be enabled by default.\n",
      "  warnings.warn(\n",
      "/opt/conda/lib/python3.12/site-packages/osgeo/gdal.py:311: FutureWarning: Neither gdal.UseExceptions() nor gdal.DontUseExceptions() has been explicitly called. In GDAL 4.0, exceptions will be enabled by default.\n",
      "  warnings.warn(\n",
      "/opt/conda/lib/python3.12/site-packages/osgeo/gdal.py:311: FutureWarning: Neither gdal.UseExceptions() nor gdal.DontUseExceptions() has been explicitly called. In GDAL 4.0, exceptions will be enabled by default.\n",
      "  warnings.warn(\n",
      "/opt/conda/lib/python3.12/site-packages/osgeo/gdal.py:311: FutureWarning: Neither gdal.UseExceptions() nor gdal.DontUseExceptions() has been explicitly called. In GDAL 4.0, exceptions will be enabled by default.\n",
      "  warnings.warn(\n",
      "Computing raster stats: 100%|██████████| 467/467 [02:17<00:00,  3.39chunk/s]\n"
     ]
    }
   ],
   "source": [
    "location_efgs = await calc_country_extent(\n",
    "    reclassified_biome_raster_path, regions_split, land_cover_classes\n",
    ")"
   ]
  },
  {
   "cell_type": "code",
   "execution_count": 46,
   "id": "9276ffb9",
   "metadata": {},
   "outputs": [
    {
     "data": {
      "text/html": [
       "<div>\n",
       "<style scoped>\n",
       "    .dataframe tbody tr th:only-of-type {\n",
       "        vertical-align: middle;\n",
       "    }\n",
       "\n",
       "    .dataframe tbody tr th {\n",
       "        vertical-align: top;\n",
       "    }\n",
       "\n",
       "    .dataframe thead th {\n",
       "        text-align: right;\n",
       "    }\n",
       "</style>\n",
       "<table border=\"1\" class=\"dataframe\">\n",
       "  <thead>\n",
       "    <tr style=\"text-align: right;\">\n",
       "      <th></th>\n",
       "      <th>habitats</th>\n",
       "      <th>total</th>\n",
       "      <th>iso_3</th>\n",
       "    </tr>\n",
       "  </thead>\n",
       "  <tbody>\n",
       "    <tr>\n",
       "      <th>0</th>\n",
       "      <td>Artificial</td>\n",
       "      <td>2814392766.029436</td>\n",
       "      <td>GLOB</td>\n",
       "    </tr>\n",
       "    <tr>\n",
       "      <th>1</th>\n",
       "      <td>Desert</td>\n",
       "      <td>11035130642.574265</td>\n",
       "      <td>GLOB</td>\n",
       "    </tr>\n",
       "    <tr>\n",
       "      <th>2</th>\n",
       "      <td>Forest</td>\n",
       "      <td>4894422034.068147</td>\n",
       "      <td>GLOB</td>\n",
       "    </tr>\n",
       "    <tr>\n",
       "      <th>3</th>\n",
       "      <td>Grassland</td>\n",
       "      <td>3532338753.845665</td>\n",
       "      <td>GLOB</td>\n",
       "    </tr>\n",
       "    <tr>\n",
       "      <th>4</th>\n",
       "      <td>Other</td>\n",
       "      <td>31294030.987612</td>\n",
       "      <td>GLOB</td>\n",
       "    </tr>\n",
       "    <tr>\n",
       "      <th>...</th>\n",
       "      <td>...</td>\n",
       "      <td>...</td>\n",
       "      <td>...</td>\n",
       "    </tr>\n",
       "    <tr>\n",
       "      <th>1493</th>\n",
       "      <td>Grassland</td>\n",
       "      <td>338488.994966</td>\n",
       "      <td>ZWE</td>\n",
       "    </tr>\n",
       "    <tr>\n",
       "      <th>1494</th>\n",
       "      <td>Rocky/mountains</td>\n",
       "      <td>51.0</td>\n",
       "      <td>ZWE</td>\n",
       "    </tr>\n",
       "    <tr>\n",
       "      <th>1495</th>\n",
       "      <td>Savanna</td>\n",
       "      <td>22879058.986613</td>\n",
       "      <td>ZWE</td>\n",
       "    </tr>\n",
       "    <tr>\n",
       "      <th>1496</th>\n",
       "      <td>Shrubland</td>\n",
       "      <td>5252410.077386</td>\n",
       "      <td>ZWE</td>\n",
       "    </tr>\n",
       "    <tr>\n",
       "      <th>1497</th>\n",
       "      <td>Wetlands/open water</td>\n",
       "      <td>372766.598721</td>\n",
       "      <td>ZWE</td>\n",
       "    </tr>\n",
       "  </tbody>\n",
       "</table>\n",
       "<p>1507 rows × 3 columns</p>\n",
       "</div>"
      ],
      "text/plain": [
       "                 habitats               total iso_3\n",
       "0              Artificial   2814392766.029436  GLOB\n",
       "1                  Desert  11035130642.574265  GLOB\n",
       "2                  Forest   4894422034.068147  GLOB\n",
       "3               Grassland   3532338753.845665  GLOB\n",
       "4                   Other     31294030.987612  GLOB\n",
       "...                   ...                 ...   ...\n",
       "1493            Grassland       338488.994966   ZWE\n",
       "1494      Rocky/mountains                51.0   ZWE\n",
       "1495              Savanna     22879058.986613   ZWE\n",
       "1496            Shrubland      5252410.077386   ZWE\n",
       "1497  Wetlands/open water       372766.598721   ZWE\n",
       "\n",
       "[1507 rows x 3 columns]"
      ]
     },
     "execution_count": 46,
     "metadata": {},
     "output_type": "execute_result"
    }
   ],
   "source": [
    "location_efgs"
   ]
  },
  {
   "cell_type": "code",
   "execution_count": 47,
   "id": "6e685705",
   "metadata": {},
   "outputs": [],
   "source": [
    "del regions_split\n",
    "del region_grid"
   ]
  },
  {
   "cell_type": "code",
   "execution_count": null,
   "id": "e3aa359f",
   "metadata": {},
   "outputs": [],
   "source": [
    "def create_master_data_table(location_efgs: pd.DataFrame, protected: pd.DataFrame) -> pd.DataFrame:\n",
    "    protection_extent = location_efgs.set_index([\"iso_3\", \"habitats\"]).join(\n",
    "        protected.set_index([\"iso_3\", \"habitats\"])\n",
    "    )\n",
    "    protection_extent[\"frac\"] = (protection_extent[\"protected\"] / protection_extent[\"total\"]) * 100\n",
    "\n",
    "    return protection_extent.reset_index()"
   ]
  },
  {
   "cell_type": "code",
   "execution_count": 49,
   "id": "d75ff26f",
   "metadata": {},
   "outputs": [],
   "source": [
    "master_data_protection = create_master_data_table(location_efgs, protected)"
   ]
  },
  {
   "cell_type": "code",
   "execution_count": 50,
   "id": "9e63a0a0",
   "metadata": {},
   "outputs": [],
   "source": [
    "def calc_area(df: pd.DataFrame) -> pd.DataFrame:\n",
    "    df[\"perc_extent\"] = (df[\"total\"] / df[\"total_area\"]) * 100\n",
    "    return df"
   ]
  },
  {
   "cell_type": "code",
   "execution_count": null,
   "id": "a8775e8a",
   "metadata": {},
   "outputs": [],
   "source": [
    "test = master_data_protection.join(\n",
    "    master_data_protection.groupby(\"iso_3\").agg({\"total\": \"sum\"}), on=\"iso_3\", rsuffix=\"_area\"\n",
    ").pipe(calc_area)"
   ]
  },
  {
   "cell_type": "code",
   "execution_count": 53,
   "id": "aacbf425",
   "metadata": {},
   "outputs": [],
   "source": [
    "test_old = pd.read_csv(sks_data_path.joinpath(\"master_data_protection_old.csv\"))"
   ]
  },
  {
   "cell_type": "code",
   "execution_count": 58,
   "id": "ef47a72d",
   "metadata": {},
   "outputs": [
    {
     "data": {
      "text/html": [
       "<div>\n",
       "<style scoped>\n",
       "    .dataframe tbody tr th:only-of-type {\n",
       "        vertical-align: middle;\n",
       "    }\n",
       "\n",
       "    .dataframe tbody tr th {\n",
       "        vertical-align: top;\n",
       "    }\n",
       "\n",
       "    .dataframe thead th {\n",
       "        text-align: right;\n",
       "    }\n",
       "</style>\n",
       "<table border=\"1\" class=\"dataframe\">\n",
       "  <thead>\n",
       "    <tr style=\"text-align: right;\">\n",
       "      <th></th>\n",
       "      <th>iso_3</th>\n",
       "      <th>habitats</th>\n",
       "      <th>total</th>\n",
       "      <th>protected</th>\n",
       "      <th>frac</th>\n",
       "      <th>total_area</th>\n",
       "      <th>perc_extent</th>\n",
       "    </tr>\n",
       "  </thead>\n",
       "  <tbody>\n",
       "    <tr>\n",
       "      <th>426</th>\n",
       "      <td>ESP</td>\n",
       "      <td>Artificial</td>\n",
       "      <td>39106089.709432</td>\n",
       "      <td>8067029.669799</td>\n",
       "      <td>20.628577</td>\n",
       "      <td>66412410.121894</td>\n",
       "      <td>58.883708</td>\n",
       "    </tr>\n",
       "    <tr>\n",
       "      <th>427</th>\n",
       "      <td>ESP</td>\n",
       "      <td>Desert</td>\n",
       "      <td>150986.99668</td>\n",
       "      <td>85544.142813</td>\n",
       "      <td>56.656629</td>\n",
       "      <td>66412410.121894</td>\n",
       "      <td>0.227348</td>\n",
       "    </tr>\n",
       "    <tr>\n",
       "      <th>428</th>\n",
       "      <td>ESP</td>\n",
       "      <td>Forest</td>\n",
       "      <td>8971486.41535</td>\n",
       "      <td>4122894.487791</td>\n",
       "      <td>45.955534</td>\n",
       "      <td>66412410.121894</td>\n",
       "      <td>13.50875</td>\n",
       "    </tr>\n",
       "    <tr>\n",
       "      <th>429</th>\n",
       "      <td>ESP</td>\n",
       "      <td>Grassland</td>\n",
       "      <td>3406859.161202</td>\n",
       "      <td>1228491.804244</td>\n",
       "      <td>36.059366</td>\n",
       "      <td>66412410.121894</td>\n",
       "      <td>5.129853</td>\n",
       "    </tr>\n",
       "    <tr>\n",
       "      <th>430</th>\n",
       "      <td>ESP</td>\n",
       "      <td>Other</td>\n",
       "      <td>43549.407046</td>\n",
       "      <td>16077.294966</td>\n",
       "      <td>36.917368</td>\n",
       "      <td>66412410.121894</td>\n",
       "      <td>0.065574</td>\n",
       "    </tr>\n",
       "    <tr>\n",
       "      <th>431</th>\n",
       "      <td>ESP</td>\n",
       "      <td>Rocky/mountains</td>\n",
       "      <td>28369.999124</td>\n",
       "      <td>24333.198233</td>\n",
       "      <td>85.770881</td>\n",
       "      <td>66412410.121894</td>\n",
       "      <td>0.042718</td>\n",
       "    </tr>\n",
       "    <tr>\n",
       "      <th>432</th>\n",
       "      <td>ESP</td>\n",
       "      <td>Savanna</td>\n",
       "      <td>160968.845551</td>\n",
       "      <td>52803.595804</td>\n",
       "      <td>32.803612</td>\n",
       "      <td>66412410.121894</td>\n",
       "      <td>0.242378</td>\n",
       "    </tr>\n",
       "    <tr>\n",
       "      <th>433</th>\n",
       "      <td>ESP</td>\n",
       "      <td>Shrubland</td>\n",
       "      <td>14187310.96224</td>\n",
       "      <td>4820682.304261</td>\n",
       "      <td>33.97883</td>\n",
       "      <td>66412410.121894</td>\n",
       "      <td>21.36244</td>\n",
       "    </tr>\n",
       "    <tr>\n",
       "      <th>434</th>\n",
       "      <td>ESP</td>\n",
       "      <td>Wetlands/open water</td>\n",
       "      <td>356788.625269</td>\n",
       "      <td>214473.227766</td>\n",
       "      <td>60.112126</td>\n",
       "      <td>66412410.121894</td>\n",
       "      <td>0.537232</td>\n",
       "    </tr>\n",
       "  </tbody>\n",
       "</table>\n",
       "</div>"
      ],
      "text/plain": [
       "    iso_3             habitats            total       protected       frac  \\\n",
       "426   ESP           Artificial  39106089.709432  8067029.669799  20.628577   \n",
       "427   ESP               Desert     150986.99668    85544.142813  56.656629   \n",
       "428   ESP               Forest    8971486.41535  4122894.487791  45.955534   \n",
       "429   ESP            Grassland   3406859.161202  1228491.804244  36.059366   \n",
       "430   ESP                Other     43549.407046    16077.294966  36.917368   \n",
       "431   ESP      Rocky/mountains     28369.999124    24333.198233  85.770881   \n",
       "432   ESP              Savanna    160968.845551    52803.595804  32.803612   \n",
       "433   ESP            Shrubland   14187310.96224  4820682.304261   33.97883   \n",
       "434   ESP  Wetlands/open water    356788.625269   214473.227766  60.112126   \n",
       "\n",
       "          total_area perc_extent  \n",
       "426  66412410.121894   58.883708  \n",
       "427  66412410.121894    0.227348  \n",
       "428  66412410.121894    13.50875  \n",
       "429  66412410.121894    5.129853  \n",
       "430  66412410.121894    0.065574  \n",
       "431  66412410.121894    0.042718  \n",
       "432  66412410.121894    0.242378  \n",
       "433  66412410.121894    21.36244  \n",
       "434  66412410.121894    0.537232  "
      ]
     },
     "execution_count": 58,
     "metadata": {},
     "output_type": "execute_result"
    }
   ],
   "source": [
    "test[test[\"iso_3\"] == \"ESP\"]"
   ]
  },
  {
   "cell_type": "code",
   "execution_count": 59,
   "id": "50729fa1",
   "metadata": {},
   "outputs": [
    {
     "data": {
      "text/html": [
       "<div>\n",
       "<style scoped>\n",
       "    .dataframe tbody tr th:only-of-type {\n",
       "        vertical-align: middle;\n",
       "    }\n",
       "\n",
       "    .dataframe tbody tr th {\n",
       "        vertical-align: top;\n",
       "    }\n",
       "\n",
       "    .dataframe thead th {\n",
       "        text-align: right;\n",
       "    }\n",
       "</style>\n",
       "<table border=\"1\" class=\"dataframe\">\n",
       "  <thead>\n",
       "    <tr style=\"text-align: right;\">\n",
       "      <th></th>\n",
       "      <th>iso_3</th>\n",
       "      <th>habitats</th>\n",
       "      <th>total</th>\n",
       "      <th>protected</th>\n",
       "      <th>frac</th>\n",
       "      <th>total_area</th>\n",
       "      <th>perc_extent</th>\n",
       "    </tr>\n",
       "  </thead>\n",
       "  <tbody>\n",
       "    <tr>\n",
       "      <th>472</th>\n",
       "      <td>ESP</td>\n",
       "      <td>Artificial</td>\n",
       "      <td>392371.0</td>\n",
       "      <td>117356.0</td>\n",
       "      <td>29.909448</td>\n",
       "      <td>671255.0</td>\n",
       "      <td>58.453345</td>\n",
       "    </tr>\n",
       "    <tr>\n",
       "      <th>473</th>\n",
       "      <td>ESP</td>\n",
       "      <td>Desert</td>\n",
       "      <td>1521.0</td>\n",
       "      <td>1005.0</td>\n",
       "      <td>66.074951</td>\n",
       "      <td>671255.0</td>\n",
       "      <td>0.226590</td>\n",
       "    </tr>\n",
       "    <tr>\n",
       "      <th>474</th>\n",
       "      <td>ESP</td>\n",
       "      <td>Forest</td>\n",
       "      <td>89916.0</td>\n",
       "      <td>49953.0</td>\n",
       "      <td>55.555185</td>\n",
       "      <td>671255.0</td>\n",
       "      <td>13.395207</td>\n",
       "    </tr>\n",
       "    <tr>\n",
       "      <th>475</th>\n",
       "      <td>ESP</td>\n",
       "      <td>Grassland</td>\n",
       "      <td>34404.0</td>\n",
       "      <td>15589.0</td>\n",
       "      <td>45.311592</td>\n",
       "      <td>671255.0</td>\n",
       "      <td>5.125325</td>\n",
       "    </tr>\n",
       "    <tr>\n",
       "      <th>476</th>\n",
       "      <td>ESP</td>\n",
       "      <td>Other</td>\n",
       "      <td>4595.0</td>\n",
       "      <td>2480.0</td>\n",
       "      <td>53.971708</td>\n",
       "      <td>671255.0</td>\n",
       "      <td>0.684539</td>\n",
       "    </tr>\n",
       "    <tr>\n",
       "      <th>477</th>\n",
       "      <td>ESP</td>\n",
       "      <td>Rocky/mountains</td>\n",
       "      <td>311.0</td>\n",
       "      <td>279.0</td>\n",
       "      <td>89.710611</td>\n",
       "      <td>671255.0</td>\n",
       "      <td>0.046331</td>\n",
       "    </tr>\n",
       "    <tr>\n",
       "      <th>478</th>\n",
       "      <td>ESP</td>\n",
       "      <td>Savanna</td>\n",
       "      <td>1617.0</td>\n",
       "      <td>812.0</td>\n",
       "      <td>50.216450</td>\n",
       "      <td>671255.0</td>\n",
       "      <td>0.240892</td>\n",
       "    </tr>\n",
       "    <tr>\n",
       "      <th>479</th>\n",
       "      <td>ESP</td>\n",
       "      <td>Shrubland</td>\n",
       "      <td>142415.0</td>\n",
       "      <td>62193.0</td>\n",
       "      <td>43.670259</td>\n",
       "      <td>671255.0</td>\n",
       "      <td>21.216229</td>\n",
       "    </tr>\n",
       "    <tr>\n",
       "      <th>480</th>\n",
       "      <td>ESP</td>\n",
       "      <td>Wetlands/open water</td>\n",
       "      <td>4105.0</td>\n",
       "      <td>2802.0</td>\n",
       "      <td>68.258222</td>\n",
       "      <td>671255.0</td>\n",
       "      <td>0.611541</td>\n",
       "    </tr>\n",
       "  </tbody>\n",
       "</table>\n",
       "</div>"
      ],
      "text/plain": [
       "    iso_3             habitats     total  protected       frac  total_area  \\\n",
       "472   ESP           Artificial  392371.0   117356.0  29.909448    671255.0   \n",
       "473   ESP               Desert    1521.0     1005.0  66.074951    671255.0   \n",
       "474   ESP               Forest   89916.0    49953.0  55.555185    671255.0   \n",
       "475   ESP            Grassland   34404.0    15589.0  45.311592    671255.0   \n",
       "476   ESP                Other    4595.0     2480.0  53.971708    671255.0   \n",
       "477   ESP      Rocky/mountains     311.0      279.0  89.710611    671255.0   \n",
       "478   ESP              Savanna    1617.0      812.0  50.216450    671255.0   \n",
       "479   ESP            Shrubland  142415.0    62193.0  43.670259    671255.0   \n",
       "480   ESP  Wetlands/open water    4105.0     2802.0  68.258222    671255.0   \n",
       "\n",
       "     perc_extent  \n",
       "472    58.453345  \n",
       "473     0.226590  \n",
       "474    13.395207  \n",
       "475     5.125325  \n",
       "476     0.684539  \n",
       "477     0.046331  \n",
       "478     0.240892  \n",
       "479    21.216229  \n",
       "480     0.611541  "
      ]
     },
     "execution_count": 59,
     "metadata": {},
     "output_type": "execute_result"
    }
   ],
   "source": [
    "test_old[test_old[\"iso_3\"] == \"ESP\"]"
   ]
  },
  {
   "cell_type": "code",
   "execution_count": 60,
   "id": "9ec885dd",
   "metadata": {},
   "outputs": [],
   "source": [
    "test.to_csv(sks_data_path.joinpath(\"master_data_protection_exact.csv\"), index=False)"
   ]
  },
  {
   "cell_type": "markdown",
   "id": "9cf613b5",
   "metadata": {},
   "source": [
    "### Test spain without split"
   ]
  },
  {
   "cell_type": "code",
   "execution_count": null,
   "id": "15dc4517",
   "metadata": {},
   "outputs": [],
   "source": [
    "from rasterstats import zonal_stats\n",
    "\n",
    "from exactextract import exact_extract"
   ]
  },
  {
   "cell_type": "code",
   "execution_count": null,
   "id": "f050b57a",
   "metadata": {},
   "outputs": [],
   "source": [
    "dissolved_simp_gdf[dissolved_simp_gdf.gid_0 == \"ESP\"].explore()"
   ]
  },
  {
   "cell_type": "code",
   "execution_count": null,
   "id": "e8abb0c5",
   "metadata": {},
   "outputs": [],
   "source": [
    "gadm_data_simp[gadm_data_simp[\"iso_3\"] == \"ESP\"].explore()"
   ]
  },
  {
   "cell_type": "code",
   "execution_count": null,
   "id": "99315c54",
   "metadata": {},
   "outputs": [],
   "source": [
    "params_rasterstats = {\n",
    "    \"vectors\": gadm_data_simp[gadm_data_simp[\"iso_3\"] == \"ESP\"].geometry,\n",
    "    \"raster\": local_biome_raster_path,\n",
    "    \"all_touched\": True,\n",
    "    \"categorical\": True,\n",
    "    \"category_map\": land_cover_classes,\n",
    "}\n",
    "\n",
    "test_esp_total_rasterstats = zonal_stats(**params_rasterstats)"
   ]
  },
  {
   "cell_type": "code",
   "execution_count": null,
   "id": "0512a768",
   "metadata": {},
   "outputs": [],
   "source": [
    "updated_protected = params_rasterstats.copy()\n",
    "updated_protected.update(\n",
    "    {\"vectors\": dissolved_simp_gdf[dissolved_simp_gdf.gid_0 == \"ESP\"].geometry}\n",
    ")\n",
    "test_esp_protected_rasterstats = zonal_stats(**updated_protected)"
   ]
  },
  {
   "cell_type": "code",
   "execution_count": null,
   "id": "2aa7ef97",
   "metadata": {},
   "outputs": [],
   "source": [
    "test_esp = (\n",
    "    pd.DataFrame(test_esp_total_rasterstats)\n",
    "    .reset_index()\n",
    "    .melt(\"index\", var_name=\"category\", value_name=\"count\")\n",
    "    .drop(columns=[\"index\"])\n",
    "    .rename(columns={\"count\": \"total\"})\n",
    "    .join(\n",
    "        pd.DataFrame(test_esp_protected_rasterstats)\n",
    "        .reset_index()\n",
    "        .melt(\"index\", var_name=\"category\", value_name=\"count\")\n",
    "        .groupby(\"category\")\n",
    "        .agg({\"count\": \"sum\"}),\n",
    "        on=\"category\",\n",
    "    )\n",
    "    .assign(iso_3=\"ESP\")\n",
    ")\n",
    "\n",
    "test_esp[\"frac\"] = (test_esp[\"count\"] / test_esp[\"total\"]) * 100\n",
    "test_esp"
   ]
  },
  {
   "cell_type": "code",
   "execution_count": null,
   "id": "f8274ee4",
   "metadata": {},
   "outputs": [],
   "source": [
    "##### Exact extract\n",
    "test_total_exact_extract = exact_extract(\n",
    "    local_biome_raster_path,\n",
    "    gadm_data_simp[gadm_data_simp[\"iso_3\"] == \"ESP\"],\n",
    "    [\"unique\", \"frac\", \"count\"],\n",
    "    include_cols=\"iso_3\",\n",
    "    output=\"pandas\",\n",
    ").explode([\"unique\", \"frac\"])\n",
    "\n",
    "test_total_exact_extract[\"unique\"] = test_total_exact_extract[\"unique\"].map(land_cover_classes)\n",
    "test_total_exact_extract[\"total\"] = (\n",
    "    test_total_exact_extract[\"count\"] * test_total_exact_extract[\"frac\"]\n",
    ")\n",
    "display(test_total_exact_extract)"
   ]
  },
  {
   "cell_type": "code",
   "execution_count": null,
   "id": "2d9a9117",
   "metadata": {},
   "outputs": [],
   "source": [
    "##### Exact extract\n",
    "test_protected_exact_extract = exact_extract(\n",
    "    local_biome_raster_path,\n",
    "    dissolved_simp_gdf[dissolved_simp_gdf.gid_0 == \"ESP\"],\n",
    "    [\"unique\", \"frac\", \"count\"],\n",
    "    include_cols=\"gid_0\",\n",
    "    output=\"pandas\",\n",
    ").explode([\"unique\", \"frac\"])\n",
    "#     .groupby(\"unique\")\n",
    "#     .agg({\"frac\": \"sum\", \"gid_0\": \"count\"})\n",
    "# ).reset_index()\n",
    "test_protected_exact_extract[\"protected\"] = (\n",
    "    test_protected_exact_extract[\"count\"] * test_protected_exact_extract[\"frac\"]\n",
    ")\n",
    "test_protected_exact_extract = (\n",
    "    test_protected_exact_extract.groupby(\"unique\").agg({\"protected\": \"sum\"}).reset_index()\n",
    ")\n",
    "test_protected_exact_extract[\"unique\"] = test_protected_exact_extract[\"unique\"].map(\n",
    "    land_cover_classes\n",
    ")"
   ]
  },
  {
   "cell_type": "code",
   "execution_count": null,
   "id": "70c95028",
   "metadata": {},
   "outputs": [],
   "source": [
    "test_total_exact_extract.join(test_protected_exact_extract.set_index(\"unique\"), on=\"unique\")"
   ]
  },
  {
   "cell_type": "code",
   "execution_count": null,
   "id": "9a21bd7b",
   "metadata": {},
   "outputs": [],
   "source": [
    "compare_table = (\n",
    "    test_old[test_old[\"iso_3\"] == \"ESP\"]\n",
    "    .join(test_esp.set_index(\"category\"), on=\"habitats\", rsuffix=\"_test\")\n",
    "    .join(\n",
    "        test_total_exact_extract.join(\n",
    "            test_protected_exact_extract.set_index(\"unique\"), on=\"unique\"\n",
    "        ).set_index(\"unique\"),\n",
    "        on=\"habitats\",\n",
    "        rsuffix=\"_exact\",\n",
    "    )[\n",
    "        [\n",
    "            \"iso_3\",\n",
    "            \"habitats\",\n",
    "            \"total\",\n",
    "            \"total_test\",\n",
    "            \"total_exact\",\n",
    "            \"protected\",\n",
    "            \"count\",\n",
    "            \"protected_exact\",\n",
    "        ]\n",
    "    ]\n",
    ")"
   ]
  },
  {
   "cell_type": "code",
   "execution_count": null,
   "id": "2852e0ac",
   "metadata": {},
   "outputs": [],
   "source": [
    "compare_table[\"frac_def\"] = (compare_table[\"protected\"] / compare_table[\"total\"]) * 100\n",
    "compare_table[\"frac_exact\"] = (\n",
    "    compare_table[\"protected_exact\"] / compare_table[\"total_exact\"]\n",
    ") * 100\n",
    "compare_table[\"frac_test\"] = (compare_table[\"count\"] / compare_table[\"total_test\"]) * 100\n",
    "\n",
    "compare_table"
   ]
  },
  {
   "cell_type": "markdown",
   "id": "0a285609",
   "metadata": {},
   "source": [
    "# difference"
   ]
  },
  {
   "cell_type": "code",
   "execution_count": null,
   "id": "0f5c7ebf",
   "metadata": {},
   "outputs": [],
   "source": [
    "sks_data_path = data_folder.joinpath(\"skytruth\")"
   ]
  },
  {
   "cell_type": "code",
   "execution_count": null,
   "id": "4e7cb063",
   "metadata": {},
   "outputs": [],
   "source": [
    "dissolved_simp_gdf = gpd.read_file(sks_data_path.joinpath(\"mpas_sjoin_dissolved_simp.shp\"))\n",
    "gadm_data_simp = gpd.read_file(sks_data_path.joinpath(\"gadm_preprocess.shp\"))"
   ]
  },
  {
   "cell_type": "code",
   "execution_count": null,
   "id": "492259e1",
   "metadata": {},
   "outputs": [],
   "source": [
    "grid = ComputationGrid(\n",
    "    bounds=[-180, -90, 180, 90],\n",
    "    cell_size=20,\n",
    "    crs=CRS.from_epsg(4326),\n",
    ")"
   ]
  },
  {
   "cell_type": "code",
   "execution_count": null,
   "id": "0e7127c3",
   "metadata": {},
   "outputs": [],
   "source": [
    "grid.create_gdf_density_based_grid(dissolved_simp_gdf.explode(), 5000)\n",
    "grid.grid_gdf.reset_index().explore()"
   ]
  },
  {
   "cell_type": "code",
   "execution_count": null,
   "id": "f1a59d50",
   "metadata": {},
   "outputs": [],
   "source": [
    "test_area = grid.grid_gdf[grid.grid_gdf.index == 235]\n",
    "\n",
    "test_gadm = gadm_data_simp.iloc[gadm_data_simp.sindex.intersection(test_area.total_bounds)].clip(\n",
    "    test_area.total_bounds\n",
    ")\n",
    "\n",
    "test_wdpa = dissolved_simp_gdf.iloc[\n",
    "    dissolved_simp_gdf.sindex.intersection(test_area.total_bounds)\n",
    "].clip(test_area.total_bounds)\n",
    "test_filtered = test_wdpa.loc[\n",
    "    test_wdpa.geometry.geom_type.isin([\"MultiPolygon\", \"Polygon\"])\n",
    "].reset_index()\n",
    "\n",
    "result_test = gpd.overlay(\n",
    "    test_gadm,\n",
    "    test_filtered,\n",
    "    how=\"difference\",\n",
    ").reset_index(drop=True)\n",
    "\n",
    "result_test.explore()"
   ]
  },
  {
   "cell_type": "code",
   "execution_count": null,
   "id": "a0d45f0f",
   "metadata": {},
   "outputs": [],
   "source": [
    "# Spatial difference\n",
    "\n",
    "diffenrence_dataset = await spatial_difference(gadm_data_simp, dissolved_simp_gdf, grid)"
   ]
  },
  {
   "cell_type": "code",
   "execution_count": null,
   "id": "a710e06c",
   "metadata": {},
   "outputs": [],
   "source": [
    "diffenrence_dataset.to_file(sks_data_path.joinpath(\"gadm_diff.shp\"))"
   ]
  }
 ],
 "metadata": {
  "kernelspec": {
   "display_name": "Python 3 (ipykernel)",
   "language": "python",
   "name": "python3"
  },
  "language_info": {
   "codemirror_mode": {
    "name": "ipython",
    "version": 3
   },
   "file_extension": ".py",
   "mimetype": "text/x-python",
   "name": "python",
   "nbconvert_exporter": "python",
   "pygments_lexer": "ipython3",
   "version": "3.12.7"
  }
 },
 "nbformat": 4,
 "nbformat_minor": 5
}
