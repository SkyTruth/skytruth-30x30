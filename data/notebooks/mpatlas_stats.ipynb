{
 "cells": [
  {
   "cell_type": "markdown",
   "metadata": {},
   "source": [
    "### Set up"
   ]
  },
  {
   "cell_type": "code",
   "execution_count": 8,
   "metadata": {},
   "outputs": [],
   "source": [
    "import geopandas as gpd\n",
    "import pandas as pd\n",
    "from datetime import datetime"
   ]
  },
  {
   "cell_type": "code",
   "execution_count": 9,
   "metadata": {},
   "outputs": [],
   "source": [
    "path_in = \"/Users/sofia/Documents/Repos/skytruth-30x30/data/data/raw\"\n",
    "path_out = \"/Users/sofia/Documents/Repos/skytruth-30x30/data/data/processed\""
   ]
  },
  {
   "cell_type": "markdown",
   "metadata": {},
   "source": [
    "### Read and prepare data"
   ]
  },
  {
   "cell_type": "code",
   "execution_count": null,
   "metadata": {},
   "outputs": [],
   "source": [
    "https://guide.mpatlas.org/api/v1/zone/geojson/"
   ]
  },
  {
   "cell_type": "code",
   "execution_count": 35,
   "metadata": {},
   "outputs": [],
   "source": [
    "# Read data from MPAtlas\n",
    "mpatlas = gpd.read_file(path_in + \"/mpatlas_assess_zone.geojson\")"
   ]
  },
  {
   "cell_type": "code",
   "execution_count": 36,
   "metadata": {},
   "outputs": [],
   "source": [
    "# Fill missing wdpa_pid with the wdpa_id\n",
    "mpatlas['wdpa_pid'] = mpatlas['wdpa_pid'].fillna(mpatlas['wdpa_id'])"
   ]
  },
  {
   "cell_type": "code",
   "execution_count": 37,
   "metadata": {},
   "outputs": [],
   "source": [
    "# Create new column with protection level reclassified\n",
    "def map_protection_level(value):\n",
    "    if value in [\"full\", \"high\"]:\n",
    "        return \"fully or highly protected\"\n",
    "    else:\n",
    "        return \"less protected or unknown\"\n",
    "\n",
    "# Create a new column based on column1\n",
    "mpatlas['protection_level'] = mpatlas['protection_mpaguide_level'].apply(map_protection_level)"
   ]
  },
  {
   "cell_type": "code",
   "execution_count": 38,
   "metadata": {},
   "outputs": [],
   "source": [
    "# replace proposed/committed with proposed or committed\n",
    "mpatlas['establishment_stage'] = mpatlas['establishment_stage'].replace(['proposed/committed'], 'proposed or committed')"
   ]
  },
  {
   "cell_type": "code",
   "execution_count": 39,
   "metadata": {},
   "outputs": [],
   "source": [
    "# Take only year from 'proposed_date', 'designated_date', 'implemented_date'\n",
    "mpatlas['proposed_date'] = mpatlas['proposed_date'].str[:4].astype('Int64')\n",
    "mpatlas['designated_date'] = mpatlas['designated_date'].str[:4].astype('Int64')\n",
    "mpatlas['implemented_date'] = mpatlas['implemented_date'].str[:4].astype('Int64')\n",
    "\n",
    "# Create column 'year' with the most recent year from 'proposed_date', 'designated_date', 'implemented_date'\n",
    "mpatlas['year'] = mpatlas[['proposed_date', 'designated_date', 'implemented_date']].max(axis=1)\n",
    "\n",
    "# Convert year to int to be able to save it later (Int64 not allowed)\n",
    "mpatlas['year'].fillna(0, inplace=True)\n",
    "mpatlas['year'] = mpatlas['year'].astype(int)\n",
    "mpatlas['year'] = mpatlas['year'].replace(0, pd.NaT)\n"
   ]
  },
  {
   "cell_type": "code",
   "execution_count": 40,
   "metadata": {},
   "outputs": [],
   "source": [
    "# Calculate area in km2\n",
    "mpatlas.to_crs('ESRI:54009', inplace=True)\n",
    "mpatlas['area_km2'] = mpatlas['geometry'].area / 10**6\n",
    "mpatlas.to_crs('EPSG:4326', inplace=True)"
   ]
  },
  {
   "cell_type": "code",
   "execution_count": 41,
   "metadata": {},
   "outputs": [],
   "source": [
    "# Keep relevant columns \n",
    "mpatlas2 = mpatlas[['wdpa_pid', 'name', 'designation', 'sovereign', 'area_km2', 'establishment_stage', 'protection_level', 'year', 'geometry']].rename(columns={'sovereign': 'location_id', 'wdpa_pid': 'wdpa_id'})\n",
    "\n",
    "# Save as geojson (to keep full names)\n",
    "mpatlas2.to_file(path_out + \"/mpatlas/mpatlas_assess_zone_cleaned.geojson\", driver='GeoJSON')"
   ]
  },
  {
   "cell_type": "code",
   "execution_count": 42,
   "metadata": {},
   "outputs": [],
   "source": [
    "# For those with multiple countries, split them\n",
    "mpatlas_iso = mpatlas2.copy()\n",
    "mpatlas_iso['location_id'] = mpatlas_iso['location_id'].str.split(';')\n",
    "mpatlas_iso = mpatlas_iso.explode('location_id')\n",
    "mpatlas_iso['location_id'] = mpatlas_iso['location_id'].str.split(':')\n",
    "mpatlas_iso = mpatlas_iso.explode('location_id')"
   ]
  },
  {
   "cell_type": "markdown",
   "metadata": {},
   "source": [
    "### Global stats"
   ]
  },
  {
   "cell_type": "code",
   "execution_count": 43,
   "metadata": {},
   "outputs": [],
   "source": [
    "# Calculate global area per protection level\n",
    "prot_global = mpatlas2.groupby('protection_level').agg({'area_km2': 'sum'}).reset_index().rename(columns={'area_km2': 'area'})\n",
    "prot_global['location_id'] = 'GLOB'\n",
    "prot_global['last_updated'] = datetime.now().year"
   ]
  },
  {
   "cell_type": "code",
   "execution_count": 44,
   "metadata": {},
   "outputs": [],
   "source": [
    "# Calculate global area per establishment stage\n",
    "stage_global = mpatlas2.groupby(['establishment_stage']).agg({'area_km2': 'sum'}).reset_index().rename(columns={'area_km2': 'area'})\n",
    "stage_global['location_id'] = 'GLOB'\n",
    "stage_global['last_updated'] = datetime.now().year"
   ]
  },
  {
   "cell_type": "markdown",
   "metadata": {},
   "source": [
    "### Country stats"
   ]
  },
  {
   "cell_type": "code",
   "execution_count": 45,
   "metadata": {},
   "outputs": [],
   "source": [
    "prot_iso = mpatlas_iso.groupby(['location_id', 'protection_level']).agg({'area_km2': 'sum'}).reset_index().rename(columns={'area_km2': 'area'})\n",
    "prot_iso['last_updated'] = datetime.now().year"
   ]
  },
  {
   "cell_type": "code",
   "execution_count": 47,
   "metadata": {},
   "outputs": [],
   "source": [
    "stage_iso = mpatlas_iso.groupby(['location_id', 'establishment_stage']).agg({'area_km2': 'sum'}).reset_index().rename(columns={'area_km2': 'area'})\n",
    "stage_iso['last_updated'] = datetime.now().year"
   ]
  },
  {
   "cell_type": "markdown",
   "metadata": {},
   "source": [
    "### Region stats"
   ]
  },
  {
   "cell_type": "code",
   "execution_count": 49,
   "metadata": {},
   "outputs": [],
   "source": [
    "# List of dictionaries for data in Region_ISO3_PP.txt (list of regions used in the Protected Planet database)\n",
    "regions_data = [\n",
    "    {\n",
    "        'region_iso': 'AS',\n",
    "        'region_name': 'Asia & Pacific',\n",
    "        'country_iso_3s': [\n",
    "            \"AFG\", \"ASM\", \"AUS\", \"BGD\", \"BRN\", \"BTN\", \"CCK\", \"CHN\", \"COK\", \"CXR\", \"FJI\", \"FSM\", \"GUM\", \"HKG\", \"IDN\",\n",
    "            \"IND\", \"IOT\", \"IRN\", \"JPN\", \"KHM\", \"KIR\", \"KOR\", \"LAO\", \"LKA\", \"MAC\", \"MDV\", \"MHL\", \"MMR\", \"MNG\", \"MNP\",\n",
    "            \"MYS\", \"NCL\", \"NFK\", \"NIU\", \"NPL\", \"NRU\", \"NZL\", \"PAK\", \"PCN\", \"PHL\", \"PLW\", \"PNG\", \"PRK\", \"PYF\", \"SGP\",\n",
    "            \"SLB\", \"THA\", \"TKL\", \"TLS\", \"TON\", \"TUV\", \"TWN\", \"VNM\", \"VUT\", \"WLF\", \"WSM\"\n",
    "        ]\n",
    "    },\n",
    "    {\n",
    "        'region_iso': 'AF',\n",
    "        'region_name': 'Africa',\n",
    "        'country_iso_3s': [\n",
    "            \"AGO\", \"BDI\", \"BEN\", \"BFA\", \"BWA\", \"CAF\", \"CIV\", \"CMR\", \"COD\", \"COG\", \"COM\", \"CPV\", \"DJI\", \"DZA\", \"EGY\",\n",
    "            \"ERI\", \"ESH\", \"ETH\", \"GAB\", \"GHA\", \"GIN\", \"GMB\", \"GNB\", \"GNQ\", \"KEN\", \"LBR\", \"LBY\", \"LSO\", \"MAR\", \"MDG\",\n",
    "            \"MLI\", \"MOZ\", \"MRT\", \"MUS\", \"MWI\", \"MYT\", \"NAM\", \"NER\", \"NGA\", \"REU\", \"RWA\", \"SDN\", \"SEN\", \"SHN\", \"SLE\",\n",
    "            \"SOM\", \"SSD\", \"STP\", \"SWZ\", \"SYC\", \"TCD\", \"TGO\", \"TUN\", \"TZA\", \"UGA\", \"ZAF\", \"ZMB\", \"ZWE\"\n",
    "        ]\n",
    "    },\n",
    "    {\n",
    "        'region_iso': 'EU',\n",
    "        'region_name': 'Europe',\n",
    "        'country_iso_3s': [\n",
    "            \"ALA\", \"ALB\", \"AND\", \"ARM\", \"AUT\", \"AZE\", \"BEL\", \"BGR\", \"BIH\", \"BLR\", \"CHE\", \"CYP\", \"CZE\", \"DEU\", \"DNK\",\n",
    "            \"ESP\", \"EST\", \"FIN\", \"FRA\", \"FRO\", \"GBR\", \"GEO\", \"GGY\", \"GIB\", \"GRC\", \"HRV\", \"HUN\", \"IMN\", \"IRL\", \"ISL\",\n",
    "            \"ISR\", \"ITA\", \"JEY\", \"KAZ\", \"KGZ\", \"LIE\", \"LTU\", \"LUX\", \"LVA\", \"MCO\", \"MDA\", \"MKD\", \"MLT\", \"MNE\", \"NLD\",\n",
    "            \"NOR\", \"POL\", \"PRT\", \"ROU\", \"RUS\", \"SJM\", \"SMR\", \"SRB\", \"SVK\", \"SVN\", \"SWE\", \"TJK\", \"TKM\", \"TUR\", \"UKR\",\n",
    "            \"UZB\", \"VAT\"\n",
    "        ]\n",
    "    },\n",
    "    {\n",
    "        'region_iso': 'SA',\n",
    "        'region_name': 'Latin America & Caribbean',\n",
    "        'country_iso_3s': [\n",
    "            \"ABW\", \"AIA\", \"ARG\", \"ATG\", \"BES\", \"BHS\", \"BLM\", \"BLZ\", \"BMU\", \"BOL\", \"BRA\", \"BRB\", \"CHL\", \"COL\", \"CRI\",\n",
    "            \"CUB\", \"CUW\", \"CYM\", \"DMA\", \"DOM\", \"ECU\", \"FLK\", \"GLP\", \"GRD\", \"GTM\", \"GUF\", \"GUY\", \"HND\", \"HTI\", \"JAM\",\n",
    "            \"KNA\", \"LCA\", \"MAF\", \"MEX\", \"MSR\", \"MTQ\", \"NIC\", \"PAN\", \"PER\", \"PRI\", \"PRY\", \"SLV\", \"SUR\", \"SXM\", \"TCA\",\n",
    "            \"TTO\", \"UMI\", \"URY\", \"VCT\", \"VEN\", \"VGB\", \"VIR\"\n",
    "        ]\n",
    "    },\n",
    "    {\n",
    "        'region_iso': 'PO',\n",
    "        'region_name': 'Polar',\n",
    "        'country_iso_3s': [\n",
    "            \"ATF\", \"BVT\", \"GRL\", \"HMD\", \"SGS\"\n",
    "        ]\n",
    "    },\n",
    "    {\n",
    "        'region_iso': 'NA',\n",
    "        'region_name': 'North America',\n",
    "        'country_iso_3s': [\n",
    "            \"CAN\", \"SPM\", \"USA\"\n",
    "        ]\n",
    "    },\n",
    "    {\n",
    "        'region_iso': 'WA',\n",
    "        'region_name': 'West Asia',\n",
    "        'country_iso_3s': [\n",
    "            \"ARE\", \"BHR\", \"IRQ\", \"JOR\", \"KWT\", \"LBN\", \"OMN\", \"PSE\", \"QAT\", \"SAU\", \"SYR\", \"YEM\"\n",
    "        ]\n",
    "    }\n",
    "]\n",
    "\n",
    "# Convert the region data to a dictionary that maps each country to its region name\n",
    "country_to_region = {}\n",
    "for region in regions_data:\n",
    "    for country in region['country_iso_3s']:\n",
    "        country_to_region[country] = region['region_iso']\n",
    "\n",
    "# Add region column to mpatlas_iso\n",
    "mpatlas_iso['regions'] = mpatlas_iso['location_id'].map(country_to_region)"
   ]
  },
  {
   "cell_type": "code",
   "execution_count": 51,
   "metadata": {},
   "outputs": [],
   "source": [
    "# Calculate area per protection level per region\n",
    "prot_region = mpatlas_iso.groupby(['regions', 'protection_level']).agg({'area_km2': 'sum'}).reset_index().rename(columns={'area_km2': 'area', 'regions': 'location_id'})\n",
    "prot_region['last_updated'] = datetime.now().year"
   ]
  },
  {
   "cell_type": "code",
   "execution_count": 53,
   "metadata": {},
   "outputs": [],
   "source": [
    "# Calculate area per establishment stage per region\n",
    "stage_region = mpatlas_iso.groupby(['regions', 'establishment_stage']).agg({'area_km2': 'sum'}).reset_index().rename(columns={'area_km2': 'area', 'regions': 'location_id'})\n",
    "stage_region['last_updated'] = datetime.now().year"
   ]
  },
  {
   "cell_type": "code",
   "execution_count": 54,
   "metadata": {},
   "outputs": [],
   "source": [
    "# Concatenate all dataframes for protection stats and establishment stage stats\n",
    "prot = pd.concat([prot_iso, prot_global, prot_region], ignore_index=True)\n",
    "stage = pd.concat([stage_iso, stage_global, stage_region], ignore_index=True)\n",
    "prot.to_csv(path_out + \"/tables/mpatlas_protection_level.csv\", index=False)\n",
    "stage.to_csv(path_out + \"/tables/mpatlas_establishment_stage.csv\", index=False)"
   ]
  }
 ],
 "metadata": {
  "kernelspec": {
   "display_name": "skytruth",
   "language": "python",
   "name": "python3"
  },
  "language_info": {
   "codemirror_mode": {
    "name": "ipython",
    "version": 3
   },
   "file_extension": ".py",
   "mimetype": "text/x-python",
   "name": "python",
   "nbconvert_exporter": "python",
   "pygments_lexer": "ipython3",
   "version": "3.11.4"
  },
  "orig_nbformat": 4
 },
 "nbformat": 4,
 "nbformat_minor": 2
}
