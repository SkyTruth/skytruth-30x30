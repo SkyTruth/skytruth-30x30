{
 "cells": [
  {
   "cell_type": "code",
   "execution_count": 1,
   "metadata": {},
   "outputs": [],
   "source": [
    "import geopandas as gpd\n",
    "import pandas as pd"
   ]
  },
  {
   "cell_type": "code",
   "execution_count": 2,
   "metadata": {},
   "outputs": [],
   "source": [
    "path_in = \"/Users/sofia/Documents/Repos/skytruth_30x30/data/raw\"\n",
    "path_out = \"/Users/sofia/Documents/Repos/skytruth_30x30/data/processed\""
   ]
  },
  {
   "cell_type": "code",
   "execution_count": 9,
   "metadata": {},
   "outputs": [
    {
     "data": {
      "text/html": [
       "<div>\n",
       "<style scoped>\n",
       "    .dataframe tbody tr th:only-of-type {\n",
       "        vertical-align: middle;\n",
       "    }\n",
       "\n",
       "    .dataframe tbody tr th {\n",
       "        vertical-align: top;\n",
       "    }\n",
       "\n",
       "    .dataframe thead th {\n",
       "        text-align: right;\n",
       "    }\n",
       "</style>\n",
       "<table border=\"1\" class=\"dataframe\">\n",
       "  <thead>\n",
       "    <tr style=\"text-align: right;\">\n",
       "      <th></th>\n",
       "      <th>MRGID</th>\n",
       "      <th>GEONAME</th>\n",
       "      <th>MRGID_TER1</th>\n",
       "      <th>POL_TYPE</th>\n",
       "      <th>MRGID_SOV1</th>\n",
       "      <th>TERRITORY1</th>\n",
       "      <th>ISO_TER1</th>\n",
       "      <th>SOVEREIGN1</th>\n",
       "      <th>MRGID_TER2</th>\n",
       "      <th>MRGID_SOV2</th>\n",
       "      <th>...</th>\n",
       "      <th>ISO_SOV1</th>\n",
       "      <th>ISO_SOV2</th>\n",
       "      <th>ISO_SOV3</th>\n",
       "      <th>UN_SOV1</th>\n",
       "      <th>UN_SOV2</th>\n",
       "      <th>UN_SOV3</th>\n",
       "      <th>UN_TER1</th>\n",
       "      <th>UN_TER2</th>\n",
       "      <th>UN_TER3</th>\n",
       "      <th>geometry</th>\n",
       "    </tr>\n",
       "  </thead>\n",
       "  <tbody>\n",
       "    <tr>\n",
       "      <th>0</th>\n",
       "      <td>8444.0</td>\n",
       "      <td>American Samoa Exclusive Economic Zone</td>\n",
       "      <td>8670.0</td>\n",
       "      <td>200NM</td>\n",
       "      <td>2204.0</td>\n",
       "      <td>American Samoa</td>\n",
       "      <td>ASM</td>\n",
       "      <td>United States</td>\n",
       "      <td>0.0</td>\n",
       "      <td>0.0</td>\n",
       "      <td>...</td>\n",
       "      <td>USA</td>\n",
       "      <td>NaN</td>\n",
       "      <td>NaN</td>\n",
       "      <td>840</td>\n",
       "      <td>NaN</td>\n",
       "      <td>NaN</td>\n",
       "      <td>16.0</td>\n",
       "      <td>NaN</td>\n",
       "      <td>NaN</td>\n",
       "      <td>POLYGON ((-166.64112 -17.55527, -166.64194 -17...</td>\n",
       "    </tr>\n",
       "  </tbody>\n",
       "</table>\n",
       "<p>1 rows × 32 columns</p>\n",
       "</div>"
      ],
      "text/plain": [
       "    MRGID                                 GEONAME  MRGID_TER1 POL_TYPE  \\\n",
       "0  8444.0  American Samoa Exclusive Economic Zone      8670.0    200NM   \n",
       "\n",
       "   MRGID_SOV1      TERRITORY1 ISO_TER1     SOVEREIGN1  MRGID_TER2  MRGID_SOV2  \\\n",
       "0      2204.0  American Samoa      ASM  United States         0.0         0.0   \n",
       "\n",
       "   ... ISO_SOV1 ISO_SOV2 ISO_SOV3  UN_SOV1  UN_SOV2 UN_SOV3 UN_TER1 UN_TER2  \\\n",
       "0  ...      USA      NaN      NaN      840      NaN     NaN    16.0     NaN   \n",
       "\n",
       "   UN_TER3                                           geometry  \n",
       "0      NaN  POLYGON ((-166.64112 -17.55527, -166.64194 -17...  \n",
       "\n",
       "[1 rows x 32 columns]"
      ]
     },
     "execution_count": 9,
     "metadata": {},
     "output_type": "execute_result"
    }
   ],
   "source": [
    "eez = gpd.read_file(path_in + \"/World_EEZ_v11_20191118/eez_v11.shp\")\n",
    "eez.head(1)"
   ]
  },
  {
   "cell_type": "code",
   "execution_count": 4,
   "metadata": {},
   "outputs": [
    {
     "data": {
      "text/plain": [
       "Index(['MRGID', 'GEONAME', 'MRGID_TER1', 'POL_TYPE', 'MRGID_SOV1',\n",
       "       'TERRITORY1', 'ISO_TER1', 'SOVEREIGN1', 'MRGID_TER2', 'MRGID_SOV2',\n",
       "       'TERRITORY2', 'ISO_TER2', 'SOVEREIGN2', 'MRGID_TER3', 'MRGID_SOV3',\n",
       "       'TERRITORY3', 'ISO_TER3', 'SOVEREIGN3', 'X_1', 'Y_1', 'MRGID_EEZ',\n",
       "       'AREA_KM2', 'ISO_SOV1', 'ISO_SOV2', 'ISO_SOV3', 'UN_SOV1', 'UN_SOV2',\n",
       "       'UN_SOV3', 'UN_TER1', 'UN_TER2', 'UN_TER3', 'geometry'],\n",
       "      dtype='object')"
      ]
     },
     "execution_count": 4,
     "metadata": {},
     "output_type": "execute_result"
    }
   ],
   "source": [
    "eez.columns"
   ]
  },
  {
   "cell_type": "code",
   "execution_count": 5,
   "metadata": {},
   "outputs": [
    {
     "data": {
      "text/plain": [
       "<Geographic 2D CRS: EPSG:4326>\n",
       "Name: WGS 84\n",
       "Axis Info [ellipsoidal]:\n",
       "- Lat[north]: Geodetic latitude (degree)\n",
       "- Lon[east]: Geodetic longitude (degree)\n",
       "Area of Use:\n",
       "- name: World.\n",
       "- bounds: (-180.0, -90.0, 180.0, 90.0)\n",
       "Datum: World Geodetic System 1984 ensemble\n",
       "- Ellipsoid: WGS 84\n",
       "- Prime Meridian: Greenwich"
      ]
     },
     "execution_count": 5,
     "metadata": {},
     "output_type": "execute_result"
    }
   ],
   "source": [
    "eez.crs"
   ]
  },
  {
   "cell_type": "code",
   "execution_count": 45,
   "metadata": {},
   "outputs": [],
   "source": [
    "# Check if eez geometries are valid\n",
    "sum(eez.geometry.is_valid)"
   ]
  },
  {
   "cell_type": "code",
   "execution_count": 10,
   "metadata": {},
   "outputs": [
    {
     "data": {
      "text/html": [
       "<div>\n",
       "<style scoped>\n",
       "    .dataframe tbody tr th:only-of-type {\n",
       "        vertical-align: middle;\n",
       "    }\n",
       "\n",
       "    .dataframe tbody tr th {\n",
       "        vertical-align: top;\n",
       "    }\n",
       "\n",
       "    .dataframe thead th {\n",
       "        text-align: right;\n",
       "    }\n",
       "</style>\n",
       "<table border=\"1\" class=\"dataframe\">\n",
       "  <thead>\n",
       "    <tr style=\"text-align: right;\">\n",
       "      <th></th>\n",
       "      <th>MRGID</th>\n",
       "      <th>GEONAME</th>\n",
       "      <th>MRGID_TER1</th>\n",
       "      <th>POL_TYPE</th>\n",
       "      <th>MRGID_SOV1</th>\n",
       "      <th>TERRITORY1</th>\n",
       "      <th>ISO_TER1</th>\n",
       "      <th>SOVEREIGN1</th>\n",
       "      <th>MRGID_TER2</th>\n",
       "      <th>MRGID_SOV2</th>\n",
       "      <th>...</th>\n",
       "      <th>ISO_SOV1</th>\n",
       "      <th>ISO_SOV2</th>\n",
       "      <th>ISO_SOV3</th>\n",
       "      <th>UN_SOV1</th>\n",
       "      <th>UN_SOV2</th>\n",
       "      <th>UN_SOV3</th>\n",
       "      <th>UN_TER1</th>\n",
       "      <th>UN_TER2</th>\n",
       "      <th>UN_TER3</th>\n",
       "      <th>geometry</th>\n",
       "    </tr>\n",
       "  </thead>\n",
       "  <tbody>\n",
       "    <tr>\n",
       "      <th>0</th>\n",
       "      <td>8444.0</td>\n",
       "      <td>American Samoa Exclusive Economic Zone</td>\n",
       "      <td>8670.0</td>\n",
       "      <td>200NM</td>\n",
       "      <td>2204.0</td>\n",
       "      <td>American Samoa</td>\n",
       "      <td>ASM</td>\n",
       "      <td>United States</td>\n",
       "      <td>0.0</td>\n",
       "      <td>0.0</td>\n",
       "      <td>...</td>\n",
       "      <td>USA</td>\n",
       "      <td>NaN</td>\n",
       "      <td>NaN</td>\n",
       "      <td>840</td>\n",
       "      <td>NaN</td>\n",
       "      <td>NaN</td>\n",
       "      <td>16.0</td>\n",
       "      <td>NaN</td>\n",
       "      <td>NaN</td>\n",
       "      <td>POLYGON ((-16216412.543 -2157569.856, -1621650...</td>\n",
       "    </tr>\n",
       "    <tr>\n",
       "      <th>1</th>\n",
       "      <td>8379.0</td>\n",
       "      <td>Ascension Exclusive Economic Zone</td>\n",
       "      <td>8620.0</td>\n",
       "      <td>200NM</td>\n",
       "      <td>2208.0</td>\n",
       "      <td>Ascension</td>\n",
       "      <td>SHN</td>\n",
       "      <td>United Kingdom</td>\n",
       "      <td>0.0</td>\n",
       "      <td>0.0</td>\n",
       "      <td>...</td>\n",
       "      <td>GBR</td>\n",
       "      <td>NaN</td>\n",
       "      <td>NaN</td>\n",
       "      <td>826</td>\n",
       "      <td>NaN</td>\n",
       "      <td>NaN</td>\n",
       "      <td>654.0</td>\n",
       "      <td>NaN</td>\n",
       "      <td>NaN</td>\n",
       "      <td>POLYGON ((-1089355.142 -974062.004, -1089348.4...</td>\n",
       "    </tr>\n",
       "    <tr>\n",
       "      <th>2</th>\n",
       "      <td>8446.0</td>\n",
       "      <td>Cook Islands Exclusive Economic Zone</td>\n",
       "      <td>8672.0</td>\n",
       "      <td>200NM</td>\n",
       "      <td>2227.0</td>\n",
       "      <td>Cook Islands</td>\n",
       "      <td>COK</td>\n",
       "      <td>New Zealand</td>\n",
       "      <td>0.0</td>\n",
       "      <td>0.0</td>\n",
       "      <td>...</td>\n",
       "      <td>NZL</td>\n",
       "      <td>NaN</td>\n",
       "      <td>NaN</td>\n",
       "      <td>554</td>\n",
       "      <td>NaN</td>\n",
       "      <td>NaN</td>\n",
       "      <td>184.0</td>\n",
       "      <td>NaN</td>\n",
       "      <td>NaN</td>\n",
       "      <td>POLYGON ((-15912583.852 -716733.193, -15813064...</td>\n",
       "    </tr>\n",
       "    <tr>\n",
       "      <th>3</th>\n",
       "      <td>8389.0</td>\n",
       "      <td>Overlapping claim Falkland / Malvinas Islands:...</td>\n",
       "      <td>8623.0</td>\n",
       "      <td>Overlapping claim</td>\n",
       "      <td>2208.0</td>\n",
       "      <td>Falkland / Malvinas Islands</td>\n",
       "      <td>FLK</td>\n",
       "      <td>United Kingdom</td>\n",
       "      <td>8623.0</td>\n",
       "      <td>2149.0</td>\n",
       "      <td>...</td>\n",
       "      <td>GBR</td>\n",
       "      <td>ARG</td>\n",
       "      <td>NaN</td>\n",
       "      <td>826</td>\n",
       "      <td>32.0</td>\n",
       "      <td>NaN</td>\n",
       "      <td>238.0</td>\n",
       "      <td>238.0</td>\n",
       "      <td>NaN</td>\n",
       "      <td>POLYGON ((-4061728.309 -6509190.466, -4443979....</td>\n",
       "    </tr>\n",
       "    <tr>\n",
       "      <th>4</th>\n",
       "      <td>8440.0</td>\n",
       "      <td>French Polynesian Exclusive Economic Zone</td>\n",
       "      <td>8656.0</td>\n",
       "      <td>200NM</td>\n",
       "      <td>17.0</td>\n",
       "      <td>French Polynesia</td>\n",
       "      <td>PYF</td>\n",
       "      <td>France</td>\n",
       "      <td>0.0</td>\n",
       "      <td>0.0</td>\n",
       "      <td>...</td>\n",
       "      <td>FRA</td>\n",
       "      <td>NaN</td>\n",
       "      <td>NaN</td>\n",
       "      <td>250</td>\n",
       "      <td>NaN</td>\n",
       "      <td>NaN</td>\n",
       "      <td>258.0</td>\n",
       "      <td>NaN</td>\n",
       "      <td>NaN</td>\n",
       "      <td>MULTIPOLYGON (((-13543804.433 -974376.651, -13...</td>\n",
       "    </tr>\n",
       "  </tbody>\n",
       "</table>\n",
       "<p>5 rows × 32 columns</p>\n",
       "</div>"
      ],
      "text/plain": [
       "    MRGID                                            GEONAME  MRGID_TER1  \\\n",
       "0  8444.0             American Samoa Exclusive Economic Zone      8670.0   \n",
       "1  8379.0                  Ascension Exclusive Economic Zone      8620.0   \n",
       "2  8446.0               Cook Islands Exclusive Economic Zone      8672.0   \n",
       "3  8389.0  Overlapping claim Falkland / Malvinas Islands:...      8623.0   \n",
       "4  8440.0          French Polynesian Exclusive Economic Zone      8656.0   \n",
       "\n",
       "            POL_TYPE  MRGID_SOV1                   TERRITORY1 ISO_TER1  \\\n",
       "0              200NM      2204.0               American Samoa      ASM   \n",
       "1              200NM      2208.0                    Ascension      SHN   \n",
       "2              200NM      2227.0                 Cook Islands      COK   \n",
       "3  Overlapping claim      2208.0  Falkland / Malvinas Islands      FLK   \n",
       "4              200NM        17.0             French Polynesia      PYF   \n",
       "\n",
       "       SOVEREIGN1  MRGID_TER2  MRGID_SOV2  ... ISO_SOV1 ISO_SOV2 ISO_SOV3  \\\n",
       "0   United States         0.0         0.0  ...      USA      NaN      NaN   \n",
       "1  United Kingdom         0.0         0.0  ...      GBR      NaN      NaN   \n",
       "2     New Zealand         0.0         0.0  ...      NZL      NaN      NaN   \n",
       "3  United Kingdom      8623.0      2149.0  ...      GBR      ARG      NaN   \n",
       "4          France         0.0         0.0  ...      FRA      NaN      NaN   \n",
       "\n",
       "   UN_SOV1  UN_SOV2 UN_SOV3 UN_TER1 UN_TER2  UN_TER3  \\\n",
       "0      840      NaN     NaN    16.0     NaN      NaN   \n",
       "1      826      NaN     NaN   654.0     NaN      NaN   \n",
       "2      554      NaN     NaN   184.0     NaN      NaN   \n",
       "3      826     32.0     NaN   238.0   238.0      NaN   \n",
       "4      250      NaN     NaN   258.0     NaN      NaN   \n",
       "\n",
       "                                            geometry  \n",
       "0  POLYGON ((-16216412.543 -2157569.856, -1621650...  \n",
       "1  POLYGON ((-1089355.142 -974062.004, -1089348.4...  \n",
       "2  POLYGON ((-15912583.852 -716733.193, -15813064...  \n",
       "3  POLYGON ((-4061728.309 -6509190.466, -4443979....  \n",
       "4  MULTIPOLYGON (((-13543804.433 -974376.651, -13...  \n",
       "\n",
       "[5 rows x 32 columns]"
      ]
     },
     "execution_count": 10,
     "metadata": {},
     "output_type": "execute_result"
    }
   ],
   "source": [
    "eez = eez.to_crs('ESRI:54009')\n",
    "eez['AREA_KM2']= eez.geometry.area/ 1000000\n",
    "eez.head(5)"
   ]
  },
  {
   "cell_type": "code",
   "execution_count": 11,
   "metadata": {},
   "outputs": [],
   "source": [
    "eez.to_file(path_out + \"/administrative/eez_area_mollweide.shp\", driver=\"ESRI Shapefile\")"
   ]
  },
  {
   "cell_type": "code",
   "execution_count": 13,
   "metadata": {},
   "outputs": [
    {
     "name": "stdout",
     "output_type": "stream",
     "text": [
      "Allocating 16 GB of heap memory\n",
      "[o] Wrote /Users/sofia/Documents/Repos/skytruth_30x30/data/processed/administrative/eez_area_mollweide.shp\n",
      "[o] Wrote /Users/sofia/Documents/Repos/skytruth_30x30/data/processed/administrative/eez_area_mollweide.shx\n",
      "[o] Wrote /Users/sofia/Documents/Repos/skytruth_30x30/data/processed/administrative/eez_area_mollweide.dbf\n",
      "[o] Wrote /Users/sofia/Documents/Repos/skytruth_30x30/data/processed/administrative/eez_area_mollweide.prj\n"
     ]
    }
   ],
   "source": [
    "# Reproject to 4626\n",
    "!mapshaper-xl 16gb /Users/sofia/Documents/Repos/skytruth_30x30/data/processed/administrative/eez_area_mollweide.shp -proj EPSG:4326 -o force /Users/sofia/Documents/Repos/skytruth_30x30/data/processed/administrative/eez_area_mollweide.shp"
   ]
  },
  {
   "cell_type": "code",
   "execution_count": 15,
   "metadata": {},
   "outputs": [],
   "source": [
    "# List of dictionaries for data in Region_ISO3_PP.txt (list of regions used in the Protected Planet database)\n",
    "regions_data = [\n",
    "    {\n",
    "        'region_iso': 'AS',\n",
    "        'region_name': 'Asia & Pacific',\n",
    "        'country_iso_3s': [\n",
    "            \"AFG\", \"ASM\", \"AUS\", \"BGD\", \"BRN\", \"BTN\", \"CCK\", \"CHN\", \"COK\", \"CXR\", \"FJI\", \"FSM\", \"GUM\", \"HKG\", \"IDN\",\n",
    "            \"IND\", \"IOT\", \"IRN\", \"JPN\", \"KHM\", \"KIR\", \"KOR\", \"LAO\", \"LKA\", \"MAC\", \"MDV\", \"MHL\", \"MMR\", \"MNG\", \"MNP\",\n",
    "            \"MYS\", \"NCL\", \"NFK\", \"NIU\", \"NPL\", \"NRU\", \"NZL\", \"PAK\", \"PCN\", \"PHL\", \"PLW\", \"PNG\", \"PRK\", \"PYF\", \"SGP\",\n",
    "            \"SLB\", \"THA\", \"TKL\", \"TLS\", \"TON\", \"TUV\", \"TWN\", \"VNM\", \"VUT\", \"WLF\", \"WSM\"\n",
    "        ]\n",
    "    },\n",
    "    {\n",
    "        'region_iso': 'AF',\n",
    "        'region_name': 'Africa',\n",
    "        'country_iso_3s': [\n",
    "            \"AGO\", \"BDI\", \"BEN\", \"BFA\", \"BWA\", \"CAF\", \"CIV\", \"CMR\", \"COD\", \"COG\", \"COM\", \"CPV\", \"DJI\", \"DZA\", \"EGY\",\n",
    "            \"ERI\", \"ESH\", \"ETH\", \"GAB\", \"GHA\", \"GIN\", \"GMB\", \"GNB\", \"GNQ\", \"KEN\", \"LBR\", \"LBY\", \"LSO\", \"MAR\", \"MDG\",\n",
    "            \"MLI\", \"MOZ\", \"MRT\", \"MUS\", \"MWI\", \"MYT\", \"NAM\", \"NER\", \"NGA\", \"REU\", \"RWA\", \"SDN\", \"SEN\", \"SHN\", \"SLE\",\n",
    "            \"SOM\", \"SSD\", \"STP\", \"SWZ\", \"SYC\", \"TCD\", \"TGO\", \"TUN\", \"TZA\", \"UGA\", \"ZAF\", \"ZMB\", \"ZWE\"\n",
    "        ]\n",
    "    },\n",
    "    {\n",
    "        'region_iso': 'EU',\n",
    "        'region_name': 'Europe',\n",
    "        'country_iso_3s': [\n",
    "            \"ALA\", \"ALB\", \"AND\", \"ARM\", \"AUT\", \"AZE\", \"BEL\", \"BGR\", \"BIH\", \"BLR\", \"CHE\", \"CYP\", \"CZE\", \"DEU\", \"DNK\",\n",
    "            \"ESP\", \"EST\", \"FIN\", \"FRA\", \"FRO\", \"GBR\", \"GEO\", \"GGY\", \"GIB\", \"GRC\", \"HRV\", \"HUN\", \"IMN\", \"IRL\", \"ISL\",\n",
    "            \"ISR\", \"ITA\", \"JEY\", \"KAZ\", \"KGZ\", \"LIE\", \"LTU\", \"LUX\", \"LVA\", \"MCO\", \"MDA\", \"MKD\", \"MLT\", \"MNE\", \"NLD\",\n",
    "            \"NOR\", \"POL\", \"PRT\", \"ROU\", \"RUS\", \"SJM\", \"SMR\", \"SRB\", \"SVK\", \"SVN\", \"SWE\", \"TJK\", \"TKM\", \"TUR\", \"UKR\",\n",
    "            \"UZB\", \"VAT\"\n",
    "        ]\n",
    "    },\n",
    "    {\n",
    "        'region_iso': 'SA',\n",
    "        'region_name': 'Latin America & Caribbean',\n",
    "        'country_iso_3s': [\n",
    "            \"ABW\", \"AIA\", \"ARG\", \"ATG\", \"BES\", \"BHS\", \"BLM\", \"BLZ\", \"BMU\", \"BOL\", \"BRA\", \"BRB\", \"CHL\", \"COL\", \"CRI\",\n",
    "            \"CUB\", \"CUW\", \"CYM\", \"DMA\", \"DOM\", \"ECU\", \"FLK\", \"GLP\", \"GRD\", \"GTM\", \"GUF\", \"GUY\", \"HND\", \"HTI\", \"JAM\",\n",
    "            \"KNA\", \"LCA\", \"MAF\", \"MEX\", \"MSR\", \"MTQ\", \"NIC\", \"PAN\", \"PER\", \"PRI\", \"PRY\", \"SLV\", \"SUR\", \"SXM\", \"TCA\",\n",
    "            \"TTO\", \"UMI\", \"URY\", \"VCT\", \"VEN\", \"VGB\", \"VIR\"\n",
    "        ]\n",
    "    },\n",
    "    {\n",
    "        'region_iso': 'PO',\n",
    "        'region_name': 'Polar',\n",
    "        'country_iso_3s': [\n",
    "            \"ATF\", \"BVT\", \"GRL\", \"HMD\", \"SGS\"\n",
    "        ]\n",
    "    },\n",
    "    {\n",
    "        'region_iso': 'NA',\n",
    "        'region_name': 'North America',\n",
    "        'country_iso_3s': [\n",
    "            \"CAN\", \"SPM\", \"USA\"\n",
    "        ]\n",
    "    },\n",
    "    {\n",
    "        'region_iso': 'GL',\n",
    "        'region_name': 'Global',\n",
    "        'country_iso_3s': []\n",
    "    },\n",
    "    {\n",
    "        'region_iso': 'WA',\n",
    "        'region_name': 'West Asia',\n",
    "        'country_iso_3s': [\n",
    "            \"ARE\", \"BHR\", \"IRQ\", \"JOR\", \"KWT\", \"LBN\", \"OMN\", \"PSE\", \"QAT\", \"SAU\", \"SYR\", \"YEM\"\n",
    "        ]\n",
    "    }\n",
    "]\n",
    "\n",
    "# Convert the region data to a dictionary that maps each country to its region name\n",
    "country_to_region = {}\n",
    "for region in regions_data:\n",
    "    for country in region['country_iso_3s']:\n",
    "        country_to_region[country] = region['region_name']"
   ]
  },
  {
   "cell_type": "code",
   "execution_count": 16,
   "metadata": {},
   "outputs": [
    {
     "data": {
      "text/html": [
       "<div>\n",
       "<style scoped>\n",
       "    .dataframe tbody tr th:only-of-type {\n",
       "        vertical-align: middle;\n",
       "    }\n",
       "\n",
       "    .dataframe tbody tr th {\n",
       "        vertical-align: top;\n",
       "    }\n",
       "\n",
       "    .dataframe thead th {\n",
       "        text-align: right;\n",
       "    }\n",
       "</style>\n",
       "<table border=\"1\" class=\"dataframe\">\n",
       "  <thead>\n",
       "    <tr style=\"text-align: right;\">\n",
       "      <th></th>\n",
       "      <th>MRGID</th>\n",
       "      <th>GEONAME</th>\n",
       "      <th>MRGID_TER1</th>\n",
       "      <th>POL_TYPE</th>\n",
       "      <th>MRGID_SOV1</th>\n",
       "      <th>TERRITORY1</th>\n",
       "      <th>ISO_TER1</th>\n",
       "      <th>SOVEREIGN1</th>\n",
       "      <th>MRGID_TER2</th>\n",
       "      <th>MRGID_SOV2</th>\n",
       "      <th>...</th>\n",
       "      <th>ISO_SOV2</th>\n",
       "      <th>ISO_SOV3</th>\n",
       "      <th>UN_SOV1</th>\n",
       "      <th>UN_SOV2</th>\n",
       "      <th>UN_SOV3</th>\n",
       "      <th>UN_TER1</th>\n",
       "      <th>UN_TER2</th>\n",
       "      <th>UN_TER3</th>\n",
       "      <th>geometry</th>\n",
       "      <th>REGIONS</th>\n",
       "    </tr>\n",
       "  </thead>\n",
       "  <tbody>\n",
       "    <tr>\n",
       "      <th>0</th>\n",
       "      <td>8444.0</td>\n",
       "      <td>American Samoa Exclusive Economic Zone</td>\n",
       "      <td>8670.0</td>\n",
       "      <td>200NM</td>\n",
       "      <td>2204.0</td>\n",
       "      <td>American Samoa</td>\n",
       "      <td>ASM</td>\n",
       "      <td>United States</td>\n",
       "      <td>0.0</td>\n",
       "      <td>0.0</td>\n",
       "      <td>...</td>\n",
       "      <td>NaN</td>\n",
       "      <td>NaN</td>\n",
       "      <td>840</td>\n",
       "      <td>NaN</td>\n",
       "      <td>NaN</td>\n",
       "      <td>16.0</td>\n",
       "      <td>NaN</td>\n",
       "      <td>NaN</td>\n",
       "      <td>POLYGON ((-16216412.543 -2157569.856, -1621650...</td>\n",
       "      <td>North America</td>\n",
       "    </tr>\n",
       "    <tr>\n",
       "      <th>1</th>\n",
       "      <td>8379.0</td>\n",
       "      <td>Ascension Exclusive Economic Zone</td>\n",
       "      <td>8620.0</td>\n",
       "      <td>200NM</td>\n",
       "      <td>2208.0</td>\n",
       "      <td>Ascension</td>\n",
       "      <td>SHN</td>\n",
       "      <td>United Kingdom</td>\n",
       "      <td>0.0</td>\n",
       "      <td>0.0</td>\n",
       "      <td>...</td>\n",
       "      <td>NaN</td>\n",
       "      <td>NaN</td>\n",
       "      <td>826</td>\n",
       "      <td>NaN</td>\n",
       "      <td>NaN</td>\n",
       "      <td>654.0</td>\n",
       "      <td>NaN</td>\n",
       "      <td>NaN</td>\n",
       "      <td>POLYGON ((-1089355.142 -974062.004, -1089348.4...</td>\n",
       "      <td>Europe</td>\n",
       "    </tr>\n",
       "  </tbody>\n",
       "</table>\n",
       "<p>2 rows × 33 columns</p>\n",
       "</div>"
      ],
      "text/plain": [
       "    MRGID                                 GEONAME  MRGID_TER1 POL_TYPE  \\\n",
       "0  8444.0  American Samoa Exclusive Economic Zone      8670.0    200NM   \n",
       "1  8379.0       Ascension Exclusive Economic Zone      8620.0    200NM   \n",
       "\n",
       "   MRGID_SOV1      TERRITORY1 ISO_TER1      SOVEREIGN1  MRGID_TER2  \\\n",
       "0      2204.0  American Samoa      ASM   United States         0.0   \n",
       "1      2208.0       Ascension      SHN  United Kingdom         0.0   \n",
       "\n",
       "   MRGID_SOV2  ... ISO_SOV2 ISO_SOV3 UN_SOV1  UN_SOV2  UN_SOV3 UN_TER1  \\\n",
       "0         0.0  ...      NaN      NaN     840      NaN      NaN    16.0   \n",
       "1         0.0  ...      NaN      NaN     826      NaN      NaN   654.0   \n",
       "\n",
       "  UN_TER2 UN_TER3                                           geometry  \\\n",
       "0     NaN     NaN  POLYGON ((-16216412.543 -2157569.856, -1621650...   \n",
       "1     NaN     NaN  POLYGON ((-1089355.142 -974062.004, -1089348.4...   \n",
       "\n",
       "         REGIONS  \n",
       "0  North America  \n",
       "1         Europe  \n",
       "\n",
       "[2 rows x 33 columns]"
      ]
     },
     "execution_count": 16,
     "metadata": {},
     "output_type": "execute_result"
    }
   ],
   "source": [
    "eez['REGIONS'] = eez['ISO_SOV1'].map(country_to_region)\n",
    "eez.head(2)"
   ]
  },
  {
   "cell_type": "code",
   "execution_count": 19,
   "metadata": {},
   "outputs": [],
   "source": [
    "eez.to_file(path_out + \"/administrative/eez_mollweide_regions.shp\", driver=\"ESRI Shapefile\")"
   ]
  },
  {
   "cell_type": "code",
   "execution_count": 18,
   "metadata": {},
   "outputs": [
    {
     "data": {
      "text/plain": [
       "array(['North America', 'Europe', 'Asia & Pacific',\n",
       "       'Latin America & Caribbean', 'Africa', 'West Asia', nan],\n",
       "      dtype=object)"
      ]
     },
     "execution_count": 18,
     "metadata": {},
     "output_type": "execute_result"
    }
   ],
   "source": [
    "eez['REGIONS'].unique()"
   ]
  },
  {
   "cell_type": "code",
   "execution_count": 20,
   "metadata": {},
   "outputs": [
    {
     "name": "stdout",
     "output_type": "stream",
     "text": [
      "Allocating 16 GB of heap memory\n",
      "[dissolve2] Removed 127,740 / 218,614 slivers using 0.033+ sqkm variable threshold\n",
      "[dissolve2] Dissolved 281 features into 7 features\n",
      "[explode] Exploded 7 features into 83 features\n",
      "[o] Wrote /Users/sofia/Documents/Repos/skytruth_30x30/data/processed/administrative/eez_regions.shp\n",
      "[o] Wrote /Users/sofia/Documents/Repos/skytruth_30x30/data/processed/administrative/eez_regions.shx\n",
      "[o] Wrote /Users/sofia/Documents/Repos/skytruth_30x30/data/processed/administrative/eez_regions.dbf\n",
      "[o] Wrote /Users/sofia/Documents/Repos/skytruth_30x30/data/processed/administrative/eez_regions.prj\n"
     ]
    }
   ],
   "source": [
    "# Dissolve by relevant fields: REGIONS\n",
    "!mapshaper-xl 16gb /Users/sofia/Documents/Repos/skytruth_30x30/data/processed/administrative/eez_mollweide_regions.shp -dissolve2 fields=REGIONS -explode -o /Users/sofia/Documents/Repos/skytruth_30x30/data/processed/administrative/eez_regions.shp"
   ]
  },
  {
   "cell_type": "code",
   "execution_count": 21,
   "metadata": {},
   "outputs": [
    {
     "data": {
      "text/html": [
       "<div>\n",
       "<style scoped>\n",
       "    .dataframe tbody tr th:only-of-type {\n",
       "        vertical-align: middle;\n",
       "    }\n",
       "\n",
       "    .dataframe tbody tr th {\n",
       "        vertical-align: top;\n",
       "    }\n",
       "\n",
       "    .dataframe thead th {\n",
       "        text-align: right;\n",
       "    }\n",
       "</style>\n",
       "<table border=\"1\" class=\"dataframe\">\n",
       "  <thead>\n",
       "    <tr style=\"text-align: right;\">\n",
       "      <th></th>\n",
       "      <th>REGIONS</th>\n",
       "      <th>geometry</th>\n",
       "    </tr>\n",
       "  </thead>\n",
       "  <tbody>\n",
       "    <tr>\n",
       "      <th>0</th>\n",
       "      <td>North America</td>\n",
       "      <td>POLYGON ((-16216412.543 -2157569.856, -1621650...</td>\n",
       "    </tr>\n",
       "    <tr>\n",
       "      <th>1</th>\n",
       "      <td>North America</td>\n",
       "      <td>POLYGON ((-15875617.974 972834.674, -15887321....</td>\n",
       "    </tr>\n",
       "  </tbody>\n",
       "</table>\n",
       "</div>"
      ],
      "text/plain": [
       "         REGIONS                                           geometry\n",
       "0  North America  POLYGON ((-16216412.543 -2157569.856, -1621650...\n",
       "1  North America  POLYGON ((-15875617.974 972834.674, -15887321...."
      ]
     },
     "execution_count": 21,
     "metadata": {},
     "output_type": "execute_result"
    }
   ],
   "source": [
    "regions = gpd.read_file(path_out + \"/administrative/eez_regions.shp\", driver=\"ESRI Shapefile\")\n",
    "regions.head(2)"
   ]
  },
  {
   "cell_type": "code",
   "execution_count": 22,
   "metadata": {},
   "outputs": [
    {
     "data": {
      "text/plain": [
       "<Projected CRS: ESRI:54009>\n",
       "Name: World_Mollweide\n",
       "Axis Info [cartesian]:\n",
       "- [east]: Easting (metre)\n",
       "- [north]: Northing (metre)\n",
       "Area of Use:\n",
       "- undefined\n",
       "Coordinate Operation:\n",
       "- name: unnamed\n",
       "- method: Mollweide\n",
       "Datum: World Geodetic System 1984\n",
       "- Ellipsoid: WGS 84\n",
       "- Prime Meridian: Greenwich"
      ]
     },
     "execution_count": 22,
     "metadata": {},
     "output_type": "execute_result"
    }
   ],
   "source": [
    "regions.crs"
   ]
  },
  {
   "cell_type": "code",
   "execution_count": 23,
   "metadata": {},
   "outputs": [
    {
     "data": {
      "text/plain": [
       "array(['North America', 'Europe', 'Asia & Pacific',\n",
       "       'Latin America & Caribbean', 'Africa', 'West Asia', nan],\n",
       "      dtype=object)"
      ]
     },
     "execution_count": 23,
     "metadata": {},
     "output_type": "execute_result"
    }
   ],
   "source": [
    "regions['REGIONS'].unique()"
   ]
  },
  {
   "cell_type": "code",
   "execution_count": 24,
   "metadata": {},
   "outputs": [
    {
     "name": "stderr",
     "output_type": "stream",
     "text": [
      "/var/folders/98/0pdnjc5s29x2pnzl293pw7hr0000gn/T/ipykernel_27590/1686611470.py:1: SettingWithCopyWarning: \n",
      "A value is trying to be set on a copy of a slice from a DataFrame\n",
      "\n",
      "See the caveats in the documentation: https://pandas.pydata.org/pandas-docs/stable/user_guide/indexing.html#returning-a-view-versus-a-copy\n",
      "  regions['REGIONS'][regions['REGIONS'].isna()] = 'Antartic'\n"
     ]
    }
   ],
   "source": [
    "regions['REGIONS'][regions['REGIONS'].isna()] = 'Antartica'"
   ]
  },
  {
   "cell_type": "code",
   "execution_count": 28,
   "metadata": {},
   "outputs": [],
   "source": [
    "# Calculate area of each region\n",
    "regions['AREA_KM2']= regions.geometry.area/ 1000000"
   ]
  },
  {
   "cell_type": "code",
   "execution_count": 29,
   "metadata": {},
   "outputs": [],
   "source": [
    "regions.to_file(path_out + \"/administrative/eez_regions.shp\", driver=\"ESRI Shapefile\")"
   ]
  },
  {
   "cell_type": "code",
   "execution_count": 30,
   "metadata": {},
   "outputs": [
    {
     "name": "stdout",
     "output_type": "stream",
     "text": [
      "Allocating 16 GB of heap memory\n",
      "[o] Wrote /Users/sofia/Documents/Repos/skytruth_30x30/data/processed/administrative/eez_regions.shp\n",
      "[o] Wrote /Users/sofia/Documents/Repos/skytruth_30x30/data/processed/administrative/eez_regions.shx\n",
      "[o] Wrote /Users/sofia/Documents/Repos/skytruth_30x30/data/processed/administrative/eez_regions.dbf\n",
      "[o] Wrote /Users/sofia/Documents/Repos/skytruth_30x30/data/processed/administrative/eez_regions.prj\n"
     ]
    }
   ],
   "source": [
    "# Reproject to 4626\n",
    "!mapshaper-xl 16gb /Users/sofia/Documents/Repos/skytruth_30x30/data/processed/administrative/eez_regions.shp -proj EPSG:4326 -o force /Users/sofia/Documents/Repos/skytruth_30x30/data/processed/administrative/eez_regions.shp"
   ]
  },
  {
   "cell_type": "code",
   "execution_count": 32,
   "metadata": {},
   "outputs": [
    {
     "data": {
      "text/plain": [
       "array(['North America', 'Europe', 'Asia & Pacific',\n",
       "       'Latin America & Caribbean', 'Africa', 'West Asia', 'Antarctica'],\n",
       "      dtype=object)"
      ]
     },
     "execution_count": 32,
     "metadata": {},
     "output_type": "execute_result"
    }
   ],
   "source": [
    "regions['REGIONS'].unique()"
   ]
  }
 ],
 "metadata": {
  "kernelspec": {
   "display_name": "skytruth",
   "language": "python",
   "name": "python3"
  },
  "language_info": {
   "codemirror_mode": {
    "name": "ipython",
    "version": 3
   },
   "file_extension": ".py",
   "mimetype": "text/x-python",
   "name": "python",
   "nbconvert_exporter": "python",
   "pygments_lexer": "ipython3",
   "version": "3.11.4"
  },
  "orig_nbformat": 4
 },
 "nbformat": 4,
 "nbformat_minor": 2
}
