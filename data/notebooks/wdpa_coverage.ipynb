{
 "cells": [
  {
   "cell_type": "markdown",
   "metadata": {},
   "source": [
    "## Method used to calculate global protected areas and OECM coverage\n",
    "\n",
    "The protected area coverage is calculated (from WDPA [methodolgy](https://www.protectedplanet.net/en/resources/calculating-protected-area-coverage)):\n",
    "\n",
    "1. Start with the latest WDPA monthly release\n",
    "2. The WDPA is filtered to exclude records with the characteristics listed in Section 2\n",
    "3. A buffer is created around protected areas reported as points using their Reported Area. There are important caveats associated with this method, some of which are explored by Visconti et al. 2013. Buffering points can underestimate or overestimate protected area coverage as the circles created around points might cover areas where protected areas do not exist (overestimation) or overlap with areas where other protected areas already exist (underestimation). It can also give inaccurate values for sites that are partly terrestrial and marine as the absence of boundaries make it difficult to predict which portion of a protected area is in the land or the sea.\n",
    "4. Both polygon and buffered point layers are combined in a single layer\n",
    "5. The layer above is flattened (dissolved) – to eliminate overlaps between designations and avoid double counting.\n",
    "6. The global protected areas flat layer is intersected with a base map of the world (see Section 3)\n",
    "7. The intersected flat layer is converted to Mollweide (an equal area projection) and the area of each polygon is calculated, in km2.\n",
    "8. Calculated areas are summed by land, marine and Areas Beyond National Jurisdiction (ABNJ). Marine and coastal area are those outlined in the Economic Exclusion Zones dataset (see Section 3 above). ABNJ constitute international waters outside the 200 nautical mile limits of national jurisdiction.\n",
    "9. The terrestrial protected area coverage is calculated by dividing the total area of terrestrial protected areas by total global terrestrial area excluding Antarctica. ABNJ protected area coverage is calculated by selecting areas where ISO3 = 'ABNJ'. Marine and coastal protected area coverage is total global protected areas flat coverage - (ABNJ Area + Land Area)."
   ]
  },
  {
   "cell_type": "markdown",
   "metadata": {},
   "source": [
    "### Set up"
   ]
  },
  {
   "cell_type": "code",
   "execution_count": 1,
   "metadata": {},
   "outputs": [],
   "source": [
    "import os\n",
    "import geopandas as gpd\n",
    "import pandas as pd\n",
    "from datetime import datetime"
   ]
  },
  {
   "cell_type": "code",
   "execution_count": 2,
   "metadata": {},
   "outputs": [],
   "source": [
    "path_in = \"/Users/sofia/Documents/Repos/skytruth-30x30/data/data/raw\"\n",
    "path_out = \"/Users/sofia/Documents/Repos/skytruth-30x30/data/data/processed\""
   ]
  },
  {
   "cell_type": "markdown",
   "metadata": {},
   "source": [
    "### 1. Download and import last release of [MPA](https://www.protectedplanet.net/en/thematic-areas/marine-protected-areas): Sept 2023"
   ]
  },
  {
   "cell_type": "code",
   "execution_count": 3,
   "metadata": {},
   "outputs": [],
   "source": [
    "poly1 = gpd.read_file(path_in + \"/WDPA_WDOECM_Sep2023_Public_marine_shp/WDPA_WDOECM_Sep2023_Public_marine_shp_0/WDPA_WDOECM_Sep2023_Public_marine_shp-polygons.shp\")\n",
    "point1 = gpd.read_file(path_in + \"/WDPA_WDOECM_Sep2023_Public_marine_shp/WDPA_WDOECM_Sep2023_Public_marine_shp_0/WDPA_WDOECM_Sep2023_Public_marine_shp-points.shp\")\n",
    "poly2 = gpd.read_file(path_in + \"/WDPA_WDOECM_Sep2023_Public_marine_shp/WDPA_WDOECM_Sep2023_Public_marine_shp_1/WDPA_WDOECM_Sep2023_Public_marine_shp-polygons.shp\")\n",
    "point2 = gpd.read_file(path_in + \"/WDPA_WDOECM_Sep2023_Public_marine_shp/WDPA_WDOECM_Sep2023_Public_marine_shp_1/WDPA_WDOECM_Sep2023_Public_marine_shp-points.shp\")\n",
    "poly3 = gpd.read_file(path_in + \"/WDPA_WDOECM_Sep2023_Public_marine_shp/WDPA_WDOECM_Sep2023_Public_marine_shp_2/WDPA_WDOECM_Sep2023_Public_marine_shp-polygons.shp\")\n",
    "point3 = gpd.read_file(path_in + \"/WDPA_WDOECM_Sep2023_Public_marine_shp/WDPA_WDOECM_Sep2023_Public_marine_shp_2/WDPA_WDOECM_Sep2023_Public_marine_shp-points.shp\")\n"
   ]
  },
  {
   "cell_type": "code",
   "execution_count": 4,
   "metadata": {},
   "outputs": [
    {
     "name": "stdout",
     "output_type": "stream",
     "text": [
      "6033\n",
      "172\n",
      "6033\n",
      "172\n",
      "6033\n",
      "171\n"
     ]
    }
   ],
   "source": [
    "print(len(poly1))\n",
    "print(len(point1))\n",
    "print(len(poly2))\n",
    "print(len(point2))\n",
    "print(len(poly3))\n",
    "print(len(point3))"
   ]
  },
  {
   "cell_type": "markdown",
   "metadata": {},
   "source": [
    "### 2. Filter WDPA to exclude records:\n",
    "- \"Non Reported\" protected areas (methodology recommends to remove also \"Proposed\" but we keep it for future projections)\n",
    "- MAB (Note: MAB sites reported as OECMs are included in coverage analyses)\n",
    "- Sites submitted as points with no reported area"
   ]
  },
  {
   "cell_type": "code",
   "execution_count": 5,
   "metadata": {},
   "outputs": [],
   "source": [
    "dataframes = [poly1, point1, poly2, point2, poly3, point3]\n",
    "\n",
    "for i, df in enumerate(dataframes):\n",
    "    # Remove rows where 'status' is equal to 'Not Reported'\n",
    "    df = df[df['STATUS'] != 'Not Reported']\n",
    "    \n",
    "    # Remove rows where 'DESIG' contains 'MAB'\n",
    "    df = df[~df['DESIG_ENG'].str.contains('MAB', case=False)]\n",
    "    \n",
    "    # Check if the dataframe is one of point1, point2, or point3\n",
    "    if i in [1, 3, 5]:\n",
    "        # Remove rows where reported area is 0\n",
    "        df = df[(df['REP_AREA'] != 0)]\n",
    "    \n",
    "    # Update the original dataframes in the list\n",
    "    dataframes[i] = df"
   ]
  },
  {
   "cell_type": "code",
   "execution_count": 6,
   "metadata": {},
   "outputs": [
    {
     "name": "stdout",
     "output_type": "stream",
     "text": [
      "5999\n",
      "157\n",
      "6018\n",
      "123\n",
      "6014\n",
      "135\n"
     ]
    }
   ],
   "source": [
    "print(len(dataframes[0]))\n",
    "print(len(dataframes[1]))\n",
    "print(len(dataframes[2]))\n",
    "print(len(dataframes[3]))\n",
    "print(len(dataframes[4]))\n",
    "print(len(dataframes[5]))"
   ]
  },
  {
   "cell_type": "markdown",
   "metadata": {},
   "source": [
    "### 3. Create buffers around points based on reported area"
   ]
  },
  {
   "cell_type": "code",
   "execution_count": 7,
   "metadata": {},
   "outputs": [],
   "source": [
    "# Calculate radius based on REP_AREA\n",
    "def calculate_radius(rep_area):\n",
    "    return (rep_area / 3.14159265358979323846) ** 0.5\n",
    "\n",
    "# Iterate through the list and process the desired dataframes\n",
    "for idx in [1, 3, 5]:\n",
    "    # Get the dataframe at the specified index\n",
    "    gdf = dataframes[idx]\n",
    "\n",
    "    # Reproject in Mollweide\n",
    "    gdf = gdf.to_crs('ESRI:54009')\n",
    "\n",
    "    # Transform the reported area from square kilometers to square meters\n",
    "    gdf['REP_AREA_m'] = gdf['REP_AREA'] * 1000000\n",
    "\n",
    "    # Create the \"radius\" column by applying the calculate_radius function to the \"REP_AREA\" column\n",
    "    gdf['radius'] = gdf['REP_AREA_m'].apply(calculate_radius)\n",
    "\n",
    "    # Create buffers around the points using the \"radius\" column\n",
    "    gdf_buffered = gdf.copy()\n",
    "    gdf_buffered['geometry'] = gdf.apply(lambda row: row.geometry.buffer(row['radius']), axis=1)\n",
    "\n",
    "    # Reproject back to WGS84\n",
    "    gdf_buffered = gdf_buffered.to_crs('EPSG:4326')\n",
    "\n",
    "    # Remove rows with invalid geometries\n",
    "    gdf_buffered = gdf_buffered[gdf_buffered['geometry'].is_valid]\n",
    "    \n",
    "    # Update the original dataframe with the buffered data\n",
    "    dataframes[idx] = gdf_buffered"
   ]
  },
  {
   "cell_type": "markdown",
   "metadata": {},
   "source": [
    "### 4. Merge the 6 datasets (polygons and buffered points) in a single layer and segregate those that are \"Proposed\""
   ]
  },
  {
   "cell_type": "code",
   "execution_count": 8,
   "metadata": {},
   "outputs": [
    {
     "name": "stdout",
     "output_type": "stream",
     "text": [
      "All gdf have the same crs: EPSG:4326\n"
     ]
    }
   ],
   "source": [
    "# Check that all of them have the same crs\n",
    "first_crs = dataframes[0].crs\n",
    "same_crs = all(gdf.crs == first_crs for gdf in dataframes[1:])\n",
    "if same_crs:\n",
    "    print(\"All gdf have the same crs:\", first_crs)\n",
    "else:\n",
    "        print(\"gdf have different crs\")"
   ]
  },
  {
   "cell_type": "code",
   "execution_count": 9,
   "metadata": {},
   "outputs": [
    {
     "data": {
      "text/plain": [
       "18445"
      ]
     },
     "execution_count": 9,
     "metadata": {},
     "output_type": "execute_result"
    }
   ],
   "source": [
    "# Merge dataframes\n",
    "merged_mpa = pd.concat(dataframes)\n",
    "len(merged_mpa)"
   ]
  },
  {
   "cell_type": "code",
   "execution_count": null,
   "metadata": {},
   "outputs": [],
   "source": [
    "# Check if geometries are valid\n",
    "sum(merged_mpa.geometry.is_valid)"
   ]
  },
  {
   "cell_type": "code",
   "execution_count": 10,
   "metadata": {},
   "outputs": [],
   "source": [
    "# Save merged_mpa as a shapefile\n",
    "merged_mpa.to_file(path_out + \"/wdpa/merged_mpa.shp\")"
   ]
  },
  {
   "cell_type": "markdown",
   "metadata": {},
   "source": [
    "**Separate \"Proposed\"**"
   ]
  },
  {
   "cell_type": "code",
   "execution_count": null,
   "metadata": {},
   "outputs": [],
   "source": [
    "# Select only the rows where 'STATUS' is equal to 'Proposed'\n",
    "proposed = merged_mpa[merged_mpa['STATUS'] == 'Proposed']\n",
    "\n",
    "# Select only the rows where 'STATUS' is different from 'Proposed'\n",
    "protected = merged_mpa[merged_mpa['STATUS'] != 'Proposed']"
   ]
  },
  {
   "cell_type": "code",
   "execution_count": null,
   "metadata": {},
   "outputs": [],
   "source": [
    "# Save the two dataframes as shapefiles\n",
    "proposed.to_file(path_out + \"/wdpa/proposed.shp\")\n",
    "protected.to_file(path_out + \"/wdpa/protected.shp\")"
   ]
  },
  {
   "cell_type": "code",
   "execution_count": null,
   "metadata": {},
   "outputs": [],
   "source": [
    "print(len(proposed))\n",
    "print(len(protected))"
   ]
  },
  {
   "cell_type": "markdown",
   "metadata": {},
   "source": [
    "### 5. Dissolve intersecting polygons by relevant fields"
   ]
  },
  {
   "cell_type": "code",
   "execution_count": null,
   "metadata": {},
   "outputs": [],
   "source": [
    "protected.columns"
   ]
  },
  {
   "cell_type": "code",
   "execution_count": null,
   "metadata": {},
   "outputs": [],
   "source": [
    "!mapshaper-xl 16gb /Users/sofia/Documents/Repos/skytruth_30x30/data/processed/wdpa/protected.shp -filter 'STATUS_YR<=2000' -dissolve2 fields=PA_DEF, PARENT_ISO -explode -proj +proj=moll +lon_0=0 +x_0=0 +y_0=0 +datum=WGS84 +units=m +no_defs +type=crs -each AREA=this.area -o /Users/sofia/Documents/Repos/skytruth_30x30/data/processed/wdpa/timeseries/protected_dissolved_2000.shp"
   ]
  },
  {
   "cell_type": "code",
   "execution_count": null,
   "metadata": {},
   "outputs": [],
   "source": [
    "!mapshaper-xl 16gb /Users/sofia/Documents/Repos/skytruth_30x30/data/processed/wdpa/protected.shp -filter 'STATUS_YR<=2001' -dissolve2 fields=PA_DEF, PARENT_ISO -explode -proj +proj=moll +lon_0=0 +x_0=0 +y_0=0 +datum=WGS84 +units=m +no_defs +type=crs -each AREA=this.area -o /Users/sofia/Documents/Repos/skytruth_30x30/data/processed/wdpa/timeseries/protected_dissolved_2001.shp"
   ]
  },
  {
   "cell_type": "code",
   "execution_count": null,
   "metadata": {},
   "outputs": [],
   "source": [
    "!mapshaper-xl 16gb /Users/sofia/Documents/Repos/skytruth_30x30/data/processed/wdpa/protected.shp -filter 'STATUS_YR<=2002' -dissolve2 fields=PA_DEF, PARENT_ISO -explode -proj +proj=moll +lon_0=0 +x_0=0 +y_0=0 +datum=WGS84 +units=m +no_defs +type=crs -each AREA=this.area -o /Users/sofia/Documents/Repos/skytruth_30x30/data/processed/wdpa/timeseries/protected_dissolved_2002.shp"
   ]
  },
  {
   "cell_type": "code",
   "execution_count": null,
   "metadata": {},
   "outputs": [],
   "source": [
    "!mapshaper-xl 16gb /Users/sofia/Documents/Repos/skytruth_30x30/data/processed/wdpa/protected.shp -filter 'STATUS_YR<=2003' -dissolve2 fields=PA_DEF, PARENT_ISO -explode -proj +proj=moll +lon_0=0 +x_0=0 +y_0=0 +datum=WGS84 +units=m +no_defs +type=crs -each AREA=this.area -o /Users/sofia/Documents/Repos/skytruth_30x30/data/processed/wdpa/timeseries/protected_dissolved_2003.shp"
   ]
  },
  {
   "cell_type": "code",
   "execution_count": null,
   "metadata": {},
   "outputs": [],
   "source": [
    "!mapshaper-xl 16gb /Users/sofia/Documents/Repos/skytruth_30x30/data/processed/wdpa/protected.shp -filter 'STATUS_YR<=2004' -dissolve2 fields=PA_DEF, PARENT_ISO -explode -proj +proj=moll +lon_0=0 +x_0=0 +y_0=0 +datum=WGS84 +units=m +no_defs +type=crs -each AREA=this.area -o /Users/sofia/Documents/Repos/skytruth_30x30/data/processed/wdpa/timeseries/protected_dissolved_2004.shp"
   ]
  },
  {
   "cell_type": "code",
   "execution_count": null,
   "metadata": {},
   "outputs": [],
   "source": [
    "!mapshaper-xl 16gb /Users/sofia/Documents/Repos/skytruth_30x30/data/processed/wdpa/protected.shp -filter 'STATUS_YR<=2005' -dissolve2 fields=PA_DEF, PARENT_ISO -explode -proj +proj=moll +lon_0=0 +x_0=0 +y_0=0 +datum=WGS84 +units=m +no_defs +type=crs -each AREA=this.area -o /Users/sofia/Documents/Repos/skytruth_30x30/data/processed/wdpa/timeseries/protected_dissolved_2005.shp"
   ]
  },
  {
   "cell_type": "code",
   "execution_count": null,
   "metadata": {},
   "outputs": [],
   "source": [
    "!mapshaper-xl 16gb /Users/sofia/Documents/Repos/skytruth_30x30/data/processed/wdpa/protected.shp -filter 'STATUS_YR<=2006' -dissolve2 fields=PA_DEF, PARENT_ISO -explode -proj +proj=moll +lon_0=0 +x_0=0 +y_0=0 +datum=WGS84 +units=m +no_defs +type=crs -each AREA=this.area -o /Users/sofia/Documents/Repos/skytruth_30x30/data/processed/wdpa/timeseries/protected_dissolved_2006.shp"
   ]
  },
  {
   "cell_type": "code",
   "execution_count": null,
   "metadata": {},
   "outputs": [],
   "source": [
    "!mapshaper-xl 16gb /Users/sofia/Documents/Repos/skytruth_30x30/data/processed/wdpa/protected.shp -filter 'STATUS_YR<=2007' -dissolve2 fields=PA_DEF, PARENT_ISO -explode -proj +proj=moll +lon_0=0 +x_0=0 +y_0=0 +datum=WGS84 +units=m +no_defs +type=crs -each AREA=this.area -o /Users/sofia/Documents/Repos/skytruth_30x30/data/processed/wdpa/timeseries/protected_dissolved_2007.shp"
   ]
  },
  {
   "cell_type": "code",
   "execution_count": null,
   "metadata": {},
   "outputs": [],
   "source": [
    "!mapshaper-xl 16gb /Users/sofia/Documents/Repos/skytruth_30x30/data/processed/wdpa/protected.shp -filter 'STATUS_YR<=2008' -dissolve2 fields=PA_DEF, PARENT_ISO -explode -proj +proj=moll +lon_0=0 +x_0=0 +y_0=0 +datum=WGS84 +units=m +no_defs +type=crs -each AREA=this.area -o /Users/sofia/Documents/Repos/skytruth_30x30/data/processed/wdpa/timeseries/protected_dissolved_2008.shp"
   ]
  },
  {
   "cell_type": "code",
   "execution_count": null,
   "metadata": {},
   "outputs": [],
   "source": [
    "!mapshaper-xl 16gb /Users/sofia/Documents/Repos/skytruth_30x30/data/processed/wdpa/protected.shp -filter 'STATUS_YR<=2009' -dissolve2 fields=PA_DEF, PARENT_ISO -explode -proj +proj=moll +lon_0=0 +x_0=0 +y_0=0 +datum=WGS84 +units=m +no_defs +type=crs -each AREA=this.area -o /Users/sofia/Documents/Repos/skytruth_30x30/data/processed/wdpa/timeseries/protected_dissolved_2009.shp"
   ]
  },
  {
   "cell_type": "code",
   "execution_count": null,
   "metadata": {},
   "outputs": [],
   "source": [
    "!mapshaper-xl 16gb /Users/sofia/Documents/Repos/skytruth_30x30/data/processed/wdpa/protected.shp -filter 'STATUS_YR<=2010' -dissolve2 fields=PA_DEF, PARENT_ISO -explode -proj +proj=moll +lon_0=0 +x_0=0 +y_0=0 +datum=WGS84 +units=m +no_defs +type=crs -each AREA=this.area -o /Users/sofia/Documents/Repos/skytruth_30x30/data/processed/wdpa/timeseries/protected_dissolved_2010.shp"
   ]
  },
  {
   "cell_type": "code",
   "execution_count": null,
   "metadata": {},
   "outputs": [],
   "source": [
    "!mapshaper-xl 16gb /Users/sofia/Documents/Repos/skytruth_30x30/data/processed/wdpa/protected.shp -filter 'STATUS_YR<=2011' -dissolve2 fields=PA_DEF, PARENT_ISO -explode -proj +proj=moll +lon_0=0 +x_0=0 +y_0=0 +datum=WGS84 +units=m +no_defs +type=crs -each AREA=this.area -o /Users/sofia/Documents/Repos/skytruth_30x30/data/processed/wdpa/timeseries/protected_dissolved_2011.shp"
   ]
  },
  {
   "cell_type": "code",
   "execution_count": null,
   "metadata": {},
   "outputs": [],
   "source": [
    "!mapshaper-xl 16gb /Users/sofia/Documents/Repos/skytruth_30x30/data/processed/wdpa/protected.shp -filter 'STATUS_YR<=2012' -dissolve2 fields=PA_DEF, PARENT_ISO -explode -proj +proj=moll +lon_0=0 +x_0=0 +y_0=0 +datum=WGS84 +units=m +no_defs +type=crs -each AREA=this.area -o /Users/sofia/Documents/Repos/skytruth_30x30/data/processed/wdpa/timeseries/protected_dissolved_2012.shp"
   ]
  },
  {
   "cell_type": "code",
   "execution_count": null,
   "metadata": {},
   "outputs": [],
   "source": [
    "!mapshaper-xl 16gb /Users/sofia/Documents/Repos/skytruth_30x30/data/processed/wdpa/protected.shp -filter 'STATUS_YR<=2013' -dissolve2 fields=PA_DEF, PARENT_ISO -explode -proj +proj=moll +lon_0=0 +x_0=0 +y_0=0 +datum=WGS84 +units=m +no_defs +type=crs -each AREA=this.area -o /Users/sofia/Documents/Repos/skytruth_30x30/data/processed/wdpa/timeseries/protected_dissolved_2013.shp"
   ]
  },
  {
   "cell_type": "code",
   "execution_count": null,
   "metadata": {},
   "outputs": [],
   "source": [
    "!mapshaper-xl 16gb /Users/sofia/Documents/Repos/skytruth_30x30/data/processed/wdpa/protected.shp -filter 'STATUS_YR<=2014' -dissolve2 fields=PA_DEF, PARENT_ISO -explode -proj +proj=moll +lon_0=0 +x_0=0 +y_0=0 +datum=WGS84 +units=m +no_defs +type=crs -each AREA=this.area -o /Users/sofia/Documents/Repos/skytruth_30x30/data/processed/wdpa/timeseries/protected_dissolved_2014.shp"
   ]
  },
  {
   "cell_type": "code",
   "execution_count": null,
   "metadata": {},
   "outputs": [],
   "source": [
    "!mapshaper-xl 16gb /Users/sofia/Documents/Repos/skytruth_30x30/data/processed/wdpa/protected.shp -filter 'STATUS_YR<=2015' -dissolve2 fields=PA_DEF, PARENT_ISO -explode -proj +proj=moll +lon_0=0 +x_0=0 +y_0=0 +datum=WGS84 +units=m +no_defs +type=crs -each AREA=this.area -o /Users/sofia/Documents/Repos/skytruth_30x30/data/processed/wdpa/timeseries/protected_dissolved_2015.shp"
   ]
  },
  {
   "cell_type": "code",
   "execution_count": null,
   "metadata": {},
   "outputs": [],
   "source": [
    "!mapshaper-xl 16gb /Users/sofia/Documents/Repos/skytruth_30x30/data/processed/wdpa/protected.shp -filter 'STATUS_YR<=2016' -dissolve2 fields=PA_DEF, PARENT_ISO -explode -proj +proj=moll +lon_0=0 +x_0=0 +y_0=0 +datum=WGS84 +units=m +no_defs +type=crs -each AREA=this.area -o /Users/sofia/Documents/Repos/skytruth_30x30/data/processed/wdpa/timeseries/protected_dissolved_2016.shp"
   ]
  },
  {
   "cell_type": "code",
   "execution_count": null,
   "metadata": {},
   "outputs": [],
   "source": [
    "!mapshaper-xl 16gb /Users/sofia/Documents/Repos/skytruth_30x30/data/processed/wdpa/protected.shp -filter 'STATUS_YR<=2017' -dissolve2 fields=PA_DEF, PARENT_ISO -explode -proj +proj=moll +lon_0=0 +x_0=0 +y_0=0 +datum=WGS84 +units=m +no_defs +type=crs -each AREA=this.area -o /Users/sofia/Documents/Repos/skytruth_30x30/data/processed/wdpa/timeseries/protected_dissolved_2017.shp"
   ]
  },
  {
   "cell_type": "code",
   "execution_count": null,
   "metadata": {},
   "outputs": [],
   "source": [
    "!mapshaper-xl 16gb /Users/sofia/Documents/Repos/skytruth_30x30/data/processed/wdpa/protected.shp -filter 'STATUS_YR<=2018' -dissolve2 fields=PA_DEF, PARENT_ISO -explode -proj +proj=moll +lon_0=0 +x_0=0 +y_0=0 +datum=WGS84 +units=m +no_defs +type=crs -each AREA=this.area -o /Users/sofia/Documents/Repos/skytruth_30x30/data/processed/wdpa/timeseries/protected_dissolved_2018.shp"
   ]
  },
  {
   "cell_type": "code",
   "execution_count": null,
   "metadata": {},
   "outputs": [],
   "source": [
    "!mapshaper-xl 16gb /Users/sofia/Documents/Repos/skytruth_30x30/data/processed/wdpa/protected.shp -filter 'STATUS_YR<=2019' -dissolve2 fields=PA_DEF, PARENT_ISO -explode -proj +proj=moll +lon_0=0 +x_0=0 +y_0=0 +datum=WGS84 +units=m +no_defs +type=crs -each AREA=this.area -o /Users/sofia/Documents/Repos/skytruth_30x30/data/processed/wdpa/timeseries/protected_dissolved_2019.shp"
   ]
  },
  {
   "cell_type": "code",
   "execution_count": null,
   "metadata": {},
   "outputs": [],
   "source": [
    "!mapshaper-xl 16gb /Users/sofia/Documents/Repos/skytruth_30x30/data/processed/wdpa/protected.shp -filter 'STATUS_YR<=2020' -dissolve2 fields=PA_DEF, PARENT_ISO -explode -proj +proj=moll +lon_0=0 +x_0=0 +y_0=0 +datum=WGS84 +units=m +no_defs +type=crs -each AREA=this.area -o /Users/sofia/Documents/Repos/skytruth_30x30/data/processed/wdpa/timeseries/protected_dissolved_2020.shp"
   ]
  },
  {
   "cell_type": "code",
   "execution_count": null,
   "metadata": {},
   "outputs": [],
   "source": [
    "!mapshaper-xl 16gb /Users/sofia/Documents/Repos/skytruth_30x30/data/processed/wdpa/protected.shp -filter 'STATUS_YR<=2021' -dissolve2 fields=PA_DEF, PARENT_ISO -explode -proj +proj=moll +lon_0=0 +x_0=0 +y_0=0 +datum=WGS84 +units=m +no_defs +type=crs -each AREA=this.area -o /Users/sofia/Documents/Repos/skytruth_30x30/data/processed/wdpa/timeseries/protected_dissolved_2021.shp"
   ]
  },
  {
   "cell_type": "code",
   "execution_count": null,
   "metadata": {},
   "outputs": [],
   "source": [
    "!mapshaper-xl 16gb /Users/sofia/Documents/Repos/skytruth_30x30/data/processed/wdpa/protected.shp -filter 'STATUS_YR<=2022' -dissolve2 fields=PA_DEF, PARENT_ISO -explode -proj +proj=moll +lon_0=0 +x_0=0 +y_0=0 +datum=WGS84 +units=m +no_defs +type=crs -each AREA=this.area -o /Users/sofia/Documents/Repos/skytruth_30x30/data/processed/wdpa/timeseries/protected_dissolved_2022.shp"
   ]
  },
  {
   "cell_type": "code",
   "execution_count": null,
   "metadata": {},
   "outputs": [],
   "source": [
    "!mapshaper-xl 16gb /Users/sofia/Documents/Repos/skytruth_30x30/data/processed/wdpa/protected.shp -filter 'STATUS_YR<=2023' -dissolve2 fields=PA_DEF, PARENT_ISO -explode -proj +proj=moll +lon_0=0 +x_0=0 +y_0=0 +datum=WGS84 +units=m +no_defs +type=crs -each AREA=this.area -o /Users/sofia/Documents/Repos/skytruth_30x30/data/processed/wdpa/timeseries/protected_dissolved_2023.shp"
   ]
  },
  {
   "cell_type": "markdown",
   "metadata": {},
   "source": [
    "### Calculate coverage statistics"
   ]
  },
  {
   "cell_type": "markdown",
   "metadata": {},
   "source": [
    "### Global and country stats"
   ]
  },
  {
   "cell_type": "code",
   "execution_count": 4,
   "metadata": {},
   "outputs": [],
   "source": [
    "folder_path = path_out + '/wdpa/timeseries'\n",
    "years_range = range(2000, 2024)  # Range of years from 2000 to 2023\n",
    "\n",
    "# Create an empty list to store the results\n",
    "results_list = []\n",
    "\n",
    "# Create a DataFrame to store the global coverage\n",
    "global_coverage = pd.DataFrame(columns=['year', 'protection_type', 'location_id', 'cumsum_area'])\n",
    "\n",
    "for year in years_range:\n",
    "    filename = f'protected_dissolved_{year}.shp'\n",
    "    file_path = os.path.join(folder_path, filename)\n",
    "\n",
    "    if os.path.exists(file_path):\n",
    "        gdf = gpd.read_file(file_path)\n",
    "\n",
    "        # Calculate global coverage for each year and protection type\n",
    "        global_area = gdf['AREA'].sum()\n",
    "        global_row = pd.DataFrame({'year': [year], 'protection_type': ['MPA+OECM'], 'location_id': ['GLOB'], 'cumsum_area': [global_area]})\n",
    "        global_coverage = pd.concat([global_coverage, global_row], ignore_index=True)\n",
    "\n",
    "        # Split rows with multiple ISO codes into separate rows\n",
    "        processed_df = gdf.copy()\n",
    "        processed_df['PARENT_ISO'] = processed_df['PARENT_ISO'].str.split(';')\n",
    "        processed_df = processed_df.explode('PARENT_ISO')\n",
    "\n",
    "        # Group by 'PARENT_ISO' and aggregate area\n",
    "        iso_area = processed_df.groupby('PARENT_ISO')['AREA'].sum().reset_index()\n",
    "\n",
    "        # Create columns to match BE table\n",
    "        iso_area['year'] = year\n",
    "        iso_area['protection_type'] = 'MPA+OECM'\n",
    "        iso_area.rename(columns={'PARENT_ISO': 'location_id', 'AREA': 'cumsum_area'}, inplace=True)\n",
    "\n",
    "        # Append the result to the list\n",
    "        results_list.append(iso_area)\n",
    "\n",
    "# Concatenate the list of results into a single DataFrame and convert area to sq.km\n",
    "final_df = pd.concat(results_list, ignore_index=True)\n",
    "final_df['cumsum_area'] = final_df['cumsum_area'] / 1000000\n",
    "\n",
    "# Append global coverage to the final_df\n",
    "final_df = pd.concat([final_df, global_coverage], ignore_index=True)\n"
   ]
  },
  {
   "cell_type": "markdown",
   "metadata": {},
   "source": [
    "### Regional stats"
   ]
  },
  {
   "cell_type": "code",
   "execution_count": 9,
   "metadata": {},
   "outputs": [],
   "source": [
    "# List of dictionaries for data in Region_ISO3_PP.txt (list of regions used in the Protected Planet database)\n",
    "regions_data = [\n",
    "    {\n",
    "        'region_iso': 'AS',\n",
    "        'region_name': 'Asia & Pacific',\n",
    "        'country_iso_3s': [\n",
    "            \"AFG\", \"ASM\", \"AUS\", \"BGD\", \"BRN\", \"BTN\", \"CCK\", \"CHN\", \"COK\", \"CXR\", \"FJI\", \"FSM\", \"GUM\", \"HKG\", \"IDN\",\n",
    "            \"IND\", \"IOT\", \"IRN\", \"JPN\", \"KHM\", \"KIR\", \"KOR\", \"LAO\", \"LKA\", \"MAC\", \"MDV\", \"MHL\", \"MMR\", \"MNG\", \"MNP\",\n",
    "            \"MYS\", \"NCL\", \"NFK\", \"NIU\", \"NPL\", \"NRU\", \"NZL\", \"PAK\", \"PCN\", \"PHL\", \"PLW\", \"PNG\", \"PRK\", \"PYF\", \"SGP\",\n",
    "            \"SLB\", \"THA\", \"TKL\", \"TLS\", \"TON\", \"TUV\", \"TWN\", \"VNM\", \"VUT\", \"WLF\", \"WSM\"\n",
    "        ]\n",
    "    },\n",
    "    {\n",
    "        'region_iso': 'AF',\n",
    "        'region_name': 'Africa',\n",
    "        'country_iso_3s': [\n",
    "            \"AGO\", \"BDI\", \"BEN\", \"BFA\", \"BWA\", \"CAF\", \"CIV\", \"CMR\", \"COD\", \"COG\", \"COM\", \"CPV\", \"DJI\", \"DZA\", \"EGY\",\n",
    "            \"ERI\", \"ESH\", \"ETH\", \"GAB\", \"GHA\", \"GIN\", \"GMB\", \"GNB\", \"GNQ\", \"KEN\", \"LBR\", \"LBY\", \"LSO\", \"MAR\", \"MDG\",\n",
    "            \"MLI\", \"MOZ\", \"MRT\", \"MUS\", \"MWI\", \"MYT\", \"NAM\", \"NER\", \"NGA\", \"REU\", \"RWA\", \"SDN\", \"SEN\", \"SHN\", \"SLE\",\n",
    "            \"SOM\", \"SSD\", \"STP\", \"SWZ\", \"SYC\", \"TCD\", \"TGO\", \"TUN\", \"TZA\", \"UGA\", \"ZAF\", \"ZMB\", \"ZWE\"\n",
    "        ]\n",
    "    },\n",
    "    {\n",
    "        'region_iso': 'EU',\n",
    "        'region_name': 'Europe',\n",
    "        'country_iso_3s': [\n",
    "            \"ALA\", \"ALB\", \"AND\", \"ARM\", \"AUT\", \"AZE\", \"BEL\", \"BGR\", \"BIH\", \"BLR\", \"CHE\", \"CYP\", \"CZE\", \"DEU\", \"DNK\",\n",
    "            \"ESP\", \"EST\", \"FIN\", \"FRA\", \"FRO\", \"GBR\", \"GEO\", \"GGY\", \"GIB\", \"GRC\", \"HRV\", \"HUN\", \"IMN\", \"IRL\", \"ISL\",\n",
    "            \"ISR\", \"ITA\", \"JEY\", \"KAZ\", \"KGZ\", \"LIE\", \"LTU\", \"LUX\", \"LVA\", \"MCO\", \"MDA\", \"MKD\", \"MLT\", \"MNE\", \"NLD\",\n",
    "            \"NOR\", \"POL\", \"PRT\", \"ROU\", \"RUS\", \"SJM\", \"SMR\", \"SRB\", \"SVK\", \"SVN\", \"SWE\", \"TJK\", \"TKM\", \"TUR\", \"UKR\",\n",
    "            \"UZB\", \"VAT\"\n",
    "        ]\n",
    "    },\n",
    "    {\n",
    "        'region_iso': 'SA',\n",
    "        'region_name': 'Latin America & Caribbean',\n",
    "        'country_iso_3s': [\n",
    "            \"ABW\", \"AIA\", \"ARG\", \"ATG\", \"BES\", \"BHS\", \"BLM\", \"BLZ\", \"BMU\", \"BOL\", \"BRA\", \"BRB\", \"CHL\", \"COL\", \"CRI\",\n",
    "            \"CUB\", \"CUW\", \"CYM\", \"DMA\", \"DOM\", \"ECU\", \"FLK\", \"GLP\", \"GRD\", \"GTM\", \"GUF\", \"GUY\", \"HND\", \"HTI\", \"JAM\",\n",
    "            \"KNA\", \"LCA\", \"MAF\", \"MEX\", \"MSR\", \"MTQ\", \"NIC\", \"PAN\", \"PER\", \"PRI\", \"PRY\", \"SLV\", \"SUR\", \"SXM\", \"TCA\",\n",
    "            \"TTO\", \"UMI\", \"URY\", \"VCT\", \"VEN\", \"VGB\", \"VIR\"\n",
    "        ]\n",
    "    },\n",
    "    {\n",
    "        'region_iso': 'PO',\n",
    "        'region_name': 'Polar',\n",
    "        'country_iso_3s': [\n",
    "            \"ATF\", \"BVT\", \"GRL\", \"HMD\", \"SGS\"\n",
    "        ]\n",
    "    },\n",
    "    {\n",
    "        'region_iso': 'NA',\n",
    "        'region_name': 'North America',\n",
    "        'country_iso_3s': [\n",
    "            \"CAN\", \"SPM\", \"USA\"\n",
    "        ]\n",
    "    },\n",
    "    {\n",
    "        'region_iso': 'WA',\n",
    "        'region_name': 'West Asia',\n",
    "        'country_iso_3s': [\n",
    "            \"ARE\", \"BHR\", \"IRQ\", \"JOR\", \"KWT\", \"LBN\", \"OMN\", \"PSE\", \"QAT\", \"SAU\", \"SYR\", \"YEM\"\n",
    "        ]\n",
    "    },\n",
    "    {\n",
    "        'region_iso': 'AT', # this region is not in the Protected Planet database\n",
    "        'region_name': 'Antartica',\n",
    "        'country_iso_3s': [\n",
    "            \"ATA\"\n",
    "        ]\n",
    "    }\n",
    "]\n",
    "\n",
    "# Convert the region data to a dictionary that maps each country to its region name\n",
    "country_to_region = {}\n",
    "for region in regions_data:\n",
    "    for country in region['country_iso_3s']:\n",
    "        country_to_region[country] = region['region_iso']"
   ]
  },
  {
   "cell_type": "code",
   "execution_count": 10,
   "metadata": {},
   "outputs": [
    {
     "data": {
      "text/html": [
       "<div>\n",
       "<style scoped>\n",
       "    .dataframe tbody tr th:only-of-type {\n",
       "        vertical-align: middle;\n",
       "    }\n",
       "\n",
       "    .dataframe tbody tr th {\n",
       "        vertical-align: top;\n",
       "    }\n",
       "\n",
       "    .dataframe thead th {\n",
       "        text-align: right;\n",
       "    }\n",
       "</style>\n",
       "<table border=\"1\" class=\"dataframe\">\n",
       "  <thead>\n",
       "    <tr style=\"text-align: right;\">\n",
       "      <th></th>\n",
       "      <th>location_id</th>\n",
       "      <th>year</th>\n",
       "      <th>protection_type</th>\n",
       "      <th>cumsum_area</th>\n",
       "    </tr>\n",
       "  </thead>\n",
       "  <tbody>\n",
       "    <tr>\n",
       "      <th>0</th>\n",
       "      <td>AF</td>\n",
       "      <td>2000</td>\n",
       "      <td>MPA+OECM</td>\n",
       "      <td>94507.122820</td>\n",
       "    </tr>\n",
       "    <tr>\n",
       "      <th>1</th>\n",
       "      <td>AF</td>\n",
       "      <td>2001</td>\n",
       "      <td>MPA+OECM</td>\n",
       "      <td>94807.303100</td>\n",
       "    </tr>\n",
       "    <tr>\n",
       "      <th>2</th>\n",
       "      <td>AF</td>\n",
       "      <td>2002</td>\n",
       "      <td>MPA+OECM</td>\n",
       "      <td>102859.393938</td>\n",
       "    </tr>\n",
       "    <tr>\n",
       "      <th>3</th>\n",
       "      <td>AF</td>\n",
       "      <td>2003</td>\n",
       "      <td>MPA+OECM</td>\n",
       "      <td>111143.352991</td>\n",
       "    </tr>\n",
       "    <tr>\n",
       "      <th>4</th>\n",
       "      <td>AF</td>\n",
       "      <td>2004</td>\n",
       "      <td>MPA+OECM</td>\n",
       "      <td>119137.635862</td>\n",
       "    </tr>\n",
       "    <tr>\n",
       "      <th>...</th>\n",
       "      <td>...</td>\n",
       "      <td>...</td>\n",
       "      <td>...</td>\n",
       "      <td>...</td>\n",
       "    </tr>\n",
       "    <tr>\n",
       "      <th>163</th>\n",
       "      <td>WA</td>\n",
       "      <td>2019</td>\n",
       "      <td>MPA+OECM</td>\n",
       "      <td>30618.254664</td>\n",
       "    </tr>\n",
       "    <tr>\n",
       "      <th>164</th>\n",
       "      <td>WA</td>\n",
       "      <td>2020</td>\n",
       "      <td>MPA+OECM</td>\n",
       "      <td>30624.636536</td>\n",
       "    </tr>\n",
       "    <tr>\n",
       "      <th>165</th>\n",
       "      <td>WA</td>\n",
       "      <td>2021</td>\n",
       "      <td>MPA+OECM</td>\n",
       "      <td>30624.636536</td>\n",
       "    </tr>\n",
       "    <tr>\n",
       "      <th>166</th>\n",
       "      <td>WA</td>\n",
       "      <td>2022</td>\n",
       "      <td>MPA+OECM</td>\n",
       "      <td>31779.597984</td>\n",
       "    </tr>\n",
       "    <tr>\n",
       "      <th>167</th>\n",
       "      <td>WA</td>\n",
       "      <td>2023</td>\n",
       "      <td>MPA+OECM</td>\n",
       "      <td>31779.597984</td>\n",
       "    </tr>\n",
       "  </tbody>\n",
       "</table>\n",
       "<p>168 rows × 4 columns</p>\n",
       "</div>"
      ],
      "text/plain": [
       "    location_id  year protection_type    cumsum_area\n",
       "0            AF  2000        MPA+OECM   94507.122820\n",
       "1            AF  2001        MPA+OECM   94807.303100\n",
       "2            AF  2002        MPA+OECM  102859.393938\n",
       "3            AF  2003        MPA+OECM  111143.352991\n",
       "4            AF  2004        MPA+OECM  119137.635862\n",
       "..          ...   ...             ...            ...\n",
       "163          WA  2019        MPA+OECM   30618.254664\n",
       "164          WA  2020        MPA+OECM   30624.636536\n",
       "165          WA  2021        MPA+OECM   30624.636536\n",
       "166          WA  2022        MPA+OECM   31779.597984\n",
       "167          WA  2023        MPA+OECM   31779.597984\n",
       "\n",
       "[168 rows x 4 columns]"
      ]
     },
     "execution_count": 10,
     "metadata": {},
     "output_type": "execute_result"
    }
   ],
   "source": [
    "regions = final_df.copy()\n",
    "regions['location_id'] = regions['location_id'].map(country_to_region)\n",
    "\n",
    "# group by region and year to get sum of cumsum_area\n",
    "regions = regions.groupby(['location_id', 'year', 'protection_type'])['cumsum_area'].sum().reset_index()\n",
    "regions"
   ]
  },
  {
   "cell_type": "code",
   "execution_count": 12,
   "metadata": {},
   "outputs": [
    {
     "data": {
      "text/plain": [
       "array(['AF', 'AS', 'AT', 'EU', 'NA', 'SA', 'WA'], dtype=object)"
      ]
     },
     "execution_count": 12,
     "metadata": {},
     "output_type": "execute_result"
    }
   ],
   "source": [
    "regions['location_id'].unique()"
   ]
  },
  {
   "cell_type": "code",
   "execution_count": 13,
   "metadata": {},
   "outputs": [
    {
     "data": {
      "text/plain": [
       "array(['ABNJ', 'AGO', 'ALB', 'ARE', 'ARG', 'ATA', 'ATG', 'AUS', 'AZE',\n",
       "       'BEL', 'BGD', 'BGR', 'BHR', 'BHS', 'BLZ', 'BRA', 'BRB', 'BRN',\n",
       "       'CAN', 'CHL', 'CHN', 'COD', 'COG', 'COK', 'COL', 'CRI', 'CUB',\n",
       "       'CYP', 'DEU', 'DMA', 'DNK', 'DOM', 'ECU', 'EGY', 'ESP', 'EST',\n",
       "       'FIN', 'FJI', 'FRA', 'FSM', 'GBR', 'GEO', 'GHA', 'GIN', 'GMB',\n",
       "       'GNB', 'GNQ', 'GRC', 'GRD', 'GTM', 'HND', 'HRV', 'IDN', 'IRL',\n",
       "       'IRN', 'ISL', 'ISR', 'ITA', 'JAM', 'JPN', 'KAZ', 'KEN', 'KHM',\n",
       "       'KIR', 'KNA', 'KOR', 'LBN', 'LBY', 'LCA', 'LKA', 'LTU', 'LVA',\n",
       "       'MAR', 'MCO', 'MDG', 'MDV', 'MEX', 'MHL', 'MLT', 'MMR', 'MNE',\n",
       "       'MOZ', 'MRT', 'MUS', 'MYS', 'NAM', 'NGA', 'NIC', 'NIU', 'NLD',\n",
       "       'NOR', 'NZL', 'OMN', 'PAK', 'PAN', 'PER', 'PHL', 'PLW', 'PNG',\n",
       "       'POL', 'PRT', 'ROU', 'RUS', 'SAU', 'SDN', 'SEN', 'SLB', 'SLE',\n",
       "       'SUR', 'SVN', 'SWE', 'SYC', 'SYR', 'THA', 'TKM', 'TLS', 'TON',\n",
       "       'TTO', 'TUN', 'TUR', 'TUV', 'TZA', 'UKR', 'USA', 'VCT', 'VEN',\n",
       "       'VNM', 'VUT', 'WSM', 'ZAF', 'DZA', 'IOT', 'GAB', 'IND', 'SGP',\n",
       "       'LBR', 'CIV', 'CPV', 'SLV', 'QAT', 'STP', 'SHN', 'YEM', 'URY',\n",
       "       'CMR', 'COM', 'KWT', 'SJM', 'GUY', 'UMI', 'HTI', 'JOR', 'GLOB',\n",
       "       'AF', 'AS', 'AT', 'EU', 'NA', 'SA', 'WA'], dtype=object)"
      ]
     },
     "execution_count": 13,
     "metadata": {},
     "output_type": "execute_result"
    }
   ],
   "source": [
    "final_df2 = pd.concat([final_df, regions], ignore_index=True)\n",
    "final_df2['location_id'].unique()"
   ]
  },
  {
   "cell_type": "code",
   "execution_count": 14,
   "metadata": {},
   "outputs": [
    {
     "data": {
      "text/html": [
       "<div>\n",
       "<style scoped>\n",
       "    .dataframe tbody tr th:only-of-type {\n",
       "        vertical-align: middle;\n",
       "    }\n",
       "\n",
       "    .dataframe tbody tr th {\n",
       "        vertical-align: top;\n",
       "    }\n",
       "\n",
       "    .dataframe thead th {\n",
       "        text-align: right;\n",
       "    }\n",
       "</style>\n",
       "<table border=\"1\" class=\"dataframe\">\n",
       "  <thead>\n",
       "    <tr style=\"text-align: right;\">\n",
       "      <th></th>\n",
       "      <th>location_id</th>\n",
       "      <th>cumsum_area</th>\n",
       "      <th>year</th>\n",
       "      <th>protection_type</th>\n",
       "      <th>last_updated</th>\n",
       "    </tr>\n",
       "  </thead>\n",
       "  <tbody>\n",
       "    <tr>\n",
       "      <th>0</th>\n",
       "      <td>ABNJ</td>\n",
       "      <td>594174.659985</td>\n",
       "      <td>2000</td>\n",
       "      <td>MPA+OECM</td>\n",
       "      <td>2023-10-18</td>\n",
       "    </tr>\n",
       "    <tr>\n",
       "      <th>1</th>\n",
       "      <td>AGO</td>\n",
       "      <td>0.415240</td>\n",
       "      <td>2000</td>\n",
       "      <td>MPA+OECM</td>\n",
       "      <td>2023-10-18</td>\n",
       "    </tr>\n",
       "    <tr>\n",
       "      <th>2</th>\n",
       "      <td>ALB</td>\n",
       "      <td>103.048347</td>\n",
       "      <td>2000</td>\n",
       "      <td>MPA+OECM</td>\n",
       "      <td>2023-10-18</td>\n",
       "    </tr>\n",
       "    <tr>\n",
       "      <th>3</th>\n",
       "      <td>ARE</td>\n",
       "      <td>78.516519</td>\n",
       "      <td>2000</td>\n",
       "      <td>MPA+OECM</td>\n",
       "      <td>2023-10-18</td>\n",
       "    </tr>\n",
       "    <tr>\n",
       "      <th>4</th>\n",
       "      <td>ARG</td>\n",
       "      <td>6155.668078</td>\n",
       "      <td>2000</td>\n",
       "      <td>MPA+OECM</td>\n",
       "      <td>2023-10-18</td>\n",
       "    </tr>\n",
       "    <tr>\n",
       "      <th>...</th>\n",
       "      <td>...</td>\n",
       "      <td>...</td>\n",
       "      <td>...</td>\n",
       "      <td>...</td>\n",
       "      <td>...</td>\n",
       "    </tr>\n",
       "    <tr>\n",
       "      <th>3677</th>\n",
       "      <td>WA</td>\n",
       "      <td>30618.254664</td>\n",
       "      <td>2019</td>\n",
       "      <td>MPA+OECM</td>\n",
       "      <td>2023-10-18</td>\n",
       "    </tr>\n",
       "    <tr>\n",
       "      <th>3678</th>\n",
       "      <td>WA</td>\n",
       "      <td>30624.636536</td>\n",
       "      <td>2020</td>\n",
       "      <td>MPA+OECM</td>\n",
       "      <td>2023-10-18</td>\n",
       "    </tr>\n",
       "    <tr>\n",
       "      <th>3679</th>\n",
       "      <td>WA</td>\n",
       "      <td>30624.636536</td>\n",
       "      <td>2021</td>\n",
       "      <td>MPA+OECM</td>\n",
       "      <td>2023-10-18</td>\n",
       "    </tr>\n",
       "    <tr>\n",
       "      <th>3680</th>\n",
       "      <td>WA</td>\n",
       "      <td>31779.597984</td>\n",
       "      <td>2022</td>\n",
       "      <td>MPA+OECM</td>\n",
       "      <td>2023-10-18</td>\n",
       "    </tr>\n",
       "    <tr>\n",
       "      <th>3681</th>\n",
       "      <td>WA</td>\n",
       "      <td>31779.597984</td>\n",
       "      <td>2023</td>\n",
       "      <td>MPA+OECM</td>\n",
       "      <td>2023-10-18</td>\n",
       "    </tr>\n",
       "  </tbody>\n",
       "</table>\n",
       "<p>3682 rows × 5 columns</p>\n",
       "</div>"
      ],
      "text/plain": [
       "     location_id    cumsum_area  year protection_type last_updated\n",
       "0           ABNJ  594174.659985  2000        MPA+OECM   2023-10-18\n",
       "1            AGO       0.415240  2000        MPA+OECM   2023-10-18\n",
       "2            ALB     103.048347  2000        MPA+OECM   2023-10-18\n",
       "3            ARE      78.516519  2000        MPA+OECM   2023-10-18\n",
       "4            ARG    6155.668078  2000        MPA+OECM   2023-10-18\n",
       "...          ...            ...   ...             ...          ...\n",
       "3677          WA   30618.254664  2019        MPA+OECM   2023-10-18\n",
       "3678          WA   30624.636536  2020        MPA+OECM   2023-10-18\n",
       "3679          WA   30624.636536  2021        MPA+OECM   2023-10-18\n",
       "3680          WA   31779.597984  2022        MPA+OECM   2023-10-18\n",
       "3681          WA   31779.597984  2023        MPA+OECM   2023-10-18\n",
       "\n",
       "[3682 rows x 5 columns]"
      ]
     },
     "execution_count": 14,
     "metadata": {},
     "output_type": "execute_result"
    }
   ],
   "source": [
    "current_date = datetime.now().strftime('%Y-%m-%d')\n",
    "\n",
    "final_df2 = final_df2.copy()\n",
    "final_df2['last_updated'] = current_date\n",
    "final_df2"
   ]
  },
  {
   "cell_type": "code",
   "execution_count": 16,
   "metadata": {},
   "outputs": [],
   "source": [
    "final_df2.to_csv(path_out + '/tables/protected_area_coverage.csv', index=False)"
   ]
  }
 ],
 "metadata": {
  "kernelspec": {
   "display_name": "skytruth",
   "language": "python",
   "name": "python3"
  },
  "language_info": {
   "codemirror_mode": {
    "name": "ipython",
    "version": 3
   },
   "file_extension": ".py",
   "mimetype": "text/x-python",
   "name": "python",
   "nbconvert_exporter": "python",
   "pygments_lexer": "ipython3",
   "version": "3.11.4"
  },
  "orig_nbformat": 4
 },
 "nbformat": 4,
 "nbformat_minor": 2
}
