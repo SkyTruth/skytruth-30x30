{
 "cells": [
  {
   "cell_type": "markdown",
   "metadata": {},
   "source": [
    "## Method used to calculate global protected areas and OECM coverage\n",
    "\n",
    "The protected area coverage is calculated (from WDPA [methodolgy](https://www.protectedplanet.net/en/resources/calculating-protected-area-coverage)):\n",
    "\n",
    "1. Start with the latest WDPA monthly release\n",
    "2. The WDPA is filtered to exclude records with the characteristics listed in Section 2\n",
    "3. A buffer is created around protected areas reported as points using their Reported Area. There are important caveats associated with this method, some of which are explored by Visconti et al. 2013. Buffering points can underestimate or overestimate protected area coverage as the circles created around points might cover areas where protected areas do not exist (overestimation) or overlap with areas where other protected areas already exist (underestimation). It can also give inaccurate values for sites that are partly terrestrial and marine as the absence of boundaries make it difficult to predict which portion of a protected area is in the land or the sea.\n",
    "4. Both polygon and buffered point layers are combined in a single layer\n",
    "5. The layer above is flattened (dissolved) – to eliminate overlaps between designations and avoid double counting.\n",
    "6. The global protected areas flat layer is intersected with a base map of the world (see Section 3)\n",
    "7. The intersected flat layer is converted to Mollweide (an equal area projection) and the area of each polygon is calculated, in km2.\n",
    "8. Calculated areas are summed by land, marine and Areas Beyond National Jurisdiction (ABNJ). Marine and coastal area are those outlined in the Economic Exclusion Zones dataset (see Section 3 above). ABNJ constitute international waters outside the 200 nautical mile limits of national jurisdiction.\n",
    "9. The terrestrial protected area coverage is calculated by dividing the total area of terrestrial protected areas by total global terrestrial area excluding Antarctica. ABNJ protected area coverage is calculated by selecting areas where ISO3 = 'ABNJ'. Marine and coastal protected area coverage is total global protected areas flat coverage - (ABNJ Area + Land Area)."
   ]
  },
  {
   "cell_type": "markdown",
   "metadata": {},
   "source": [
    "### Set up"
   ]
  },
  {
   "cell_type": "code",
   "execution_count": 14,
   "metadata": {},
   "outputs": [],
   "source": [
    "import os\n",
    "import geopandas as gpd\n",
    "import pandas as pd\n",
    "from datetime import datetime"
   ]
  },
  {
   "cell_type": "code",
   "execution_count": null,
   "metadata": {},
   "outputs": [],
   "source": [
    "path_in = \"/Users/sofia/Documents/Repos/skytruth_30x30/data/raw\"\n",
    "path_out = \"/Users/sofia/Documents/Repos/skytruth_30x30/data/processed\""
   ]
  },
  {
   "cell_type": "markdown",
   "metadata": {},
   "source": [
    "### 1. Download and import last release of [MPA](https://www.protectedplanet.net/en/thematic-areas/marine-protected-areas): Sept 2023"
   ]
  },
  {
   "cell_type": "code",
   "execution_count": null,
   "metadata": {},
   "outputs": [],
   "source": [
    "poly1 = gpd.read_file(path_in + \"/WDPA_WDOECM_Sep2023_Public_marine_shp/WDPA_WDOECM_Sep2023_Public_marine_shp_0/WDPA_WDOECM_Sep2023_Public_marine_shp-polygons.shp\")\n",
    "point1 = gpd.read_file(path_in + \"/WDPA_WDOECM_Sep2023_Public_marine_shp/WDPA_WDOECM_Sep2023_Public_marine_shp_0/WDPA_WDOECM_Sep2023_Public_marine_shp-points.shp\")\n",
    "poly2 = gpd.read_file(path_in + \"/WDPA_WDOECM_Sep2023_Public_marine_shp/WDPA_WDOECM_Sep2023_Public_marine_shp_1/WDPA_WDOECM_Sep2023_Public_marine_shp-polygons.shp\")\n",
    "point2 = gpd.read_file(path_in + \"/WDPA_WDOECM_Sep2023_Public_marine_shp/WDPA_WDOECM_Sep2023_Public_marine_shp_1/WDPA_WDOECM_Sep2023_Public_marine_shp-points.shp\")\n",
    "poly3 = gpd.read_file(path_in + \"/WDPA_WDOECM_Sep2023_Public_marine_shp/WDPA_WDOECM_Sep2023_Public_marine_shp_2/WDPA_WDOECM_Sep2023_Public_marine_shp-polygons.shp\")\n",
    "point3 = gpd.read_file(path_in + \"/WDPA_WDOECM_Sep2023_Public_marine_shp/WDPA_WDOECM_Sep2023_Public_marine_shp_2/WDPA_WDOECM_Sep2023_Public_marine_shp-points.shp\")\n"
   ]
  },
  {
   "cell_type": "code",
   "execution_count": null,
   "metadata": {},
   "outputs": [],
   "source": [
    "print(len(poly1))\n",
    "print(len(point1))\n",
    "print(len(poly2))\n",
    "print(len(point2))\n",
    "print(len(poly3))\n",
    "print(len(point3))"
   ]
  },
  {
   "cell_type": "markdown",
   "metadata": {},
   "source": [
    "### 2. Filter WDPA to exclude records:\n",
    "- \"Non Reported\" protected areas (methodology recommends to remove also \"Proposed\" but we keep it for future projections)\n",
    "- MAB (Note: MAB sites reported as OECMs are included in coverage analyses)\n",
    "- Sites submitted as points with no reported area"
   ]
  },
  {
   "cell_type": "code",
   "execution_count": null,
   "metadata": {},
   "outputs": [],
   "source": [
    "dataframes = [poly1, point1, poly2, point2, poly3, point3]\n",
    "\n",
    "for i, df in enumerate(dataframes):\n",
    "    # Remove rows where 'status' is equal to 'Not Reported'\n",
    "    df = df[df['STATUS'] != 'Not Reported']\n",
    "    \n",
    "    # Remove rows where 'DESIG' contains 'MAB'\n",
    "    df = df[~df['DESIG_ENG'].str.contains('MAB', case=False)]\n",
    "    \n",
    "    # Check if the dataframe is one of point1, point2, or point3\n",
    "    if i in [1, 3, 5]:\n",
    "        # Remove rows where reported area is 0\n",
    "        df = df[(df['REP_AREA'] != 0)]\n",
    "    \n",
    "    # Update the original dataframes in the list\n",
    "    dataframes[i] = df\n",
    "\n"
   ]
  },
  {
   "cell_type": "code",
   "execution_count": null,
   "metadata": {},
   "outputs": [],
   "source": [
    "print(len(dataframes[0]))\n",
    "print(len(dataframes[1]))\n",
    "print(len(dataframes[2]))\n",
    "print(len(dataframes[3]))\n",
    "print(len(dataframes[4]))\n",
    "print(len(dataframes[5]))"
   ]
  },
  {
   "cell_type": "markdown",
   "metadata": {},
   "source": [
    "### 3. Create buffers around points based on reported area"
   ]
  },
  {
   "cell_type": "code",
   "execution_count": null,
   "metadata": {},
   "outputs": [],
   "source": [
    "# Calculate radius based on REP_AREA\n",
    "def calculate_radius(rep_area):\n",
    "    return (rep_area / 3.14159265358979323846) ** 0.5\n",
    "\n",
    "# Iterate through the list and process the desired dataframes\n",
    "for idx in [1, 3, 5]:\n",
    "    # Get the dataframe at the specified index\n",
    "    gdf = dataframes[idx]\n",
    "\n",
    "    # Reproject in Mollweide\n",
    "    gdf = gdf.to_crs('ESRI:54009')\n",
    "\n",
    "    # Transform the reported area from square kilometers to square meters\n",
    "    gdf['REP_AREA_m'] = gdf['REP_AREA'] * 1000000\n",
    "\n",
    "    # Create the \"radius\" column by applying the calculate_radius function to the \"REP_AREA\" column\n",
    "    gdf['radius'] = gdf['REP_AREA_m'].apply(calculate_radius)\n",
    "\n",
    "    # Create buffers around the points using the \"radius\" column\n",
    "    gdf_buffered = gdf.copy()\n",
    "    gdf_buffered['geometry'] = gdf.apply(lambda row: row.geometry.buffer(row['radius']), axis=1)\n",
    "\n",
    "    # Reproject back to WGS84\n",
    "    gdf_buffered = gdf_buffered.to_crs('EPSG:4326')\n",
    "\n",
    "    # Remove rows with invalid geometries\n",
    "    gdf_buffered = gdf_buffered[gdf_buffered['geometry'].is_valid]\n",
    "    \n",
    "    # Update the original dataframe with the buffered data\n",
    "    dataframes[idx] = gdf_buffered"
   ]
  },
  {
   "cell_type": "markdown",
   "metadata": {},
   "source": [
    "### 4. Merge the 6 datasets (polygons and buffered points) in a single layer and segregate those that are \"Proposed\" and those that are OECM"
   ]
  },
  {
   "cell_type": "code",
   "execution_count": null,
   "metadata": {},
   "outputs": [],
   "source": [
    "# Check that all of them have the same crs\n",
    "first_crs = dataframes[0].crs\n",
    "same_crs = all(gdf.crs == first_crs for gdf in dataframes[1:])\n",
    "if same_crs:\n",
    "    print(\"All gdf have the same crs:\", first_crs)\n",
    "else:\n",
    "        print(\"gdf have different crs\")"
   ]
  },
  {
   "cell_type": "code",
   "execution_count": null,
   "metadata": {},
   "outputs": [],
   "source": [
    "# Check if geometries are valid\n",
    "sum(merged_mpa.geometry.is_valid)"
   ]
  },
  {
   "cell_type": "code",
   "execution_count": null,
   "metadata": {},
   "outputs": [],
   "source": [
    "# Save merged_mpa as a shapefile\n",
    "merged_mpa.to_file(path_out + \"/wdpa/merged_mpa.shp\")"
   ]
  },
  {
   "cell_type": "markdown",
   "metadata": {},
   "source": [
    "**Separate \"Proposed\"**"
   ]
  },
  {
   "cell_type": "code",
   "execution_count": null,
   "metadata": {},
   "outputs": [],
   "source": [
    "# Select only the rows where 'STATUS' is equal to 'Proposed'\n",
    "proposed = merged_mpa[merged_mpa['STATUS'] == 'Proposed']\n",
    "\n",
    "# Select only the rows where 'STATUS' is different from 'Proposed'\n",
    "protected = merged_mpa[merged_mpa['STATUS'] != 'Proposed']"
   ]
  },
  {
   "cell_type": "code",
   "execution_count": null,
   "metadata": {},
   "outputs": [],
   "source": [
    "# Save the two dataframes as shapefiles\n",
    "proposed.to_file(path_out + \"/wdpa/proposed.shp\")\n",
    "protected.to_file(path_out + \"/wdpa/protected.shp\")"
   ]
  },
  {
   "cell_type": "code",
   "execution_count": null,
   "metadata": {},
   "outputs": [],
   "source": [
    "print(len(proposed))\n",
    "print(len(protected))"
   ]
  },
  {
   "cell_type": "markdown",
   "metadata": {},
   "source": [
    "### 5. Dissolve intersecting polygons by relevant fields"
   ]
  },
  {
   "cell_type": "code",
   "execution_count": null,
   "metadata": {},
   "outputs": [],
   "source": [
    "protected.columns"
   ]
  },
  {
   "cell_type": "code",
   "execution_count": null,
   "metadata": {},
   "outputs": [],
   "source": [
    "!mapshaper-xl 16gb /Users/sofia/Documents/Repos/skytruth_30x30/data/processed/wdpa/protected.shp -filter 'STATUS_YR<=2000' -dissolve2 fields=PA_DEF, PARENT_ISO -explode -proj +proj=moll +lon_0=0 +x_0=0 +y_0=0 +datum=WGS84 +units=m +no_defs +type=crs -each AREA=this.area -o /Users/sofia/Documents/Repos/skytruth_30x30/data/processed/wdpa/timeseries/protected_dissolved_2000.shp"
   ]
  },
  {
   "cell_type": "code",
   "execution_count": null,
   "metadata": {},
   "outputs": [],
   "source": [
    "!mapshaper-xl 16gb /Users/sofia/Documents/Repos/skytruth_30x30/data/processed/wdpa/protected.shp -filter 'STATUS_YR<=2001' -dissolve2 fields=PA_DEF, PARENT_ISO -explode -proj +proj=moll +lon_0=0 +x_0=0 +y_0=0 +datum=WGS84 +units=m +no_defs +type=crs -each AREA=this.area -o /Users/sofia/Documents/Repos/skytruth_30x30/data/processed/wdpa/timeseries/protected_dissolved_2001.shp"
   ]
  },
  {
   "cell_type": "code",
   "execution_count": null,
   "metadata": {},
   "outputs": [],
   "source": [
    "!mapshaper-xl 16gb /Users/sofia/Documents/Repos/skytruth_30x30/data/processed/wdpa/protected.shp -filter 'STATUS_YR<=2002' -dissolve2 fields=PA_DEF, PARENT_ISO -explode -proj +proj=moll +lon_0=0 +x_0=0 +y_0=0 +datum=WGS84 +units=m +no_defs +type=crs -each AREA=this.area -o /Users/sofia/Documents/Repos/skytruth_30x30/data/processed/wdpa/timeseries/protected_dissolved_2002.shp"
   ]
  },
  {
   "cell_type": "code",
   "execution_count": null,
   "metadata": {},
   "outputs": [],
   "source": [
    "!mapshaper-xl 16gb /Users/sofia/Documents/Repos/skytruth_30x30/data/processed/wdpa/protected.shp -filter 'STATUS_YR<=2003' -dissolve2 fields=PA_DEF, PARENT_ISO -explode -proj +proj=moll +lon_0=0 +x_0=0 +y_0=0 +datum=WGS84 +units=m +no_defs +type=crs -each AREA=this.area -o /Users/sofia/Documents/Repos/skytruth_30x30/data/processed/wdpa/timeseries/protected_dissolved_2003.shp"
   ]
  },
  {
   "cell_type": "code",
   "execution_count": null,
   "metadata": {},
   "outputs": [],
   "source": [
    "!mapshaper-xl 16gb /Users/sofia/Documents/Repos/skytruth_30x30/data/processed/wdpa/protected.shp -filter 'STATUS_YR<=2004' -dissolve2 fields=PA_DEF, PARENT_ISO -explode -proj +proj=moll +lon_0=0 +x_0=0 +y_0=0 +datum=WGS84 +units=m +no_defs +type=crs -each AREA=this.area -o /Users/sofia/Documents/Repos/skytruth_30x30/data/processed/wdpa/timeseries/protected_dissolved_2004.shp"
   ]
  },
  {
   "cell_type": "code",
   "execution_count": null,
   "metadata": {},
   "outputs": [],
   "source": [
    "!mapshaper-xl 16gb /Users/sofia/Documents/Repos/skytruth_30x30/data/processed/wdpa/protected.shp -filter 'STATUS_YR<=2005' -dissolve2 fields=PA_DEF, PARENT_ISO -explode -proj +proj=moll +lon_0=0 +x_0=0 +y_0=0 +datum=WGS84 +units=m +no_defs +type=crs -each AREA=this.area -o /Users/sofia/Documents/Repos/skytruth_30x30/data/processed/wdpa/timeseries/protected_dissolved_2005.shp"
   ]
  },
  {
   "cell_type": "code",
   "execution_count": null,
   "metadata": {},
   "outputs": [],
   "source": [
    "!mapshaper-xl 16gb /Users/sofia/Documents/Repos/skytruth_30x30/data/processed/wdpa/protected.shp -filter 'STATUS_YR<=2006' -dissolve2 fields=PA_DEF, PARENT_ISO -explode -proj +proj=moll +lon_0=0 +x_0=0 +y_0=0 +datum=WGS84 +units=m +no_defs +type=crs -each AREA=this.area -o /Users/sofia/Documents/Repos/skytruth_30x30/data/processed/wdpa/timeseries/protected_dissolved_2006.shp"
   ]
  },
  {
   "cell_type": "code",
   "execution_count": null,
   "metadata": {},
   "outputs": [],
   "source": [
    "!mapshaper-xl 16gb /Users/sofia/Documents/Repos/skytruth_30x30/data/processed/wdpa/protected.shp -filter 'STATUS_YR<=2007' -dissolve2 fields=PA_DEF, PARENT_ISO -explode -proj +proj=moll +lon_0=0 +x_0=0 +y_0=0 +datum=WGS84 +units=m +no_defs +type=crs -each AREA=this.area -o /Users/sofia/Documents/Repos/skytruth_30x30/data/processed/wdpa/timeseries/protected_dissolved_2007.shp"
   ]
  },
  {
   "cell_type": "code",
   "execution_count": null,
   "metadata": {},
   "outputs": [],
   "source": [
    "!mapshaper-xl 16gb /Users/sofia/Documents/Repos/skytruth_30x30/data/processed/wdpa/protected.shp -filter 'STATUS_YR<=2008' -dissolve2 fields=PA_DEF, PARENT_ISO -explode -proj +proj=moll +lon_0=0 +x_0=0 +y_0=0 +datum=WGS84 +units=m +no_defs +type=crs -each AREA=this.area -o /Users/sofia/Documents/Repos/skytruth_30x30/data/processed/wdpa/timeseries/protected_dissolved_2008.shp"
   ]
  },
  {
   "cell_type": "code",
   "execution_count": null,
   "metadata": {},
   "outputs": [],
   "source": [
    "!mapshaper-xl 16gb /Users/sofia/Documents/Repos/skytruth_30x30/data/processed/wdpa/protected.shp -filter 'STATUS_YR<=2009' -dissolve2 fields=PA_DEF, PARENT_ISO -explode -proj +proj=moll +lon_0=0 +x_0=0 +y_0=0 +datum=WGS84 +units=m +no_defs +type=crs -each AREA=this.area -o /Users/sofia/Documents/Repos/skytruth_30x30/data/processed/wdpa/timeseries/protected_dissolved_2009.shp"
   ]
  },
  {
   "cell_type": "code",
   "execution_count": null,
   "metadata": {},
   "outputs": [],
   "source": [
    "!mapshaper-xl 16gb /Users/sofia/Documents/Repos/skytruth_30x30/data/processed/wdpa/protected.shp -filter 'STATUS_YR<=2010' -dissolve2 fields=PA_DEF, PARENT_ISO -explode -proj +proj=moll +lon_0=0 +x_0=0 +y_0=0 +datum=WGS84 +units=m +no_defs +type=crs -each AREA=this.area -o /Users/sofia/Documents/Repos/skytruth_30x30/data/processed/wdpa/timeseries/protected_dissolved_2010.shp"
   ]
  },
  {
   "cell_type": "code",
   "execution_count": null,
   "metadata": {},
   "outputs": [],
   "source": [
    "!mapshaper-xl 16gb /Users/sofia/Documents/Repos/skytruth_30x30/data/processed/wdpa/protected.shp -filter 'STATUS_YR<=2011' -dissolve2 fields=PA_DEF, PARENT_ISO -explode -proj +proj=moll +lon_0=0 +x_0=0 +y_0=0 +datum=WGS84 +units=m +no_defs +type=crs -each AREA=this.area -o /Users/sofia/Documents/Repos/skytruth_30x30/data/processed/wdpa/timeseries/protected_dissolved_2011.shp"
   ]
  },
  {
   "cell_type": "code",
   "execution_count": null,
   "metadata": {},
   "outputs": [],
   "source": [
    "!mapshaper-xl 16gb /Users/sofia/Documents/Repos/skytruth_30x30/data/processed/wdpa/protected.shp -filter 'STATUS_YR<=2012' -dissolve2 fields=PA_DEF, PARENT_ISO -explode -proj +proj=moll +lon_0=0 +x_0=0 +y_0=0 +datum=WGS84 +units=m +no_defs +type=crs -each AREA=this.area -o /Users/sofia/Documents/Repos/skytruth_30x30/data/processed/wdpa/timeseries/protected_dissolved_2012.shp"
   ]
  },
  {
   "cell_type": "code",
   "execution_count": null,
   "metadata": {},
   "outputs": [],
   "source": [
    "!mapshaper-xl 16gb /Users/sofia/Documents/Repos/skytruth_30x30/data/processed/wdpa/protected.shp -filter 'STATUS_YR<=2013' -dissolve2 fields=PA_DEF, PARENT_ISO -explode -proj +proj=moll +lon_0=0 +x_0=0 +y_0=0 +datum=WGS84 +units=m +no_defs +type=crs -each AREA=this.area -o /Users/sofia/Documents/Repos/skytruth_30x30/data/processed/wdpa/timeseries/protected_dissolved_2013.shp"
   ]
  },
  {
   "cell_type": "code",
   "execution_count": null,
   "metadata": {},
   "outputs": [],
   "source": [
    "!mapshaper-xl 16gb /Users/sofia/Documents/Repos/skytruth_30x30/data/processed/wdpa/protected.shp -filter 'STATUS_YR<=2014' -dissolve2 fields=PA_DEF, PARENT_ISO -explode -proj +proj=moll +lon_0=0 +x_0=0 +y_0=0 +datum=WGS84 +units=m +no_defs +type=crs -each AREA=this.area -o /Users/sofia/Documents/Repos/skytruth_30x30/data/processed/wdpa/timeseries/protected_dissolved_2014.shp"
   ]
  },
  {
   "cell_type": "code",
   "execution_count": null,
   "metadata": {},
   "outputs": [],
   "source": [
    "!mapshaper-xl 16gb /Users/sofia/Documents/Repos/skytruth_30x30/data/processed/wdpa/protected.shp -filter 'STATUS_YR<=2015' -dissolve2 fields=PA_DEF, PARENT_ISO -explode -proj +proj=moll +lon_0=0 +x_0=0 +y_0=0 +datum=WGS84 +units=m +no_defs +type=crs -each AREA=this.area -o /Users/sofia/Documents/Repos/skytruth_30x30/data/processed/wdpa/timeseries/protected_dissolved_2015.shp"
   ]
  },
  {
   "cell_type": "code",
   "execution_count": null,
   "metadata": {},
   "outputs": [],
   "source": [
    "!mapshaper-xl 16gb /Users/sofia/Documents/Repos/skytruth_30x30/data/processed/wdpa/protected.shp -filter 'STATUS_YR<=2016' -dissolve2 fields=PA_DEF, PARENT_ISO -explode -proj +proj=moll +lon_0=0 +x_0=0 +y_0=0 +datum=WGS84 +units=m +no_defs +type=crs -each AREA=this.area -o /Users/sofia/Documents/Repos/skytruth_30x30/data/processed/wdpa/timeseries/protected_dissolved_2016.shp"
   ]
  },
  {
   "cell_type": "code",
   "execution_count": null,
   "metadata": {},
   "outputs": [],
   "source": [
    "!mapshaper-xl 16gb /Users/sofia/Documents/Repos/skytruth_30x30/data/processed/wdpa/protected.shp -filter 'STATUS_YR<=2017' -dissolve2 fields=PA_DEF, PARENT_ISO -explode -proj +proj=moll +lon_0=0 +x_0=0 +y_0=0 +datum=WGS84 +units=m +no_defs +type=crs -each AREA=this.area -o /Users/sofia/Documents/Repos/skytruth_30x30/data/processed/wdpa/timeseries/protected_dissolved_2017.shp"
   ]
  },
  {
   "cell_type": "code",
   "execution_count": null,
   "metadata": {},
   "outputs": [],
   "source": [
    "!mapshaper-xl 16gb /Users/sofia/Documents/Repos/skytruth_30x30/data/processed/wdpa/protected.shp -filter 'STATUS_YR<=2018' -dissolve2 fields=PA_DEF, PARENT_ISO -explode -proj +proj=moll +lon_0=0 +x_0=0 +y_0=0 +datum=WGS84 +units=m +no_defs +type=crs -each AREA=this.area -o /Users/sofia/Documents/Repos/skytruth_30x30/data/processed/wdpa/timeseries/protected_dissolved_2018.shp"
   ]
  },
  {
   "cell_type": "code",
   "execution_count": null,
   "metadata": {},
   "outputs": [],
   "source": [
    "!mapshaper-xl 16gb /Users/sofia/Documents/Repos/skytruth_30x30/data/processed/wdpa/protected.shp -filter 'STATUS_YR<=2019' -dissolve2 fields=PA_DEF, PARENT_ISO -explode -proj +proj=moll +lon_0=0 +x_0=0 +y_0=0 +datum=WGS84 +units=m +no_defs +type=crs -each AREA=this.area -o /Users/sofia/Documents/Repos/skytruth_30x30/data/processed/wdpa/timeseries/protected_dissolved_2019.shp"
   ]
  },
  {
   "cell_type": "code",
   "execution_count": null,
   "metadata": {},
   "outputs": [],
   "source": [
    "!mapshaper-xl 16gb /Users/sofia/Documents/Repos/skytruth_30x30/data/processed/wdpa/protected.shp -filter 'STATUS_YR<=2020' -dissolve2 fields=PA_DEF, PARENT_ISO -explode -proj +proj=moll +lon_0=0 +x_0=0 +y_0=0 +datum=WGS84 +units=m +no_defs +type=crs -each AREA=this.area -o /Users/sofia/Documents/Repos/skytruth_30x30/data/processed/wdpa/timeseries/protected_dissolved_2020.shp"
   ]
  },
  {
   "cell_type": "code",
   "execution_count": null,
   "metadata": {},
   "outputs": [],
   "source": [
    "!mapshaper-xl 16gb /Users/sofia/Documents/Repos/skytruth_30x30/data/processed/wdpa/protected.shp -filter 'STATUS_YR<=2021' -dissolve2 fields=PA_DEF, PARENT_ISO -explode -proj +proj=moll +lon_0=0 +x_0=0 +y_0=0 +datum=WGS84 +units=m +no_defs +type=crs -each AREA=this.area -o /Users/sofia/Documents/Repos/skytruth_30x30/data/processed/wdpa/timeseries/protected_dissolved_2021.shp"
   ]
  },
  {
   "cell_type": "code",
   "execution_count": null,
   "metadata": {},
   "outputs": [],
   "source": [
    "!mapshaper-xl 16gb /Users/sofia/Documents/Repos/skytruth_30x30/data/processed/wdpa/protected.shp -filter 'STATUS_YR<=2022' -dissolve2 fields=PA_DEF, PARENT_ISO -explode -proj +proj=moll +lon_0=0 +x_0=0 +y_0=0 +datum=WGS84 +units=m +no_defs +type=crs -each AREA=this.area -o /Users/sofia/Documents/Repos/skytruth_30x30/data/processed/wdpa/timeseries/protected_dissolved_2022.shp"
   ]
  },
  {
   "cell_type": "code",
   "execution_count": null,
   "metadata": {},
   "outputs": [],
   "source": [
    "!mapshaper-xl 16gb /Users/sofia/Documents/Repos/skytruth_30x30/data/processed/wdpa/protected.shp -filter 'STATUS_YR<=2023' -dissolve2 fields=PA_DEF, PARENT_ISO -explode -proj +proj=moll +lon_0=0 +x_0=0 +y_0=0 +datum=WGS84 +units=m +no_defs +type=crs -each AREA=this.area -o /Users/sofia/Documents/Repos/skytruth_30x30/data/processed/wdpa/timeseries/protected_dissolved_2023.shp"
   ]
  },
  {
   "cell_type": "markdown",
   "metadata": {},
   "source": [
    "### Calculate coverage statistics"
   ]
  },
  {
   "cell_type": "markdown",
   "metadata": {},
   "source": [
    "**Countries per PARENT_ISO**"
   ]
  },
  {
   "cell_type": "code",
   "execution_count": 52,
   "metadata": {},
   "outputs": [],
   "source": [
    "p2023 = gpd.read_file(path_out + \"/wdpa/timeseries/protected_dissolved_2023.shp\")"
   ]
  },
  {
   "cell_type": "code",
   "execution_count": 53,
   "metadata": {},
   "outputs": [
    {
     "data": {
      "text/plain": [
       "array(['ATG', 'BRB', 'BRA', 'GBR', 'CHL', 'COL', 'CRI', 'DOM', 'ECU',\n",
       "       'JAM', 'NLD', 'PER', 'PAN', 'SUR', 'VEN', 'USA', 'AUS', 'CAN',\n",
       "       'FRA', 'IRN', 'JPN', 'KEN', 'KOR', 'MYS', 'MRT', 'MOZ', 'NOR',\n",
       "       'PHL', 'POL', 'SAU', 'SEN', 'SWE', 'THA', 'TUN', 'CMR', 'IDN',\n",
       "       'MUS', 'PRT', 'SYC', 'ISL', 'NZL', 'EST', 'GEO', 'UKR', 'MEX',\n",
       "       'BHS', 'BLZ', 'GMB', 'MDG', 'HRV', 'FJI', 'LKA', 'ARG', 'ZAF',\n",
       "       'PNG', 'TON', 'PLW', 'COK', 'BGD', 'AGO', 'ALB', 'DNK', 'ITA',\n",
       "       'PAK', 'FIN', 'VNM', 'MMR', 'CHN', 'SGP', 'DEU', 'ROU', 'EGY',\n",
       "       'SLB', 'VUT', 'BGR', 'MAR', 'MLT', 'DMA', 'LCA', 'OMN', 'GTM',\n",
       "       'NIC', 'TTO', 'WSM', 'TZA', 'GRC', 'LBN', 'CUB', 'ISR', 'GRD',\n",
       "       'VCT', 'BRN', 'ESP', 'JOR', 'ARE', 'HND', 'GNQ', 'KNA', 'LTU',\n",
       "       'GNB', 'NGA', 'LVA', 'GUY', 'KAZ', 'BEL', 'GIN', 'IRL', 'RUS',\n",
       "       'KHM', 'QAT', 'GAB', 'MDV', 'AZE', 'NAM', 'TUR', 'CPV', 'COG',\n",
       "       'TUV', 'MCO', 'TKM', 'SVN', 'SLE', 'KIR', 'COM', 'NIU', 'FSM',\n",
       "       'GHA', 'IOT', 'IND', 'LBR', 'CIV', 'SDN', 'SHN', 'SJM', 'UMI',\n",
       "       'ATA', 'SYR', 'TLS', 'FRA;ITA;MCO', 'URY', 'ABNJ', 'NLD;DEU;DNK',\n",
       "       'FIN;SWE', 'MHL', 'SLV', 'DZA', 'STP', 'YEM', 'COD', 'CYP', 'KWT',\n",
       "       'HTI', 'MNE', 'BHR', 'LBY'], dtype=object)"
      ]
     },
     "execution_count": 53,
     "metadata": {},
     "output_type": "execute_result"
    }
   ],
   "source": [
    "p2023['PARENT_ISO'].unique()"
   ]
  },
  {
   "cell_type": "code",
   "execution_count": 19,
   "metadata": {},
   "outputs": [],
   "source": [
    "folder_path = path_out + '/wdpa/timeseries'\n",
    "years_range = range(2000, 2024)  # Range of years from 2000 to 2023\n",
    "\n",
    "# Create an empty list to store the results\n",
    "results_list = []\n",
    "\n",
    "for year in years_range:\n",
    "    filename = f'protected_dissolved_{year}.shp'\n",
    "    file_path = os.path.join(folder_path, filename)\n",
    "    \n",
    "    if os.path.exists(file_path):\n",
    "        gdf = gpd.read_file(file_path)\n",
    "        grouped = gdf.groupby('PARENT_ISO')['AREA'].sum().reset_index()\n",
    "        \n",
    "        # Create columns\n",
    "        grouped['year'] = year\n",
    "        grouped['protection_type'] = 'MPA+OECM'\n",
    "        grouped.rename(columns={'PARENT_ISO': 'location_id', 'AREA': 'cumsum_area'}, inplace=True)\n",
    "        \n",
    "        # Append the result to the list\n",
    "        results_list.append(grouped)\n",
    "\n",
    "# Concatenate the list of results into a single DataFrame\n",
    "final_df = pd.concat(results_list, ignore_index=True)\n"
   ]
  },
  {
   "cell_type": "code",
   "execution_count": 22,
   "metadata": {},
   "outputs": [],
   "source": [
    "# Convert area to km2\n",
    "final_df['cumsum_area'] =final_df['cumsum_area']/1000000"
   ]
  },
  {
   "cell_type": "markdown",
   "metadata": {},
   "source": [
    "**Global**"
   ]
  },
  {
   "cell_type": "code",
   "execution_count": 41,
   "metadata": {},
   "outputs": [
    {
     "data": {
      "text/html": [
       "<div>\n",
       "<style scoped>\n",
       "    .dataframe tbody tr th:only-of-type {\n",
       "        vertical-align: middle;\n",
       "    }\n",
       "\n",
       "    .dataframe tbody tr th {\n",
       "        vertical-align: top;\n",
       "    }\n",
       "\n",
       "    .dataframe thead th {\n",
       "        text-align: right;\n",
       "    }\n",
       "</style>\n",
       "<table border=\"1\" class=\"dataframe\">\n",
       "  <thead>\n",
       "    <tr style=\"text-align: right;\">\n",
       "      <th></th>\n",
       "      <th>location_id</th>\n",
       "      <th>cumsum_area</th>\n",
       "      <th>year</th>\n",
       "      <th>protection_type</th>\n",
       "    </tr>\n",
       "  </thead>\n",
       "  <tbody>\n",
       "    <tr>\n",
       "      <th>0</th>\n",
       "      <td>ABNJ</td>\n",
       "      <td>594174.66</td>\n",
       "      <td>2000</td>\n",
       "      <td>MPA+OECM</td>\n",
       "    </tr>\n",
       "    <tr>\n",
       "      <th>1</th>\n",
       "      <td>AGO</td>\n",
       "      <td>0.42</td>\n",
       "      <td>2000</td>\n",
       "      <td>MPA+OECM</td>\n",
       "    </tr>\n",
       "    <tr>\n",
       "      <th>2</th>\n",
       "      <td>ALB</td>\n",
       "      <td>103.05</td>\n",
       "      <td>2000</td>\n",
       "      <td>MPA+OECM</td>\n",
       "    </tr>\n",
       "    <tr>\n",
       "      <th>3</th>\n",
       "      <td>ARE</td>\n",
       "      <td>78.52</td>\n",
       "      <td>2000</td>\n",
       "      <td>MPA+OECM</td>\n",
       "    </tr>\n",
       "    <tr>\n",
       "      <th>4</th>\n",
       "      <td>ARG</td>\n",
       "      <td>6155.67</td>\n",
       "      <td>2000</td>\n",
       "      <td>MPA+OECM</td>\n",
       "    </tr>\n",
       "    <tr>\n",
       "      <th>...</th>\n",
       "      <td>...</td>\n",
       "      <td>...</td>\n",
       "      <td>...</td>\n",
       "      <td>...</td>\n",
       "    </tr>\n",
       "    <tr>\n",
       "      <th>3571</th>\n",
       "      <td>GLOB</td>\n",
       "      <td>28125365.96</td>\n",
       "      <td>2019</td>\n",
       "      <td>MPA+OECM</td>\n",
       "    </tr>\n",
       "    <tr>\n",
       "      <th>3572</th>\n",
       "      <td>GLOB</td>\n",
       "      <td>29624663.84</td>\n",
       "      <td>2020</td>\n",
       "      <td>MPA+OECM</td>\n",
       "    </tr>\n",
       "    <tr>\n",
       "      <th>3573</th>\n",
       "      <td>GLOB</td>\n",
       "      <td>29739178.77</td>\n",
       "      <td>2021</td>\n",
       "      <td>MPA+OECM</td>\n",
       "    </tr>\n",
       "    <tr>\n",
       "      <th>3574</th>\n",
       "      <td>GLOB</td>\n",
       "      <td>29910678.77</td>\n",
       "      <td>2022</td>\n",
       "      <td>MPA+OECM</td>\n",
       "    </tr>\n",
       "    <tr>\n",
       "      <th>3575</th>\n",
       "      <td>GLOB</td>\n",
       "      <td>29910724.21</td>\n",
       "      <td>2023</td>\n",
       "      <td>MPA+OECM</td>\n",
       "    </tr>\n",
       "  </tbody>\n",
       "</table>\n",
       "<p>3576 rows × 4 columns</p>\n",
       "</div>"
      ],
      "text/plain": [
       "     location_id  cumsum_area  year protection_type\n",
       "0           ABNJ    594174.66  2000        MPA+OECM\n",
       "1            AGO         0.42  2000        MPA+OECM\n",
       "2            ALB       103.05  2000        MPA+OECM\n",
       "3            ARE        78.52  2000        MPA+OECM\n",
       "4            ARG      6155.67  2000        MPA+OECM\n",
       "...          ...          ...   ...             ...\n",
       "3571        GLOB  28125365.96  2019        MPA+OECM\n",
       "3572        GLOB  29624663.84  2020        MPA+OECM\n",
       "3573        GLOB  29739178.77  2021        MPA+OECM\n",
       "3574        GLOB  29910678.77  2022        MPA+OECM\n",
       "3575        GLOB  29910724.21  2023        MPA+OECM\n",
       "\n",
       "[3576 rows x 4 columns]"
      ]
     },
     "execution_count": 41,
     "metadata": {},
     "output_type": "execute_result"
    }
   ],
   "source": [
    "# Calculate global per year and append it\n",
    "glob_df = final_df.groupby(['year', 'protection_type'])['cumsum_area'].sum().reset_index()\n",
    "\n",
    "glob_df['location_id'] = 'GLOB'\n",
    "\n",
    "final_df2 = pd.concat([final_df, glob_df], ignore_index=True)\n",
    "final_df2"
   ]
  },
  {
   "cell_type": "code",
   "execution_count": 42,
   "metadata": {},
   "outputs": [],
   "source": [
    "# Reorder the columns and add column last updated\n",
    "final_df2 = final_df2[['location_id', 'year', 'protection_type', 'cumsum_area']]\n",
    "\n",
    "current_date = datetime.now().strftime('%Y-%m-%d')\n",
    "\n",
    "final_df2 = final_df2.copy()\n",
    "final_df2['last_updated'] = current_date"
   ]
  },
  {
   "cell_type": "markdown",
   "metadata": {},
   "source": [
    "**Regions**"
   ]
  },
  {
   "cell_type": "code",
   "execution_count": 47,
   "metadata": {},
   "outputs": [],
   "source": [
    "# List of dictionaries for data in Region_ISO3_PP.txt (list of regions used in the Protected Planet database)\n",
    "regions_data = [\n",
    "    {\n",
    "        'region_iso': 'AS',\n",
    "        'region_name': 'Asia & Pacific',\n",
    "        'country_iso_3s': [\n",
    "            \"AFG\", \"ASM\", \"AUS\", \"BGD\", \"BRN\", \"BTN\", \"CCK\", \"CHN\", \"COK\", \"CXR\", \"FJI\", \"FSM\", \"GUM\", \"HKG\", \"IDN\",\n",
    "            \"IND\", \"IOT\", \"IRN\", \"JPN\", \"KHM\", \"KIR\", \"KOR\", \"LAO\", \"LKA\", \"MAC\", \"MDV\", \"MHL\", \"MMR\", \"MNG\", \"MNP\",\n",
    "            \"MYS\", \"NCL\", \"NFK\", \"NIU\", \"NPL\", \"NRU\", \"NZL\", \"PAK\", \"PCN\", \"PHL\", \"PLW\", \"PNG\", \"PRK\", \"PYF\", \"SGP\",\n",
    "            \"SLB\", \"THA\", \"TKL\", \"TLS\", \"TON\", \"TUV\", \"TWN\", \"VNM\", \"VUT\", \"WLF\", \"WSM\"\n",
    "        ]\n",
    "    },\n",
    "    {\n",
    "        'region_iso': 'AF',\n",
    "        'region_name': 'Africa',\n",
    "        'country_iso_3s': [\n",
    "            \"AGO\", \"BDI\", \"BEN\", \"BFA\", \"BWA\", \"CAF\", \"CIV\", \"CMR\", \"COD\", \"COG\", \"COM\", \"CPV\", \"DJI\", \"DZA\", \"EGY\",\n",
    "            \"ERI\", \"ESH\", \"ETH\", \"GAB\", \"GHA\", \"GIN\", \"GMB\", \"GNB\", \"GNQ\", \"KEN\", \"LBR\", \"LBY\", \"LSO\", \"MAR\", \"MDG\",\n",
    "            \"MLI\", \"MOZ\", \"MRT\", \"MUS\", \"MWI\", \"MYT\", \"NAM\", \"NER\", \"NGA\", \"REU\", \"RWA\", \"SDN\", \"SEN\", \"SHN\", \"SLE\",\n",
    "            \"SOM\", \"SSD\", \"STP\", \"SWZ\", \"SYC\", \"TCD\", \"TGO\", \"TUN\", \"TZA\", \"UGA\", \"ZAF\", \"ZMB\", \"ZWE\"\n",
    "        ]\n",
    "    },\n",
    "    {\n",
    "        'region_iso': 'EU',\n",
    "        'region_name': 'Europe',\n",
    "        'country_iso_3s': [\n",
    "            \"ALA\", \"ALB\", \"AND\", \"ARM\", \"AUT\", \"AZE\", \"BEL\", \"BGR\", \"BIH\", \"BLR\", \"CHE\", \"CYP\", \"CZE\", \"DEU\", \"DNK\",\n",
    "            \"ESP\", \"EST\", \"FIN\", \"FRA\", \"FRO\", \"GBR\", \"GEO\", \"GGY\", \"GIB\", \"GRC\", \"HRV\", \"HUN\", \"IMN\", \"IRL\", \"ISL\",\n",
    "            \"ISR\", \"ITA\", \"JEY\", \"KAZ\", \"KGZ\", \"LIE\", \"LTU\", \"LUX\", \"LVA\", \"MCO\", \"MDA\", \"MKD\", \"MLT\", \"MNE\", \"NLD\",\n",
    "            \"NOR\", \"POL\", \"PRT\", \"ROU\", \"RUS\", \"SJM\", \"SMR\", \"SRB\", \"SVK\", \"SVN\", \"SWE\", \"TJK\", \"TKM\", \"TUR\", \"UKR\",\n",
    "            \"UZB\", \"VAT\"\n",
    "        ]\n",
    "    },\n",
    "    {\n",
    "        'region_iso': 'SA',\n",
    "        'region_name': 'Latin America & Caribbean',\n",
    "        'country_iso_3s': [\n",
    "            \"ABW\", \"AIA\", \"ARG\", \"ATG\", \"BES\", \"BHS\", \"BLM\", \"BLZ\", \"BMU\", \"BOL\", \"BRA\", \"BRB\", \"CHL\", \"COL\", \"CRI\",\n",
    "            \"CUB\", \"CUW\", \"CYM\", \"DMA\", \"DOM\", \"ECU\", \"FLK\", \"GLP\", \"GRD\", \"GTM\", \"GUF\", \"GUY\", \"HND\", \"HTI\", \"JAM\",\n",
    "            \"KNA\", \"LCA\", \"MAF\", \"MEX\", \"MSR\", \"MTQ\", \"NIC\", \"PAN\", \"PER\", \"PRI\", \"PRY\", \"SLV\", \"SUR\", \"SXM\", \"TCA\",\n",
    "            \"TTO\", \"UMI\", \"URY\", \"VCT\", \"VEN\", \"VGB\", \"VIR\"\n",
    "        ]\n",
    "    },\n",
    "    {\n",
    "        'region_iso': 'PO',\n",
    "        'region_name': 'Polar',\n",
    "        'country_iso_3s': [\n",
    "            \"ATF\", \"BVT\", \"GRL\", \"HMD\", \"SGS\"\n",
    "        ]\n",
    "    },\n",
    "    {\n",
    "        'region_iso': 'NA',\n",
    "        'region_name': 'North America',\n",
    "        'country_iso_3s': [\n",
    "            \"CAN\", \"SPM\", \"USA\"\n",
    "        ]\n",
    "    },\n",
    "    {\n",
    "        'region_iso': 'GL',\n",
    "        'region_name': 'Global',\n",
    "        'country_iso_3s': []\n",
    "    },\n",
    "    {\n",
    "        'region_iso': 'WA',\n",
    "        'region_name': 'West Asia',\n",
    "        'country_iso_3s': [\n",
    "            \"ARE\", \"BHR\", \"IRQ\", \"JOR\", \"KWT\", \"LBN\", \"OMN\", \"PSE\", \"QAT\", \"SAU\", \"SYR\", \"YEM\"\n",
    "        ]\n",
    "    }\n",
    "]\n",
    "\n",
    "# Convert the region data to a dictionary that maps each country to its region name\n",
    "country_to_region = {}\n",
    "for region in regions_data:\n",
    "    for country in region['country_iso_3s']:\n",
    "        country_to_region[country] = region['region_name']"
   ]
  },
  {
   "cell_type": "code",
   "execution_count": 48,
   "metadata": {},
   "outputs": [
    {
     "data": {
      "text/html": [
       "<div>\n",
       "<style scoped>\n",
       "    .dataframe tbody tr th:only-of-type {\n",
       "        vertical-align: middle;\n",
       "    }\n",
       "\n",
       "    .dataframe tbody tr th {\n",
       "        vertical-align: top;\n",
       "    }\n",
       "\n",
       "    .dataframe thead th {\n",
       "        text-align: right;\n",
       "    }\n",
       "</style>\n",
       "<table border=\"1\" class=\"dataframe\">\n",
       "  <thead>\n",
       "    <tr style=\"text-align: right;\">\n",
       "      <th></th>\n",
       "      <th>location_id</th>\n",
       "      <th>cumsum_area</th>\n",
       "      <th>year</th>\n",
       "      <th>protection_type</th>\n",
       "      <th>region</th>\n",
       "    </tr>\n",
       "  </thead>\n",
       "  <tbody>\n",
       "    <tr>\n",
       "      <th>0</th>\n",
       "      <td>ABNJ</td>\n",
       "      <td>594174.66</td>\n",
       "      <td>2000</td>\n",
       "      <td>MPA+OECM</td>\n",
       "      <td>NaN</td>\n",
       "    </tr>\n",
       "    <tr>\n",
       "      <th>1</th>\n",
       "      <td>AGO</td>\n",
       "      <td>0.42</td>\n",
       "      <td>2000</td>\n",
       "      <td>MPA+OECM</td>\n",
       "      <td>Africa</td>\n",
       "    </tr>\n",
       "    <tr>\n",
       "      <th>2</th>\n",
       "      <td>ALB</td>\n",
       "      <td>103.05</td>\n",
       "      <td>2000</td>\n",
       "      <td>MPA+OECM</td>\n",
       "      <td>Europe</td>\n",
       "    </tr>\n",
       "    <tr>\n",
       "      <th>3</th>\n",
       "      <td>ARE</td>\n",
       "      <td>78.52</td>\n",
       "      <td>2000</td>\n",
       "      <td>MPA+OECM</td>\n",
       "      <td>West Asia</td>\n",
       "    </tr>\n",
       "    <tr>\n",
       "      <th>4</th>\n",
       "      <td>ARG</td>\n",
       "      <td>6155.67</td>\n",
       "      <td>2000</td>\n",
       "      <td>MPA+OECM</td>\n",
       "      <td>Latin America &amp; Caribbean</td>\n",
       "    </tr>\n",
       "    <tr>\n",
       "      <th>...</th>\n",
       "      <td>...</td>\n",
       "      <td>...</td>\n",
       "      <td>...</td>\n",
       "      <td>...</td>\n",
       "      <td>...</td>\n",
       "    </tr>\n",
       "    <tr>\n",
       "      <th>3547</th>\n",
       "      <td>VNM</td>\n",
       "      <td>5036.97</td>\n",
       "      <td>2023</td>\n",
       "      <td>MPA+OECM</td>\n",
       "      <td>Asia &amp; Pacific</td>\n",
       "    </tr>\n",
       "    <tr>\n",
       "      <th>3548</th>\n",
       "      <td>VUT</td>\n",
       "      <td>83.83</td>\n",
       "      <td>2023</td>\n",
       "      <td>MPA+OECM</td>\n",
       "      <td>Asia &amp; Pacific</td>\n",
       "    </tr>\n",
       "    <tr>\n",
       "      <th>3549</th>\n",
       "      <td>WSM</td>\n",
       "      <td>199.59</td>\n",
       "      <td>2023</td>\n",
       "      <td>MPA+OECM</td>\n",
       "      <td>Asia &amp; Pacific</td>\n",
       "    </tr>\n",
       "    <tr>\n",
       "      <th>3550</th>\n",
       "      <td>YEM</td>\n",
       "      <td>4108.19</td>\n",
       "      <td>2023</td>\n",
       "      <td>MPA+OECM</td>\n",
       "      <td>West Asia</td>\n",
       "    </tr>\n",
       "    <tr>\n",
       "      <th>3551</th>\n",
       "      <td>ZAF</td>\n",
       "      <td>242387.88</td>\n",
       "      <td>2023</td>\n",
       "      <td>MPA+OECM</td>\n",
       "      <td>Africa</td>\n",
       "    </tr>\n",
       "  </tbody>\n",
       "</table>\n",
       "<p>3552 rows × 5 columns</p>\n",
       "</div>"
      ],
      "text/plain": [
       "     location_id  cumsum_area  year protection_type                     region\n",
       "0           ABNJ    594174.66  2000        MPA+OECM                        NaN\n",
       "1            AGO         0.42  2000        MPA+OECM                     Africa\n",
       "2            ALB       103.05  2000        MPA+OECM                     Europe\n",
       "3            ARE        78.52  2000        MPA+OECM                  West Asia\n",
       "4            ARG      6155.67  2000        MPA+OECM  Latin America & Caribbean\n",
       "...          ...          ...   ...             ...                        ...\n",
       "3547         VNM      5036.97  2023        MPA+OECM             Asia & Pacific\n",
       "3548         VUT        83.83  2023        MPA+OECM             Asia & Pacific\n",
       "3549         WSM       199.59  2023        MPA+OECM             Asia & Pacific\n",
       "3550         YEM      4108.19  2023        MPA+OECM                  West Asia\n",
       "3551         ZAF    242387.88  2023        MPA+OECM                     Africa\n",
       "\n",
       "[3552 rows x 5 columns]"
      ]
     },
     "execution_count": 48,
     "metadata": {},
     "output_type": "execute_result"
    }
   ],
   "source": [
    "final_df['region'] = final_df['location_id'].map(country_to_region)\n",
    "final_df"
   ]
  },
  {
   "cell_type": "code",
   "execution_count": 49,
   "metadata": {},
   "outputs": [
    {
     "data": {
      "text/html": [
       "<div>\n",
       "<style scoped>\n",
       "    .dataframe tbody tr th:only-of-type {\n",
       "        vertical-align: middle;\n",
       "    }\n",
       "\n",
       "    .dataframe tbody tr th {\n",
       "        vertical-align: top;\n",
       "    }\n",
       "\n",
       "    .dataframe thead th {\n",
       "        text-align: right;\n",
       "    }\n",
       "</style>\n",
       "<table border=\"1\" class=\"dataframe\">\n",
       "  <thead>\n",
       "    <tr style=\"text-align: right;\">\n",
       "      <th></th>\n",
       "      <th>location_id</th>\n",
       "      <th>cumsum_area</th>\n",
       "      <th>year</th>\n",
       "      <th>protection_type</th>\n",
       "      <th>region</th>\n",
       "    </tr>\n",
       "  </thead>\n",
       "  <tbody>\n",
       "    <tr>\n",
       "      <th>0</th>\n",
       "      <td>ABNJ</td>\n",
       "      <td>594174.66</td>\n",
       "      <td>2000</td>\n",
       "      <td>MPA+OECM</td>\n",
       "      <td>NaN</td>\n",
       "    </tr>\n",
       "    <tr>\n",
       "      <th>5</th>\n",
       "      <td>ATA</td>\n",
       "      <td>3594.42</td>\n",
       "      <td>2000</td>\n",
       "      <td>MPA+OECM</td>\n",
       "      <td>NaN</td>\n",
       "    </tr>\n",
       "    <tr>\n",
       "      <th>37</th>\n",
       "      <td>FIN;SWE</td>\n",
       "      <td>3541.14</td>\n",
       "      <td>2000</td>\n",
       "      <td>MPA+OECM</td>\n",
       "      <td>NaN</td>\n",
       "    </tr>\n",
       "    <tr>\n",
       "      <th>131</th>\n",
       "      <td>ABNJ</td>\n",
       "      <td>594174.66</td>\n",
       "      <td>2001</td>\n",
       "      <td>MPA+OECM</td>\n",
       "      <td>NaN</td>\n",
       "    </tr>\n",
       "    <tr>\n",
       "      <th>136</th>\n",
       "      <td>ATA</td>\n",
       "      <td>3594.42</td>\n",
       "      <td>2001</td>\n",
       "      <td>MPA+OECM</td>\n",
       "      <td>NaN</td>\n",
       "    </tr>\n",
       "    <tr>\n",
       "      <th>...</th>\n",
       "      <td>...</td>\n",
       "      <td>...</td>\n",
       "      <td>...</td>\n",
       "      <td>...</td>\n",
       "      <td>...</td>\n",
       "    </tr>\n",
       "    <tr>\n",
       "      <th>3397</th>\n",
       "      <td>ABNJ</td>\n",
       "      <td>2811451.69</td>\n",
       "      <td>2023</td>\n",
       "      <td>MPA+OECM</td>\n",
       "      <td>NaN</td>\n",
       "    </tr>\n",
       "    <tr>\n",
       "      <th>3402</th>\n",
       "      <td>ATA</td>\n",
       "      <td>3570.36</td>\n",
       "      <td>2023</td>\n",
       "      <td>MPA+OECM</td>\n",
       "      <td>NaN</td>\n",
       "    </tr>\n",
       "    <tr>\n",
       "      <th>3439</th>\n",
       "      <td>FIN;SWE</td>\n",
       "      <td>3541.14</td>\n",
       "      <td>2023</td>\n",
       "      <td>MPA+OECM</td>\n",
       "      <td>NaN</td>\n",
       "    </tr>\n",
       "    <tr>\n",
       "      <th>3442</th>\n",
       "      <td>FRA;ITA;MCO</td>\n",
       "      <td>87742.14</td>\n",
       "      <td>2023</td>\n",
       "      <td>MPA+OECM</td>\n",
       "      <td>NaN</td>\n",
       "    </tr>\n",
       "    <tr>\n",
       "      <th>3502</th>\n",
       "      <td>NLD;DEU;DNK</td>\n",
       "      <td>11550.01</td>\n",
       "      <td>2023</td>\n",
       "      <td>MPA+OECM</td>\n",
       "      <td>NaN</td>\n",
       "    </tr>\n",
       "  </tbody>\n",
       "</table>\n",
       "<p>110 rows × 5 columns</p>\n",
       "</div>"
      ],
      "text/plain": [
       "      location_id  cumsum_area  year protection_type region\n",
       "0            ABNJ    594174.66  2000        MPA+OECM    NaN\n",
       "5             ATA      3594.42  2000        MPA+OECM    NaN\n",
       "37        FIN;SWE      3541.14  2000        MPA+OECM    NaN\n",
       "131          ABNJ    594174.66  2001        MPA+OECM    NaN\n",
       "136           ATA      3594.42  2001        MPA+OECM    NaN\n",
       "...           ...          ...   ...             ...    ...\n",
       "3397         ABNJ   2811451.69  2023        MPA+OECM    NaN\n",
       "3402          ATA      3570.36  2023        MPA+OECM    NaN\n",
       "3439      FIN;SWE      3541.14  2023        MPA+OECM    NaN\n",
       "3442  FRA;ITA;MCO     87742.14  2023        MPA+OECM    NaN\n",
       "3502  NLD;DEU;DNK     11550.01  2023        MPA+OECM    NaN\n",
       "\n",
       "[110 rows x 5 columns]"
      ]
     },
     "execution_count": 49,
     "metadata": {},
     "output_type": "execute_result"
    }
   ],
   "source": [
    "final_df[final_df.region.isnull()]"
   ]
  },
  {
   "cell_type": "code",
   "execution_count": 55,
   "metadata": {},
   "outputs": [
    {
     "data": {
      "text/plain": [
       "array(['ABNJ', 'AGO', 'ALB', 'ARE', 'ARG', 'ATA', 'ATG', 'AUS', 'AZE',\n",
       "       'BEL', 'BGD', 'BGR', 'BHR', 'BHS', 'BLZ', 'BRA', 'BRB', 'BRN',\n",
       "       'CAN', 'CHL', 'CHN', 'COD', 'COG', 'COK', 'COL', 'CRI', 'CUB',\n",
       "       'CYP', 'DEU', 'DMA', 'DNK', 'DOM', 'ECU', 'EGY', 'ESP', 'EST',\n",
       "       'FIN', 'FIN;SWE', 'FJI', 'FRA', 'FSM', 'GBR', 'GEO', 'GHA', 'GIN',\n",
       "       'GMB', 'GNB', 'GNQ', 'GRC', 'GRD', 'GTM', 'HND', 'HRV', 'IDN',\n",
       "       'IRL', 'IRN', 'ISL', 'ISR', 'ITA', 'JAM', 'JPN', 'KAZ', 'KEN',\n",
       "       'KHM', 'KIR', 'KNA', 'KOR', 'LBN', 'LBY', 'LCA', 'LKA', 'LTU',\n",
       "       'LVA', 'MAR', 'MCO', 'MDG', 'MDV', 'MEX', 'MHL', 'MLT', 'MMR',\n",
       "       'MNE', 'MOZ', 'MRT', 'MUS', 'MYS', 'NAM', 'NGA', 'NIC', 'NIU',\n",
       "       'NLD', 'NOR', 'NZL', 'OMN', 'PAK', 'PAN', 'PER', 'PHL', 'PLW',\n",
       "       'PNG', 'POL', 'PRT', 'ROU', 'RUS', 'SAU', 'SDN', 'SEN', 'SLB',\n",
       "       'SLE', 'SUR', 'SVN', 'SWE', 'SYC', 'SYR', 'THA', 'TKM', 'TLS',\n",
       "       'TON', 'TTO', 'TUN', 'TUR', 'TUV', 'TZA', 'UKR', 'USA', 'VCT',\n",
       "       'VEN', 'VNM', 'VUT', 'WSM', 'ZAF', 'DZA', 'FRA;ITA;MCO', 'IOT',\n",
       "       'GAB', 'IND', 'SGP', 'LBR', 'CIV', 'CPV', 'SLV', 'QAT', 'STP',\n",
       "       'SHN', 'YEM', 'NLD;DEU;DNK', 'URY', 'CMR', 'COM', 'KWT', 'SJM',\n",
       "       'GUY', 'UMI', 'HTI', 'JOR'], dtype=object)"
      ]
     },
     "execution_count": 55,
     "metadata": {},
     "output_type": "execute_result"
    }
   ],
   "source": [
    "final_df['location_id'].unique() "
   ]
  },
  {
   "cell_type": "code",
   "execution_count": 44,
   "metadata": {},
   "outputs": [],
   "source": [
    "final_df2.to_csv(path_out + '/tables/protected_area_coverage.csv', index=False)"
   ]
  }
 ],
 "metadata": {
  "kernelspec": {
   "display_name": "skytruth",
   "language": "python",
   "name": "python3"
  },
  "language_info": {
   "codemirror_mode": {
    "name": "ipython",
    "version": 3
   },
   "file_extension": ".py",
   "mimetype": "text/x-python",
   "name": "python",
   "nbconvert_exporter": "python",
   "pygments_lexer": "ipython3",
   "version": "3.11.4"
  },
  "orig_nbformat": 4
 },
 "nbformat": 4,
 "nbformat_minor": 2
}
